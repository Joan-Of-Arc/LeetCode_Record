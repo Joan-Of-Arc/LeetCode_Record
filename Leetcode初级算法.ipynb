{
 "cells": [
  {
   "cell_type": "markdown",
   "id": "d2fcf84c-9681-4d7b-b9df-0b6c93539264",
   "metadata": {},
   "source": [
    "# 数组"
   ]
  },
  {
   "cell_type": "markdown",
   "id": "3c2ed349-2298-44c0-9ade-7b003541b3b0",
   "metadata": {},
   "source": [
    "## 1. 删除排序数组中的重复项 (26)"
   ]
  },
  {
   "cell_type": "code",
   "execution_count": 3,
   "id": "1f8534e3-f0c2-43dd-8635-bb5dcca1a4ae",
   "metadata": {},
   "outputs": [],
   "source": [
    "from typing import List\n",
    "class Solution:\n",
    "    def removeDuplicates(self, nums: List[int]) -> int:\n",
    "        slow = fast = 1\n",
    "        while fast < len(nums):\n",
    "            if nums[fast-1] != nums[fast]:\n",
    "                nums[slow] = nums[fast]\n",
    "                slow += 1\n",
    "            fast += 1\n",
    "        return slow"
   ]
  },
  {
   "cell_type": "markdown",
   "id": "10b7340e-a3a0-4e79-9223-d0d69c28974f",
   "metadata": {},
   "source": [
    "双指针很容易搞定,试试其他操作"
   ]
  },
  {
   "cell_type": "code",
   "execution_count": 6,
   "id": "9f13f882-4477-43a7-93ed-cac5b5839706",
   "metadata": {},
   "outputs": [],
   "source": [
    "from typing import List\n",
    "class Solution:\n",
    "    def removeDuplicates(self, nums: List[int]) -> int:\n",
    "        s = list(set(nums))\n",
    "        s.sort()\n",
    "        ans = len(s)\n",
    "        for i in range(ans):\n",
    "            nums[i] = s[i]\n",
    "        return ans"
   ]
  },
  {
   "cell_type": "markdown",
   "id": "612dee10-9b42-4724-a97a-1876c1cb9500",
   "metadata": {},
   "source": [
    "差不多都是o(n)的时间复杂度，第二种方法的set和list操作不好判断时间代价。空间复杂度双指针是o(1)，第二种最坏应该是nums全不重复，那么就是o(n)的复杂度了。"
   ]
  },
  {
   "cell_type": "markdown",
   "id": "f33fbd29-0690-44ea-b1b6-38f734579747",
   "metadata": {},
   "source": [
    "## 2. 买卖股票的最佳时机 Ⅱ"
   ]
  },
  {
   "cell_type": "markdown",
   "id": "fe6e9be7-c9d4-46a6-a0da-5145334552ce",
   "metadata": {
    "tags": []
   },
   "source": [
    "### 重要的dp"
   ]
  },
  {
   "cell_type": "markdown",
   "id": "273d437b-48c5-4d9a-a0b7-28dc2e373324",
   "metadata": {},
   "source": [
    "感觉很像回溯之类的算法但是可能比我想的简单，或许是单调栈？"
   ]
  },
  {
   "cell_type": "code",
   "execution_count": 43,
   "id": "c71d7bef-9cfa-43d6-8df0-a1736eacedcb",
   "metadata": {},
   "outputs": [],
   "source": [
    "class Solution:\n",
    "    def maxProfit(self, prices: List[int]) -> int:\n",
    "        n = len(prices)\n",
    "        stk = [float(\"Inf\")]\n",
    "        profit = 0\n",
    "        for i, num in enumerate(prices):\n",
    "            if num < stk[-1]:\n",
    "                if len(stk) > 1: profit += stk[-1] - stk[0]\n",
    "                stk = [num]\n",
    "            else: stk.append(num)\n",
    "        if len(stk) > 1: profit += stk[-1] - stk[0]\n",
    "        return profit"
   ]
  },
  {
   "cell_type": "code",
   "execution_count": 44,
   "id": "1f009718-b27b-4889-931d-664f9b5904bc",
   "metadata": {},
   "outputs": [],
   "source": [
    "prices = [7,6,4,3,1]"
   ]
  },
  {
   "cell_type": "code",
   "execution_count": 45,
   "id": "c0b63598-7321-4aa5-9d0a-1216eabc6bd9",
   "metadata": {},
   "outputs": [
    {
     "data": {
      "text/plain": [
       "0"
      ]
     },
     "execution_count": 45,
     "metadata": {},
     "output_type": "execute_result"
    }
   ],
   "source": [
    "s = Solution()\n",
    "s.maxProfit(prices)"
   ]
  },
  {
   "cell_type": "markdown",
   "id": "edefe2ae-c84d-4001-9596-b565d34e8641",
   "metadata": {},
   "source": [
    "复杂度： 时间和空间应该都是o(n)"
   ]
  },
  {
   "cell_type": "markdown",
   "id": "a13649f3-056c-4689-ba1b-67e32cb107fe",
   "metadata": {},
   "source": [
    "最后题解果然是dp，但是单调栈的思路也和贪心有点像了。"
   ]
  },
  {
   "cell_type": "markdown",
   "id": "453475d0-b88c-4338-9a34-ffae427fd0a9",
   "metadata": {},
   "source": [
    "考虑到「不能同时参与多笔交易」，因此每天交易结束后只可能存在手里有一支股票或者没有股票的状态。\n",
    "\n",
    "定义状态 $dp[i][0]$ 表示第i天交易完后手里没有股票的最大利润， $dp[i][1]$ 表示第i天交易完后手里持有一支股票的最大利润（i从0开始）。\n",
    "\n",
    "考虑 $dp[i][0]$ 的转移方程，如果这一天交易完成后手里没有股票，那木可能的转移状态为前一天已经没有股票，即 $dp[i-1][0]$ ，或者前一天结束的时候手里持有一支股票，即 $dp[i-1][1]$ ，这时候我们要将其卖出，并获得 $prices[i]$ 的收益。因此为了收益最大化，我们列出如下的转移方程：\n",
    "\n",
    "$$dp[i][0] = max\\{dp[i-1][0], dp[i-1][1] + prices[i]\\}$$\n",
    "\n",
    "再来考虑 $dp[i][1]$ ，按照同样的方式考虑转移状态，那么可能的转移状态为前一天已经持有一支股票，即 $dp[i-1][1]$ ，或者前一天结束时还没有股票，即 $dp[i-1][0]$，这时候我们要将其买入，并减少 $prices[i]$ 的收益，可以列出如下的转移方程：\n",
    "\n",
    "$$dp[i][1] = max\\{ dp[i-1][1], dp[i-1][0] - prices[i] \\}$$\n",
    "\n",
    "对于初始状态，根据状态定义我们可以知道第0天交易结束的时候 $dp[0][0] = 0, dp[0][1] = -prices[0]$ 。\n",
    "\n",
    "因此，我们只要从前往后依次计算状态即可。由于全部交易结束后，持有股票的收益一定低于不持有股票的收益，因此这时候 $dp[n-1][0]$ 的收益必然是大于 $dp[n-1][1]$ 的，最后的答案即为 $dp[n-1][0]$ 。"
   ]
  },
  {
   "cell_type": "code",
   "execution_count": 56,
   "id": "77781209-8861-4f2c-9c43-2865f9dd479b",
   "metadata": {},
   "outputs": [],
   "source": [
    "class Solution:\n",
    "    def maxProfit(self, prices: List[int]) -> int:\n",
    "        dp = [0, -prices[0]]\n",
    "        print(dp)\n",
    "        for i in range(1,len(prices)):\n",
    "            new0 = max(dp[0], dp[1] + prices[i])\n",
    "            new1 = max(dp[1], dp[0] - prices[i])\n",
    "            dp = [new0, new1]\n",
    "            print(dp)\n",
    "        return dp[0]"
   ]
  },
  {
   "cell_type": "code",
   "execution_count": 57,
   "id": "b3f2c83e-8e3d-4281-bc5f-9be1c2ec8cf1",
   "metadata": {},
   "outputs": [],
   "source": [
    "prices = [1,2,3,4,5]"
   ]
  },
  {
   "cell_type": "code",
   "execution_count": 58,
   "id": "c9d4b7f0-7602-4a4a-9fb6-1ccfedb75c1d",
   "metadata": {},
   "outputs": [
    {
     "name": "stdout",
     "output_type": "stream",
     "text": [
      "[0, -1]\n",
      "[1, -1]\n",
      "[2, -1]\n",
      "[3, -1]\n",
      "[4, -1]\n"
     ]
    },
    {
     "data": {
      "text/plain": [
       "4"
      ]
     },
     "execution_count": 58,
     "metadata": {},
     "output_type": "execute_result"
    }
   ],
   "source": [
    "s = Solution()\n",
    "s.maxProfit(prices)"
   ]
  },
  {
   "cell_type": "markdown",
   "id": "7b37047c-90be-40c8-af92-fc8295a5c01d",
   "metadata": {},
   "source": [
    "dp的思路真的强，尤其是简化了dp状态的存储以后。只需要用o(1)的空间。感觉对于dp而言最重要的就是状态转移方程，推导出以后剩下的都很easy"
   ]
  },
  {
   "cell_type": "markdown",
   "id": "6e1a0231-f617-489b-875c-472642cd0a4a",
   "metadata": {},
   "source": [
    "## 3. 旋转数组"
   ]
  },
  {
   "cell_type": "markdown",
   "id": "73c8f029-5887-47f2-bd39-0a0adbca141f",
   "metadata": {},
   "source": [
    "### 先整体翻转再部分翻转"
   ]
  },
  {
   "cell_type": "code",
   "execution_count": 103,
   "id": "150d6f6e-d810-4e86-84a9-05fc40b9f78b",
   "metadata": {},
   "outputs": [],
   "source": [
    "class Solution:\n",
    "    def rotate(self, nums: List[int], k: int) -> None:\n",
    "        \"\"\"\n",
    "        Do not return anything, modify nums in-place instead.\n",
    "        \"\"\"\n",
    "        def reverse(left, right):\n",
    "            l = right - left\n",
    "            for i in range(l//2 + 1):\n",
    "                nums[left + i], nums[right-i] = nums[right - i], nums[left + i]\n",
    "            # return nums\n",
    "        n = len(nums)\n",
    "        reverse(0, n-1)\n",
    "        reverse(0, k-1)\n",
    "        reverse(k, n-1)\n",
    "        return nums"
   ]
  },
  {
   "cell_type": "code",
   "execution_count": 104,
   "id": "3bb6d05d-5f6b-4e7b-b680-ea6fa4bf6e95",
   "metadata": {},
   "outputs": [],
   "source": [
    "nums = [1,2,3,4,5,6,7]\n",
    "k = 3"
   ]
  },
  {
   "cell_type": "code",
   "execution_count": 105,
   "id": "9baa4c0e-c28c-4c50-ab71-c665d47b6e2e",
   "metadata": {},
   "outputs": [
    {
     "data": {
      "text/plain": [
       "[5, 6, 7, 1, 2, 3, 4]"
      ]
     },
     "execution_count": 105,
     "metadata": {},
     "output_type": "execute_result"
    }
   ],
   "source": [
    "s = Solution()\n",
    "s.rotate(nums, k)"
   ]
  },
  {
   "cell_type": "markdown",
   "id": "01df7349-2102-47d2-a64f-5eb0c094f470",
   "metadata": {},
   "source": [
    "## 4. 存在重复元素"
   ]
  },
  {
   "cell_type": "code",
   "execution_count": null,
   "id": "08ba7110-f324-48cc-92d1-562131c472f9",
   "metadata": {},
   "outputs": [],
   "source": [
    "from collections import defaultdict\n",
    "class Solution:\n",
    "    def containsDuplicate(self, nums: List[int]) -> bool:\n",
    "        cnt = defaultdict(int)\n",
    "        for n in nums:\n",
    "            cnt[n] += 1\n",
    "            if cnt[n] == 2: return True\n",
    "        return False"
   ]
  },
  {
   "cell_type": "markdown",
   "id": "030e79f6-a725-47ba-9cff-42aaa1257fd0",
   "metadata": {},
   "source": [
    "o(n), o(n)"
   ]
  },
  {
   "cell_type": "code",
   "execution_count": 106,
   "id": "e15b47bc-b5d6-42b5-84bb-a248f07e4806",
   "metadata": {},
   "outputs": [],
   "source": [
    "class Solution:\n",
    "    def containsDuplicate(self, nums: List[int]) -> bool:\n",
    "        return len(set(nums)) != len(nums)"
   ]
  },
  {
   "cell_type": "markdown",
   "id": "26bccc12-cc96-442a-9e49-9217d92c99a3",
   "metadata": {},
   "source": [
    "o(n), o(n)"
   ]
  },
  {
   "cell_type": "markdown",
   "id": "520c080d-6b10-47d4-a23f-2b2e7e4bd2bb",
   "metadata": {},
   "source": [
    "排序后再逐个比较的方法时间复杂度为排序复杂度： o(nlogn)，空间为 o(logn)?"
   ]
  },
  {
   "cell_type": "markdown",
   "id": "1eb64de4-839a-427e-b20b-7e5c30c6689e",
   "metadata": {},
   "source": [
    "## 5. 只出现一次的数字"
   ]
  },
  {
   "cell_type": "markdown",
   "id": "469e89df-9cb6-4758-894c-cb3f613d8c21",
   "metadata": {},
   "source": [
    "### 异或"
   ]
  },
  {
   "cell_type": "code",
   "execution_count": 109,
   "id": "4fe767a2-0027-4bdd-b53b-e055dc4ab954",
   "metadata": {},
   "outputs": [],
   "source": [
    "class Solution:\n",
    "    def singleNumber(self, nums: List[int]) -> int:\n",
    "        if len(nums) == 1: return nums[0]\n",
    "        nums.sort()\n",
    "        for i in range(1, len(nums)-1):\n",
    "            if nums[i] != nums[i-1] and nums[i] != nums[i+1]: return nums[i]\n",
    "        if nums[0] != nums[1]: return nums[0]\n",
    "        if nums[-1] != nums[-2]: return nums[-1]"
   ]
  },
  {
   "cell_type": "markdown",
   "id": "f05abb57-72b8-4c18-b05c-a52d4baf1c18",
   "metadata": {},
   "source": [
    "o(nlogn), o(1)"
   ]
  },
  {
   "cell_type": "markdown",
   "id": "3a5aa4da-1eee-4132-b242-2101d1cbd361",
   "metadata": {},
   "source": [
    "还是得异或，不过是一块异或而不是两个两个异或"
   ]
  },
  {
   "cell_type": "code",
   "execution_count": 121,
   "id": "27c09bda-a816-4a09-b60b-0bdb9c2ac361",
   "metadata": {},
   "outputs": [],
   "source": [
    "class Solution:\n",
    "    def singleNumber(self, nums: List[int]) -> int:\n",
    "        ans = 0\n",
    "        for n in nums: ans ^= n\n",
    "        return ans"
   ]
  },
  {
   "cell_type": "code",
   "execution_count": 122,
   "id": "c6cf4e60-a6d7-4ea8-a468-0041510dd755",
   "metadata": {},
   "outputs": [],
   "source": [
    "nums = [1,2,2,3,4,3,4]"
   ]
  },
  {
   "cell_type": "code",
   "execution_count": 123,
   "id": "b5a5c132-0dca-428c-9f4c-5f774255f66b",
   "metadata": {},
   "outputs": [
    {
     "data": {
      "text/plain": [
       "1"
      ]
     },
     "execution_count": 123,
     "metadata": {},
     "output_type": "execute_result"
    }
   ],
   "source": [
    "s = Solution()\n",
    "s.singleNumber(nums)"
   ]
  },
  {
   "cell_type": "markdown",
   "id": "3e7f42b1-17e7-4ca7-a716-cb6bb6d85e78",
   "metadata": {
    "tags": []
   },
   "source": [
    "### reduce()"
   ]
  },
  {
   "cell_type": "markdown",
   "id": "39ff5e0b-3cd0-4ee6-8ced-0b5a7b414d3b",
   "metadata": {},
   "source": [
    "reduce() 函数会对参数序列中元素进行累积。\n",
    "\n",
    "reduce(function, iterable[, initializer])\n",
    "\n",
    "- function -- 函数，有两个参数\n",
    "- iterable -- 可迭代对象\n",
    "- initializer -- 可选，初始参数\n",
    "\n",
    "即对于可迭代对象的第一第二个元素进行func操作，得到的结果再与第三个元素进行func操作。"
   ]
  },
  {
   "cell_type": "code",
   "execution_count": 125,
   "id": "e8ddeef1-ee98-4324-8581-6850eec5566c",
   "metadata": {},
   "outputs": [],
   "source": [
    "class Solution:\n",
    "    def singleNumber(self, nums: List[int]) -> int:\n",
    "        return reduce(lambda x, y: x ^ y, nums)"
   ]
  },
  {
   "cell_type": "markdown",
   "id": "1dd70b15-534a-4feb-9b8c-b84897ffeb47",
   "metadata": {},
   "source": [
    "## 6. 两个数组的交集 Ⅱ"
   ]
  },
  {
   "cell_type": "code",
   "execution_count": null,
   "id": "b0b5c96c-806f-451b-bcf3-91443da50407",
   "metadata": {},
   "outputs": [],
   "source": [
    "from collections import Counter\n",
    "class Solution:\n",
    "    def intersect(self, nums1: List[int], nums2: List[int]) -> List[int]:\n",
    "        cnt1 = Counter(nums1)\n",
    "        cnt2 = Counter(nums2)\n",
    "        ans = []\n",
    "        for key in cnt1:\n",
    "            if key in cnt2:\n",
    "                l = min(cnt1[key], cnt2[key])\n",
    "                ans.extend([key] * l)\n",
    "        return ans"
   ]
  },
  {
   "cell_type": "markdown",
   "id": "ec1f7006-6d0e-4889-b1a0-7546d7bbff3d",
   "metadata": {},
   "source": [
    "哈希表：\n",
    "- 时间复杂度：o(m+n)\n",
    "- 空间复杂度：o(m+n)\n",
    "\n",
    "排序+双指针：\n",
    "- 时间复杂度：o(mlogm + nlogn)\n",
    "- 空间复杂度：o(min(m, n))"
   ]
  },
  {
   "cell_type": "markdown",
   "id": "931a70ef-ab17-487a-b48c-9fc0edf721da",
   "metadata": {
    "tags": []
   },
   "source": [
    "## 7. 加一"
   ]
  },
  {
   "cell_type": "markdown",
   "id": "49aa86c2-b86f-4b81-ba3c-8c1d373f0523",
   "metadata": {},
   "source": [
    "字符串操作"
   ]
  },
  {
   "cell_type": "code",
   "execution_count": 2,
   "id": "051c7e84-6483-4415-98af-db384a418196",
   "metadata": {},
   "outputs": [],
   "source": [
    "from typing import List\n",
    "class Solution:\n",
    "    def plusOne(self, digits: List[int]) -> List[int]:\n",
    "        num = \"\"\n",
    "        for n in digits:\n",
    "            num += n\n",
    "        num = str(int(num) + 1)\n",
    "        ans = []\n",
    "        for ch in num:\n",
    "            ans.append(int(ch))\n",
    "        return ans"
   ]
  },
  {
   "cell_type": "markdown",
   "id": "23be4891-bcfa-46d1-9e77-624977502627",
   "metadata": {},
   "source": [
    "模拟"
   ]
  },
  {
   "cell_type": "code",
   "execution_count": 6,
   "id": "3e64e443-8a3e-43e6-90cd-5f1f36983238",
   "metadata": {},
   "outputs": [],
   "source": [
    "class Solution:\n",
    "    def plusOne(self, digits: List[int]) -> List[int]:\n",
    "        carry = 1\n",
    "        for i in range(len(digits)-1, -1, -1):\n",
    "             carry, digits[i] = divmod(digits[i] + carry, 10)\n",
    "        return digits if not carry else [1] + digits"
   ]
  },
  {
   "cell_type": "markdown",
   "id": "58149f85-b429-4fc8-8ac1-68e2a402fe2d",
   "metadata": {},
   "source": [
    "## 8. 移动零"
   ]
  },
  {
   "cell_type": "code",
   "execution_count": 40,
   "id": "a26c8476-2c93-4353-9799-b97e4195aff6",
   "metadata": {},
   "outputs": [],
   "source": [
    "class Solution:\n",
    "    def moveZeroes(self, nums: List[int]) -> None:\n",
    "        \"\"\"\n",
    "        Do not return anything, modify nums in-place instead.\n",
    "        \"\"\"\n",
    "        leng = len(nums)\n",
    "        ptr = 0\n",
    "        cur = 0\n",
    "        while ptr < leng:\n",
    "            while nums[ptr] == 0: ptr += 1\n",
    "            nums[cur] = nums[ptr]\n",
    "            cur += 1\n",
    "            ptr += 1\n",
    "        for i in range(cur+1, leng): nums[i] = 0"
   ]
  },
  {
   "cell_type": "markdown",
   "id": "fd37808d-6a22-4d5b-b15c-952147812be3",
   "metadata": {},
   "source": [
    "无法处理结尾0的情况"
   ]
  },
  {
   "cell_type": "code",
   "execution_count": 54,
   "id": "b4e39255-cc93-442f-a91d-bf604a1324d5",
   "metadata": {},
   "outputs": [],
   "source": [
    "class Solution:\n",
    "    def moveZeroes(self, nums: List[int]) -> None:\n",
    "        \"\"\"\n",
    "        Do not return anything, modify nums in-place instead.\n",
    "        \"\"\"\n",
    "        leng = len(nums)\n",
    "        ptr = 0\n",
    "        for i, n in enumerate(nums):\n",
    "            if n == 0: continue\n",
    "            nums[ptr] = n\n",
    "            ptr += 1\n",
    "        for i in range(ptr, leng): nums[i] = 0\n",
    "        return nums"
   ]
  },
  {
   "cell_type": "code",
   "execution_count": 59,
   "id": "4776a9e7-7069-48b9-908c-05db341e8e19",
   "metadata": {},
   "outputs": [],
   "source": [
    "nums = [0]"
   ]
  },
  {
   "cell_type": "code",
   "execution_count": 60,
   "id": "9d6d90e0-a627-4c4b-b7df-e187feb5c6b7",
   "metadata": {},
   "outputs": [
    {
     "data": {
      "text/plain": [
       "[0]"
      ]
     },
     "execution_count": 60,
     "metadata": {},
     "output_type": "execute_result"
    }
   ],
   "source": [
    "s = Solution()\n",
    "s.moveZeroes(nums)"
   ]
  },
  {
   "cell_type": "markdown",
   "id": "356507df-fcba-4ebf-bf65-97cdddf1255f",
   "metadata": {},
   "source": [
    "o(n), o(1)"
   ]
  },
  {
   "cell_type": "markdown",
   "id": "097a78f7-1efe-42c1-a540-e7c08f162489",
   "metadata": {},
   "source": [
    "## 10. 有效的数独"
   ]
  },
  {
   "cell_type": "markdown",
   "id": "f162cb6a-f148-44fa-b3ba-e411954b9871",
   "metadata": {},
   "source": [
    "暴力"
   ]
  },
  {
   "cell_type": "code",
   "execution_count": 80,
   "id": "1a3ee7be-79c6-45fa-addd-617396a61a87",
   "metadata": {},
   "outputs": [],
   "source": [
    "from collections import defaultdict\n",
    "class Solution:\n",
    "    def isValidSudoku(self, board: List[List[str]]) -> bool:\n",
    "        cnt = defaultdict(list)\n",
    "        for i in range(9):\n",
    "            for j in range(9):\n",
    "                cur = board[i][j]\n",
    "                x, y = i // 3, j //3\n",
    "                if cur.isdigit():\n",
    "                    if cur in cnt[(i, -1)] or cur in cnt[(-1, j)]\\\n",
    "                    or cur in cnt[(x, y)]: return False\n",
    "                    cnt[(i, -1)].append(cur)\n",
    "                    cnt[(-1, j)].append(cur)\n",
    "                    cnt[(x, y)].append(cur)\n",
    "                # print(cnt)\n",
    "        return True"
   ]
  },
  {
   "cell_type": "code",
   "execution_count": 83,
   "id": "0a178ed1-0c21-4d3e-b447-8486bb73aef8",
   "metadata": {},
   "outputs": [],
   "source": [
    "board = \\\n",
    "[[\".\",\".\",\".\",\".\",\"5\",\".\",\".\",\"1\",\".\"],\n",
    " [\".\",\"4\",\".\",\"3\",\".\",\".\",\".\",\".\",\".\"],\n",
    " [\".\",\".\",\".\",\".\",\".\",\"3\",\".\",\".\",\"1\"],\n",
    " [\"8\",\".\",\".\",\".\",\".\",\".\",\".\",\"2\",\".\"],\n",
    " [\".\",\".\",\"2\",\".\",\"7\",\".\",\".\",\".\",\".\"],\n",
    " [\".\",\"1\",\"5\",\".\",\".\",\".\",\".\",\".\",\".\"],\n",
    " [\".\",\".\",\".\",\".\",\".\",\"2\",\".\",\".\",\".\"],\n",
    " [\".\",\"2\",\".\",\"9\",\".\",\".\",\".\",\".\",\".\"],\n",
    " [\".\",\".\",\"4\",\".\",\".\",\".\",\".\",\".\",\".\"]]"
   ]
  },
  {
   "cell_type": "code",
   "execution_count": 82,
   "id": "0ab9e15e-3a09-4202-b031-889d18e5a299",
   "metadata": {},
   "outputs": [
    {
     "data": {
      "text/plain": [
       "False"
      ]
     },
     "execution_count": 82,
     "metadata": {},
     "output_type": "execute_result"
    }
   ],
   "source": [
    "s = Solution()\n",
    "s.isValidSudoku(board)"
   ]
  },
  {
   "cell_type": "markdown",
   "id": "a2ceca0b-4138-45b1-9faf-e9f79e9b25c2",
   "metadata": {},
   "source": [
    "时间：o(n^2) 空间：o(n^2)"
   ]
  },
  {
   "cell_type": "markdown",
   "id": "653477b4-4afd-4c38-a1a8-0d4b28d7d672",
   "metadata": {},
   "source": [
    "限制在9*9数独的话则都是常数复杂度"
   ]
  },
  {
   "cell_type": "markdown",
   "id": "0481fc2e-8fde-46ad-8d29-6d8eb0ae4f33",
   "metadata": {},
   "source": [
    "## 11. 旋转图像"
   ]
  },
  {
   "cell_type": "markdown",
   "id": "4988af9c-04fb-44d6-81ab-140393050595",
   "metadata": {},
   "source": [
    "不会原地"
   ]
  },
  {
   "cell_type": "markdown",
   "id": "9b8dfe6f-0df4-453f-833a-a66564082017",
   "metadata": {},
   "source": [
    "顺时针 90° = 水平翻转 + 转置"
   ]
  },
  {
   "cell_type": "code",
   "execution_count": 113,
   "id": "7105d795-864d-43b6-9016-6f3801790690",
   "metadata": {},
   "outputs": [],
   "source": [
    "class Solution:\n",
    "    def rotate(self, matrix: List[List[int]]) -> None:\n",
    "        \"\"\"\n",
    "        Do not return anything, modify matrix in-place instead.\n",
    "        \"\"\"\n",
    "        n = len(matrix)\n",
    "        for i in range(n // 2):\n",
    "            matrix[i], matrix[n - i - 1] = matrix[n - i - 1], matrix[i]\n",
    "        for i in range(n):\n",
    "            for j in range(i):\n",
    "                print(matrix[i][j], matrix[j][i])\n",
    "                matrix[i][j], matrix[j][i] = matrix[j][i], matrix[i][j]\n",
    "        return matrix"
   ]
  },
  {
   "cell_type": "code",
   "execution_count": 114,
   "id": "8266b2f7-3d8a-47c2-86e9-9475a53f7663",
   "metadata": {},
   "outputs": [],
   "source": [
    "matrix = [[5,1,9,11],[2,4,8,10],[13,3,6,7],[15,14,12,16]]"
   ]
  },
  {
   "cell_type": "code",
   "execution_count": 115,
   "id": "29807135-410b-4772-aa8e-8c75fabf29f3",
   "metadata": {},
   "outputs": [
    {
     "name": "stdout",
     "output_type": "stream",
     "text": [
      "13 14\n",
      "2 12\n",
      "4 6\n",
      "5 16\n",
      "1 7\n",
      "9 10\n"
     ]
    },
    {
     "data": {
      "text/plain": [
       "[[15, 13, 2, 5], [14, 3, 4, 1], [12, 6, 8, 9], [16, 7, 10, 11]]"
      ]
     },
     "execution_count": 115,
     "metadata": {},
     "output_type": "execute_result"
    }
   ],
   "source": [
    "s = Solution()\n",
    "s.rotate(matrix)"
   ]
  },
  {
   "cell_type": "markdown",
   "id": "e9a9a1d5-3782-4724-b879-b1cc822a16a0",
   "metadata": {},
   "source": [
    "学费了"
   ]
  },
  {
   "cell_type": "markdown",
   "id": "7012ff53-a10c-4fb4-83cc-ae72a0cfa18f",
   "metadata": {},
   "source": [
    "时间: o(n^2), 空间: o(1)"
   ]
  },
  {
   "cell_type": "markdown",
   "id": "9003c1e4-6bd7-45f3-b9c5-8509932d3a90",
   "metadata": {},
   "source": [
    "## 小结："
   ]
  },
  {
   "cell_type": "markdown",
   "id": "1320e46d-7dda-4eb0-92c7-0dcde73d62f8",
   "metadata": {},
   "source": [
    "- 对于数组问题感觉双指针与哈希表比较常用；\n",
    "- 很多问题在对数组进行排序后都会变得没那么复杂；\n",
    "- 异或运算对于寻找只出现一次的数字绝杀；\n",
    "- 要记得一种可以带着数组下标进行排序的思路（870 优势洗牌）；"
   ]
  },
  {
   "cell_type": "markdown",
   "id": "5f54e145-81c9-4848-981a-40e0561c0400",
   "metadata": {},
   "source": [
    "# 字符串"
   ]
  },
  {
   "cell_type": "markdown",
   "id": "ce330fdb-f1b6-4a0f-b85a-f70f0b674b43",
   "metadata": {},
   "source": [
    "## 1. 反转字符串"
   ]
  },
  {
   "cell_type": "code",
   "execution_count": 117,
   "id": "c3897748-b826-48c6-8d0a-5dfa2a7e02c0",
   "metadata": {},
   "outputs": [],
   "source": [
    "class Solution:\n",
    "    def reverseString(self, s: List[str]) -> None:\n",
    "        \"\"\"\n",
    "        Do not return anything, modify s in-place instead.\n",
    "        \"\"\"\n",
    "        n = len(s)\n",
    "        for i in range(n // 2):\n",
    "            s[i], s[n - i - 1] = s[n - i - 1], s[i]\n",
    "        return s"
   ]
  },
  {
   "cell_type": "code",
   "execution_count": 120,
   "id": "f472e20e-4c49-486d-8dba-4736940b8a43",
   "metadata": {},
   "outputs": [],
   "source": [
    "s = [\"H\",\"a\",\"n\",\"n\",\"a\",\"h\"]"
   ]
  },
  {
   "cell_type": "code",
   "execution_count": 121,
   "id": "cf0adaf0-ee42-4f97-9a4a-070b956e34ce",
   "metadata": {},
   "outputs": [
    {
     "data": {
      "text/plain": [
       "['h', 'a', 'n', 'n', 'a', 'H']"
      ]
     },
     "execution_count": 121,
     "metadata": {},
     "output_type": "execute_result"
    }
   ],
   "source": [
    "S = Solution()\n",
    "S.reverseString(s)"
   ]
  },
  {
   "cell_type": "markdown",
   "id": "5cfbbddc-3908-4546-b132-0c5a9da42264",
   "metadata": {},
   "source": [
    "## 2. 整数反转"
   ]
  },
  {
   "cell_type": "code",
   "execution_count": 125,
   "id": "50de3a10-cd4e-42f0-b92c-66ffe609e1de",
   "metadata": {},
   "outputs": [],
   "source": [
    "class Solution:\n",
    "    def reverse(self, x: int) -> int:\n",
    "        ans = int(str(abs(x))[::-1])\n",
    "        if ans > 2**31 - 1: return 0\n",
    "        return -ans if x < 0 else ans"
   ]
  },
  {
   "cell_type": "code",
   "execution_count": 126,
   "id": "4ec013cf-9a30-4fa6-8a12-f57221d1a521",
   "metadata": {},
   "outputs": [],
   "source": [
    "x = 210"
   ]
  },
  {
   "cell_type": "code",
   "execution_count": 127,
   "id": "d832d76a-6d55-4ac7-8986-5eeb8905dbfa",
   "metadata": {},
   "outputs": [
    {
     "data": {
      "text/plain": [
       "12"
      ]
     },
     "execution_count": 127,
     "metadata": {},
     "output_type": "execute_result"
    }
   ],
   "source": [
    "s = Solution()\n",
    "s.reverse(x)"
   ]
  },
  {
   "cell_type": "markdown",
   "id": "44fd26a4-de01-4471-8947-b634738dd0e5",
   "metadata": {},
   "source": [
    "o(n), o(1)"
   ]
  },
  {
   "cell_type": "markdown",
   "id": "5cb6b471-4ff7-4dfd-aa3d-cedc61a4d64b",
   "metadata": {},
   "source": [
    "## 3. 字符串中的第一个唯一字符"
   ]
  },
  {
   "cell_type": "code",
   "execution_count": 128,
   "id": "cc70cf9a-834a-4768-b411-f3cd522d0eb5",
   "metadata": {},
   "outputs": [],
   "source": [
    "# 先逃课\n",
    "from collections import Counter\n",
    "class Solution:\n",
    "    def firstUniqChar(self, s: str) -> int:\n",
    "        cnt = Counter(s)\n",
    "        for i, ch in enumerate(s):\n",
    "            if cnt[ch] == 1: return i\n",
    "        return -1"
   ]
  },
  {
   "cell_type": "code",
   "execution_count": 133,
   "id": "bf03bcc2-bef9-43a6-8d83-7d835ead9dae",
   "metadata": {},
   "outputs": [],
   "source": [
    "s = \"leetcode\""
   ]
  },
  {
   "cell_type": "code",
   "execution_count": 134,
   "id": "1363a593-dd30-49da-a40c-a80e8debb323",
   "metadata": {},
   "outputs": [
    {
     "data": {
      "text/plain": [
       "0"
      ]
     },
     "execution_count": 134,
     "metadata": {},
     "output_type": "execute_result"
    }
   ],
   "source": [
    "S = Solution()\n",
    "S.firstUniqChar(s)"
   ]
  },
  {
   "cell_type": "markdown",
   "id": "8a820e21-568f-4d59-ad4b-3bf3e10c0b4c",
   "metadata": {},
   "source": [
    "o(n), o($\\Sigma$) 其中Sigma是字符集"
   ]
  },
  {
   "cell_type": "code",
   "execution_count": 142,
   "id": "d61d4c11-b1f1-4cd7-885b-4de7464dcba9",
   "metadata": {},
   "outputs": [],
   "source": [
    "from collections import defaultdict\n",
    "class Solution:\n",
    "    def firstUniqChar(self, s: str) -> int:\n",
    "        cnt = defaultdict(int)\n",
    "        slow = 0\n",
    "        for i in range(len(s)):\n",
    "            cnt[s[i]] += 1\n",
    "            while cnt[s[slow]] >= 2: \n",
    "                slow += 1\n",
    "                if slow == len(s): return -1\n",
    "        return slow"
   ]
  },
  {
   "cell_type": "code",
   "execution_count": 145,
   "id": "ad7ff22c-0bc2-40b3-a56e-4693dc2df870",
   "metadata": {},
   "outputs": [],
   "source": [
    "s = \"aabbccdeeff\""
   ]
  },
  {
   "cell_type": "code",
   "execution_count": 146,
   "id": "3e6c8c50-a7f8-4ee4-a4fe-94723d53497f",
   "metadata": {},
   "outputs": [
    {
     "data": {
      "text/plain": [
       "6"
      ]
     },
     "execution_count": 146,
     "metadata": {},
     "output_type": "execute_result"
    }
   ],
   "source": [
    "S = Solution()\n",
    "S.firstUniqChar(s)"
   ]
  },
  {
   "cell_type": "markdown",
   "id": "46a0a296-7a77-4a8e-9176-1106c9da10de",
   "metadata": {},
   "source": [
    "时间貌似退化为了0(n^2)"
   ]
  },
  {
   "cell_type": "markdown",
   "id": "504c217e-7d92-4404-8573-3b7f7260331e",
   "metadata": {},
   "source": [
    "### 队列：\n",
    "- 我们也可以借助队列找到第一个不重复的字符。队列具有「先进先出」的性质，因此很适合用来找出第一个满足某个条件的元素。"
   ]
  },
  {
   "cell_type": "code",
   "execution_count": 154,
   "id": "2e35a011-b842-47f2-937f-e883f9bae524",
   "metadata": {},
   "outputs": [],
   "source": [
    "from collections import deque\n",
    "class Solution:\n",
    "    def firstUniqChar(self, s: str) -> int:\n",
    "        position = dict()\n",
    "        q = deque()\n",
    "        n = len(s)\n",
    "        for i, ch in enumerate(s):\n",
    "            print(position, q)\n",
    "            if ch not in position:\n",
    "                position[ch] = i\n",
    "                q.append((s[i], i))\n",
    "            else:\n",
    "                position[ch] = -1\n",
    "                while q and position[q[0][0]] == -1:\n",
    "                    q.popleft()\n",
    "        return -1 if not q else q[0][1]"
   ]
  },
  {
   "cell_type": "code",
   "execution_count": 157,
   "id": "46eeb39f-ea2a-4a57-a495-844955d4758a",
   "metadata": {},
   "outputs": [],
   "source": [
    "s = \"loveleetcode\""
   ]
  },
  {
   "cell_type": "code",
   "execution_count": 158,
   "id": "e2c8fcd0-1ee7-4aa7-8f71-4a8a8eb57afb",
   "metadata": {},
   "outputs": [
    {
     "name": "stdout",
     "output_type": "stream",
     "text": [
      "{} deque([])\n",
      "{'l': 0} deque([('l', 0)])\n",
      "{'l': 0, 'o': 1} deque([('l', 0), ('o', 1)])\n",
      "{'l': 0, 'o': 1, 'v': 2} deque([('l', 0), ('o', 1), ('v', 2)])\n",
      "{'l': 0, 'o': 1, 'v': 2, 'e': 3} deque([('l', 0), ('o', 1), ('v', 2), ('e', 3)])\n",
      "{'l': -1, 'o': 1, 'v': 2, 'e': 3} deque([('o', 1), ('v', 2), ('e', 3)])\n",
      "{'l': -1, 'o': 1, 'v': 2, 'e': -1} deque([('o', 1), ('v', 2), ('e', 3)])\n",
      "{'l': -1, 'o': 1, 'v': 2, 'e': -1} deque([('o', 1), ('v', 2), ('e', 3)])\n",
      "{'l': -1, 'o': 1, 'v': 2, 'e': -1, 't': 7} deque([('o', 1), ('v', 2), ('e', 3), ('t', 7)])\n",
      "{'l': -1, 'o': 1, 'v': 2, 'e': -1, 't': 7, 'c': 8} deque([('o', 1), ('v', 2), ('e', 3), ('t', 7), ('c', 8)])\n",
      "{'l': -1, 'o': -1, 'v': 2, 'e': -1, 't': 7, 'c': 8} deque([('v', 2), ('e', 3), ('t', 7), ('c', 8)])\n",
      "{'l': -1, 'o': -1, 'v': 2, 'e': -1, 't': 7, 'c': 8, 'd': 10} deque([('v', 2), ('e', 3), ('t', 7), ('c', 8), ('d', 10)])\n"
     ]
    },
    {
     "data": {
      "text/plain": [
       "2"
      ]
     },
     "execution_count": 158,
     "metadata": {},
     "output_type": "execute_result"
    }
   ],
   "source": [
    "S = Solution()\n",
    "S.firstUniqChar(s)"
   ]
  },
  {
   "cell_type": "code",
   "execution_count": null,
   "id": "54687103-bfce-4cd7-a0ec-2770b3cb9f96",
   "metadata": {},
   "outputs": [],
   "source": []
  },
  {
   "cell_type": "code",
   "execution_count": null,
   "id": "cc8e9b2a-bfce-4ab8-a53d-019f528c3bea",
   "metadata": {},
   "outputs": [],
   "source": []
  },
  {
   "cell_type": "code",
   "execution_count": null,
   "id": "6b3bc264-3dfb-403f-b435-189da0d4b795",
   "metadata": {},
   "outputs": [],
   "source": []
  },
  {
   "cell_type": "code",
   "execution_count": null,
   "id": "0cfb0238-5d8f-4dd6-a4ef-892d6247aaa6",
   "metadata": {},
   "outputs": [],
   "source": []
  },
  {
   "cell_type": "code",
   "execution_count": null,
   "id": "94e911b8-d219-45f6-90f9-f3331dc74af0",
   "metadata": {},
   "outputs": [],
   "source": []
  },
  {
   "cell_type": "code",
   "execution_count": null,
   "id": "9c6d4ad4-2ca4-4046-967c-2801c14a0480",
   "metadata": {},
   "outputs": [],
   "source": []
  },
  {
   "cell_type": "code",
   "execution_count": null,
   "id": "8d816c57-ee37-4ad4-bf4c-472a0f1517f7",
   "metadata": {},
   "outputs": [],
   "source": []
  },
  {
   "cell_type": "code",
   "execution_count": null,
   "id": "7eec55cc-96b9-4015-b3d4-afe2dc8ff59c",
   "metadata": {},
   "outputs": [],
   "source": []
  },
  {
   "cell_type": "code",
   "execution_count": null,
   "id": "595f1fee-b123-46d1-be13-9b0f9da9e7e9",
   "metadata": {},
   "outputs": [],
   "source": []
  },
  {
   "cell_type": "code",
   "execution_count": null,
   "id": "45eb3edd-5f6b-43d2-aedb-2907d4be4b04",
   "metadata": {},
   "outputs": [],
   "source": []
  },
  {
   "cell_type": "code",
   "execution_count": null,
   "id": "a1fc5dec-d1b4-45b2-8cc7-811024772056",
   "metadata": {},
   "outputs": [],
   "source": []
  },
  {
   "cell_type": "code",
   "execution_count": null,
   "id": "46650a98-3f5a-48f3-936b-eea43f89dbce",
   "metadata": {},
   "outputs": [],
   "source": []
  },
  {
   "cell_type": "code",
   "execution_count": null,
   "id": "851021d6-3665-48c8-a882-96265cca07ff",
   "metadata": {},
   "outputs": [],
   "source": []
  },
  {
   "cell_type": "code",
   "execution_count": null,
   "id": "a56d4360-85b7-477c-9291-3161d1e7e1ce",
   "metadata": {},
   "outputs": [],
   "source": []
  },
  {
   "cell_type": "code",
   "execution_count": null,
   "id": "7fc96ce8-1642-4a01-84d8-d082cadfb59a",
   "metadata": {},
   "outputs": [],
   "source": []
  },
  {
   "cell_type": "code",
   "execution_count": null,
   "id": "6948536a-0c8b-4160-9d8e-012258a0262a",
   "metadata": {},
   "outputs": [],
   "source": []
  },
  {
   "cell_type": "code",
   "execution_count": null,
   "id": "e772d277-bff6-49c0-bae0-0051505020c4",
   "metadata": {},
   "outputs": [],
   "source": []
  },
  {
   "cell_type": "code",
   "execution_count": null,
   "id": "19f2a361-050f-4360-be5e-5b166ea41470",
   "metadata": {},
   "outputs": [],
   "source": []
  },
  {
   "cell_type": "code",
   "execution_count": null,
   "id": "3522f3f6-18fc-42c1-8c1c-9dd4a126ad42",
   "metadata": {},
   "outputs": [],
   "source": []
  },
  {
   "cell_type": "code",
   "execution_count": null,
   "id": "f8d78d9b-dfd7-4c09-b701-01e7be353054",
   "metadata": {},
   "outputs": [],
   "source": []
  },
  {
   "cell_type": "code",
   "execution_count": null,
   "id": "76818965-3d8f-4e31-bf59-9608e9a263fa",
   "metadata": {},
   "outputs": [],
   "source": []
  },
  {
   "cell_type": "code",
   "execution_count": null,
   "id": "81eeb22a-4bd0-411a-980b-4f76dbed8598",
   "metadata": {},
   "outputs": [],
   "source": []
  },
  {
   "cell_type": "code",
   "execution_count": null,
   "id": "95839175-8a3e-49a0-b62f-23d3a2ea03e0",
   "metadata": {},
   "outputs": [],
   "source": []
  },
  {
   "cell_type": "code",
   "execution_count": null,
   "id": "a8823854-65e5-4f5d-9617-69da7f2672f7",
   "metadata": {},
   "outputs": [],
   "source": []
  },
  {
   "cell_type": "code",
   "execution_count": null,
   "id": "1e616c89-0adb-428b-a3fe-f14473931572",
   "metadata": {},
   "outputs": [],
   "source": []
  },
  {
   "cell_type": "code",
   "execution_count": null,
   "id": "409babe1-dad4-4ce5-a525-d94a2c44bc4e",
   "metadata": {},
   "outputs": [],
   "source": []
  },
  {
   "cell_type": "code",
   "execution_count": null,
   "id": "dd02bbde-0047-45a4-9838-913bec829736",
   "metadata": {},
   "outputs": [],
   "source": []
  },
  {
   "cell_type": "code",
   "execution_count": null,
   "id": "cc8a244a-e37d-44af-b98d-d32c743a69d5",
   "metadata": {},
   "outputs": [],
   "source": []
  },
  {
   "cell_type": "code",
   "execution_count": null,
   "id": "730eb345-8b60-46a2-86c8-88ae78c0f6a4",
   "metadata": {},
   "outputs": [],
   "source": []
  },
  {
   "cell_type": "code",
   "execution_count": null,
   "id": "b5716ed2-bd47-4559-bdb5-6646dcf401a8",
   "metadata": {},
   "outputs": [],
   "source": []
  },
  {
   "cell_type": "code",
   "execution_count": null,
   "id": "a50132f1-da5e-4f38-9b9d-77695d4836ff",
   "metadata": {},
   "outputs": [],
   "source": []
  },
  {
   "cell_type": "code",
   "execution_count": null,
   "id": "0bab273c-ce29-4584-bf67-d03f6656d8e7",
   "metadata": {},
   "outputs": [],
   "source": []
  },
  {
   "cell_type": "code",
   "execution_count": null,
   "id": "4bc616a4-530b-46fb-82e1-4f76109de389",
   "metadata": {},
   "outputs": [],
   "source": []
  },
  {
   "cell_type": "code",
   "execution_count": null,
   "id": "8bd75122-f519-46bf-86ce-849283a818ee",
   "metadata": {},
   "outputs": [],
   "source": []
  },
  {
   "cell_type": "code",
   "execution_count": null,
   "id": "64fe5cae-2ef2-4bba-aad7-7ba160173a9f",
   "metadata": {},
   "outputs": [],
   "source": []
  },
  {
   "cell_type": "code",
   "execution_count": null,
   "id": "87ab3c72-a07e-4d1e-a778-a7e004fd7a51",
   "metadata": {},
   "outputs": [],
   "source": []
  },
  {
   "cell_type": "code",
   "execution_count": null,
   "id": "8ff15149-ec76-4ef1-8061-9ca73a3c9542",
   "metadata": {},
   "outputs": [],
   "source": []
  },
  {
   "cell_type": "code",
   "execution_count": null,
   "id": "ab4b3a17-d68c-4dd9-b94f-685b3a35ac60",
   "metadata": {},
   "outputs": [],
   "source": []
  },
  {
   "cell_type": "code",
   "execution_count": null,
   "id": "0fc69906-0b7f-4a20-9cbf-dc12737b42e3",
   "metadata": {},
   "outputs": [],
   "source": []
  },
  {
   "cell_type": "code",
   "execution_count": null,
   "id": "02421e0f-e414-4c50-8e8e-5d4cba4c877b",
   "metadata": {},
   "outputs": [],
   "source": []
  },
  {
   "cell_type": "code",
   "execution_count": null,
   "id": "74cf92e1-3393-45a2-bf55-952e0d097584",
   "metadata": {},
   "outputs": [],
   "source": []
  },
  {
   "cell_type": "code",
   "execution_count": null,
   "id": "71b55c3a-2732-446a-ab60-039cd39f3335",
   "metadata": {},
   "outputs": [],
   "source": []
  },
  {
   "cell_type": "code",
   "execution_count": null,
   "id": "3e687178-4836-4cd6-bb9a-095dc3b14eab",
   "metadata": {},
   "outputs": [],
   "source": []
  },
  {
   "cell_type": "code",
   "execution_count": null,
   "id": "18616a4b-2426-4c1d-8ff4-6a88e423c7c2",
   "metadata": {},
   "outputs": [],
   "source": []
  },
  {
   "cell_type": "code",
   "execution_count": null,
   "id": "71ef4e7b-2208-467a-baa0-b697e7375ced",
   "metadata": {},
   "outputs": [],
   "source": []
  },
  {
   "cell_type": "code",
   "execution_count": null,
   "id": "3242aa5d-0d6b-4eae-97e1-4fab26a14c21",
   "metadata": {},
   "outputs": [],
   "source": []
  }
 ],
 "metadata": {
  "kernelspec": {
   "display_name": "Python 3 (ipykernel)",
   "language": "python",
   "name": "python3"
  },
  "language_info": {
   "codemirror_mode": {
    "name": "ipython",
    "version": 3
   },
   "file_extension": ".py",
   "mimetype": "text/x-python",
   "name": "python",
   "nbconvert_exporter": "python",
   "pygments_lexer": "ipython3",
   "version": "3.9.7"
  }
 },
 "nbformat": 4,
 "nbformat_minor": 5
}
