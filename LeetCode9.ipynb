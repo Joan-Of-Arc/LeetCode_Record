{
 "cells": [
  {
   "cell_type": "code",
   "execution_count": 1,
   "id": "6653ec9d-a3f2-4be0-9d2c-483fd6509d3b",
   "metadata": {},
   "outputs": [],
   "source": [
    "import modules\n",
    "from typing import List, Optional"
   ]
  },
  {
   "cell_type": "markdown",
   "id": "f01b415c-2fdc-4b5d-b909-0b9d7fbfcad6",
   "metadata": {},
   "source": [
    "## 1652. 拆炸弹(9.24)"
   ]
  },
  {
   "cell_type": "code",
   "execution_count": 27,
   "id": "91ceec93-7510-49be-822d-3c6e99e49206",
   "metadata": {},
   "outputs": [],
   "source": [
    "class Solution:\n",
    "    def decrypt(self, code: List[int], k: int) -> List[int]:\n",
    "        res = [0] * len(code)\n",
    "        if k > 0:\n",
    "            for i, n in enumerate(code):\n",
    "                cur = 0\n",
    "                for j in range(k):\n",
    "                    cur +=  code[(i+1+j)%len(code)]\n",
    "                res[i] = cur\n",
    "        if k < 0:\n",
    "            for i in range(len(code)):\n",
    "                cur = 0\n",
    "                for j in range(-k):\n",
    "                    cur += code[i-1-j]\n",
    "                res[i] = cur\n",
    "        return res"
   ]
  },
  {
   "cell_type": "code",
   "execution_count": 55,
   "id": "3ad5680e-9049-46cd-b083-86301cfa2fd4",
   "metadata": {},
   "outputs": [],
   "source": [
    "code = [5,7,1,4]\n",
    "k = 0"
   ]
  },
  {
   "cell_type": "code",
   "execution_count": 56,
   "id": "cc27ef9f-6c06-4ba8-a9f6-afdd08f57ed4",
   "metadata": {},
   "outputs": [
    {
     "data": {
      "text/plain": [
       "[0, 0, 0, 0]"
      ]
     },
     "execution_count": 56,
     "metadata": {},
     "output_type": "execute_result"
    }
   ],
   "source": [
    "s = Solution()\n",
    "s.decrypt(code, k)"
   ]
  },
  {
   "cell_type": "markdown",
   "id": "87dfdb94-4510-4f78-8150-97d0fb71fbac",
   "metadata": {},
   "source": [
    "o(n^2)复杂度"
   ]
  },
  {
   "cell_type": "code",
   "execution_count": 50,
   "id": "ee089c60-e366-4ffa-b325-377be8ce3a77",
   "metadata": {},
   "outputs": [],
   "source": [
    "# 滑窗\n",
    "class Solution:\n",
    "    def decrypt(self, code: List[int], k: int) -> List[int]:\n",
    "        n = len(code)\n",
    "        res = [0] * n\n",
    "        if k > 0:\n",
    "            cur = sum(code[1:k+1])\n",
    "            for i in range(n):\n",
    "                res[i] = cur\n",
    "                cur += code[(k+1+i)%n] - code[(i+1)%n]\n",
    "        if k < 0:\n",
    "            cur = sum(code[k:-1]) + code[-1]\n",
    "            for i in range(n):\n",
    "                res[i] = cur\n",
    "                cur += code[i] - code[k+i]\n",
    "        return res"
   ]
  },
  {
   "cell_type": "markdown",
   "id": "41c262ea-98f9-4f01-802d-14ac9033ce5b",
   "metadata": {},
   "source": [
    "slide win o(n)"
   ]
  },
  {
   "cell_type": "markdown",
   "id": "83ff9a6e-255c-45c6-a459-c1300ab63962",
   "metadata": {
    "tags": []
   },
   "source": [
    "## 707. 设计链表"
   ]
  },
  {
   "cell_type": "code",
   "execution_count": 35,
   "id": "46ab2740-33f8-46b2-98d8-253021578f84",
   "metadata": {},
   "outputs": [],
   "source": [
    "def TraversalList(head: List):\n",
    "    res = []\n",
    "    cur = head\n",
    "    while cur:\n",
    "        res.append(cur.val)\n",
    "        cur = cur.next\n",
    "    return res"
   ]
  },
  {
   "cell_type": "code",
   "execution_count": 52,
   "id": "d4c661c8-effa-4bba-a585-7dd4f94bab8c",
   "metadata": {},
   "outputs": [],
   "source": [
    "class ListNode:\n",
    "    def __init__(self,val = 0, next = None):\n",
    "        self.val = val\n",
    "        self.next = next\n",
    "        \n",
    "\n",
    "class MyLinkedList:\n",
    "\n",
    "    def __init__(self):\n",
    "        self.head = ListNode()\n",
    "        self.tail = None\n",
    "        self.len = 0\n",
    "        \n",
    "    def get(self, index: int) -> int:\n",
    "        if index >= self.len: return -1\n",
    "        cur = self.head.next\n",
    "        for i in range(index):\n",
    "            cur = cur.next\n",
    "        return cur.val\n",
    "    \n",
    "    def addAtHead(self, val: int) -> None:\n",
    "        cur = ListNode(val = val)\n",
    "        if not self.head.next:\n",
    "            self.head.next = cur\n",
    "            self.tail = cur\n",
    "        else:\n",
    "            cur.next = self.head.next\n",
    "            self.head.next = cur\n",
    "        self.len += 1\n",
    "\n",
    "    def addAtTail(self, val: int) -> None:\n",
    "        if not self.len:\n",
    "            cur = ListNode(val = val)\n",
    "            self.head.next = cur\n",
    "            self.tail = cur\n",
    "        else:\n",
    "            cur = ListNode(val = val)\n",
    "            self.tail.next = cur\n",
    "            self.tail = cur\n",
    "        self.len += 1\n",
    "        \n",
    "    def addAtIndex(self, index: int, val: int) -> None:\n",
    "        if index > self.len: return\n",
    "        cur = ListNode(val = val)\n",
    "        if index == self.len:\n",
    "            if not self.tail: self.head.next = cur\n",
    "            else: self.tail.next = cur\n",
    "            self.tail = cur\n",
    "        elif index <= 0:\n",
    "            cur.next = self.head.next\n",
    "            self.head.next = cur\n",
    "        else:\n",
    "            node = self.head\n",
    "            for i in range(index):\n",
    "                node = node.next\n",
    "            cur.next = node.next\n",
    "            node.next = cur\n",
    "        self.len += 1\n",
    "\n",
    "    def deleteAtIndex(self, index: int) -> None:\n",
    "        if index < 0 or index >= self.len: return\n",
    "        elif index == 0:\n",
    "            self.head.next = self.head.next.next\n",
    "        elif index == self.len - 1:\n",
    "            cur = self.head\n",
    "            while cur.next != self.tail:\n",
    "                cur = cur.next\n",
    "            self.tail = cur\n",
    "        else:\n",
    "            cur = self.head\n",
    "            for i in range(index):\n",
    "                cur = cur.next\n",
    "            cur.next = cur.next.next\n",
    "        self.len -= 1\n",
    "        \n",
    "        "
   ]
  },
  {
   "cell_type": "code",
   "execution_count": 37,
   "id": "07daefe2-06ee-46f7-9230-e54206213fa9",
   "metadata": {},
   "outputs": [],
   "source": [
    "m = MyLinkedList()"
   ]
  },
  {
   "cell_type": "code",
   "execution_count": 38,
   "id": "d87abdb6-b81a-4784-9b29-30d90fe20b65",
   "metadata": {},
   "outputs": [
    {
     "data": {
      "text/plain": [
       "1"
      ]
     },
     "execution_count": 38,
     "metadata": {},
     "output_type": "execute_result"
    }
   ],
   "source": [
    "m.addAtHead(1)\n",
    "m.len"
   ]
  },
  {
   "cell_type": "code",
   "execution_count": 39,
   "id": "eeebee5d-02f2-45bb-9f45-42dcc3bbf8ff",
   "metadata": {},
   "outputs": [
    {
     "data": {
      "text/plain": [
       "[0, 1]"
      ]
     },
     "execution_count": 39,
     "metadata": {},
     "output_type": "execute_result"
    }
   ],
   "source": [
    "TraversalList(m.head)"
   ]
  },
  {
   "cell_type": "code",
   "execution_count": 40,
   "id": "4f05b605-b65c-4cb8-964b-ee7503e27051",
   "metadata": {},
   "outputs": [],
   "source": [
    "m.addAtTail(3)"
   ]
  },
  {
   "cell_type": "code",
   "execution_count": 42,
   "id": "5fc76575-e967-4bb8-a387-8b33bae6e5c7",
   "metadata": {},
   "outputs": [
    {
     "data": {
      "text/plain": [
       "[0, 1, 3]"
      ]
     },
     "execution_count": 42,
     "metadata": {},
     "output_type": "execute_result"
    }
   ],
   "source": [
    "TraversalList(m.head)"
   ]
  },
  {
   "cell_type": "code",
   "execution_count": 43,
   "id": "9df728dc-5914-47ee-b46a-bd06704a7009",
   "metadata": {},
   "outputs": [],
   "source": [
    "m.addAtIndex(1,2)"
   ]
  },
  {
   "cell_type": "code",
   "execution_count": 44,
   "id": "c4d6ff5e-e423-4e9f-bd08-e793e40fb9f3",
   "metadata": {},
   "outputs": [
    {
     "data": {
      "text/plain": [
       "[0, 1, 2, 3]"
      ]
     },
     "execution_count": 44,
     "metadata": {},
     "output_type": "execute_result"
    }
   ],
   "source": [
    "TraversalList(m.head)"
   ]
  },
  {
   "cell_type": "code",
   "execution_count": 45,
   "id": "20dc6e66-7f7d-427a-a129-2bd06fd7d160",
   "metadata": {},
   "outputs": [
    {
     "data": {
      "text/plain": [
       "2"
      ]
     },
     "execution_count": 45,
     "metadata": {},
     "output_type": "execute_result"
    }
   ],
   "source": [
    "m.get(1)"
   ]
  },
  {
   "cell_type": "code",
   "execution_count": 46,
   "id": "6efbb237-453b-43da-b954-ea391afdf606",
   "metadata": {},
   "outputs": [],
   "source": [
    "m.deleteAtIndex(1)"
   ]
  },
  {
   "cell_type": "code",
   "execution_count": 47,
   "id": "d5a91c7e-7caf-4182-9cd7-e4911b6150eb",
   "metadata": {},
   "outputs": [
    {
     "data": {
      "text/plain": [
       "[0, 1, 3]"
      ]
     },
     "execution_count": 47,
     "metadata": {},
     "output_type": "execute_result"
    }
   ],
   "source": [
    "TraversalList(m.head)"
   ]
  },
  {
   "cell_type": "code",
   "execution_count": 48,
   "id": "63c855e6-5176-4ab1-9554-c4f2ef5e78dd",
   "metadata": {},
   "outputs": [
    {
     "data": {
      "text/plain": [
       "3"
      ]
     },
     "execution_count": 48,
     "metadata": {},
     "output_type": "execute_result"
    }
   ],
   "source": [
    "m.get(1)"
   ]
  },
  {
   "cell_type": "code",
   "execution_count": 53,
   "id": "70161cef-1e9b-444d-9947-2f79ffe1db41",
   "metadata": {},
   "outputs": [],
   "source": [
    "m = MyLinkedList()"
   ]
  },
  {
   "cell_type": "code",
   "execution_count": 54,
   "id": "a89c4426-19ef-4b83-8ca3-a951c0bc37e9",
   "metadata": {},
   "outputs": [],
   "source": [
    "m.addAtHead(1)"
   ]
  },
  {
   "cell_type": "code",
   "execution_count": 55,
   "id": "9a2b240b-9a0a-4c10-96eb-01680fe489a0",
   "metadata": {},
   "outputs": [
    {
     "data": {
      "text/plain": [
       "[0, 1]"
      ]
     },
     "execution_count": 55,
     "metadata": {},
     "output_type": "execute_result"
    }
   ],
   "source": [
    "TraversalList(m.head)"
   ]
  },
  {
   "cell_type": "code",
   "execution_count": 56,
   "id": "050e5848-39c9-4c82-bc31-9a253624172e",
   "metadata": {},
   "outputs": [],
   "source": [
    "m.deleteAtIndex(0)"
   ]
  },
  {
   "cell_type": "code",
   "execution_count": 57,
   "id": "813dccfb-b631-4a80-ae71-4dcd070c045b",
   "metadata": {},
   "outputs": [
    {
     "data": {
      "text/plain": [
       "[0]"
      ]
     },
     "execution_count": 57,
     "metadata": {},
     "output_type": "execute_result"
    }
   ],
   "source": [
    "TraversalList(m.head)"
   ]
  },
  {
   "cell_type": "markdown",
   "id": "a1a03c32-e85a-4240-a492-0b394daaf891",
   "metadata": {},
   "source": [
    "## 1640. 能否连接形成数组"
   ]
  },
  {
   "cell_type": "code",
   "execution_count": 68,
   "id": "1d95170a-20d3-4ee3-80ee-48b7494001c3",
   "metadata": {},
   "outputs": [],
   "source": [
    "class Solution:\n",
    "    def canFormArray(self, arr: List[int], pieces: List[List[int]]) -> bool:\n",
    "        i = 0\n",
    "        p0 = [p[0] for p in pieces]\n",
    "        while i < len(arr):\n",
    "            if arr[i] not in p0: return False\n",
    "            idx = p0.index(arr[i])\n",
    "            for j, n in enumerate(pieces[idx]):\n",
    "                if arr[i+j] != n: return False\n",
    "            i += len(pieces[idx])\n",
    "        return True"
   ]
  },
  {
   "cell_type": "code",
   "execution_count": 75,
   "id": "df5f9d65-af6d-450e-9abc-2d294defec43",
   "metadata": {},
   "outputs": [],
   "source": [
    "arr = [91,4,64,78]\n",
    "pieces = [[78],[4,64],[91]]"
   ]
  },
  {
   "cell_type": "code",
   "execution_count": 76,
   "id": "4914e879-3a69-48b2-b958-c124ee3800d0",
   "metadata": {},
   "outputs": [
    {
     "data": {
      "text/plain": [
       "True"
      ]
     },
     "execution_count": 76,
     "metadata": {},
     "output_type": "execute_result"
    }
   ],
   "source": [
    "s = Solution()\n",
    "s.canFormArray(arr, pieces)"
   ]
  },
  {
   "cell_type": "markdown",
   "id": "e82ffd59-b10e-4f0a-882b-db2220dc0531",
   "metadata": {},
   "source": [
    "## 698. 划分为k个相等的子集"
   ]
  },
  {
   "cell_type": "markdown",
   "id": "6dd71eb0-0771-477e-99f4-1a0d7969fc8a",
   "metadata": {},
   "source": [
    "贪心加递归：每次都找数组里最大的数，直到target == 0为止"
   ]
  },
  {
   "cell_type": "code",
   "execution_count": 128,
   "id": "1ca51eb9-a6ba-4aff-a2c1-47b7464fc3f2",
   "metadata": {},
   "outputs": [],
   "source": [
    "from collections import Counter\n",
    "class Solution:\n",
    "    def canPartitionKSubsets(self, nums: List[int], k: int) -> bool:\n",
    "        Sum = sum(nums)\n",
    "        target = Sum//k\n",
    "        if Sum % k != 0 or max(nums) > target: return False\n",
    "    \n",
    "        count = Counter(nums)\n",
    "        keylist = list(count.keys())\n",
    "        ans = 0\n",
    "        \n",
    "        def DFS(cnt, keylist: list, tar):\n",
    "            nonlocal ans\n",
    "            keylist.sort(reverse=True)\n",
    "            if tar == 0: ans += 1\n",
    "            if keylist[-1] > tar: return\n",
    "            print(cnt, keylist)\n",
    "            # if keylist[0] == tar and cnt[keylist[0]]:\n",
    "            #     k -= 1\n",
    "            #     cnt[keylist[0]] -= 1\n",
    "            # for key in cnt:\n",
    "            #     if not cnt[key]: keylist.remove(key)\n",
    "            for k in keylist:\n",
    "                if k <= tar and cnt[k] > 0: break\n",
    "            cnt[k] -= 1\n",
    "            DFS(cnt, keylist, tar - k)\n",
    "        \n",
    "        for i in range(k):\n",
    "            DFS(cnt = count, keylist = keylist, tar = target)\n",
    "            \n",
    "        return ans == k\n",
    "        "
   ]
  },
  {
   "cell_type": "code",
   "execution_count": 145,
   "id": "7a3038fe-f396-48d6-a9ce-bee959916e8b",
   "metadata": {},
   "outputs": [],
   "source": [
    "nums = [1,2,2,2,2]\n",
    "k = 3"
   ]
  },
  {
   "cell_type": "code",
   "execution_count": 146,
   "id": "38bbf752-3676-43ab-a460-b76bfc97fb24",
   "metadata": {},
   "outputs": [
    {
     "data": {
      "text/plain": [
       "False"
      ]
     },
     "execution_count": 146,
     "metadata": {},
     "output_type": "execute_result"
    }
   ],
   "source": [
    "s = Solution()\n",
    "s.canPartitionKSubsets(nums, k)"
   ]
  },
  {
   "cell_type": "markdown",
   "id": "882d03b9-965d-420e-bf0e-b64faabb30f7",
   "metadata": {},
   "source": [
    "需要把用完的key删除"
   ]
  },
  {
   "cell_type": "code",
   "execution_count": 216,
   "id": "b492e265-26bb-40ab-8e7c-fa4bc73b5dad",
   "metadata": {},
   "outputs": [],
   "source": [
    "from collections import Counter\n",
    "class Solution:\n",
    "    def canPartitionKSubsets(self, nums: List[int], k: int) -> bool:\n",
    "        target = sum(nums)/k\n",
    "        if int(target) != target: return False\n",
    "        print(target)\n",
    "        \n",
    "        ans = 0\n",
    "        count = Counter(nums)\n",
    "        def DFS(cnt, target):\n",
    "            nonlocal ans\n",
    "            if target == 0:\n",
    "                # print(\"00000000000000000000000000\")\n",
    "                ans += 1\n",
    "                return\n",
    "            keylist = []\n",
    "            for key in cnt:\n",
    "                if cnt[key] != 0: keylist.append(key)\n",
    "            keylist.sort(reverse=True)\n",
    "            # print()\n",
    "            # print(cnt, keylist, target, ans)\n",
    "            if target < keylist[-1]: \n",
    "                # print(target, keylist)\n",
    "                # print(\"*********************\")\n",
    "                return\n",
    "            for key in keylist:\n",
    "                if key <= target:\n",
    "                    # print()\n",
    "                    # print(key)\n",
    "                    cnt[key] -= 1\n",
    "                    DFS(cnt, target - key)\n",
    "                    break\n",
    "        \n",
    "        for i in range(k):\n",
    "            DFS(count, int(target))\n",
    "        \n",
    "        return ans == k"
   ]
  },
  {
   "cell_type": "code",
   "execution_count": 217,
   "id": "dc080154-f5bb-4545-8246-281d8dd54281",
   "metadata": {},
   "outputs": [],
   "source": [
    "nums = [3522,181,521,515,304,123,2512,312,922,407,146,1932,4037,2646,3871,269]\n",
    "k = 5"
   ]
  },
  {
   "cell_type": "code",
   "execution_count": 218,
   "id": "5525c743-962c-4ed0-a82b-13ce955f8c70",
   "metadata": {},
   "outputs": [
    {
     "name": "stdout",
     "output_type": "stream",
     "text": [
      "4444.0\n"
     ]
    },
    {
     "data": {
      "text/plain": [
       "False"
      ]
     },
     "execution_count": 218,
     "metadata": {},
     "output_type": "execute_result"
    }
   ],
   "source": [
    "s = Solution()\n",
    "s.canPartitionKSubsets(nums, k)"
   ]
  },
  {
   "cell_type": "code",
   "execution_count": 219,
   "id": "4d076daa-07ab-4cc7-ba68-36b0e2a98a95",
   "metadata": {},
   "outputs": [
    {
     "data": {
      "text/plain": [
       "4444.0"
      ]
     },
     "execution_count": 219,
     "metadata": {},
     "output_type": "execute_result"
    }
   ],
   "source": [
    "nums = [3522,181,521,515,304,123,2512,312,922,407,146,1932,4037,2646,3871,269]\n",
    "nums.sort()\n",
    "nums\n",
    "sum(nums)/5"
   ]
  },
  {
   "cell_type": "markdown",
   "id": "b22e66f8-8c6b-44d6-8288-e1bebdf4fe1a",
   "metadata": {},
   "source": [
    "思路错了"
   ]
  },
  {
   "cell_type": "markdown",
   "id": "a8c09add-4565-4e93-90bd-6141381f2179",
   "metadata": {},
   "source": [
    "应该是回溯算法"
   ]
  },
  {
   "cell_type": "code",
   "execution_count": 307,
   "id": "c7abf265-8fd2-43bb-8851-a3488ad76f90",
   "metadata": {},
   "outputs": [],
   "source": [
    "class Solution:\n",
    "    def canPartitionKSubsets(self, nums: List[int], k: int) -> bool:\n",
    "        target = sum(nums)/k\n",
    "        if int(target) != target or max(nums) > target: return False\n",
    "\n",
    "        ans = 0\n",
    "        target = int(target)\n",
    "        count = Counter(nums)\n",
    "        \n",
    "        def DFS(cnt, target):\n",
    "            nonlocal ans\n",
    "            print()\n",
    "            print(target)\n",
    "            if target == 0: \n",
    "                ans += 1\n",
    "                return True\n",
    "            \n",
    "            keylist = []\n",
    "            for key in cnt:\n",
    "                if cnt[key] > 0: keylist.append(key)\n",
    "            print(keylist, ans)\n",
    "            if not keylist: return False\n",
    "            keylist.sort(reverse=True)\n",
    "            if target < keylist[-1]: \n",
    "                return False \n",
    "\n",
    "            for key in keylist:\n",
    "                if key <= target:\n",
    "                    cnt[key] -= 1\n",
    "                    if DFS(cnt, target - key): \n",
    "                        print(\"$$$$$$$$$$$$$\")\n",
    "                        return True\n",
    "                    else: cnt[key] += 1\n",
    "            \n",
    "            \n",
    "        \n",
    "        for i in range(k): \n",
    "            print(\"*****\",i)\n",
    "            DFS(count, target)\n",
    "        return ans == k\n",
    "            \n",
    "                    "
   ]
  },
  {
   "cell_type": "code",
   "execution_count": 310,
   "id": "037153b4-bb91-4335-8b74-1ecbe8bb4c5c",
   "metadata": {},
   "outputs": [],
   "source": [
    "nums = [0]\n",
    "k = 5"
   ]
  },
  {
   "cell_type": "code",
   "execution_count": 311,
   "id": "ad7de8da-f02f-4246-8794-ee95d8f3e723",
   "metadata": {},
   "outputs": [
    {
     "name": "stdout",
     "output_type": "stream",
     "text": [
      "***** 0\n",
      "\n",
      "0\n",
      "***** 1\n",
      "\n",
      "0\n",
      "***** 2\n",
      "\n",
      "0\n",
      "***** 3\n",
      "\n",
      "0\n",
      "***** 4\n",
      "\n",
      "0\n"
     ]
    },
    {
     "data": {
      "text/plain": [
       "True"
      ]
     },
     "execution_count": 311,
     "metadata": {},
     "output_type": "execute_result"
    }
   ],
   "source": [
    "s = Solution()\n",
    "s.canPartitionKSubsets(nums, k)"
   ]
  },
  {
   "cell_type": "code",
   "execution_count": 293,
   "id": "5a5eafca-7891-40a6-8573-7e7fbb652d3b",
   "metadata": {},
   "outputs": [],
   "source": [
    "class Solution:\n",
    "    def canPartitionKSubsets(self, nums: List[int], k: int) -> bool:\n",
    "        target = sum(nums)/k\n",
    "        if int(target) != target or max(nums) > target: return False\n",
    "\n",
    "        ans = 0\n",
    "        target = int(target)\n",
    "        count = Counter(nums)\n",
    "        \n",
    "        def DFS(cnt, target):\n",
    "            nonlocal ans\n",
    "            if target == 0: \n",
    "                ans += 1\n",
    "                return True\n",
    "            \n",
    "            keylist = []\n",
    "            for key in cnt:\n",
    "                if cnt[key] > 0: keylist.append(key)\n",
    "            if not keylist: return False\n",
    "            keylist.sort(reverse=True)\n",
    "            if target < keylist[-1]: \n",
    "                return False \n",
    "\n",
    "            for key in keylist:\n",
    "                if key <= target:\n",
    "                    cnt[key] -= 1\n",
    "                    if DFS(cnt, target - key): return True\n",
    "                    else: cnt[key] += 1\n",
    "    \n",
    "        for i in range(k): DFS(count, target)\n",
    "        return ans == k\n",
    "            \n",
    "                    "
   ]
  },
  {
   "cell_type": "code",
   "execution_count": 294,
   "id": "bf21536f-a12b-470c-9458-926fe3af167f",
   "metadata": {},
   "outputs": [],
   "source": [
    "nums = [4,5,9,3,10,2,10,7,10,8,5,9,4,6,4,9]\n",
    "k = 5"
   ]
  },
  {
   "cell_type": "code",
   "execution_count": 295,
   "id": "0d89300e-b7a8-4183-9fc2-31ed288a9e99",
   "metadata": {},
   "outputs": [
    {
     "data": {
      "text/plain": [
       "False"
      ]
     },
     "execution_count": 295,
     "metadata": {},
     "output_type": "execute_result"
    }
   ],
   "source": [
    "s = Solution()\n",
    "s.canPartitionKSubsets(nums, k)"
   ]
  },
  {
   "cell_type": "markdown",
   "id": "b4273994-e51e-4526-a1b3-12986a2884cc",
   "metadata": {},
   "source": [
    "回溯层数不够，没有穷举完所有的可能性"
   ]
  },
  {
   "cell_type": "code",
   "execution_count": null,
   "id": "7b3af8fa-bd35-4ba8-b33f-528cf5c3c2c0",
   "metadata": {},
   "outputs": [],
   "source": [
    "class Solution:\n",
    "    def canPartitionKSubsets(self, nums: List[int], k: int) -> bool:\n",
    "        def dfs(i):\n",
    "            if i == len(nums):\n",
    "                return True\n",
    "            for j in range(k):\n",
    "                if j and cur[j] == cur[j - 1]:\n",
    "                    continue\n",
    "                cur[j] += nums[i]\n",
    "                if cur[j] <= s and dfs(i + 1):\n",
    "                    return True\n",
    "                cur[j] -= nums[i]\n",
    "            return False\n",
    "\n",
    "        s, mod = divmod(sum(nums), k)\n",
    "        if mod:\n",
    "            return False\n",
    "        cur = [0] * k\n",
    "        nums.sort(reverse=True)\n",
    "        return dfs(0)"
   ]
  },
  {
   "cell_type": "markdown",
   "id": "5ffd7dff-1143-4818-94b1-890bda06be5a",
   "metadata": {},
   "source": [
    "再议"
   ]
  },
  {
   "cell_type": "markdown",
   "id": "45385b31-d427-467f-919f-ae135d7f4ee3",
   "metadata": {},
   "source": [
    "## 22. 括号生成"
   ]
  },
  {
   "cell_type": "code",
   "execution_count": 338,
   "id": "c4b96551-51ab-47b6-8e7c-37125c4c2402",
   "metadata": {},
   "outputs": [],
   "source": [
    "class Solution:\n",
    "    def generateParenthesis(self, n: int) -> List[str]:\n",
    "        path = {\"()\"}\n",
    "        def DFS(p, cnt):\n",
    "            # print(p)\n",
    "            curpath = set()\n",
    "            if not cnt: return p\n",
    "            for choice in p:\n",
    "                for i in range(len(choice)):\n",
    "                    head, tail = choice[0:i], choice[i:]\n",
    "                    combine = head + \"()\" + tail\n",
    "                    curpath.add(combine)\n",
    "            p = curpath\n",
    "            return DFS(p, cnt-1)\n",
    "            \n",
    "        return list(DFS(path, n-1))"
   ]
  },
  {
   "cell_type": "code",
   "execution_count": 340,
   "id": "d6173eba-8c20-4c36-8a24-38e8b279988c",
   "metadata": {},
   "outputs": [
    {
     "data": {
      "text/plain": [
       "['()(())', '(())()', '()()()', '(()())', '((()))']"
      ]
     },
     "execution_count": 340,
     "metadata": {},
     "output_type": "execute_result"
    }
   ],
   "source": [
    "s = Solution()\n",
    "s.generateParenthesis(3)"
   ]
  },
  {
   "cell_type": "markdown",
   "id": "b7350281-6333-4d84-93f1-af28c3e4069f",
   "metadata": {},
   "source": [
    "## 788. 旋转数字 (9.25)"
   ]
  },
  {
   "cell_type": "markdown",
   "id": "0999a075-14cd-4bb9-aa8d-e6a3d37d3716",
   "metadata": {},
   "source": [
    "一个数是好数，当且仅当：\n",
    "\n",
    "- 数中没有出现 3， 4， 7\n",
    "- 数中至少出现一次2， 5， 6， 9\n",
    "- 对于0， 1， 8则没有要求"
   ]
  },
  {
   "cell_type": "code",
   "execution_count": 54,
   "id": "64ade80e-1423-4212-8c3c-877a03e38195",
   "metadata": {},
   "outputs": [],
   "source": [
    "# 枚举\n",
    "class Solution:\n",
    "    def rotatedDigits(self, n: int) -> int:\n",
    "        cnt = 0 \n",
    "        invaild = [\"3\", \"4\", \"7\"]\n",
    "        vaild = [\"2\", \"5\", \"6\", \"9\"]\n",
    "        for i in range(n+1):\n",
    "            break1 = 0\n",
    "            for inv in invaild:\n",
    "                if inv in str(i): \n",
    "                    break1 = 1\n",
    "                    break\n",
    "            if break1: continue\n",
    "            for va in vaild:\n",
    "                if va in str(i):\n",
    "                    cnt += 1\n",
    "                    break\n",
    "        return cnt"
   ]
  },
  {
   "cell_type": "code",
   "execution_count": 55,
   "id": "0ddb8f56-1bf3-4e3f-8af0-b4ad16102a3e",
   "metadata": {},
   "outputs": [
    {
     "data": {
      "text/plain": [
       "2320"
      ]
     },
     "execution_count": 55,
     "metadata": {},
     "output_type": "execute_result"
    }
   ],
   "source": [
    "s = Solution()\n",
    "s.rotatedDigits(10000)"
   ]
  },
  {
   "cell_type": "code",
   "execution_count": 49,
   "id": "85783360-90ec-406a-b92d-3078d9193fa1",
   "metadata": {},
   "outputs": [],
   "source": [
    "# official\n",
    "class Solution:\n",
    "    def rotatedDigits(self, n: int) -> int:\n",
    "        check = [0, 0, 1, -1, -1, 1, 1, -1, 0, 1]\n",
    "        ans = 0\n",
    "        for i in range(1, n + 1):\n",
    "            num = [int(digit) for digit in str(i)]\n",
    "            valid, diff = True, False\n",
    "            for digit in num:\n",
    "                if check[digit] == -1:\n",
    "                    valid = False\n",
    "                elif check[digit] == 1:\n",
    "                    diff = True\n",
    "            if valid and diff:\n",
    "                ans += 1\n",
    "        \n",
    "        return ans"
   ]
  },
  {
   "cell_type": "markdown",
   "id": "f6d3b5d7-3d89-43b2-8f2e-4a6625d56911",
   "metadata": {},
   "source": [
    "每位都在(2, 5, 6, 9, 0, 1, 8)内，至少一位在(2, 5, 6, 9)内"
   ]
  },
  {
   "cell_type": "code",
   "execution_count": 56,
   "id": "d9eda411-2c3f-4b8e-8642-36c323d76e85",
   "metadata": {},
   "outputs": [],
   "source": [
    "from collections import Counter\n",
    "class Solution:\n",
    "    def rotatedDigits(self, n: int) -> int:\n",
    "        invaild = [\"3\", \"4\", \"7\"]\n",
    "        same = [\"0\", \"1\", \"8\"]\n",
    "        ans = 0\n",
    "        for i in range(n+1):\n",
    "            c = Counter(str(i))\n",
    "            break1 = 0\n",
    "            for inv in invaild:\n",
    "                if inv in c:\n",
    "                    break1 = 1\n",
    "                    break\n",
    "            if break1: continue\n",
    "            cnt = 0\n",
    "            for s in same: cnt += c[s]\n",
    "            if cnt == len(str(i)): continue\n",
    "            ans += 1\n",
    "        return ans"
   ]
  },
  {
   "cell_type": "code",
   "execution_count": 57,
   "id": "54cf8d60-4f06-4c07-b830-5261b4d79b06",
   "metadata": {},
   "outputs": [
    {
     "data": {
      "text/plain": [
       "2320"
      ]
     },
     "execution_count": 57,
     "metadata": {},
     "output_type": "execute_result"
    }
   ],
   "source": [
    "s = Solution()\n",
    "s.rotatedDigits(10000)"
   ]
  },
  {
   "cell_type": "markdown",
   "id": "534c8996-2c3c-4524-a73f-d0f16dc070df",
   "metadata": {},
   "source": [
    "以上都是nlog(n)复杂度"
   ]
  },
  {
   "cell_type": "markdown",
   "id": "46dc3b6c-61f5-484d-97d9-7d4bd418b946",
   "metadata": {},
   "source": [
    "### 数位dp"
   ]
  },
  {
   "cell_type": "markdown",
   "id": "5182a287-61ef-4bb0-ae09-281517a3b713",
   "metadata": {},
   "source": [
    "- pos: 当前枚举到的位置，越界则代表枚举完了一种情况\n",
    "- bound: pos之前所枚举的数字是否“贴着”n,举例来说：n = 1234，此时pos = 2， 若之前的   枚举为： 12， 则pos处的值只能选择[0, 4]之间的数字，若之前的枚举为： 11，则pos处可   以枚举[0, 10]\n",
    "- diff: 用于判断截止到目前的枚举是否合法，由定义可知，枚举的数字中出现至少一个2,5,6,9\n",
    "  即可视为一个合法的“好数”"
   ]
  },
  {
   "cell_type": "markdown",
   "id": "cf1da5c6-d5a0-4d66-acbb-266f1d4049fe",
   "metadata": {},
   "source": [
    "**重点：bound 与 diff 在枚举过程中如何变化**\n",
    "- bound：$bound_{n+1} = 1$  当且仅当  $bound_{n} = 1 \\quad and \\quad i = digits[pos]$\n",
    "\n",
    "- diff:  $若 \\quad diff_{n} = 1 \\quad or \\quad check[pos] = 1, 则 \\quad diff_{n+1} = 1$ "
   ]
  },
  {
   "cell_type": "code",
   "execution_count": 79,
   "id": "2d456f7d-b44d-4a41-abd8-6a8d452ac7b4",
   "metadata": {},
   "outputs": [],
   "source": [
    "class Solution:\n",
    "    def rotatedDigits(self, n: int) -> int:\n",
    "        check = [0, 0, 1, -1, -1, 1, 1, -1, 0, 1]\n",
    "        digits = [int(digit) for digit in str(n)]\n",
    "\n",
    "        # @cache\n",
    "        def dfs(pos: int, bound: bool, diff: bool) -> int:\n",
    "            # print(pos, bound, diff)\n",
    "            if pos == len(digits):\n",
    "                return int(diff)\n",
    "            \n",
    "            ret = 0\n",
    "            for i in range(0, (digits[pos] if bound else 9) + 1):\n",
    "                if check[i] != -1:\n",
    "                    ret += dfs(\n",
    "                        pos + 1,\n",
    "                        bound and i == digits[pos],\n",
    "                        diff or check[i] == 1\n",
    "                    )\n",
    "            \n",
    "            return ret\n",
    "            \n",
    "        \n",
    "        ans = dfs(0, True, False)\n",
    "        # dfs.cache_clear()\n",
    "        return ans"
   ]
  },
  {
   "cell_type": "code",
   "execution_count": 80,
   "id": "f90f6a77-5037-4d43-b66e-a49a80ac6ae2",
   "metadata": {},
   "outputs": [
    {
     "data": {
      "text/plain": [
       "1"
      ]
     },
     "execution_count": 80,
     "metadata": {},
     "output_type": "execute_result"
    }
   ],
   "source": [
    "s = Solution()\n",
    "s.rotatedDigits(2)"
   ]
  },
  {
   "cell_type": "markdown",
   "id": "98436019-42b9-4db8-bf81-2b6d269f2dd2",
   "metadata": {},
   "source": [
    "不明白cache在这里的作用，先直接数位枚举"
   ]
  },
  {
   "cell_type": "code",
   "execution_count": 92,
   "id": "8b11a5fa-fa10-46d0-9bd6-e2e520b01a8e",
   "metadata": {},
   "outputs": [],
   "source": [
    "class Solution:\n",
    "    def rotatedDigits(self, n: int) -> int:\n",
    "        check = [0, 0, 1, -1, -1, 1, 1, -1, 0, 1]\n",
    "        num = [int(d) for d in str(n)]\n",
    "        \n",
    "        def DFS(pos: int, bound: bool, legal: bool) -> int:\n",
    "            print(pos, bound, legal)\n",
    "            if pos == len(num): return int(legal)\n",
    "            ans = 0\n",
    "            for i in range(num[pos] + 1 if bound else 10):\n",
    "                if check[i] != -1:\n",
    "                    ans += DFS(pos+1, bound and i == num[pos], legal or check[i]==1)\n",
    "            return ans\n",
    "        return DFS(0, True, False)"
   ]
  },
  {
   "cell_type": "code",
   "execution_count": 93,
   "id": "b0dfb090-0856-4d72-8719-a0e31c99866a",
   "metadata": {},
   "outputs": [
    {
     "name": "stdout",
     "output_type": "stream",
     "text": [
      "0 True False\n",
      "1 False False\n",
      "1 False False\n",
      "1 True True\n"
     ]
    },
    {
     "data": {
      "text/plain": [
       "1"
      ]
     },
     "execution_count": 93,
     "metadata": {},
     "output_type": "execute_result"
    }
   ],
   "source": [
    "s = Solution()\n",
    "s.rotatedDigits(2)"
   ]
  },
  {
   "cell_type": "code",
   "execution_count": null,
   "id": "2568f1c5-b87f-4a31-ab97-ce6d5e9e47a1",
   "metadata": {},
   "outputs": [],
   "source": []
  },
  {
   "cell_type": "code",
   "execution_count": null,
   "id": "fce1c70a-d5d9-43a4-899e-a3b3c904fa8d",
   "metadata": {},
   "outputs": [],
   "source": []
  },
  {
   "cell_type": "code",
   "execution_count": null,
   "id": "3b2120ec-5f95-4f96-a00e-699b7e9b8e01",
   "metadata": {},
   "outputs": [],
   "source": []
  },
  {
   "cell_type": "code",
   "execution_count": null,
   "id": "5e177fed-b57c-426e-a5c7-217d413a4287",
   "metadata": {},
   "outputs": [],
   "source": []
  },
  {
   "cell_type": "code",
   "execution_count": null,
   "id": "9664d278-44e2-4c57-9450-13f73e28ceed",
   "metadata": {},
   "outputs": [],
   "source": []
  },
  {
   "cell_type": "code",
   "execution_count": null,
   "id": "fa74093f-e76b-4aad-bb0a-0c13138baf10",
   "metadata": {},
   "outputs": [],
   "source": []
  },
  {
   "cell_type": "code",
   "execution_count": null,
   "id": "d98d4339-74f1-4fa6-a8df-2cd027fcf54e",
   "metadata": {},
   "outputs": [],
   "source": []
  },
  {
   "cell_type": "code",
   "execution_count": null,
   "id": "74565b3e-af8b-4264-97d4-4cab3075c59a",
   "metadata": {},
   "outputs": [],
   "source": []
  },
  {
   "cell_type": "code",
   "execution_count": null,
   "id": "36a54072-03b7-4e8f-9d65-ce625f08a915",
   "metadata": {},
   "outputs": [],
   "source": []
  }
 ],
 "metadata": {
  "kernelspec": {
   "display_name": "Python 3 (ipykernel)",
   "language": "python",
   "name": "python3"
  },
  "language_info": {
   "codemirror_mode": {
    "name": "ipython",
    "version": 3
   },
   "file_extension": ".py",
   "mimetype": "text/x-python",
   "name": "python",
   "nbconvert_exporter": "python",
   "pygments_lexer": "ipython3",
   "version": "3.6.3"
  }
 },
 "nbformat": 4,
 "nbformat_minor": 5
}
