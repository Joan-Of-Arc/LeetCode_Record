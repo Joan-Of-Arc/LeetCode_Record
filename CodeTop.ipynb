{
 "cells": [
  {
   "cell_type": "markdown",
   "id": "eff5a61d-f729-4c66-98bc-6d6fab2a8083",
   "metadata": {},
   "source": [
    "## 3. 无重复字符的最长子串"
   ]
  },
  {
   "cell_type": "markdown",
   "id": "fa1857ad-dfa5-41c6-955b-abeedc1234bf",
   "metadata": {},
   "source": [
    "滑窗 + 哈希表"
   ]
  },
  {
   "cell_type": "code",
   "execution_count": 37,
   "id": "77f7d997-48c3-4f83-8950-b49e4498383d",
   "metadata": {},
   "outputs": [],
   "source": [
    "from collections import defaultdict\n",
    "class Solution:\n",
    "    def lengthOfLongestSubstring(self, s: str) -> int:\n",
    "        cnt = defaultdict(int)\n",
    "        left = right = 0\n",
    "        ans = 0\n",
    "        while right < len(s):\n",
    "            # print(cnt)\n",
    "            cur = s[right]\n",
    "            cnt[cur] += 1\n",
    "            while cnt[cur] > 1 and left <= right:\n",
    "                cnt[s[left]] -= 1\n",
    "                left += 1\n",
    "            right += 1\n",
    "            ans = max(ans, right - left)\n",
    "        return ans"
   ]
  },
  {
   "cell_type": "code",
   "execution_count": 38,
   "id": "949d3972-e08e-4180-93d4-fb044c293142",
   "metadata": {},
   "outputs": [],
   "source": [
    "s = \"\""
   ]
  },
  {
   "cell_type": "code",
   "execution_count": 39,
   "id": "29df213e-885e-42de-a990-940aef8dc344",
   "metadata": {},
   "outputs": [
    {
     "data": {
      "text/plain": [
       "0"
      ]
     },
     "execution_count": 39,
     "metadata": {},
     "output_type": "execute_result"
    }
   ],
   "source": [
    "S = Solution()\n",
    "S.lengthOfLongestSubstring(s)"
   ]
  },
  {
   "cell_type": "markdown",
   "id": "3ecf8f07-2615-446d-a90b-8ee94b0fc0a6",
   "metadata": {},
   "source": [
    "也可以用set代替哈希表的作用"
   ]
  },
  {
   "cell_type": "markdown",
   "id": "aed01b4e-a666-4f8d-9cbe-ab33ec27d893",
   "metadata": {},
   "source": [
    "## 206. 反转链表"
   ]
  },
  {
   "cell_type": "markdown",
   "id": "95098a47-d956-4c88-ac4b-4414481a8f73",
   "metadata": {},
   "source": [
    "链表常见双指针"
   ]
  },
  {
   "cell_type": "code",
   "execution_count": 40,
   "id": "1215f95d-87b8-4eda-8c3a-fa9d2fb88f5b",
   "metadata": {},
   "outputs": [],
   "source": [
    "# Definition for singly-linked list.\n",
    "class ListNode:\n",
    "    def __init__(self, val=0, next=None):\n",
    "        self.val = val\n",
    "        self.next = next"
   ]
  },
  {
   "cell_type": "code",
   "execution_count": 43,
   "id": "2cde8fdb-407b-4982-8792-d46c85f26331",
   "metadata": {},
   "outputs": [],
   "source": [
    "from typing import Optional\n",
    "class Solution:\n",
    "    def reverseList(self, head: Optional[ListNode]) -> Optional[ListNode]:\n",
    "        pre, cur = None, head\n",
    "        while cur:\n",
    "            nxt = cur.next\n",
    "            cur.next = pre\n",
    "            pre = cur\n",
    "            cur = nxt\n",
    "        return pre"
   ]
  },
  {
   "cell_type": "markdown",
   "id": "e9d92aa3-b830-4aaf-b2be-102b3fbc9efa",
   "metadata": {},
   "source": [
    "### 递归"
   ]
  },
  {
   "cell_type": "code",
   "execution_count": 45,
   "id": "8bf55503-2a0c-4c7c-9937-833df4a812fa",
   "metadata": {},
   "outputs": [],
   "source": [
    "class Solution:\n",
    "    def reverseList(self, head: Optional[ListNode]) -> Optional[ListNode]:\n",
    "        def reverse(pre, cur):\n",
    "            if not cur: return pre\n",
    "            nxt = cur.next\n",
    "            cur.next = pre\n",
    "            return reverse(cur, nxt)\n",
    "        return reverse(None, head)"
   ]
  },
  {
   "cell_type": "markdown",
   "id": "6984328d-f6c0-4a3d-9bf8-95cd36957155",
   "metadata": {},
   "source": [
    "## 146. LRU缓存"
   ]
  },
  {
   "cell_type": "markdown",
   "id": "15b94312-69c0-4555-a5cf-cd45b256024f",
   "metadata": {},
   "source": [
    "栈 + 哈希表"
   ]
  },
  {
   "cell_type": "code",
   "execution_count": 47,
   "id": "ab2aed00-50ee-4787-a31d-33ce16ee891c",
   "metadata": {},
   "outputs": [],
   "source": [
    "from collections import defaultdict, deque\n",
    "class LRUCache:\n",
    "\n",
    "    def __init__(self, capacity: int):\n",
    "        self.maxlen = capacity\n",
    "        self.len = 0\n",
    "        self.stk = deque()\n",
    "        self.map = defaultdict(list)\n",
    "        \n",
    "    def get(self, key: int) -> int:\n",
    "        return self.map[key][-1] if key in self.map else -1\n",
    "        \n",
    "    def put(self, key: int, value: int) -> None:\n",
    "        if self.len == self.maxlen:\n",
    "            cur = self.stk.popleft()\n",
    "            if not self.map[cur]: del self.map[cur]\n",
    "            else: self.map[cur].pop()\n",
    "        \n",
    "        self.stk.append(key)\n",
    "        self.map[key].append(value)\n",
    "        self.len += 1"
   ]
  },
  {
   "cell_type": "code",
   "execution_count": null,
   "id": "f89c3225-5536-49fc-be3a-1504ad01d961",
   "metadata": {},
   "outputs": [],
   "source": []
  },
  {
   "cell_type": "code",
   "execution_count": null,
   "id": "999d9357-7945-4dfa-87c2-5d309e5354d0",
   "metadata": {},
   "outputs": [],
   "source": []
  },
  {
   "cell_type": "code",
   "execution_count": null,
   "id": "ecd8451b-dfdf-47f3-9584-2a5a8fef8812",
   "metadata": {},
   "outputs": [],
   "source": []
  },
  {
   "cell_type": "code",
   "execution_count": null,
   "id": "a62dd03d-1d47-4aa6-916a-b3b5a27a9b36",
   "metadata": {},
   "outputs": [],
   "source": []
  },
  {
   "cell_type": "code",
   "execution_count": null,
   "id": "5d65fc60-8104-49bb-a4d8-2fdb1324bf5f",
   "metadata": {},
   "outputs": [],
   "source": []
  },
  {
   "cell_type": "code",
   "execution_count": null,
   "id": "f21985fe-f458-4b8d-8c32-7a615c3fbd39",
   "metadata": {},
   "outputs": [],
   "source": []
  },
  {
   "cell_type": "code",
   "execution_count": null,
   "id": "1dc3b136-2c84-43b4-9d98-eed5fd19ebec",
   "metadata": {},
   "outputs": [],
   "source": []
  },
  {
   "cell_type": "code",
   "execution_count": null,
   "id": "4b1c369f-aef4-4873-bc29-95ee1674869f",
   "metadata": {},
   "outputs": [],
   "source": []
  },
  {
   "cell_type": "code",
   "execution_count": null,
   "id": "4fa6a365-d04f-48c7-95cc-6da4165db89e",
   "metadata": {},
   "outputs": [],
   "source": []
  },
  {
   "cell_type": "code",
   "execution_count": null,
   "id": "69ee2dac-4ddb-4bd9-8e09-6af76bb201ef",
   "metadata": {},
   "outputs": [],
   "source": []
  },
  {
   "cell_type": "code",
   "execution_count": null,
   "id": "8e5e5df1-51a5-40f8-b7ec-cad4bcb2b6cf",
   "metadata": {},
   "outputs": [],
   "source": []
  },
  {
   "cell_type": "code",
   "execution_count": null,
   "id": "8ed6a376-54d0-4867-97ff-c575b20a49c4",
   "metadata": {},
   "outputs": [],
   "source": []
  },
  {
   "cell_type": "code",
   "execution_count": null,
   "id": "c48e75bb-c8e7-4c47-89a6-b97dfb4ba5b3",
   "metadata": {},
   "outputs": [],
   "source": []
  },
  {
   "cell_type": "code",
   "execution_count": null,
   "id": "0f1710f7-68a4-48cb-ae62-a921a9d7364f",
   "metadata": {},
   "outputs": [],
   "source": []
  },
  {
   "cell_type": "code",
   "execution_count": null,
   "id": "d91661d8-33a6-49af-8c8a-8647db646409",
   "metadata": {},
   "outputs": [],
   "source": []
  },
  {
   "cell_type": "code",
   "execution_count": null,
   "id": "12a746d2-60d8-4546-b39d-7218330f4952",
   "metadata": {},
   "outputs": [],
   "source": []
  },
  {
   "cell_type": "code",
   "execution_count": null,
   "id": "689a475b-5c04-4531-a9dc-a674d2589aa3",
   "metadata": {},
   "outputs": [],
   "source": []
  },
  {
   "cell_type": "code",
   "execution_count": null,
   "id": "566a8467-6eb8-4ac8-871a-cd5c3d66187c",
   "metadata": {},
   "outputs": [],
   "source": []
  },
  {
   "cell_type": "code",
   "execution_count": null,
   "id": "9f9e3dfd-2b57-4242-8d74-17e494863bb2",
   "metadata": {},
   "outputs": [],
   "source": []
  },
  {
   "cell_type": "code",
   "execution_count": null,
   "id": "3911fa89-6fb4-44cf-acae-728a23f6031b",
   "metadata": {},
   "outputs": [],
   "source": []
  },
  {
   "cell_type": "code",
   "execution_count": null,
   "id": "bdac54a1-4e70-4e82-9b36-9ed972a04431",
   "metadata": {},
   "outputs": [],
   "source": []
  },
  {
   "cell_type": "code",
   "execution_count": null,
   "id": "a77b3e04-365f-4bd1-b414-d863d8c7657c",
   "metadata": {},
   "outputs": [],
   "source": []
  },
  {
   "cell_type": "code",
   "execution_count": null,
   "id": "c57b5dc6-fe1d-46ee-8138-a089924ce500",
   "metadata": {},
   "outputs": [],
   "source": []
  },
  {
   "cell_type": "code",
   "execution_count": null,
   "id": "39c949fa-2407-43a4-9bfd-afe19ec197ac",
   "metadata": {},
   "outputs": [],
   "source": []
  },
  {
   "cell_type": "code",
   "execution_count": null,
   "id": "8948115e-6426-4fc3-8a1b-fe55a980c81b",
   "metadata": {},
   "outputs": [],
   "source": []
  }
 ],
 "metadata": {
  "kernelspec": {
   "display_name": "Python 3 (ipykernel)",
   "language": "python",
   "name": "python3"
  },
  "language_info": {
   "codemirror_mode": {
    "name": "ipython",
    "version": 3
   },
   "file_extension": ".py",
   "mimetype": "text/x-python",
   "name": "python",
   "nbconvert_exporter": "python",
   "pygments_lexer": "ipython3",
   "version": "3.6.3"
  }
 },
 "nbformat": 4,
 "nbformat_minor": 5
}
