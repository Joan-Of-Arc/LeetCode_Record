{
 "cells": [
  {
   "cell_type": "markdown",
   "id": "eff5a61d-f729-4c66-98bc-6d6fab2a8083",
   "metadata": {},
   "source": [
    "## 3. 无重复字符的最长子串"
   ]
  },
  {
   "cell_type": "markdown",
   "id": "fa1857ad-dfa5-41c6-955b-abeedc1234bf",
   "metadata": {},
   "source": [
    "滑窗 + 哈希表"
   ]
  },
  {
   "cell_type": "code",
   "execution_count": 37,
   "id": "77f7d997-48c3-4f83-8950-b49e4498383d",
   "metadata": {},
   "outputs": [],
   "source": [
    "from collections import defaultdict\n",
    "class Solution:\n",
    "    def lengthOfLongestSubstring(self, s: str) -> int:\n",
    "        cnt = defaultdict(int)\n",
    "        left = right = 0\n",
    "        ans = 0\n",
    "        while right < len(s):\n",
    "            # print(cnt)\n",
    "            cur = s[right]\n",
    "            cnt[cur] += 1\n",
    "            while cnt[cur] > 1 and left <= right:\n",
    "                cnt[s[left]] -= 1\n",
    "                left += 1\n",
    "            right += 1\n",
    "            ans = max(ans, right - left)\n",
    "        return ans"
   ]
  },
  {
   "cell_type": "code",
   "execution_count": 38,
   "id": "949d3972-e08e-4180-93d4-fb044c293142",
   "metadata": {},
   "outputs": [],
   "source": [
    "s = \"\""
   ]
  },
  {
   "cell_type": "code",
   "execution_count": 39,
   "id": "29df213e-885e-42de-a990-940aef8dc344",
   "metadata": {},
   "outputs": [
    {
     "data": {
      "text/plain": [
       "0"
      ]
     },
     "execution_count": 39,
     "metadata": {},
     "output_type": "execute_result"
    }
   ],
   "source": [
    "S = Solution()\n",
    "S.lengthOfLongestSubstring(s)"
   ]
  },
  {
   "cell_type": "markdown",
   "id": "3ecf8f07-2615-446d-a90b-8ee94b0fc0a6",
   "metadata": {},
   "source": [
    "也可以用set代替哈希表的作用"
   ]
  },
  {
   "cell_type": "markdown",
   "id": "aed01b4e-a666-4f8d-9cbe-ab33ec27d893",
   "metadata": {},
   "source": [
    "## 206. 反转链表"
   ]
  },
  {
   "cell_type": "markdown",
   "id": "95098a47-d956-4c88-ac4b-4414481a8f73",
   "metadata": {},
   "source": [
    "链表常见双指针"
   ]
  },
  {
   "cell_type": "code",
   "execution_count": 40,
   "id": "1215f95d-87b8-4eda-8c3a-fa9d2fb88f5b",
   "metadata": {},
   "outputs": [],
   "source": [
    "# Definition for singly-linked list.\n",
    "class ListNode:\n",
    "    def __init__(self, val=0, next=None):\n",
    "        self.val = val\n",
    "        self.next = next"
   ]
  },
  {
   "cell_type": "code",
   "execution_count": 43,
   "id": "2cde8fdb-407b-4982-8792-d46c85f26331",
   "metadata": {},
   "outputs": [],
   "source": [
    "from typing import Optional\n",
    "class Solution:\n",
    "    def reverseList(self, head: Optional[ListNode]) -> Optional[ListNode]:\n",
    "        pre, cur = None, head\n",
    "        while cur:\n",
    "            nxt = cur.next\n",
    "            cur.next = pre\n",
    "            pre = cur\n",
    "            cur = nxt\n",
    "        return pre"
   ]
  },
  {
   "cell_type": "markdown",
   "id": "e9d92aa3-b830-4aaf-b2be-102b3fbc9efa",
   "metadata": {},
   "source": [
    "### 递归"
   ]
  },
  {
   "cell_type": "code",
   "execution_count": 45,
   "id": "8bf55503-2a0c-4c7c-9937-833df4a812fa",
   "metadata": {},
   "outputs": [],
   "source": [
    "class Solution:\n",
    "    def reverseList(self, head: Optional[ListNode]) -> Optional[ListNode]:\n",
    "        def reverse(pre, cur):\n",
    "            if not cur: return pre\n",
    "            nxt = cur.next\n",
    "            cur.next = pre\n",
    "            return reverse(cur, nxt)\n",
    "        return reverse(None, head)"
   ]
  },
  {
   "cell_type": "markdown",
   "id": "6984328d-f6c0-4a3d-9bf8-95cd36957155",
   "metadata": {},
   "source": [
    "## 146. LRU缓存 (重要)"
   ]
  },
  {
   "cell_type": "markdown",
   "id": "15b94312-69c0-4555-a5cf-cd45b256024f",
   "metadata": {},
   "source": [
    "双向链表 + 哈希表"
   ]
  },
  {
   "cell_type": "markdown",
   "id": "fa402a1b-4ef8-4939-a537-9d7b092a9df5",
   "metadata": {},
   "source": [
    "哈希表中存放双向链表的节点，这样就能以 O(1) 的复杂度进行查询；定位到要操作的节点之后，双链表的增删改都是 O(1) 的复杂度。 同时双向链表中存储键值对，查询映射关系。"
   ]
  },
  {
   "cell_type": "code",
   "execution_count": 5,
   "id": "f89c3225-5536-49fc-be3a-1504ad01d961",
   "metadata": {},
   "outputs": [],
   "source": [
    "# 定义双向链表，并且存储键值对\n",
    "class DLinkedNode:\n",
    "    def __init__(self, key = 0, value = 0):\n",
    "        self.key = key\n",
    "        self.value = value\n",
    "        self.prev = None\n",
    "        self.next = None\n",
    "\n",
    "class LRUCache:\n",
    "\n",
    "    def __init__(self, capacity: int):\n",
    "        self.cache = dict()\n",
    "        self.head = DLinkedNode()\n",
    "        self.tail = DLinkedNode()  # 伪头部和伪尾节点\n",
    "        self.head.next = self.tail\n",
    "        self.tail.prev = self.head\n",
    "        self.capacity = capacity\n",
    "        self.size = 0\n",
    "        \n",
    "    def get(self, key: int) -> int:\n",
    "        if key not in self.cache:\n",
    "            return -1\n",
    "        # 如果 key 存在，先通过哈希表进行定位，再移动到头部\n",
    "        node = self.cache[key]\n",
    "        self.moveToHead(node)\n",
    "        return node.value\n",
    "        \n",
    "    def put(self, key: int, value: int) -> None:\n",
    "        if key not in self.cache:\n",
    "            # 如果 key 不存在，创建一个新的节点\n",
    "            node = DLinkedNode(key, value)\n",
    "            # 添加进哈希表\n",
    "            self.cache[key] = node\n",
    "            # 添加至双向链表的头部\n",
    "            self.addToHead(node)\n",
    "            self.size += 1\n",
    "            if self.size > self.capacity:\n",
    "                # 如果超出容量，删除双向链表的尾部节点\n",
    "                removed = self.removeTail()\n",
    "                # 删除哈希表中对应的项\n",
    "                self.cache.pop(removed.key)\n",
    "                self.size -= 1\n",
    "        else:\n",
    "            # 如果 key 存在，先通过哈希表定位，再修改 value，并移到头部\n",
    "            node = self.cache[key]\n",
    "            node.value = value\n",
    "            self.moveToHead(node)\n",
    "    \n",
    "    def addToHead(self, node):\n",
    "        node.prev = self.head\n",
    "        node.next = self.head.next\n",
    "        self.head.next.prev = node\n",
    "        self.head.next = node\n",
    "    \n",
    "    def removeNode(self, node):\n",
    "        node.prev.next = node.next\n",
    "        node.next.prev = node.prev\n",
    "        \n",
    "    def moveToHead(self, node):\n",
    "        self.removeNode(node)\n",
    "        self.addToHead(node)\n",
    "    \n",
    "    def removeTail(self):\n",
    "        node = self.tail.prev\n",
    "        self.removeNode(node)\n",
    "        return node\n",
    "        \n",
    "        "
   ]
  },
  {
   "cell_type": "code",
   "execution_count": 9,
   "id": "5d65fc60-8104-49bb-a4d8-2fdb1324bf5f",
   "metadata": {},
   "outputs": [],
   "source": [
    "class DLinkedNode:\n",
    "    \"\"\"双向链表\"\"\"\n",
    "    def __init__(self, key = 0, value = 0):\n",
    "        self.key = key\n",
    "        self.value = value\n",
    "        self.prev = None\n",
    "        self.next = None\n",
    "\n",
    "class LRUCache:\n",
    "\n",
    "    def __init__(self, capacity: int):\n",
    "        self.head = DLinkedNode()\n",
    "        self.tail = DLinkedNode()\n",
    "        self.head.next = self.tail\n",
    "        self.tail.prev = self.head\n",
    "        self.capacity = capacity\n",
    "        self.size = 0\n",
    "        self.cache = dict()\n",
    "        \n",
    "    def get(self, key: int) -> int:\n",
    "        if key not in self.cache:\n",
    "            return -1\n",
    "        node = self.cache[key]\n",
    "        self.moveToHead(node)\n",
    "        return node.value\n",
    "        \n",
    "    def put(self, key: int, value: int) -> None:\n",
    "        if key not in self.cache:\n",
    "            node = DLinkedNode(key, value)\n",
    "            self.cache[key] = node\n",
    "            self.addToHead(node)\n",
    "            self.size += 1\n",
    "            if self.size > self.capacity:\n",
    "                removed = self.removeTail()\n",
    "                self.cache.pop(removed.key)\n",
    "                self.size -= 1\n",
    "        else:\n",
    "            node = self.cache[key]\n",
    "            node.value = value\n",
    "            self.moveToHead(node)\n",
    "    \n",
    "    def addToHead(self, node):\n",
    "        node.prev = self.head\n",
    "        node.next = self.head.next\n",
    "        self.head.next.prev = node\n",
    "        self.head.next = node\n",
    "        \n",
    "    def removeNode(self, node):\n",
    "        node.next.prev = node.prev\n",
    "        node.prev.next = node.next\n",
    "    \n",
    "    def moveToHead(self, node):\n",
    "        self.removeNode(node)\n",
    "        self.addToHead(node)\n",
    "        \n",
    "    def removeTail(self):\n",
    "        node = self.tail.prev\n",
    "        self.removeNode(node)\n",
    "        return node\n",
    "        \n",
    "        "
   ]
  },
  {
   "cell_type": "markdown",
   "id": "e33a05e2-091b-42de-b889-282d7b5d5d73",
   "metadata": {},
   "source": [
    "## 215. 数组中的第K个最大元素"
   ]
  },
  {
   "cell_type": "markdown",
   "id": "a2c1618b-bf03-4611-97c6-5bd20713c80e",
   "metadata": {},
   "source": [
    "### 快速选择"
   ]
  },
  {
   "cell_type": "code",
   "execution_count": 13,
   "id": "4b1c369f-aef4-4873-bc29-95ee1674869f",
   "metadata": {},
   "outputs": [],
   "source": [
    "import random\n",
    "from typing import List\n",
    "class Solution:\n",
    "    def findKthLargest(self, nums: List[int], k: int) -> int:\n",
    "        def partition(nums, l, r):\n",
    "            cur = random.randint(l, r)\n",
    "            x, i = nums[cur], l\n",
    "            nums[cur], nums[r] = nums[r], nums[cur]\n",
    "            for j in range(l, r):\n",
    "                if nums[j] <= x:\n",
    "                    nums[j], nums[i] = nums[i], nums[j]\n",
    "                    i += 1\n",
    "            nums[r], nums[i] = nums[i], nums[r]\n",
    "            return i\n",
    "        \n",
    "        def quick_select(nums, l, r, k):\n",
    "            idx = partition(nums, l, r)\n",
    "            if idx == k: return nums[idx]\n",
    "            return quick_select(nums, idx + 1, r, k) if idx < k else\\\n",
    "            quick_select(nums, l, idx - 1, k)\n",
    "        \n",
    "        return quick_select(nums, 0, len(nums) - 1, len(nums) - k)"
   ]
  },
  {
   "cell_type": "markdown",
   "id": "f042a4e5-4ace-44ef-b76c-d8bb45fb02cd",
   "metadata": {},
   "source": [
    "### 最小堆"
   ]
  },
  {
   "cell_type": "code",
   "execution_count": 16,
   "id": "8ed6a376-54d0-4867-97ff-c575b20a49c4",
   "metadata": {},
   "outputs": [],
   "source": [
    "import heapq\n",
    "class Solution:\n",
    "    def findKthLargest(self, nums: List[int], k: int) -> int:\n",
    "        heap = []\n",
    "        for n in nums:\n",
    "            if len(heap) == k: heapq.heappushpop(heap, n)\n",
    "            else: heapq.heappush(heap, n)\n",
    "        return heap[0]"
   ]
  },
  {
   "cell_type": "code",
   "execution_count": null,
   "id": "c48e75bb-c8e7-4c47-89a6-b97dfb4ba5b3",
   "metadata": {},
   "outputs": [],
   "source": []
  },
  {
   "cell_type": "code",
   "execution_count": null,
   "id": "0f1710f7-68a4-48cb-ae62-a921a9d7364f",
   "metadata": {},
   "outputs": [],
   "source": []
  },
  {
   "cell_type": "code",
   "execution_count": null,
   "id": "d91661d8-33a6-49af-8c8a-8647db646409",
   "metadata": {},
   "outputs": [],
   "source": []
  },
  {
   "cell_type": "code",
   "execution_count": null,
   "id": "12a746d2-60d8-4546-b39d-7218330f4952",
   "metadata": {},
   "outputs": [],
   "source": []
  },
  {
   "cell_type": "code",
   "execution_count": null,
   "id": "689a475b-5c04-4531-a9dc-a674d2589aa3",
   "metadata": {},
   "outputs": [],
   "source": []
  },
  {
   "cell_type": "code",
   "execution_count": null,
   "id": "566a8467-6eb8-4ac8-871a-cd5c3d66187c",
   "metadata": {},
   "outputs": [],
   "source": []
  },
  {
   "cell_type": "code",
   "execution_count": null,
   "id": "9f9e3dfd-2b57-4242-8d74-17e494863bb2",
   "metadata": {},
   "outputs": [],
   "source": []
  },
  {
   "cell_type": "code",
   "execution_count": null,
   "id": "3911fa89-6fb4-44cf-acae-728a23f6031b",
   "metadata": {},
   "outputs": [],
   "source": []
  },
  {
   "cell_type": "code",
   "execution_count": null,
   "id": "bdac54a1-4e70-4e82-9b36-9ed972a04431",
   "metadata": {},
   "outputs": [],
   "source": []
  },
  {
   "cell_type": "code",
   "execution_count": null,
   "id": "a77b3e04-365f-4bd1-b414-d863d8c7657c",
   "metadata": {},
   "outputs": [],
   "source": []
  },
  {
   "cell_type": "code",
   "execution_count": null,
   "id": "c57b5dc6-fe1d-46ee-8138-a089924ce500",
   "metadata": {},
   "outputs": [],
   "source": []
  },
  {
   "cell_type": "code",
   "execution_count": null,
   "id": "39c949fa-2407-43a4-9bfd-afe19ec197ac",
   "metadata": {},
   "outputs": [],
   "source": []
  },
  {
   "cell_type": "code",
   "execution_count": null,
   "id": "8948115e-6426-4fc3-8a1b-fe55a980c81b",
   "metadata": {},
   "outputs": [],
   "source": []
  }
 ],
 "metadata": {
  "kernelspec": {
   "display_name": "Python 3 (ipykernel)",
   "language": "python",
   "name": "python3"
  },
  "language_info": {
   "codemirror_mode": {
    "name": "ipython",
    "version": 3
   },
   "file_extension": ".py",
   "mimetype": "text/x-python",
   "name": "python",
   "nbconvert_exporter": "python",
   "pygments_lexer": "ipython3",
   "version": "3.6.3"
  }
 },
 "nbformat": 4,
 "nbformat_minor": 5
}
