{
 "cells": [
  {
   "cell_type": "markdown",
   "id": "d2fcf84c-9681-4d7b-b9df-0b6c93539264",
   "metadata": {},
   "source": [
    "# 数组"
   ]
  },
  {
   "cell_type": "markdown",
   "id": "3c2ed349-2298-44c0-9ade-7b003541b3b0",
   "metadata": {},
   "source": [
    "## 1. 删除排序数组中的重复项 (26)"
   ]
  },
  {
   "cell_type": "code",
   "execution_count": 3,
   "id": "1f8534e3-f0c2-43dd-8635-bb5dcca1a4ae",
   "metadata": {},
   "outputs": [],
   "source": [
    "from typing import List\n",
    "class Solution:\n",
    "    def removeDuplicates(self, nums: List[int]) -> int:\n",
    "        slow = fast = 1\n",
    "        while fast < len(nums):\n",
    "            if nums[fast-1] != nums[fast]:\n",
    "                nums[slow] = nums[fast]\n",
    "                slow += 1\n",
    "            fast += 1\n",
    "        return slow"
   ]
  },
  {
   "cell_type": "markdown",
   "id": "10b7340e-a3a0-4e79-9223-d0d69c28974f",
   "metadata": {},
   "source": [
    "双指针很容易搞定,试试其他操作"
   ]
  },
  {
   "cell_type": "code",
   "execution_count": 6,
   "id": "9f13f882-4477-43a7-93ed-cac5b5839706",
   "metadata": {},
   "outputs": [],
   "source": [
    "from typing import List\n",
    "class Solution:\n",
    "    def removeDuplicates(self, nums: List[int]) -> int:\n",
    "        s = list(set(nums))\n",
    "        s.sort()\n",
    "        ans = len(s)\n",
    "        for i in range(ans):\n",
    "            nums[i] = s[i]\n",
    "        return ans"
   ]
  },
  {
   "cell_type": "markdown",
   "id": "612dee10-9b42-4724-a97a-1876c1cb9500",
   "metadata": {},
   "source": [
    "差不多都是o(n)的时间复杂度，第二种方法的set和list操作不好判断时间代价。空间复杂度双指针是o(1)，第二种最坏应该是nums全不重复，那么就是o(n)的复杂度了。"
   ]
  },
  {
   "cell_type": "markdown",
   "id": "f33fbd29-0690-44ea-b1b6-38f734579747",
   "metadata": {},
   "source": [
    "## 2. 买卖股票的最佳时机 Ⅱ"
   ]
  },
  {
   "cell_type": "markdown",
   "id": "fe6e9be7-c9d4-46a6-a0da-5145334552ce",
   "metadata": {
    "tags": []
   },
   "source": [
    "### 重要的dp"
   ]
  },
  {
   "cell_type": "markdown",
   "id": "273d437b-48c5-4d9a-a0b7-28dc2e373324",
   "metadata": {},
   "source": [
    "感觉很像回溯之类的算法但是可能比我想的简单，或许是单调栈？"
   ]
  },
  {
   "cell_type": "code",
   "execution_count": 43,
   "id": "c71d7bef-9cfa-43d6-8df0-a1736eacedcb",
   "metadata": {},
   "outputs": [],
   "source": [
    "class Solution:\n",
    "    def maxProfit(self, prices: List[int]) -> int:\n",
    "        n = len(prices)\n",
    "        stk = [float(\"Inf\")]\n",
    "        profit = 0\n",
    "        for i, num in enumerate(prices):\n",
    "            if num < stk[-1]:\n",
    "                if len(stk) > 1: profit += stk[-1] - stk[0]\n",
    "                stk = [num]\n",
    "            else: stk.append(num)\n",
    "        if len(stk) > 1: profit += stk[-1] - stk[0]\n",
    "        return profit"
   ]
  },
  {
   "cell_type": "code",
   "execution_count": 44,
   "id": "1f009718-b27b-4889-931d-664f9b5904bc",
   "metadata": {},
   "outputs": [],
   "source": [
    "prices = [7,6,4,3,1]"
   ]
  },
  {
   "cell_type": "code",
   "execution_count": 45,
   "id": "c0b63598-7321-4aa5-9d0a-1216eabc6bd9",
   "metadata": {},
   "outputs": [
    {
     "data": {
      "text/plain": [
       "0"
      ]
     },
     "execution_count": 45,
     "metadata": {},
     "output_type": "execute_result"
    }
   ],
   "source": [
    "s = Solution()\n",
    "s.maxProfit(prices)"
   ]
  },
  {
   "cell_type": "markdown",
   "id": "edefe2ae-c84d-4001-9596-b565d34e8641",
   "metadata": {},
   "source": [
    "复杂度： 时间和空间应该都是o(n)"
   ]
  },
  {
   "cell_type": "markdown",
   "id": "a13649f3-056c-4689-ba1b-67e32cb107fe",
   "metadata": {},
   "source": [
    "最后题解果然是dp，但是单调栈的思路也和贪心有点像了。"
   ]
  },
  {
   "cell_type": "markdown",
   "id": "453475d0-b88c-4338-9a34-ffae427fd0a9",
   "metadata": {},
   "source": [
    "考虑到「不能同时参与多笔交易」，因此每天交易结束后只可能存在手里有一支股票或者没有股票的状态。\n",
    "\n",
    "定义状态 $dp[i][0]$ 表示第i天交易完后手里没有股票的最大利润， $dp[i][1]$ 表示第i天交易完后手里持有一支股票的最大利润（i从0开始）。\n",
    "\n",
    "考虑 $dp[i][0]$ 的转移方程，如果这一天交易完成后手里没有股票，那木可能的转移状态为前一天已经没有股票，即 $dp[i-1][0]$ ，或者前一天结束的时候手里持有一支股票，即 $dp[i-1][1]$ ，这时候我们要将其卖出，并获得 $prices[i]$ 的收益。因此为了收益最大化，我们列出如下的转移方程：\n",
    "\n",
    "$$dp[i][0] = max\\{dp[i-1][0], dp[i-1][1] + prices[i]\\}$$\n",
    "\n",
    "再来考虑 $dp[i][1]$ ，按照同样的方式考虑转移状态，那么可能的转移状态为前一天已经持有一支股票，即 $dp[i-1][1]$ ，或者前一天结束时还没有股票，即 $dp[i-1][0]$，这时候我们要将其买入，并减少 $prices[i]$ 的收益，可以列出如下的转移方程：\n",
    "\n",
    "$$dp[i][1] = max\\{ dp[i-1][1], dp[i-1][0] - prices[i] \\}$$\n",
    "\n",
    "对于初始状态，根据状态定义我们可以知道第0天交易结束的时候 $dp[0][0] = 0, dp[0][1] = -prices[0]$ 。\n",
    "\n",
    "因此，我们只要从前往后依次计算状态即可。由于全部交易结束后，持有股票的收益一定低于不持有股票的收益，因此这时候 $dp[n-1][0]$ 的收益必然是大于 $dp[n-1][1]$ 的，最后的答案即为 $dp[n-1][0]$ 。"
   ]
  },
  {
   "cell_type": "code",
   "execution_count": 56,
   "id": "77781209-8861-4f2c-9c43-2865f9dd479b",
   "metadata": {},
   "outputs": [],
   "source": [
    "class Solution:\n",
    "    def maxProfit(self, prices: List[int]) -> int:\n",
    "        dp = [0, -prices[0]]\n",
    "        print(dp)\n",
    "        for i in range(1,len(prices)):\n",
    "            new0 = max(dp[0], dp[1] + prices[i])\n",
    "            new1 = max(dp[1], dp[0] - prices[i])\n",
    "            dp = [new0, new1]\n",
    "            print(dp)\n",
    "        return dp[0]"
   ]
  },
  {
   "cell_type": "code",
   "execution_count": 57,
   "id": "b3f2c83e-8e3d-4281-bc5f-9be1c2ec8cf1",
   "metadata": {},
   "outputs": [],
   "source": [
    "prices = [1,2,3,4,5]"
   ]
  },
  {
   "cell_type": "code",
   "execution_count": 58,
   "id": "c9d4b7f0-7602-4a4a-9fb6-1ccfedb75c1d",
   "metadata": {},
   "outputs": [
    {
     "name": "stdout",
     "output_type": "stream",
     "text": [
      "[0, -1]\n",
      "[1, -1]\n",
      "[2, -1]\n",
      "[3, -1]\n",
      "[4, -1]\n"
     ]
    },
    {
     "data": {
      "text/plain": [
       "4"
      ]
     },
     "execution_count": 58,
     "metadata": {},
     "output_type": "execute_result"
    }
   ],
   "source": [
    "s = Solution()\n",
    "s.maxProfit(prices)"
   ]
  },
  {
   "cell_type": "markdown",
   "id": "7b37047c-90be-40c8-af92-fc8295a5c01d",
   "metadata": {},
   "source": [
    "dp的思路真的强，尤其是简化了dp状态的存储以后。只需要用o(1)的空间。感觉对于dp而言最重要的就是状态转移方程，推导出以后剩下的都很easy"
   ]
  },
  {
   "cell_type": "markdown",
   "id": "6e1a0231-f617-489b-875c-472642cd0a4a",
   "metadata": {},
   "source": [
    "## 3. 旋转数组"
   ]
  },
  {
   "cell_type": "markdown",
   "id": "73c8f029-5887-47f2-bd39-0a0adbca141f",
   "metadata": {},
   "source": [
    "### 先整体翻转再部分翻转"
   ]
  },
  {
   "cell_type": "code",
   "execution_count": 103,
   "id": "150d6f6e-d810-4e86-84a9-05fc40b9f78b",
   "metadata": {},
   "outputs": [],
   "source": [
    "class Solution:\n",
    "    def rotate(self, nums: List[int], k: int) -> None:\n",
    "        \"\"\"\n",
    "        Do not return anything, modify nums in-place instead.\n",
    "        \"\"\"\n",
    "        def reverse(left, right):\n",
    "            l = right - left\n",
    "            for i in range(l//2 + 1):\n",
    "                nums[left + i], nums[right-i] = nums[right - i], nums[left + i]\n",
    "            # return nums\n",
    "        n = len(nums)\n",
    "        reverse(0, n-1)\n",
    "        reverse(0, k-1)\n",
    "        reverse(k, n-1)\n",
    "        return nums"
   ]
  },
  {
   "cell_type": "code",
   "execution_count": 104,
   "id": "3bb6d05d-5f6b-4e7b-b680-ea6fa4bf6e95",
   "metadata": {},
   "outputs": [],
   "source": [
    "nums = [1,2,3,4,5,6,7]\n",
    "k = 3"
   ]
  },
  {
   "cell_type": "code",
   "execution_count": 105,
   "id": "9baa4c0e-c28c-4c50-ab71-c665d47b6e2e",
   "metadata": {},
   "outputs": [
    {
     "data": {
      "text/plain": [
       "[5, 6, 7, 1, 2, 3, 4]"
      ]
     },
     "execution_count": 105,
     "metadata": {},
     "output_type": "execute_result"
    }
   ],
   "source": [
    "s = Solution()\n",
    "s.rotate(nums, k)"
   ]
  },
  {
   "cell_type": "markdown",
   "id": "01df7349-2102-47d2-a64f-5eb0c094f470",
   "metadata": {},
   "source": [
    "## 4. 存在重复元素"
   ]
  },
  {
   "cell_type": "code",
   "execution_count": null,
   "id": "08ba7110-f324-48cc-92d1-562131c472f9",
   "metadata": {},
   "outputs": [],
   "source": [
    "from collections import defaultdict\n",
    "class Solution:\n",
    "    def containsDuplicate(self, nums: List[int]) -> bool:\n",
    "        cnt = defaultdict(int)\n",
    "        for n in nums:\n",
    "            cnt[n] += 1\n",
    "            if cnt[n] == 2: return True\n",
    "        return False"
   ]
  },
  {
   "cell_type": "markdown",
   "id": "030e79f6-a725-47ba-9cff-42aaa1257fd0",
   "metadata": {},
   "source": [
    "o(n), o(n)"
   ]
  },
  {
   "cell_type": "code",
   "execution_count": 106,
   "id": "e15b47bc-b5d6-42b5-84bb-a248f07e4806",
   "metadata": {},
   "outputs": [],
   "source": [
    "class Solution:\n",
    "    def containsDuplicate(self, nums: List[int]) -> bool:\n",
    "        return len(set(nums)) != len(nums)"
   ]
  },
  {
   "cell_type": "markdown",
   "id": "26bccc12-cc96-442a-9e49-9217d92c99a3",
   "metadata": {},
   "source": [
    "o(n), o(n)"
   ]
  },
  {
   "cell_type": "markdown",
   "id": "520c080d-6b10-47d4-a23f-2b2e7e4bd2bb",
   "metadata": {},
   "source": [
    "排序后再逐个比较的方法时间复杂度为排序复杂度： o(nlogn)，空间为 o(logn)?"
   ]
  },
  {
   "cell_type": "markdown",
   "id": "1eb64de4-839a-427e-b20b-7e5c30c6689e",
   "metadata": {},
   "source": [
    "## 5. 只出现一次的数字"
   ]
  },
  {
   "cell_type": "markdown",
   "id": "469e89df-9cb6-4758-894c-cb3f613d8c21",
   "metadata": {},
   "source": [
    "### 异或"
   ]
  },
  {
   "cell_type": "code",
   "execution_count": 109,
   "id": "4fe767a2-0027-4bdd-b53b-e055dc4ab954",
   "metadata": {},
   "outputs": [],
   "source": [
    "class Solution:\n",
    "    def singleNumber(self, nums: List[int]) -> int:\n",
    "        if len(nums) == 1: return nums[0]\n",
    "        nums.sort()\n",
    "        for i in range(1, len(nums)-1):\n",
    "            if nums[i] != nums[i-1] and nums[i] != nums[i+1]: return nums[i]\n",
    "        if nums[0] != nums[1]: return nums[0]\n",
    "        if nums[-1] != nums[-2]: return nums[-1]"
   ]
  },
  {
   "cell_type": "markdown",
   "id": "f05abb57-72b8-4c18-b05c-a52d4baf1c18",
   "metadata": {},
   "source": [
    "o(nlogn), o(1)"
   ]
  },
  {
   "cell_type": "markdown",
   "id": "3a5aa4da-1eee-4132-b242-2101d1cbd361",
   "metadata": {},
   "source": [
    "还是得异或，不过是一块异或而不是两个两个异或"
   ]
  },
  {
   "cell_type": "code",
   "execution_count": 121,
   "id": "27c09bda-a816-4a09-b60b-0bdb9c2ac361",
   "metadata": {},
   "outputs": [],
   "source": [
    "class Solution:\n",
    "    def singleNumber(self, nums: List[int]) -> int:\n",
    "        ans = 0\n",
    "        for n in nums: ans ^= n\n",
    "        return ans"
   ]
  },
  {
   "cell_type": "code",
   "execution_count": 122,
   "id": "c6cf4e60-a6d7-4ea8-a468-0041510dd755",
   "metadata": {},
   "outputs": [],
   "source": [
    "nums = [1,2,2,3,4,3,4]"
   ]
  },
  {
   "cell_type": "code",
   "execution_count": 123,
   "id": "b5a5c132-0dca-428c-9f4c-5f774255f66b",
   "metadata": {},
   "outputs": [
    {
     "data": {
      "text/plain": [
       "1"
      ]
     },
     "execution_count": 123,
     "metadata": {},
     "output_type": "execute_result"
    }
   ],
   "source": [
    "s = Solution()\n",
    "s.singleNumber(nums)"
   ]
  },
  {
   "cell_type": "markdown",
   "id": "3e7f42b1-17e7-4ca7-a716-cb6bb6d85e78",
   "metadata": {
    "tags": []
   },
   "source": [
    "### reduce()"
   ]
  },
  {
   "cell_type": "markdown",
   "id": "39ff5e0b-3cd0-4ee6-8ced-0b5a7b414d3b",
   "metadata": {},
   "source": [
    "reduce() 函数会对参数序列中元素进行累积。\n",
    "\n",
    "reduce(function, iterable[, initializer])\n",
    "\n",
    "- function -- 函数，有两个参数\n",
    "- iterable -- 可迭代对象\n",
    "- initializer -- 可选，初始参数\n",
    "\n",
    "即对于可迭代对象的第一第二个元素进行func操作，得到的结果再与第三个元素进行func操作。"
   ]
  },
  {
   "cell_type": "code",
   "execution_count": 125,
   "id": "e8ddeef1-ee98-4324-8581-6850eec5566c",
   "metadata": {},
   "outputs": [],
   "source": [
    "class Solution:\n",
    "    def singleNumber(self, nums: List[int]) -> int:\n",
    "        return reduce(lambda x, y: x ^ y, nums)"
   ]
  },
  {
   "cell_type": "markdown",
   "id": "1dd70b15-534a-4feb-9b8c-b84897ffeb47",
   "metadata": {},
   "source": [
    "## 6. 两个数组的交集 Ⅱ"
   ]
  },
  {
   "cell_type": "code",
   "execution_count": null,
   "id": "b0b5c96c-806f-451b-bcf3-91443da50407",
   "metadata": {},
   "outputs": [],
   "source": [
    "from collections import Counter\n",
    "class Solution:\n",
    "    def intersect(self, nums1: List[int], nums2: List[int]) -> List[int]:\n",
    "        cnt1 = Counter(nums1)\n",
    "        cnt2 = Counter(nums2)\n",
    "        ans = []\n",
    "        for key in cnt1:\n",
    "            if key in cnt2:\n",
    "                l = min(cnt1[key], cnt2[key])\n",
    "                ans.extend([key] * l)\n",
    "        return ans"
   ]
  },
  {
   "cell_type": "markdown",
   "id": "ec1f7006-6d0e-4889-b1a0-7546d7bbff3d",
   "metadata": {},
   "source": [
    "哈希表：\n",
    "- 时间复杂度：o(m+n)\n",
    "- 空间复杂度：o(m+n)\n",
    "\n",
    "排序+双指针：\n",
    "- 时间复杂度：o(mlogm + nlogn)\n",
    "- 空间复杂度：o(min(m, n))"
   ]
  },
  {
   "cell_type": "markdown",
   "id": "931a70ef-ab17-487a-b48c-9fc0edf721da",
   "metadata": {
    "tags": []
   },
   "source": [
    "## 7. 加一"
   ]
  },
  {
   "cell_type": "markdown",
   "id": "49aa86c2-b86f-4b81-ba3c-8c1d373f0523",
   "metadata": {},
   "source": [
    "字符串操作"
   ]
  },
  {
   "cell_type": "code",
   "execution_count": 2,
   "id": "051c7e84-6483-4415-98af-db384a418196",
   "metadata": {},
   "outputs": [],
   "source": [
    "from typing import List\n",
    "class Solution:\n",
    "    def plusOne(self, digits: List[int]) -> List[int]:\n",
    "        num = \"\"\n",
    "        for n in digits:\n",
    "            num += n\n",
    "        num = str(int(num) + 1)\n",
    "        ans = []\n",
    "        for ch in num:\n",
    "            ans.append(int(ch))\n",
    "        return ans"
   ]
  },
  {
   "cell_type": "markdown",
   "id": "23be4891-bcfa-46d1-9e77-624977502627",
   "metadata": {},
   "source": [
    "模拟"
   ]
  },
  {
   "cell_type": "code",
   "execution_count": 6,
   "id": "3e64e443-8a3e-43e6-90cd-5f1f36983238",
   "metadata": {},
   "outputs": [],
   "source": [
    "class Solution:\n",
    "    def plusOne(self, digits: List[int]) -> List[int]:\n",
    "        carry = 1\n",
    "        for i in range(len(digits)-1, -1, -1):\n",
    "             carry, digits[i] = divmod(digits[i] + carry, 10)\n",
    "        return digits if not carry else [1] + digits"
   ]
  },
  {
   "cell_type": "markdown",
   "id": "58149f85-b429-4fc8-8ac1-68e2a402fe2d",
   "metadata": {},
   "source": [
    "## 8. 移动零"
   ]
  },
  {
   "cell_type": "code",
   "execution_count": 40,
   "id": "a26c8476-2c93-4353-9799-b97e4195aff6",
   "metadata": {},
   "outputs": [],
   "source": [
    "class Solution:\n",
    "    def moveZeroes(self, nums: List[int]) -> None:\n",
    "        \"\"\"\n",
    "        Do not return anything, modify nums in-place instead.\n",
    "        \"\"\"\n",
    "        leng = len(nums)\n",
    "        ptr = 0\n",
    "        cur = 0\n",
    "        while ptr < leng:\n",
    "            while nums[ptr] == 0: ptr += 1\n",
    "            nums[cur] = nums[ptr]\n",
    "            cur += 1\n",
    "            ptr += 1\n",
    "        for i in range(cur+1, leng): nums[i] = 0"
   ]
  },
  {
   "cell_type": "markdown",
   "id": "fd37808d-6a22-4d5b-b15c-952147812be3",
   "metadata": {},
   "source": [
    "无法处理结尾0的情况"
   ]
  },
  {
   "cell_type": "code",
   "execution_count": 54,
   "id": "b4e39255-cc93-442f-a91d-bf604a1324d5",
   "metadata": {},
   "outputs": [],
   "source": [
    "class Solution:\n",
    "    def moveZeroes(self, nums: List[int]) -> None:\n",
    "        \"\"\"\n",
    "        Do not return anything, modify nums in-place instead.\n",
    "        \"\"\"\n",
    "        leng = len(nums)\n",
    "        ptr = 0\n",
    "        for i, n in enumerate(nums):\n",
    "            if n == 0: continue\n",
    "            nums[ptr] = n\n",
    "            ptr += 1\n",
    "        for i in range(ptr, leng): nums[i] = 0\n",
    "        return nums"
   ]
  },
  {
   "cell_type": "code",
   "execution_count": 59,
   "id": "4776a9e7-7069-48b9-908c-05db341e8e19",
   "metadata": {},
   "outputs": [],
   "source": [
    "nums = [0]"
   ]
  },
  {
   "cell_type": "code",
   "execution_count": 60,
   "id": "9d6d90e0-a627-4c4b-b7df-e187feb5c6b7",
   "metadata": {},
   "outputs": [
    {
     "data": {
      "text/plain": [
       "[0]"
      ]
     },
     "execution_count": 60,
     "metadata": {},
     "output_type": "execute_result"
    }
   ],
   "source": [
    "s = Solution()\n",
    "s.moveZeroes(nums)"
   ]
  },
  {
   "cell_type": "markdown",
   "id": "356507df-fcba-4ebf-bf65-97cdddf1255f",
   "metadata": {},
   "source": [
    "o(n), o(1)"
   ]
  },
  {
   "cell_type": "markdown",
   "id": "097a78f7-1efe-42c1-a540-e7c08f162489",
   "metadata": {},
   "source": [
    "## 10. 有效的数独"
   ]
  },
  {
   "cell_type": "markdown",
   "id": "f162cb6a-f148-44fa-b3ba-e411954b9871",
   "metadata": {},
   "source": [
    "暴力"
   ]
  },
  {
   "cell_type": "code",
   "execution_count": 80,
   "id": "1a3ee7be-79c6-45fa-addd-617396a61a87",
   "metadata": {},
   "outputs": [],
   "source": [
    "from collections import defaultdict\n",
    "class Solution:\n",
    "    def isValidSudoku(self, board: List[List[str]]) -> bool:\n",
    "        cnt = defaultdict(list)\n",
    "        for i in range(9):\n",
    "            for j in range(9):\n",
    "                cur = board[i][j]\n",
    "                x, y = i // 3, j //3\n",
    "                if cur.isdigit():\n",
    "                    if cur in cnt[(i, -1)] or cur in cnt[(-1, j)]\\\n",
    "                    or cur in cnt[(x, y)]: return False\n",
    "                    cnt[(i, -1)].append(cur)\n",
    "                    cnt[(-1, j)].append(cur)\n",
    "                    cnt[(x, y)].append(cur)\n",
    "                # print(cnt)\n",
    "        return True"
   ]
  },
  {
   "cell_type": "code",
   "execution_count": 83,
   "id": "0a178ed1-0c21-4d3e-b447-8486bb73aef8",
   "metadata": {},
   "outputs": [],
   "source": [
    "board = \\\n",
    "[[\".\",\".\",\".\",\".\",\"5\",\".\",\".\",\"1\",\".\"],\n",
    " [\".\",\"4\",\".\",\"3\",\".\",\".\",\".\",\".\",\".\"],\n",
    " [\".\",\".\",\".\",\".\",\".\",\"3\",\".\",\".\",\"1\"],\n",
    " [\"8\",\".\",\".\",\".\",\".\",\".\",\".\",\"2\",\".\"],\n",
    " [\".\",\".\",\"2\",\".\",\"7\",\".\",\".\",\".\",\".\"],\n",
    " [\".\",\"1\",\"5\",\".\",\".\",\".\",\".\",\".\",\".\"],\n",
    " [\".\",\".\",\".\",\".\",\".\",\"2\",\".\",\".\",\".\"],\n",
    " [\".\",\"2\",\".\",\"9\",\".\",\".\",\".\",\".\",\".\"],\n",
    " [\".\",\".\",\"4\",\".\",\".\",\".\",\".\",\".\",\".\"]]"
   ]
  },
  {
   "cell_type": "code",
   "execution_count": 82,
   "id": "0ab9e15e-3a09-4202-b031-889d18e5a299",
   "metadata": {},
   "outputs": [
    {
     "data": {
      "text/plain": [
       "False"
      ]
     },
     "execution_count": 82,
     "metadata": {},
     "output_type": "execute_result"
    }
   ],
   "source": [
    "s = Solution()\n",
    "s.isValidSudoku(board)"
   ]
  },
  {
   "cell_type": "markdown",
   "id": "a2ceca0b-4138-45b1-9faf-e9f79e9b25c2",
   "metadata": {},
   "source": [
    "时间：o(n^2) 空间：o(n^2)"
   ]
  },
  {
   "cell_type": "markdown",
   "id": "653477b4-4afd-4c38-a1a8-0d4b28d7d672",
   "metadata": {},
   "source": [
    "限制在9*9数独的话则都是常数复杂度"
   ]
  },
  {
   "cell_type": "markdown",
   "id": "0481fc2e-8fde-46ad-8d29-6d8eb0ae4f33",
   "metadata": {},
   "source": [
    "## 11. 旋转图像"
   ]
  },
  {
   "cell_type": "markdown",
   "id": "4988af9c-04fb-44d6-81ab-140393050595",
   "metadata": {},
   "source": [
    "不会原地"
   ]
  },
  {
   "cell_type": "markdown",
   "id": "9b8dfe6f-0df4-453f-833a-a66564082017",
   "metadata": {},
   "source": [
    "顺时针 90° = 水平翻转 + 转置"
   ]
  },
  {
   "cell_type": "code",
   "execution_count": 113,
   "id": "7105d795-864d-43b6-9016-6f3801790690",
   "metadata": {},
   "outputs": [],
   "source": [
    "class Solution:\n",
    "    def rotate(self, matrix: List[List[int]]) -> None:\n",
    "        \"\"\"\n",
    "        Do not return anything, modify matrix in-place instead.\n",
    "        \"\"\"\n",
    "        n = len(matrix)\n",
    "        for i in range(n // 2):\n",
    "            matrix[i], matrix[n - i - 1] = matrix[n - i - 1], matrix[i]\n",
    "        for i in range(n):\n",
    "            for j in range(i):\n",
    "                print(matrix[i][j], matrix[j][i])\n",
    "                matrix[i][j], matrix[j][i] = matrix[j][i], matrix[i][j]\n",
    "        return matrix"
   ]
  },
  {
   "cell_type": "code",
   "execution_count": 114,
   "id": "8266b2f7-3d8a-47c2-86e9-9475a53f7663",
   "metadata": {},
   "outputs": [],
   "source": [
    "matrix = [[5,1,9,11],[2,4,8,10],[13,3,6,7],[15,14,12,16]]"
   ]
  },
  {
   "cell_type": "code",
   "execution_count": 115,
   "id": "29807135-410b-4772-aa8e-8c75fabf29f3",
   "metadata": {},
   "outputs": [
    {
     "name": "stdout",
     "output_type": "stream",
     "text": [
      "13 14\n",
      "2 12\n",
      "4 6\n",
      "5 16\n",
      "1 7\n",
      "9 10\n"
     ]
    },
    {
     "data": {
      "text/plain": [
       "[[15, 13, 2, 5], [14, 3, 4, 1], [12, 6, 8, 9], [16, 7, 10, 11]]"
      ]
     },
     "execution_count": 115,
     "metadata": {},
     "output_type": "execute_result"
    }
   ],
   "source": [
    "s = Solution()\n",
    "s.rotate(matrix)"
   ]
  },
  {
   "cell_type": "markdown",
   "id": "e9a9a1d5-3782-4724-b879-b1cc822a16a0",
   "metadata": {},
   "source": [
    "学费了"
   ]
  },
  {
   "cell_type": "markdown",
   "id": "7012ff53-a10c-4fb4-83cc-ae72a0cfa18f",
   "metadata": {},
   "source": [
    "时间: o(n^2), 空间: o(1)"
   ]
  },
  {
   "cell_type": "markdown",
   "id": "9003c1e4-6bd7-45f3-b9c5-8509932d3a90",
   "metadata": {},
   "source": [
    "## 小结："
   ]
  },
  {
   "cell_type": "markdown",
   "id": "1320e46d-7dda-4eb0-92c7-0dcde73d62f8",
   "metadata": {},
   "source": [
    "- 对于数组问题感觉双指针与哈希表比较常用；\n",
    "- 很多问题在对数组进行排序后都会变得没那么复杂；\n",
    "- 异或运算对于寻找只出现一次的数字绝杀；\n",
    "- 要记得一种可以带着数组下标进行排序的思路（870 优势洗牌）；"
   ]
  },
  {
   "cell_type": "markdown",
   "id": "5f54e145-81c9-4848-981a-40e0561c0400",
   "metadata": {},
   "source": [
    "# 字符串"
   ]
  },
  {
   "cell_type": "markdown",
   "id": "ce330fdb-f1b6-4a0f-b85a-f70f0b674b43",
   "metadata": {},
   "source": [
    "## 1. 反转字符串"
   ]
  },
  {
   "cell_type": "code",
   "execution_count": 117,
   "id": "c3897748-b826-48c6-8d0a-5dfa2a7e02c0",
   "metadata": {},
   "outputs": [],
   "source": [
    "class Solution:\n",
    "    def reverseString(self, s: List[str]) -> None:\n",
    "        \"\"\"\n",
    "        Do not return anything, modify s in-place instead.\n",
    "        \"\"\"\n",
    "        n = len(s)\n",
    "        for i in range(n // 2):\n",
    "            s[i], s[n - i - 1] = s[n - i - 1], s[i]\n",
    "        return s"
   ]
  },
  {
   "cell_type": "code",
   "execution_count": 120,
   "id": "f472e20e-4c49-486d-8dba-4736940b8a43",
   "metadata": {},
   "outputs": [],
   "source": [
    "s = [\"H\",\"a\",\"n\",\"n\",\"a\",\"h\"]"
   ]
  },
  {
   "cell_type": "code",
   "execution_count": 121,
   "id": "cf0adaf0-ee42-4f97-9a4a-070b956e34ce",
   "metadata": {},
   "outputs": [
    {
     "data": {
      "text/plain": [
       "['h', 'a', 'n', 'n', 'a', 'H']"
      ]
     },
     "execution_count": 121,
     "metadata": {},
     "output_type": "execute_result"
    }
   ],
   "source": [
    "S = Solution()\n",
    "S.reverseString(s)"
   ]
  },
  {
   "cell_type": "markdown",
   "id": "5cfbbddc-3908-4546-b132-0c5a9da42264",
   "metadata": {},
   "source": [
    "## 2. 整数反转"
   ]
  },
  {
   "cell_type": "code",
   "execution_count": 125,
   "id": "50de3a10-cd4e-42f0-b92c-66ffe609e1de",
   "metadata": {},
   "outputs": [],
   "source": [
    "class Solution:\n",
    "    def reverse(self, x: int) -> int:\n",
    "        ans = int(str(abs(x))[::-1])\n",
    "        if ans > 2**31 - 1: return 0\n",
    "        return -ans if x < 0 else ans"
   ]
  },
  {
   "cell_type": "code",
   "execution_count": 126,
   "id": "4ec013cf-9a30-4fa6-8a12-f57221d1a521",
   "metadata": {},
   "outputs": [],
   "source": [
    "x = 210"
   ]
  },
  {
   "cell_type": "code",
   "execution_count": 127,
   "id": "d832d76a-6d55-4ac7-8986-5eeb8905dbfa",
   "metadata": {},
   "outputs": [
    {
     "data": {
      "text/plain": [
       "12"
      ]
     },
     "execution_count": 127,
     "metadata": {},
     "output_type": "execute_result"
    }
   ],
   "source": [
    "s = Solution()\n",
    "s.reverse(x)"
   ]
  },
  {
   "cell_type": "markdown",
   "id": "44fd26a4-de01-4471-8947-b634738dd0e5",
   "metadata": {},
   "source": [
    "o(n), o(1)"
   ]
  },
  {
   "cell_type": "markdown",
   "id": "5cb6b471-4ff7-4dfd-aa3d-cedc61a4d64b",
   "metadata": {},
   "source": [
    "## 3. 字符串中的第一个唯一字符"
   ]
  },
  {
   "cell_type": "code",
   "execution_count": 128,
   "id": "cc70cf9a-834a-4768-b411-f3cd522d0eb5",
   "metadata": {},
   "outputs": [],
   "source": [
    "# 先逃课\n",
    "from collections import Counter\n",
    "class Solution:\n",
    "    def firstUniqChar(self, s: str) -> int:\n",
    "        cnt = Counter(s)\n",
    "        for i, ch in enumerate(s):\n",
    "            if cnt[ch] == 1: return i\n",
    "        return -1"
   ]
  },
  {
   "cell_type": "code",
   "execution_count": 133,
   "id": "bf03bcc2-bef9-43a6-8d83-7d835ead9dae",
   "metadata": {},
   "outputs": [],
   "source": [
    "s = \"leetcode\""
   ]
  },
  {
   "cell_type": "code",
   "execution_count": 134,
   "id": "1363a593-dd30-49da-a40c-a80e8debb323",
   "metadata": {},
   "outputs": [
    {
     "data": {
      "text/plain": [
       "0"
      ]
     },
     "execution_count": 134,
     "metadata": {},
     "output_type": "execute_result"
    }
   ],
   "source": [
    "S = Solution()\n",
    "S.firstUniqChar(s)"
   ]
  },
  {
   "cell_type": "markdown",
   "id": "8a820e21-568f-4d59-ad4b-3bf3e10c0b4c",
   "metadata": {},
   "source": [
    "o(n), o($\\Sigma$) 其中Sigma是字符集"
   ]
  },
  {
   "cell_type": "code",
   "execution_count": 142,
   "id": "d61d4c11-b1f1-4cd7-885b-4de7464dcba9",
   "metadata": {},
   "outputs": [],
   "source": [
    "from collections import defaultdict\n",
    "class Solution:\n",
    "    def firstUniqChar(self, s: str) -> int:\n",
    "        cnt = defaultdict(int)\n",
    "        slow = 0\n",
    "        for i in range(len(s)):\n",
    "            cnt[s[i]] += 1\n",
    "            while cnt[s[slow]] >= 2: \n",
    "                slow += 1\n",
    "                if slow == len(s): return -1\n",
    "        return slow"
   ]
  },
  {
   "cell_type": "code",
   "execution_count": 145,
   "id": "ad7ff22c-0bc2-40b3-a56e-4693dc2df870",
   "metadata": {},
   "outputs": [],
   "source": [
    "s = \"aabbccdeeff\""
   ]
  },
  {
   "cell_type": "code",
   "execution_count": 146,
   "id": "3e6c8c50-a7f8-4ee4-a4fe-94723d53497f",
   "metadata": {},
   "outputs": [
    {
     "data": {
      "text/plain": [
       "6"
      ]
     },
     "execution_count": 146,
     "metadata": {},
     "output_type": "execute_result"
    }
   ],
   "source": [
    "S = Solution()\n",
    "S.firstUniqChar(s)"
   ]
  },
  {
   "cell_type": "markdown",
   "id": "46a0a296-7a77-4a8e-9176-1106c9da10de",
   "metadata": {},
   "source": [
    "时间貌似退化为了0(n^2)"
   ]
  },
  {
   "cell_type": "markdown",
   "id": "504c217e-7d92-4404-8573-3b7f7260331e",
   "metadata": {},
   "source": [
    "### 队列：\n",
    "- 我们也可以借助队列找到第一个不重复的字符。队列具有「先进先出」的性质，因此很适合用来找出第一个满足某个条件的元素。"
   ]
  },
  {
   "cell_type": "code",
   "execution_count": 1,
   "id": "2e35a011-b842-47f2-937f-e883f9bae524",
   "metadata": {},
   "outputs": [],
   "source": [
    "from collections import deque\n",
    "class Solution:\n",
    "    def firstUniqChar(self, s: str) -> int:\n",
    "        position = dict()\n",
    "        q = deque()\n",
    "        n = len(s)\n",
    "        for i, ch in enumerate(s):\n",
    "            # print(position, q)\n",
    "            if ch not in position:\n",
    "                position[ch] = i\n",
    "                q.append((s[i], i))\n",
    "            else:\n",
    "                position[ch] = -1\n",
    "                while q and position[q[0][0]] == -1:\n",
    "                    q.popleft()\n",
    "        return -1 if not q else q[0][1]"
   ]
  },
  {
   "cell_type": "code",
   "execution_count": 2,
   "id": "46eeb39f-ea2a-4a57-a495-844955d4758a",
   "metadata": {},
   "outputs": [],
   "source": [
    "s = \"loveleetcode\""
   ]
  },
  {
   "cell_type": "code",
   "execution_count": 3,
   "id": "e2c8fcd0-1ee7-4aa7-8f71-4a8a8eb57afb",
   "metadata": {},
   "outputs": [
    {
     "data": {
      "text/plain": [
       "2"
      ]
     },
     "execution_count": 3,
     "metadata": {},
     "output_type": "execute_result"
    }
   ],
   "source": [
    "S = Solution()\n",
    "S.firstUniqChar(s)"
   ]
  },
  {
   "cell_type": "markdown",
   "id": "91202514-2257-48f0-8fde-ee5960c8a33d",
   "metadata": {},
   "source": [
    "## 4. 有效的字母异位词"
   ]
  },
  {
   "cell_type": "code",
   "execution_count": 4,
   "id": "cc8e9b2a-bfce-4ab8-a53d-019f528c3bea",
   "metadata": {},
   "outputs": [],
   "source": [
    "from collections import Counter\n",
    "class Solution:\n",
    "    def isAnagram(self, s: str, t: str) -> bool:\n",
    "        return Counter(s) == Counter(t)"
   ]
  },
  {
   "cell_type": "markdown",
   "id": "a6918856-d8f7-415e-8cbf-adb4b80d68c5",
   "metadata": {},
   "source": [
    "哈希表做法： 时间o(n), 空间o(S)，S为字符集"
   ]
  },
  {
   "cell_type": "markdown",
   "id": "b3172be3-0c8d-4c4a-83bf-786867414415",
   "metadata": {},
   "source": [
    "另可以排序后再判断两字符串是否相等，时间为O(nlogn), 空间为O(logn)"
   ]
  },
  {
   "cell_type": "markdown",
   "id": "f90124dd-22e2-4d1b-9569-70caa6fa6a2a",
   "metadata": {},
   "source": [
    "## 5. 验证回文串"
   ]
  },
  {
   "cell_type": "code",
   "execution_count": 85,
   "id": "9c6d4ad4-2ca4-4046-967c-2801c14a0480",
   "metadata": {},
   "outputs": [],
   "source": [
    "class Solution:\n",
    "    def isPalindrome(self, s: str) -> bool:\n",
    "        tar = []\n",
    "        for ch in s:\n",
    "            if ch.isalnum():\n",
    "                tar.append(ch.lower())\n",
    "        n = len(tar)\n",
    "        for i in range(n//2):\n",
    "            if tar[i] != tar[n - i - 1]: return False\n",
    "        return True"
   ]
  },
  {
   "cell_type": "code",
   "execution_count": 86,
   "id": "595f1fee-b123-46d1-be13-9b0f9da9e7e9",
   "metadata": {},
   "outputs": [],
   "source": [
    "s = \"0P\""
   ]
  },
  {
   "cell_type": "code",
   "execution_count": 87,
   "id": "45eb3edd-5f6b-43d2-aedb-2907d4be4b04",
   "metadata": {},
   "outputs": [
    {
     "data": {
      "text/plain": [
       "False"
      ]
     },
     "execution_count": 87,
     "metadata": {},
     "output_type": "execute_result"
    }
   ],
   "source": [
    "S = Solution()\n",
    "S.isPalindrome(s)"
   ]
  },
  {
   "cell_type": "markdown",
   "id": "9ba2d953-4629-45cb-8255-446afdf6b421",
   "metadata": {},
   "source": [
    "可以原地"
   ]
  },
  {
   "cell_type": "code",
   "execution_count": 82,
   "id": "46650a98-3f5a-48f3-936b-eea43f89dbce",
   "metadata": {},
   "outputs": [],
   "source": [
    "class Solution:\n",
    "    def isPalindrome(self, s: str) -> bool:\n",
    "        n = len(s)\n",
    "        if n == 1: return True\n",
    "        left, right = 0, n - 1\n",
    "        while left <= right:\n",
    "            while not s[left].isalnum(): \n",
    "                left += 1\n",
    "                if left == n - 1: return True\n",
    "            while not s[right].isalnum(): right -= 1\n",
    "            # print(s[left], s[right])\n",
    "            if s[left].lower() != s[right].lower(): return False\n",
    "            left += 1\n",
    "            right -= 1\n",
    "        return True"
   ]
  },
  {
   "cell_type": "code",
   "execution_count": 83,
   "id": "a56d4360-85b7-477c-9291-3161d1e7e1ce",
   "metadata": {},
   "outputs": [],
   "source": [
    "s = \" \""
   ]
  },
  {
   "cell_type": "code",
   "execution_count": 84,
   "id": "7fc96ce8-1642-4a01-84d8-d082cadfb59a",
   "metadata": {},
   "outputs": [
    {
     "data": {
      "text/plain": [
       "True"
      ]
     },
     "execution_count": 84,
     "metadata": {},
     "output_type": "execute_result"
    }
   ],
   "source": [
    "S = Solution()\n",
    "S.isPalindrome(s)"
   ]
  },
  {
   "cell_type": "markdown",
   "id": "1ac20c94-4bd3-4d95-b6c5-b7b5c5b6af8e",
   "metadata": {
    "tags": []
   },
   "source": [
    "**要注意边界以及空字符串的问题。**"
   ]
  },
  {
   "cell_type": "markdown",
   "id": "a059cd43-4531-4b29-bcda-81ba6d0d2d4d",
   "metadata": {},
   "source": [
    "这种做法虽然是 O(n)时间 O(1)空间但提交记录还是很慢，难道不是O(n)?\n",
    "\n",
    "是 O(n)，可能是网络原因。"
   ]
  },
  {
   "cell_type": "markdown",
   "id": "a75ec74d-54e6-42a5-8850-1550d4fe6d17",
   "metadata": {},
   "source": [
    "## 6. 字符串转换整数(atoi)"
   ]
  },
  {
   "cell_type": "code",
   "execution_count": 144,
   "id": "76818965-3d8f-4e31-bf59-9608e9a263fa",
   "metadata": {},
   "outputs": [],
   "source": [
    "class Solution:\n",
    "    def myAtoi(self, s: str) -> int:\n",
    "        s = s.strip()\n",
    "        if not s: return 0\n",
    "        start = 1 if s[0] == \"+\" or s[0] == \"-\" else 0\n",
    "        flag = 0 if s[0] == \"-\" else 1\n",
    "        ans = \"0\"\n",
    "        for ch in s[start:]:\n",
    "            if not ch.isdigit(): break\n",
    "            else: ans += ch\n",
    "        res = min(int(ans), 2 ** 31 - flag)\n",
    "        return res if flag else -res"
   ]
  },
  {
   "cell_type": "code",
   "execution_count": 145,
   "id": "a8823854-65e5-4f5d-9617-69da7f2672f7",
   "metadata": {},
   "outputs": [],
   "source": [
    "s = \"  \""
   ]
  },
  {
   "cell_type": "code",
   "execution_count": 146,
   "id": "1e616c89-0adb-428b-a3fe-f14473931572",
   "metadata": {},
   "outputs": [
    {
     "data": {
      "text/plain": [
       "0"
      ]
     },
     "execution_count": 146,
     "metadata": {},
     "output_type": "execute_result"
    }
   ],
   "source": [
    "S = Solution()\n",
    "S.myAtoi(s)"
   ]
  },
  {
   "cell_type": "markdown",
   "id": "af99bcd0-529a-4207-a704-a2c3d4f80b15",
   "metadata": {},
   "source": [
    "时间 O(n), 空间 O(n)"
   ]
  },
  {
   "cell_type": "markdown",
   "id": "bd0bf333-7f36-4251-b99e-da3512b64b9e",
   "metadata": {},
   "source": [
    "## 8. 外观数列"
   ]
  },
  {
   "cell_type": "markdown",
   "id": "da928587-6462-4633-bd1a-bee93fc6bf52",
   "metadata": {},
   "source": [
    "写一个漂亮的递归"
   ]
  },
  {
   "cell_type": "code",
   "execution_count": 155,
   "id": "a50132f1-da5e-4f38-9b9d-77695d4836ff",
   "metadata": {},
   "outputs": [],
   "source": [
    "class Solution:\n",
    "    def countAndSay(self, n: int) -> str:\n",
    "        def generate(s, n):\n",
    "            if not n: return s\n",
    "            leng = len(s)\n",
    "            s += \"0\"\n",
    "            left = 0\n",
    "            cur = \"\"\n",
    "            for i in range(leng):\n",
    "                if s[i] != s[i+1]:\n",
    "                    cur += str(i + 1 - left) + s[i]\n",
    "                    left = i + 1\n",
    "            return generate(cur, n - 1)\n",
    "        return generate(\"1\", n-1)"
   ]
  },
  {
   "cell_type": "code",
   "execution_count": 160,
   "id": "0bab273c-ce29-4584-bf67-d03f6656d8e7",
   "metadata": {},
   "outputs": [
    {
     "data": {
      "text/plain": [
       "'13211311123113112211'"
      ]
     },
     "execution_count": 160,
     "metadata": {},
     "output_type": "execute_result"
    }
   ],
   "source": [
    "s = Solution()\n",
    "s.countAndSay(10)"
   ]
  },
  {
   "cell_type": "markdown",
   "id": "d2278926-9f34-4051-a6d7-e084359d90b8",
   "metadata": {
    "tags": []
   },
   "source": [
    "### 复杂度怎么分析"
   ]
  },
  {
   "cell_type": "markdown",
   "id": "1fc27493-54a4-4c44-99a9-9f2554efe224",
   "metadata": {
    "tags": []
   },
   "source": [
    "## 9. 最长公共前缀"
   ]
  },
  {
   "cell_type": "code",
   "execution_count": 162,
   "id": "64fe5cae-2ef2-4bba-aad7-7ba160173a9f",
   "metadata": {},
   "outputs": [],
   "source": [
    "from typing import List\n",
    "class Solution:\n",
    "    def longestCommonPrefix(self, strs: List[str]) -> str:\n",
    "        leng = 200\n",
    "        for s in strs: leng = min(leng, len(s))\n",
    "        for i in range(leng):\n",
    "            for s in strs:\n",
    "                if s[i] != strs[0][i]: return strs[0][:i]\n",
    "        return strs[0][:leng]"
   ]
  },
  {
   "cell_type": "code",
   "execution_count": 170,
   "id": "87ab3c72-a07e-4d1e-a778-a7e004fd7a51",
   "metadata": {},
   "outputs": [],
   "source": [
    "strs = [\"flower\",\"fl\",\"flight\"]"
   ]
  },
  {
   "cell_type": "code",
   "execution_count": 171,
   "id": "8ff15149-ec76-4ef1-8061-9ca73a3c9542",
   "metadata": {},
   "outputs": [
    {
     "data": {
      "text/plain": [
       "'fl'"
      ]
     },
     "execution_count": 171,
     "metadata": {},
     "output_type": "execute_result"
    }
   ],
   "source": [
    "s = Solution()\n",
    "s.longestCommonPrefix(strs)"
   ]
  },
  {
   "cell_type": "markdown",
   "id": "d9b648aa-7fac-45f1-86b8-a4810793f0f1",
   "metadata": {},
   "source": [
    "- 时间： O(mn) 其中m为strs中最短长度， n为strs长度\n",
    "- 空间： O(1)"
   ]
  },
  {
   "cell_type": "markdown",
   "id": "2081af38-5788-4cc0-ab31-3b6cd4dd76fb",
   "metadata": {},
   "source": [
    "居然写过更简洁的"
   ]
  },
  {
   "cell_type": "code",
   "execution_count": 169,
   "id": "ab4b3a17-d68c-4dd9-b94f-685b3a35ac60",
   "metadata": {},
   "outputs": [],
   "source": [
    "class Solution:\n",
    "    def longestCommonPrefix(self, strs: List[str]) -> str:\n",
    "        res = \"\"\n",
    "        for ch in zip(*strs):\n",
    "            if len(set(ch)) != 1: return res\n",
    "            res += ch[0]\n",
    "        return res"
   ]
  },
  {
   "cell_type": "markdown",
   "id": "06ce124f-7cb8-4fb2-b04b-977735692daa",
   "metadata": {},
   "source": [
    "以上都是纵向扫描的方式，还有其他方法"
   ]
  },
  {
   "cell_type": "markdown",
   "id": "1e0ab791-fe33-4a84-8d4e-565188e3f022",
   "metadata": {},
   "source": [
    "横向扫描：\n",
    "\n",
    "用 $LCP(S_1 ... S_n)$ 表示字符串 $S_1 .. S_n$ 的最长公共前缀。\n",
    "\n",
    "可以得到以下结论：\n",
    "$$LCP(S_1 .. S_n) = LCP(LCP(LCP(S_1, S_2), S_3), ... S_n)$$"
   ]
  },
  {
   "cell_type": "code",
   "execution_count": 172,
   "id": "74cf92e1-3393-45a2-bf55-952e0d097584",
   "metadata": {},
   "outputs": [
    {
     "ename": "SyntaxError",
     "evalue": "unexpected EOF while parsing (<ipython-input-172-19bb5e411faf>, line 4)",
     "output_type": "error",
     "traceback": [
      "\u001b[1;36m  File \u001b[1;32m\"<ipython-input-172-19bb5e411faf>\"\u001b[1;36m, line \u001b[1;32m4\u001b[0m\n\u001b[1;33m    for i, ch in enumerate(zip(a,b)):\u001b[0m\n\u001b[1;37m                                     ^\u001b[0m\n\u001b[1;31mSyntaxError\u001b[0m\u001b[1;31m:\u001b[0m unexpected EOF while parsing\n"
     ]
    }
   ],
   "source": [
    "class Solution:\n",
    "    def longestCommonPrefix(self, strs: List[str]) -> str:\n",
    "        def LCP(a: str, b: str) -> str:\n",
    "            if not a: return \"\"\n",
    "            for i, ch in enumerate(zip(a,b)):\n",
    "                if ch[0] != ch[1]: return a[:i]\n",
    "        return redu"
   ]
  },
  {
   "cell_type": "code",
   "execution_count": null,
   "id": "18616a4b-2426-4c1d-8ff4-6a88e423c7c2",
   "metadata": {},
   "outputs": [],
   "source": []
  },
  {
   "cell_type": "code",
   "execution_count": null,
   "id": "71ef4e7b-2208-467a-baa0-b697e7375ced",
   "metadata": {},
   "outputs": [],
   "source": []
  },
  {
   "cell_type": "code",
   "execution_count": null,
   "id": "3242aa5d-0d6b-4eae-97e1-4fab26a14c21",
   "metadata": {},
   "outputs": [],
   "source": []
  },
  {
   "cell_type": "code",
   "execution_count": null,
   "id": "8ea865f4-ddbe-4c6d-8a6c-ded18c170b7c",
   "metadata": {},
   "outputs": [],
   "source": []
  },
  {
   "cell_type": "code",
   "execution_count": null,
   "id": "35723b1d-27b2-4c33-b4c6-ff45b0432a39",
   "metadata": {},
   "outputs": [],
   "source": []
  },
  {
   "cell_type": "code",
   "execution_count": null,
   "id": "47bc348f-091d-4ade-9d94-9b51ddc4e962",
   "metadata": {},
   "outputs": [],
   "source": []
  },
  {
   "cell_type": "code",
   "execution_count": null,
   "id": "b85a4e36-b87d-4763-85bd-1a652f83c529",
   "metadata": {},
   "outputs": [],
   "source": []
  },
  {
   "cell_type": "code",
   "execution_count": null,
   "id": "2d3b85ce-a87b-4ef1-8d72-e6d875620c00",
   "metadata": {},
   "outputs": [],
   "source": []
  },
  {
   "cell_type": "code",
   "execution_count": null,
   "id": "bf571851-304b-429a-9150-15a384fe35bf",
   "metadata": {},
   "outputs": [],
   "source": []
  },
  {
   "cell_type": "code",
   "execution_count": null,
   "id": "a0526bf2-f253-4300-8d5e-4d0a9675382c",
   "metadata": {},
   "outputs": [],
   "source": []
  },
  {
   "cell_type": "code",
   "execution_count": null,
   "id": "9f929bbe-7779-4051-83d1-39c4787e47c9",
   "metadata": {},
   "outputs": [],
   "source": []
  },
  {
   "cell_type": "code",
   "execution_count": null,
   "id": "7f423cb2-34bd-48a4-8b59-f72e6fae5007",
   "metadata": {},
   "outputs": [],
   "source": []
  },
  {
   "cell_type": "code",
   "execution_count": null,
   "id": "b797dbf5-7f32-4294-9f53-df72b087dd5c",
   "metadata": {},
   "outputs": [],
   "source": []
  },
  {
   "cell_type": "code",
   "execution_count": null,
   "id": "862ca0a0-cc1b-4752-a4c7-2d168926a507",
   "metadata": {},
   "outputs": [],
   "source": []
  },
  {
   "cell_type": "code",
   "execution_count": null,
   "id": "c52ff845-6ad5-470f-9f2b-c8af72f736ef",
   "metadata": {},
   "outputs": [],
   "source": []
  },
  {
   "cell_type": "code",
   "execution_count": null,
   "id": "6dc433bd-7cfe-4974-9c9a-fe8685d743fa",
   "metadata": {},
   "outputs": [],
   "source": []
  },
  {
   "cell_type": "code",
   "execution_count": null,
   "id": "b2d3bb0a-274e-4130-8ff6-22a4c798efb1",
   "metadata": {},
   "outputs": [],
   "source": []
  },
  {
   "cell_type": "code",
   "execution_count": null,
   "id": "ca51e2b7-b3ff-4baa-ad3b-bdd89258c3d0",
   "metadata": {},
   "outputs": [],
   "source": []
  },
  {
   "cell_type": "code",
   "execution_count": null,
   "id": "7212e0fb-4060-476d-82f9-2a1898f4d866",
   "metadata": {},
   "outputs": [],
   "source": []
  },
  {
   "cell_type": "code",
   "execution_count": null,
   "id": "5fc9962a-21fc-441f-9ba2-74d7e41676f3",
   "metadata": {},
   "outputs": [],
   "source": []
  },
  {
   "cell_type": "code",
   "execution_count": null,
   "id": "181f3dc1-cc3d-4b67-af5d-78792d8576b9",
   "metadata": {},
   "outputs": [],
   "source": []
  },
  {
   "cell_type": "code",
   "execution_count": null,
   "id": "79165a75-2714-4b7b-a213-2220ab38ab60",
   "metadata": {},
   "outputs": [],
   "source": []
  },
  {
   "cell_type": "code",
   "execution_count": null,
   "id": "7842c572-dc53-465d-8ecb-b12f420038ee",
   "metadata": {},
   "outputs": [],
   "source": []
  },
  {
   "cell_type": "code",
   "execution_count": null,
   "id": "4980937a-792f-4b7a-97fd-e7d56ffef86e",
   "metadata": {},
   "outputs": [],
   "source": []
  },
  {
   "cell_type": "code",
   "execution_count": null,
   "id": "52238c77-ea69-496e-a019-60920135e396",
   "metadata": {},
   "outputs": [],
   "source": []
  },
  {
   "cell_type": "code",
   "execution_count": null,
   "id": "e859c713-44e0-4938-acc6-83ed21f8c536",
   "metadata": {},
   "outputs": [],
   "source": []
  },
  {
   "cell_type": "code",
   "execution_count": null,
   "id": "9f6d8cd3-0a8c-4b64-a250-674ceff05420",
   "metadata": {},
   "outputs": [],
   "source": []
  },
  {
   "cell_type": "code",
   "execution_count": null,
   "id": "12afa7ba-6990-47d5-8149-f087784a77de",
   "metadata": {},
   "outputs": [],
   "source": []
  },
  {
   "cell_type": "code",
   "execution_count": null,
   "id": "957fb73e-b24c-403a-80ef-65dc94c2ca85",
   "metadata": {},
   "outputs": [],
   "source": []
  },
  {
   "cell_type": "code",
   "execution_count": null,
   "id": "a42fbd14-73f4-4e81-82c7-1bbacfa580a7",
   "metadata": {},
   "outputs": [],
   "source": []
  },
  {
   "cell_type": "code",
   "execution_count": null,
   "id": "d8074a25-c7dd-4ee2-8de3-47da3914ea9c",
   "metadata": {},
   "outputs": [],
   "source": []
  },
  {
   "cell_type": "code",
   "execution_count": null,
   "id": "b9c5e6ed-cd34-4d08-aded-d352df1f85a9",
   "metadata": {},
   "outputs": [],
   "source": []
  },
  {
   "cell_type": "code",
   "execution_count": null,
   "id": "af6eeaeb-2c06-4c92-9312-2b2c8a9a0dd1",
   "metadata": {},
   "outputs": [],
   "source": []
  },
  {
   "cell_type": "code",
   "execution_count": null,
   "id": "6d198ba1-2133-4187-af71-d0d7919005db",
   "metadata": {},
   "outputs": [],
   "source": []
  },
  {
   "cell_type": "code",
   "execution_count": null,
   "id": "b22fefbb-b926-4ae6-b00a-5c258cb334e3",
   "metadata": {},
   "outputs": [],
   "source": []
  },
  {
   "cell_type": "code",
   "execution_count": null,
   "id": "11a0d483-a7f7-4c29-b431-63f5ee48c21e",
   "metadata": {},
   "outputs": [],
   "source": []
  },
  {
   "cell_type": "code",
   "execution_count": null,
   "id": "a2cb28e2-2655-4107-a93a-a22f6585d259",
   "metadata": {},
   "outputs": [],
   "source": []
  },
  {
   "cell_type": "code",
   "execution_count": null,
   "id": "8e3926ef-e118-4c9a-9a82-11e468f7d9b7",
   "metadata": {},
   "outputs": [],
   "source": []
  },
  {
   "cell_type": "code",
   "execution_count": null,
   "id": "5c580c7e-c607-4353-9fb4-e8c8cfd5325b",
   "metadata": {},
   "outputs": [],
   "source": []
  },
  {
   "cell_type": "code",
   "execution_count": null,
   "id": "f59ccf22-587f-4f60-a8d5-02b5b7effc7b",
   "metadata": {},
   "outputs": [],
   "source": []
  },
  {
   "cell_type": "code",
   "execution_count": null,
   "id": "eb7c8801-7bf8-4869-9a82-8754cb5a098b",
   "metadata": {},
   "outputs": [],
   "source": []
  },
  {
   "cell_type": "code",
   "execution_count": null,
   "id": "d3972892-da73-4e2b-a31b-13a1b03a3a3b",
   "metadata": {},
   "outputs": [],
   "source": []
  },
  {
   "cell_type": "code",
   "execution_count": null,
   "id": "86aba18c-c9ce-4ca1-8cec-b78cfdff28fe",
   "metadata": {},
   "outputs": [],
   "source": []
  },
  {
   "cell_type": "code",
   "execution_count": null,
   "id": "616db82b-fa16-4a0e-a0b6-b1a5cbdef511",
   "metadata": {},
   "outputs": [],
   "source": []
  },
  {
   "cell_type": "code",
   "execution_count": null,
   "id": "b691a31e-384a-4c1c-b3c8-43e89b60a07c",
   "metadata": {},
   "outputs": [],
   "source": []
  },
  {
   "cell_type": "code",
   "execution_count": null,
   "id": "dda0080b-b045-4160-9b0d-e6ebe816912a",
   "metadata": {},
   "outputs": [],
   "source": []
  },
  {
   "cell_type": "code",
   "execution_count": null,
   "id": "4f48b48d-8d7b-48f6-bd48-6db3d47d0f64",
   "metadata": {},
   "outputs": [],
   "source": []
  },
  {
   "cell_type": "code",
   "execution_count": null,
   "id": "e673bbe1-fa05-4e0d-bbda-9d830fc6ed87",
   "metadata": {},
   "outputs": [],
   "source": []
  },
  {
   "cell_type": "code",
   "execution_count": null,
   "id": "3a2f38c5-a5a0-499b-9754-9c61dc6a658d",
   "metadata": {},
   "outputs": [],
   "source": []
  },
  {
   "cell_type": "code",
   "execution_count": null,
   "id": "a0b64b75-215a-407c-ba4f-673bc3849e79",
   "metadata": {},
   "outputs": [],
   "source": []
  },
  {
   "cell_type": "code",
   "execution_count": null,
   "id": "45ac1a1b-42b2-48e8-b822-4b90ba66fd2f",
   "metadata": {},
   "outputs": [],
   "source": []
  },
  {
   "cell_type": "code",
   "execution_count": null,
   "id": "77273e8e-1b96-434e-8e5e-c07797b5fda9",
   "metadata": {},
   "outputs": [],
   "source": []
  },
  {
   "cell_type": "code",
   "execution_count": null,
   "id": "20891abf-6649-4c41-a9fb-6895b91c81ba",
   "metadata": {},
   "outputs": [],
   "source": []
  },
  {
   "cell_type": "code",
   "execution_count": null,
   "id": "68660ae6-a9d1-477a-a40c-561aedfdc69a",
   "metadata": {},
   "outputs": [],
   "source": []
  },
  {
   "cell_type": "code",
   "execution_count": null,
   "id": "0f35a7a9-8fb1-476f-a8c7-3b52eacea93d",
   "metadata": {},
   "outputs": [],
   "source": []
  },
  {
   "cell_type": "code",
   "execution_count": null,
   "id": "14ba8ba5-9cf0-45a8-8d55-12e7f0429d92",
   "metadata": {},
   "outputs": [],
   "source": []
  },
  {
   "cell_type": "code",
   "execution_count": null,
   "id": "217676e8-1c6f-4451-8db7-06090e32946a",
   "metadata": {},
   "outputs": [],
   "source": []
  },
  {
   "cell_type": "code",
   "execution_count": null,
   "id": "ba753b68-4cbe-4c00-b064-c47d81781c41",
   "metadata": {},
   "outputs": [],
   "source": []
  },
  {
   "cell_type": "code",
   "execution_count": null,
   "id": "65ba302f-7594-4847-a164-750b1a012e9e",
   "metadata": {},
   "outputs": [],
   "source": []
  },
  {
   "cell_type": "code",
   "execution_count": null,
   "id": "644135d4-8e2a-4d63-b326-b7578ec5a6dd",
   "metadata": {},
   "outputs": [],
   "source": []
  },
  {
   "cell_type": "code",
   "execution_count": null,
   "id": "d66699b4-841f-4349-8ee4-102c0d26559f",
   "metadata": {},
   "outputs": [],
   "source": []
  },
  {
   "cell_type": "code",
   "execution_count": null,
   "id": "708827af-7192-4b75-800d-cc5991a70a04",
   "metadata": {},
   "outputs": [],
   "source": []
  },
  {
   "cell_type": "code",
   "execution_count": null,
   "id": "fd6031f6-f7c4-4cef-a4f9-8a23706bfc5b",
   "metadata": {},
   "outputs": [],
   "source": []
  },
  {
   "cell_type": "code",
   "execution_count": null,
   "id": "888b237f-7be2-441f-900c-7f366bae5ffc",
   "metadata": {},
   "outputs": [],
   "source": []
  },
  {
   "cell_type": "code",
   "execution_count": null,
   "id": "e64e6411-7583-4e95-9153-c84e270f3b8b",
   "metadata": {},
   "outputs": [],
   "source": []
  },
  {
   "cell_type": "code",
   "execution_count": null,
   "id": "0967dbac-5710-473b-90bf-ec4ef5a3e724",
   "metadata": {},
   "outputs": [],
   "source": []
  },
  {
   "cell_type": "code",
   "execution_count": null,
   "id": "e35c3467-001f-45da-bfe5-f6723b1d268e",
   "metadata": {},
   "outputs": [],
   "source": []
  },
  {
   "cell_type": "code",
   "execution_count": null,
   "id": "ae82e421-b019-4353-b7a3-888b7e27d59f",
   "metadata": {},
   "outputs": [],
   "source": []
  },
  {
   "cell_type": "code",
   "execution_count": null,
   "id": "2df4b267-8a72-460f-8e1f-4ac0c7efd9fe",
   "metadata": {},
   "outputs": [],
   "source": []
  },
  {
   "cell_type": "code",
   "execution_count": null,
   "id": "420e4a28-6d32-4d18-a223-f99da09ce4a2",
   "metadata": {},
   "outputs": [],
   "source": []
  },
  {
   "cell_type": "code",
   "execution_count": null,
   "id": "dd9d11bc-4d5b-4f58-a0e6-f81211c2a90c",
   "metadata": {},
   "outputs": [],
   "source": []
  },
  {
   "cell_type": "code",
   "execution_count": null,
   "id": "2fb9ef07-84a3-4218-9c42-30986c4fba49",
   "metadata": {},
   "outputs": [],
   "source": []
  },
  {
   "cell_type": "code",
   "execution_count": null,
   "id": "e47d51f3-5671-48ec-a012-4bad543aa098",
   "metadata": {},
   "outputs": [],
   "source": []
  },
  {
   "cell_type": "code",
   "execution_count": null,
   "id": "e6d923f1-b0a0-42c1-b9cb-71c5d32b17b8",
   "metadata": {},
   "outputs": [],
   "source": []
  },
  {
   "cell_type": "code",
   "execution_count": null,
   "id": "ad92eeac-db61-4e90-8605-919e3c9dd94c",
   "metadata": {},
   "outputs": [],
   "source": []
  },
  {
   "cell_type": "code",
   "execution_count": null,
   "id": "d37b8ee7-53cf-4e23-a226-5f98c8455639",
   "metadata": {},
   "outputs": [],
   "source": []
  },
  {
   "cell_type": "code",
   "execution_count": null,
   "id": "12f1ea51-d6da-45d0-8411-c3355e8b2cf0",
   "metadata": {},
   "outputs": [],
   "source": []
  },
  {
   "cell_type": "code",
   "execution_count": null,
   "id": "2cf6d267-fd1f-4197-81e1-a1a6225d8e7a",
   "metadata": {},
   "outputs": [],
   "source": []
  },
  {
   "cell_type": "code",
   "execution_count": null,
   "id": "b704f83f-b4fb-48c3-bfaf-6b1a5d6854fe",
   "metadata": {},
   "outputs": [],
   "source": []
  },
  {
   "cell_type": "code",
   "execution_count": null,
   "id": "93734fb3-5d42-4cd3-8dca-07b156c835f3",
   "metadata": {},
   "outputs": [],
   "source": []
  },
  {
   "cell_type": "code",
   "execution_count": null,
   "id": "304c62ac-3bab-42d6-97c0-131282619ea9",
   "metadata": {},
   "outputs": [],
   "source": []
  },
  {
   "cell_type": "code",
   "execution_count": null,
   "id": "55fb7c2c-5725-490a-bae2-fb43810b7025",
   "metadata": {},
   "outputs": [],
   "source": []
  },
  {
   "cell_type": "code",
   "execution_count": null,
   "id": "eb87bf8d-a6e5-4c71-9c4d-3e17a9f03857",
   "metadata": {},
   "outputs": [],
   "source": []
  },
  {
   "cell_type": "code",
   "execution_count": null,
   "id": "cfef5741-3df1-4868-9c92-e9c97323cdbf",
   "metadata": {},
   "outputs": [],
   "source": []
  },
  {
   "cell_type": "code",
   "execution_count": null,
   "id": "18055b26-bac0-460b-814c-5cdd06a37370",
   "metadata": {},
   "outputs": [],
   "source": []
  },
  {
   "cell_type": "code",
   "execution_count": null,
   "id": "16f0d85e-a989-4fbf-b6ec-9d8f0723f165",
   "metadata": {},
   "outputs": [],
   "source": []
  },
  {
   "cell_type": "code",
   "execution_count": null,
   "id": "63d0bbff-67f4-40e0-bea3-deb707a685b2",
   "metadata": {},
   "outputs": [],
   "source": []
  },
  {
   "cell_type": "code",
   "execution_count": null,
   "id": "e30250ef-aebf-4210-b222-38e89ebed37b",
   "metadata": {},
   "outputs": [],
   "source": []
  },
  {
   "cell_type": "code",
   "execution_count": null,
   "id": "e78f161c-096b-45cf-a2f6-b61ecfb9631e",
   "metadata": {},
   "outputs": [],
   "source": []
  },
  {
   "cell_type": "code",
   "execution_count": null,
   "id": "79645dd5-fdd7-429b-bfcf-897df579583b",
   "metadata": {},
   "outputs": [],
   "source": []
  },
  {
   "cell_type": "code",
   "execution_count": null,
   "id": "1f8f8d8b-d9cd-44f6-a47f-379b32df79d4",
   "metadata": {},
   "outputs": [],
   "source": []
  },
  {
   "cell_type": "code",
   "execution_count": null,
   "id": "f4e556b9-7507-4bab-af8c-711ea91f2ec3",
   "metadata": {},
   "outputs": [],
   "source": []
  },
  {
   "cell_type": "code",
   "execution_count": null,
   "id": "066fa60c-654a-49a1-a86f-f98a1e96c1c8",
   "metadata": {},
   "outputs": [],
   "source": []
  },
  {
   "cell_type": "code",
   "execution_count": null,
   "id": "aec5b357-89dc-4f16-b05d-2e11a8d20242",
   "metadata": {},
   "outputs": [],
   "source": []
  },
  {
   "cell_type": "code",
   "execution_count": null,
   "id": "2246380a-9d2a-4152-9fcf-009c941020da",
   "metadata": {},
   "outputs": [],
   "source": []
  },
  {
   "cell_type": "code",
   "execution_count": null,
   "id": "187b43eb-1804-434f-9262-b7f65b4af2a1",
   "metadata": {},
   "outputs": [],
   "source": []
  },
  {
   "cell_type": "code",
   "execution_count": null,
   "id": "4af0f944-b4a7-4d84-ba3f-dd619575052f",
   "metadata": {},
   "outputs": [],
   "source": []
  },
  {
   "cell_type": "code",
   "execution_count": null,
   "id": "861a8ab9-e568-4d26-b085-a028175eabbb",
   "metadata": {},
   "outputs": [],
   "source": []
  },
  {
   "cell_type": "code",
   "execution_count": null,
   "id": "29d4310d-15f8-4668-a008-a81930fb5e1f",
   "metadata": {},
   "outputs": [],
   "source": []
  },
  {
   "cell_type": "code",
   "execution_count": null,
   "id": "f9b8dbdd-7f87-4435-a71d-b7ba25f8121a",
   "metadata": {},
   "outputs": [],
   "source": []
  },
  {
   "cell_type": "code",
   "execution_count": null,
   "id": "f1b30ed6-27be-47ea-9694-d5f622cbdd61",
   "metadata": {},
   "outputs": [],
   "source": []
  },
  {
   "cell_type": "code",
   "execution_count": null,
   "id": "7a2d5b88-c24e-4a5b-aae7-6627b39bfc4a",
   "metadata": {},
   "outputs": [],
   "source": []
  },
  {
   "cell_type": "code",
   "execution_count": null,
   "id": "dee6d10b-d1b4-40d5-84f9-6019a179dbb3",
   "metadata": {},
   "outputs": [],
   "source": []
  },
  {
   "cell_type": "code",
   "execution_count": null,
   "id": "53140370-63e1-4e6d-84d2-13f04d342589",
   "metadata": {},
   "outputs": [],
   "source": []
  },
  {
   "cell_type": "code",
   "execution_count": null,
   "id": "873ccd82-05d9-436c-ae1d-8ee69cf17a73",
   "metadata": {},
   "outputs": [],
   "source": []
  },
  {
   "cell_type": "code",
   "execution_count": null,
   "id": "0539d8f0-2bc4-4430-8a47-09586e0b97ef",
   "metadata": {},
   "outputs": [],
   "source": []
  },
  {
   "cell_type": "code",
   "execution_count": null,
   "id": "289ec19b-5624-4f8b-9ed4-fa5493f04cf1",
   "metadata": {},
   "outputs": [],
   "source": []
  },
  {
   "cell_type": "code",
   "execution_count": null,
   "id": "8c5bd98b-08dc-4367-b402-c1bce72b73a4",
   "metadata": {},
   "outputs": [],
   "source": []
  },
  {
   "cell_type": "code",
   "execution_count": null,
   "id": "705ca8e9-9491-4fa8-8eb7-dcfdeeca642f",
   "metadata": {},
   "outputs": [],
   "source": []
  },
  {
   "cell_type": "code",
   "execution_count": null,
   "id": "804c721f-8dbb-45f8-8f16-55235e1c18c2",
   "metadata": {},
   "outputs": [],
   "source": []
  },
  {
   "cell_type": "code",
   "execution_count": null,
   "id": "222d0451-76e2-483b-96a5-bc9719e18835",
   "metadata": {},
   "outputs": [],
   "source": []
  },
  {
   "cell_type": "code",
   "execution_count": null,
   "id": "0314b7f4-9720-4edf-ab38-02863dcefefd",
   "metadata": {},
   "outputs": [],
   "source": []
  },
  {
   "cell_type": "code",
   "execution_count": null,
   "id": "fc11d503-48f2-4209-b4d4-ca57ad50d3e3",
   "metadata": {},
   "outputs": [],
   "source": []
  },
  {
   "cell_type": "code",
   "execution_count": null,
   "id": "a1b78cb0-7c0e-4c05-9a50-57c1fa84396e",
   "metadata": {},
   "outputs": [],
   "source": []
  },
  {
   "cell_type": "code",
   "execution_count": null,
   "id": "6fc2c598-6383-4393-81fb-f6b5c4c01e94",
   "metadata": {},
   "outputs": [],
   "source": []
  },
  {
   "cell_type": "code",
   "execution_count": null,
   "id": "a61d5ba6-6f66-434a-b268-80ce2fe98a91",
   "metadata": {},
   "outputs": [],
   "source": []
  },
  {
   "cell_type": "code",
   "execution_count": null,
   "id": "9bc0546f-36a8-4c06-ab44-6c76cd68a255",
   "metadata": {},
   "outputs": [],
   "source": []
  },
  {
   "cell_type": "code",
   "execution_count": null,
   "id": "2b43ee5d-d8d4-430e-b7b8-abe8e64241d3",
   "metadata": {},
   "outputs": [],
   "source": []
  },
  {
   "cell_type": "code",
   "execution_count": null,
   "id": "21680506-7733-4dc9-9e9e-78f78406a92d",
   "metadata": {},
   "outputs": [],
   "source": []
  },
  {
   "cell_type": "code",
   "execution_count": null,
   "id": "0c694489-0f4c-4e3f-8541-a87d7230f383",
   "metadata": {},
   "outputs": [],
   "source": []
  },
  {
   "cell_type": "code",
   "execution_count": null,
   "id": "44f80816-f34f-473f-b98b-384f700fa0a8",
   "metadata": {},
   "outputs": [],
   "source": []
  },
  {
   "cell_type": "code",
   "execution_count": null,
   "id": "2f7d23a9-0202-4ba2-b37e-d77f9f517cd2",
   "metadata": {},
   "outputs": [],
   "source": []
  },
  {
   "cell_type": "code",
   "execution_count": null,
   "id": "43ef83d5-8649-4889-a359-7ea32b2bdda4",
   "metadata": {},
   "outputs": [],
   "source": []
  },
  {
   "cell_type": "code",
   "execution_count": null,
   "id": "27a4591c-c6aa-4af4-ba6c-8294caa728eb",
   "metadata": {},
   "outputs": [],
   "source": []
  },
  {
   "cell_type": "code",
   "execution_count": null,
   "id": "9d706312-c866-4ba2-950f-53fc01c3c634",
   "metadata": {},
   "outputs": [],
   "source": []
  },
  {
   "cell_type": "code",
   "execution_count": null,
   "id": "8c6eebd2-f1af-413c-9a96-f9a494b50dda",
   "metadata": {},
   "outputs": [],
   "source": []
  },
  {
   "cell_type": "code",
   "execution_count": null,
   "id": "945bf56f-3d2c-43f3-999b-9ea7f5f59e4a",
   "metadata": {},
   "outputs": [],
   "source": []
  },
  {
   "cell_type": "code",
   "execution_count": null,
   "id": "d2bd885a-0337-4d18-986c-1f59ef83366f",
   "metadata": {},
   "outputs": [],
   "source": []
  },
  {
   "cell_type": "code",
   "execution_count": null,
   "id": "84aaee4d-2795-496b-8cfd-db735a4fc335",
   "metadata": {},
   "outputs": [],
   "source": []
  },
  {
   "cell_type": "code",
   "execution_count": null,
   "id": "a23a495b-2c80-4b10-b204-5e2f16999cac",
   "metadata": {},
   "outputs": [],
   "source": []
  },
  {
   "cell_type": "code",
   "execution_count": null,
   "id": "12eef564-da0d-47c7-b7d1-09a5dd5685ba",
   "metadata": {},
   "outputs": [],
   "source": []
  },
  {
   "cell_type": "code",
   "execution_count": null,
   "id": "2642f2bb-b5fa-4a91-b484-b6c2663ad82e",
   "metadata": {},
   "outputs": [],
   "source": []
  },
  {
   "cell_type": "code",
   "execution_count": null,
   "id": "bd481064-7eff-4b2c-a3d7-d0a29fd4d0c3",
   "metadata": {},
   "outputs": [],
   "source": []
  },
  {
   "cell_type": "code",
   "execution_count": null,
   "id": "c79231bf-5357-42bb-bac0-9254e36a3955",
   "metadata": {},
   "outputs": [],
   "source": []
  },
  {
   "cell_type": "code",
   "execution_count": null,
   "id": "8055e178-7eff-4160-9227-4edf7771fe1f",
   "metadata": {},
   "outputs": [],
   "source": []
  },
  {
   "cell_type": "code",
   "execution_count": null,
   "id": "80410c5e-21b6-4c18-bcb7-d468f999a811",
   "metadata": {},
   "outputs": [],
   "source": []
  },
  {
   "cell_type": "code",
   "execution_count": null,
   "id": "94b7137c-6a62-4535-bd84-5c8f9120fce4",
   "metadata": {},
   "outputs": [],
   "source": []
  },
  {
   "cell_type": "code",
   "execution_count": null,
   "id": "c90ea1c5-123d-42d2-b41b-315a7e465011",
   "metadata": {},
   "outputs": [],
   "source": []
  },
  {
   "cell_type": "code",
   "execution_count": null,
   "id": "bb947da6-7ec4-442a-a4bf-ab83f18c5ea3",
   "metadata": {},
   "outputs": [],
   "source": []
  },
  {
   "cell_type": "code",
   "execution_count": null,
   "id": "72e87fb5-35e9-4998-af6e-c126f8f5f626",
   "metadata": {},
   "outputs": [],
   "source": []
  },
  {
   "cell_type": "code",
   "execution_count": null,
   "id": "6e40ee56-00be-4124-9f34-0a588c7e114f",
   "metadata": {},
   "outputs": [],
   "source": []
  },
  {
   "cell_type": "code",
   "execution_count": null,
   "id": "7dd3056a-dd69-41dd-9af3-4350037fdcad",
   "metadata": {},
   "outputs": [],
   "source": []
  },
  {
   "cell_type": "code",
   "execution_count": null,
   "id": "0536b28a-058b-48b5-a474-7eaed8e0a0d4",
   "metadata": {},
   "outputs": [],
   "source": []
  },
  {
   "cell_type": "code",
   "execution_count": null,
   "id": "0e97e241-3bc6-4668-9b70-9ae3b8aa12d5",
   "metadata": {},
   "outputs": [],
   "source": []
  },
  {
   "cell_type": "code",
   "execution_count": null,
   "id": "c7146572-0d6d-4ed4-a4bb-4c95b24e0c81",
   "metadata": {},
   "outputs": [],
   "source": []
  },
  {
   "cell_type": "code",
   "execution_count": null,
   "id": "1db09b43-8bbc-49a4-857d-4ad79695f31b",
   "metadata": {},
   "outputs": [],
   "source": []
  },
  {
   "cell_type": "code",
   "execution_count": null,
   "id": "b2ec8090-dbc3-4f41-ad67-8c609a0a1b49",
   "metadata": {},
   "outputs": [],
   "source": []
  },
  {
   "cell_type": "code",
   "execution_count": null,
   "id": "345c378d-9fdd-404b-8704-2e051a7a24ce",
   "metadata": {},
   "outputs": [],
   "source": []
  },
  {
   "cell_type": "code",
   "execution_count": null,
   "id": "4156cb68-39f0-4cef-882f-c64169392760",
   "metadata": {},
   "outputs": [],
   "source": []
  },
  {
   "cell_type": "code",
   "execution_count": null,
   "id": "e0758af3-ceed-4846-a2af-cc67945d0478",
   "metadata": {},
   "outputs": [],
   "source": []
  },
  {
   "cell_type": "code",
   "execution_count": null,
   "id": "e317b76b-e12a-4626-ac3b-bd95fe2bef57",
   "metadata": {},
   "outputs": [],
   "source": []
  },
  {
   "cell_type": "code",
   "execution_count": null,
   "id": "5719aac1-4310-496d-a3ae-1e20252e02f1",
   "metadata": {},
   "outputs": [],
   "source": []
  },
  {
   "cell_type": "code",
   "execution_count": null,
   "id": "d686530f-c538-47c5-a793-056e4a3d0925",
   "metadata": {},
   "outputs": [],
   "source": []
  },
  {
   "cell_type": "code",
   "execution_count": null,
   "id": "b7feb25f-899f-4c65-b8ba-cd3f887eb8a3",
   "metadata": {},
   "outputs": [],
   "source": []
  },
  {
   "cell_type": "code",
   "execution_count": null,
   "id": "f23dafc4-30c7-47f0-9982-4abc40d0bef0",
   "metadata": {},
   "outputs": [],
   "source": []
  },
  {
   "cell_type": "code",
   "execution_count": null,
   "id": "f3747a89-42e1-4104-9184-57e9afb9a75a",
   "metadata": {},
   "outputs": [],
   "source": []
  },
  {
   "cell_type": "code",
   "execution_count": null,
   "id": "be43b548-730f-4182-8236-ebf0564724a5",
   "metadata": {},
   "outputs": [],
   "source": []
  },
  {
   "cell_type": "code",
   "execution_count": null,
   "id": "be175087-a235-47a7-bf0c-abce66c60d0d",
   "metadata": {},
   "outputs": [],
   "source": []
  },
  {
   "cell_type": "code",
   "execution_count": null,
   "id": "b4d4d934-1466-4d13-95f9-2998c8682032",
   "metadata": {},
   "outputs": [],
   "source": []
  },
  {
   "cell_type": "code",
   "execution_count": null,
   "id": "fab8b922-5d2a-4f8f-9416-05a7b87f5fe7",
   "metadata": {},
   "outputs": [],
   "source": []
  },
  {
   "cell_type": "code",
   "execution_count": null,
   "id": "71ce3b09-15a0-4930-b35c-b9b3517ba742",
   "metadata": {},
   "outputs": [],
   "source": []
  },
  {
   "cell_type": "code",
   "execution_count": null,
   "id": "a45d3888-4c15-48dd-9fdf-c59482c11910",
   "metadata": {},
   "outputs": [],
   "source": []
  },
  {
   "cell_type": "code",
   "execution_count": null,
   "id": "53517078-2341-4da8-bec6-0502172d0b2e",
   "metadata": {},
   "outputs": [],
   "source": []
  },
  {
   "cell_type": "code",
   "execution_count": null,
   "id": "c804e194-a5a9-45fd-bc7a-547d5f77987b",
   "metadata": {},
   "outputs": [],
   "source": []
  },
  {
   "cell_type": "code",
   "execution_count": null,
   "id": "1e00c64e-eaa2-4b04-8783-6d485578661c",
   "metadata": {},
   "outputs": [],
   "source": []
  },
  {
   "cell_type": "code",
   "execution_count": null,
   "id": "83396856-95f8-49cd-8017-07a74f075be2",
   "metadata": {},
   "outputs": [],
   "source": []
  },
  {
   "cell_type": "code",
   "execution_count": null,
   "id": "02e716a6-4a87-4160-ae3a-a67fbcc5062b",
   "metadata": {},
   "outputs": [],
   "source": []
  },
  {
   "cell_type": "code",
   "execution_count": null,
   "id": "4e16e6a0-e637-4cd1-9c06-20d8d96c1b77",
   "metadata": {},
   "outputs": [],
   "source": []
  },
  {
   "cell_type": "code",
   "execution_count": null,
   "id": "49e375bd-4f96-48c7-a7c9-57a574976452",
   "metadata": {},
   "outputs": [],
   "source": []
  },
  {
   "cell_type": "code",
   "execution_count": null,
   "id": "1e53007b-1c78-4615-84af-4df58be21aa8",
   "metadata": {},
   "outputs": [],
   "source": []
  },
  {
   "cell_type": "code",
   "execution_count": null,
   "id": "3c0bcf0e-f029-495a-8521-1ad6185d159c",
   "metadata": {},
   "outputs": [],
   "source": []
  },
  {
   "cell_type": "code",
   "execution_count": null,
   "id": "1e3a0b10-b172-40a5-a09c-5bc0a9c8e3da",
   "metadata": {},
   "outputs": [],
   "source": []
  },
  {
   "cell_type": "code",
   "execution_count": null,
   "id": "f0f6173a-d896-4da8-8a4f-92451955fb6a",
   "metadata": {},
   "outputs": [],
   "source": []
  },
  {
   "cell_type": "code",
   "execution_count": null,
   "id": "1937ef6e-88b5-49b1-ac76-f61b6b605856",
   "metadata": {},
   "outputs": [],
   "source": []
  },
  {
   "cell_type": "code",
   "execution_count": null,
   "id": "cbb01e2c-cc4c-4416-9e48-fcf31ee779fd",
   "metadata": {},
   "outputs": [],
   "source": []
  },
  {
   "cell_type": "code",
   "execution_count": null,
   "id": "2d6f653f-b0fa-4bb4-b59f-8fa191f4cb3e",
   "metadata": {},
   "outputs": [],
   "source": []
  },
  {
   "cell_type": "code",
   "execution_count": null,
   "id": "6e0f9e20-02db-4a7e-81e6-4fe0f8ab5670",
   "metadata": {},
   "outputs": [],
   "source": []
  },
  {
   "cell_type": "code",
   "execution_count": null,
   "id": "9ae3f6cd-906b-4755-9f30-cd7eeebac174",
   "metadata": {},
   "outputs": [],
   "source": []
  },
  {
   "cell_type": "code",
   "execution_count": null,
   "id": "d51e55f0-6bb9-4d52-9f4f-c964c2c4d88c",
   "metadata": {},
   "outputs": [],
   "source": []
  },
  {
   "cell_type": "code",
   "execution_count": null,
   "id": "0b9b2909-a2c7-4501-af77-5c64e63aa4c6",
   "metadata": {},
   "outputs": [],
   "source": []
  },
  {
   "cell_type": "code",
   "execution_count": null,
   "id": "27b7fad7-1d5c-4bb7-bd8a-8f20a3091d63",
   "metadata": {},
   "outputs": [],
   "source": []
  },
  {
   "cell_type": "code",
   "execution_count": null,
   "id": "aa17a9b0-e3a8-4c1c-b839-b34264fa6c5a",
   "metadata": {},
   "outputs": [],
   "source": []
  },
  {
   "cell_type": "code",
   "execution_count": null,
   "id": "0ca232b2-f0c6-426e-869d-d834c3755883",
   "metadata": {},
   "outputs": [],
   "source": []
  },
  {
   "cell_type": "code",
   "execution_count": null,
   "id": "e616b2c1-0cb6-4419-be3d-9b63a5759450",
   "metadata": {},
   "outputs": [],
   "source": []
  },
  {
   "cell_type": "code",
   "execution_count": null,
   "id": "92302e16-ab66-4f38-9fff-abbed9664d67",
   "metadata": {},
   "outputs": [],
   "source": []
  },
  {
   "cell_type": "code",
   "execution_count": null,
   "id": "f60a3bcc-c73c-420e-b369-34f2d3916c03",
   "metadata": {},
   "outputs": [],
   "source": []
  },
  {
   "cell_type": "code",
   "execution_count": null,
   "id": "fdd6d215-a404-4d13-940c-41e7eeec8cec",
   "metadata": {},
   "outputs": [],
   "source": []
  },
  {
   "cell_type": "code",
   "execution_count": null,
   "id": "5373094d-03a4-4d6e-b2e6-eb9d54162933",
   "metadata": {},
   "outputs": [],
   "source": []
  },
  {
   "cell_type": "code",
   "execution_count": null,
   "id": "c0b75888-8f70-462b-b2e4-9aa29133a939",
   "metadata": {},
   "outputs": [],
   "source": []
  },
  {
   "cell_type": "code",
   "execution_count": null,
   "id": "43ad2519-e67f-4dcf-a1b0-21773e5192f9",
   "metadata": {},
   "outputs": [],
   "source": []
  },
  {
   "cell_type": "code",
   "execution_count": null,
   "id": "4389dc4b-217f-4cc8-b336-1809a57d7a7d",
   "metadata": {},
   "outputs": [],
   "source": []
  },
  {
   "cell_type": "code",
   "execution_count": null,
   "id": "fd2d5d33-dc05-472c-8488-660a4a0584d2",
   "metadata": {},
   "outputs": [],
   "source": []
  },
  {
   "cell_type": "code",
   "execution_count": null,
   "id": "b100a3e4-22ec-4e29-a31a-3575cce1e32b",
   "metadata": {},
   "outputs": [],
   "source": []
  },
  {
   "cell_type": "code",
   "execution_count": null,
   "id": "de097ad4-0350-493b-8a46-b20adb7a674e",
   "metadata": {},
   "outputs": [],
   "source": []
  },
  {
   "cell_type": "code",
   "execution_count": null,
   "id": "fe7eb7c2-f3b9-4ae5-afb7-502e4469264f",
   "metadata": {},
   "outputs": [],
   "source": []
  },
  {
   "cell_type": "code",
   "execution_count": null,
   "id": "16602559-138b-412f-b0c1-bed08cba0bce",
   "metadata": {},
   "outputs": [],
   "source": []
  }
 ],
 "metadata": {
  "kernelspec": {
   "display_name": "Python 3 (ipykernel)",
   "language": "python",
   "name": "python3"
  },
  "language_info": {
   "codemirror_mode": {
    "name": "ipython",
    "version": 3
   },
   "file_extension": ".py",
   "mimetype": "text/x-python",
   "name": "python",
   "nbconvert_exporter": "python",
   "pygments_lexer": "ipython3",
   "version": "3.6.3"
  }
 },
 "nbformat": 4,
 "nbformat_minor": 5
}
