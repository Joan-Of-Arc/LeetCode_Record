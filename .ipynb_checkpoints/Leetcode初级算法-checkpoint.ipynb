{
 "cells": [
  {
   "cell_type": "markdown",
   "id": "d2fcf84c-9681-4d7b-b9df-0b6c93539264",
   "metadata": {},
   "source": [
    "# 数组"
   ]
  },
  {
   "cell_type": "markdown",
   "id": "3c2ed349-2298-44c0-9ade-7b003541b3b0",
   "metadata": {},
   "source": [
    "## 1. 删除排序数组中的重复项 (26)"
   ]
  },
  {
   "cell_type": "code",
   "execution_count": 3,
   "id": "1f8534e3-f0c2-43dd-8635-bb5dcca1a4ae",
   "metadata": {},
   "outputs": [],
   "source": [
    "from typing import List\n",
    "class Solution:\n",
    "    def removeDuplicates(self, nums: List[int]) -> int:\n",
    "        slow = fast = 1\n",
    "        while fast < len(nums):\n",
    "            if nums[fast-1] != nums[fast]:\n",
    "                nums[slow] = nums[fast]\n",
    "                slow += 1\n",
    "            fast += 1\n",
    "        return slow"
   ]
  },
  {
   "cell_type": "markdown",
   "id": "10b7340e-a3a0-4e79-9223-d0d69c28974f",
   "metadata": {},
   "source": [
    "双指针很容易搞定,试试其他操作"
   ]
  },
  {
   "cell_type": "code",
   "execution_count": 6,
   "id": "9f13f882-4477-43a7-93ed-cac5b5839706",
   "metadata": {},
   "outputs": [],
   "source": [
    "from typing import List\n",
    "class Solution:\n",
    "    def removeDuplicates(self, nums: List[int]) -> int:\n",
    "        s = list(set(nums))\n",
    "        s.sort()\n",
    "        ans = len(s)\n",
    "        for i in range(ans):\n",
    "            nums[i] = s[i]\n",
    "        return ans"
   ]
  },
  {
   "cell_type": "markdown",
   "id": "612dee10-9b42-4724-a97a-1876c1cb9500",
   "metadata": {},
   "source": [
    "差不多都是o(n)的时间复杂度，第二种方法的set和list操作不好判断时间代价。空间复杂度双指针是o(1)，第二种最坏应该是nums全不重复，那么就是o(n)的复杂度了。"
   ]
  },
  {
   "cell_type": "markdown",
   "id": "f33fbd29-0690-44ea-b1b6-38f734579747",
   "metadata": {},
   "source": [
    "## 买卖股票的最佳时机 Ⅱ"
   ]
  },
  {
   "cell_type": "markdown",
   "id": "273d437b-48c5-4d9a-a0b7-28dc2e373324",
   "metadata": {},
   "source": [
    "感觉很像回溯之类的算法但是可能比我想的简单，或许是单调栈？"
   ]
  },
  {
   "cell_type": "code",
   "execution_count": 43,
   "id": "c71d7bef-9cfa-43d6-8df0-a1736eacedcb",
   "metadata": {},
   "outputs": [],
   "source": [
    "class Solution:\n",
    "    def maxProfit(self, prices: List[int]) -> int:\n",
    "        n = len(prices)\n",
    "        stk = [float(\"Inf\")]\n",
    "        profit = 0\n",
    "        for i, num in enumerate(prices):\n",
    "            if num < stk[-1]:\n",
    "                if len(stk) > 1: profit += stk[-1] - stk[0]\n",
    "                stk = [num]\n",
    "            else: stk.append(num)\n",
    "        if len(stk) > 1: profit += stk[-1] - stk[0]\n",
    "        return profit"
   ]
  },
  {
   "cell_type": "code",
   "execution_count": 44,
   "id": "1f009718-b27b-4889-931d-664f9b5904bc",
   "metadata": {},
   "outputs": [],
   "source": [
    "prices = [7,6,4,3,1]"
   ]
  },
  {
   "cell_type": "code",
   "execution_count": 45,
   "id": "c0b63598-7321-4aa5-9d0a-1216eabc6bd9",
   "metadata": {},
   "outputs": [
    {
     "data": {
      "text/plain": [
       "0"
      ]
     },
     "execution_count": 45,
     "metadata": {},
     "output_type": "execute_result"
    }
   ],
   "source": [
    "s = Solution()\n",
    "s.maxProfit(prices)"
   ]
  },
  {
   "cell_type": "markdown",
   "id": "edefe2ae-c84d-4001-9596-b565d34e8641",
   "metadata": {},
   "source": [
    "复杂度： 时间和空间应该都是o(n)"
   ]
  },
  {
   "cell_type": "markdown",
   "id": "a13649f3-056c-4689-ba1b-67e32cb107fe",
   "metadata": {},
   "source": [
    "最后题解果然是dp，但是单调栈的思路也和贪心有点像了。"
   ]
  },
  {
   "cell_type": "markdown",
   "id": "453475d0-b88c-4338-9a34-ffae427fd0a9",
   "metadata": {},
   "source": [
    "考虑到「不能同时参与多笔交易」，因此每天交易结束后只可能存在手里有一支股票或者没有股票的状态。\n",
    "\n",
    "定义状态 $dp[i][0]$ 表示第i天交易完后手里没有股票的最大利润， $dp[i][1]$ 表示第i天交易完后手里持有一支股票的最大利润（i从0开始）。\n",
    "\n",
    "考虑 $dp[i][0]$ 的转移方程，如果这一天交易完成后手里没有股票，那木可能的转移状态为前一天已经没有股票，即 $dp[i-1][0]$ ，或者前一天结束的时候手里持有一支股票，即 $dp[i-1][1]$ ，这时候我们要将其卖出，并获得 $prices[i]$ 的收益。因此为了收益最大化，我们列出如下的转移方程：\n",
    "\n",
    "$$dp[i][0] = max\\{dp[i-1][0], dp[i-1][1] + prices[i]\\}$$\n",
    "\n",
    "再来考虑 $dp[i][1]$ ，按照同样的方式考虑转移状态，那么可能的转移状态为前一天已经持有一支股票，即 $dp[i-1][1]$ ，或者前一天结束时还没有股票，即 $dp[i-1][0]$，这时候我们要将其买入，并减少 $prices[i]$ 的收益，可以列出如下的转移方程：\n",
    "\n",
    "$$dp[i][1] = max\\{ dp[i-1][1], dp[i-1][0] - prices[i] \\}$$\n",
    "\n",
    "对于初始状态，根据状态定义我们可以知道第0天交易结束的时候 $dp[0][0] = 0, dp[0][1] = -prices[0]$ 。\n",
    "\n",
    "因此，我们只要从前往后依次计算状态即可。由于全部交易结束后，持有股票的收益一定低于不持有股票的收益，因此这时候 $dp[n-1][0]$ 的收益必然是大于 $dp[n-1][1]$ 的，最后的答案即为 $dp[n-1][0]$ 。"
   ]
  },
  {
   "cell_type": "code",
   "execution_count": 56,
   "id": "77781209-8861-4f2c-9c43-2865f9dd479b",
   "metadata": {},
   "outputs": [],
   "source": [
    "class Solution:\n",
    "    def maxProfit(self, prices: List[int]) -> int:\n",
    "        dp = [0, -prices[0]]\n",
    "        print(dp)\n",
    "        for i in range(1,len(prices)):\n",
    "            new0 = max(dp[0], dp[1] + prices[i])\n",
    "            new1 = max(dp[1], dp[0] - prices[i])\n",
    "            dp = [new0, new1]\n",
    "            print(dp)\n",
    "        return dp[0]"
   ]
  },
  {
   "cell_type": "code",
   "execution_count": 57,
   "id": "b3f2c83e-8e3d-4281-bc5f-9be1c2ec8cf1",
   "metadata": {},
   "outputs": [],
   "source": [
    "prices = [1,2,3,4,5]"
   ]
  },
  {
   "cell_type": "code",
   "execution_count": 58,
   "id": "c9d4b7f0-7602-4a4a-9fb6-1ccfedb75c1d",
   "metadata": {},
   "outputs": [
    {
     "name": "stdout",
     "output_type": "stream",
     "text": [
      "[0, -1]\n",
      "[1, -1]\n",
      "[2, -1]\n",
      "[3, -1]\n",
      "[4, -1]\n"
     ]
    },
    {
     "data": {
      "text/plain": [
       "4"
      ]
     },
     "execution_count": 58,
     "metadata": {},
     "output_type": "execute_result"
    }
   ],
   "source": [
    "s = Solution()\n",
    "s.maxProfit(prices)"
   ]
  },
  {
   "cell_type": "markdown",
   "id": "7b37047c-90be-40c8-af92-fc8295a5c01d",
   "metadata": {},
   "source": [
    "dp的思路真的强，尤其是简化了dp状态的存储以后。只需要用o(1)的空间。感觉对于dp而言最重要的就是状态转移方程，推导出以后剩下的都很easy"
   ]
  },
  {
   "cell_type": "code",
   "execution_count": null,
   "id": "6a892032-4459-4f5f-b71c-6d505437a1cd",
   "metadata": {},
   "outputs": [],
   "source": []
  },
  {
   "cell_type": "code",
   "execution_count": null,
   "id": "3a539279-6059-44b6-b7e2-6a7904357b9c",
   "metadata": {},
   "outputs": [],
   "source": []
  },
  {
   "cell_type": "code",
   "execution_count": null,
   "id": "a9dfba55-aed9-4096-babe-525b316a4a10",
   "metadata": {},
   "outputs": [],
   "source": []
  },
  {
   "cell_type": "code",
   "execution_count": null,
   "id": "e2ef6ae3-c9fb-4998-9fce-e8ae1ab8d867",
   "metadata": {},
   "outputs": [],
   "source": []
  },
  {
   "cell_type": "code",
   "execution_count": null,
   "id": "cb3662d6-7eec-46df-9e8c-8d7c4412d783",
   "metadata": {},
   "outputs": [],
   "source": []
  },
  {
   "cell_type": "code",
   "execution_count": null,
   "id": "c49aeb3a-cfcb-4a7d-8ac4-b2a506adf46e",
   "metadata": {},
   "outputs": [],
   "source": []
  },
  {
   "cell_type": "code",
   "execution_count": null,
   "id": "996bf330-4525-417e-a3c7-3d80ba099ca8",
   "metadata": {},
   "outputs": [],
   "source": []
  },
  {
   "cell_type": "code",
   "execution_count": null,
   "id": "5e09fb9b-0a76-4d78-a51f-f7cd12bf4026",
   "metadata": {},
   "outputs": [],
   "source": []
  },
  {
   "cell_type": "code",
   "execution_count": null,
   "id": "7280040c-695e-46ce-82f2-e8aad3b833bb",
   "metadata": {},
   "outputs": [],
   "source": []
  },
  {
   "cell_type": "code",
   "execution_count": null,
   "id": "150d6f6e-d810-4e86-84a9-05fc40b9f78b",
   "metadata": {},
   "outputs": [],
   "source": []
  },
  {
   "cell_type": "code",
   "execution_count": null,
   "id": "3bb6d05d-5f6b-4e7b-b680-ea6fa4bf6e95",
   "metadata": {},
   "outputs": [],
   "source": []
  },
  {
   "cell_type": "code",
   "execution_count": null,
   "id": "9baa4c0e-c28c-4c50-ab71-c665d47b6e2e",
   "metadata": {},
   "outputs": [],
   "source": []
  },
  {
   "cell_type": "code",
   "execution_count": null,
   "id": "cf07eacd-02ba-4f40-bca1-4d689e931480",
   "metadata": {},
   "outputs": [],
   "source": []
  },
  {
   "cell_type": "code",
   "execution_count": null,
   "id": "08ba7110-f324-48cc-92d1-562131c472f9",
   "metadata": {},
   "outputs": [],
   "source": []
  },
  {
   "cell_type": "code",
   "execution_count": null,
   "id": "ef1761bb-77ac-4d58-b299-c47853855c2a",
   "metadata": {},
   "outputs": [],
   "source": []
  },
  {
   "cell_type": "code",
   "execution_count": null,
   "id": "69e4e19b-1a46-4907-b612-44f75a7939ed",
   "metadata": {},
   "outputs": [],
   "source": []
  },
  {
   "cell_type": "code",
   "execution_count": null,
   "id": "f171c6f5-5803-403a-ac55-ac814082994b",
   "metadata": {},
   "outputs": [],
   "source": []
  },
  {
   "cell_type": "code",
   "execution_count": null,
   "id": "513bc767-c21a-49ac-9205-fa073dedb4a8",
   "metadata": {},
   "outputs": [],
   "source": []
  },
  {
   "cell_type": "code",
   "execution_count": null,
   "id": "b4bb3bb7-71c3-4ba0-9fb1-9757e485f207",
   "metadata": {},
   "outputs": [],
   "source": []
  },
  {
   "cell_type": "code",
   "execution_count": null,
   "id": "4fe767a2-0027-4bdd-b53b-e055dc4ab954",
   "metadata": {},
   "outputs": [],
   "source": []
  },
  {
   "cell_type": "code",
   "execution_count": null,
   "id": "45481b22-2df0-40e9-a28f-b72a8fdcd794",
   "metadata": {},
   "outputs": [],
   "source": []
  },
  {
   "cell_type": "code",
   "execution_count": null,
   "id": "a414daff-9db3-4ed9-a266-ae026a4caf6b",
   "metadata": {},
   "outputs": [],
   "source": []
  },
  {
   "cell_type": "code",
   "execution_count": null,
   "id": "aede3f28-a247-485a-a299-fc59fadb23ac",
   "metadata": {},
   "outputs": [],
   "source": []
  },
  {
   "cell_type": "code",
   "execution_count": null,
   "id": "ddf06cfd-3135-4636-8953-468f02aebddb",
   "metadata": {},
   "outputs": [],
   "source": []
  },
  {
   "cell_type": "code",
   "execution_count": null,
   "id": "27c09bda-a816-4a09-b60b-0bdb9c2ac361",
   "metadata": {},
   "outputs": [],
   "source": []
  },
  {
   "cell_type": "code",
   "execution_count": null,
   "id": "c6cf4e60-a6d7-4ea8-a468-0041510dd755",
   "metadata": {},
   "outputs": [],
   "source": []
  },
  {
   "cell_type": "code",
   "execution_count": null,
   "id": "b5a5c132-0dca-428c-9f4c-5f774255f66b",
   "metadata": {},
   "outputs": [],
   "source": []
  },
  {
   "cell_type": "code",
   "execution_count": null,
   "id": "594cc509-c2f6-4239-9968-5845eba118d4",
   "metadata": {},
   "outputs": [],
   "source": []
  },
  {
   "cell_type": "code",
   "execution_count": null,
   "id": "9dc6cf22-3db8-4349-a19e-4c93cfc3c6a5",
   "metadata": {},
   "outputs": [],
   "source": []
  },
  {
   "cell_type": "code",
   "execution_count": null,
   "id": "e8ddeef1-ee98-4324-8581-6850eec5566c",
   "metadata": {},
   "outputs": [],
   "source": []
  },
  {
   "cell_type": "code",
   "execution_count": null,
   "id": "d5943e77-a930-47e5-be7b-38d6d79cd8b7",
   "metadata": {},
   "outputs": [],
   "source": []
  },
  {
   "cell_type": "code",
   "execution_count": null,
   "id": "7fa8339c-ca68-46f7-983a-b73539ac4dc4",
   "metadata": {},
   "outputs": [],
   "source": []
  },
  {
   "cell_type": "code",
   "execution_count": null,
   "id": "b0b5c96c-806f-451b-bcf3-91443da50407",
   "metadata": {},
   "outputs": [],
   "source": []
  },
  {
   "cell_type": "code",
   "execution_count": null,
   "id": "91e2f866-7c63-4f20-a3cf-f994b5334914",
   "metadata": {},
   "outputs": [],
   "source": []
  },
  {
   "cell_type": "code",
   "execution_count": null,
   "id": "b2d13040-253a-40ee-9a2e-e4d98243b2fa",
   "metadata": {},
   "outputs": [],
   "source": []
  },
  {
   "cell_type": "code",
   "execution_count": null,
   "id": "051c7e84-6483-4415-98af-db384a418196",
   "metadata": {},
   "outputs": [],
   "source": []
  },
  {
   "cell_type": "code",
   "execution_count": null,
   "id": "d03ef099-c809-476c-a01d-7c5681041224",
   "metadata": {},
   "outputs": [],
   "source": []
  },
  {
   "cell_type": "code",
   "execution_count": null,
   "id": "3e64e443-8a3e-43e6-90cd-5f1f36983238",
   "metadata": {},
   "outputs": [],
   "source": []
  },
  {
   "cell_type": "code",
   "execution_count": null,
   "id": "90d25fcd-8330-4dbf-b600-f7795d993d6f",
   "metadata": {},
   "outputs": [],
   "source": []
  },
  {
   "cell_type": "code",
   "execution_count": null,
   "id": "d652952c-8d39-403a-aa8d-68fe94a9e6f8",
   "metadata": {},
   "outputs": [],
   "source": []
  },
  {
   "cell_type": "code",
   "execution_count": null,
   "id": "a26c8476-2c93-4353-9799-b97e4195aff6",
   "metadata": {},
   "outputs": [],
   "source": []
  },
  {
   "cell_type": "code",
   "execution_count": null,
   "id": "06f77875-f6d7-4cb6-86d3-09eee9e13090",
   "metadata": {},
   "outputs": [],
   "source": []
  },
  {
   "cell_type": "code",
   "execution_count": null,
   "id": "3ff49960-9780-42cb-9165-f8b1a32a0319",
   "metadata": {},
   "outputs": [],
   "source": []
  },
  {
   "cell_type": "code",
   "execution_count": null,
   "id": "1c84b692-8a79-4211-baf5-3468225ef3b5",
   "metadata": {},
   "outputs": [],
   "source": []
  },
  {
   "cell_type": "code",
   "execution_count": null,
   "id": "74872bde-67d5-484c-ae26-ccd8f5866b3f",
   "metadata": {},
   "outputs": [],
   "source": []
  },
  {
   "cell_type": "code",
   "execution_count": null,
   "id": "11946df7-c568-4717-958f-57209c40e727",
   "metadata": {},
   "outputs": [],
   "source": []
  },
  {
   "cell_type": "code",
   "execution_count": null,
   "id": "54bf8f78-fb34-477b-b6fe-8613e32ed64b",
   "metadata": {},
   "outputs": [],
   "source": []
  },
  {
   "cell_type": "code",
   "execution_count": null,
   "id": "b4e39255-cc93-442f-a91d-bf604a1324d5",
   "metadata": {},
   "outputs": [],
   "source": []
  },
  {
   "cell_type": "code",
   "execution_count": null,
   "id": "1c32a14d-0b55-4be2-bd93-895906cea216",
   "metadata": {},
   "outputs": [],
   "source": []
  },
  {
   "cell_type": "code",
   "execution_count": null,
   "id": "9d6d90e0-a627-4c4b-b7df-e187feb5c6b7",
   "metadata": {},
   "outputs": [],
   "source": []
  },
  {
   "cell_type": "code",
   "execution_count": null,
   "id": "a4cabc27-c6cb-4365-8f09-0e2461567c5e",
   "metadata": {},
   "outputs": [],
   "source": []
  },
  {
   "cell_type": "code",
   "execution_count": null,
   "id": "977cc7f8-8114-475d-a6ae-18b5d7d41b83",
   "metadata": {},
   "outputs": [],
   "source": []
  },
  {
   "cell_type": "code",
   "execution_count": null,
   "id": "075d37b8-9fae-4449-971f-94ca857dfce5",
   "metadata": {},
   "outputs": [],
   "source": []
  },
  {
   "cell_type": "code",
   "execution_count": null,
   "id": "1a3ee7be-79c6-45fa-addd-617396a61a87",
   "metadata": {},
   "outputs": [],
   "source": []
  },
  {
   "cell_type": "code",
   "execution_count": null,
   "id": "1661495c-4729-4a04-86c7-cac97d518512",
   "metadata": {},
   "outputs": [],
   "source": []
  },
  {
   "cell_type": "code",
   "execution_count": null,
   "id": "0a178ed1-0c21-4d3e-b447-8486bb73aef8",
   "metadata": {},
   "outputs": [],
   "source": []
  },
  {
   "cell_type": "code",
   "execution_count": null,
   "id": "0ab9e15e-3a09-4202-b031-889d18e5a299",
   "metadata": {},
   "outputs": [],
   "source": []
  },
  {
   "cell_type": "code",
   "execution_count": null,
   "id": "bd4c7832-fe04-46c9-9577-a9127a5c5533",
   "metadata": {},
   "outputs": [],
   "source": []
  },
  {
   "cell_type": "code",
   "execution_count": null,
   "id": "88e0c21f-343e-4def-a64d-2a99da0d4b97",
   "metadata": {},
   "outputs": [],
   "source": []
  },
  {
   "cell_type": "code",
   "execution_count": null,
   "id": "2a74b68f-3ab1-4819-96b8-b24e12a4bfd9",
   "metadata": {},
   "outputs": [],
   "source": []
  },
  {
   "cell_type": "code",
   "execution_count": null,
   "id": "5adc0bbb-00ec-4e6d-81a1-0bd91ed37a4f",
   "metadata": {},
   "outputs": [],
   "source": []
  },
  {
   "cell_type": "code",
   "execution_count": null,
   "id": "677d19d3-453a-4e54-8b3f-29e1675d61b2",
   "metadata": {},
   "outputs": [],
   "source": []
  },
  {
   "cell_type": "code",
   "execution_count": null,
   "id": "a611bb10-6761-4a7a-aa9e-f844c2742acc",
   "metadata": {},
   "outputs": [],
   "source": []
  },
  {
   "cell_type": "code",
   "execution_count": null,
   "id": "08506991-b2c7-4c73-a100-3cb6bb2b6066",
   "metadata": {},
   "outputs": [],
   "source": []
  },
  {
   "cell_type": "code",
   "execution_count": null,
   "id": "6f7b928d-8f39-4aae-bdb0-d0a0c0ffc130",
   "metadata": {},
   "outputs": [],
   "source": []
  },
  {
   "cell_type": "code",
   "execution_count": null,
   "id": "6064ccb7-a581-4f98-8e66-479950544b0c",
   "metadata": {},
   "outputs": [],
   "source": []
  },
  {
   "cell_type": "code",
   "execution_count": null,
   "id": "c415b725-00d0-4b67-8a19-6b1e3623e2d8",
   "metadata": {},
   "outputs": [],
   "source": []
  },
  {
   "cell_type": "code",
   "execution_count": null,
   "id": "7105d795-864d-43b6-9016-6f3801790690",
   "metadata": {},
   "outputs": [],
   "source": []
  },
  {
   "cell_type": "code",
   "execution_count": null,
   "id": "8266b2f7-3d8a-47c2-86e9-9475a53f7663",
   "metadata": {},
   "outputs": [],
   "source": []
  },
  {
   "cell_type": "code",
   "execution_count": null,
   "id": "29807135-410b-4772-aa8e-8c75fabf29f3",
   "metadata": {},
   "outputs": [],
   "source": []
  },
  {
   "cell_type": "code",
   "execution_count": null,
   "id": "520fe63e-6506-483c-8cba-b7ac2c2529f9",
   "metadata": {},
   "outputs": [],
   "source": []
  },
  {
   "cell_type": "code",
   "execution_count": null,
   "id": "93201f32-4f39-4d09-9942-10f0f44d48b6",
   "metadata": {},
   "outputs": [],
   "source": []
  },
  {
   "cell_type": "code",
   "execution_count": null,
   "id": "b998382c-91ae-42d4-a9b3-d61bd112280d",
   "metadata": {},
   "outputs": [],
   "source": []
  },
  {
   "cell_type": "code",
   "execution_count": null,
   "id": "1b80ca23-f2d2-4360-a6e3-ec24e0b30dd0",
   "metadata": {},
   "outputs": [],
   "source": []
  },
  {
   "cell_type": "code",
   "execution_count": null,
   "id": "086e2ac4-265c-494c-9167-287b02d33b73",
   "metadata": {},
   "outputs": [],
   "source": []
  },
  {
   "cell_type": "code",
   "execution_count": null,
   "id": "c3897748-b826-48c6-8d0a-5dfa2a7e02c0",
   "metadata": {},
   "outputs": [],
   "source": []
  },
  {
   "cell_type": "code",
   "execution_count": null,
   "id": "f472e20e-4c49-486d-8dba-4736940b8a43",
   "metadata": {},
   "outputs": [],
   "source": []
  },
  {
   "cell_type": "code",
   "execution_count": null,
   "id": "cf0adaf0-ee42-4f97-9a4a-070b956e34ce",
   "metadata": {},
   "outputs": [],
   "source": []
  },
  {
   "cell_type": "code",
   "execution_count": null,
   "id": "a5d09718-b770-4f83-a62a-0d3bdd4a96be",
   "metadata": {},
   "outputs": [],
   "source": []
  },
  {
   "cell_type": "code",
   "execution_count": null,
   "id": "50de3a10-cd4e-42f0-b92c-66ffe609e1de",
   "metadata": {},
   "outputs": [],
   "source": []
  },
  {
   "cell_type": "code",
   "execution_count": null,
   "id": "4ec013cf-9a30-4fa6-8a12-f57221d1a521",
   "metadata": {},
   "outputs": [],
   "source": []
  },
  {
   "cell_type": "code",
   "execution_count": null,
   "id": "d832d76a-6d55-4ac7-8986-5eeb8905dbfa",
   "metadata": {},
   "outputs": [],
   "source": []
  },
  {
   "cell_type": "code",
   "execution_count": null,
   "id": "5b48780f-a319-450b-b821-599415955e29",
   "metadata": {},
   "outputs": [],
   "source": []
  },
  {
   "cell_type": "code",
   "execution_count": null,
   "id": "cc70cf9a-834a-4768-b411-f3cd522d0eb5",
   "metadata": {},
   "outputs": [],
   "source": []
  },
  {
   "cell_type": "code",
   "execution_count": null,
   "id": "bf03bcc2-bef9-43a6-8d83-7d835ead9dae",
   "metadata": {},
   "outputs": [],
   "source": []
  },
  {
   "cell_type": "code",
   "execution_count": null,
   "id": "1363a593-dd30-49da-a40c-a80e8debb323",
   "metadata": {},
   "outputs": [],
   "source": []
  },
  {
   "cell_type": "code",
   "execution_count": null,
   "id": "6250dae1-5477-4007-842c-66e9a619a5fb",
   "metadata": {},
   "outputs": [],
   "source": []
  },
  {
   "cell_type": "code",
   "execution_count": null,
   "id": "d61d4c11-b1f1-4cd7-885b-4de7464dcba9",
   "metadata": {},
   "outputs": [],
   "source": []
  },
  {
   "cell_type": "code",
   "execution_count": null,
   "id": "ad7ff22c-0bc2-40b3-a56e-4693dc2df870",
   "metadata": {},
   "outputs": [],
   "source": []
  },
  {
   "cell_type": "code",
   "execution_count": null,
   "id": "3e6c8c50-a7f8-4ee4-a4fe-94723d53497f",
   "metadata": {},
   "outputs": [],
   "source": []
  },
  {
   "cell_type": "code",
   "execution_count": null,
   "id": "bb0e87e9-cf19-4f00-9506-9e808648ab70",
   "metadata": {},
   "outputs": [],
   "source": []
  },
  {
   "cell_type": "code",
   "execution_count": null,
   "id": "7b2d719b-ebd3-458c-b4bd-fba9e3b196b3",
   "metadata": {},
   "outputs": [],
   "source": []
  },
  {
   "cell_type": "code",
   "execution_count": null,
   "id": "2e35a011-b842-47f2-937f-e883f9bae524",
   "metadata": {},
   "outputs": [],
   "source": []
  },
  {
   "cell_type": "code",
   "execution_count": null,
   "id": "46eeb39f-ea2a-4a57-a495-844955d4758a",
   "metadata": {},
   "outputs": [],
   "source": []
  },
  {
   "cell_type": "code",
   "execution_count": null,
   "id": "e2c8fcd0-1ee7-4aa7-8f71-4a8a8eb57afb",
   "metadata": {},
   "outputs": [],
   "source": []
  },
  {
   "cell_type": "code",
   "execution_count": null,
   "id": "54687103-bfce-4cd7-a0ec-2770b3cb9f96",
   "metadata": {},
   "outputs": [],
   "source": []
  },
  {
   "cell_type": "code",
   "execution_count": null,
   "id": "cc8e9b2a-bfce-4ab8-a53d-019f528c3bea",
   "metadata": {},
   "outputs": [],
   "source": []
  },
  {
   "cell_type": "code",
   "execution_count": null,
   "id": "6b3bc264-3dfb-403f-b435-189da0d4b795",
   "metadata": {},
   "outputs": [],
   "source": []
  },
  {
   "cell_type": "code",
   "execution_count": null,
   "id": "0cfb0238-5d8f-4dd6-a4ef-892d6247aaa6",
   "metadata": {},
   "outputs": [],
   "source": []
  },
  {
   "cell_type": "code",
   "execution_count": null,
   "id": "94e911b8-d219-45f6-90f9-f3331dc74af0",
   "metadata": {},
   "outputs": [],
   "source": []
  },
  {
   "cell_type": "code",
   "execution_count": null,
   "id": "9c6d4ad4-2ca4-4046-967c-2801c14a0480",
   "metadata": {},
   "outputs": [],
   "source": []
  },
  {
   "cell_type": "code",
   "execution_count": null,
   "id": "8d816c57-ee37-4ad4-bf4c-472a0f1517f7",
   "metadata": {},
   "outputs": [],
   "source": []
  },
  {
   "cell_type": "code",
   "execution_count": null,
   "id": "7eec55cc-96b9-4015-b3d4-afe2dc8ff59c",
   "metadata": {},
   "outputs": [],
   "source": []
  },
  {
   "cell_type": "code",
   "execution_count": null,
   "id": "595f1fee-b123-46d1-be13-9b0f9da9e7e9",
   "metadata": {},
   "outputs": [],
   "source": []
  },
  {
   "cell_type": "code",
   "execution_count": null,
   "id": "45eb3edd-5f6b-43d2-aedb-2907d4be4b04",
   "metadata": {},
   "outputs": [],
   "source": []
  },
  {
   "cell_type": "code",
   "execution_count": null,
   "id": "a1fc5dec-d1b4-45b2-8cc7-811024772056",
   "metadata": {},
   "outputs": [],
   "source": []
  },
  {
   "cell_type": "code",
   "execution_count": null,
   "id": "46650a98-3f5a-48f3-936b-eea43f89dbce",
   "metadata": {},
   "outputs": [],
   "source": []
  },
  {
   "cell_type": "code",
   "execution_count": null,
   "id": "851021d6-3665-48c8-a882-96265cca07ff",
   "metadata": {},
   "outputs": [],
   "source": []
  },
  {
   "cell_type": "code",
   "execution_count": null,
   "id": "a56d4360-85b7-477c-9291-3161d1e7e1ce",
   "metadata": {},
   "outputs": [],
   "source": []
  },
  {
   "cell_type": "code",
   "execution_count": null,
   "id": "7fc96ce8-1642-4a01-84d8-d082cadfb59a",
   "metadata": {},
   "outputs": [],
   "source": []
  },
  {
   "cell_type": "code",
   "execution_count": null,
   "id": "6948536a-0c8b-4160-9d8e-012258a0262a",
   "metadata": {},
   "outputs": [],
   "source": []
  },
  {
   "cell_type": "code",
   "execution_count": null,
   "id": "e772d277-bff6-49c0-bae0-0051505020c4",
   "metadata": {},
   "outputs": [],
   "source": []
  },
  {
   "cell_type": "code",
   "execution_count": null,
   "id": "19f2a361-050f-4360-be5e-5b166ea41470",
   "metadata": {},
   "outputs": [],
   "source": []
  },
  {
   "cell_type": "code",
   "execution_count": null,
   "id": "3522f3f6-18fc-42c1-8c1c-9dd4a126ad42",
   "metadata": {},
   "outputs": [],
   "source": []
  },
  {
   "cell_type": "code",
   "execution_count": null,
   "id": "f8d78d9b-dfd7-4c09-b701-01e7be353054",
   "metadata": {},
   "outputs": [],
   "source": []
  },
  {
   "cell_type": "code",
   "execution_count": null,
   "id": "76818965-3d8f-4e31-bf59-9608e9a263fa",
   "metadata": {},
   "outputs": [],
   "source": []
  },
  {
   "cell_type": "code",
   "execution_count": null,
   "id": "81eeb22a-4bd0-411a-980b-4f76dbed8598",
   "metadata": {},
   "outputs": [],
   "source": []
  },
  {
   "cell_type": "code",
   "execution_count": null,
   "id": "95839175-8a3e-49a0-b62f-23d3a2ea03e0",
   "metadata": {},
   "outputs": [],
   "source": []
  },
  {
   "cell_type": "code",
   "execution_count": null,
   "id": "a8823854-65e5-4f5d-9617-69da7f2672f7",
   "metadata": {},
   "outputs": [],
   "source": []
  },
  {
   "cell_type": "code",
   "execution_count": null,
   "id": "1e616c89-0adb-428b-a3fe-f14473931572",
   "metadata": {},
   "outputs": [],
   "source": []
  },
  {
   "cell_type": "code",
   "execution_count": null,
   "id": "409babe1-dad4-4ce5-a525-d94a2c44bc4e",
   "metadata": {},
   "outputs": [],
   "source": []
  },
  {
   "cell_type": "code",
   "execution_count": null,
   "id": "dd02bbde-0047-45a4-9838-913bec829736",
   "metadata": {},
   "outputs": [],
   "source": []
  },
  {
   "cell_type": "code",
   "execution_count": null,
   "id": "cc8a244a-e37d-44af-b98d-d32c743a69d5",
   "metadata": {},
   "outputs": [],
   "source": []
  },
  {
   "cell_type": "code",
   "execution_count": null,
   "id": "730eb345-8b60-46a2-86c8-88ae78c0f6a4",
   "metadata": {},
   "outputs": [],
   "source": []
  },
  {
   "cell_type": "code",
   "execution_count": null,
   "id": "b5716ed2-bd47-4559-bdb5-6646dcf401a8",
   "metadata": {},
   "outputs": [],
   "source": []
  },
  {
   "cell_type": "code",
   "execution_count": null,
   "id": "a50132f1-da5e-4f38-9b9d-77695d4836ff",
   "metadata": {},
   "outputs": [],
   "source": []
  },
  {
   "cell_type": "code",
   "execution_count": null,
   "id": "0bab273c-ce29-4584-bf67-d03f6656d8e7",
   "metadata": {},
   "outputs": [],
   "source": []
  },
  {
   "cell_type": "code",
   "execution_count": null,
   "id": "4bc616a4-530b-46fb-82e1-4f76109de389",
   "metadata": {},
   "outputs": [],
   "source": []
  },
  {
   "cell_type": "code",
   "execution_count": null,
   "id": "8bd75122-f519-46bf-86ce-849283a818ee",
   "metadata": {},
   "outputs": [],
   "source": []
  },
  {
   "cell_type": "code",
   "execution_count": null,
   "id": "64fe5cae-2ef2-4bba-aad7-7ba160173a9f",
   "metadata": {},
   "outputs": [],
   "source": []
  },
  {
   "cell_type": "code",
   "execution_count": null,
   "id": "87ab3c72-a07e-4d1e-a778-a7e004fd7a51",
   "metadata": {},
   "outputs": [],
   "source": []
  },
  {
   "cell_type": "code",
   "execution_count": null,
   "id": "8ff15149-ec76-4ef1-8061-9ca73a3c9542",
   "metadata": {},
   "outputs": [],
   "source": []
  },
  {
   "cell_type": "code",
   "execution_count": null,
   "id": "ab4b3a17-d68c-4dd9-b94f-685b3a35ac60",
   "metadata": {},
   "outputs": [],
   "source": []
  },
  {
   "cell_type": "code",
   "execution_count": null,
   "id": "0fc69906-0b7f-4a20-9cbf-dc12737b42e3",
   "metadata": {},
   "outputs": [],
   "source": []
  },
  {
   "cell_type": "code",
   "execution_count": null,
   "id": "02421e0f-e414-4c50-8e8e-5d4cba4c877b",
   "metadata": {},
   "outputs": [],
   "source": []
  },
  {
   "cell_type": "code",
   "execution_count": null,
   "id": "74cf92e1-3393-45a2-bf55-952e0d097584",
   "metadata": {},
   "outputs": [],
   "source": []
  },
  {
   "cell_type": "code",
   "execution_count": null,
   "id": "71b55c3a-2732-446a-ab60-039cd39f3335",
   "metadata": {},
   "outputs": [],
   "source": []
  },
  {
   "cell_type": "code",
   "execution_count": null,
   "id": "3e687178-4836-4cd6-bb9a-095dc3b14eab",
   "metadata": {},
   "outputs": [],
   "source": []
  },
  {
   "cell_type": "code",
   "execution_count": null,
   "id": "18616a4b-2426-4c1d-8ff4-6a88e423c7c2",
   "metadata": {},
   "outputs": [],
   "source": []
  },
  {
   "cell_type": "code",
   "execution_count": null,
   "id": "71ef4e7b-2208-467a-baa0-b697e7375ced",
   "metadata": {},
   "outputs": [],
   "source": []
  },
  {
   "cell_type": "code",
   "execution_count": null,
   "id": "3242aa5d-0d6b-4eae-97e1-4fab26a14c21",
   "metadata": {},
   "outputs": [],
   "source": []
  }
 ],
 "metadata": {
  "kernelspec": {
   "display_name": "Python 3 (ipykernel)",
   "language": "python",
   "name": "python3"
  },
  "language_info": {
   "codemirror_mode": {
    "name": "ipython",
    "version": 3
   },
   "file_extension": ".py",
   "mimetype": "text/x-python",
   "name": "python",
   "nbconvert_exporter": "python",
   "pygments_lexer": "ipython3",
   "version": "3.6.3"
  }
 },
 "nbformat": 4,
 "nbformat_minor": 5
}
