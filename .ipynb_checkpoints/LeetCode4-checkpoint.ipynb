{
 "cells": [
  {
   "cell_type": "markdown",
   "id": "5a9f3027",
   "metadata": {},
   "source": [
    "## 1897. 重新分配字符使所有字符串都相等"
   ]
  },
  {
   "cell_type": "code",
   "execution_count": 149,
   "id": "a24535e2",
   "metadata": {},
   "outputs": [],
   "source": [
    "from collections import Counter\n",
    "from typing import List,Optional\n",
    "\n",
    "# Definition for a binary tree node.\n",
    "class TreeNode:\n",
    "    def __init__(self, val=0, left=None, right=None):\n",
    "        self.val = val\n",
    "        self.left = left\n",
    "        self.right = right"
   ]
  },
  {
   "cell_type": "code",
   "execution_count": 5,
   "id": "4068d4a4",
   "metadata": {},
   "outputs": [
    {
     "data": {
      "text/plain": [
       "Counter({'a': 3, 'b': 3, 'c': 3})"
      ]
     },
     "execution_count": 5,
     "metadata": {},
     "output_type": "execute_result"
    }
   ],
   "source": [
    "a = ['abc','aabc','bc']\n",
    "c1 = Counter()\n",
    "for chs in a:\n",
    "    c1 += Counter(chs)\n",
    "c1"
   ]
  },
  {
   "cell_type": "markdown",
   "id": "5403dde0",
   "metadata": {},
   "source": [
    "实验完毕"
   ]
  },
  {
   "cell_type": "code",
   "execution_count": 30,
   "id": "44dee320",
   "metadata": {},
   "outputs": [],
   "source": [
    "class Solution:\n",
    "    def makeEqual(self, words: List[str]) -> bool:\n",
    "        res = Counter()\n",
    "        ans = []\n",
    "        for chs in words:\n",
    "            res += Counter(chs)\n",
    "        for key in res:\n",
    "            if res[key]%len(words)!=0:\n",
    "                return False\n",
    "        return True"
   ]
  },
  {
   "cell_type": "code",
   "execution_count": 43,
   "id": "aaf5284e",
   "metadata": {},
   "outputs": [],
   "source": [
    "words = [\"abc\",\"aabc\",\"bc\"]"
   ]
  },
  {
   "cell_type": "code",
   "execution_count": 36,
   "id": "faeff184",
   "metadata": {},
   "outputs": [
    {
     "data": {
      "text/plain": [
       "False"
      ]
     },
     "execution_count": 36,
     "metadata": {},
     "output_type": "execute_result"
    }
   ],
   "source": [
    "s = Solution()\n",
    "s.makeEqual(words)"
   ]
  },
  {
   "cell_type": "code",
   "execution_count": 38,
   "id": "375cf58e",
   "metadata": {},
   "outputs": [],
   "source": [
    "class Solution:\n",
    "    def makeEqual(self, words: List[str]) -> bool:\n",
    "        res = ''\n",
    "        for word in words:\n",
    "            res += word\n",
    "        ans = Counter(res)\n",
    "        leng = len(words)\n",
    "        for key in ans:\n",
    "            if ans[key]%leng!=0:\n",
    "                return False\n",
    "        return True"
   ]
  },
  {
   "cell_type": "code",
   "execution_count": 40,
   "id": "143a6c78",
   "metadata": {},
   "outputs": [
    {
     "data": {
      "text/plain": [
       "False"
      ]
     },
     "execution_count": 40,
     "metadata": {},
     "output_type": "execute_result"
    }
   ],
   "source": [
    "s = Solution()\n",
    "s.makeEqual(words)"
   ]
  },
  {
   "cell_type": "code",
   "execution_count": 44,
   "id": "e25a0d70",
   "metadata": {},
   "outputs": [],
   "source": [
    "# 不用Counter\n",
    "\n",
    "class Solution:\n",
    "    def makeEqual(self, words: List[str]) -> bool:\n",
    "        res = ''\n",
    "        ans = {}\n",
    "        leng = len(words)\n",
    "        \n",
    "        for word in words:\n",
    "            res += word\n",
    "        \n",
    "        for ch in res:\n",
    "            if ch not in ans:\n",
    "                ans[ch] = 1\n",
    "            else:\n",
    "                ans[ch] += 1\n",
    "        \n",
    "        for key in ans:\n",
    "            if ans[key]%leng!=0:\n",
    "                return False\n",
    "        return True"
   ]
  },
  {
   "cell_type": "code",
   "execution_count": 45,
   "id": "ff7e7c53",
   "metadata": {},
   "outputs": [
    {
     "data": {
      "text/plain": [
       "True"
      ]
     },
     "execution_count": 45,
     "metadata": {},
     "output_type": "execute_result"
    }
   ],
   "source": [
    "s = Solution()\n",
    "s.makeEqual(words)"
   ]
  },
  {
   "cell_type": "markdown",
   "id": "b51b9e50",
   "metadata": {},
   "source": [
    "用不用counter时间差不多，但是counter的代码比较简洁"
   ]
  },
  {
   "cell_type": "markdown",
   "id": "650192c4",
   "metadata": {},
   "source": [
    "## 1248. 统计[优美子数组]"
   ]
  },
  {
   "cell_type": "markdown",
   "id": "3341ecc1",
   "metadata": {},
   "source": [
    "**step1**:\n",
    "\n",
    "找到每个奇数的位置"
   ]
  },
  {
   "cell_type": "code",
   "execution_count": 52,
   "id": "affe1f3a",
   "metadata": {},
   "outputs": [],
   "source": [
    "def findpos(nums:List[int]) -> List[int]:\n",
    "    res = []\n",
    "    for i in range(len(nums)):\n",
    "        if nums[i] % 2 == 1:\n",
    "            res.append(i)\n",
    "    return res"
   ]
  },
  {
   "cell_type": "code",
   "execution_count": 53,
   "id": "96b0ddb0",
   "metadata": {},
   "outputs": [],
   "source": [
    "nums = [2,2,2,1,2,2,1,2,2,2]"
   ]
  },
  {
   "cell_type": "code",
   "execution_count": 54,
   "id": "ea5fa680",
   "metadata": {},
   "outputs": [
    {
     "data": {
      "text/plain": [
       "[3, 6]"
      ]
     },
     "execution_count": 54,
     "metadata": {},
     "output_type": "execute_result"
    }
   ],
   "source": [
    "findpos(nums)"
   ]
  },
  {
   "cell_type": "markdown",
   "id": "0349d3f2",
   "metadata": {},
   "source": [
    "**step2**:\n",
    "\n",
    "含$k$个奇数的优美子数组的三种情况，设nums中奇数数量为$j$，$j>>k$\n",
    "\n",
    "1.nums前部,head：从数组头一直到第一个奇数，index：$n_1$，下同，tail：第$k$个奇数到第$k+1$个奇数的前一个数，共计：\n",
    "    $$(n_1+1)*(n_{k+1}-n_k)$$\n",
    "    \n",
    " \n",
    "2.nums后部，共计：\n",
    "    $$len(nums)-n_j$$\n",
    "    \n",
    "\n",
    "3.nums中部，相当于一个子问题，要再次递归计算前部和后部："
   ]
  },
  {
   "cell_type": "code",
   "execution_count": 106,
   "id": "a1db28a9",
   "metadata": {},
   "outputs": [],
   "source": [
    "# 失败的尝试，中部问题没有意识到是递归\n",
    "class Solution:\n",
    "    def numberOfSubarrays(self, nums: List[int], k: int) -> int:\n",
    "        res = []\n",
    "        for i in range(len(nums)):\n",
    "            if nums[i] % 2 == 1:\n",
    "                res.append(i)\n",
    "        \n",
    "        leng = len(res)\n",
    "        \n",
    "        if leng < k:\n",
    "            return 0\n",
    "        if leng == k:\n",
    "            print(len(nums))\n",
    "            print(res[-1])\n",
    "            print(res[0])\n",
    "            return (res[0]+1)*(len(nums)-res[-1])\n",
    "        else:\n",
    "            ans1 = (res[0]+1)*(res[k]-res[k-1])\n",
    "            ans3 = len(nums)-res[-1]\n",
    "            ans2 = res[-2]-res[k+1] if leng >= k+2 else 0\n",
    "            print(res)\n",
    "            print(res[-2])\n",
    "            print(res[k+1])\n",
    "            print(f'{ans1},{ans2},{ans3}')\n",
    "            return ans1+ans2+ans3"
   ]
  },
  {
   "cell_type": "code",
   "execution_count": 107,
   "id": "f1c66ba1",
   "metadata": {},
   "outputs": [],
   "source": [
    "nums = [2,2,2,1,2,2,1,2,2,2,1,1,1,1,2]\n",
    "k = 2"
   ]
  },
  {
   "cell_type": "code",
   "execution_count": 108,
   "id": "8d8059af",
   "metadata": {},
   "outputs": [
    {
     "name": "stdout",
     "output_type": "stream",
     "text": [
      "[3, 6, 10, 11, 12, 13]\n",
      "12\n",
      "11\n",
      "16,1,2\n"
     ]
    },
    {
     "data": {
      "text/plain": [
       "19"
      ]
     },
     "execution_count": 108,
     "metadata": {},
     "output_type": "execute_result"
    }
   ],
   "source": [
    "s = Solution()\n",
    "s.numberOfSubarrays(nums,k)"
   ]
  },
  {
   "cell_type": "code",
   "execution_count": null,
   "id": "2a07cbf9",
   "metadata": {},
   "outputs": [],
   "source": [
    "class Solution:\n",
    "    def numberOfSubarrays(self, nums: List[int], k: int) -> int:\n",
    "        res = []\n",
    "        for i in range(len(nums)):\n",
    "            if nums[i] % 2 == 1:\n",
    "                res.append(i)\n",
    "        \n",
    "        def findarray(start, end):\n",
    "            reslen = len(res[start:end+1])\n",
    "            if reslen < k:\n",
    "                return count\n",
    "            if reslen == k:\n",
    "                count += (res[start]-res[start-1])*(res[end+1]-res[end])\n",
    "            if reslen > k:\n",
    "                count += (res[start]-res[start-1])*(res[end+1]-res[end])\n",
    "                count += "
   ]
  },
  {
   "cell_type": "markdown",
   "id": "fcf0dd13",
   "metadata": {},
   "source": [
    "失败了失败了失败了失败了失败了失败了失败了失败了失败了失败了失败了失败了失败了失败了"
   ]
  },
  {
   "cell_type": "markdown",
   "id": "8b04de4c",
   "metadata": {},
   "source": [
    "思路对了一半，后半段的处理过于复杂，其实只要把数组前后各接上一个奇数，就完美变成了内部的情况"
   ]
  },
  {
   "cell_type": "code",
   "execution_count": 115,
   "id": "b8c0821e",
   "metadata": {},
   "outputs": [],
   "source": [
    "class Solution:\n",
    "    def numberOfSubarrays(self, nums: List[int], k: int) -> int:\n",
    "        n = len(nums)\n",
    "        odd = [-1]\n",
    "        ans = 0\n",
    "        for i in range(n):\n",
    "            if nums[i] % 2 == 1:\n",
    "                odd.append(i)\n",
    "        odd.append(n)\n",
    "        for i in range(1, len(odd) - k):\n",
    "            ans += (odd[i] - odd[i - 1]) * (odd[i + k] - odd[i + k - 1])\n",
    "        return ans"
   ]
  },
  {
   "cell_type": "markdown",
   "id": "f657b92d",
   "metadata": {},
   "source": [
    "## 1374. 生成每种字符都是奇数个的字符串"
   ]
  },
  {
   "cell_type": "code",
   "execution_count": 129,
   "id": "240b6739",
   "metadata": {},
   "outputs": [],
   "source": [
    "class Solution:\n",
    "    def generateTheString(self, n: int) -> str:\n",
    "        return 'a'*n if n%2 == 1 else 'a'*(n-1)+'b'"
   ]
  },
  {
   "cell_type": "code",
   "execution_count": 130,
   "id": "8f86fc30",
   "metadata": {},
   "outputs": [
    {
     "data": {
      "text/plain": [
       "'aaaaab'"
      ]
     },
     "execution_count": 130,
     "metadata": {},
     "output_type": "execute_result"
    }
   ],
   "source": [
    "s = Solution()\n",
    "s.generateTheString(6)"
   ]
  },
  {
   "cell_type": "code",
   "execution_count": 131,
   "id": "e8e2312c",
   "metadata": {},
   "outputs": [
    {
     "data": {
      "text/plain": [
       "'aaaaaab'"
      ]
     },
     "execution_count": 131,
     "metadata": {},
     "output_type": "execute_result"
    }
   ],
   "source": [
    "''.join(a)"
   ]
  },
  {
   "cell_type": "markdown",
   "id": "59aff134",
   "metadata": {},
   "source": [
    "## 1143.最长公共子序列"
   ]
  },
  {
   "cell_type": "markdown",
   "id": "f0dbd9b3",
   "metadata": {},
   "source": [
    "## 1846. 减小和重新排列数组后的最大元素"
   ]
  },
  {
   "cell_type": "code",
   "execution_count": 142,
   "id": "eb0b9d71",
   "metadata": {},
   "outputs": [],
   "source": [
    "class Solution:\n",
    "    def maximumElementAfterDecrementingAndRearranging(self, arr: List[int]) -> int:\n",
    "        arr.sort()\n",
    "        arr[0] = 1\n",
    "        for i in range(1,len(arr)):\n",
    "            arr[i] = arr[i-1] if arr[i] == arr[i-1] else arr[i-1]+1\n",
    "#         print(arr)\n",
    "        return arr[-1]"
   ]
  },
  {
   "cell_type": "code",
   "execution_count": 143,
   "id": "29a12d48",
   "metadata": {},
   "outputs": [],
   "source": [
    "arr = [1,2,3,4,5]"
   ]
  },
  {
   "cell_type": "code",
   "execution_count": 144,
   "id": "a7c624d4",
   "metadata": {},
   "outputs": [
    {
     "data": {
      "text/plain": [
       "5"
      ]
     },
     "execution_count": 144,
     "metadata": {},
     "output_type": "execute_result"
    }
   ],
   "source": [
    "s = Solution()\n",
    "s.maximumElementAfterDecrementingAndRearranging(arr)"
   ]
  },
  {
   "cell_type": "code",
   "execution_count": 145,
   "id": "3e288a52",
   "metadata": {},
   "outputs": [],
   "source": [
    "class Solution:\n",
    "    def maximumElementAfterDecrementingAndRearranging(self, arr: List[int]) -> int:\n",
    "        arr.sort()\n",
    "        arr[0] = 1\n",
    "        for i in range(1,len(arr)):\n",
    "            if arr[i] == arr[i-1]:\n",
    "                arr[i] = arr[i-1]  \n",
    "            else:\n",
    "                arr[i] = arr[i-1]+1\n",
    "#         print(arr)\n",
    "        return arr[-1]"
   ]
  },
  {
   "cell_type": "code",
   "execution_count": 146,
   "id": "8cd4bc52",
   "metadata": {},
   "outputs": [
    {
     "data": {
      "text/plain": [
       "5"
      ]
     },
     "execution_count": 146,
     "metadata": {},
     "output_type": "execute_result"
    }
   ],
   "source": [
    "s = Solution()\n",
    "s.maximumElementAfterDecrementingAndRearranging(arr)"
   ]
  },
  {
   "cell_type": "markdown",
   "id": "7b33edeb",
   "metadata": {},
   "source": [
    "看来两种判断方式的速度差不多"
   ]
  },
  {
   "cell_type": "markdown",
   "id": "41eba04c",
   "metadata": {},
   "source": [
    "## 993. 二叉树的堂兄弟节点"
   ]
  },
  {
   "cell_type": "code",
   "execution_count": 208,
   "id": "77f91f8f",
   "metadata": {},
   "outputs": [],
   "source": [
    "# BFS\n",
    "class Solution:\n",
    "    def isCousins(self, root: Optional[TreeNode], x: int, y: int) -> bool:\n",
    "        res = []\n",
    "        queue = [(root,0,0)]\n",
    "        num = 0\n",
    "        \n",
    "        while queue:\n",
    "            print(queue)\n",
    "            cur,layer,fval = queue.pop(0)\n",
    "            if cur.val == x or cur.val == y:\n",
    "                res.append((layer,fval))\n",
    "            if cur.left:\n",
    "                queue.append((cur.left,layer+1,cur.val))\n",
    "            if cur.right:\n",
    "                queue.append((cur.right,layer+1,cur.val))\n",
    "            \n",
    "        print(res)\n",
    "        return res[0][0] == res[1][0] and res[0][1] != res[1][1]"
   ]
  },
  {
   "cell_type": "code",
   "execution_count": 209,
   "id": "49034321",
   "metadata": {},
   "outputs": [],
   "source": [
    "nodeD = TreeNode(4)\n",
    "nodeE = TreeNode(5)\n",
    "# nodeF = TreeNode('F')\n",
    "# nodeG = TreeNode('G')\n",
    "nodeB = TreeNode(2,right=nodeD)\n",
    "nodeC = TreeNode(3,right=nodeE)\n",
    "nodeA = TreeNode(1,left=nodeB,right=nodeC)"
   ]
  },
  {
   "cell_type": "code",
   "execution_count": 210,
   "id": "ba747777",
   "metadata": {},
   "outputs": [
    {
     "name": "stdout",
     "output_type": "stream",
     "text": [
      "[(<__main__.TreeNode object at 0x0000023B4B30FF28>, 0, 0)]\n",
      "[(<__main__.TreeNode object at 0x0000023B4B30FAC8>, 1, 1), (<__main__.TreeNode object at 0x0000023B4B30F358>, 1, 1)]\n",
      "[(<__main__.TreeNode object at 0x0000023B4B30F358>, 1, 1), (<__main__.TreeNode object at 0x0000023B4B30F9E8>, 2, 2)]\n",
      "[(<__main__.TreeNode object at 0x0000023B4B30F9E8>, 2, 2), (<__main__.TreeNode object at 0x0000023B4B30F828>, 2, 3)]\n",
      "[(<__main__.TreeNode object at 0x0000023B4B30F828>, 2, 3)]\n",
      "[(2, 2), (2, 3)]\n"
     ]
    },
    {
     "data": {
      "text/plain": [
       "True"
      ]
     },
     "execution_count": 210,
     "metadata": {},
     "output_type": "execute_result"
    }
   ],
   "source": [
    "s = Solution()\n",
    "s.isCousins(nodeA,4,5)"
   ]
  },
  {
   "cell_type": "code",
   "execution_count": 212,
   "id": "fd5553dd",
   "metadata": {},
   "outputs": [],
   "source": [
    "# DFS\n",
    "class Solution:\n",
    "    def isCousins(self, root: Optional[TreeNode], x: int, y: int) -> bool:\n",
    "        layer = 0\n",
    "        res = []\n",
    "        def Traversal(node,layer,fval):\n",
    "            if not node:\n",
    "                return\n",
    "            if node.val == x or node.val == y:\n",
    "                res.append((layer,fval))\n",
    "            Traversal(node.left,layer+1,node.val)\n",
    "            Traversal(node.right,layer+1,node.val)\n",
    "        \n",
    "        Traversal(root,0,0)  # 由于此题val范围[1,100]，故初始化为0不会出错\n",
    "        print(res)\n",
    "        return res[0][0] == res[1][0] and res[0][1] != res[1][1]"
   ]
  },
  {
   "cell_type": "code",
   "execution_count": 213,
   "id": "e50bc301",
   "metadata": {},
   "outputs": [
    {
     "name": "stdout",
     "output_type": "stream",
     "text": [
      "[(2, 2), (2, 3)]\n"
     ]
    },
    {
     "data": {
      "text/plain": [
       "True"
      ]
     },
     "execution_count": 213,
     "metadata": {},
     "output_type": "execute_result"
    }
   ],
   "source": [
    "s = Solution()\n",
    "s.isCousins(nodeA,4,5)"
   ]
  },
  {
   "cell_type": "markdown",
   "id": "5a21696d",
   "metadata": {},
   "source": [
    "## 1552. 两球之间的磁力"
   ]
  },
  {
   "cell_type": "markdown",
   "id": "9f41fa9a",
   "metadata": {},
   "source": [
    "## 622. 设计循环队列(8.2)"
   ]
  },
  {
   "cell_type": "markdown",
   "id": "ea69e30b",
   "metadata": {},
   "source": [
    "感觉应该就是循环链表"
   ]
  },
  {
   "cell_type": "code",
   "execution_count": 265,
   "id": "ab0f1884",
   "metadata": {},
   "outputs": [],
   "source": [
    "class Node(object):\n",
    "    def __init__(self, val = -1, next = None):\n",
    "        self.val = val\n",
    "        self.next = next\n",
    "\n",
    "class MyCircularQueue(Node):\n",
    "\n",
    "    def __init__(self, k: int):\n",
    "        Node.__init__(self,val = -1,next = None)\n",
    "        \n",
    "        self.poshead = self.postail = self.head = Node()\n",
    "        self.tail = None\n",
    "        \n",
    "        for i in range(k):\n",
    "            node = Node()\n",
    "            if self.head.next == None:\n",
    "                self.head.next = node\n",
    "                node.next = self.head\n",
    "                self.tail = node\n",
    "            else:\n",
    "                cur = self.head\n",
    "                while cur.next != self.head:\n",
    "                    cur = cur.next\n",
    "                node.next = self.head\n",
    "                cur.next = node\n",
    "                self.tail = node\n",
    "                    \n",
    "                    \n",
    "    def enQueue(self, value: int) -> bool:\n",
    "        if self.isFull():  # 要()调用\n",
    "            return False\n",
    "        self.postail.val = value\n",
    "        self.postail = self.postail.next\n",
    "        \n",
    "        \n",
    "    def deQueue(self) -> bool:\n",
    "        if self.isEmpty(): \n",
    "            return False\n",
    "        self.poshead.val = -1\n",
    "        self.poshead = self.poshead.next\n",
    "        \n",
    "        \n",
    "    def Front(self) -> int:\n",
    "        return self.poshead.val\n",
    "\n",
    "    \n",
    "    def Rear(self) -> int:\n",
    "        return self.postail.val\n",
    "\n",
    "    \n",
    "    def isEmpty(self) -> bool:\n",
    "        return self.poshead.val == self.postail.val == -1\n",
    "    \n",
    "    \n",
    "    def isFull(self) -> bool:\n",
    "        return self.poshead.val == self.postail.val != -1"
   ]
  },
  {
   "cell_type": "code",
   "execution_count": 266,
   "id": "d2e87ace",
   "metadata": {},
   "outputs": [],
   "source": [
    "s = MyCircularQueue(5)"
   ]
  },
  {
   "cell_type": "code",
   "execution_count": 267,
   "id": "92e4539f",
   "metadata": {},
   "outputs": [],
   "source": [
    "s.enQueue(1)"
   ]
  },
  {
   "cell_type": "code",
   "execution_count": 268,
   "id": "0bad6086",
   "metadata": {},
   "outputs": [],
   "source": [
    "s.enQueue(2)"
   ]
  },
  {
   "cell_type": "code",
   "execution_count": 269,
   "id": "713ba218",
   "metadata": {},
   "outputs": [],
   "source": [
    "s.enQueue(3)"
   ]
  },
  {
   "cell_type": "code",
   "execution_count": null,
   "id": "6506776b",
   "metadata": {},
   "outputs": [],
   "source": []
  },
  {
   "cell_type": "code",
   "execution_count": null,
   "id": "4790dff1",
   "metadata": {},
   "outputs": [],
   "source": []
  },
  {
   "cell_type": "code",
   "execution_count": null,
   "id": "c31f81dd",
   "metadata": {},
   "outputs": [],
   "source": []
  },
  {
   "cell_type": "code",
   "execution_count": null,
   "id": "15b5d668",
   "metadata": {},
   "outputs": [],
   "source": []
  },
  {
   "cell_type": "code",
   "execution_count": null,
   "id": "b53d1746",
   "metadata": {},
   "outputs": [],
   "source": []
  },
  {
   "cell_type": "code",
   "execution_count": null,
   "id": "ed89688b",
   "metadata": {},
   "outputs": [],
   "source": []
  },
  {
   "cell_type": "code",
   "execution_count": null,
   "id": "1af14b89",
   "metadata": {},
   "outputs": [],
   "source": []
  },
  {
   "cell_type": "code",
   "execution_count": null,
   "id": "9d3d478e",
   "metadata": {},
   "outputs": [],
   "source": []
  },
  {
   "cell_type": "code",
   "execution_count": null,
   "id": "a09d26f0",
   "metadata": {},
   "outputs": [],
   "source": []
  },
  {
   "cell_type": "code",
   "execution_count": null,
   "id": "fcadf8b5",
   "metadata": {},
   "outputs": [],
   "source": []
  },
  {
   "cell_type": "code",
   "execution_count": null,
   "id": "1ad3eddf",
   "metadata": {},
   "outputs": [],
   "source": []
  }
 ],
 "metadata": {
  "kernelspec": {
   "display_name": "Python 3 (ipykernel)",
   "language": "python",
   "name": "python3"
  },
  "language_info": {
   "codemirror_mode": {
    "name": "ipython",
    "version": 3
   },
   "file_extension": ".py",
   "mimetype": "text/x-python",
   "name": "python",
   "nbconvert_exporter": "python",
   "pygments_lexer": "ipython3",
   "version": "3.6.3"
  }
 },
 "nbformat": 4,
 "nbformat_minor": 5
}
