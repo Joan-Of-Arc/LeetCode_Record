{
 "cells": [
  {
   "cell_type": "markdown",
   "id": "9dfbce0b-ca44-4be6-afcc-d6e10c58cce7",
   "metadata": {},
   "source": [
    "## 128. 最长连续序列"
   ]
  },
  {
   "cell_type": "code",
   "execution_count": 4,
   "id": "cf1fb70a-b528-4946-bd8f-407ab407bbab",
   "metadata": {},
   "outputs": [],
   "source": [
    "from typing import List, Optional, Tuple, Set\n",
    "from collections import defaultdict, Counter\n",
    "from functools import lru_cache"
   ]
  },
  {
   "cell_type": "code",
   "execution_count": 5,
   "id": "8e8d238c-c5cd-4136-b23e-83e0fb452a22",
   "metadata": {},
   "outputs": [],
   "source": [
    "class Solution:\n",
    "    def longestConsecutive(self, nums: List[int]) -> int:\n",
    "        nums, ans = set(nums), 0\n",
    "        for n in nums:\n",
    "            if n - 1 in nums: continue\n",
    "            cur = n\n",
    "            while cur + 1 in nums: cur += 1\n",
    "            ans = max(ans, cur - n + 1)\n",
    "        return ans"
   ]
  },
  {
   "cell_type": "markdown",
   "id": "64b2438a-feed-4625-a6da-666d3623ac7c",
   "metadata": {},
   "source": [
    "### 核心： 若 n - 1 也在集合中则跳过, 否则依次寻找连续的值。这样才能达到O(n)的复杂度"
   ]
  },
  {
   "cell_type": "markdown",
   "id": "4243f61e-9530-48a6-b460-024a42b7f31b",
   "metadata": {},
   "source": [
    "没有必要用并查集"
   ]
  },
  {
   "cell_type": "markdown",
   "id": "88e4063a-341d-441c-bea9-eff5ec6231dd",
   "metadata": {},
   "source": [
    "## 2316. 统计无向图中无法相互到达点对数"
   ]
  },
  {
   "cell_type": "code",
   "execution_count": 57,
   "id": "7c5274bf-7840-464c-891e-7ba2a9a41481",
   "metadata": {},
   "outputs": [],
   "source": [
    "class Solution:\n",
    "    def countPairs(self, n: int, edges: List[List[int]]) -> int:\n",
    "        def find(x):\n",
    "            if fa[x] != x: fa[x] = find(fa[x])\n",
    "            return fa[x]\n",
    "        \n",
    "        def union(x, y):\n",
    "            fx, fy = find(x), find(y)\n",
    "            if fx != fy:\n",
    "                if rank[fx] > rank[fy]:\n",
    "                    fx, fy = fy, fx\n",
    "                fa[fx] = fy\n",
    "                if rank[fx] == rank[fy]: rank[fy] += 1    \n",
    "        \n",
    "        fa = [i for i in range(n)]\n",
    "        rank = [1] * n\n",
    "        for a, b in edges: union(a, b)\n",
    "        for i in range(n): fa[i] = find(i)\n",
    "        nums, pres, cnt = [], [], Counter(fa)\n",
    "        pre = 0\n",
    "        for key in cnt: \n",
    "            pre += cnt[key]\n",
    "            nums.append(cnt[key])\n",
    "            pres.append(pre)\n",
    "        ans = 0\n",
    "        for i in range(len(nums)):\n",
    "            ans += nums[i] * (pres[-1] - pres[i])\n",
    "        \n",
    "        \n",
    "        \n",
    "        # return nums, pres, ans\n",
    "        return ans\n",
    "        # return fa"
   ]
  },
  {
   "cell_type": "code",
   "execution_count": 58,
   "id": "6fc30ac2-1e01-4561-945d-bda39a0e4a1e",
   "metadata": {},
   "outputs": [],
   "source": [
    "n = 11\n",
    "edges = [[5,0],[1,0],[10,7],[9,8],[7,2],[1,3],[0,2],[8,5],[4,6],[4,2]]"
   ]
  },
  {
   "cell_type": "code",
   "execution_count": 59,
   "id": "83bc5223-11b8-4ba2-aff3-5c97e90e6499",
   "metadata": {},
   "outputs": [
    {
     "data": {
      "text/plain": [
       "0"
      ]
     },
     "execution_count": 59,
     "metadata": {},
     "output_type": "execute_result"
    }
   ],
   "source": [
    "s = Solution()\n",
    "s.countPairs(n, edges)"
   ]
  },
  {
   "cell_type": "markdown",
   "id": "ce6d3803-90a6-427f-8cf8-34f8f93eb5bd",
   "metadata": {},
   "source": [
    "## 130. 被围绕的区域"
   ]
  },
  {
   "cell_type": "markdown",
   "id": "ab3ee960-277f-4c37-a7d4-e879930c5cd4",
   "metadata": {},
   "source": [
    "换个角度, 就是看联通的\"O\"区域是否能够到达边界, 不能到达的都变成 \"X\""
   ]
  },
  {
   "cell_type": "code",
   "execution_count": 61,
   "id": "c9103eb7-8ec0-44c2-8b78-7568def7dac3",
   "metadata": {},
   "outputs": [],
   "source": [
    "class UF:\n",
    "    def __init__(self, n, r, c):\n",
    "        self.fa = [i for i in range(n)]\n",
    "        self.rank = [1] * n\n",
    "        self.lb = [-1] * n\n",
    "        self.hb = [-1] * n\n",
    "        self.r = r\n",
    "        self.c = c\n",
    "        \n",
    "        \n",
    "    def find(self, x): \n",
    "        if self.fa[x] != x:\n",
    "            self.fa[x] = self.find(self.fa[x])\n",
    "        return self.fa[x]\n",
    "    \n",
    "    def union(self, x, y):\n",
    "        fx, fy = self.find(x), self.find(y)\n",
    "        if fx != fy:\n",
    "            if self.rank[fx] > self.rank[fy]:\n",
    "                fx, fy = fy, fx\n",
    "            self.fa[fx] = fy\n",
    "            if self.rank[fx] == self.rank[fy]: self.rank[fy] += 1\n",
    "            row, col = divmod(fx, self.c)\n",
    "            self.lb[fy] = min(self.lb[fy], min(row, col))\n",
    "            self.hb[fy] = max(self.hb[fy], max(row, col))\n",
    "            \n",
    "            \n",
    "class Solution:\n",
    "    def solve(self, board: List[List[str]]) -> None:\n",
    "        \"\"\"\n",
    "        Do not return anything, modify board in-place instead.\n",
    "        \"\"\"\n",
    "        r, c = len(board), len(board[0])\n",
    "        uf = UF(r * c, r, c)\n",
    "        for i in range(r):\n",
    "            for j in range(c):\n",
    "                if board[i][j] == \"O\":\n",
    "                    x = i * r + j\n",
    "                    for di, dj in ((-1, 0), (1, 0), (0, -1), (0, 1)):\n",
    "                        ni, nj = i + di, j + dj\n",
    "                        if 0 <= ni < r and 0 <= nj < c:\n",
    "                            if board[ni][nj] == \"O\":\n",
    "                                y = ni * r + nj\n",
    "                                uf.union(x, y)\n",
    "        \n",
    "        return uf.fa, uf.lb, uf.hb"
   ]
  },
  {
   "cell_type": "code",
   "execution_count": 62,
   "id": "b92a02d5-8964-4e91-9125-da4bce7a3558",
   "metadata": {},
   "outputs": [],
   "source": [
    "board = [[\"X\",\"X\",\"X\",\"X\"],[\"X\",\"O\",\"O\",\"X\"],[\"X\",\"X\",\"O\",\"X\"],[\"X\",\"O\",\"X\",\"X\"]]"
   ]
  },
  {
   "cell_type": "code",
   "execution_count": 63,
   "id": "aaf7df70-44ab-450f-9276-963057383b50",
   "metadata": {},
   "outputs": [
    {
     "data": {
      "text/plain": [
       "([0, 1, 2, 3, 4, 6, 6, 7, 8, 9, 6, 11, 12, 13, 14, 15],\n",
       " [-1, -1, -1, -1, -1, -1, -1, -1, -1, -1, -1, -1, -1, -1, -1, -1],\n",
       " [-1, -1, -1, -1, -1, -1, 2, -1, -1, -1, -1, -1, -1, -1, -1, -1])"
      ]
     },
     "execution_count": 63,
     "metadata": {},
     "output_type": "execute_result"
    }
   ],
   "source": [
    "s = Solution()\n",
    "s.solve(board)"
   ]
  },
  {
   "cell_type": "markdown",
   "id": "5cc2338a-d36a-4f34-a57f-df9abcd76de8",
   "metadata": {},
   "source": [
    "这题用并查集有些麻烦，而且用了本质上还是要dfs或bfs。"
   ]
  },
  {
   "cell_type": "markdown",
   "id": "0b4df1f5-5841-4e18-bf61-7f3cfbf528e7",
   "metadata": {},
   "source": [
    "**思路：遍历一遍矩阵，以在边界上的 “O” 为起点的 “O” 区域标记。再次遍历，若遇到没有标记的 “O” 则把他变成 “X”**"
   ]
  },
  {
   "cell_type": "markdown",
   "id": "5cefd07b-8b12-440d-a500-64dc01344dab",
   "metadata": {},
   "source": [
    "### DFS"
   ]
  },
  {
   "cell_type": "code",
   "execution_count": 69,
   "id": "04dc3092-408f-4e9b-9144-dada2c6c843c",
   "metadata": {},
   "outputs": [],
   "source": [
    "class Solution:\n",
    "    def solve(self, board: List[List[str]]) -> None:\n",
    "        \"\"\"\n",
    "        Do not return anything, modify board in-place instead.\n",
    "        \"\"\"\n",
    "        def dfs(x, y):\n",
    "            for dx, dy in ((-1, 0), (1, 0), (0, -1), (0, 1)):\n",
    "                nx, ny = x + dx, y + dy\n",
    "                if 0 <= nx < m and 0 <= ny < n:\n",
    "                    if board[nx][ny] == \"O\" and mark[nx][ny] == 0:\n",
    "                        mark[nx][ny] = 1\n",
    "                        dfs(nx, ny)\n",
    "        \n",
    "        m, n = len(board), len(board[0])\n",
    "        mark = [[0] * n for _ in range(m)]\n",
    "        for i in range(m):\n",
    "            if board[i][0] == \"O\":\n",
    "                mark[i][0] = 1\n",
    "                dfs(i, 0)\n",
    "            if board[i][n - 1] == \"O\":\n",
    "                mark[i][n - 1] = 1\n",
    "                dfs(i, n - 1)\n",
    "        for i in range(n):\n",
    "            if board[0][i] == \"O\":\n",
    "                mark[0][i] = 1\n",
    "                dfs(0, i)\n",
    "            if board[m - 1][i] == \"O\":\n",
    "                mark[m - 1][i] = 1\n",
    "                dfs(m - 1, i)\n",
    "        \n",
    "        for i in range(m):\n",
    "            for j in range(n):\n",
    "                if board[i][j] == \"O\" and mark[i][j] == 0:\n",
    "                    board[i][j] = \"X\"\n",
    "        \n",
    "        return board"
   ]
  },
  {
   "cell_type": "code",
   "execution_count": 70,
   "id": "d1333334-19cb-4886-9dd3-934ecb1b53de",
   "metadata": {},
   "outputs": [],
   "source": [
    "board = [[\"X\",\"X\",\"X\",\"X\"],[\"X\",\"O\",\"O\",\"X\"],[\"X\",\"X\",\"O\",\"X\"],[\"X\",\"O\",\"X\",\"X\"]]"
   ]
  },
  {
   "cell_type": "code",
   "execution_count": 71,
   "id": "2f5f3edd-ec09-4554-a860-1f8ef5e7fede",
   "metadata": {},
   "outputs": [
    {
     "data": {
      "text/plain": [
       "[['X', 'X', 'X', 'X'],\n",
       " ['X', 'X', 'X', 'X'],\n",
       " ['X', 'X', 'X', 'X'],\n",
       " ['X', 'O', 'X', 'X']]"
      ]
     },
     "execution_count": 71,
     "metadata": {},
     "output_type": "execute_result"
    }
   ],
   "source": [
    "s = Solution()\n",
    "s.solve(board)"
   ]
  },
  {
   "cell_type": "markdown",
   "id": "52ca7763-1189-42e7-9376-78b9d7562c9e",
   "metadata": {},
   "source": [
    "### BFS"
   ]
  },
  {
   "cell_type": "code",
   "execution_count": 72,
   "id": "167e53e1-2c6f-4a22-9583-75a20f8fdf6f",
   "metadata": {},
   "outputs": [],
   "source": [
    "class Solution:\n",
    "    def solve(self, board: List[List[str]]) -> None:\n",
    "        if not board:\n",
    "            return\n",
    "        \n",
    "        n, m = len(board), len(board[0])\n",
    "        que = collections.deque()\n",
    "        for i in range(n):\n",
    "            if board[i][0] == \"O\":\n",
    "                que.append((i, 0))\n",
    "                board[i][0] = \"A\"\n",
    "            if board[i][m - 1] == \"O\":\n",
    "                que.append((i, m - 1))\n",
    "                board[i][m - 1] = \"A\"\n",
    "        for i in range(m - 1):\n",
    "            if board[0][i] == \"O\":\n",
    "                que.append((0, i))\n",
    "                board[0][i] = \"A\"\n",
    "            if board[n - 1][i] == \"O\":\n",
    "                que.append((n - 1, i))\n",
    "                board[n - 1][i] = \"A\"\n",
    "        \n",
    "        while que:\n",
    "            x, y = que.popleft()\n",
    "            for mx, my in [(x - 1, y), (x + 1, y), (x, y - 1), (x, y + 1)]:\n",
    "                if 0 <= mx < n and 0 <= my < m and board[mx][my] == \"O\":\n",
    "                    que.append((mx, my))\n",
    "                    board[mx][my] = \"A\"\n",
    "        \n",
    "        for i in range(n):\n",
    "            for j in range(m):\n",
    "                if board[i][j] == \"A\":\n",
    "                    board[i][j] = \"O\"\n",
    "                elif board[i][j] == \"O\":\n",
    "                    board[i][j] = \"X\""
   ]
  },
  {
   "cell_type": "markdown",
   "id": "499fe87a-7973-434f-932d-14f7df1aefcc",
   "metadata": {},
   "source": [
    "- 时间复杂度: O(mn)\n",
    "- 空间复杂夫: O(mn)"
   ]
  },
  {
   "cell_type": "markdown",
   "id": "e14c51ad-f15d-4e93-8ba3-fa25c3eb14f9",
   "metadata": {},
   "source": [
    "## 1254. 统计封闭岛屿的数目 "
   ]
  },
  {
   "cell_type": "markdown",
   "id": "82956a2e-a551-41a3-9649-390bd028f97d",
   "metadata": {},
   "source": [
    "感觉也不用并查集"
   ]
  },
  {
   "cell_type": "markdown",
   "id": "5612ade4-7d84-4e99-aa13-ee8e14ae8eca",
   "metadata": {},
   "source": [
    "先遍历一遍矩阵把和边相连的陆地区域都变成水，这样就只剩下岛屿，再循环dfs或bfs将联通的岛屿再变成水，直到矩阵中没有陆地，那么循环的次数就是岛屿的数目。"
   ]
  },
  {
   "cell_type": "code",
   "execution_count": 79,
   "id": "ee8b3027-264b-46d9-a57e-b078c0aa9851",
   "metadata": {},
   "outputs": [],
   "source": [
    "class Solution:\n",
    "    def closedIsland(self, grid: List[List[int]]) -> int:\n",
    "        def dfs(x, y):\n",
    "            for dx, dy in ((-1, 0), (1, 0), (0, -1), (0, 1)):\n",
    "                nx, ny = x + dx, y + dy\n",
    "                if 0 <= nx < m and 0 <= ny < n:\n",
    "                    if grid[nx][ny] == 0:\n",
    "                        grid[nx][ny] = 1\n",
    "                        dfs(nx, ny)\n",
    "        \n",
    "        m, n = len(grid), len(grid[0])\n",
    "        for i in range(m):\n",
    "            if grid[i][0] == 0: \n",
    "                grid[i][0] = 1\n",
    "                dfs(i, 0)\n",
    "            if grid[i][n - 1] == 0: \n",
    "                grid[i][n - 1] = 1\n",
    "                dfs(i, n - 1)\n",
    "        for i in range(n):\n",
    "            if grid[0][i] == 0: \n",
    "                grid[0][i] = 1\n",
    "                dfs(0, i)\n",
    "            if grid[m - 1][i] == 0: \n",
    "                grid[m - 1][i] = 1\n",
    "                dfs(m - 1, i)\n",
    "        \n",
    "        ans = 0\n",
    "        for i in range(m):\n",
    "            for j in range(n):\n",
    "                if grid[i][j] == 0:\n",
    "                    ans += 1\n",
    "                    dfs(i, j)\n",
    "        return ans"
   ]
  },
  {
   "cell_type": "code",
   "execution_count": 84,
   "id": "56aaadfb-fa58-4786-818b-845f70094c2b",
   "metadata": {},
   "outputs": [],
   "source": [
    "grid = [[1,1,1,1,1,1,1],[1,0,0,0,0,0,1],[1,0,1,1,1,0,1],[1,0,1,0,1,0,1],[1,0,1,1,1,0,1],[1,0,0,0,0,0,1],[1,1,1,1,1,1,1]]"
   ]
  },
  {
   "cell_type": "code",
   "execution_count": 85,
   "id": "c50b940b-2bb9-4902-bcc7-a41246d492a1",
   "metadata": {},
   "outputs": [
    {
     "data": {
      "text/plain": [
       "2"
      ]
     },
     "execution_count": 85,
     "metadata": {},
     "output_type": "execute_result"
    }
   ],
   "source": [
    "s = Solution()\n",
    "s.closedIsland(grid)"
   ]
  },
  {
   "cell_type": "markdown",
   "id": "5b50bbab-1a1d-4330-9b1a-ff70bf554d5c",
   "metadata": {},
   "source": [
    "- 时间复杂度：O(mn)\n",
    "- 空间复杂度：O(mn)"
   ]
  },
  {
   "cell_type": "markdown",
   "id": "e071432f-9f52-4491-b36c-2313f663688f",
   "metadata": {},
   "source": [
    "## 695. 岛屿的最大面积"
   ]
  },
  {
   "cell_type": "code",
   "execution_count": 123,
   "id": "00294034-2e15-469b-8f71-a398de562eb0",
   "metadata": {},
   "outputs": [],
   "source": [
    "class Solution:\n",
    "    def maxAreaOfIsland(self, grid: List[List[int]]) -> int:\n",
    "        def dfs(x, y):\n",
    "            cnt = 1  # 设为 1 比设为 0 要好\n",
    "            for dx, dy in ((-1, 0), (1, 0), (0, -1), (0, 1)):\n",
    "                nx, ny = x + dx, y + dy\n",
    "                if 0 <= nx < m and 0 <= ny < n:\n",
    "                    if grid[nx][ny] == 1:\n",
    "                        grid[nx][ny] = 0\n",
    "                        cnt += dfs(nx, ny)\n",
    "            return cnt\n",
    "        \n",
    "        m, n = len(grid), len(grid[0])\n",
    "        ans = 0\n",
    "        for i in range(m):\n",
    "            for j in  range(n):\n",
    "                if grid[i][j] == 1:\n",
    "                    grid[i][j] = 0\n",
    "                    ans = max(ans, dfs(i, j) + 1)\n",
    "        return ans"
   ]
  },
  {
   "cell_type": "code",
   "execution_count": 121,
   "id": "608d9983-88ab-407b-83e5-385752b03de5",
   "metadata": {},
   "outputs": [],
   "source": [
    "grid = [[0,0,0,0,0,0,0,0]]"
   ]
  },
  {
   "cell_type": "code",
   "execution_count": 122,
   "id": "05439dde-7e4f-4fd2-a16a-d587ebb0a214",
   "metadata": {},
   "outputs": [
    {
     "data": {
      "text/plain": [
       "0"
      ]
     },
     "execution_count": 122,
     "metadata": {},
     "output_type": "execute_result"
    }
   ],
   "source": [
    "s = Solution()\n",
    "s.maxAreaOfIsland(grid)"
   ]
  },
  {
   "cell_type": "markdown",
   "id": "5d72669a-ac86-41e2-b471-1e0a2eda0829",
   "metadata": {},
   "source": [
    "## 1905. 统计子岛屿"
   ]
  },
  {
   "cell_type": "code",
   "execution_count": 155,
   "id": "76ea316c-074d-4f01-9faa-caa966601211",
   "metadata": {},
   "outputs": [],
   "source": [
    "class Solution:\n",
    "    def countSubIslands(self, grid1: List[List[int]], grid2: List[List[int]]) -> int:\n",
    "        def dfs(x, y):\n",
    "            ans = 1\n",
    "            for dx, dy in ((-1, 0), (1, 0), (0, -1), (0, 1)):\n",
    "                nx, ny = x + dx, y + dy\n",
    "                if 0 <= nx < m and 0 <= ny < n:\n",
    "                    if grid2[nx][ny] == 1:\n",
    "                        grid2[nx][ny] = 0\n",
    "                        ans &= (dfs(nx, ny) and grid1[nx][ny])  # 注意这里的短路，要先执行dfs\n",
    "            # res = ans & grid1[x][y] == 1\n",
    "            # if res: print(x, y)\n",
    "            \n",
    "            return ans & grid1[x][y] == 1\n",
    "        \n",
    "        m, n = len(grid2), len(grid2[0])\n",
    "        num = 0\n",
    "        for i in range(m):\n",
    "            for j in range(n):\n",
    "                if grid2[i][j] == 1:\n",
    "                    grid2[i][j] = 0\n",
    "                    num += dfs(i, j)\n",
    "        \n",
    "        return num"
   ]
  },
  {
   "cell_type": "code",
   "execution_count": 156,
   "id": "a77e6fee-c9c0-44f9-ab33-1e4d9b4c9f19",
   "metadata": {},
   "outputs": [],
   "source": [
    "grid1 = [[1,1,1,0,0],[0,1,1,1,1],[0,0,0,0,0],[1,0,0,0,0],[1,1,0,1,1]]\n",
    "grid2 = [[1,1,1,0,0],[0,0,1,1,1],[0,1,0,0,0],[1,0,1,1,0],[0,1,0,1,0]]"
   ]
  },
  {
   "cell_type": "code",
   "execution_count": 157,
   "id": "89d64a3c-b1b7-493a-bd0c-e99ed4ccd76e",
   "metadata": {},
   "outputs": [
    {
     "data": {
      "text/plain": [
       "3"
      ]
     },
     "execution_count": 157,
     "metadata": {},
     "output_type": "execute_result"
    }
   ],
   "source": [
    "s = Solution()\n",
    "s.countSubIslands(grid1, grid2)"
   ]
  },
  {
   "cell_type": "markdown",
   "id": "72affd2b-8793-4a06-b94a-880d63896a1d",
   "metadata": {},
   "source": [
    "## 417. 太平洋大西洋水流问题"
   ]
  },
  {
   "cell_type": "code",
   "execution_count": 34,
   "id": "787b2264-050f-41fa-940a-36d7f3982707",
   "metadata": {},
   "outputs": [],
   "source": [
    "class Solution:\n",
    "    def pacificAtlantic(self, heights: List[List[int]]) -> List[List[int]]:\n",
    "        m, n = len(heights), len(heights[0])\n",
    "\n",
    "        def search(starts: List[Tuple[int, int]]) -> Set[Tuple[int, int]]:\n",
    "            visited = set()\n",
    "            def dfs(x: int, y: int):\n",
    "                if (x, y) in visited:\n",
    "                    return\n",
    "                visited.add((x, y))\n",
    "                for nx, ny in ((x, y + 1), (x, y - 1), (x - 1, y), (x + 1, y)):\n",
    "                    if 0 <= nx < m and 0 <= ny < n and heights[nx][ny] >= heights[x][y]:\n",
    "                        dfs(nx, ny)\n",
    "            for x, y in starts:\n",
    "                dfs(x, y)\n",
    "            return visited\n",
    "\n",
    "        pacific = [(0, i) for i in range(n)] + [(i, 0) for i in range(1, m)]\n",
    "        atlantic = [(m - 1, i) for i in range(n)] + [(i, n - 1) for i in range(m - 1)]\n",
    "        return list(map(list, search(pacific) & search(atlantic)))"
   ]
  },
  {
   "cell_type": "markdown",
   "id": "3e68eea8-238d-4adb-9357-f084c07f4eaf",
   "metadata": {},
   "source": [
    "### set 的交和并: & |"
   ]
  },
  {
   "cell_type": "code",
   "execution_count": 19,
   "id": "8761c7d3-916a-4392-93fd-990e0ef73a97",
   "metadata": {},
   "outputs": [
    {
     "data": {
      "text/plain": [
       "{1}"
      ]
     },
     "execution_count": 19,
     "metadata": {},
     "output_type": "execute_result"
    }
   ],
   "source": [
    "{1, 2} & {1}"
   ]
  },
  {
   "cell_type": "code",
   "execution_count": 20,
   "id": "b9b3165c-6b2a-434c-96cc-7d1775ad94e5",
   "metadata": {},
   "outputs": [
    {
     "data": {
      "text/plain": [
       "{1, 2}"
      ]
     },
     "execution_count": 20,
     "metadata": {},
     "output_type": "execute_result"
    }
   ],
   "source": [
    "{1, 2} | {1}"
   ]
  },
  {
   "cell_type": "markdown",
   "id": "c2fcbf51-f0f8-4ca4-96ee-7b9caf93ecbc",
   "metadata": {},
   "source": [
    "反向的思路就是：分别从岛的大西洋和太平洋的边界开始进行遍历，分别获得能够流向大西洋以及太平洋的格子的合集，再取交集即为结果。  \n",
    "而正向做比较困难。"
   ]
  },
  {
   "cell_type": "code",
   "execution_count": 40,
   "id": "0e01f68d-3b29-4842-b5ba-af271417dbeb",
   "metadata": {},
   "outputs": [],
   "source": [
    "class Solution:\n",
    "    def pacificAtlantic(self, heights: List[List[int]]) -> List[List[int]]:\n",
    "        def search(starts):\n",
    "            visit = set()\n",
    "            def dfs(x, y):\n",
    "                visit.add((x, y))\n",
    "                for dx, dy in ((-1, 0), (1, 0), (0, -1), (0, 1)):\n",
    "                    nx, ny = x + dx, y + dy\n",
    "                    if 0 <= nx < m and 0 <= ny < n and (nx, ny) not in visit and heights[x][y] <= heights[nx][ny]:\n",
    "                        dfs(nx, ny)\n",
    "            for x, y in starts: dfs(x, y)\n",
    "            return visit\n",
    "        \n",
    "        m, n = len(heights), len(heights[0])\n",
    "        pacific = [(0, i) for i in range(n)] + [(i, 0) for i in range(m)]\n",
    "        atlantic = [(m - 1, i) for i in range(n)] + [(i, n - 1) for i in range(m - 1)]\n",
    "        return list(map(list, search(pacific) & search(atlantic)))"
   ]
  },
  {
   "cell_type": "code",
   "execution_count": 41,
   "id": "e4b1f6ce-38f9-4a48-869c-99d39fd0ec01",
   "metadata": {},
   "outputs": [],
   "source": [
    "heights = [[2,1],[1,2]]"
   ]
  },
  {
   "cell_type": "code",
   "execution_count": 42,
   "id": "af7afa39-97e1-4e67-9a7e-ac3a60819998",
   "metadata": {},
   "outputs": [
    {
     "data": {
      "text/plain": [
       "[[0, 1], [1, 0], [0, 0], [1, 1]]"
      ]
     },
     "execution_count": 42,
     "metadata": {},
     "output_type": "execute_result"
    }
   ],
   "source": [
    "s = Solution()\n",
    "s.pacificAtlantic(heights)"
   ]
  },
  {
   "cell_type": "markdown",
   "id": "1734a91f-5089-47fa-bf5c-bd16e99ada81",
   "metadata": {},
   "source": [
    "- 时间复杂度: O(mn)\n",
    "- 空间复杂度: O(mn)"
   ]
  },
  {
   "cell_type": "markdown",
   "id": "a2065365-8377-4ddd-8a0a-8f3208b14efc",
   "metadata": {},
   "source": [
    "## 733. 图像渲染"
   ]
  },
  {
   "cell_type": "code",
   "execution_count": 45,
   "id": "cd56fd92-c755-4a81-bc1f-7bb9b01b7596",
   "metadata": {},
   "outputs": [],
   "source": [
    "class Solution:\n",
    "    def floodFill(self, image: List[List[int]], sr: int, sc: int, color: int) -> List[List[int]]:\n",
    "        def dfs(x, y):\n",
    "            for dx, dy in ((-1, 0), (1, 0), (0, -1), (0, 1)):\n",
    "                nx, ny = x + dx, y + dy\n",
    "                if 0 <= nx < m and 0 <= ny < n:\n",
    "                    if image[nx][ny] == old and image[nx][ny] != color:\n",
    "                        image[nx][ny] = color\n",
    "                        dfs(nx, ny)\n",
    "        m, n, old = len(image), len(image[0]), image[sr][sc]\n",
    "        image[sr][sc] = color\n",
    "        dfs(sr, sc)\n",
    "        return image"
   ]
  },
  {
   "cell_type": "markdown",
   "id": "6c21a0ce-82c6-4c10-9b8b-2aa7be6ce545",
   "metadata": {},
   "source": [
    "## 1020. 飞地的数量"
   ]
  },
  {
   "cell_type": "code",
   "execution_count": 2,
   "id": "bbef8b97-a097-4db7-a9e8-753c5d974d49",
   "metadata": {},
   "outputs": [],
   "source": [
    "from typing import List\n",
    "class Solution:\n",
    "    def numEnclaves(self, grid: List[List[int]]) -> int:\n",
    "        def dfs(x, y):\n",
    "            grid[x][y] = 0\n",
    "            for dx, dy in ((-1, 0), (1, 0), (0, -1), (0, 1)):\n",
    "                nx, ny = x + dx, y + dy\n",
    "                if 0 <= nx < m and 0 <= ny < n:\n",
    "                    if grid[nx][ny] == 1:\n",
    "                        dfs(nx, ny)\n",
    "                        \n",
    "        m, n = len(grid), len(grid[0])\n",
    "        for i in range(m):\n",
    "            if grid[i][0] == 1:\n",
    "                dfs(i, 0)\n",
    "            if grid[i][n - 1] == 1:\n",
    "                dfs(i, n - 1)\n",
    "        for i in range(n):\n",
    "            if grid[0][i] == 1:\n",
    "                dfs(0, i)\n",
    "            if grid[m - 1][i] == 1:\n",
    "                dfs(m - 1, i)\n",
    "        \n",
    "        return sum(r.count(0) for r in grid)"
   ]
  },
  {
   "cell_type": "markdown",
   "id": "dda738fe-9bbb-44ee-b2b7-518203465839",
   "metadata": {},
   "source": [
    "## 684. 冗余连接"
   ]
  },
  {
   "cell_type": "markdown",
   "id": "fee3fe61-2dd0-4ebc-960b-b15136474719",
   "metadata": {},
   "source": [
    "检测图中有没有环"
   ]
  },
  {
   "cell_type": "code",
   "execution_count": 13,
   "id": "f45c1ef6-c340-4b24-ab49-36d4c68311ef",
   "metadata": {},
   "outputs": [],
   "source": [
    "class UF:\n",
    "    def __init__(self, n):\n",
    "        self.fa = [i for i in range(n)]\n",
    "        self.rank = [1] * n\n",
    "    \n",
    "    def find(self, x):\n",
    "        if self.fa[x] != x:\n",
    "            self.fa[x] = self.find(self.fa[x])\n",
    "        return self.fa[x]\n",
    "    \n",
    "    def union(self, x, y):\n",
    "        fx, fy = self.find(x), self.find(y)\n",
    "        if fx == fy: return 0\n",
    "        if self.rank[fx] > self.rank[fy]:\n",
    "            fx, fy = fy, fx\n",
    "        self.fa[fx] = self.fa[fy]\n",
    "        if self.rank[fx] == self.rank[fy]:\n",
    "            self.rank[fy] += 1\n",
    "        return 1\n",
    "\n",
    "class Solution:\n",
    "    def findRedundantConnection(self, edges: List[List[int]]) -> List[int]:\n",
    "        uf = UF(len(edges))\n",
    "        for x, y in edges:\n",
    "            ans = uf.union(x - 1, y - 1)\n",
    "            if ans == 0: return [x, y]        "
   ]
  },
  {
   "cell_type": "code",
   "execution_count": 14,
   "id": "68045951-1aad-4ec2-a63f-0d8627437848",
   "metadata": {},
   "outputs": [],
   "source": [
    "edges = [[1,2], [2,3], [3,4], [1,4], [1,5]]"
   ]
  },
  {
   "cell_type": "code",
   "execution_count": 15,
   "id": "2417a162-45d8-4b4b-a08f-ddd7b3bf5c70",
   "metadata": {},
   "outputs": [
    {
     "data": {
      "text/plain": [
       "[1, 4]"
      ]
     },
     "execution_count": 15,
     "metadata": {},
     "output_type": "execute_result"
    }
   ],
   "source": [
    "s = Solution()\n",
    "s.findRedundantConnection(edges)"
   ]
  },
  {
   "cell_type": "markdown",
   "id": "5aa84c6c-f0e7-4ed1-9c42-b3c46124e81c",
   "metadata": {},
   "source": [
    "## 685. 冗余连接Ⅱ"
   ]
  },
  {
   "cell_type": "markdown",
   "id": "bff5b870-98d6-4aee-b307-94deb1c358e2",
   "metadata": {},
   "source": [
    "### 步骤：\n",
    "1. 计算入度\n",
    "2. 根据入度的不同分两种情况：\n",
    "    - 存在入度为 2 的点： 若删去某条边之后该图变成了一棵树，那么这条边为要返回的结果。\n",
    "    - 不存在入度为 2 的点： 必然存在有向环， 找到有向环的边就是要返回的答案。"
   ]
  },
  {
   "cell_type": "code",
   "execution_count": 30,
   "id": "027b232f-c3eb-4ec6-8f2a-a56572c2e927",
   "metadata": {},
   "outputs": [],
   "source": [
    "from typing import List\n",
    "\n",
    "class UF:\n",
    "    def __init__(self, n):\n",
    "        self.fa = [i for i in range(n)]\n",
    "    \n",
    "    def find(self, x):\n",
    "        return x if self.fa[x] == x else self.find(self.fa[x])\n",
    "    \n",
    "    def union(self, x, y):\n",
    "        fx, fy = self.find(x), self.find(y)\n",
    "        if fx == fy: return 0\n",
    "        self.fa[y] = x\n",
    "        return 1\n",
    "\n",
    "    \n",
    "class Solution:\n",
    "    def findRedundantDirectedConnection(self, edges: List[List[int]]) -> List[int]:\n",
    "        def toTreeCutEdge(edge):\n",
    "            uf = UF(n + 1)\n",
    "            for a, b in edges:\n",
    "                if [a, b] == edge: continue\n",
    "                # 去掉这条边以后依然不是树，说明答案不是这条边\n",
    "                if uf.union(a, b) == 0: return False\n",
    "            return True\n",
    "    \n",
    "        n = len(edges)\n",
    "        indegree = [0] * (n + 1)\n",
    "        for _, e in edges: indegree[e] += 1\n",
    "        \n",
    "        if 2 in indegree:\n",
    "            target = indegree.index(2)\n",
    "            for i in range(n - 1, -1, -1):\n",
    "                # 入度存在 2， 则要删去入度为 2 的点连接的一条边\n",
    "                if edges[i][1] == target and toTreeCutEdge(edges[i]):\n",
    "                    return edges[i]\n",
    "            \n",
    "        \n",
    "        # 入度不存在 2 ，图中存在有向环，找到最后出现的有向环的边即可\n",
    "        uf = UF(n + 1)\n",
    "        # for a, b in edges: uf.union(a, b)  # 这里注意不能一开始就全合并，不然很多边的祖先都是同一个\n",
    "        for a, b in edges:\n",
    "            if uf.find(a) == uf.find(b):  # 先判断，再合并\n",
    "                return [a, b]\n",
    "            uf.union(a, b)"
   ]
  },
  {
   "cell_type": "code",
   "execution_count": 31,
   "id": "2be16362-a461-4c6d-9130-6f7e2dfc85cd",
   "metadata": {},
   "outputs": [],
   "source": [
    "edges = [[1,2],[2,3],[3,4],[4,1],[1,5]]"
   ]
  },
  {
   "cell_type": "code",
   "execution_count": 32,
   "id": "03edcf8a-ba4c-4f0f-a2ed-032f4e40d17f",
   "metadata": {},
   "outputs": [
    {
     "data": {
      "text/plain": [
       "[4, 1]"
      ]
     },
     "execution_count": 32,
     "metadata": {},
     "output_type": "execute_result"
    }
   ],
   "source": [
    "s = Solution()\n",
    "s.findRedundantDirectedConnection(edges)"
   ]
  },
  {
   "cell_type": "markdown",
   "id": "efb69656-5085-4f78-8403-db5872293d07",
   "metadata": {},
   "source": [
    "## 1162. 地图分析"
   ]
  },
  {
   "cell_type": "markdown",
   "id": "17156b2c-5268-4e1b-a0df-717eef22b27f",
   "metadata": {},
   "source": [
    "曼哈顿距离不就是遍历的步数吗"
   ]
  },
  {
   "cell_type": "code",
   "execution_count": 28,
   "id": "303dae95-365a-4cc4-a217-a58d6c07b1e9",
   "metadata": {},
   "outputs": [],
   "source": [
    "from collections import defaultdict\n",
    "from typing import List\n",
    "class Solution:\n",
    "    def maxDistance(self, grid: List[List[int]]) -> int:\n",
    "        def dfs(x, y, step):\n",
    "            for dx, dy in ((-1, 0), (1, 0), (0, -1), (0, 1)):\n",
    "                nx, ny = x + dx, y + dy\n",
    "                if 0 <= nx < n and 0 <= ny < n:\n",
    "                    if grid[nx][ny] == 0 and visit[nx][ny]:\n",
    "                        visit[nx][ny] = 0\n",
    "                        dist[(nx, ny)] = step if (nx, ny)  not in dist else min(dist[(nx, ny)], step)\n",
    "                        dfs(nx, ny, step + 1)\n",
    "                        visit[nx][ny] = 1\n",
    "        \n",
    "        n = len(grid)\n",
    "        dist = dict()\n",
    "        visit = [[1] * n for _ in range(n)]\n",
    "        \n",
    "        for i in range(n):\n",
    "            for j in range(n):\n",
    "                if grid[i][j] == 1:\n",
    "                    dfs(i, j, 1)\n",
    "        ans = 0\n",
    "        for key in dist: ans = max(ans, dist[key])\n",
    "        \n",
    "        return ans"
   ]
  },
  {
   "cell_type": "code",
   "execution_count": 37,
   "id": "89249891-b02b-48c5-ae13-d3141a5105d4",
   "metadata": {},
   "outputs": [],
   "source": [
    "grid = [[1,0,1],[0,0,0],[1,0,1]]"
   ]
  },
  {
   "cell_type": "code",
   "execution_count": 38,
   "id": "f6b153ef-4c1f-4ae2-b5df-c6f8efa52069",
   "metadata": {},
   "outputs": [
    {
     "data": {
      "text/plain": [
       "2"
      ]
     },
     "execution_count": 38,
     "metadata": {},
     "output_type": "execute_result"
    }
   ],
   "source": [
    "s = Solution()\n",
    "s.maxDistance(grid)"
   ]
  },
  {
   "cell_type": "code",
   "execution_count": 35,
   "id": "f5bd1a6e-3175-4e8e-bf49-0077c07e2ddb",
   "metadata": {},
   "outputs": [
    {
     "data": {
      "text/plain": [
       "4"
      ]
     },
     "execution_count": 35,
     "metadata": {},
     "output_type": "execute_result"
    }
   ],
   "source": [
    "sum(map(sum, grid))"
   ]
  },
  {
   "cell_type": "markdown",
   "id": "de78700c-d570-438b-8767-49ac98197d63",
   "metadata": {},
   "source": [
    "这样做复杂度太高，得多源bfs"
   ]
  },
  {
   "cell_type": "markdown",
   "id": "85711ff0-d52a-4aef-a3d8-ddc37e8cfd02",
   "metadata": {},
   "source": [
    "### 多源bfs做法"
   ]
  },
  {
   "cell_type": "markdown",
   "id": "fd372445-aab6-4b8a-b624-5582623a0761",
   "metadata": {},
   "source": [
    "适用于多个等同的起点，实际上就是把所有root节点都先入栈。"
   ]
  },
  {
   "cell_type": "code",
   "execution_count": 36,
   "id": "68fee416-73e1-485b-ba0a-d07c4f4b9912",
   "metadata": {},
   "outputs": [],
   "source": [
    "from collections import deque\n",
    "class Solution:\n",
    "    def maxDistance(self, grid: List[List[int]]) -> int:\n",
    "        stk = deque()\n",
    "        n = len(grid)\n",
    "        for i in range(n):\n",
    "            for j in range(n):\n",
    "                if grid[i][j] == 1: stk.append((i, j, 0))\n",
    "        l = len(stk)\n",
    "        if l == 0 or l == n * n: return -1\n",
    "    \n",
    "        visit = [[1] * n for _ in range(n)]\n",
    "        while stk:\n",
    "            cx, cy, step = stk.popleft()\n",
    "            for dx, dy in ((-1, 0), (1, 0), (0, -1), (0, 1)):\n",
    "                nx, ny = cx + dx, cy + dy\n",
    "                if 0 <= nx < n and 0 <= ny < n:\n",
    "                    if grid[nx][ny] == 0 and visit[nx][ny]:\n",
    "                        visit[nx][ny] = 0\n",
    "                        stk.append((nx, ny, step + 1))\n",
    "        return step"
   ]
  },
  {
   "cell_type": "markdown",
   "id": "e0a5f99f-f629-4415-962a-14b13b48a3e7",
   "metadata": {},
   "source": [
    "### 通俗解释： 陆地逐渐扩张，直到铺满整个区域！"
   ]
  },
  {
   "cell_type": "markdown",
   "id": "e9f2ea32-bf5a-4748-ad66-4093cb582025",
   "metadata": {},
   "source": [
    "## 42. 接雨水"
   ]
  },
  {
   "cell_type": "markdown",
   "id": "0503f667-b3b5-4a8a-a5ca-dbc098fa8c3c",
   "metadata": {},
   "source": [
    "### 1. dp"
   ]
  },
  {
   "cell_type": "markdown",
   "id": "f3b52ec1-c910-46c1-a5eb-1a2bf2ee32f6",
   "metadata": {},
   "source": [
    "一个格子能够接住雨水的最大高度为两边最大高度的最小值。"
   ]
  },
  {
   "cell_type": "code",
   "execution_count": 62,
   "id": "54dd95a4-f6e4-4ead-ab25-d934e1a14f43",
   "metadata": {},
   "outputs": [],
   "source": [
    "class Solution:\n",
    "    def trap(self, height: List[int]) -> int:\n",
    "        def rightmax(idx):\n",
    "            if idx in memo: return memo[idx]\n",
    "            if idx == n - 1: return height[n - 1]\n",
    "            memo[idx] = max(height[idx], rightmax(idx + 1))\n",
    "            return memo[idx]\n",
    "        \n",
    "        n, ans, memo = len(height), 0, {}\n",
    "        leftmax = height[0]\n",
    "        for i in range(n):\n",
    "            leftmax = max(leftmax, height[i])\n",
    "            ans += min(leftmax, rightmax(i)) - height[i]\n",
    "        \n",
    "        return ans"
   ]
  },
  {
   "cell_type": "code",
   "execution_count": 66,
   "id": "50a4032e-ee36-4daa-81ff-a79e130e02a7",
   "metadata": {},
   "outputs": [],
   "source": [
    "height = [4,2,0,3,2,5]"
   ]
  },
  {
   "cell_type": "code",
   "execution_count": 67,
   "id": "1ff401a7-edf6-4535-9d3d-ca8e8d93feee",
   "metadata": {},
   "outputs": [
    {
     "data": {
      "text/plain": [
       "9"
      ]
     },
     "execution_count": 67,
     "metadata": {},
     "output_type": "execute_result"
    }
   ],
   "source": [
    "s = Solution()\n",
    "s.trap(height)"
   ]
  },
  {
   "cell_type": "code",
   "execution_count": 65,
   "id": "e66c0365-a5cd-40a5-aa60-cf518a177303",
   "metadata": {},
   "outputs": [],
   "source": [
    "class Solution:\n",
    "    def trap(self, height: List[int]) -> int:\n",
    "        n = len(height)\n",
    "        rightmax = [0] * n\n",
    "        cur = 0\n",
    "        for i in range(n - 1, -1, -1):\n",
    "            cur = max(cur, height[i])\n",
    "            rightmax[i] = cur\n",
    "        leftmax = 0\n",
    "        ans = 0\n",
    "        for i in range(n):\n",
    "            leftmax = max(leftmax, height[i])\n",
    "            ans += min(leftmax, rightmax[i]) - height[i]\n",
    "        return ans"
   ]
  },
  {
   "cell_type": "markdown",
   "id": "7e557592-bd65-4c79-9dae-57735e8b841c",
   "metadata": {},
   "source": [
    "### 2. 单调栈"
   ]
  },
  {
   "cell_type": "code",
   "execution_count": 68,
   "id": "a2484e89-41d4-4527-8e7c-3cd10f17c5b1",
   "metadata": {},
   "outputs": [],
   "source": [
    "class Solution:\n",
    "    def trap(self, height: List[int]) -> int:\n",
    "        ans = 0\n",
    "        stack = list()\n",
    "        n = len(height)\n",
    "        \n",
    "        for i, h in enumerate(height):\n",
    "            while stack and h > height[stack[-1]]:\n",
    "                top = stack.pop()\n",
    "                if not stack:\n",
    "                    break\n",
    "                left = stack[-1]\n",
    "                currWidth = i - left - 1\n",
    "                currHeight = min(height[left], height[i]) - height[top]\n",
    "                ans += currWidth * currHeight\n",
    "            stack.append(i)\n",
    "        \n",
    "        return ans"
   ]
  },
  {
   "cell_type": "markdown",
   "id": "2e3999a8-d8d0-4cc1-832a-cc6ed986a121",
   "metadata": {},
   "source": [
    "## 542. 01矩阵"
   ]
  },
  {
   "cell_type": "markdown",
   "id": "0e229c9a-38da-4e2e-b336-d1cf2ace44eb",
   "metadata": {},
   "source": [
    "和1162类似, 多源BFS"
   ]
  },
  {
   "cell_type": "code",
   "execution_count": 10,
   "id": "fd4a6fa8-bb45-4676-a28b-3b225c52e889",
   "metadata": {},
   "outputs": [],
   "source": [
    "from collections import deque\n",
    "class Solution:\n",
    "    def updateMatrix(self, mat: List[List[int]]) -> List[List[int]]:\n",
    "        m, n = len(mat), len(mat[0])\n",
    "        stk = deque()\n",
    "        # dist = [[float(\"Inf\")] * n for _ in range(m)]\n",
    "        for i in range(m):\n",
    "            for j in range(n):\n",
    "                if mat[i][j] == 0: \n",
    "                    # dist[i][j] = 0\n",
    "                    stk.append((i, j, 0))\n",
    "        \n",
    "        visit = [[1] * n for _ in range(m)]\n",
    "        while stk:\n",
    "            x, y, step = stk.popleft()\n",
    "            for dx, dy in ((-1, 0), (1, 0), (0, -1), (0, 1)):\n",
    "                nx, ny = x + dx, y + dy\n",
    "                if 0 <= nx < m and 0 <= ny < n:\n",
    "                    if mat[nx][ny] == 1 and visit[nx][ny]:\n",
    "                        visit[nx][ny] = 0\n",
    "                        mat[nx][ny] = step + 1\n",
    "                        stk.append((nx, ny, step + 1))\n",
    "                        \n",
    "        return mat"
   ]
  },
  {
   "cell_type": "code",
   "execution_count": 11,
   "id": "288bf9ea-168b-4382-afe2-26e5dae462b6",
   "metadata": {},
   "outputs": [],
   "source": [
    "mat = [[0,0,0],[0,0,0],[0,0,0]]"
   ]
  },
  {
   "cell_type": "code",
   "execution_count": 12,
   "id": "4a1de0ff-39f5-44b4-9670-108732913c3c",
   "metadata": {},
   "outputs": [
    {
     "data": {
      "text/plain": [
       "[[0, 0, 0], [0, 0, 0], [0, 0, 0]]"
      ]
     },
     "execution_count": 12,
     "metadata": {},
     "output_type": "execute_result"
    }
   ],
   "source": [
    "s = Solution()\n",
    "s.updateMatrix(mat)"
   ]
  },
  {
   "cell_type": "markdown",
   "id": "4845e490-7293-4138-99b4-27a317bddd24",
   "metadata": {},
   "source": [
    "## 1091. 二进制矩阵中的最短路径"
   ]
  },
  {
   "cell_type": "markdown",
   "id": "11922e96-c4c8-4fe2-9527-3ba5a6b8d66f",
   "metadata": {},
   "source": [
    "dp吧"
   ]
  },
  {
   "cell_type": "code",
   "execution_count": 69,
   "id": "ee25ac6a-0461-4713-84a9-13c76444f4fd",
   "metadata": {},
   "outputs": [],
   "source": [
    "class Solution:\n",
    "    def shortestPathBinaryMatrix(self, grid: List[List[int]]) -> int:\n",
    "        if grid[0][0] != 0 or grid[-1][-1] != 0: return -1\n",
    "        n, stk = len(grid), deque([(0, 0, 1)])\n",
    "        visit = [[1] * n for _ in range(n)]\n",
    "        while stk:\n",
    "            x, y, step = stk.popleft()\n",
    "            # print(x, y, type(x)\n",
    "            if x == y == n - 1: return step\n",
    "            d = ((-1, -1), (-1, 0), (-1, 1), (0, -1), (0, 1), (1, -1), (1, 0), (1, 1))\n",
    "            for dx, dy in d:\n",
    "                # print(dx, dy, type(dx))\n",
    "                nx, ny = x + dx, y + dy\n",
    "                if 0 <= nx < n and 0 <= ny < n:\n",
    "                    if grid[nx][ny] == 0 and visit[nx][ny]:\n",
    "                        visit[nx][ny] = 0\n",
    "                        stk.append((nx, ny, step + 1))\n",
    "        return -1"
   ]
  },
  {
   "cell_type": "code",
   "execution_count": 70,
   "id": "d620e918-2a75-4e41-b91b-7054387b3c30",
   "metadata": {},
   "outputs": [],
   "source": [
    "grid = [[0,0,0],[1,1,0],[1,1,0]]"
   ]
  },
  {
   "cell_type": "code",
   "execution_count": 71,
   "id": "994da284-1221-428e-9ab2-80e50bad878d",
   "metadata": {},
   "outputs": [
    {
     "data": {
      "text/plain": [
       "4"
      ]
     },
     "execution_count": 71,
     "metadata": {},
     "output_type": "execute_result"
    }
   ],
   "source": [
    "s = Solution()\n",
    "s.shortestPathBinaryMatrix(grid)"
   ]
  },
  {
   "cell_type": "markdown",
   "id": "204512ee-bbf0-45ed-adcc-eb2d6570daaf",
   "metadata": {},
   "source": [
    "### 在二维矩阵中搜索，什么时候用BFS，什么时候用DFS？"
   ]
  },
  {
   "cell_type": "markdown",
   "id": "f21b0c1b-afd4-49e3-8e96-c6897d3651fc",
   "metadata": {},
   "source": [
    "1. 如果只是要找到某一个结果是否存在，那么DFS会更高效。因为DFS会首先把一种可能的情况尝试到底，才会回溯去尝试下一种情况，只要找到一种情况，就可以返回了。但是BFS必须所有可能的情况同时尝试，在找到一种满足条件的结果的同时，也尝试了很多不必要的路径；\n",
    "2. 如果是要找所有可能结果中最短的，那么BFS会更高效。因为DFS是一种一种地尝试，在把所有可能的情况试完之前，无法确定哪个是最短。所以DFS必须把所有的情况都找一遍，才能确定最终答案（DFS的优化就是剪枝，不剪枝很容易超时）。而BFS从一开始就是尝试所有情况，所以只要找到第一个达到的那个点，那就是最短的路径，可以直接返回，其他的情况都可以省略了，所以这种情况下，BFS更高效。"
   ]
  },
  {
   "cell_type": "markdown",
   "id": "8d1d6764-c46b-4b37-a9e0-2c342fb2e398",
   "metadata": {},
   "source": [
    "### BFS解法中的visited为什么可以全局使用？"
   ]
  },
  {
   "cell_type": "markdown",
   "id": "bf835de4-3450-4250-bcbe-4e37c1b7994d",
   "metadata": {},
   "source": [
    "BFS是在尝试所有可能的路径，哪个最快到达终点，哪个就是最短。那么每一条路径走过的路不同，visited也应该不同，为什么visited可以全局使用呢？  \n",
    "因为我们要找的是最短路径，那么如果在此之前某个点已经在visited中，也就是说有其他路径在小于或等于当前步数的情况下，到达过这个点，证明到达这个点的最短路径已经被找到。那么显然这个点没必要再尝试了，因为即便去尝试了，最终的结果也不会是最短路径了，所以直接放弃这个点即可。"
   ]
  },
  {
   "cell_type": "markdown",
   "id": "06f0a984-cd6d-46bc-a4d1-d51faf0dcb76",
   "metadata": {},
   "source": [
    "## 934. 最短的桥"
   ]
  },
  {
   "cell_type": "markdown",
   "id": "c6d50180-47f5-4fee-b7e2-58d66af7c715",
   "metadata": {},
   "source": [
    "先遍历完一座岛，再对这个岛上的每个点使用BFS"
   ]
  },
  {
   "cell_type": "code",
   "execution_count": 26,
   "id": "b9b44a38-e5d8-4b73-9a9b-e2c1ad4253b6",
   "metadata": {},
   "outputs": [],
   "source": [
    "from collections import deque\n",
    "from typing import List\n",
    "\n",
    "class Solution:\n",
    "    def shortestBridge(self, grid: List[List[int]]) -> int:\n",
    "        def dfs(x, y):\n",
    "            for dx, dy in ((-1, 0), (1, 0), (0, -1), (0, 1)):\n",
    "                nx, ny = x + dx, y + dy\n",
    "                if 0 <= nx < n and 0 <= ny < n:\n",
    "                    if grid[nx][ny] == 1 and visit[nx][ny]:\n",
    "                        visit[nx][ny] = 0\n",
    "                        island.append((nx, ny, 0))\n",
    "                        dfs(nx, ny)\n",
    "        \n",
    "        n = len(grid)\n",
    "        visit = [[1] * n for _ in range(n)]\n",
    "        island = deque()\n",
    "        for i in range(n):\n",
    "            break1 = 0\n",
    "            for j in range(n):\n",
    "                if grid[i][j] == 1:\n",
    "                    island.append((i, j, 0))\n",
    "                    visit[i][j] = 0\n",
    "                    dfs(i, j)\n",
    "                    break1 = 1\n",
    "                    break\n",
    "            if break1: break\n",
    "        \n",
    "        while island:\n",
    "            # print(island)\n",
    "            x, y, step = island.popleft()\n",
    "            for dx, dy in ((-1, 0), (1, 0), (0, -1), (0, 1)):\n",
    "                nx, ny = x + dx, y + dy\n",
    "                if 0 <= nx < n and 0 <= ny < n:\n",
    "                    if visit[nx][ny]:\n",
    "                        visit[nx][ny] = 0\n",
    "                        if grid[nx][ny] == 1: return step\n",
    "                        grid[nx][ny] = 1\n",
    "                        island.append((nx, ny, step + 1))\n",
    "        \n",
    "        return -1"
   ]
  },
  {
   "cell_type": "code",
   "execution_count": 27,
   "id": "7be27c8e-7b50-4b28-b445-6cb191f9891f",
   "metadata": {},
   "outputs": [],
   "source": [
    "grid = [[1,1,1,1,1],[1,0,0,0,1],[1,0,1,0,1],[1,0,0,0,1],[1,1,1,1,1]]"
   ]
  },
  {
   "cell_type": "code",
   "execution_count": 28,
   "id": "f85b1763-2faa-40e5-89f0-e6a4d512820a",
   "metadata": {},
   "outputs": [
    {
     "data": {
      "text/plain": [
       "1"
      ]
     },
     "execution_count": 28,
     "metadata": {},
     "output_type": "execute_result"
    }
   ],
   "source": [
    "s = Solution()\n",
    "s.shortestBridge(grid)"
   ]
  },
  {
   "cell_type": "markdown",
   "id": "ad4dc431-8c18-4109-93fd-d88e75ba041c",
   "metadata": {},
   "source": [
    "## 1926. 迷宫中离入口最近的出口"
   ]
  },
  {
   "cell_type": "markdown",
   "id": "2d55e90b-fc90-4ec3-a171-0126b25951b9",
   "metadata": {},
   "source": [
    "关键词：最近，因此还是使用BFS"
   ]
  },
  {
   "cell_type": "code",
   "execution_count": 36,
   "id": "daee3312-4e88-4e44-ac90-97b499d9953b",
   "metadata": {},
   "outputs": [],
   "source": [
    "from collections import deque\n",
    "class Solution:\n",
    "    def nearestExit(self, maze: List[List[str]], entrance: List[int]) -> int:\n",
    "        m, n = len(maze), len(maze[0])\n",
    "        sx, sy = entrance[0], entrance[1]\n",
    "        stk = deque([(sx, sy, 0)])\n",
    "        visit = [[1] * n for _ in range(m)]\n",
    "        visit[sx][sy] = 0\n",
    "        \n",
    "        while stk:\n",
    "            x, y, step = stk.popleft()\n",
    "            for dx, dy in ((-1, 0), (1, 0), (0, -1), (0, 1)):\n",
    "                nx, ny = x + dx, y + dy\n",
    "                if 0 <= nx < m and 0 <= ny < n:\n",
    "                    if maze[nx][ny] == \".\" and visit[nx][ny]:\n",
    "                        if nx == 0 or ny == 0 or nx == m - 1 or ny == n - 1:\n",
    "                            return step + 1\n",
    "                        visit[nx][ny] = 0\n",
    "                        stk.append((nx, ny, step + 1))\n",
    "        \n",
    "        return -1"
   ]
  },
  {
   "cell_type": "code",
   "execution_count": 39,
   "id": "0c255bf7-cb4e-4fb1-bbda-5f0c0bb6670c",
   "metadata": {},
   "outputs": [],
   "source": [
    "maze = [[\"+\",\".\",\"+\",\"+\",\"+\",\"+\",\"+\"],[\"+\",\".\",\"+\",\".\",\".\",\".\",\"+\"],[\"+\",\".\",\"+\",\".\",\"+\",\".\",\"+\"],[\"+\",\".\",\".\",\".\",\"+\",\".\",\"+\"],[\"+\",\"+\",\"+\",\"+\",\"+\",\".\",\"+\"]]\n",
    "entrance = [0,1]"
   ]
  },
  {
   "cell_type": "code",
   "execution_count": 40,
   "id": "70f88563-5117-4257-8ecc-bb3dc1cd9b4a",
   "metadata": {},
   "outputs": [
    {
     "data": {
      "text/plain": [
       "12"
      ]
     },
     "execution_count": 40,
     "metadata": {},
     "output_type": "execute_result"
    }
   ],
   "source": [
    "s = Solution()\n",
    "s.nearestExit(maze, entrance)"
   ]
  },
  {
   "cell_type": "markdown",
   "id": "96f5f3df-bac2-4137-9bd9-fb1643b94141",
   "metadata": {},
   "source": [
    "## 841. 钥匙和房间"
   ]
  },
  {
   "cell_type": "markdown",
   "id": "cb1da37f-ac8d-4d9c-8fa7-c80ccb2009e2",
   "metadata": {},
   "source": [
    "此为判断解是否存在的类型，应用DFS较方便"
   ]
  },
  {
   "cell_type": "code",
   "execution_count": 20,
   "id": "f601c33f-31ed-46be-94be-88b72f869231",
   "metadata": {},
   "outputs": [],
   "source": [
    "class Solution:\n",
    "    def canVisitAllRooms(self, rooms: List[List[int]]) -> bool:\n",
    "        def dfs(num: int, cnt: int) -> int:\n",
    "            print(num, cnt)\n",
    "            if cnt == n: return True\n",
    "            ans = False\n",
    "            for nxt in rooms[num]:\n",
    "                if visit[nxt]:\n",
    "                    visit[nxt] = 0\n",
    "                    ans |= dfs(nxt, cnt + 1)\n",
    "                    visit[nxt] = 1\n",
    "            return ans\n",
    "        \n",
    "        n = len(rooms)\n",
    "        visit = [1] * n\n",
    "        visit[0] = 0\n",
    "        return dfs(0, 1)"
   ]
  },
  {
   "cell_type": "code",
   "execution_count": 40,
   "id": "b9aa64f2-0819-4a3d-9638-b9613b94e9be",
   "metadata": {},
   "outputs": [],
   "source": [
    "rooms = [[1],[2],[3],[]]"
   ]
  },
  {
   "cell_type": "code",
   "execution_count": 41,
   "id": "9f0aeabe-a99d-4f2c-846d-162af44ad867",
   "metadata": {},
   "outputs": [
    {
     "data": {
      "text/plain": [
       "True"
      ]
     },
     "execution_count": 41,
     "metadata": {},
     "output_type": "execute_result"
    }
   ],
   "source": [
    "s = Solution()\n",
    "s.canVisitAllRooms(rooms)"
   ]
  },
  {
   "cell_type": "markdown",
   "id": "4e7c7cdf-3483-4c5c-bc27-43c01102a51b",
   "metadata": {},
   "source": [
    "理解错题意了，上述是判断是否有一条路可以遍历完所有房间。  \n",
    "此题还是考察是否能从根节点遍历到所有节点，用BFS思想更好"
   ]
  },
  {
   "cell_type": "code",
   "execution_count": 39,
   "id": "1c064098-e9cc-47f7-9f81-7059d5ecb477",
   "metadata": {},
   "outputs": [],
   "source": [
    "from collections import deque\n",
    "class Solution:\n",
    "    def canVisitAllRooms(self, rooms: List[List[int]]) -> bool:\n",
    "        n, stk = len(rooms), deque([0])\n",
    "        visit = [1] * n\n",
    "        while stk:\n",
    "            # print(visit)\n",
    "            # 说明遍历完了\n",
    "            cur = stk.popleft()\n",
    "            if visit[cur]:\n",
    "                visit[cur] = 0\n",
    "                stk.extend(rooms[cur])\n",
    "            if 1 not in visit: return True\n",
    "        \n",
    "        return False  "
   ]
  },
  {
   "cell_type": "markdown",
   "id": "a61bf0a4-a410-4fb3-bc44-77172c953e27",
   "metadata": {},
   "source": [
    "## 547. 省份数量"
   ]
  },
  {
   "cell_type": "markdown",
   "id": "ee6c6a77-d6ab-40d2-92f7-23e91fb96a66",
   "metadata": {},
   "source": [
    "回顾一下并查集"
   ]
  },
  {
   "cell_type": "code",
   "execution_count": 54,
   "id": "6feae494-5bcd-4d24-a82c-df9f1902d059",
   "metadata": {},
   "outputs": [],
   "source": [
    "class UF:\n",
    "    def __init__(self, n):\n",
    "        self.fa = [i for i in range(n)]\n",
    "        self.rank = [1] * n\n",
    "    \n",
    "    def find(self, x):\n",
    "        if self.fa[x] != x:\n",
    "            self.fa[x] = self.find(self.fa[x])\n",
    "        return self.fa[x]\n",
    "    \n",
    "    def union(self, x, y):\n",
    "        fx, fy = self.find(x), self.find(y)\n",
    "        if fx != fy:\n",
    "            if self.rank[fx] > self.rank[fy]:\n",
    "                fx, fy = fy, fx\n",
    "            self.fa[fx] = fy\n",
    "            if self.rank[fx] == self.rank[fy]:\n",
    "                self.rank[fy] += 1\n",
    "    \n",
    "\n",
    "class Solution:\n",
    "    def findCircleNum(self, isConnected: List[List[int]]) -> int:\n",
    "        n = len(isConnected)\n",
    "        uf = UF(n)\n",
    "        for i in range(n - 1):\n",
    "            for j in range(i + 1, n):\n",
    "                if isConnected[i][j]:\n",
    "                    uf.union(i, j)\n",
    "        # return len(Counter(uf.fa))\n",
    "        # return uf.fa\n",
    "        return sum(uf.fa[i] == i for i in range(n))"
   ]
  },
  {
   "cell_type": "code",
   "execution_count": 55,
   "id": "815550df-e85c-4ae1-aa9b-74ac8a99eeef",
   "metadata": {},
   "outputs": [],
   "source": [
    "isConnected = [[1,0,0,1],[0,1,1,0],[0,1,1,1],[1,0,1,1]]"
   ]
  },
  {
   "cell_type": "code",
   "execution_count": 56,
   "id": "e7c4f389-682d-4f2d-a1a7-4205c599efbf",
   "metadata": {},
   "outputs": [
    {
     "data": {
      "text/plain": [
       "1"
      ]
     },
     "execution_count": 56,
     "metadata": {},
     "output_type": "execute_result"
    }
   ],
   "source": [
    "s = Solution()\n",
    "s.findCircleNum(isConnected)"
   ]
  },
  {
   "cell_type": "markdown",
   "id": "71767ad6-7985-4f6b-af36-e04254f68770",
   "metadata": {},
   "source": [
    "## 1319. 连通网络的操作次数"
   ]
  },
  {
   "cell_type": "code",
   "execution_count": 73,
   "id": "201bd4ae-519c-4e80-8809-a35118e3082a",
   "metadata": {},
   "outputs": [],
   "source": [
    "class UF:\n",
    "    def __init__(self, n):\n",
    "        self.fa = [i for i in range(n)]\n",
    "        self.rank = [1] * n\n",
    "        self.extra = 0  # 记录多余的边的数量\n",
    "        \n",
    "    def find(self, x):\n",
    "        if self.fa[x] != x:\n",
    "            self.fa[x] = self.find(self.fa[x])\n",
    "        return self.fa[x]\n",
    "    \n",
    "    def union(self, x, y):\n",
    "        fx, fy = self.find(x), self.find(y)\n",
    "        if fx != fy:\n",
    "            if self.rank[fx] > self.rank[fy]:\n",
    "                fx, fy = fy, fx\n",
    "            self.fa[fx] = fy\n",
    "            if self.rank[fx] == self.rank[fy]:\n",
    "                self.rank[fy] += 1\n",
    "        else: self.extra += 1  # 若两个元素的父节点相同则代表他们构成的图已经连通，此条边即为多余的边\n",
    "\n",
    "class Solution:\n",
    "    def makeConnected(self, n: int, connections: List[List[int]]) -> int:\n",
    "        uf = UF(n)\n",
    "        for x, y in connections:\n",
    "            uf.union(x, y)\n",
    "        num = sum(uf.fa[i] == i for i in range(n)) - 1  # 统计连接起图中的所有集合需要多少条边\n",
    "        return max(num, 0) if uf.extra >= num else -1  # 这里单独处理了一下所有节点全部连通的情况，即图中只有一个集合，则返回 0"
   ]
  },
  {
   "cell_type": "code",
   "execution_count": 76,
   "id": "b719f9fe-b31b-4382-a766-bc2e83d726da",
   "metadata": {},
   "outputs": [],
   "source": [
    "n = 4\n",
    "connections = [[0,1],[0,2],[1,2]]"
   ]
  },
  {
   "cell_type": "code",
   "execution_count": 77,
   "id": "1a179f5f-ad42-494a-b79f-426859776f57",
   "metadata": {},
   "outputs": [
    {
     "data": {
      "text/plain": [
       "1"
      ]
     },
     "execution_count": 77,
     "metadata": {},
     "output_type": "execute_result"
    }
   ],
   "source": [
    "s = Solution()\n",
    "s.makeConnected(n, connections)"
   ]
  },
  {
   "cell_type": "markdown",
   "id": "b673976a-3c6c-4cec-9ee4-5f67ecbed23e",
   "metadata": {},
   "source": [
    "## 1376. 通知所有员工所需的时间"
   ]
  },
  {
   "cell_type": "code",
   "execution_count": 112,
   "id": "23cbcbe7-4b18-47c9-b249-4d95e2ea5407",
   "metadata": {},
   "outputs": [],
   "source": [
    "class Solution:\n",
    "    def numOfMinutes(self, n: int, headID: int, manager: List[int], informTime: List[int]) -> int:\n",
    "        g = [[] for _ in range(n)]\n",
    "        for i, num in enumerate(manager):\n",
    "            # print(i, num)\n",
    "            if num == -1: continue\n",
    "            g[i].append(num)\n",
    "            g[num].append(i)\n",
    "        \n",
    "        # print(g)\n",
    "        \n",
    "        stk = deque([(headID, 0)])\n",
    "        ans = 0\n",
    "        vis = [1] * n\n",
    "        vis[headID] = 0\n",
    "        while stk:\n",
    "            cur, curt = stk.popleft()\n",
    "            curt += informTime[cur]\n",
    "            ans = max(ans, curt)\n",
    "            for nxt in g[cur]:\n",
    "                if vis[nxt]:\n",
    "                    vis[nxt] = 0\n",
    "                    stk.append((nxt, curt))\n",
    "                    \n",
    "        return ans"
   ]
  },
  {
   "cell_type": "code",
   "execution_count": 113,
   "id": "9ab8e4b0-0cea-48b1-8cbe-1c1f4b8501ba",
   "metadata": {},
   "outputs": [],
   "source": [
    "n = 6\n",
    "headID = 2\n",
    "manager = [2,2,-1,2,2,2]\n",
    "informTime = [0,0,1,0,0,0]"
   ]
  },
  {
   "cell_type": "code",
   "execution_count": 114,
   "id": "f3480cdf-89e1-4575-b41e-abd26366f51e",
   "metadata": {},
   "outputs": [
    {
     "data": {
      "text/plain": [
       "1"
      ]
     },
     "execution_count": 114,
     "metadata": {},
     "output_type": "execute_result"
    }
   ],
   "source": [
    "s = Solution()\n",
    "s.numOfMinutes(n, headID, manager, informTime)"
   ]
  },
  {
   "cell_type": "markdown",
   "id": "2f990c37-09fd-425e-bd75-bc853a73b38d",
   "metadata": {},
   "source": [
    "## 802. 找到最终的安全状态"
   ]
  },
  {
   "cell_type": "markdown",
   "id": "3f7051dd-ce05-485a-ae83-6a93891dd604",
   "metadata": {},
   "source": [
    "dp + dfs + 回溯 ？"
   ]
  },
  {
   "cell_type": "code",
   "execution_count": 138,
   "id": "65141bd7-dcc5-419c-bef3-8acc905cdb61",
   "metadata": {},
   "outputs": [],
   "source": [
    "class Solution:\n",
    "    def eventualSafeNodes(self, graph: List[List[int]]) -> List[int]:\n",
    "        n = len(graph)\n",
    "        vis = [1] * n\n",
    "        memo = {}\n",
    "        \n",
    "        def dp(num):\n",
    "            if num in memo: return memo[num]\n",
    "            if not graph[num]: \n",
    "                memo[num] = 1\n",
    "                return 1\n",
    "            ans = 1\n",
    "            for nxt in graph[num]:\n",
    "                if not vis[nxt]: \n",
    "                    memo[num] = 0\n",
    "                    return memo[num]\n",
    "                vis[nxt] = 0\n",
    "                ans = ans and dp(nxt)\n",
    "                vis[nxt] = 1\n",
    "            \n",
    "            memo[num] = ans\n",
    "            return memo[num]\n",
    "            \n",
    "        res = []\n",
    "        for i in range(n):\n",
    "            if dp(i): res.append(i)\n",
    "            \n",
    "        return res\n",
    "        \n",
    "        "
   ]
  },
  {
   "cell_type": "code",
   "execution_count": 139,
   "id": "4e3d9a61-1d7f-4b9c-90e6-d4fc82e0828c",
   "metadata": {},
   "outputs": [],
   "source": [
    "graph = [[1,2],[2,3],[5],[0],[5],[],[]]"
   ]
  },
  {
   "cell_type": "code",
   "execution_count": 140,
   "id": "1798bd03-daae-4e9f-b13c-51dcb2f5d990",
   "metadata": {},
   "outputs": [
    {
     "data": {
      "text/plain": [
       "[2, 4, 5, 6]"
      ]
     },
     "execution_count": 140,
     "metadata": {},
     "output_type": "execute_result"
    }
   ],
   "source": [
    "s = Solution()\n",
    "s.eventualSafeNodes(graph)"
   ]
  },
  {
   "cell_type": "code",
   "execution_count": null,
   "id": "185adde1-293d-4e8d-a9ff-d8b92306ed3d",
   "metadata": {},
   "outputs": [],
   "source": [
    "def f(i):\n",
    "    if i == 1: return 0\n",
    "    if i == 4:\n",
    "        print(\"$$$$$$$$$$$$\")\n",
    "        return 1\n",
    "    return 1"
   ]
  },
  {
   "cell_type": "markdown",
   "id": "dfd2fe4c-8247-49f4-a82d-da15a6667c51",
   "metadata": {},
   "source": [
    "### 拓扑排序 （再议）"
   ]
  },
  {
   "cell_type": "code",
   "execution_count": null,
   "id": "7b9fc3cd-9316-48f2-8980-8f618f7ed9c9",
   "metadata": {},
   "outputs": [],
   "source": []
  },
  {
   "cell_type": "code",
   "execution_count": null,
   "id": "62b2bf65-d450-4c41-9b7c-ed7c52ad5caa",
   "metadata": {},
   "outputs": [],
   "source": []
  },
  {
   "cell_type": "code",
   "execution_count": null,
   "id": "ae1ba8c5-b40d-4602-93ab-3715a28cc723",
   "metadata": {},
   "outputs": [],
   "source": []
  },
  {
   "cell_type": "code",
   "execution_count": null,
   "id": "a7848497-9e9f-43e3-a4b4-552aaa143879",
   "metadata": {},
   "outputs": [],
   "source": []
  },
  {
   "cell_type": "code",
   "execution_count": null,
   "id": "04e29d31-4d11-4c6b-9619-9cfb5df22cd1",
   "metadata": {},
   "outputs": [],
   "source": []
  },
  {
   "cell_type": "code",
   "execution_count": null,
   "id": "d50b7331-d8b1-4231-a14a-3055fc0fc3f1",
   "metadata": {},
   "outputs": [],
   "source": []
  }
 ],
 "metadata": {
  "kernelspec": {
   "display_name": "Python 3 (ipykernel)",
   "language": "python",
   "name": "python3"
  },
  "language_info": {
   "codemirror_mode": {
    "name": "ipython",
    "version": 3
   },
   "file_extension": ".py",
   "mimetype": "text/x-python",
   "name": "python",
   "nbconvert_exporter": "python",
   "pygments_lexer": "ipython3",
   "version": "3.6.3"
  }
 },
 "nbformat": 4,
 "nbformat_minor": 5
}
