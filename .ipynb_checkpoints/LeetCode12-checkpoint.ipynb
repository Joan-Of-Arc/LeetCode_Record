{
 "cells": [
  {
   "cell_type": "markdown",
   "id": "a719eb91-d7cd-4a60-886e-3916918dd3a3",
   "metadata": {},
   "source": [
    "## 784. 字母大小写全排列"
   ]
  },
  {
   "cell_type": "markdown",
   "id": "b28330d0-e83a-400a-8522-d7ddb0a840cd",
   "metadata": {},
   "source": [
    "回溯"
   ]
  },
  {
   "cell_type": "code",
   "execution_count": 24,
   "id": "37292e0c-038a-45a9-b8b5-578425c64af2",
   "metadata": {},
   "outputs": [],
   "source": [
    "class Solution:\n",
    "    def letterCasePermutation(self, s: str) -> List[str]:\n",
    "        n, ans = len(s), []\n",
    "        alphapos = [i for i in range(n) if s[i].isalpha()]\n",
    "        alphalen = len(alphapos)\n",
    "        def dfs(idx, s):\n",
    "            if idx == alphalen: \n",
    "                ans.append(s)\n",
    "                return\n",
    "            pos = alphapos[idx]\n",
    "            s = s[:pos] + s[pos].lower() + s[pos + 1:]\n",
    "            dfs(idx + 1, s)\n",
    "            s = s[:pos] + s[pos].upper() + s[pos + 1:]\n",
    "            dfs(idx + 1, s)\n",
    "            return\n",
    "        dfs(0, s)\n",
    "        return ans"
   ]
  },
  {
   "cell_type": "code",
   "execution_count": 50,
   "id": "b8259196-f22f-4d6f-a94c-92536a720800",
   "metadata": {},
   "outputs": [],
   "source": [
    "s = \"1a\""
   ]
  },
  {
   "cell_type": "code",
   "execution_count": 51,
   "id": "027c77bc-0260-421d-b85d-a16c11a41dbe",
   "metadata": {},
   "outputs": [
    {
     "data": {
      "text/plain": [
       "['1a', '1A']"
      ]
     },
     "execution_count": 51,
     "metadata": {},
     "output_type": "execute_result"
    }
   ],
   "source": [
    "So = Solution()\n",
    "So.letterCasePermutation(s)"
   ]
  },
  {
   "cell_type": "markdown",
   "id": "dbdf147e-fb52-4775-a208-54d0d653c9fd",
   "metadata": {},
   "source": [
    "### python swapcase(): 进行大小写转换"
   ]
  },
  {
   "cell_type": "code",
   "execution_count": 32,
   "id": "ce5ce6c8-796e-46b5-bcb1-900d16f9bb0f",
   "metadata": {},
   "outputs": [],
   "source": [
    "class Solution:\n",
    "    def letterCasePermutation(self, s: str) -> List[str]:\n",
    "        ans = []\n",
    "        def dfs(s: List[str], pos: int) -> None:\n",
    "            while pos < len(s) and s[pos].isdigit():\n",
    "                pos += 1\n",
    "            if pos == len(s):\n",
    "                ans.append(''.join(s))\n",
    "                return\n",
    "            dfs(s, pos + 1)\n",
    "            s[pos] = s[pos].swapcase()\n",
    "            dfs(s, pos + 1)\n",
    "            s[pos] = s[pos].swapcase()\n",
    "        dfs(list(s), 0)\n",
    "        return ans\n",
    "\n",
    "# 作者：LeetCode-Solution\n",
    "# 链接：https://leetcode.cn/problems/letter-case-permutation/solution/zi-mu-da-xiao-xie-quan-pai-lie-by-leetco-cwpx/\n",
    "# 来源：力扣（LeetCode）\n",
    "# 著作权归作者所有。商业转载请联系作者获得授权，非商业转载请注明出处。"
   ]
  },
  {
   "cell_type": "markdown",
   "id": "381259d2-e43e-4877-9472-6cd8e016549b",
   "metadata": {},
   "source": [
    "秀啊，变成list确实好处理一点，最方便的是可以进行元素替换，最后再进行一次join，即可。"
   ]
  },
  {
   "cell_type": "code",
   "execution_count": 53,
   "id": "5bc3ee8b-c220-47cd-8cd2-742b3037642a",
   "metadata": {},
   "outputs": [],
   "source": [
    "class Solution:\n",
    "    def letterCasePermutation(self, s: str) -> List[str]:\n",
    "        ans, n = [], len(s)\n",
    "        def dfs(pos, s):\n",
    "            # 注意这里要使用while，否则还是会有很多个重复的输出\n",
    "            while pos < n and s[pos].isdigit(): pos += 1\n",
    "            if pos == n: \n",
    "                ans.append(\"\".join(s))\n",
    "                return\n",
    "            dfs(pos + 1, s)\n",
    "            s[pos] = s[pos].swapcase()\n",
    "            dfs(pos + 1, s)\n",
    "            s[pos] = s[pos].swapcase()\n",
    "            # dfs(pos + 1, s)\n",
    "        dfs(0, list(s))\n",
    "        return ans"
   ]
  },
  {
   "cell_type": "markdown",
   "id": "92a97cee-7fe8-4440-a002-1cf4cce18b35",
   "metadata": {},
   "source": [
    "- 时间复杂度：O(n * 2 ^ n)\n",
    "- 空间复杂夫：O(n * 2 ^ n) 递归所用"
   ]
  },
  {
   "cell_type": "markdown",
   "id": "9f7dbc95-9ebc-494e-80d4-9ee09ca87455",
   "metadata": {},
   "source": [
    "## 481. 神奇字符串 (10.31)"
   ]
  },
  {
   "cell_type": "markdown",
   "id": "359a0ba1-d309-4331-8c65-dd12cc90bb66",
   "metadata": {},
   "source": [
    "双指针"
   ]
  },
  {
   "cell_type": "code",
   "execution_count": 73,
   "id": "b18dfa1f-b8b7-43c3-b4bc-c641579666b8",
   "metadata": {},
   "outputs": [],
   "source": [
    "class Solution:\n",
    "    def magicalString(self, n: int) -> int:\n",
    "        s = \"122\"\n",
    "        def dfs(left, pre):\n",
    "            nonlocal s\n",
    "            if len(s) >= n: return s[:n].count(\"1\")\n",
    "            s += str(3 - pre) * int(s[left])\n",
    "            return dfs(left + 1, 3 - pre)\n",
    "        return dfs(2, 2)"
   ]
  },
  {
   "cell_type": "code",
   "execution_count": 76,
   "id": "47c17415-99a3-40d6-b42a-9eab8168f471",
   "metadata": {},
   "outputs": [
    {
     "data": {
      "text/plain": [
       "10"
      ]
     },
     "execution_count": 76,
     "metadata": {},
     "output_type": "execute_result"
    }
   ],
   "source": [
    "s = Solution()\n",
    "s.magicalString(20)"
   ]
  },
  {
   "cell_type": "markdown",
   "id": "b4ae0312-6dd7-4b41-8d4a-f3fcc59329a9",
   "metadata": {},
   "source": [
    "递归用的空间和时间都太多了"
   ]
  },
  {
   "cell_type": "code",
   "execution_count": 75,
   "id": "730f5d80-6cab-4def-bc05-7352e8282d8f",
   "metadata": {},
   "outputs": [],
   "source": [
    "class Solution:\n",
    "    def magicalString(self, n: int) -> int:\n",
    "        s = [1, 2, 2]\n",
    "        left, pre = 2, 2\n",
    "        while len(s) < n:\n",
    "            for i in range(s[left]):\n",
    "                s.append(3 - pre)\n",
    "            left += 1\n",
    "            pre = 3 - pre\n",
    "        return s[:n].count(1)"
   ]
  },
  {
   "cell_type": "markdown",
   "id": "356c1f90-c686-4863-aca6-bc2326a8d480",
   "metadata": {},
   "source": [
    "- 时间复杂度：O(n)\n",
    "- 空间复杂度：O(n)"
   ]
  },
  {
   "cell_type": "markdown",
   "id": "1c541bfa-1bb6-4fc3-82d4-940dd6a17df9",
   "metadata": {},
   "source": [
    "## 862. 和至少为k的最短子数组"
   ]
  },
  {
   "cell_type": "markdown",
   "id": "ce8ef79f-34be-4f05-9a54-8fa40cab6450",
   "metadata": {},
   "source": [
    "先试试prefix暴搜"
   ]
  },
  {
   "cell_type": "markdown",
   "id": "bc51848a-d2e7-4031-8661-4a7631758565",
   "metadata": {},
   "source": [
    "好饿啊，明天再做"
   ]
  },
  {
   "cell_type": "markdown",
   "id": "4c1ead8c-273e-4589-ae71-1032d0d92f58",
   "metadata": {},
   "source": [
    "## 907. 子数组的最小值之和"
   ]
  },
  {
   "cell_type": "markdown",
   "id": "35bb5883-5d3b-4be8-b847-0b5d710e64e3",
   "metadata": {},
   "source": [
    "## 1668. 最大重复子字符串 (11.3)"
   ]
  },
  {
   "cell_type": "markdown",
   "id": "f090d9d8-7b45-49c7-a9bc-104c23a5fbb4",
   "metadata": {},
   "source": [
    "KMP + DP"
   ]
  },
  {
   "cell_type": "code",
   "execution_count": 4,
   "id": "40971f18-7f8d-4379-85ab-c50e67cb4df9",
   "metadata": {},
   "outputs": [],
   "source": [
    "class Solution:\n",
    "    def maxRepeating(self, sequence: str, word: str) -> int:\n",
    "        n, m = len(sequence), len(word)\n",
    "        if n < m:\n",
    "            return 0\n",
    "\n",
    "        fail = [-1] * m\n",
    "        for i in range(1, m):\n",
    "            j = fail[i - 1]\n",
    "            while j != -1 and word[j + 1] != word[i]:\n",
    "                j = fail[j]\n",
    "            if word[j + 1] == word[i]:\n",
    "                fail[i] = j + 1\n",
    "        \n",
    "        f = [0] * n\n",
    "        j = -1\n",
    "        for i in range(n):\n",
    "            while j != -1 and word[j + 1] != sequence[i]:\n",
    "                j = fail[j]\n",
    "            if word[j + 1] == sequence[i]:\n",
    "                j += 1\n",
    "                if j == m - 1:\n",
    "                    f[i] = (0 if i == m - 1 else f[i - m]) + 1\n",
    "                    j = fail[j]\n",
    "        \n",
    "        return max(f)\n",
    "\n",
    "# 作者：LeetCode-Solution\n",
    "# 链接：https://leetcode.cn/problems/maximum-repeating-substring/solution/zui-da-zhong-fu-zi-zi-fu-chuan-by-leetco-r4cp/\n",
    "# 来源：力扣（LeetCode）\n",
    "# 著作权归作者所有。商业转载请联系作者获得授权，非商业转载请注明出处。"
   ]
  },
  {
   "cell_type": "code",
   "execution_count": 5,
   "id": "3833584c-29bf-4726-bd28-14cc5b1927ff",
   "metadata": {},
   "outputs": [],
   "source": [
    "sequence = \"aaabaaaabaaabaaaabaaaabaaaabaaaaba\"\n",
    "word = \"aaaba\""
   ]
  },
  {
   "cell_type": "markdown",
   "id": "d7d250f1-7dce-453c-9b8b-8c64aca2861b",
   "metadata": {},
   "source": [
    "### 暴力"
   ]
  },
  {
   "cell_type": "code",
   "execution_count": 7,
   "id": "313d3c86-999a-4ee9-b712-6903cb91d143",
   "metadata": {},
   "outputs": [],
   "source": [
    "class Solution:\n",
    "    def maxRepeating(self, sequence: str, word: str) -> int:\n",
    "        ans = 0\n",
    "        for i in range(len(sequence) // len(word)):\n",
    "            if word * (i + 1) in sequence: ans = i + 1\n",
    "        return ans"
   ]
  },
  {
   "cell_type": "markdown",
   "id": "caaaacc2-6f7c-4fbc-b161-563f1531bacd",
   "metadata": {},
   "source": [
    "## 754. 到达终点数字 (11.4)"
   ]
  },
  {
   "cell_type": "code",
   "execution_count": 21,
   "id": "f8cbe5de-362c-477a-a666-492f5fb1ed51",
   "metadata": {},
   "outputs": [],
   "source": [
    "class Solution:\n",
    "    def reachNumber(self, target: int) -> int:\n",
    "        target = abs(target)\n",
    "        left, right = 0, target\n",
    "        while left <= right:\n",
    "            mid = (left + right) // 2\n",
    "            sum_ = (mid * (mid + 1)) // 2\n",
    "            if sum_ == target: return mid\n",
    "            if sum_ > target: right = mid - 1\n",
    "            else: left = mid + 1\n",
    "        sum_ = (left * (left + 1)) // 2\n",
    "        if not (sum_ - target) & 1: return left\n",
    "        else: return left + 1 if not (sum_ - target + left + 1) & 1 else left + 2"
   ]
  },
  {
   "cell_type": "code",
   "execution_count": 22,
   "id": "4389fe81-77a9-49e2-83ba-821ef54a17fc",
   "metadata": {},
   "outputs": [
    {
     "data": {
      "text/plain": [
       "5"
      ]
     },
     "execution_count": 22,
     "metadata": {},
     "output_type": "execute_result"
    }
   ],
   "source": [
    "s = Solution()\n",
    "s.reachNumber(11)"
   ]
  },
  {
   "cell_type": "markdown",
   "id": "ed7662c7-d526-4feb-a50b-33f925216f20",
   "metadata": {},
   "source": [
    "- 时间复杂度：O(log  target)\n",
    "- 空间复杂度：O(1)"
   ]
  },
  {
   "cell_type": "markdown",
   "id": "8d0ef1a3-08ca-4d76-9f01-b1296d3affe6",
   "metadata": {},
   "source": [
    "不用二分试试"
   ]
  },
  {
   "cell_type": "code",
   "execution_count": 18,
   "id": "60f1574c-9f8e-4239-943d-897917a70b90",
   "metadata": {},
   "outputs": [],
   "source": [
    "class Solution:\n",
    "    def reachNumber(self, target: int) -> int:\n",
    "        sum_, i = 0, 0\n",
    "        target = abs(target)\n",
    "        while sum_ < target or (sum_ - target) % 2:\n",
    "            i += 1\n",
    "            sum_ += i\n",
    "        return i"
   ]
  },
  {
   "cell_type": "markdown",
   "id": "1c95fe3b-9dd1-410d-ac0d-ee245a495de2",
   "metadata": {},
   "source": [
    "- 时间复杂度：O($\\sqrt{|target|}$)\n",
    "- 空间复杂度：O(1)"
   ]
  },
  {
   "cell_type": "code",
   "execution_count": 20,
   "id": "7ad361d0-5651-4d43-85dd-75bf420d37bc",
   "metadata": {},
   "outputs": [],
   "source": [
    "class Solution:\n",
    "    def reachNumber(self, target: int) -> int:\n",
    "        target = abs(target)\n",
    "        n = ceil((-1 + (8 * target + 1) ** 0.5) / 2)\n",
    "        return n if (n * (n + 1) // 2 - target) % 2 == 0 else n + 1 + n % 2\n",
    "\n",
    "# 作者：endlesscheng\n",
    "# 链接：https://leetcode.cn/problems/reach-a-number/solution/fen-lei-tao-lun-xiang-xi-zheng-ming-jian-sqj2/\n",
    "# 来源：力扣（LeetCode）\n",
    "# 著作权归作者所有。商业转载请联系作者获得授权，非商业转载请注明出处。"
   ]
  },
  {
   "cell_type": "markdown",
   "id": "a330c9a8-7128-436c-9a6b-371478013b83",
   "metadata": {},
   "source": [
    "O(1), O(1)"
   ]
  },
  {
   "cell_type": "markdown",
   "id": "b14bb713-ddfa-49eb-b4ad-debbc76cf281",
   "metadata": {},
   "source": [
    "## 1106. 解析布尔表达式 (11.06)"
   ]
  },
  {
   "cell_type": "markdown",
   "id": "98c1775c-4bac-45cd-8b29-2e7b2dc9353b",
   "metadata": {},
   "source": [
    "运算符栈和布尔值栈\n",
    "\n",
    "- 遇到运算符，将运算符入栈，同时指针移动到下下个位置，将布尔值(t, f, ...)堆入布尔栈。\n",
    "- 遇到右括号，从布尔栈中弹出元素，其中“非”运算符只需弹出一个元素，其余运算符一直弹到栈空。\n",
    "- 为简化运算可以使用短路机制，若当前操作符是“与”，则弹出的布尔值若有“f”，则直接清空栈并压入“f”；\n",
    "  同理“或”运算当弹出的值有“t”则直接清空栈并压入“t”。"
   ]
  },
  {
   "cell_type": "code",
   "execution_count": 37,
   "id": "49840605-e1da-46ba-b882-43cc4eb20c42",
   "metadata": {},
   "outputs": [],
   "source": [
    "class Solution:\n",
    "    def parseBoolExpr(self, expression: str) -> bool:\n",
    "        # t : 1, f : 0\n",
    "        oprator, ele = [], []\n",
    "        op = {\"!\": 0, \"&\" : 1, \"|\": 2}\n",
    "        for ch in expression:\n",
    "            print(oprator, ele)\n",
    "            if ch == \"(\" or ch == \",\": continue\n",
    "            if ch == \")\":\n",
    "                cur = oprator.pop()\n",
    "                if cur == 0: ele[-1] = 1 - ele[-1]\n",
    "                elif cur == 1: ele = [0] if 0 in ele else [1]\n",
    "                else: ele = [1] if 1 in ele else [0]\n",
    "            if ch in op: oprator.append(op[ch])\n",
    "            if ch == \"t\": ele.append(1)\n",
    "            if ch == \"f\": ele.append(0)\n",
    "        return bool(ele[-1])"
   ]
  },
  {
   "cell_type": "code",
   "execution_count": 38,
   "id": "5f93c668-9d25-4d82-aa83-3864748b9708",
   "metadata": {},
   "outputs": [],
   "source": [
    "expression = \"|(f,&(t,t))\""
   ]
  },
  {
   "cell_type": "code",
   "execution_count": 39,
   "id": "1c4ce46f-1009-42b6-96e0-65f27af09ba8",
   "metadata": {},
   "outputs": [
    {
     "name": "stdout",
     "output_type": "stream",
     "text": [
      "[] []\n",
      "[2] []\n",
      "[2] []\n",
      "[2] [0]\n",
      "[2] [0]\n",
      "[2, 1] [0]\n",
      "[2, 1] [0]\n",
      "[2, 1] [0, 1]\n",
      "[2, 1] [0, 1]\n",
      "[2, 1] [0, 1, 1]\n",
      "[2] [0]\n"
     ]
    },
    {
     "data": {
      "text/plain": [
       "False"
      ]
     },
     "execution_count": 39,
     "metadata": {},
     "output_type": "execute_result"
    }
   ],
   "source": [
    "s = Solution()\n",
    "s.parseBoolExpr(expression)"
   ]
  },
  {
   "cell_type": "markdown",
   "id": "4f45b888-a06e-4cf5-ba7b-04eeba7df240",
   "metadata": {},
   "source": [
    "bug1: ele弹出到的位置与oprator的位置有关，把运算符压入栈的时候需要记住ele要弹到什么位置。"
   ]
  },
  {
   "cell_type": "code",
   "execution_count": 49,
   "id": "658f9df9-717e-4732-8178-1ca255c4a0b9",
   "metadata": {},
   "outputs": [],
   "source": [
    "class Solution:\n",
    "    def parseBoolExpr(self, expression: str) -> bool:\n",
    "        # t : 1, f : 0\n",
    "        oprator, ele = [], []\n",
    "        op = {\"!\": 0, \"&\" : 1, \"|\": 2}\n",
    "        for ch in expression:\n",
    "            # print(oprator, ele)\n",
    "            if ch == \"(\" or ch == \",\": continue\n",
    "            if ch == \")\":\n",
    "                cur, start = oprator.pop()\n",
    "                if cur == 0: ele[-1] = 1 - ele[-1]\n",
    "                elif cur == 1: ele[start:] = [0] if 0 in ele[start:] else [1]\n",
    "                else: ele[start:] = [1] if 1 in ele[start:] else [0]\n",
    "            if ch in op: oprator.append((op[ch], len(ele)))\n",
    "            if ch == \"t\": ele.append(1)\n",
    "            if ch == \"f\": ele.append(0)\n",
    "        return bool(ele[-1])"
   ]
  },
  {
   "cell_type": "code",
   "execution_count": 50,
   "id": "a442135f-2411-4df9-929e-8cf274e1fedc",
   "metadata": {},
   "outputs": [],
   "source": [
    "expression = \"!(&(&(f),&(!(t),&(f),|(f)),&(!(&(f)),&(t),|(f,f,t))))\""
   ]
  },
  {
   "cell_type": "code",
   "execution_count": 51,
   "id": "0a05fc1d-48e8-4db9-9a30-f08b6e06c9e8",
   "metadata": {},
   "outputs": [
    {
     "data": {
      "text/plain": [
       "True"
      ]
     },
     "execution_count": 51,
     "metadata": {},
     "output_type": "execute_result"
    }
   ],
   "source": [
    "s = Solution()\n",
    "s.parseBoolExpr(expression)"
   ]
  },
  {
   "cell_type": "markdown",
   "id": "df3da97a-a7cf-48d7-8fc2-b29308a4b6b2",
   "metadata": {},
   "source": [
    "## 1678. 设计Goal解析器 (11.6)"
   ]
  },
  {
   "cell_type": "code",
   "execution_count": 1,
   "id": "94ea29fb-981b-460a-93d9-29b33d5959cf",
   "metadata": {},
   "outputs": [],
   "source": [
    "class Solution:\n",
    "    def interpret(self, command: str) -> str:\n",
    "        stk, res = [], []\n",
    "        for ch in command:\n",
    "            if ch == \"(\": continue\n",
    "            if ch == \")\":\n",
    "                if not stk: res.append(\"o\")\n",
    "                else: \n",
    "                    res.extend(stk)\n",
    "                    stk = []\n",
    "                continue\n",
    "            if ch == \"G\": res.append(\"G\")\n",
    "            else: stk.append(ch)\n",
    "        return \"\".join(res)"
   ]
  },
  {
   "cell_type": "markdown",
   "id": "214c4035-2fea-4a6c-8ab2-f3acfe1e54c5",
   "metadata": {},
   "source": [
    "O(n), O(1)"
   ]
  },
  {
   "cell_type": "code",
   "execution_count": 2,
   "id": "36a9e412-bbc6-4caf-9b44-6ea461a981cf",
   "metadata": {},
   "outputs": [],
   "source": [
    "class Solution:\n",
    "    def interpret(self, command: str) -> str:\n",
    "        res = []\n",
    "        for i, c in enumerate(command):\n",
    "            if c == 'G':\n",
    "                res.append(c)\n",
    "            elif c == '(':\n",
    "                res.append('o' if command[i + 1] == ')' else 'al')\n",
    "        return ''.join(res)\n",
    "\n",
    "# 作者：LeetCode-Solution\n",
    "# 链接：https://leetcode.cn/problems/goal-parser-interpretation/solution/she-ji-goal-jie-xi-qi-by-leetcode-soluti-npnp/\n",
    "# 来源：力扣（LeetCode）\n",
    "# 著作权归作者所有。商业转载请联系作者获得授权，非商业转载请注明出处。"
   ]
  },
  {
   "cell_type": "markdown",
   "id": "ea71e5d3-a5f0-4509-8b01-3d27260f9367",
   "metadata": {},
   "source": [
    "三种模式匹配的方法更为简单"
   ]
  },
  {
   "cell_type": "code",
   "execution_count": 3,
   "id": "fe5514e1-f532-4bf2-b127-ab7f870709b4",
   "metadata": {},
   "outputs": [],
   "source": [
    "class Solution:\n",
    "    def interpret(self, command: str) -> str:\n",
    "        res = []\n",
    "        for i, ch in enumerate(command):\n",
    "            if ch == \"G\": res.append(\"G\")\n",
    "            if ch == \"(\":\n",
    "                res.append(\"o\" if command[i + 1] == \")\" else \"al\")\n",
    "        return \"\".join(res)"
   ]
  },
  {
   "cell_type": "markdown",
   "id": "1f15d2a1-4602-4f23-bcd0-93b74b8d0180",
   "metadata": {},
   "source": [
    "- 时间复杂度：O(n)\n",
    "- 空间复杂度：O(1) 除返回值不需要额外的空间"
   ]
  },
  {
   "cell_type": "markdown",
   "id": "c8465f90-d520-484c-b004-5b2bc7d589e1",
   "metadata": {},
   "source": [
    "## 2033. 获取单值网格的最小操作数"
   ]
  },
  {
   "cell_type": "markdown",
   "id": "5a66f695-0032-4fdb-a608-e36ad9671e9a",
   "metadata": {},
   "source": [
    "其实和矩阵也没啥关系"
   ]
  },
  {
   "cell_type": "code",
   "execution_count": 25,
   "id": "5ff7cd70-49a5-448b-957d-e4860062d9bc",
   "metadata": {},
   "outputs": [],
   "source": [
    "from typing import List\n",
    "class Solution:\n",
    "    def minOperations(self, grid: List[List[int]], x: int) -> int:\n",
    "        res = []\n",
    "        for row in grid: res.extend(row)\n",
    "        res.sort()\n",
    "        p = res[0]\n",
    "        for i, n in enumerate(res):\n",
    "            res[i] -= p\n",
    "            if res[i] % x != 0: return -1\n",
    "        a, b = res[i // 2], res[i // 2 + 1]\n",
    "        ans1 = ans2 = 0\n",
    "        # print(res, a, b)\n",
    "        for n in res:\n",
    "            ans1 += abs(n - a) // x\n",
    "            ans2 += abs(n - b) // x\n",
    "        return min(ans1, ans2)"
   ]
  },
  {
   "cell_type": "code",
   "execution_count": 28,
   "id": "731450f2-35fc-473e-9d40-54bcb592c00e",
   "metadata": {},
   "outputs": [],
   "source": [
    "grid = [[1,2],[3,4]]\n",
    "x = 2"
   ]
  },
  {
   "cell_type": "code",
   "execution_count": 29,
   "id": "55752776-205b-4589-9a3f-17f8e7cce1f6",
   "metadata": {},
   "outputs": [
    {
     "data": {
      "text/plain": [
       "-1"
      ]
     },
     "execution_count": 29,
     "metadata": {},
     "output_type": "execute_result"
    }
   ],
   "source": [
    "s = Solution()\n",
    "s.minOperations(grid, x)"
   ]
  },
  {
   "cell_type": "markdown",
   "id": "db2eee63-4f06-4292-8292-a493ff2da804",
   "metadata": {},
   "source": [
    "## 816. 模糊坐标 (11.7)"
   ]
  },
  {
   "cell_type": "markdown",
   "id": "4b7eda80-6bd7-486a-94f3-197a82bdbce7",
   "metadata": {},
   "source": [
    "就是在字符串中插入三个字符：\".\", \", \", \".\"  \n",
    "其中逗号必选，小数点可以不选，再剔除不合法的情况。"
   ]
  },
  {
   "cell_type": "code",
   "execution_count": 18,
   "id": "c9cca478-9730-4b89-9f39-bc4c97bf7fe3",
   "metadata": {},
   "outputs": [],
   "source": [
    "from typing import List\n",
    "class Solution:\n",
    "    def ambiguousCoordinates(self, s: str) -> List[str]:\n",
    "        n = len(s)\n",
    "        res = []\n",
    "        for i in range(1, n - 2):\n",
    "            cur1 = s[:i + 1] + \".\" + s[i + 1:]\n",
    "            for j in range(i + 2, n - 1):\n",
    "                cur2 = cur1[:j + 1] + \", \" + cur1[j + 1:]\n",
    "                for k in range(j + 2, n):\n",
    "                    res.append(cur2[:k + 2] + \".\" + cur2[k + 2:])\n",
    "        return res    "
   ]
  },
  {
   "cell_type": "code",
   "execution_count": 23,
   "id": "8708f237-a205-4856-9d88-18438e350998",
   "metadata": {},
   "outputs": [],
   "source": [
    "a = \"(12345)\""
   ]
  },
  {
   "cell_type": "code",
   "execution_count": 24,
   "id": "c8f7ce78-7392-47ea-819e-d748cc0ab7d0",
   "metadata": {},
   "outputs": [
    {
     "data": {
      "text/plain": [
       "['(1.2, 3.45)', '(1.2, 34.5)', '(1.23, 4.5)', '(12.3, 4.5)']"
      ]
     },
     "execution_count": 24,
     "metadata": {},
     "output_type": "execute_result"
    }
   ],
   "source": [
    "s = Solution()\n",
    "s.ambiguousCoordinates(a)"
   ]
  },
  {
   "cell_type": "code",
   "execution_count": 25,
   "id": "3d94fc0b-bf52-435f-84e0-af79a825ebe3",
   "metadata": {},
   "outputs": [],
   "source": [
    "class Solution:\n",
    "    def ambiguousCoordinates(self, s: str) -> List[str]:\n",
    "        def get_pos(s: str) -> List[str]:\n",
    "            pos = []\n",
    "            if s[0] != '0' or s == '0':\n",
    "                pos.append(s)\n",
    "            for p in range(1, len(s)):\n",
    "                if p != 1 and s[0] == '0' or s[-1] == '0':\n",
    "                    continue\n",
    "                pos.append(s[:p] + '.' + s[p:])\n",
    "            return pos\n",
    "\n",
    "        n = len(s) - 2\n",
    "        res = []\n",
    "        s = s[1: len(s) - 1]\n",
    "        for l in range(1, n):\n",
    "            lt = get_pos(s[:l])\n",
    "            if len(lt) == 0:\n",
    "                continue\n",
    "            rt = get_pos(s[l:])\n",
    "            if len(rt) == 0:\n",
    "                continue\n",
    "            for i, j in product(lt, rt):\n",
    "                res.append('(' + i + ', ' + j + ')')\n",
    "        return res\n",
    "\n",
    "# 作者：LeetCode-Solution\n",
    "# 链接：https://leetcode.cn/problems/ambiguous-coordinates/solution/mo-hu-zuo-biao-by-leetcode-solution-y1yz/\n",
    "# 来源：力扣（LeetCode）\n",
    "# 著作权归作者所有。商业转载请联系作者获得授权，非商业转载请注明出处。"
   ]
  },
  {
   "cell_type": "markdown",
   "id": "c1057fdc-bff9-4da6-a733-80a6a4a8fe30",
   "metadata": {},
   "source": [
    "### python product:\n",
    "\n",
    "product(A, B, ...)函数，返回 A 和 B 中的元素组成的笛卡尔积的元组。  \n",
    "即将A中的每一个元素和B中的每一个元素组合成元组返回。\n",
    "\n",
    "注意：如果有一个对象为空则会返回空"
   ]
  },
  {
   "cell_type": "code",
   "execution_count": 33,
   "id": "5936e595-48d1-4a98-90e8-713d383db5f5",
   "metadata": {},
   "outputs": [],
   "source": [
    "def get_pos(s: str) -> List[str]:\n",
    "    pos = []\n",
    "    if s[0] != '0' or s == '0':\n",
    "        pos.append(s)\n",
    "    for p in range(1, len(s)):\n",
    "        # 1. 如果有前导零那么只有一种添加小数点的方法即0.xxx\n",
    "        # 2. 如果最后一位是0那加了小数点必然是不合法分割，直接continue\n",
    "        if p != 1 and s[0] == '0' or s[-1] == '0': continue\n",
    "        pos.append(s[:p] + '.' + s[p:])\n",
    "    return pos"
   ]
  },
  {
   "cell_type": "code",
   "execution_count": 34,
   "id": "bab89281-fc25-440d-986d-1c516f97c124",
   "metadata": {},
   "outputs": [
    {
     "data": {
      "text/plain": [
       "[]"
      ]
     },
     "execution_count": 34,
     "metadata": {},
     "output_type": "execute_result"
    }
   ],
   "source": [
    "s = \"001230\"\n",
    "get_pos(s)"
   ]
  },
  {
   "cell_type": "markdown",
   "id": "0161f0d1-2ca9-48bf-a41a-256430616065",
   "metadata": {},
   "source": [
    "思路：\n",
    "\n",
    "既然product可以计算笛卡尔积，那么需要做的事情就是枚举中间的 \", \" 位置，再分别计算前后的合法分割数，用product计算笛卡尔积即可。"
   ]
  },
  {
   "cell_type": "markdown",
   "id": "946e6359-3fa0-4066-ab8d-303137e24e35",
   "metadata": {},
   "source": [
    "## 764. 最大加号标志 (11.9)"
   ]
  },
  {
   "cell_type": "markdown",
   "id": "782c3ff8-a501-42ae-a273-86a847fa85b5",
   "metadata": {},
   "source": [
    "暴力"
   ]
  },
  {
   "cell_type": "code",
   "execution_count": 2,
   "id": "52e456bd-4a90-4635-a36b-bd61934e5f86",
   "metadata": {},
   "outputs": [],
   "source": [
    "from typing import List\n",
    "class Solution:\n",
    "    def orderOfLargestPlusSign(self, n: int, mines: List[List[int]]) -> int:\n",
    "        def getnum(x, y):\n",
    "            if [x, y] in mines: return 0\n",
    "            if 0 <= x < n and 0 <= y < n: return 1\n",
    "            return 0\n",
    "        \n",
    "        def judge(x, y):\n",
    "            flag, cnt = 1, 0\n",
    "            while flag:\n",
    "                cnt += 1\n",
    "                flag = getnum(x - cnt, y) and getnum(x + cnt, y)\\\n",
    "                and getnum(x, y - cnt) and getnum(x, y + cnt)\n",
    "            return cnt\n",
    "            \n",
    "        ans = 0\n",
    "        for r in range(n):\n",
    "            for c in range(n):\n",
    "                if getnum(r, c) == 0: continue\n",
    "                ans = max(ans, judge(r, c))\n",
    "        return ans"
   ]
  },
  {
   "cell_type": "code",
   "execution_count": 7,
   "id": "d6ce9571-4669-4736-802b-ff286e48f885",
   "metadata": {},
   "outputs": [],
   "source": [
    "n = 10\n",
    "mines = [[0, 0]]"
   ]
  },
  {
   "cell_type": "code",
   "execution_count": 8,
   "id": "8bf5d92d-9c63-46cf-a6d0-b299dbed96ed",
   "metadata": {},
   "outputs": [
    {
     "data": {
      "text/plain": [
       "5"
      ]
     },
     "execution_count": 8,
     "metadata": {},
     "output_type": "execute_result"
    }
   ],
   "source": [
    "s = Solution()\n",
    "s.orderOfLargestPlusSign(n, mines)"
   ]
  },
  {
   "cell_type": "markdown",
   "id": "0e3a296c-bb1d-425e-8352-254c36f2cdbe",
   "metadata": {},
   "source": [
    "- 时间复杂度：O(n**3 * m)\n",
    "- 空间复杂度：O(1)"
   ]
  },
  {
   "cell_type": "code",
   "execution_count": null,
   "id": "2b0104d1-526a-4f3d-b96b-28f9463e46f4",
   "metadata": {},
   "outputs": [],
   "source": [
    "from typing import List\n",
    "class Solution:\n",
    "    def orderOfLargestPlusSign(self, n: int, mines: List[List[int]]) -> int:\n",
    "        def getnum(x, y):\n",
    "            if (x < 0 or x >= n) or (y < 0 or y >= n): return 0\n",
    "            return matrix[x][y]\n",
    "        \n",
    "        def judge(x, y):\n",
    "            flag, cnt = 1, 0\n",
    "            while flag:\n",
    "                cnt += 1\n",
    "                flag = getnum(x - cnt, y) and getnum(x + cnt, y)\\\n",
    "                and getnum(x, y - cnt) and getnum(x, y + cnt)\n",
    "            return cnt\n",
    "            \n",
    "        ans = 0\n",
    "        matrix = [[1] * n for _ in range(n)]\n",
    "        for i, j in mines: matrix[i][j] = 0\n",
    "        for r in range(n):\n",
    "            for c in range(n):\n",
    "                if getnum(r, c) == 0: continue\n",
    "                ans = max(ans, judge(r, c))\n",
    "        return ans"
   ]
  },
  {
   "cell_type": "markdown",
   "id": "cb047b01-4a5b-4edb-92e6-a262741f9d50",
   "metadata": {},
   "source": [
    "- 时间复杂度：O(n ** 3)\n",
    "- 空间复杂度：O(n ** 2)"
   ]
  },
  {
   "cell_type": "markdown",
   "id": "6cf57dd2-6bf2-48b5-9122-33f106170a40",
   "metadata": {},
   "source": [
    "超时"
   ]
  },
  {
   "cell_type": "markdown",
   "id": "519782b1-4190-43d4-aa13-d6a292a1d7ec",
   "metadata": {},
   "source": [
    "### 方法一：dp"
   ]
  },
  {
   "cell_type": "markdown",
   "id": "ce1cf704-5dd5-44de-bdb2-87b7c433a05e",
   "metadata": {},
   "source": [
    "定义 $dp[i][j][d]$ 为矩阵中 $[i][j]$ 处元素在 $d$ 方向上的连续 1 的最大值。则在 $[i][j]$ 处能形成的最大加号为：\n",
    "$$min(dp[i][j][left],\\ dp[i][j][right],\\ dp[i][j][up],\\ dp[i][j][down])$$\n",
    "状态转移方程为：\n",
    "$$dp[i][j][left] = dp[i][j - 1][left] + 1$$\n",
    "其他方向状态相似。"
   ]
  },
  {
   "cell_type": "code",
   "execution_count": 43,
   "id": "053f4400-41eb-48b8-a46f-f65a556cde28",
   "metadata": {},
   "outputs": [],
   "source": [
    "from typing import List\n",
    "class Solution:\n",
    "    def orderOfLargestPlusSign(self, n: int, mines: List[List[int]]) -> int:\n",
    "        # 0: left 1: right 2: up 3:down\n",
    "        def dp(i, j, d):\n",
    "            if (i < 0 or i >= n) or (j < 0 or j >= n): return 0\n",
    "            if matrix[i][j] == 0: return 0\n",
    "            if (i, j, d) in memo: return memo[(i, j, d)]\n",
    "            x, y = i, j\n",
    "            if d == 0: y -= 1\n",
    "            if d == 1: y += 1\n",
    "            if d == 2: x -= 1\n",
    "            if d == 3: x += 1\n",
    "            memo[(i, j, d)] = 1 + dp(x, y, d)\n",
    "            return memo[(i, j, d)]\n",
    "        \n",
    "        memo, ans = {}, 0\n",
    "        matrix = [[1] * n for _ in range(n)]\n",
    "        # print(matrix)\n",
    "        for x, y in mines: matrix[x][y] = 0\n",
    "        for i in range(n):\n",
    "            for j in range(n):\n",
    "                cur = min(dp(i, j - 1, 0), dp(i, j + 1, 1),\\\n",
    "                          dp(i - 1, j, 2), dp(i + 1, j, 3)) + 1\n",
    "                ans = max(ans, cur)\n",
    "        print(memo)\n",
    "        return ans"
   ]
  },
  {
   "cell_type": "code",
   "execution_count": 44,
   "id": "e0b837dd-0e62-47bc-afe3-eef3d4bfbf15",
   "metadata": {},
   "outputs": [],
   "source": [
    "n = 500\n",
    "mines = [[0, 0]]"
   ]
  },
  {
   "cell_type": "code",
   "execution_count": 45,
   "id": "e4d0f2b0-ee2c-42a6-9897-8e48bdc56b95",
   "metadata": {},
   "outputs": [
    {
     "name": "stderr",
     "output_type": "stream",
     "text": [
      "IOPub data rate exceeded.\n",
      "The Jupyter server will temporarily stop sending output\n",
      "to the client in order to avoid crashing it.\n",
      "To change this limit, set the config variable\n",
      "`--ServerApp.iopub_data_rate_limit`.\n",
      "\n",
      "Current values:\n",
      "ServerApp.iopub_data_rate_limit=1000000.0 (bytes/sec)\n",
      "ServerApp.rate_limit_window=3.0 (secs)\n",
      "\n"
     ]
    },
    {
     "data": {
      "text/plain": [
       "250"
      ]
     },
     "execution_count": 45,
     "metadata": {},
     "output_type": "execute_result"
    }
   ],
   "source": [
    "s = Solution()\n",
    "s.orderOfLargestPlusSign(n, mines)"
   ]
  },
  {
   "cell_type": "markdown",
   "id": "e614760f-b3bd-4793-aaf6-6f9c1ad2928a",
   "metadata": {},
   "source": [
    "思路与算法：\n",
    "\n",
    "对于每个中心点坐标 $(i, j)$ ，分别从上下左右四个方向计算从 $(i, j)$ 开始的最长连续 1的个数。设 $dp[i][j][k]$ 表示以 $(i, j)$ 为起点在方向 $k$ 上的连续 1 的最大数目：\n",
    "- 如果 $grid[i][j]$ 为 0 ，那么此时该方向的连续 1 的最大数目为 0 ；\n",
    "- 如果 $grid[i][j]$ 为 1 ，那么此时该方向的连续 1 的最大数目为该方向上前一个单元为起点的最大数目加 1 ；\n",
    "\n",
    "在实际计算时，我们为了方便计算只用 $dp[i][j]$ 保存四个方向中最小的连续1的个数即可。"
   ]
  },
  {
   "cell_type": "markdown",
   "id": "3a7383a4-a1ca-43ec-9f36-d80dd7a39c0d",
   "metadata": {},
   "source": [
    "### 类型转换的简洁写法"
   ]
  },
  {
   "cell_type": "markdown",
   "id": "20a6698b-324d-48be-bc2e-96e17c5674f1",
   "metadata": {},
   "source": [
    "1. 大规模数据查找使用set要比list的效率高得多，list是线性复杂度，set的复杂度只有O(1)\n",
    "2. 比起list，tuple是一种轻量的数据结构，储存相同信息的情况下，list要使用更多的内存来记住当前信息以进行resize操作。因此存储固定数据尽量使用tuple与set。"
   ]
  },
  {
   "cell_type": "code",
   "execution_count": 4,
   "id": "e14b11aa-5e51-46cc-9fa5-a252a13ed45f",
   "metadata": {},
   "outputs": [
    {
     "data": {
      "text/plain": [
       "{(1, 2), (3, 4)}"
      ]
     },
     "execution_count": 4,
     "metadata": {},
     "output_type": "execute_result"
    }
   ],
   "source": [
    "a = [[1,2], [3,4]]\n",
    "set(map(tuple, a))"
   ]
  },
  {
   "cell_type": "code",
   "execution_count": 9,
   "id": "95c6aebc-1b9f-4a64-9287-e455c0e5fe85",
   "metadata": {},
   "outputs": [],
   "source": [
    "from typing import List\n",
    "class Solution:\n",
    "    def orderOfLargestPlusSign(self, n: int, mines: List[List[int]]) -> int:\n",
    "        mines = set(map(tuple, mines))\n",
    "        dp = [[n] * n for _ in range(n)]\n",
    "        for i in range(n):\n",
    "            # left\n",
    "            cnt = 0\n",
    "            for j in range(n):\n",
    "                cnt = 0 if (i, j) in mines else cnt + 1\n",
    "                dp[i][j] = min(dp[i][j], cnt)\n",
    "            # right\n",
    "            cnt = 0\n",
    "            for j in range(n - 1, -1, -1):\n",
    "                cnt = 0 if (i, j) in mines else cnt + 1\n",
    "                dp[i][j] = min(dp[i][j], cnt)\n",
    "        \n",
    "        for j in range(n):\n",
    "            # up\n",
    "            cnt = 0\n",
    "            for i in range(n):\n",
    "                cnt = 0 if (i, j) in mines else cnt + 1\n",
    "                dp[i][j] = min(dp[i][j], cnt)\n",
    "            # down\n",
    "            cnt = 0\n",
    "            for i in range(n - 1, -1, -1):\n",
    "                cnt = 0 if (i, j) in mines else cnt + 1\n",
    "                dp[i][j] = min(dp[i][j], cnt)\n",
    "        \n",
    "        return max(map(max, dp))"
   ]
  },
  {
   "cell_type": "markdown",
   "id": "3fac7ab4-1310-4112-8734-5cbd8dbdc16c",
   "metadata": {},
   "source": [
    "- 时间复杂度：O(n**2)\n",
    "- 空间复杂度：O(n**2)"
   ]
  },
  {
   "cell_type": "markdown",
   "id": "7b810a30-8548-4810-8a42-96603e5425ac",
   "metadata": {},
   "source": [
    "## 864. 获取所有钥匙的最短路径 (11.10)"
   ]
  },
  {
   "cell_type": "code",
   "execution_count": 49,
   "id": "052beaa5-beae-4242-8ec9-4c48234aed7a",
   "metadata": {},
   "outputs": [],
   "source": [
    "from typing import List\n",
    "from collections import deque\n",
    "class Solution:\n",
    "    def shortestPathAllKeys(self, grid: List[str]) -> int:\n",
    "        direct = ((-1, 0), (1, 0), (0, -1), (0 ,1))\n",
    "        m, n = len(grid), len(grid[0])\n",
    "        sx = sy = 0\n",
    "        keys = {}\n",
    "        for i in range(m):\n",
    "            for j in range(n):\n",
    "                if grid[i][j] == \"@\": sx, sy = i, j\n",
    "                if grid[i][j].islower(): keys[grid[i][j]] = len(keys)\n",
    "        queue = deque([(sx, sy, 0)])\n",
    "        steps = {}\n",
    "        steps[(sx, sy, 0)] = 0\n",
    "        while queue:\n",
    "            x, y, mask = queue.popleft()\n",
    "            for dx, dy in direct:\n",
    "                nx, ny = x + dx, y + dy\n",
    "                if 0 <= nx < m and 0 <= ny < n and grid[nx][ny] != \"#\":\n",
    "                    ch = grid[nx][ny]\n",
    "                    if ch == \".\" or ch == \"@\":\n",
    "                        if (nx, ny, mask) not in steps:\n",
    "                            steps[(nx, ny, mask)] = steps[(x, y, mask)] + 1\n",
    "                            queue.append((nx, ny, mask))\n",
    "                    elif ch.islower():\n",
    "                        idx = keys[ch]\n",
    "                        nmask = mask | (1 << idx)\n",
    "                        if (nx, ny, nmask) not in steps:\n",
    "                            steps[(nx, ny, nmask)] = steps[(x, y, mask)] + 1\n",
    "                            if nmask == (1 << len(keys)) - 1: return steps[(nx, ny, nmask)] \n",
    "                            queue.append((nx, ny, nmask))\n",
    "                    else:\n",
    "                        idx = keys[ch.lower()]\n",
    "                        if (mask & 1 << idx) and (nx, ny, mask) not in steps:\n",
    "                            steps[(nx, ny, mask)] = steps[(x, y, mask)] + 1\n",
    "                            queue.append((nx, ny, mask))\n",
    "                    \n",
    "        return -1"
   ]
  },
  {
   "cell_type": "code",
   "execution_count": 50,
   "id": "2be9a9b6-ebca-40f3-8c7f-a005c8328d81",
   "metadata": {},
   "outputs": [],
   "source": [
    "grid = [\"@..aA\",\"..B#.\",\"....b\"]"
   ]
  },
  {
   "cell_type": "code",
   "execution_count": 51,
   "id": "840e3d1f-c4bf-4613-9629-305b949ff55e",
   "metadata": {},
   "outputs": [
    {
     "data": {
      "text/plain": [
       "6"
      ]
     },
     "execution_count": 51,
     "metadata": {},
     "output_type": "execute_result"
    }
   ],
   "source": [
    "s = Solution()\n",
    "s.shortestPathAllKeys(grid)"
   ]
  },
  {
   "cell_type": "markdown",
   "id": "5e37e0da-28eb-4dab-abf3-e197866cc3bb",
   "metadata": {},
   "source": [
    "- 时间复杂度：O(mn * 2 ** k)\n",
    "- 空间复杂度：O(mn * 2 ** k)"
   ]
  },
  {
   "cell_type": "markdown",
   "id": "ddf6bc0e-de33-4206-8cef-d017a9d4d97a",
   "metadata": {},
   "source": [
    "## 1704. 判断字符串的两半是否相似 (11.11)"
   ]
  },
  {
   "cell_type": "code",
   "execution_count": 4,
   "id": "2a0ac1fd-85f0-46f9-96ef-6bb144264a2f",
   "metadata": {},
   "outputs": [],
   "source": [
    "class Solution:\n",
    "    def halvesAreAlike(self, s: str) -> bool:\n",
    "        return sum(c in \"aeiouAEIOU\" for c in s[:len(s)//2]) == sum(c in \"aeiouAEIOU\" for c in s[len(s)//2:])"
   ]
  },
  {
   "cell_type": "markdown",
   "id": "46b1c991-4a1c-4298-963d-c57234bae574",
   "metadata": {},
   "source": [
    "- 时间复杂度：O(n)\n",
    "- 空间复杂度：O(1)"
   ]
  },
  {
   "cell_type": "markdown",
   "id": "22b3e8a3-d9f7-416b-b9dc-277eeb2bbc10",
   "metadata": {},
   "source": [
    "# 做点路径问题"
   ]
  },
  {
   "cell_type": "markdown",
   "id": "086b41d3-2216-46b1-8c40-dff092e9d3fe",
   "metadata": {},
   "source": [
    "## 797. 所有可能的路径"
   ]
  },
  {
   "cell_type": "markdown",
   "id": "cadece0c-ad7f-4ff1-a3b5-0952546d9d27",
   "metadata": {},
   "source": [
    "DFS，BFS"
   ]
  },
  {
   "cell_type": "code",
   "execution_count": 21,
   "id": "53f07e83-7c88-494d-9b13-6bd2a2397173",
   "metadata": {},
   "outputs": [],
   "source": [
    "# DFS\n",
    "from typing import List\n",
    "class Solution:\n",
    "    def allPathsSourceTarget(self, graph: List[List[int]]) -> List[List[int]]:\n",
    "        end = len(graph) - 1\n",
    "        ans = []\n",
    "        def dfs(cur, path):\n",
    "            if cur == end: \n",
    "                ans.append(path)\n",
    "                # return\n",
    "            for nxt in graph[cur]:\n",
    "                # npath = path + [nxt]\n",
    "                # dfs(nxt, npath)\n",
    "                dfs(nxt, path + [nxt])\n",
    "            return\n",
    "        dfs(0, [0])\n",
    "        return ans"
   ]
  },
  {
   "cell_type": "code",
   "execution_count": 35,
   "id": "20b4ac6e-d103-4b70-975d-7a2c15210fdc",
   "metadata": {},
   "outputs": [],
   "source": [
    "graph = [[4,3,1],[3,2,4],[3],[4],[]]"
   ]
  },
  {
   "cell_type": "code",
   "execution_count": 36,
   "id": "68a4a588-3a8c-453b-ba9c-bea76f448431",
   "metadata": {},
   "outputs": [
    {
     "data": {
      "text/plain": [
       "[[0, 4], [0, 3, 4], [0, 1, 4], [0, 1, 3, 4], [0, 1, 2, 3, 4]]"
      ]
     },
     "execution_count": 36,
     "metadata": {},
     "output_type": "execute_result"
    }
   ],
   "source": [
    "s = Solution()\n",
    "s.allPathsSourceTarget(graph)"
   ]
  },
  {
   "cell_type": "markdown",
   "id": "52e5acef-9c17-494f-a035-5f2c5b1038bc",
   "metadata": {},
   "source": [
    "当前节点没有连接到下个节点则不进行遍历，直接执行最下面的return，因此if里不需要单独return"
   ]
  },
  {
   "cell_type": "code",
   "execution_count": 24,
   "id": "8887fde4-c792-4c62-a122-5f10e475c574",
   "metadata": {},
   "outputs": [],
   "source": [
    "# DFS\n",
    "from typing import List\n",
    "class Solution:\n",
    "    def allPathsSourceTarget(self, graph: List[List[int]]) -> List[List[int]]:\n",
    "        ans, end = [], len(graph) - 1\n",
    "        def dfs(cur, path):\n",
    "            if cur == end: ans.append(path)\n",
    "            for nxt in graph[cur]: dfs(nxt, path + [nxt])\n",
    "            return\n",
    "        dfs(0, [0])\n",
    "        return ans"
   ]
  },
  {
   "cell_type": "markdown",
   "id": "c558f96a-f782-4c74-a253-f34647f04f1e",
   "metadata": {},
   "source": [
    "- 时间复杂度：O($\\Sigma$)，其中 $\\Sigma$ 为边的数量\n",
    "- 空间复杂度：O(n)，递归栈空间最大深度为n，对应所有点在一条链上的情况"
   ]
  },
  {
   "cell_type": "code",
   "execution_count": 37,
   "id": "92c24d6e-6e7b-4781-b910-bf34d17ebd34",
   "metadata": {},
   "outputs": [],
   "source": [
    "# BFS\n",
    "from typing import List\n",
    "from collections import deque\n",
    "class Solution:\n",
    "    def allPathsSourceTarget(self, graph: List[List[int]]) -> List[List[int]]:\n",
    "        end, ans, q = len(graph) - 1, [], deque([(0, [0])])\n",
    "        while q:\n",
    "            cur, path = q.popleft()\n",
    "            if cur == end: ans.append(path)\n",
    "            for n in graph[cur]: q.append((n, path + [n]))\n",
    "        return ans"
   ]
  },
  {
   "cell_type": "markdown",
   "id": "99aa2ed6-aca3-465a-be63-26b6255b4d48",
   "metadata": {},
   "source": [
    "## 剑指offerⅡ 098. 路径的数目 （同62）"
   ]
  },
  {
   "cell_type": "markdown",
   "id": "3a50f1ca-8824-4db3-b929-eedd6c1a9cf3",
   "metadata": {},
   "source": [
    "就是想再爽写一遍dp"
   ]
  },
  {
   "cell_type": "code",
   "execution_count": 69,
   "id": "3ad37d40-7efb-45c4-8bfb-6eabf867b256",
   "metadata": {},
   "outputs": [],
   "source": [
    "from functools import lru_cache\n",
    "class Solution:\n",
    "    def uniquePaths(self, m: int, n: int) -> int:\n",
    "        @lru_cache(1000)\n",
    "        def dp(x, y):\n",
    "            if x > m or y > n: return 0\n",
    "            if x == m and y == n: return 1\n",
    "            return dp(x + 1, y) + dp(x, y + 1)\n",
    "        return dp(1, 1)"
   ]
  },
  {
   "cell_type": "code",
   "execution_count": 70,
   "id": "01746914-c42b-49a8-941f-b800145e7ae1",
   "metadata": {},
   "outputs": [],
   "source": [
    "m = 100\n",
    "n = 100"
   ]
  },
  {
   "cell_type": "code",
   "execution_count": 71,
   "id": "b3dd1671-1792-46d5-b7ef-95c50dbcbd7f",
   "metadata": {},
   "outputs": [
    {
     "data": {
      "text/plain": [
       "22750883079422934966181954039568885395604168260154104734000"
      ]
     },
     "execution_count": 71,
     "metadata": {},
     "output_type": "execute_result"
    }
   ],
   "source": [
    "s = Solution()\n",
    "s.uniquePaths(m, n)"
   ]
  },
  {
   "cell_type": "markdown",
   "id": "dbbf9627-aa1a-4727-b0b8-98fd893c5982",
   "metadata": {},
   "source": [
    "## 64. 最小路径和"
   ]
  },
  {
   "cell_type": "code",
   "execution_count": 84,
   "id": "bf967f57-a364-4a32-96c9-7cd36c104c24",
   "metadata": {},
   "outputs": [],
   "source": [
    "from functools import lru_cache\n",
    "class Solution:\n",
    "    def minPathSum(self, grid: List[List[int]]) -> int:\n",
    "        m, n = len(grid), len(grid[0])\n",
    "        ans = float(\"inf\")\n",
    "        @lru_cache(1000)\n",
    "        def dp(x, y, cur):\n",
    "            nonlocal ans\n",
    "            if x >= m or y >= n: return\n",
    "            cur += grid[x][y]\n",
    "            if x == m - 1 and y == n - 1: ans = min(ans, cur)\n",
    "            dp(x + 1, y, cur)\n",
    "            dp(x, y + 1, cur)\n",
    "        dp(0, 0, 0)\n",
    "        return ans"
   ]
  },
  {
   "cell_type": "code",
   "execution_count": 91,
   "id": "107f24e7-2d8c-4cad-9498-b1bec1a2625f",
   "metadata": {},
   "outputs": [],
   "source": [
    "grid = [[1,2,3],[4,5,6]]"
   ]
  },
  {
   "cell_type": "code",
   "execution_count": 92,
   "id": "c70ce07d-7b4e-4aa1-b88f-c926c75ea610",
   "metadata": {},
   "outputs": [
    {
     "data": {
      "text/plain": [
       "12"
      ]
     },
     "execution_count": 92,
     "metadata": {},
     "output_type": "execute_result"
    }
   ],
   "source": [
    "s = Solution()\n",
    "s.minPathSum(grid)"
   ]
  },
  {
   "cell_type": "markdown",
   "id": "fa340ff6-f02a-46e9-8474-06351f9dacb3",
   "metadata": {},
   "source": [
    "dp, 记录每个位置到达终点的最短路径和，从低更新至dp[0][0]"
   ]
  },
  {
   "cell_type": "code",
   "execution_count": 90,
   "id": "a8d082c7-098f-48cd-aad4-21d447c01b82",
   "metadata": {},
   "outputs": [],
   "source": [
    "class Solution:\n",
    "    def minPathSum(self, grid: List[List[int]]) -> int:\n",
    "        m, n = len(grid) - 1, len(grid[0]) - 1\n",
    "        memo = {(m, n): grid[m][n]}\n",
    "        def dp(x, y):\n",
    "            if (x, y) in memo: return memo[(x, y)]\n",
    "            # 到了终点\n",
    "            if x == m and y == n: return memo[(m, n)]\n",
    "            # 最后一行\n",
    "            if x == m:\n",
    "                memo[(x, y)] = dp(x, y + 1) + grid[x][y]\n",
    "                return memo[(x, y)]\n",
    "            # 最后一列\n",
    "            if y == n: \n",
    "                memo[(x, y)] = dp(x + 1, y) + grid[x][y]\n",
    "                return memo[(x, y)]\n",
    "            memo[(x, y)] = min(dp(x + 1, y), dp(x, y + 1)) + grid[x][y]\n",
    "            return memo[(x, y)]\n",
    "        dp(0, 0)\n",
    "        return memo[(0, 0)]"
   ]
  },
  {
   "cell_type": "code",
   "execution_count": 93,
   "id": "327ad1c9-daff-4d1c-b0ed-50304bc3676b",
   "metadata": {},
   "outputs": [],
   "source": [
    "from functools import lru_cache\n",
    "class Solution:\n",
    "    def minPathSum(self, grid: List[List[int]]) -> int:\n",
    "        m, n = len(grid) - 1, len(grid[0]) - 1\n",
    "        @lru_cache(1000)\n",
    "        def dp(x, y):\n",
    "            if x == m and y == n: return grid[m][n]\n",
    "            if x == m: return dp(x, y + 1) + grid[x][y]\n",
    "            if y == n: return dp(x + 1, y) + grid[x][y]\n",
    "            return min(dp(x + 1, y), dp(x, y + 1)) + grid[x][y]\n",
    "        return dp(0, 0)"
   ]
  },
  {
   "cell_type": "markdown",
   "id": "0a644e5a-1588-4014-a5b4-ac130ee9fc96",
   "metadata": {},
   "source": [
    "- 时间复杂度：O(mn) 遍历数组\n",
    "- 空间复杂度：O(mn) dp状态"
   ]
  },
  {
   "cell_type": "markdown",
   "id": "d2d2bab1-55d0-46c5-9d2a-ae5b51dddb02",
   "metadata": {},
   "source": [
    "## 79. 单词搜索  "
   ]
  },
  {
   "cell_type": "markdown",
   "id": "39ad829b-c978-4729-b804-145ab58e786c",
   "metadata": {},
   "source": [
    "再做一遍回溯"
   ]
  },
  {
   "cell_type": "code",
   "execution_count": 26,
   "id": "aedece3c-350d-4f3f-9ef5-184f4101af0a",
   "metadata": {},
   "outputs": [],
   "source": [
    "from typing import List\n",
    "class Solution:\n",
    "    def exist(self, board: List[List[str]], word: str) -> bool:\n",
    "        def dfs(x, y, cur):\n",
    "            print(cur)\n",
    "            d = ((-1, 0), (1, 0), (0, -1), (0, 1))\n",
    "            if cur == len(word): return True\n",
    "            flag = False\n",
    "            for dx, dy in d:\n",
    "                nx, ny = x + dx, y + dy\n",
    "                if 0 <= nx < m and 0 <= ny < n:\n",
    "                    if board[nx][ny] == word[cur]:\n",
    "                        flag |= dfs(nx, ny, cur + 1)\n",
    "            return flag\n",
    "        \n",
    "        m, n = len(board), len(board[0])\n",
    "        ans = False\n",
    "        for i in range(m):\n",
    "            for j in range(n):\n",
    "                if board[i][j] == word[0]:\n",
    "                    ans |= dfs(i, j, 1)\n",
    "        \n",
    "        return ans"
   ]
  },
  {
   "cell_type": "code",
   "execution_count": 36,
   "id": "93a829c3-a8c6-4333-893f-1c5fecf76ebb",
   "metadata": {},
   "outputs": [],
   "source": [
    "board = [[\"A\",\"B\",\"C\",\"E\"],[\"S\",\"F\",\"C\",\"S\"],[\"A\",\"D\",\"E\",\"E\"]]\n",
    "word = \"ABCB\""
   ]
  },
  {
   "cell_type": "code",
   "execution_count": 37,
   "id": "96b23d22-dba6-4cc4-b0c9-995535adba93",
   "metadata": {},
   "outputs": [
    {
     "name": "stdout",
     "output_type": "stream",
     "text": [
      "1\n",
      "2\n",
      "3\n",
      "1\n"
     ]
    },
    {
     "data": {
      "text/plain": [
       "False"
      ]
     },
     "execution_count": 37,
     "metadata": {},
     "output_type": "execute_result"
    }
   ],
   "source": [
    "s = Solution()\n",
    "s.exist(board, word)"
   ]
  },
  {
   "cell_type": "markdown",
   "id": "bfd95a17-7d45-4aa9-9378-dccb46a33ae2",
   "metadata": {},
   "source": [
    "没有定义path"
   ]
  },
  {
   "cell_type": "code",
   "execution_count": 38,
   "id": "8760d16f-641c-4b03-8603-1f41b942f5c3",
   "metadata": {},
   "outputs": [],
   "source": [
    "from typing import List\n",
    "class Solution:\n",
    "    def exist(self, board: List[List[str]], word: str) -> bool:\n",
    "        def dfs(x, y, cur):\n",
    "            print(cur)\n",
    "            d = ((-1, 0), (1, 0), (0, -1), (0, 1))\n",
    "            if cur == len(word): return True\n",
    "            # 定义flag的目的：当找到一个合法解，那么递归层层跳出去最后返回的还应该是True\n",
    "            flag = False\n",
    "            for dx, dy in d:\n",
    "                nx, ny = x + dx, y + dy\n",
    "                if 0 <= nx < m and 0 <= ny < n:\n",
    "                    if board[nx][ny] == word[cur] and path[nx][ny]:\n",
    "                        path[nx][ny] = 0\n",
    "                        flag |= dfs(nx, ny, cur + 1)\n",
    "                        path[nx][ny] = 1\n",
    "            return flag\n",
    "        \n",
    "        m, n = len(board), len(board[0])\n",
    "        path = [[1] * n for _ in range(m)]\n",
    "        ans = False\n",
    "        for i in range(m):\n",
    "            for j in range(n):\n",
    "                if board[i][j] == word[0]:\n",
    "                    path[i][j] = 0\n",
    "                    ans |= dfs(i, j, 1)\n",
    "                    path[i][j] = 1\n",
    "        return ans"
   ]
  },
  {
   "cell_type": "markdown",
   "id": "ac238bcc-fc9e-459b-99e7-83bd03191de8",
   "metadata": {},
   "source": [
    "- 时间复杂度：$O(MN \\cdot 3^L)$ 为时间复杂度的一个宽松上界，实际复杂度要小于这个值。\n",
    "- 空间复杂度：$O(MN)$， 我们额外开辟了 $O(MN)$ 的 path 数组，同时栈的深度最大为 $O(min(L, MN))$"
   ]
  },
  {
   "cell_type": "markdown",
   "id": "84e6ab20-1173-421f-aa2a-48b6f4b3b2db",
   "metadata": {},
   "source": [
    "## 437. 路经总和 Ⅲ"
   ]
  },
  {
   "cell_type": "markdown",
   "id": "0edd107b-c225-4bcf-8bc9-435c84a80807",
   "metadata": {},
   "source": [
    "前缀和 + 递归"
   ]
  },
  {
   "cell_type": "code",
   "execution_count": 39,
   "id": "6dece54b-8e05-4d23-ba3b-32e582f7d2bc",
   "metadata": {},
   "outputs": [],
   "source": [
    "# Definition for a binary tree node.\n",
    "class TreeNode:\n",
    "    def __init__(self, val=0, left=None, right=None):\n",
    "        self.val = val\n",
    "        self.left = left\n",
    "        self.right = right"
   ]
  },
  {
   "cell_type": "code",
   "execution_count": 44,
   "id": "f6b1120c-ea7d-4b4a-9677-f58cf8c3317e",
   "metadata": {},
   "outputs": [],
   "source": [
    "from typing import Optional\n",
    "class Solution:\n",
    "    def pathSum(self, root: Optional[TreeNode], targetSum: int) -> int:\n",
    "        ans = 0\n",
    "        def dfs(node, cur):\n",
    "            if not node: return\n",
    "            nonlocal ans\n",
    "            if ans in cur: ans += 1\n",
    "            cur = [pre - node.val for pre in cur] + [targetSum - node.val]\n",
    "            dfs(node.left, cur)\n",
    "            dfs(node.right, cur)\n",
    "        dfs(root, [])\n",
    "        return ans + 1 if root.val == targetSum else ans"
   ]
  },
  {
   "cell_type": "code",
   "execution_count": null,
   "id": "8d48eecc-67f6-4833-b25d-e29c21f66cd0",
   "metadata": {},
   "outputs": [],
   "source": []
  },
  {
   "cell_type": "code",
   "execution_count": null,
   "id": "204ad66f-1a35-41c7-a348-f5ec51decd32",
   "metadata": {},
   "outputs": [],
   "source": []
  },
  {
   "cell_type": "code",
   "execution_count": null,
   "id": "32eb637d-9c33-412c-9cee-e693a2aac3f2",
   "metadata": {},
   "outputs": [],
   "source": []
  },
  {
   "cell_type": "code",
   "execution_count": null,
   "id": "19cd6a40-ef88-43b2-9d03-ef38ce735f76",
   "metadata": {},
   "outputs": [],
   "source": []
  },
  {
   "cell_type": "code",
   "execution_count": null,
   "id": "0479d006-1bb6-44e1-8801-eb0707524781",
   "metadata": {},
   "outputs": [],
   "source": []
  },
  {
   "cell_type": "code",
   "execution_count": null,
   "id": "713e7ee0-05a8-481c-af30-3dac63874502",
   "metadata": {},
   "outputs": [],
   "source": []
  },
  {
   "cell_type": "code",
   "execution_count": null,
   "id": "004824f9-b9cb-4ed7-a74c-08fb25e8d8d9",
   "metadata": {},
   "outputs": [],
   "source": []
  },
  {
   "cell_type": "code",
   "execution_count": null,
   "id": "1c59447d-cef2-4fb7-9ac4-937f2d6fe809",
   "metadata": {},
   "outputs": [],
   "source": []
  },
  {
   "cell_type": "code",
   "execution_count": null,
   "id": "125f5aab-f8a6-454c-a0ac-671513f4eff9",
   "metadata": {},
   "outputs": [],
   "source": []
  },
  {
   "cell_type": "code",
   "execution_count": null,
   "id": "c53d6b31-917d-4ac0-91e4-2235442c1de7",
   "metadata": {},
   "outputs": [],
   "source": []
  },
  {
   "cell_type": "code",
   "execution_count": null,
   "id": "0b3ecadd-ec19-43cb-af4b-4ff300a94938",
   "metadata": {},
   "outputs": [],
   "source": []
  },
  {
   "cell_type": "code",
   "execution_count": null,
   "id": "d2c5f664-21f5-4acc-80a5-7c4682b7ceb0",
   "metadata": {},
   "outputs": [],
   "source": []
  },
  {
   "cell_type": "code",
   "execution_count": null,
   "id": "4802214a-b101-48ca-985d-6aecbcb17186",
   "metadata": {},
   "outputs": [],
   "source": []
  },
  {
   "cell_type": "code",
   "execution_count": null,
   "id": "0d802267-9c99-466c-b6e5-98fb0a769f8b",
   "metadata": {},
   "outputs": [],
   "source": []
  },
  {
   "cell_type": "code",
   "execution_count": null,
   "id": "b7f35849-aaa5-40c2-8cfa-2f795b066abc",
   "metadata": {},
   "outputs": [],
   "source": []
  },
  {
   "cell_type": "code",
   "execution_count": null,
   "id": "4a916d38-872d-4c09-99d4-ac8de84effe7",
   "metadata": {},
   "outputs": [],
   "source": []
  },
  {
   "cell_type": "code",
   "execution_count": null,
   "id": "f8da9c92-3e2d-4ce3-9d56-b19de79948de",
   "metadata": {},
   "outputs": [],
   "source": []
  },
  {
   "cell_type": "code",
   "execution_count": null,
   "id": "85a22e92-b162-4509-a589-4e67b62ba6c4",
   "metadata": {},
   "outputs": [],
   "source": []
  },
  {
   "cell_type": "code",
   "execution_count": null,
   "id": "5514eb9d-b09f-47d2-84db-2e15de067b8f",
   "metadata": {},
   "outputs": [],
   "source": []
  },
  {
   "cell_type": "code",
   "execution_count": null,
   "id": "90bd7dd8-bc51-48ac-9c71-4de2cab370cb",
   "metadata": {},
   "outputs": [],
   "source": []
  },
  {
   "cell_type": "code",
   "execution_count": null,
   "id": "5eaa5d64-8c2f-49c8-be5d-05584910ff2d",
   "metadata": {},
   "outputs": [],
   "source": []
  },
  {
   "cell_type": "code",
   "execution_count": null,
   "id": "c7370a9c-ed1b-4d1b-b740-09090cc79d73",
   "metadata": {},
   "outputs": [],
   "source": []
  },
  {
   "cell_type": "code",
   "execution_count": null,
   "id": "1f2c1682-9f81-4f4c-8503-80672ec98e69",
   "metadata": {},
   "outputs": [],
   "source": []
  },
  {
   "cell_type": "code",
   "execution_count": null,
   "id": "c227e9fb-955a-44c0-b4a2-8eed9c31e6a3",
   "metadata": {},
   "outputs": [],
   "source": []
  },
  {
   "cell_type": "code",
   "execution_count": null,
   "id": "c604ebea-29b1-46bd-9084-c8d6f8d8349b",
   "metadata": {},
   "outputs": [],
   "source": []
  },
  {
   "cell_type": "code",
   "execution_count": null,
   "id": "e9e64156-781d-46fc-b76a-9ab36948a5d7",
   "metadata": {},
   "outputs": [],
   "source": []
  },
  {
   "cell_type": "code",
   "execution_count": null,
   "id": "ff2fccf9-77ea-41b2-a478-64c52a9d7302",
   "metadata": {},
   "outputs": [],
   "source": []
  },
  {
   "cell_type": "code",
   "execution_count": null,
   "id": "2e93ba7e-eaa8-4b1e-a3ba-c5851fda586f",
   "metadata": {},
   "outputs": [],
   "source": []
  },
  {
   "cell_type": "code",
   "execution_count": null,
   "id": "909e9d88-f0ef-48b2-a115-229469b8f2b3",
   "metadata": {},
   "outputs": [],
   "source": []
  },
  {
   "cell_type": "code",
   "execution_count": null,
   "id": "db60b767-eb13-4c3e-92ed-95bdcd946d1d",
   "metadata": {},
   "outputs": [],
   "source": []
  },
  {
   "cell_type": "code",
   "execution_count": null,
   "id": "8540082f-7802-4658-879c-55e6626abfd1",
   "metadata": {},
   "outputs": [],
   "source": []
  },
  {
   "cell_type": "code",
   "execution_count": null,
   "id": "b26ca1b6-2f0d-4f2d-8567-a1997b6c5be5",
   "metadata": {},
   "outputs": [],
   "source": []
  },
  {
   "cell_type": "code",
   "execution_count": null,
   "id": "c487776d-21ff-42bd-a8d3-b7b4002fe8b6",
   "metadata": {},
   "outputs": [],
   "source": []
  },
  {
   "cell_type": "code",
   "execution_count": null,
   "id": "96f0ef64-0681-4d8e-a754-7e0a9a4b391a",
   "metadata": {},
   "outputs": [],
   "source": []
  },
  {
   "cell_type": "code",
   "execution_count": null,
   "id": "fe3656ad-5d29-4202-b0f2-bdeb90f815ad",
   "metadata": {},
   "outputs": [],
   "source": []
  },
  {
   "cell_type": "code",
   "execution_count": null,
   "id": "4f6d8b8f-5dfc-4e76-98af-7e0a08053a86",
   "metadata": {},
   "outputs": [],
   "source": []
  },
  {
   "cell_type": "code",
   "execution_count": null,
   "id": "ddffc630-ce7c-41fd-9604-8adde9e8e09b",
   "metadata": {},
   "outputs": [],
   "source": []
  },
  {
   "cell_type": "code",
   "execution_count": null,
   "id": "3d45b76e-687d-4c12-a80f-c0c2570d3f02",
   "metadata": {},
   "outputs": [],
   "source": []
  },
  {
   "cell_type": "code",
   "execution_count": null,
   "id": "ef6eec90-ff9a-4860-910d-eca35fc3a5c3",
   "metadata": {},
   "outputs": [],
   "source": []
  },
  {
   "cell_type": "code",
   "execution_count": null,
   "id": "e6ccec5d-fe24-4c7e-a493-d6c55b6f6f72",
   "metadata": {},
   "outputs": [],
   "source": []
  },
  {
   "cell_type": "code",
   "execution_count": null,
   "id": "f079f7b6-95c4-4dd9-812c-2fbaa528a2b7",
   "metadata": {},
   "outputs": [],
   "source": []
  },
  {
   "cell_type": "code",
   "execution_count": null,
   "id": "0ef1af6f-d7bd-4a70-80bf-c80f65e13431",
   "metadata": {},
   "outputs": [],
   "source": []
  },
  {
   "cell_type": "code",
   "execution_count": null,
   "id": "33926828-8598-498d-8aff-915bbe6dc9e9",
   "metadata": {},
   "outputs": [],
   "source": []
  },
  {
   "cell_type": "code",
   "execution_count": null,
   "id": "4d712b88-f264-4a2f-9853-e4f8145f78af",
   "metadata": {},
   "outputs": [],
   "source": []
  },
  {
   "cell_type": "code",
   "execution_count": null,
   "id": "c4532261-f9fb-48f1-aa68-d470b044e254",
   "metadata": {},
   "outputs": [],
   "source": []
  },
  {
   "cell_type": "code",
   "execution_count": null,
   "id": "7c7fd2ac-45fe-4144-ba4c-bc9107af6c7f",
   "metadata": {},
   "outputs": [],
   "source": []
  },
  {
   "cell_type": "code",
   "execution_count": null,
   "id": "d9349609-28fc-4a82-ba84-7bf8bb9b6b11",
   "metadata": {},
   "outputs": [],
   "source": []
  },
  {
   "cell_type": "code",
   "execution_count": null,
   "id": "042a3f5e-d2d2-49b9-80f9-867412eaee58",
   "metadata": {},
   "outputs": [],
   "source": []
  },
  {
   "cell_type": "code",
   "execution_count": null,
   "id": "85b39a96-1168-4863-b635-1453449cb776",
   "metadata": {},
   "outputs": [],
   "source": []
  },
  {
   "cell_type": "code",
   "execution_count": null,
   "id": "5627633f-ff7b-49ed-a85a-bdcb0b92f3d7",
   "metadata": {},
   "outputs": [],
   "source": []
  },
  {
   "cell_type": "code",
   "execution_count": null,
   "id": "1c275b70-eb7d-4d47-992a-93e9ea98a88b",
   "metadata": {},
   "outputs": [],
   "source": []
  },
  {
   "cell_type": "code",
   "execution_count": null,
   "id": "643add6e-8d61-4809-af05-6ebcc255c923",
   "metadata": {},
   "outputs": [],
   "source": []
  },
  {
   "cell_type": "code",
   "execution_count": null,
   "id": "baf6677b-21fa-4c45-91ac-bf430db8e9ff",
   "metadata": {},
   "outputs": [],
   "source": []
  },
  {
   "cell_type": "code",
   "execution_count": null,
   "id": "92908172-c71e-4630-9cc8-5d0e8c1d2706",
   "metadata": {},
   "outputs": [],
   "source": []
  },
  {
   "cell_type": "code",
   "execution_count": null,
   "id": "cc6e37b6-37c6-4492-8a8c-d842940882d2",
   "metadata": {},
   "outputs": [],
   "source": []
  },
  {
   "cell_type": "code",
   "execution_count": null,
   "id": "1a950721-e49b-4c21-b061-01267acfd2f7",
   "metadata": {},
   "outputs": [],
   "source": []
  },
  {
   "cell_type": "code",
   "execution_count": null,
   "id": "8b44eb18-f7b2-4ea4-b1a5-676427d0ebb4",
   "metadata": {},
   "outputs": [],
   "source": []
  },
  {
   "cell_type": "code",
   "execution_count": null,
   "id": "a8955985-69e8-405f-8500-77e2eb6b5060",
   "metadata": {},
   "outputs": [],
   "source": []
  },
  {
   "cell_type": "code",
   "execution_count": null,
   "id": "b30cae55-a825-49b6-a6ef-c1df493240b5",
   "metadata": {},
   "outputs": [],
   "source": []
  },
  {
   "cell_type": "code",
   "execution_count": null,
   "id": "b6036039-ece7-452a-a738-5e882b19c825",
   "metadata": {},
   "outputs": [],
   "source": []
  }
 ],
 "metadata": {
  "kernelspec": {
   "display_name": "Python 3 (ipykernel)",
   "language": "python",
   "name": "python3"
  },
  "language_info": {
   "codemirror_mode": {
    "name": "ipython",
    "version": 3
   },
   "file_extension": ".py",
   "mimetype": "text/x-python",
   "name": "python",
   "nbconvert_exporter": "python",
   "pygments_lexer": "ipython3",
   "version": "3.6.3"
  }
 },
 "nbformat": 4,
 "nbformat_minor": 5
}
