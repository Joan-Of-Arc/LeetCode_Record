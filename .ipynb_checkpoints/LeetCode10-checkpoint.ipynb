{
 "cells": [
  {
   "cell_type": "markdown",
   "id": "9e2fe10e-d81f-4c22-99f5-02c6132ab21e",
   "metadata": {},
   "source": [
    "## 1352. 最后k个数的乘积 "
   ]
  },
  {
   "cell_type": "code",
   "execution_count": 6,
   "id": "3ad5f4ab-d052-403e-b7e0-e9838b8813f0",
   "metadata": {},
   "outputs": [],
   "source": [
    "class ProductOfNumbers:\n",
    "\n",
    "    def __init__(self):\n",
    "        self.numlist = list()\n",
    "\n",
    "    def add(self, num: int) -> None:\n",
    "        for i in range(len(self.numlist)): self.numlist[i] *= num\n",
    "        self.numlist.append(num)\n",
    "\n",
    "    def getProduct(self, k: int) -> int:\n",
    "        return self.numlist[-k]"
   ]
  },
  {
   "cell_type": "code",
   "execution_count": 12,
   "id": "2073e71f-391f-4728-8191-c55d53965149",
   "metadata": {},
   "outputs": [
    {
     "data": {
      "text/plain": [
       "[0, 0, 320, 160, 32, 8]"
      ]
     },
     "execution_count": 12,
     "metadata": {},
     "output_type": "execute_result"
    }
   ],
   "source": [
    "p = ProductOfNumbers()\n",
    "p.add(3)\n",
    "p.add(0)\n",
    "p.add(2)\n",
    "p.add(5)\n",
    "p.add(4)\n",
    "p.getProduct(2)\n",
    "p.getProduct(3)\n",
    "p.getProduct(4)\n",
    "p.add(8)\n",
    "p.getProduct(2)\n",
    "p.numlist"
   ]
  },
  {
   "cell_type": "markdown",
   "id": "373e8513-72ad-44f9-a928-5cd8f79cab7e",
   "metadata": {},
   "source": [
    "超时，遇到0就应该特殊处理"
   ]
  },
  {
   "cell_type": "markdown",
   "id": "c84c7c42-46fd-41bb-9efb-ec558961f2c3",
   "metadata": {},
   "source": [
    "还是得用前缀和，并且add的时候不用改变所有此前元素，那样会很耗时。后缀就是一个sb"
   ]
  },
  {
   "cell_type": "code",
   "execution_count": 29,
   "id": "90a82ec3-354c-428e-8b19-1ca5818e972e",
   "metadata": {},
   "outputs": [],
   "source": [
    "class ProductOfNumbers:\n",
    "\n",
    "    def __init__(self):\n",
    "        self.pre = [1]\n",
    "\n",
    "    def add(self, num: int) -> None:\n",
    "        if num == 0:\n",
    "            self.pre = [1]\n",
    "        else:\n",
    "            self.pre.append(self.pre[-1] * num)\n",
    "        return\n",
    "\n",
    "    def getProduct(self, k: int) -> int:\n",
    "        if len(self.pre) < k + 1:\n",
    "            return 0\n",
    "        return self.pre[-1] // self.pre[- k - 1]"
   ]
  },
  {
   "cell_type": "markdown",
   "id": "2d712d8b-88ac-4ad1-b5e1-98d534f64380",
   "metadata": {
    "tags": []
   },
   "source": [
    "## 141. 环形链表"
   ]
  },
  {
   "cell_type": "code",
   "execution_count": 32,
   "id": "ba0a1b4d-b762-4a18-89a5-d9731182a2dc",
   "metadata": {},
   "outputs": [],
   "source": [
    "# Definition for singly-linked list.\n",
    "class ListNode:\n",
    "    def __init__(self, x):\n",
    "        self.val = x\n",
    "        self.next = None"
   ]
  },
  {
   "cell_type": "code",
   "execution_count": 33,
   "id": "d7eca4d4-b4f2-43fe-841a-249e7ebbd1b2",
   "metadata": {},
   "outputs": [],
   "source": [
    "from typing import Optional\n",
    "class Solution:\n",
    "    def hasCycle(self, head: Optional[ListNode]) -> bool:\n",
    "        nodes = []\n",
    "        cur = head\n",
    "        while cur:\n",
    "            if cur in nodes: return True\n",
    "            nodes.append(cur)\n",
    "            cur = cur.next\n",
    "        return False"
   ]
  },
  {
   "cell_type": "code",
   "execution_count": 35,
   "id": "f5df14ec-b06c-483e-a8eb-21cd04bc9831",
   "metadata": {},
   "outputs": [],
   "source": [
    "# 龟兔赛跑算法\n",
    "class Solution:\n",
    "    def hasCycle(self, head: ListNode) -> bool:\n",
    "        if not head or not head.next:\n",
    "            return False\n",
    "        \n",
    "        slow = head\n",
    "        fast = head.next\n",
    "\n",
    "        while slow != fast:\n",
    "            if not fast or not fast.next:\n",
    "                return False\n",
    "            slow = slow.next\n",
    "            fast = fast.next.next\n",
    "        \n",
    "        return True"
   ]
  },
  {
   "cell_type": "markdown",
   "id": "08ac39b3-0e05-4be8-984f-a8645ad4e1e1",
   "metadata": {},
   "source": [
    "## 1694. 重新格式化电话号码"
   ]
  },
  {
   "cell_type": "code",
   "execution_count": 41,
   "id": "84909743-c9cd-4a9e-8cf1-f2d0b9901b3a",
   "metadata": {},
   "outputs": [],
   "source": [
    "class Solution:\n",
    "    def reformatNumber(self, number: str) -> str:\n",
    "        res = []\n",
    "        cur = \"\"\n",
    "        for n in number:\n",
    "            if n.isdigit():\n",
    "                if len(cur) == 3:\n",
    "                    res.append(cur)\n",
    "                    cur = \"\"\n",
    "                cur += n\n",
    "        res.append(cur)\n",
    "        print(res)\n",
    "        if len(res[-1]) == 1: \n",
    "            res[-1] = res[-2][-1] + res[-1]\n",
    "            res[-2] = res[-2][0:-1]\n",
    "        return '-'.join(res)\n",
    "        # return res"
   ]
  },
  {
   "cell_type": "code",
   "execution_count": 42,
   "id": "a50501cf-419f-4d1c-b15a-a33b8fbcb6c7",
   "metadata": {},
   "outputs": [],
   "source": [
    "number = \"123 4-567\""
   ]
  },
  {
   "cell_type": "code",
   "execution_count": 43,
   "id": "d07872cb-3b96-45ad-8064-43abad3d99aa",
   "metadata": {},
   "outputs": [
    {
     "name": "stdout",
     "output_type": "stream",
     "text": [
      "['123', '456', '7']\n"
     ]
    },
    {
     "data": {
      "text/plain": [
       "'123-45-67'"
      ]
     },
     "execution_count": 43,
     "metadata": {},
     "output_type": "execute_result"
    }
   ],
   "source": [
    "s = Solution()\n",
    "s.reformatNumber(number)"
   ]
  },
  {
   "cell_type": "markdown",
   "id": "d23c8edc-b44d-49e4-ae07-308fcbeeb75d",
   "metadata": {},
   "source": [
    "## 777. 在LR字符串中交换相邻字符"
   ]
  },
  {
   "cell_type": "markdown",
   "id": "96ff4cab-c60a-4d50-9bfb-77297ec0d7f1",
   "metadata": {},
   "source": [
    "问题转换：由于变换不会改变LR的相对位置，因此只需要比较两个字符串中L或R出现时的位置即可。"
   ]
  },
  {
   "cell_type": "code",
   "execution_count": null,
   "id": "7071a81b-7343-4a04-af5b-cdc5994c432f",
   "metadata": {},
   "outputs": [],
   "source": [
    "class Solution:\n",
    "    def canTransform(self, start: str, end: str) -> bool:\n",
    "        n = len(start)\n",
    "        i = j = 0\n",
    "        while i < n and j < n:\n",
    "            while i < n and start[i] == 'X':\n",
    "                i += 1\n",
    "            while j < n and end[j] == 'X':\n",
    "                j += 1\n",
    "            if i < n and j < n:\n",
    "                if start[i] != end[j]:\n",
    "                    return False\n",
    "                c = start[i]\n",
    "                if c == 'L' and i < j or c == 'R' and i > j:\n",
    "                    return False\n",
    "                i += 1\n",
    "                j += 1\n",
    "        while i < n:\n",
    "            if start[i] != 'X':\n",
    "                return False\n",
    "            i += 1\n",
    "        while j < n:\n",
    "            if end[j] != 'X':\n",
    "                return False\n",
    "            j += 1\n",
    "        return True"
   ]
  },
  {
   "cell_type": "markdown",
   "id": "9534782e-b21d-483e-8403-f2146f72776f",
   "metadata": {},
   "source": [
    "## 921. 使括号有效的最少添加"
   ]
  },
  {
   "cell_type": "code",
   "execution_count": 11,
   "id": "5533050b-0186-41d3-afea-2fd4f88712e1",
   "metadata": {},
   "outputs": [],
   "source": [
    "class Solution:\n",
    "    def minAddToMakeValid(self, s: str) -> int:\n",
    "        left = right = 0\n",
    "        for ch in s:\n",
    "            if ch == \")\":\n",
    "                if left: left -= 1\n",
    "                else: right += 1\n",
    "            if ch == \"(\":\n",
    "                left += 1\n",
    "        return left + right"
   ]
  },
  {
   "cell_type": "code",
   "execution_count": 16,
   "id": "83d0c538-ec6c-4648-83c4-3f19a1225cc2",
   "metadata": {},
   "outputs": [],
   "source": [
    "s = \")()(\""
   ]
  },
  {
   "cell_type": "code",
   "execution_count": 17,
   "id": "b29e2fc4-6be8-4d20-a63d-36602ea848b2",
   "metadata": {},
   "outputs": [
    {
     "data": {
      "text/plain": [
       "2"
      ]
     },
     "execution_count": 17,
     "metadata": {},
     "output_type": "execute_result"
    }
   ],
   "source": [
    "so = Solution()\n",
    "so.minAddToMakeValid(s)"
   ]
  },
  {
   "cell_type": "markdown",
   "id": "34a3ea46-6e0d-49cf-b5f9-d12c6df7c2d3",
   "metadata": {},
   "source": [
    "## 811. 子域名访问计数"
   ]
  },
  {
   "cell_type": "code",
   "execution_count": 38,
   "id": "c5537b22-5029-432e-b981-a1262eb00e0f",
   "metadata": {},
   "outputs": [],
   "source": [
    "from collections import defaultdict\n",
    "from typing import List\n",
    "class Solution:\n",
    "    def subdomainVisits(self, cpdomains: List[str]) -> List[str]:\n",
    "        dic = defaultdict(int)\n",
    "        for ch in cpdomains:\n",
    "            cnt, domain = int(ch.split(\" \")[0]), ch.split(\" \")[1]\n",
    "            dic[domain] += cnt\n",
    "            for i in range(len(domain)-1, -1, -1):\n",
    "                if domain[i] == \".\":\n",
    "                    dic[domain[i+1:]] += cnt\n",
    "        return [str(dic[key]) + \" \" + key for key in dic]"
   ]
  },
  {
   "cell_type": "code",
   "execution_count": 39,
   "id": "3cd9755a-34ad-45ea-88e0-b2f51e6ce98b",
   "metadata": {},
   "outputs": [],
   "source": [
    "cpdomains = [\"900 google.mail.com\", \"50 yahoo.com\", \n",
    "             \"1 intel.mail.com\", \"5 wiki.org\"]"
   ]
  },
  {
   "cell_type": "code",
   "execution_count": 40,
   "id": "d640c3ce-e3ca-409d-9cb6-5f3962fd1886",
   "metadata": {},
   "outputs": [
    {
     "data": {
      "text/plain": [
       "['900 google.mail.com',\n",
       " '951 com',\n",
       " '901 mail.com',\n",
       " '50 yahoo.com',\n",
       " '1 intel.mail.com',\n",
       " '5 wiki.org',\n",
       " '5 org']"
      ]
     },
     "execution_count": 40,
     "metadata": {},
     "output_type": "execute_result"
    }
   ],
   "source": [
    "s = Solution()\n",
    "s.subdomainVisits(cpdomains)"
   ]
  },
  {
   "cell_type": "markdown",
   "id": "6288a748-6751-4d9c-9d3d-518af25ce43f",
   "metadata": {},
   "source": [
    "## 433. 最小基因变化"
   ]
  },
  {
   "cell_type": "code",
   "execution_count": 41,
   "id": "0b859da5-ef03-4e05-95ce-c969baf3c39d",
   "metadata": {},
   "outputs": [],
   "source": [
    "# BFS暴力\n",
    "class Solution:\n",
    "    def minMutation(self, start: str, end: str, bank: List[str]) -> int:\n",
    "        bfs = collections.deque()\n",
    "        bfs.append((start, 0))\n",
    "        # bankset = set(bank)\n",
    "        while bfs:\n",
    "            gene, step = bfs.popleft()\n",
    "            if gene == end:\n",
    "                return step\n",
    "            for i in range(len(gene)):\n",
    "                for x in \"ACGT\":\n",
    "                    newGene = gene[:i] + x + gene[i+1:]\n",
    "                    if newGene in bank and newGene != gene:\n",
    "                        bfs.append((newGene, step + 1))\n",
    "                        bank.remove(newGene)\n",
    "        return -1"
   ]
  },
  {
   "cell_type": "markdown",
   "id": "809bd8e7-777d-4729-8b2e-b567b7cfca60",
   "metadata": {},
   "source": [
    "## 870. 优势洗牌 (10.8)"
   ]
  },
  {
   "cell_type": "markdown",
   "id": "3b788f20-1e30-4014-8504-82eeb84682c3",
   "metadata": {},
   "source": [
    "感觉是贪心吧,返回的数组每个位置都放大于nums2相同位置的最小数字"
   ]
  },
  {
   "cell_type": "code",
   "execution_count": 8,
   "id": "06ff5ddc-3bcd-40e1-a4a9-048ed4f1a48a",
   "metadata": {},
   "outputs": [],
   "source": [
    "from collections import deque\n",
    "from typing import List\n",
    "class Solution:\n",
    "    def advantageCount(self, nums1: List[int], nums2: List[int]) -> List[int]:\n",
    "        nums1.sort()\n",
    "        nums2.sort()\n",
    "        nums1 = deque(nums1)\n",
    "        nums2 = deque(nums2)\n",
    "        n = len(nums1)\n",
    "        while nums1:\n",
    "            if nums1[0] > nums2[0]:\n",
    "                nums2.popleft()\n",
    "            nums1.popleft()\n",
    "        return n - len(nums2)"
   ]
  },
  {
   "cell_type": "code",
   "execution_count": 11,
   "id": "910cc700-25aa-48b9-9f2c-0cea25cb3b59",
   "metadata": {},
   "outputs": [],
   "source": [
    "nums1 = [12,24,8,32]\n",
    "nums2 = [13,25,32,11]"
   ]
  },
  {
   "cell_type": "code",
   "execution_count": 12,
   "id": "bf5b0dc5-eccb-4c49-b9e0-47b66719c10e",
   "metadata": {},
   "outputs": [
    {
     "data": {
      "text/plain": [
       "3"
      ]
     },
     "execution_count": 12,
     "metadata": {},
     "output_type": "execute_result"
    }
   ],
   "source": [
    "s = Solution()\n",
    "s.advantageCount(nums1, nums2)"
   ]
  },
  {
   "cell_type": "markdown",
   "id": "ba99af0e-eed1-4e66-8587-5a557192e545",
   "metadata": {},
   "source": [
    "看错题目要求了擦\n",
    "\n",
    "既然是重新排列的话，那么是二分查找？"
   ]
  },
  {
   "cell_type": "code",
   "execution_count": 74,
   "id": "468dc3bf-9817-46ce-bbd8-f4d0cce78cb1",
   "metadata": {},
   "outputs": [],
   "source": [
    "from bisect import bisect_left\n",
    "from collections import deque\n",
    "class Solution:\n",
    "    def advantageCount(self, nums1: List[int], nums2: List[int]) -> List[int]:\n",
    "        nums1.sort()\n",
    "        leng = len(nums1)\n",
    "        flag = [1] * leng\n",
    "        res = [0] * leng\n",
    "        for i, n in enumerate(nums2):\n",
    "            # print(flag)\n",
    "            for j, m in enumerate(nums1):\n",
    "                if m > n and flag[j]: \n",
    "                    res[i] = m\n",
    "                    flag[j] = 0\n",
    "                    break\n",
    "        left = []\n",
    "        for i, n in enumerate(nums1):\n",
    "            if flag[i]: left.append(n)\n",
    "        for i, n in enumerate(res):\n",
    "            if not n: res[i] = left.pop()\n",
    "        return res"
   ]
  },
  {
   "cell_type": "code",
   "execution_count": 115,
   "id": "ce19c833-6f96-408b-873d-02d0c965ee37",
   "metadata": {},
   "outputs": [],
   "source": [
    "nums1 = [12,24,8,32]\n",
    "nums2 = [13,25,32,11]"
   ]
  },
  {
   "cell_type": "code",
   "execution_count": 116,
   "id": "29227d52-4cb7-4980-986f-5d2e189db629",
   "metadata": {},
   "outputs": [
    {
     "data": {
      "text/plain": [
       "[24, 32, 8, 12]"
      ]
     },
     "execution_count": 116,
     "metadata": {},
     "output_type": "execute_result"
    }
   ],
   "source": [
    "s = Solution()\n",
    "s.advantageCount(nums1, nums2)"
   ]
  },
  {
   "cell_type": "markdown",
   "id": "fddd4721-2b94-4038-b062-fc017b671f97",
   "metadata": {},
   "source": [
    "官解，太巧妙了"
   ]
  },
  {
   "cell_type": "markdown",
   "id": "83641a60-9f27-4149-b07a-22e63dd388ce",
   "metadata": {},
   "source": [
    "### 能够实现排序后仍然记住以前的位置的功能。"
   ]
  },
  {
   "cell_type": "code",
   "execution_count": null,
   "id": "2d2a0b55-aae0-40f2-b097-d7dfc664b422",
   "metadata": {},
   "outputs": [],
   "source": [
    "class Solution:\n",
    "    def advantageCount(self, nums1: List[int], nums2: List[int]) -> List[int]:\n",
    "        n = len(nums1)\n",
    "        idx1, idx2 = list(range(n)), list(range(n))\n",
    "        idx1.sort(key=lambda x: nums1[x])\n",
    "        idx2.sort(key=lambda x: nums2[x])\n",
    "\n",
    "        ans = [0] * n\n",
    "        left, right = 0, n - 1\n",
    "        for i in range(n):\n",
    "            if nums1[idx1[i]] > nums2[idx2[left]]:\n",
    "                ans[idx2[left]] = nums1[idx1[i]]\n",
    "                left += 1\n",
    "            else:\n",
    "                ans[idx2[right]] = nums1[idx1[i]]\n",
    "                right -= 1\n",
    "        \n",
    "        return ans"
   ]
  },
  {
   "cell_type": "markdown",
   "id": "75f1f96b-7b76-46c6-bb40-1924a08dac8e",
   "metadata": {},
   "source": [
    "贪心思想：计算nums1与nums2相比的优势，若排序后相同位置的数已经比nums2小了，则消耗掉nums2最大的那个数，使后面的数字更有优势，即用下等马ccounter上等马。"
   ]
  },
  {
   "cell_type": "markdown",
   "id": "7e764504-97f2-4570-961e-a1cd13467672",
   "metadata": {},
   "source": [
    "官解的一部分思路能够想到，但是建立下标数组再排序很是巧妙，要好好体会。"
   ]
  },
  {
   "cell_type": "code",
   "execution_count": 114,
   "id": "aa8744f5-e94e-4e24-b125-98b31925285a",
   "metadata": {},
   "outputs": [],
   "source": [
    "class Solution:\n",
    "    def advantageCount(self, nums1: List[int], nums2: List[int]) -> List[int]:\n",
    "        n = len(nums1)\n",
    "        idx1, idx2 = list(range(n)), list(range(n))\n",
    "        idx1.sort(key = lambda x: nums1[x])\n",
    "        idx2.sort(key = lambda x: nums2[x])\n",
    "        left, right = 0, n-1\n",
    "        res = [0] * n\n",
    "        for i in range(n):\n",
    "            if nums1[idx1[i]] > nums2[idx2[left]]:\n",
    "                res[idx2[left]] = nums1[idx1[i]]\n",
    "                left += 1\n",
    "            else:\n",
    "                res[idx2[right]] = nums1[idx1[i]]\n",
    "                right -= 1\n",
    "        return res"
   ]
  },
  {
   "cell_type": "markdown",
   "id": "dbeaec19-3399-45a5-a458-fa9a8785498f",
   "metadata": {},
   "source": [
    "## 856. 括号的分数 (10.9)"
   ]
  },
  {
   "cell_type": "markdown",
   "id": "91da3752-f798-4a73-99b9-dd336e841414",
   "metadata": {},
   "source": [
    "肯定是栈，并且和之前做过的解码字符串很类似"
   ]
  },
  {
   "cell_type": "markdown",
   "id": "857a5081-7b68-49aa-8e0d-39392fa966de",
   "metadata": {},
   "source": [
    "- 方法一： 分治\n",
    "\n",
    "根据题意，一个平衡括号字符串s可以被分解为 A+B 或（A）的形式，因此我们可以对s进行分解，**分而治之**。\n",
    "\n",
    "如何判断s应该分解为 A+B 或（A）的哪一种呢？我们将左括号记为1， 右括号记为-1，如果s的某个非空前缀对应的和 bal = 0， 那么这个前缀就是一个平衡括号字符串。 如果该前缀的长度等于s的长度，那么s可以分解为（A）的形式；否则s可以分解为 A+B 的形式，其中 A 为该前缀。将s分解之后，我们递归地求解子问题，并且s的长度为2时，分数为1。"
   ]
  },
  {
   "cell_type": "code",
   "execution_count": 1,
   "id": "9223218a-b4b6-4c9f-a264-6359bae2a04f",
   "metadata": {},
   "outputs": [],
   "source": [
    "class Solution:\n",
    "    def scoreOfParentheses(self, s: str) -> int:\n",
    "        n = len(s)\n",
    "        if n == 2: return 1\n",
    "        bal = 0\n",
    "        for i, ch in enumerate(s):\n",
    "            bal += 1 if ch == \"(\" else -1\n",
    "            if bal == 0:\n",
    "                if i == n-1: return 2 * self.scoreOfParentheses(s[1:n-1])\n",
    "                return self.scoreOfParentheses(s[:i+1]) + self.scoreOfParentheses(s[i+1:])"
   ]
  },
  {
   "cell_type": "code",
   "execution_count": 2,
   "id": "ac99fc56-c4b2-4a85-8150-faa394a46d65",
   "metadata": {},
   "outputs": [
    {
     "data": {
      "text/plain": [
       "6"
      ]
     },
     "execution_count": 2,
     "metadata": {},
     "output_type": "execute_result"
    }
   ],
   "source": [
    "s =  \"(()(()))\"\n",
    "so = Solution()\n",
    "so.scoreOfParentheses(s)"
   ]
  },
  {
   "cell_type": "markdown",
   "id": "027ac447-62f9-44e6-bb9a-47508ce11ab3",
   "metadata": {},
   "source": [
    "时间复杂度：O(n^2)，其中 n 是字符串的长度。递归深度为 O(n)，每一层的所有函数调用的总时间复杂度都是 O(n)，因此总时间复杂度为 O(n^2)。\n",
    "\n",
    "空间复杂度：O(n^2)。每一层都需要将字符串复制一遍，因此总空间复杂度为 O(n^2)。对于字符串支持切片的语言，空间复杂度为递归栈所需的空间 O(n)。"
   ]
  },
  {
   "cell_type": "markdown",
   "id": "bc04ad0a-9d3e-43fe-9356-da7de783c70c",
   "metadata": {},
   "source": [
    "- 方法二： 栈\n",
    "\n",
    "我们把平衡字符串s看作是一个空字符串加上s本身，并且定义空字符串的分数为0.使用栈 st 记录平衡字符串的分数，在开始之前要压入分数0， 表示空字符串的分数。\n",
    "\n",
    "再遍历字符串s的过程中：\n",
    "1. 遇到左括号，那么我们需要计算该左括号内部的子平衡括号字符串 A 的分数，我们也要先压入分数0，表示 A 前面的空字符串的分数。\n",
    "2. 遇到右括号，说明该右括号内部的子平衡括号字符串 A 的分数已经计算出来了，我们将它弹出栈，并保存到变量v中。如果 v = 0，那么说明子平衡括号字符串 A 是空串，（A）的分数为1，否则（A）的分数为 2v ，然后将（A）的分数加到栈顶元素上。\n",
    "\n",
    "遍历结束后，栈顶元素保存的就是s的分数。"
   ]
  },
  {
   "cell_type": "code",
   "execution_count": 3,
   "id": "50b98a17-2bab-4b80-aead-9049a38858f9",
   "metadata": {},
   "outputs": [],
   "source": [
    "class Solution:\n",
    "    def scoreOfParentheses(self, s: str) -> int:\n",
    "        st = [0]\n",
    "        for c in s:\n",
    "            if c == '(':\n",
    "                st.append(0)\n",
    "            else:\n",
    "                v = st.pop()\n",
    "                st[-1] += max(2 * v, 1)\n",
    "        return st[-1]"
   ]
  },
  {
   "cell_type": "markdown",
   "id": "7864f429-1be3-4739-973c-33a369eaace8",
   "metadata": {},
   "source": [
    "- 方法三： 计数"
   ]
  },
  {
   "cell_type": "code",
   "execution_count": 4,
   "id": "9a632ba0-e986-42ea-ae5b-6bb59503bddb",
   "metadata": {},
   "outputs": [],
   "source": [
    "class Solution:\n",
    "    def scoreOfParentheses(self, s: str) -> int:\n",
    "        ans = d = 0\n",
    "        for i, c in enumerate(s):\n",
    "            if c == '(':\n",
    "                d += 1\n",
    "            else:\n",
    "                d -= 1\n",
    "                if s[i - 1] == '(':\n",
    "                    ans += 1 << d\n",
    "        return ans"
   ]
  },
  {
   "cell_type": "markdown",
   "id": "bad7dd27-4767-41fc-b2f1-40f25e0fd109",
   "metadata": {},
   "source": [
    "## 886. 可能的二分法 (10.16)"
   ]
  },
  {
   "cell_type": "code",
   "execution_count": 25,
   "id": "0d63298f-f37d-4442-b704-7e97833e13eb",
   "metadata": {},
   "outputs": [],
   "source": [
    "from collections import defaultdict\n",
    "from typing import List\n",
    "class Solution:\n",
    "    def possibleBipartition(self, n: int, dislikes: List[List[int]]) -> bool:\n",
    "        query = defaultdict(list)\n",
    "        group = [[],[]]\n",
    "        for a, b in dislikes:\n",
    "            query[a].append(b)\n",
    "        for key in query:\n",
    "            # print(group)\n",
    "            if not group[0] and not group[1]: group[0].append(key)\n",
    "            if key in group[0]:\n",
    "                for val in query[key]:\n",
    "                    if val in group[0]: return False\n",
    "                    else: group[1].append(val)\n",
    "            elif key in group[1]:\n",
    "                for val in query[key]:\n",
    "                    if val in group[1]: return False\n",
    "                    else: group[0].append(val)\n",
    "        print(group)\n",
    "        return True"
   ]
  },
  {
   "cell_type": "code",
   "execution_count": 29,
   "id": "259ee37f-0fce-448d-9426-1e8ab5612023",
   "metadata": {},
   "outputs": [],
   "source": [
    "n = 5\n",
    "dislikes = [[1,2],[3,4],[4,5],[3,5]]"
   ]
  },
  {
   "cell_type": "code",
   "execution_count": 30,
   "id": "898373ca-0601-47be-9f2d-89a2ec6078f0",
   "metadata": {},
   "outputs": [
    {
     "data": {
      "text/plain": [
       "False"
      ]
     },
     "execution_count": 30,
     "metadata": {},
     "output_type": "execute_result"
    }
   ],
   "source": [
    "s = Solution()\n",
    "s.possibleBipartition(n, dislikes)"
   ]
  },
  {
   "cell_type": "markdown",
   "id": "e902d95f-3d4b-4148-a8ef-6f10f13216f9",
   "metadata": {},
   "source": [
    "错误原因：对于放在两个集合内都不违法的数字不知道如何处理，而这很有可能会影响结果。  \n",
    "目前能够想到的方法只有回溯，但一来不是很会写，二来回溯时间成本太大，肯定不是解这题的最优解。"
   ]
  },
  {
   "cell_type": "code",
   "execution_count": null,
   "id": "486312c7-4964-4d80-8880-47f4121b3c1f",
   "metadata": {},
   "outputs": [],
   "source": [
    "class Solution:\n",
    "    def possibleBipartition(self, n: int, dislikes: List[List[int]]) -> bool:\n",
    "        def dfs(i, c):\n",
    "            color[i] = c\n",
    "            for j in g[i]:\n",
    "                if color[j] == c:\n",
    "                    return False\n",
    "                if color[j] == 0 and not dfs(j, 3 - c):\n",
    "                    return False\n",
    "            return True\n",
    "\n",
    "        g = defaultdict(list)\n",
    "        color = [0] * n\n",
    "        for a, b in dislikes:\n",
    "            a, b = a - 1, b - 1\n",
    "            g[a].append(b)\n",
    "            g[b].append(a)\n",
    "        return all(c or dfs(i, 1) for i, c in enumerate(color))"
   ]
  },
  {
   "cell_type": "markdown",
   "id": "bcbfedcb-bc0b-4bc8-af4b-b1da1d08fd5c",
   "metadata": {
    "tags": []
   },
   "source": [
    "### python all:\n",
    "\n",
    "all() 函数用于判断给定的可迭代参数 iterable 中的所有元素是否都为 TRUE，如果是返回 True，否则返回 False。  \n",
    "元素除了是 0、空、None、False 外都算 True。\n",
    "\n",
    "\n"
   ]
  },
  {
   "cell_type": "markdown",
   "id": "6fec8db9-3941-42b1-ad15-3827161d2827",
   "metadata": {},
   "source": [
    " 看了题解，感觉问题的核心在于要建立一个双向的邻接表，可能上面遇到的问题关键在于没有建立双向的邻接表而造成的二择？   \n",
    " 另外，若某个数字没有出现在dislikes中，显然地，在任意group中加入它并不会对结果造成影响，故建立完双向邻接表后再对(1, n)的序列进行遍历即可。"
   ]
  },
  {
   "cell_type": "code",
   "execution_count": 42,
   "id": "ccb0f19a-136b-44e2-81ac-f1eb880f7d0a",
   "metadata": {},
   "outputs": [],
   "source": [
    "from collections import defaultdict\n",
    "from typing import List\n",
    "class Solution:\n",
    "    def possibleBipartition(self, n: int, dislikes: List[List[int]]) -> bool:\n",
    "        query = defaultdict(list)\n",
    "        group = [set(), set()]\n",
    "        for a, b in dislikes:\n",
    "            query[a].append(b)\n",
    "            query[b].append(a)\n",
    "        # print(query)\n",
    "        for i in range(1, n+1):\n",
    "            print(query[i])\n",
    "            if i not in group[0] and i not in group[1]: group[0].add(i)\n",
    "            if i in group[0]:\n",
    "                for val in query[i]:\n",
    "                    if val in group[0]: return False\n",
    "                    group[1].add(val)\n",
    "            if i in group[1]:\n",
    "                for val in query[i]:\n",
    "                    if val in group[1]: return False\n",
    "                    group[0].add(val)\n",
    "        return True"
   ]
  },
  {
   "cell_type": "code",
   "execution_count": null,
   "id": "64e70592-e82d-49c7-98e7-f7eeba2461b3",
   "metadata": {},
   "outputs": [],
   "source": [
    "dislikes = [[21,47],[4,41],[2,41],[36,42],[32,45],[26,28],[32,44],[5,41],[29,44],[10,46],[1,6],[7,42],[46,49],[17,46],[32,35],[11,48],[37,48],[37,43],[8,41],[16,22],[41,43],[11,27],[22,44],[22,28],[18,37],[5,11],[18,46],[22,48],[1,17],[2,32],[21,37],[7,22],[23,41],[30,39],[6,41],[10,22],[36,41],[22,25],[1,12],[2,11],[45,46],[2,22],[1,38],[47,50],[11,15],[2,37],[1,43],[30,45],[4,32],[28,37],[1,21],[23,37],[5,37],[29,40],[6,42],[3,11],[40,42],[26,49],[41,50],[13,41],[20,47],[15,26],[47,49],[5,30],[4,42],[10,30],[6,29],[20,42],[4,37],[28,42],[1,16],[8,32],[16,29],[31,47],[15,47],[1,5],[7,37],[14,47],[30,48],[1,10],[26,43],[15,46],[42,45],[18,42],[25,42],[38,41],[32,39],[6,30],[29,33],[34,37],[26,38],[3,22],[18,47],[42,48],[22,49],[26,34],[22,36],[29,36],[11,25],[41,44],[6,46],[13,22],[11,16],[10,37],[42,43],[12,32],[1,48],[26,40],[22,50],[17,26],[4,22],[11,14],[26,39],[7,11],[23,26],[1,20],[32,33],[30,33],[1,25],[2,30],[2,46],[26,45],[47,48],[5,29],[3,37],[22,34],[20,22],[9,47],[1,4],[36,46],[30,49],[1,9],[3,26],[25,41],[14,29],[1,35],[23,42],[21,32],[24,46],[3,32],[9,42],[33,37],[7,30],[29,45],[27,30],[1,7],[33,42],[17,47],[12,47],[19,41],[3,42],[24,26],[20,29],[11,23],[22,40],[9,37],[31,32],[23,46],[11,38],[27,29],[17,37],[23,30],[14,42],[28,30],[29,31],[1,8],[1,36],[42,50],[21,41],[11,18],[39,41],[32,34],[6,37],[30,38],[21,46],[16,37],[22,24],[17,32],[23,29],[3,30],[8,30],[41,48],[1,39],[8,47],[30,44],[9,46],[22,45],[7,26],[35,42],[1,27],[17,30],[20,46],[18,29],[3,29],[4,30],[3,46]]"
   ]
  },
  {
   "cell_type": "code",
   "execution_count": 44,
   "id": "0b26aba4-a6ee-47e5-957d-232c84157a3f",
   "metadata": {},
   "outputs": [
    {
     "name": "stdout",
     "output_type": "stream",
     "text": [
      "[6, 17, 12, 38, 43, 21, 16, 5, 10, 48, 20, 25, 4, 9, 35, 7, 8, 36, 39, 27]\n",
      "[41, 32, 11, 22, 37, 30, 46]\n",
      "[11, 22, 37, 26, 32, 42, 30, 29, 46]\n",
      "[41, 32, 42, 37, 22, 1, 30]\n"
     ]
    },
    {
     "data": {
      "text/plain": [
       "False"
      ]
     },
     "execution_count": 44,
     "metadata": {},
     "output_type": "execute_result"
    }
   ],
   "source": [
    "s = Solution()\n",
    "s.possibleBipartition(50, dislikes)"
   ]
  },
  {
   "cell_type": "markdown",
   "id": "248a685c-b0c3-44fb-8d36-50e90f502244",
   "metadata": {},
   "source": [
    "依然不对，到底为什么呢，难道还是要先对邻接表的值进行分组？但DFS和BFS应该结果都一样才对。  \n",
    "\n",
    "貌似明白了一些：\n",
    "1. 还是需要在遍历到这个数字时就把对应的关系全部划分，即a不喜欢b，a放进1，b放进2，b又不喜欢c，则c应该放进1。即dfs定义的递归操作。\n",
    "\n",
    "2. 1中的步骤是不会停止的，如何结束递归呢？则需要标记一下当前元素有没有被分近任一组。即colors数组。\n",
    "\n",
    "3. 如何判断有无冲突？ 即看a所不喜欢的那个元素若已经着色且颜色与自己相同，则返回False。"
   ]
  },
  {
   "cell_type": "code",
   "execution_count": 45,
   "id": "66c1d072-41c4-463f-902e-8474b9ecfd69",
   "metadata": {},
   "outputs": [],
   "source": [
    "from collections import defaultdict\n",
    "from typing import List\n",
    "class Solution:\n",
    "    def possibleBipartition(self, n: int, dislikes: List[List[int]]) -> bool:\n",
    "        def dfs(i, c):\n",
    "            colors[i] = c\n",
    "            for val in query[i]:\n",
    "                if colors[val] == c: return False\n",
    "                if not colors[val] and dfs(val, 3-c): return False\n",
    "            return True\n",
    "        \n",
    "        query = defaultdict(list)\n",
    "        colors = [0] * n\n",
    "        for x, y in dislikes:\n",
    "            query[x-1].append(y-1)\n",
    "            query[y-1].append(x-1)\n",
    "        "
   ]
  },
  {
   "cell_type": "code",
   "execution_count": null,
   "id": "fc90e75b-39bc-4214-ac18-ff4c07a27837",
   "metadata": {},
   "outputs": [],
   "source": [
    "class Solution {\n",
    "public:\n",
    "    bool dfs(int curnode, int nowcolor, vector<int>& color, const vector<vector<int>>& g) {\n",
    "        color[curnode] = nowcolor;\n",
    "        for (auto& nextnode : g[curnode]) {\n",
    "            if (color[nextnode] && color[nextnode] == color[curnode]) {\n",
    "                return false;\n",
    "            }\n",
    "            if (!color[nextnode] && !dfs(nextnode, 3 ^ nowcolor, color, g)) {\n",
    "                return false;\n",
    "            }\n",
    "        }\n",
    "        return true;\n",
    "    }\n",
    "\n",
    "    bool possibleBipartition(int n, vector<vector<int>>& dislikes) {\n",
    "        vector<int> color(n + 1, 0);\n",
    "        vector<vector<int>> g(n + 1);\n",
    "        for (auto& p : dislikes) {\n",
    "            g[p[0]].push_back(p[1]);\n",
    "            g[p[1]].push_back(p[0]);\n",
    "        }\n",
    "        for (int i = 1; i <= n; ++i) {\n",
    "            if (color[i] == 0 && !dfs(i, 1, color, g)) {\n",
    "                return false;\n",
    "            }\n",
    "        }\n",
    "        return true;\n",
    "    }\n",
    "};"
   ]
  },
  {
   "cell_type": "code",
   "execution_count": null,
   "id": "b6be9dc9-04d1-4c75-b61e-edf666c2a5fb",
   "metadata": {},
   "outputs": [],
   "source": []
  },
  {
   "cell_type": "code",
   "execution_count": null,
   "id": "2e557525-6f69-4616-ba20-8aba56ce5997",
   "metadata": {},
   "outputs": [],
   "source": []
  },
  {
   "cell_type": "code",
   "execution_count": null,
   "id": "39424f3e-f1a4-4c6b-80a0-5f9ae6dc4ea8",
   "metadata": {},
   "outputs": [],
   "source": []
  },
  {
   "cell_type": "code",
   "execution_count": null,
   "id": "0decebba-9939-4898-b8d1-7c9151e6422f",
   "metadata": {},
   "outputs": [],
   "source": []
  },
  {
   "cell_type": "code",
   "execution_count": null,
   "id": "f830a51b-bdb0-4712-9141-12069abf998d",
   "metadata": {},
   "outputs": [],
   "source": []
  },
  {
   "cell_type": "code",
   "execution_count": null,
   "id": "9c6b248f-c4c6-42d4-8bf5-dde0b5c473a6",
   "metadata": {},
   "outputs": [],
   "source": []
  },
  {
   "cell_type": "code",
   "execution_count": null,
   "id": "30caedf5-ef5d-4885-b3b9-6ebc97016afc",
   "metadata": {},
   "outputs": [],
   "source": []
  },
  {
   "cell_type": "code",
   "execution_count": null,
   "id": "c273c9ad-a5d8-46a7-bf90-39dd840132af",
   "metadata": {},
   "outputs": [],
   "source": []
  },
  {
   "cell_type": "code",
   "execution_count": null,
   "id": "12c1f278-af71-4efc-adce-a6d73e5b9dde",
   "metadata": {},
   "outputs": [],
   "source": []
  },
  {
   "cell_type": "code",
   "execution_count": null,
   "id": "b68723c8-90c4-4028-9a3f-2a01c4ed7d08",
   "metadata": {},
   "outputs": [],
   "source": []
  },
  {
   "cell_type": "code",
   "execution_count": null,
   "id": "7641b12b-5ef0-46b1-b37a-4c252c209728",
   "metadata": {},
   "outputs": [],
   "source": []
  },
  {
   "cell_type": "code",
   "execution_count": null,
   "id": "42bf5ec1-4a10-452e-938d-34e3aeb46da4",
   "metadata": {},
   "outputs": [],
   "source": []
  },
  {
   "cell_type": "code",
   "execution_count": null,
   "id": "e0b3ab02-c262-4651-b7b0-9faa353a7ee6",
   "metadata": {},
   "outputs": [],
   "source": []
  },
  {
   "cell_type": "code",
   "execution_count": null,
   "id": "10d506ff-6a3a-4916-9135-fdff9365b066",
   "metadata": {},
   "outputs": [],
   "source": []
  },
  {
   "cell_type": "code",
   "execution_count": null,
   "id": "2a7e4669-30e2-437d-9983-e068a5e4f05c",
   "metadata": {},
   "outputs": [],
   "source": []
  },
  {
   "cell_type": "code",
   "execution_count": null,
   "id": "6f27abe0-56a0-4efb-8d28-f38307335c0f",
   "metadata": {},
   "outputs": [],
   "source": []
  },
  {
   "cell_type": "code",
   "execution_count": null,
   "id": "5d1f0dc8-91d7-4616-b996-3258cc837f46",
   "metadata": {},
   "outputs": [],
   "source": []
  },
  {
   "cell_type": "code",
   "execution_count": null,
   "id": "6cee63c8-1679-4c86-89a8-1f4e3ed2fb86",
   "metadata": {},
   "outputs": [],
   "source": []
  },
  {
   "cell_type": "code",
   "execution_count": null,
   "id": "5610d8a8-8a09-40cb-906b-1258c6718463",
   "metadata": {},
   "outputs": [],
   "source": []
  },
  {
   "cell_type": "code",
   "execution_count": null,
   "id": "f670fb6e-9f20-4e10-b035-21285a5887e7",
   "metadata": {},
   "outputs": [],
   "source": []
  },
  {
   "cell_type": "code",
   "execution_count": null,
   "id": "09f52ca1-5dc5-4dc6-8cf4-dc16f717fb2f",
   "metadata": {},
   "outputs": [],
   "source": []
  },
  {
   "cell_type": "code",
   "execution_count": null,
   "id": "6ba7fd68-1731-47f9-86c8-b2c80ad97dda",
   "metadata": {},
   "outputs": [],
   "source": []
  },
  {
   "cell_type": "code",
   "execution_count": null,
   "id": "a6bf55e1-95e8-4756-b52e-a59f7aee0300",
   "metadata": {},
   "outputs": [],
   "source": []
  },
  {
   "cell_type": "code",
   "execution_count": null,
   "id": "e3a44abf-dbf1-4fa5-b304-88ca8675aa06",
   "metadata": {},
   "outputs": [],
   "source": []
  },
  {
   "cell_type": "code",
   "execution_count": null,
   "id": "999da42d-e848-4493-a68f-a1b1c6c7ec4b",
   "metadata": {},
   "outputs": [],
   "source": []
  },
  {
   "cell_type": "code",
   "execution_count": null,
   "id": "da57e28c-2961-4470-bcf2-067fdc013a68",
   "metadata": {},
   "outputs": [],
   "source": []
  },
  {
   "cell_type": "code",
   "execution_count": null,
   "id": "a64ae7c1-9932-43d2-b5b7-420becae6e27",
   "metadata": {},
   "outputs": [],
   "source": []
  },
  {
   "cell_type": "code",
   "execution_count": null,
   "id": "e9b8d63f-e0bf-4147-878f-4be1824db7ac",
   "metadata": {},
   "outputs": [],
   "source": []
  },
  {
   "cell_type": "code",
   "execution_count": null,
   "id": "b90caad0-c51e-45d3-8da3-e5ad43f9894a",
   "metadata": {},
   "outputs": [],
   "source": []
  },
  {
   "cell_type": "code",
   "execution_count": null,
   "id": "fb384551-9f8a-4eaa-8220-338520886f1f",
   "metadata": {},
   "outputs": [],
   "source": []
  },
  {
   "cell_type": "code",
   "execution_count": null,
   "id": "01e80a76-21a3-4654-8171-b32f90564586",
   "metadata": {},
   "outputs": [],
   "source": []
  },
  {
   "cell_type": "code",
   "execution_count": null,
   "id": "f4a1712a-3aeb-4b63-b183-4f5d00da8e86",
   "metadata": {},
   "outputs": [],
   "source": []
  },
  {
   "cell_type": "code",
   "execution_count": null,
   "id": "21317f7c-d851-47b8-a977-3d8b15596d00",
   "metadata": {},
   "outputs": [],
   "source": []
  },
  {
   "cell_type": "code",
   "execution_count": null,
   "id": "a13b6e0d-9343-4c81-9331-8003444621df",
   "metadata": {},
   "outputs": [],
   "source": []
  },
  {
   "cell_type": "code",
   "execution_count": null,
   "id": "7b950237-fefd-48d4-a08c-a6b592d776d6",
   "metadata": {},
   "outputs": [],
   "source": []
  },
  {
   "cell_type": "code",
   "execution_count": null,
   "id": "53dc53aa-e1f1-4083-a732-cc46968a1522",
   "metadata": {},
   "outputs": [],
   "source": []
  },
  {
   "cell_type": "code",
   "execution_count": null,
   "id": "a56ad606-63a2-4c7c-a6b2-315bb25ca9af",
   "metadata": {},
   "outputs": [],
   "source": []
  },
  {
   "cell_type": "code",
   "execution_count": null,
   "id": "3e21f46f-29e7-44c1-ba28-47db96b3dd74",
   "metadata": {},
   "outputs": [],
   "source": []
  },
  {
   "cell_type": "code",
   "execution_count": null,
   "id": "7fa41068-312c-4b66-b49a-a131321f1459",
   "metadata": {},
   "outputs": [],
   "source": []
  },
  {
   "cell_type": "code",
   "execution_count": null,
   "id": "fbb8556c-1d8d-4fe5-a615-336a020b5123",
   "metadata": {},
   "outputs": [],
   "source": []
  },
  {
   "cell_type": "code",
   "execution_count": null,
   "id": "84047492-5655-4caa-b177-6c0e95303593",
   "metadata": {},
   "outputs": [],
   "source": []
  },
  {
   "cell_type": "code",
   "execution_count": null,
   "id": "2e5243bf-2123-461c-905e-9b5539763246",
   "metadata": {},
   "outputs": [],
   "source": []
  },
  {
   "cell_type": "code",
   "execution_count": null,
   "id": "caecee8a-34ba-4787-9807-103318889ce1",
   "metadata": {},
   "outputs": [],
   "source": []
  },
  {
   "cell_type": "code",
   "execution_count": null,
   "id": "8bc9e68c-00f2-44eb-aa15-3a6cb9a4085d",
   "metadata": {},
   "outputs": [],
   "source": []
  },
  {
   "cell_type": "code",
   "execution_count": null,
   "id": "e0703831-b172-4acd-8767-bcc0a02eb33f",
   "metadata": {},
   "outputs": [],
   "source": []
  },
  {
   "cell_type": "code",
   "execution_count": null,
   "id": "9da3519b-6d12-4055-a2d3-ea852abcb1c0",
   "metadata": {},
   "outputs": [],
   "source": []
  },
  {
   "cell_type": "code",
   "execution_count": null,
   "id": "0fdcf5b8-7efa-42d8-a3a8-ac77fd5b9ef8",
   "metadata": {},
   "outputs": [],
   "source": []
  },
  {
   "cell_type": "code",
   "execution_count": null,
   "id": "16da8bb7-ef7c-4a21-9ed9-eb4ad0a8fd54",
   "metadata": {},
   "outputs": [],
   "source": []
  },
  {
   "cell_type": "code",
   "execution_count": null,
   "id": "3aec5c76-8f55-40c9-8d32-28470e718d43",
   "metadata": {},
   "outputs": [],
   "source": []
  },
  {
   "cell_type": "code",
   "execution_count": null,
   "id": "9e8b67e1-d044-4128-96ee-3afa051882c0",
   "metadata": {},
   "outputs": [],
   "source": []
  },
  {
   "cell_type": "code",
   "execution_count": null,
   "id": "fa8ee7c1-0a51-4cd5-9c76-ce6936ca1e1f",
   "metadata": {},
   "outputs": [],
   "source": []
  },
  {
   "cell_type": "code",
   "execution_count": null,
   "id": "4d54e97f-deff-4f8c-86d5-a5f4461f9f70",
   "metadata": {},
   "outputs": [],
   "source": []
  },
  {
   "cell_type": "code",
   "execution_count": null,
   "id": "34ce6056-0ce9-4499-b657-5d77fc491ec6",
   "metadata": {},
   "outputs": [],
   "source": []
  },
  {
   "cell_type": "code",
   "execution_count": null,
   "id": "e9767a27-321a-4520-b41b-3441432f584c",
   "metadata": {},
   "outputs": [],
   "source": []
  },
  {
   "cell_type": "code",
   "execution_count": null,
   "id": "c75e634d-d9c0-4c80-baee-8044800f6fa4",
   "metadata": {},
   "outputs": [],
   "source": []
  },
  {
   "cell_type": "code",
   "execution_count": null,
   "id": "dfba9d20-fb65-42b7-b047-f87132b48f22",
   "metadata": {},
   "outputs": [],
   "source": []
  },
  {
   "cell_type": "code",
   "execution_count": null,
   "id": "441f78ac-b3c7-4dfc-8dfd-69a73d789272",
   "metadata": {},
   "outputs": [],
   "source": []
  },
  {
   "cell_type": "code",
   "execution_count": null,
   "id": "57bf1092-8f4f-4d37-a4d5-4d6240bab6af",
   "metadata": {},
   "outputs": [],
   "source": []
  },
  {
   "cell_type": "code",
   "execution_count": null,
   "id": "5e8e26b0-a77f-47bd-a425-3defbe80dc1f",
   "metadata": {},
   "outputs": [],
   "source": []
  },
  {
   "cell_type": "code",
   "execution_count": null,
   "id": "14cc0d9f-2c67-4bd0-8699-81e44a70405b",
   "metadata": {},
   "outputs": [],
   "source": []
  },
  {
   "cell_type": "code",
   "execution_count": null,
   "id": "37601109-6129-4d04-ad16-877dcdad2af4",
   "metadata": {},
   "outputs": [],
   "source": []
  },
  {
   "cell_type": "code",
   "execution_count": null,
   "id": "b0622a3a-8e04-4b5a-9475-7e77826d6bf0",
   "metadata": {},
   "outputs": [],
   "source": []
  },
  {
   "cell_type": "code",
   "execution_count": null,
   "id": "9933659a-b7c3-495f-a90b-cc05d15d3b90",
   "metadata": {},
   "outputs": [],
   "source": []
  },
  {
   "cell_type": "code",
   "execution_count": null,
   "id": "916f6ce2-8a62-4a3f-9edf-2be62b5f5185",
   "metadata": {},
   "outputs": [],
   "source": []
  },
  {
   "cell_type": "code",
   "execution_count": null,
   "id": "bf366686-8106-4c56-a3ef-073856d2d129",
   "metadata": {},
   "outputs": [],
   "source": []
  },
  {
   "cell_type": "code",
   "execution_count": null,
   "id": "38e5749a-fb1d-4de8-8a04-322d5bbe8aa7",
   "metadata": {},
   "outputs": [],
   "source": []
  },
  {
   "cell_type": "code",
   "execution_count": null,
   "id": "1967e23e-dd0c-4020-b814-a085e387f5c8",
   "metadata": {},
   "outputs": [],
   "source": []
  },
  {
   "cell_type": "code",
   "execution_count": null,
   "id": "053f4348-7e75-4a45-963e-9b14ffca976f",
   "metadata": {},
   "outputs": [],
   "source": []
  },
  {
   "cell_type": "code",
   "execution_count": null,
   "id": "2873e4d5-208e-49b6-ad48-623135a97c18",
   "metadata": {},
   "outputs": [],
   "source": []
  },
  {
   "cell_type": "code",
   "execution_count": null,
   "id": "ac2ce787-4a53-42cb-a6d9-8241bfd56ffa",
   "metadata": {},
   "outputs": [],
   "source": []
  },
  {
   "cell_type": "code",
   "execution_count": null,
   "id": "911f8926-f9d6-45d2-9d8d-7819828fa2b5",
   "metadata": {},
   "outputs": [],
   "source": []
  },
  {
   "cell_type": "code",
   "execution_count": null,
   "id": "a092c5f2-bbd9-4499-8e2b-f170644f507a",
   "metadata": {},
   "outputs": [],
   "source": []
  },
  {
   "cell_type": "code",
   "execution_count": null,
   "id": "d2819e81-6669-4b2e-aa83-3b7397ccb41e",
   "metadata": {},
   "outputs": [],
   "source": []
  },
  {
   "cell_type": "code",
   "execution_count": null,
   "id": "fffcf97f-ba60-4cda-8291-946bcc45ddca",
   "metadata": {},
   "outputs": [],
   "source": []
  },
  {
   "cell_type": "code",
   "execution_count": null,
   "id": "58b44ae5-e0ec-412d-a4c8-cfa32b3cca92",
   "metadata": {},
   "outputs": [],
   "source": []
  },
  {
   "cell_type": "code",
   "execution_count": null,
   "id": "e7138b75-2a20-4e29-a463-f1a6a6cc3a14",
   "metadata": {},
   "outputs": [],
   "source": []
  },
  {
   "cell_type": "code",
   "execution_count": null,
   "id": "f104fb08-eb59-4ab2-b435-0a2e589ef456",
   "metadata": {},
   "outputs": [],
   "source": []
  },
  {
   "cell_type": "code",
   "execution_count": null,
   "id": "daf92a38-93b5-476a-8e63-0192fbf0ec19",
   "metadata": {},
   "outputs": [],
   "source": []
  },
  {
   "cell_type": "code",
   "execution_count": null,
   "id": "7b7d6bfb-e1c7-44c7-9b28-18c77265c611",
   "metadata": {},
   "outputs": [],
   "source": []
  },
  {
   "cell_type": "code",
   "execution_count": null,
   "id": "e2dcd134-68e7-4b10-a280-6e9796976cce",
   "metadata": {},
   "outputs": [],
   "source": []
  },
  {
   "cell_type": "code",
   "execution_count": null,
   "id": "f49ea1ae-a763-4c68-85f4-223ca7af7869",
   "metadata": {},
   "outputs": [],
   "source": []
  },
  {
   "cell_type": "code",
   "execution_count": null,
   "id": "3971944b-99eb-49a7-ad9c-521a41d7de7a",
   "metadata": {},
   "outputs": [],
   "source": []
  },
  {
   "cell_type": "code",
   "execution_count": null,
   "id": "c4ba12a3-2300-457a-9d0e-8cccaa107a6c",
   "metadata": {},
   "outputs": [],
   "source": []
  },
  {
   "cell_type": "code",
   "execution_count": null,
   "id": "84b2e0fd-6071-4f21-9304-ae4511a6b776",
   "metadata": {},
   "outputs": [],
   "source": []
  },
  {
   "cell_type": "code",
   "execution_count": null,
   "id": "df02a3e2-0e3f-4afb-a4e7-bcfb18ddc3c4",
   "metadata": {},
   "outputs": [],
   "source": []
  },
  {
   "cell_type": "code",
   "execution_count": null,
   "id": "34b8b6a7-ba80-4a87-a248-bd271b5e1cb3",
   "metadata": {},
   "outputs": [],
   "source": []
  },
  {
   "cell_type": "code",
   "execution_count": null,
   "id": "e8b21baa-ffa4-436f-89d7-9013500c8ad2",
   "metadata": {},
   "outputs": [],
   "source": []
  },
  {
   "cell_type": "code",
   "execution_count": null,
   "id": "14c5a12b-efbe-4bf5-959a-55510fd7547f",
   "metadata": {},
   "outputs": [],
   "source": []
  },
  {
   "cell_type": "code",
   "execution_count": null,
   "id": "7ed96952-6789-4a77-af31-37eaab3a047f",
   "metadata": {},
   "outputs": [],
   "source": []
  },
  {
   "cell_type": "code",
   "execution_count": null,
   "id": "6089a694-9690-49a2-a767-d5b6a70d5c0c",
   "metadata": {},
   "outputs": [],
   "source": []
  },
  {
   "cell_type": "code",
   "execution_count": null,
   "id": "f7048fd2-6b4e-42df-9551-9a3647691ba6",
   "metadata": {},
   "outputs": [],
   "source": []
  },
  {
   "cell_type": "code",
   "execution_count": null,
   "id": "6b5a8a39-1540-45ed-bd74-a952efa16f2b",
   "metadata": {},
   "outputs": [],
   "source": []
  },
  {
   "cell_type": "code",
   "execution_count": null,
   "id": "c22a6b91-3849-4546-8311-8a018f88b9a2",
   "metadata": {},
   "outputs": [],
   "source": []
  },
  {
   "cell_type": "code",
   "execution_count": null,
   "id": "596024a6-aa8f-4d03-907d-ee286bfb6b1c",
   "metadata": {},
   "outputs": [],
   "source": []
  },
  {
   "cell_type": "code",
   "execution_count": null,
   "id": "2b8f40b0-03e0-4b29-9c73-679f14470e8b",
   "metadata": {},
   "outputs": [],
   "source": []
  },
  {
   "cell_type": "code",
   "execution_count": null,
   "id": "9109796c-eab4-49bb-af18-8babd8318f97",
   "metadata": {},
   "outputs": [],
   "source": []
  },
  {
   "cell_type": "code",
   "execution_count": null,
   "id": "e32de58a-b2d4-43ab-9abe-74e80ec9f06b",
   "metadata": {},
   "outputs": [],
   "source": []
  },
  {
   "cell_type": "code",
   "execution_count": null,
   "id": "babf48a4-7fec-454a-bec0-2521bd8f9463",
   "metadata": {},
   "outputs": [],
   "source": []
  },
  {
   "cell_type": "code",
   "execution_count": null,
   "id": "068be93d-9250-4bb6-b128-06d08f241d07",
   "metadata": {},
   "outputs": [],
   "source": []
  },
  {
   "cell_type": "code",
   "execution_count": null,
   "id": "1d47b316-f9c0-4f15-b4a4-44c10b621f92",
   "metadata": {},
   "outputs": [],
   "source": []
  },
  {
   "cell_type": "code",
   "execution_count": null,
   "id": "cd3bac54-b575-4279-af32-66904b777a3e",
   "metadata": {},
   "outputs": [],
   "source": []
  },
  {
   "cell_type": "code",
   "execution_count": null,
   "id": "886da05c-dca1-4423-b8b7-659658e85fee",
   "metadata": {},
   "outputs": [],
   "source": []
  },
  {
   "cell_type": "code",
   "execution_count": null,
   "id": "4844b5c7-c01e-41b0-a2b0-c3e2ded16d54",
   "metadata": {},
   "outputs": [],
   "source": []
  },
  {
   "cell_type": "code",
   "execution_count": null,
   "id": "f3b92adb-ef82-4f9f-9fb8-ed1debbaa240",
   "metadata": {},
   "outputs": [],
   "source": []
  },
  {
   "cell_type": "code",
   "execution_count": null,
   "id": "2907ee39-8f7d-40a3-bc91-c77895135621",
   "metadata": {},
   "outputs": [],
   "source": []
  },
  {
   "cell_type": "code",
   "execution_count": null,
   "id": "7d02330d-2c5a-47a0-8d4f-7b30da502128",
   "metadata": {},
   "outputs": [],
   "source": []
  },
  {
   "cell_type": "code",
   "execution_count": null,
   "id": "19d4a466-6f9f-4a45-8c4a-821a8509334c",
   "metadata": {},
   "outputs": [],
   "source": []
  },
  {
   "cell_type": "code",
   "execution_count": null,
   "id": "3a76308b-4bc0-4c3e-bd9e-49c1eb5e0c61",
   "metadata": {},
   "outputs": [],
   "source": []
  },
  {
   "cell_type": "code",
   "execution_count": null,
   "id": "b0b227cb-09b4-435f-9710-f45a4350d629",
   "metadata": {},
   "outputs": [],
   "source": []
  },
  {
   "cell_type": "code",
   "execution_count": null,
   "id": "c40f9b82-7f67-4b90-8b17-0e73c01554a8",
   "metadata": {},
   "outputs": [],
   "source": []
  },
  {
   "cell_type": "code",
   "execution_count": null,
   "id": "e1a5c2f6-4f43-40a2-ba4d-e22fc36aa9e1",
   "metadata": {},
   "outputs": [],
   "source": []
  },
  {
   "cell_type": "code",
   "execution_count": null,
   "id": "4f93299b-55ce-4a7e-9da9-84ab6c8138d4",
   "metadata": {},
   "outputs": [],
   "source": []
  },
  {
   "cell_type": "code",
   "execution_count": null,
   "id": "2af95f86-82e6-4436-9dc0-05266fe25d01",
   "metadata": {},
   "outputs": [],
   "source": []
  },
  {
   "cell_type": "code",
   "execution_count": null,
   "id": "a7fa1296-8588-4cb9-8709-a59acb4375cd",
   "metadata": {},
   "outputs": [],
   "source": []
  },
  {
   "cell_type": "code",
   "execution_count": null,
   "id": "3b59ddf2-b209-409f-9fa5-dd482e427292",
   "metadata": {},
   "outputs": [],
   "source": []
  },
  {
   "cell_type": "code",
   "execution_count": null,
   "id": "8425ae41-43b5-42d9-b522-2d4276ae289e",
   "metadata": {},
   "outputs": [],
   "source": []
  },
  {
   "cell_type": "code",
   "execution_count": null,
   "id": "f91a00de-1ffc-4318-abc2-c643e27d8c43",
   "metadata": {},
   "outputs": [],
   "source": []
  },
  {
   "cell_type": "code",
   "execution_count": null,
   "id": "32d4efa1-fea1-4c76-80ae-f3b584145456",
   "metadata": {},
   "outputs": [],
   "source": []
  },
  {
   "cell_type": "code",
   "execution_count": null,
   "id": "f6ea0d11-04f3-4465-814f-73da75fd6e55",
   "metadata": {},
   "outputs": [],
   "source": []
  },
  {
   "cell_type": "code",
   "execution_count": null,
   "id": "c7c2f30b-40a2-47dd-9928-b37b38249695",
   "metadata": {},
   "outputs": [],
   "source": []
  },
  {
   "cell_type": "code",
   "execution_count": null,
   "id": "5ac2399e-d3c4-410f-a44b-28a3f683405f",
   "metadata": {},
   "outputs": [],
   "source": []
  },
  {
   "cell_type": "code",
   "execution_count": null,
   "id": "167c58ae-2476-482b-962a-d017a6557799",
   "metadata": {},
   "outputs": [],
   "source": []
  },
  {
   "cell_type": "code",
   "execution_count": null,
   "id": "8030063a-b819-4ebd-b4ae-dca80865b377",
   "metadata": {},
   "outputs": [],
   "source": []
  },
  {
   "cell_type": "code",
   "execution_count": null,
   "id": "706bbf39-86f0-4532-a101-880f1408c538",
   "metadata": {},
   "outputs": [],
   "source": []
  },
  {
   "cell_type": "code",
   "execution_count": null,
   "id": "eff2555a-58ee-4ad9-9336-5cdb0989c182",
   "metadata": {},
   "outputs": [],
   "source": []
  },
  {
   "cell_type": "code",
   "execution_count": null,
   "id": "4a1aef9e-ebc2-4cde-82f2-f8bdcaeec50d",
   "metadata": {},
   "outputs": [],
   "source": []
  },
  {
   "cell_type": "code",
   "execution_count": null,
   "id": "487c284c-84d1-493e-aae6-f0efcdf94656",
   "metadata": {},
   "outputs": [],
   "source": []
  },
  {
   "cell_type": "code",
   "execution_count": null,
   "id": "575ecabe-8cb0-4284-99ef-9c33ffa0b9d5",
   "metadata": {},
   "outputs": [],
   "source": []
  },
  {
   "cell_type": "code",
   "execution_count": null,
   "id": "8de83330-27b3-48fb-8787-61fd52bb58a2",
   "metadata": {},
   "outputs": [],
   "source": []
  },
  {
   "cell_type": "code",
   "execution_count": null,
   "id": "301a5b16-b603-43e2-beff-fdf39c8850a5",
   "metadata": {},
   "outputs": [],
   "source": []
  },
  {
   "cell_type": "code",
   "execution_count": null,
   "id": "eb42dc78-3ebe-4408-b8eb-399693d1b846",
   "metadata": {},
   "outputs": [],
   "source": []
  },
  {
   "cell_type": "code",
   "execution_count": null,
   "id": "e60ccef4-7247-4cf5-a174-8f289422fc1d",
   "metadata": {},
   "outputs": [],
   "source": []
  },
  {
   "cell_type": "code",
   "execution_count": null,
   "id": "2ec15846-1857-40c7-a70b-4f3087e63658",
   "metadata": {},
   "outputs": [],
   "source": []
  },
  {
   "cell_type": "code",
   "execution_count": null,
   "id": "5c60118c-0dbc-4f72-9330-300e96a79322",
   "metadata": {},
   "outputs": [],
   "source": []
  },
  {
   "cell_type": "code",
   "execution_count": null,
   "id": "3e24b738-9fb4-4169-8263-755d3933e99e",
   "metadata": {},
   "outputs": [],
   "source": []
  },
  {
   "cell_type": "code",
   "execution_count": null,
   "id": "989b47b4-1636-421a-a92b-fbed32e14c0c",
   "metadata": {},
   "outputs": [],
   "source": []
  },
  {
   "cell_type": "code",
   "execution_count": null,
   "id": "f72cbe9e-f813-4525-a896-83303b05b22f",
   "metadata": {},
   "outputs": [],
   "source": []
  },
  {
   "cell_type": "code",
   "execution_count": null,
   "id": "73a4eee1-8310-4e79-a500-d2b5c769e4a5",
   "metadata": {},
   "outputs": [],
   "source": []
  },
  {
   "cell_type": "code",
   "execution_count": null,
   "id": "e1671fdf-3676-4653-a017-8b2de60ae04d",
   "metadata": {},
   "outputs": [],
   "source": []
  },
  {
   "cell_type": "code",
   "execution_count": null,
   "id": "d8240f21-5e3f-478d-89c0-08f643cc4312",
   "metadata": {},
   "outputs": [],
   "source": []
  },
  {
   "cell_type": "code",
   "execution_count": null,
   "id": "120f29cf-094a-4c18-89a4-78590c0260e4",
   "metadata": {},
   "outputs": [],
   "source": []
  },
  {
   "cell_type": "code",
   "execution_count": null,
   "id": "cb06788b-d0c8-4a59-a749-29cd403873d6",
   "metadata": {},
   "outputs": [],
   "source": []
  },
  {
   "cell_type": "code",
   "execution_count": null,
   "id": "56c2ad34-7ea7-430e-87e2-76bd11565426",
   "metadata": {},
   "outputs": [],
   "source": []
  },
  {
   "cell_type": "code",
   "execution_count": null,
   "id": "0a92cd3a-5200-4759-9d1f-2ea12fdfe702",
   "metadata": {},
   "outputs": [],
   "source": []
  },
  {
   "cell_type": "code",
   "execution_count": null,
   "id": "91dd2a3c-1e48-470c-a52a-1ef393969bce",
   "metadata": {},
   "outputs": [],
   "source": []
  },
  {
   "cell_type": "code",
   "execution_count": null,
   "id": "f4bd5e72-bdaa-4252-a66e-ad643d1a360a",
   "metadata": {},
   "outputs": [],
   "source": []
  },
  {
   "cell_type": "code",
   "execution_count": null,
   "id": "004dd0bf-3145-40b0-a2d7-13f7b0808f17",
   "metadata": {},
   "outputs": [],
   "source": []
  },
  {
   "cell_type": "code",
   "execution_count": null,
   "id": "e6171791-5d64-418d-9b9e-be42758ec272",
   "metadata": {},
   "outputs": [],
   "source": []
  },
  {
   "cell_type": "code",
   "execution_count": null,
   "id": "de938267-3ccc-4f58-b8e3-94896e270d68",
   "metadata": {},
   "outputs": [],
   "source": []
  },
  {
   "cell_type": "code",
   "execution_count": null,
   "id": "6d41e445-1b99-4135-be46-ba91f8b5cd1c",
   "metadata": {},
   "outputs": [],
   "source": []
  },
  {
   "cell_type": "code",
   "execution_count": null,
   "id": "19ad2517-e558-46bf-b4e0-b37cba31aba9",
   "metadata": {},
   "outputs": [],
   "source": []
  },
  {
   "cell_type": "code",
   "execution_count": null,
   "id": "b03f4439-b433-4037-a888-6495a41fa2a6",
   "metadata": {},
   "outputs": [],
   "source": []
  },
  {
   "cell_type": "code",
   "execution_count": null,
   "id": "e89ed093-0b82-42a9-a199-2a4b2f2fb06d",
   "metadata": {},
   "outputs": [],
   "source": []
  },
  {
   "cell_type": "code",
   "execution_count": null,
   "id": "622055f3-9c54-4672-9b39-c767beff9c61",
   "metadata": {},
   "outputs": [],
   "source": []
  },
  {
   "cell_type": "code",
   "execution_count": null,
   "id": "3073daca-4f7a-4432-b43a-562a4ce21ec4",
   "metadata": {},
   "outputs": [],
   "source": []
  },
  {
   "cell_type": "code",
   "execution_count": null,
   "id": "00395893-4f85-4f68-a60b-24b6190e9647",
   "metadata": {},
   "outputs": [],
   "source": []
  },
  {
   "cell_type": "code",
   "execution_count": null,
   "id": "86cb0efe-da25-4da5-9a07-a322182ea719",
   "metadata": {},
   "outputs": [],
   "source": []
  },
  {
   "cell_type": "code",
   "execution_count": null,
   "id": "daf7862d-0271-4622-b36c-18c9f961f91a",
   "metadata": {},
   "outputs": [],
   "source": []
  },
  {
   "cell_type": "code",
   "execution_count": null,
   "id": "4b026602-00d9-41f4-a16e-df4b8f63471a",
   "metadata": {},
   "outputs": [],
   "source": []
  },
  {
   "cell_type": "code",
   "execution_count": null,
   "id": "7581c481-909e-4961-ad87-47dcffb14d1c",
   "metadata": {},
   "outputs": [],
   "source": []
  },
  {
   "cell_type": "code",
   "execution_count": null,
   "id": "28b874d1-d775-4876-b73f-94df8faf8ab0",
   "metadata": {},
   "outputs": [],
   "source": []
  },
  {
   "cell_type": "code",
   "execution_count": null,
   "id": "dc8593c9-31e9-4869-aad8-9de7f42071aa",
   "metadata": {},
   "outputs": [],
   "source": []
  },
  {
   "cell_type": "code",
   "execution_count": null,
   "id": "064d8674-7c7e-456b-8682-9299953575c2",
   "metadata": {},
   "outputs": [],
   "source": []
  },
  {
   "cell_type": "code",
   "execution_count": null,
   "id": "6cfa274b-d5ee-46a9-86d6-ee92c318ef75",
   "metadata": {},
   "outputs": [],
   "source": []
  },
  {
   "cell_type": "code",
   "execution_count": null,
   "id": "eb8e600d-d298-49ef-ae11-6db66de75a4a",
   "metadata": {},
   "outputs": [],
   "source": []
  },
  {
   "cell_type": "code",
   "execution_count": null,
   "id": "f3610a54-89b8-49a7-b14a-621d52091808",
   "metadata": {},
   "outputs": [],
   "source": []
  },
  {
   "cell_type": "code",
   "execution_count": null,
   "id": "408c0534-8e6d-42c2-8ac5-2f9c936d1d1c",
   "metadata": {},
   "outputs": [],
   "source": []
  },
  {
   "cell_type": "code",
   "execution_count": null,
   "id": "63d44c2f-1d92-4bf6-b199-0acaf0c7430f",
   "metadata": {},
   "outputs": [],
   "source": []
  },
  {
   "cell_type": "code",
   "execution_count": null,
   "id": "b9ac87ec-08d2-49eb-b092-2053dd9e08ca",
   "metadata": {},
   "outputs": [],
   "source": []
  },
  {
   "cell_type": "code",
   "execution_count": null,
   "id": "42762ab9-ae7b-4858-beb1-23accd320fbd",
   "metadata": {},
   "outputs": [],
   "source": []
  },
  {
   "cell_type": "code",
   "execution_count": null,
   "id": "d581eee4-2153-49c5-9c35-e50460bbc931",
   "metadata": {},
   "outputs": [],
   "source": []
  },
  {
   "cell_type": "code",
   "execution_count": null,
   "id": "ed70b108-c486-4668-b04b-569d3b0517ad",
   "metadata": {},
   "outputs": [],
   "source": []
  },
  {
   "cell_type": "code",
   "execution_count": null,
   "id": "67fdecb0-c98a-45f3-bffc-1ae0e50d21b5",
   "metadata": {},
   "outputs": [],
   "source": []
  },
  {
   "cell_type": "code",
   "execution_count": null,
   "id": "526548e2-ef9a-4e75-b096-00dae4866644",
   "metadata": {},
   "outputs": [],
   "source": []
  },
  {
   "cell_type": "code",
   "execution_count": null,
   "id": "e83e02f9-9a71-4cd1-b6d0-58dc8bad6e90",
   "metadata": {},
   "outputs": [],
   "source": []
  },
  {
   "cell_type": "code",
   "execution_count": null,
   "id": "a4f7b285-555c-489a-bb64-cc1d01d30f4a",
   "metadata": {},
   "outputs": [],
   "source": []
  },
  {
   "cell_type": "code",
   "execution_count": null,
   "id": "37d5a4f5-736b-416e-883e-86e9ff07deba",
   "metadata": {},
   "outputs": [],
   "source": []
  },
  {
   "cell_type": "code",
   "execution_count": null,
   "id": "feb62533-4db0-47d6-8cc8-beed091cfd29",
   "metadata": {},
   "outputs": [],
   "source": []
  },
  {
   "cell_type": "code",
   "execution_count": null,
   "id": "6b6f8585-2175-465b-b1d4-965f1056f2ce",
   "metadata": {},
   "outputs": [],
   "source": []
  },
  {
   "cell_type": "code",
   "execution_count": null,
   "id": "59e231e0-5ef5-496e-945c-8a5776e85ce9",
   "metadata": {},
   "outputs": [],
   "source": []
  },
  {
   "cell_type": "code",
   "execution_count": null,
   "id": "f39bd1f7-b743-4901-91fb-f303c5745d20",
   "metadata": {},
   "outputs": [],
   "source": []
  },
  {
   "cell_type": "code",
   "execution_count": null,
   "id": "1cd5e6c2-6097-4d20-8c97-5011cd75d7ea",
   "metadata": {},
   "outputs": [],
   "source": []
  },
  {
   "cell_type": "code",
   "execution_count": null,
   "id": "3bf6ba39-b37c-4050-82d7-48e8fe7639c8",
   "metadata": {},
   "outputs": [],
   "source": []
  },
  {
   "cell_type": "code",
   "execution_count": null,
   "id": "7d2c6c8d-fe80-4360-9628-88b27a950eb4",
   "metadata": {},
   "outputs": [],
   "source": []
  },
  {
   "cell_type": "code",
   "execution_count": null,
   "id": "5cd00879-512a-4e5f-848c-7a9055483a18",
   "metadata": {},
   "outputs": [],
   "source": []
  },
  {
   "cell_type": "code",
   "execution_count": null,
   "id": "4977b604-ce4a-4449-8014-c02cfc291531",
   "metadata": {},
   "outputs": [],
   "source": []
  },
  {
   "cell_type": "code",
   "execution_count": null,
   "id": "d6ab9dda-a3cc-4314-b97c-ab9e05a323b3",
   "metadata": {},
   "outputs": [],
   "source": []
  },
  {
   "cell_type": "code",
   "execution_count": null,
   "id": "ec1641a5-2766-40ce-9b2b-2eb84d2894f4",
   "metadata": {},
   "outputs": [],
   "source": []
  },
  {
   "cell_type": "code",
   "execution_count": null,
   "id": "7b160900-5eb5-4b32-987e-ee9ba65893c9",
   "metadata": {},
   "outputs": [],
   "source": []
  },
  {
   "cell_type": "code",
   "execution_count": null,
   "id": "dda7bf07-71d0-4737-bee4-9da0bae91691",
   "metadata": {},
   "outputs": [],
   "source": []
  },
  {
   "cell_type": "code",
   "execution_count": null,
   "id": "7da264a2-53bf-4e6d-bf41-ad4d28ece964",
   "metadata": {},
   "outputs": [],
   "source": []
  },
  {
   "cell_type": "code",
   "execution_count": null,
   "id": "4fcd4ca2-dd35-4ea8-b09c-9a357a85378a",
   "metadata": {},
   "outputs": [],
   "source": []
  },
  {
   "cell_type": "code",
   "execution_count": null,
   "id": "52e4a3cc-76d8-439c-9ac7-2c432a5f735a",
   "metadata": {},
   "outputs": [],
   "source": []
  },
  {
   "cell_type": "code",
   "execution_count": null,
   "id": "3ed03267-3d57-4166-b18d-e6a84bdcae07",
   "metadata": {},
   "outputs": [],
   "source": []
  },
  {
   "cell_type": "code",
   "execution_count": null,
   "id": "1e491a23-6141-4e94-a677-4ceafd81e002",
   "metadata": {},
   "outputs": [],
   "source": []
  },
  {
   "cell_type": "code",
   "execution_count": null,
   "id": "c2b87c80-8f93-4226-9afd-acf6d7cf93a6",
   "metadata": {},
   "outputs": [],
   "source": []
  },
  {
   "cell_type": "code",
   "execution_count": null,
   "id": "98a24fcc-e925-4d37-a470-488fe21c8913",
   "metadata": {},
   "outputs": [],
   "source": []
  },
  {
   "cell_type": "code",
   "execution_count": null,
   "id": "760c4e03-2c05-4651-899a-3ae4822b3cbd",
   "metadata": {},
   "outputs": [],
   "source": []
  },
  {
   "cell_type": "code",
   "execution_count": null,
   "id": "fe0e8f20-8d2e-41e2-b2d0-919ce4a0d09a",
   "metadata": {},
   "outputs": [],
   "source": []
  },
  {
   "cell_type": "code",
   "execution_count": null,
   "id": "f77cc771-2a24-4f99-9736-d251cd4bf326",
   "metadata": {},
   "outputs": [],
   "source": []
  },
  {
   "cell_type": "code",
   "execution_count": null,
   "id": "3adace38-5bf0-4bfd-ac5f-31ed79f07814",
   "metadata": {},
   "outputs": [],
   "source": []
  },
  {
   "cell_type": "code",
   "execution_count": null,
   "id": "302ecb3f-8a3c-4965-aa7e-3f0fbda74b91",
   "metadata": {},
   "outputs": [],
   "source": []
  },
  {
   "cell_type": "code",
   "execution_count": null,
   "id": "6dbd34a1-7f71-437e-a456-e143c94b7383",
   "metadata": {},
   "outputs": [],
   "source": []
  },
  {
   "cell_type": "code",
   "execution_count": null,
   "id": "4a252d95-1b53-4fb4-91c3-fb471e150d93",
   "metadata": {},
   "outputs": [],
   "source": []
  },
  {
   "cell_type": "code",
   "execution_count": null,
   "id": "3bf58380-7690-462e-b7bf-c1c529bfa144",
   "metadata": {},
   "outputs": [],
   "source": []
  },
  {
   "cell_type": "code",
   "execution_count": null,
   "id": "b40c4ca3-da29-4e4b-a9ee-af34a7919dcd",
   "metadata": {},
   "outputs": [],
   "source": []
  },
  {
   "cell_type": "code",
   "execution_count": null,
   "id": "401412cd-96de-4054-b69c-64692b85a272",
   "metadata": {},
   "outputs": [],
   "source": []
  },
  {
   "cell_type": "code",
   "execution_count": null,
   "id": "58c739d3-a2fc-4841-812c-0ab37b01c90d",
   "metadata": {},
   "outputs": [],
   "source": []
  },
  {
   "cell_type": "code",
   "execution_count": null,
   "id": "d400210a-a67c-4b5b-b75e-a1c80007dcd3",
   "metadata": {},
   "outputs": [],
   "source": []
  },
  {
   "cell_type": "code",
   "execution_count": null,
   "id": "f7c483f8-c431-4074-af41-b4dcaf743468",
   "metadata": {},
   "outputs": [],
   "source": []
  },
  {
   "cell_type": "code",
   "execution_count": null,
   "id": "951631ce-fce5-4015-9071-e0fe9184ad78",
   "metadata": {},
   "outputs": [],
   "source": []
  },
  {
   "cell_type": "code",
   "execution_count": null,
   "id": "4d3d3fc6-0f5a-4797-98db-316965add31b",
   "metadata": {},
   "outputs": [],
   "source": []
  },
  {
   "cell_type": "code",
   "execution_count": null,
   "id": "7a155f39-4c9c-41cf-93c6-d4067a1f6083",
   "metadata": {},
   "outputs": [],
   "source": []
  },
  {
   "cell_type": "code",
   "execution_count": null,
   "id": "b6aea0c9-9d08-4895-b09e-8f7aef09243a",
   "metadata": {},
   "outputs": [],
   "source": []
  }
 ],
 "metadata": {
  "kernelspec": {
   "display_name": "Python 3 (ipykernel)",
   "language": "python",
   "name": "python3"
  },
  "language_info": {
   "codemirror_mode": {
    "name": "ipython",
    "version": 3
   },
   "file_extension": ".py",
   "mimetype": "text/x-python",
   "name": "python",
   "nbconvert_exporter": "python",
   "pygments_lexer": "ipython3",
   "version": "3.6.3"
  }
 },
 "nbformat": 4,
 "nbformat_minor": 5
}
