{
 "cells": [
  {
   "cell_type": "markdown",
   "id": "397ba959-f840-4d91-a215-61c588f60c13",
   "metadata": {
    "tags": []
   },
   "source": [
    "# 周赛 (11.20)"
   ]
  },
  {
   "cell_type": "markdown",
   "id": "bbe79800-075d-4323-baf8-8b594ce75234",
   "metadata": {
    "jp-MarkdownHeadingCollapsed": true,
    "tags": []
   },
   "source": [
    "## 1."
   ]
  },
  {
   "cell_type": "code",
   "execution_count": 47,
   "id": "cedc83f9-34ec-450b-8f21-1d2aea19cdf0",
   "metadata": {},
   "outputs": [],
   "source": [
    "from typing import List\n",
    "class Solution:\n",
    "    def unequalTriplets(self, nums: List[int]) -> int:\n",
    "        n = len(nums)\n",
    "        ans = 0\n",
    "        for i in range(n):\n",
    "            for j in range(i + 1, n):\n",
    "                for k in range(j + 1, n):\n",
    "                    if len(set((nums[i], nums[j], nums[k]))) == 3:\n",
    "                        ans += 1\n",
    "        return ans"
   ]
  },
  {
   "cell_type": "code",
   "execution_count": 48,
   "id": "c0531495-fb3d-4a58-bd17-8c50f163aa0c",
   "metadata": {},
   "outputs": [],
   "source": [
    "nums = [1,3,1,2,4]"
   ]
  },
  {
   "cell_type": "code",
   "execution_count": 49,
   "id": "001a9d84-4635-4916-8d64-b2cacc073d24",
   "metadata": {},
   "outputs": [
    {
     "data": {
      "text/plain": [
       "7"
      ]
     },
     "execution_count": 49,
     "metadata": {},
     "output_type": "execute_result"
    }
   ],
   "source": [
    "s = Solution()\n",
    "s.unequalTriplets(nums)"
   ]
  },
  {
   "cell_type": "markdown",
   "id": "e6db69c6-30b3-4360-80c7-7d9144c8becc",
   "metadata": {
    "jp-MarkdownHeadingCollapsed": true,
    "tags": []
   },
   "source": [
    "## 2."
   ]
  },
  {
   "cell_type": "code",
   "execution_count": 50,
   "id": "69ad4312-cdbf-475b-9698-9ac2159e90f5",
   "metadata": {},
   "outputs": [],
   "source": [
    "# Definition for a binary tree node.\n",
    "class TreeNode:\n",
    "    def __init__(self, val=0, left=None, right=None):\n",
    "        self.val = val\n",
    "        self.left = left\n",
    "        self.right = right"
   ]
  },
  {
   "cell_type": "code",
   "execution_count": 57,
   "id": "d56425d2-99db-4a92-b4af-91a4bcfae78e",
   "metadata": {},
   "outputs": [],
   "source": [
    "from bisect import bisect_left, bisect_right\n",
    "from typing import Optional\n",
    "class Solution:\n",
    "    def closestNodes(self, root: Optional[TreeNode], queries: List[int]) -> List[List[int]]:\n",
    "        def dfs(root):\n",
    "            if not root: return\n",
    "            dfs(root.left)\n",
    "            res.append(root.val)\n",
    "            dfs(root.right)\n",
    "        res = []\n",
    "        dfs(root)\n",
    "        \n",
    "        ans = []\n",
    "        n = len(res)\n",
    "        for q in queries:\n",
    "            left = right = -1\n",
    "            idx = bisect_left(res, q)\n",
    "            if idx == 0:\n",
    "                left = -1 if res[0] != q else res[0]\n",
    "                right = res[0]\n",
    "            elif idx == n:\n",
    "                right = -1 if res[n - 1] != q else res[n - 1]\n",
    "                left = res[n - 1]\n",
    "            else:\n",
    "                left = res[idx] if q == res[idx] else res[idx - 1]\n",
    "                right = res[idx]\n",
    "            ans.append([left, right])\n",
    "        return ans"
   ]
  },
  {
   "cell_type": "code",
   "execution_count": 64,
   "id": "76ea4186-ca18-4c61-966b-fb803d9f1faf",
   "metadata": {},
   "outputs": [],
   "source": [
    "res = [4,9]\n",
    "queries = [3]\n",
    "n = len(res)"
   ]
  },
  {
   "cell_type": "code",
   "execution_count": 65,
   "id": "ab87b95f-76b8-4bfd-ad4e-fd0d12ebfb14",
   "metadata": {},
   "outputs": [],
   "source": [
    "from bisect import bisect_left\n",
    "ans = []\n",
    "for q in queries:\n",
    "    left = right = -1\n",
    "    idx = bisect_left(res, q)\n",
    "    if idx == 0:\n",
    "        left = -1 if res[0] != q else res[0]\n",
    "        right = res[0]\n",
    "    elif idx == n:\n",
    "        right = -1 if res[n - 1] != q else res[n - 1]\n",
    "        left = res[n - 1]\n",
    "    else:\n",
    "        left = res[idx] if q == res[idx] else res[idx - 1]\n",
    "        right = res[idx]\n",
    "    ans.append([left, right])"
   ]
  },
  {
   "cell_type": "code",
   "execution_count": 66,
   "id": "debb3b24-03ee-47b2-adcd-a7d00713b62e",
   "metadata": {},
   "outputs": [
    {
     "data": {
      "text/plain": [
       "[[-1, 4]]"
      ]
     },
     "execution_count": 66,
     "metadata": {},
     "output_type": "execute_result"
    }
   ],
   "source": [
    "ans"
   ]
  }
 ],
 "metadata": {
  "kernelspec": {
   "display_name": "Python 3 (ipykernel)",
   "language": "python",
   "name": "python3"
  },
  "language_info": {
   "codemirror_mode": {
    "name": "ipython",
    "version": 3
   },
   "file_extension": ".py",
   "mimetype": "text/x-python",
   "name": "python",
   "nbconvert_exporter": "python",
   "pygments_lexer": "ipython3",
   "version": "3.6.3"
  }
 },
 "nbformat": 4,
 "nbformat_minor": 5
}
