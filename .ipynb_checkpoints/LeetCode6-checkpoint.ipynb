{
 "cells": [
  {
   "cell_type": "code",
   "execution_count": 18,
   "id": "9765d0c0",
   "metadata": {},
   "outputs": [],
   "source": [
    "from collections import Counter\n",
    "from typing import List,Optional\n",
    "\n",
    "# Definition for a binary tree node.\n",
    "class TreeNode:\n",
    "    def __init__(self, val=0, left=None, right=None):\n",
    "        self.val = val\n",
    "        self.left = left\n",
    "        self.right = right\n",
    "\n",
    "# Definition for singly-linked list.\n",
    "class ListNode:\n",
    "    def __init__(self, val=0, next=None):\n",
    "        self.val = val\n",
    "        self.next = next"
   ]
  },
  {
   "cell_type": "markdown",
   "id": "deb26412",
   "metadata": {},
   "source": [
    "## 1302. 层数最深叶子节点的和 （8.17生日快乐）"
   ]
  },
  {
   "cell_type": "code",
   "execution_count": 90,
   "id": "e00c6ab9",
   "metadata": {},
   "outputs": [],
   "source": [
    "from collections import defaultdict\n",
    "class Solution:\n",
    "    def deepestLeavesSum(self, root: Optional[TreeNode]) -> int:\n",
    "        stack = [(root,0)]\n",
    "        layersum = defaultdict(int)\n",
    "        while stack:\n",
    "            cur,layer = stack.pop(0)\n",
    "            layersum[layer] += cur.val\n",
    "            if cur.left:\n",
    "                stack.append((cur.left,layer+1))\n",
    "            if cur.right:\n",
    "                stack.append((cur.right,layer+1))\n",
    "#         print(layer)\n",
    "        return layersum[layer]"
   ]
  },
  {
   "cell_type": "code",
   "execution_count": 20,
   "id": "30c65468",
   "metadata": {},
   "outputs": [],
   "source": [
    "def constructTree(l:list) -> Optional[TreeNode]:\n",
    "    head = TreeNode(val=l.pop(0))\n",
    "    queue = [head]\n",
    "    while l and queue:\n",
    "        cur = queue.pop(0)\n",
    "        lval = l.pop(0)\n",
    "        if lval:\n",
    "            curl = TreeNode(val=lval)\n",
    "            queue.append(curl)\n",
    "            cur.left = curl\n",
    "        if l:\n",
    "            rval = l.pop(0)\n",
    "            if rval:\n",
    "                curr = TreeNode(val=rval)\n",
    "                queue.append(curr)\n",
    "                cur.right =  curr\n",
    "#         print(queue)\n",
    "    return head"
   ]
  },
  {
   "cell_type": "code",
   "execution_count": 85,
   "id": "38b50a26",
   "metadata": {},
   "outputs": [],
   "source": [
    "null = None\n",
    "root = [6,7,8,2,7,1,3,9,null,1,4,null,null,null,5]"
   ]
  },
  {
   "cell_type": "code",
   "execution_count": 86,
   "id": "41983412",
   "metadata": {},
   "outputs": [],
   "source": [
    "a = constructTree(root)"
   ]
  },
  {
   "cell_type": "code",
   "execution_count": 23,
   "id": "b0038595",
   "metadata": {},
   "outputs": [],
   "source": [
    "def inorderTraversal(root):\n",
    "    res = []\n",
    "    def Traversal(subroot):\n",
    "        if not subroot:\n",
    "            return \n",
    "        Traversal(subroot.left)\n",
    "        res.append(subroot.val)\n",
    "        Traversal(subroot.right)\n",
    "    Traversal(root)\n",
    "    return res"
   ]
  },
  {
   "cell_type": "code",
   "execution_count": 88,
   "id": "5e104ff1",
   "metadata": {},
   "outputs": [
    {
     "data": {
      "text/plain": [
       "[9, 2, 7, 1, 7, 4, 6, 1, 8, 3, 5]"
      ]
     },
     "execution_count": 88,
     "metadata": {},
     "output_type": "execute_result"
    }
   ],
   "source": [
    "inorderTraversal(a)"
   ]
  },
  {
   "cell_type": "code",
   "execution_count": 91,
   "id": "b1fcb1e4",
   "metadata": {},
   "outputs": [
    {
     "name": "stdout",
     "output_type": "stream",
     "text": [
      "3\n"
     ]
    },
    {
     "data": {
      "text/plain": [
       "19"
      ]
     },
     "execution_count": 91,
     "metadata": {},
     "output_type": "execute_result"
    }
   ],
   "source": [
    "s = Solution()\n",
    "s.deepestLeavesSum(a)"
   ]
  },
  {
   "cell_type": "markdown",
   "id": "9a319696",
   "metadata": {},
   "source": [
    "以下为官方解法"
   ]
  },
  {
   "cell_type": "code",
   "execution_count": 92,
   "id": "157f5fbd",
   "metadata": {},
   "outputs": [],
   "source": [
    "class Solution:\n",
    "    def deepestLeavesSum(self, root: Optional[TreeNode]) -> int:\n",
    "        maxLevel, ans = -1, 0\n",
    "        def dfs(node: Optional[TreeNode], level: int) -> None:\n",
    "            if node is None:\n",
    "                return\n",
    "            nonlocal maxLevel, ans\n",
    "            if level > maxLevel:\n",
    "                maxLevel, ans = level, node.val\n",
    "            elif level == maxLevel:\n",
    "                ans += node.val\n",
    "            dfs(node.left, level + 1)\n",
    "            dfs(node.right, level + 1)\n",
    "        dfs(root, 0)\n",
    "        return ans"
   ]
  },
  {
   "cell_type": "code",
   "execution_count": 93,
   "id": "bf4c80df",
   "metadata": {},
   "outputs": [],
   "source": [
    "class Solution:\n",
    "    def deepestLeavesSum(self, root: Optional[TreeNode]) -> int:\n",
    "        q = deque([root])\n",
    "        while q:\n",
    "            ans = 0\n",
    "            # 这种一层内计算的方式要掌握,\n",
    "            for _ in range(len(q)):\n",
    "                node = q.popleft()\n",
    "                ans += node.val\n",
    "                if node.left:\n",
    "                    q.append(node.left)\n",
    "                if node.right:\n",
    "                    q.append(node.right)\n",
    "        return ans"
   ]
  },
  {
   "cell_type": "markdown",
   "id": "37d48239",
   "metadata": {},
   "source": [
    "deque真方便，自己写的算法应该是因为一直pop(0)浪费了大量时间"
   ]
  },
  {
   "cell_type": "code",
   "execution_count": 96,
   "id": "865cbed0",
   "metadata": {},
   "outputs": [],
   "source": [
    "from collections import defaultdict,deque\n",
    "class Solution:\n",
    "    def deepestLeavesSum(self, root: Optional[TreeNode]) -> int:\n",
    "        queue = deque([(root,0)])\n",
    "        layersum = defaultdict(int)\n",
    "        while queue:\n",
    "            cur,layer = queue.popleft()\n",
    "            layersum[layer] += cur.val\n",
    "            if cur.left:\n",
    "                queue.append((cur.left,layer+1))\n",
    "            if cur.right:\n",
    "                queue.append((cur.right,layer+1))\n",
    "#         print(layer)\n",
    "        return layersum[layer]"
   ]
  },
  {
   "cell_type": "code",
   "execution_count": 97,
   "id": "5b87a9ca",
   "metadata": {},
   "outputs": [
    {
     "data": {
      "text/plain": [
       "19"
      ]
     },
     "execution_count": 97,
     "metadata": {},
     "output_type": "execute_result"
    }
   ],
   "source": [
    "null = None\n",
    "root = [6,7,8,2,7,1,3,9,null,1,4,null,null,null,5]\n",
    "s = Solution()\n",
    "s.deepestLeavesSum(constructTree(root))"
   ]
  },
  {
   "cell_type": "markdown",
   "id": "7ef92018",
   "metadata": {},
   "source": [
    "## 1656. 设计有序流"
   ]
  },
  {
   "cell_type": "code",
   "execution_count": 153,
   "id": "881f8816",
   "metadata": {},
   "outputs": [],
   "source": [
    "class OrderedStream:\n",
    "\n",
    "    def __init__(self, n: int):\n",
    "        self.ptr = 1\n",
    "        self.len = n\n",
    "        self.stream = [\"\"]*(n+1)\n",
    "\n",
    "    def insert(self, idKey: int, value: str) -> List[str]:\n",
    "        if idKey != self.ptr:\n",
    "            self.stream[idKey] = value\n",
    "            return []\n",
    "        else:\n",
    "            self.stream[idKey] = value\n",
    "            res = []\n",
    "            while self.stream[self.ptr]:\n",
    "                res.append(self.stream[self.ptr])\n",
    "                if self.ptr == self.len:\n",
    "                    return res\n",
    "                self.ptr += 1\n",
    "            return res"
   ]
  },
  {
   "cell_type": "code",
   "execution_count": 154,
   "id": "b42a85af",
   "metadata": {},
   "outputs": [],
   "source": [
    "os = OrderedStream(5)"
   ]
  },
  {
   "cell_type": "code",
   "execution_count": 155,
   "id": "6db1b16c",
   "metadata": {},
   "outputs": [
    {
     "data": {
      "text/plain": [
       "[]"
      ]
     },
     "execution_count": 155,
     "metadata": {},
     "output_type": "execute_result"
    }
   ],
   "source": [
    "os.insert(3,'c')"
   ]
  },
  {
   "cell_type": "code",
   "execution_count": 156,
   "id": "a80b7691",
   "metadata": {},
   "outputs": [
    {
     "data": {
      "text/plain": [
       "['a']"
      ]
     },
     "execution_count": 156,
     "metadata": {},
     "output_type": "execute_result"
    }
   ],
   "source": [
    "os.insert(1,'a')"
   ]
  },
  {
   "cell_type": "code",
   "execution_count": 157,
   "id": "ad28e385",
   "metadata": {},
   "outputs": [
    {
     "data": {
      "text/plain": [
       "['b', 'c']"
      ]
     },
     "execution_count": 157,
     "metadata": {},
     "output_type": "execute_result"
    }
   ],
   "source": [
    "os.insert(2,'b')"
   ]
  },
  {
   "cell_type": "code",
   "execution_count": 158,
   "id": "9eecd626",
   "metadata": {},
   "outputs": [
    {
     "data": {
      "text/plain": [
       "[]"
      ]
     },
     "execution_count": 158,
     "metadata": {},
     "output_type": "execute_result"
    }
   ],
   "source": [
    "os.insert(5,'e')"
   ]
  },
  {
   "cell_type": "code",
   "execution_count": 159,
   "id": "80f71239",
   "metadata": {},
   "outputs": [
    {
     "data": {
      "text/plain": [
       "['d', 'e']"
      ]
     },
     "execution_count": 159,
     "metadata": {},
     "output_type": "execute_result"
    }
   ],
   "source": [
    "os.insert(4,'d')"
   ]
  },
  {
   "cell_type": "markdown",
   "id": "2a5995b2",
   "metadata": {},
   "source": [
    "## 641. 设计循环双端队列"
   ]
  },
  {
   "cell_type": "markdown",
   "id": "83148199",
   "metadata": {},
   "source": [
    "先用deque逃课"
   ]
  },
  {
   "cell_type": "code",
   "execution_count": 201,
   "id": "25e4e3f1",
   "metadata": {},
   "outputs": [],
   "source": [
    "class MyCircularDeque:\n",
    "\n",
    "    def __init__(self, k: int):\n",
    "        self.len = k\n",
    "        self.deque = deque()\n",
    "\n",
    "    def insertFront(self, value: int) -> bool:\n",
    "        deque = self.deque\n",
    "        if self.isFull():\n",
    "            return False\n",
    "        deque.appendleft(value)\n",
    "        return True\n",
    "\n",
    "    def insertLast(self, value: int) -> bool:\n",
    "        deque = self.deque\n",
    "        if self.isFull():\n",
    "            return False\n",
    "        deque.append(value)\n",
    "        return True\n",
    "\n",
    "    def deleteFront(self) -> bool:\n",
    "        deque = self.deque\n",
    "        if self.isEmpty():\n",
    "            return False\n",
    "        deque.popleft()\n",
    "        return True\n",
    "    \n",
    "    def deleteLast(self) -> bool:\n",
    "        deque = self.deque\n",
    "        if self.isEmpty():\n",
    "            return False\n",
    "        deque.pop()\n",
    "        return True\n",
    "\n",
    "    def getFront(self) -> int:\n",
    "        deque = self.deque\n",
    "        return -1 if self.isEmpty() else deque[0]\n",
    "\n",
    "    def getRear(self) -> int:\n",
    "        deque = self.deque\n",
    "        return -1 if self.isEmpty() else deque[-1]\n",
    "\n",
    "    def isEmpty(self) -> bool:\n",
    "        if self.deque:\n",
    "            return False\n",
    "        return True\n",
    "\n",
    "    def isFull(self) -> bool:\n",
    "        if len(self.deque) == self.len:\n",
    "            return True\n",
    "        return False\n",
    "        "
   ]
  },
  {
   "cell_type": "code",
   "execution_count": 202,
   "id": "c0f9928c",
   "metadata": {},
   "outputs": [],
   "source": [
    "d = MyCircularDeque(3)"
   ]
  },
  {
   "cell_type": "code",
   "execution_count": 203,
   "id": "64e2b00e",
   "metadata": {},
   "outputs": [
    {
     "data": {
      "text/plain": [
       "True"
      ]
     },
     "execution_count": 203,
     "metadata": {},
     "output_type": "execute_result"
    }
   ],
   "source": [
    "d.isEmpty()"
   ]
  },
  {
   "cell_type": "code",
   "execution_count": 204,
   "id": "0bd57b85",
   "metadata": {},
   "outputs": [
    {
     "data": {
      "text/plain": [
       "True"
      ]
     },
     "execution_count": 204,
     "metadata": {},
     "output_type": "execute_result"
    }
   ],
   "source": [
    "d.insertFront(1)"
   ]
  },
  {
   "cell_type": "code",
   "execution_count": 205,
   "id": "7d35ce4d",
   "metadata": {},
   "outputs": [
    {
     "data": {
      "text/plain": [
       "True"
      ]
     },
     "execution_count": 205,
     "metadata": {},
     "output_type": "execute_result"
    }
   ],
   "source": [
    "d.insertFront(2)"
   ]
  },
  {
   "cell_type": "code",
   "execution_count": 206,
   "id": "1b3e6af8",
   "metadata": {},
   "outputs": [
    {
     "data": {
      "text/plain": [
       "True"
      ]
     },
     "execution_count": 206,
     "metadata": {},
     "output_type": "execute_result"
    }
   ],
   "source": [
    "d.insertFront(3)"
   ]
  },
  {
   "cell_type": "code",
   "execution_count": 207,
   "id": "a84ff2ff",
   "metadata": {},
   "outputs": [
    {
     "data": {
      "text/plain": [
       "False"
      ]
     },
     "execution_count": 207,
     "metadata": {},
     "output_type": "execute_result"
    }
   ],
   "source": [
    "d.insertFront(4)"
   ]
  },
  {
   "cell_type": "code",
   "execution_count": 208,
   "id": "0320861b",
   "metadata": {},
   "outputs": [
    {
     "data": {
      "text/plain": [
       "deque([3, 2, 1])"
      ]
     },
     "execution_count": 208,
     "metadata": {},
     "output_type": "execute_result"
    }
   ],
   "source": [
    "d.deque"
   ]
  },
  {
   "cell_type": "code",
   "execution_count": 209,
   "id": "1fac4733",
   "metadata": {},
   "outputs": [
    {
     "data": {
      "text/plain": [
       "3"
      ]
     },
     "execution_count": 209,
     "metadata": {},
     "output_type": "execute_result"
    }
   ],
   "source": [
    "d.getFront()"
   ]
  },
  {
   "cell_type": "code",
   "execution_count": 210,
   "id": "0f8d427b",
   "metadata": {},
   "outputs": [
    {
     "data": {
      "text/plain": [
       "True"
      ]
     },
     "execution_count": 210,
     "metadata": {},
     "output_type": "execute_result"
    }
   ],
   "source": [
    "d.deleteFront()"
   ]
  },
  {
   "cell_type": "code",
   "execution_count": 211,
   "id": "b6773c13",
   "metadata": {},
   "outputs": [
    {
     "data": {
      "text/plain": [
       "True"
      ]
     },
     "execution_count": 211,
     "metadata": {},
     "output_type": "execute_result"
    }
   ],
   "source": [
    "d.deleteFront()"
   ]
  },
  {
   "cell_type": "code",
   "execution_count": 212,
   "id": "86001da7",
   "metadata": {},
   "outputs": [
    {
     "data": {
      "text/plain": [
       "True"
      ]
     },
     "execution_count": 212,
     "metadata": {},
     "output_type": "execute_result"
    }
   ],
   "source": [
    "d.deleteLast()"
   ]
  },
  {
   "cell_type": "code",
   "execution_count": 213,
   "id": "34c7d713",
   "metadata": {},
   "outputs": [
    {
     "data": {
      "text/plain": [
       "False"
      ]
     },
     "execution_count": 213,
     "metadata": {},
     "output_type": "execute_result"
    }
   ],
   "source": [
    "d.deleteFront()"
   ]
  },
  {
   "cell_type": "markdown",
   "id": "dc88333c",
   "metadata": {},
   "source": [
    "## 1422. 分割字符串的最大得分"
   ]
  },
  {
   "cell_type": "code",
   "execution_count": 226,
   "id": "b783c165",
   "metadata": {},
   "outputs": [],
   "source": [
    "class Solution:\n",
    "    def maxScore(self, s: str) -> int:\n",
    "        ans = s[0].count('0')+s[-1].count('1')\n",
    "        for i in range(1, len(s)-1):\n",
    "            sum1 = s[0:i].count('0')\n",
    "            sum2 = s[i:].count('1')\n",
    "            ans = max(sum1+sum2, ans)\n",
    "        return ans"
   ]
  },
  {
   "cell_type": "code",
   "execution_count": 227,
   "id": "08676a49",
   "metadata": {},
   "outputs": [
    {
     "data": {
      "text/plain": [
       "24"
      ]
     },
     "execution_count": 227,
     "metadata": {},
     "output_type": "execute_result"
    }
   ],
   "source": [
    "a = \"1111000000000111111111111111\"\n",
    "s = Solution()\n",
    "s.maxScore(a)"
   ]
  },
  {
   "cell_type": "code",
   "execution_count": 228,
   "id": "6a1997d9",
   "metadata": {},
   "outputs": [],
   "source": [
    "class Solution:\n",
    "    def maxScore(self, s: str) -> int:\n",
    "        return max(s[:i].count('0') + s[i:].count('1') for i in range(1, len(s)))"
   ]
  },
  {
   "cell_type": "markdown",
   "id": "fc6b531a",
   "metadata": {},
   "source": [
    "## 220. 存在重复元素 Ⅲ"
   ]
  },
  {
   "cell_type": "code",
   "execution_count": 312,
   "id": "6fdd9210",
   "metadata": {},
   "outputs": [],
   "source": [
    "# 暴力\n",
    "class Solution:\n",
    "    def containsNearbyAlmostDuplicate(self, nums: List[int], k: int, t: int) -> bool:\n",
    "        k = min(len(nums)-1,k)\n",
    "#         print(k)\n",
    "        for i in range(len(nums)-1):\n",
    "#             print(i)\n",
    "            for j in range(i+1,min(i+1+k,len(nums))):\n",
    "#                 print(j)\n",
    "                if abs(nums[i] - nums[j]) <= t:\n",
    "                    return True\n",
    "        return False"
   ]
  },
  {
   "cell_type": "code",
   "execution_count": 313,
   "id": "c385102b",
   "metadata": {},
   "outputs": [],
   "source": [
    "nums = [7,1,3]\n",
    "k = 2\n",
    "t = 3"
   ]
  },
  {
   "cell_type": "code",
   "execution_count": 314,
   "id": "959115a3",
   "metadata": {},
   "outputs": [
    {
     "name": "stdout",
     "output_type": "stream",
     "text": [
      "0\n",
      "1\n",
      "2\n",
      "1\n",
      "2\n"
     ]
    },
    {
     "data": {
      "text/plain": [
       "True"
      ]
     },
     "execution_count": 314,
     "metadata": {},
     "output_type": "execute_result"
    }
   ],
   "source": [
    "s = Solution()\n",
    "s.containsNearbyAlmostDuplicate(nums,k,t)"
   ]
  },
  {
   "cell_type": "markdown",
   "id": "fc6d1014",
   "metadata": {},
   "source": [
    "不出意料地超时，下面想如何优化"
   ]
  },
  {
   "cell_type": "code",
   "execution_count": 328,
   "id": "8e522b50",
   "metadata": {},
   "outputs": [],
   "source": [
    "# 桶+滑动窗口\n",
    "class Solution:\n",
    "    def containsNearbyAlmostDuplicate(self, nums: List[int], k: int, t: int) -> bool:\n",
    "        bucket = dict()\n",
    "        for n,num in enumerate(nums):\n",
    "            key = num//(t+1)\n",
    "            if key in bucket:\n",
    "                return True\n",
    "            if key-1 in bucket and abs(num - bucket[key-1]) <= t:\n",
    "                return True\n",
    "            if key+1 in bucket and abs(num-bucket[key+1]) <= t:\n",
    "                return True\n",
    "            bucket[key] = num\n",
    "            if n >= k: bucket.pop(nums[n-k]//(t+1))\n",
    "        return False"
   ]
  },
  {
   "cell_type": "markdown",
   "id": "36f52632",
   "metadata": {},
   "source": [
    "关于为什么是 nums[i]//(t+1)和为什么要检查相邻桶的理解： 首先，假设nums[i] = 3,4,5,6,7,8,9 , t = 3，如果是nums[i]//(t)，则会得到：[1,1,1,2,2,2,3]，我们注意到，4和7也差了3，<=t，但是却分在了不同的桶，我们要尽量把两个相差<=t的数分在一个桶，那就需要//(t+1)，在//(t+1)后，得到:[0,1,1,1,1,2,2]，我们又注意到，5和3，7也是小于3的，但是分在了不同的桶，所以我们需要检查左右两边的相邻桶"
   ]
  },
  {
   "cell_type": "code",
   "execution_count": 326,
   "id": "91b83bbd",
   "metadata": {},
   "outputs": [],
   "source": [
    "nums = [7,1,3]\n",
    "k = 2\n",
    "t = 3"
   ]
  },
  {
   "cell_type": "code",
   "execution_count": 327,
   "id": "673a12f9",
   "metadata": {},
   "outputs": [
    {
     "data": {
      "text/plain": [
       "True"
      ]
     },
     "execution_count": 327,
     "metadata": {},
     "output_type": "execute_result"
    }
   ],
   "source": [
    "s = Solution()\n",
    "s.containsNearbyAlmostDuplicate(nums,k,t)"
   ]
  },
  {
   "cell_type": "markdown",
   "id": "dfc91aff",
   "metadata": {},
   "source": [
    "## 1616. 分割两个字符串得到回文串"
   ]
  },
  {
   "cell_type": "code",
   "execution_count": 421,
   "id": "21066895",
   "metadata": {},
   "outputs": [],
   "source": [
    "# 暴力超时\n",
    "class Solution:\n",
    "    def checkPalindromeFormation(self, a: str, b: str) -> bool:\n",
    "        for i in range(len(a)):\n",
    "            apre,asuf = a[0:i],a[i:]\n",
    "            bpre,bsuf = b[0:i],b[i:]\n",
    "            s1 = apre + bsuf\n",
    "            s2 = bpre + asuf\n",
    "            if s1 == s1[::-1] or s2 == s2[::-1]:\n",
    "                return True\n",
    "        return False"
   ]
  },
  {
   "cell_type": "code",
   "execution_count": 422,
   "id": "ad574450",
   "metadata": {},
   "outputs": [
    {
     "data": {
      "text/plain": [
       "True"
      ]
     },
     "execution_count": 422,
     "metadata": {},
     "output_type": "execute_result"
    }
   ],
   "source": [
    "s = Solution()\n",
    "s.checkPalindromeFormation('x','y')"
   ]
  },
  {
   "cell_type": "code",
   "execution_count": 423,
   "id": "6244c6f6",
   "metadata": {},
   "outputs": [],
   "source": [
    "a = \"abdef\"\n",
    "b = \"fecab\""
   ]
  },
  {
   "cell_type": "code",
   "execution_count": 424,
   "id": "4b3b6aa8",
   "metadata": {},
   "outputs": [
    {
     "data": {
      "text/plain": [
       "True"
      ]
     },
     "execution_count": 424,
     "metadata": {},
     "output_type": "execute_result"
    }
   ],
   "source": [
    "s.checkPalindromeFormation(a,b)"
   ]
  },
  {
   "cell_type": "code",
   "execution_count": 429,
   "id": "74a15727",
   "metadata": {},
   "outputs": [],
   "source": [
    "\"pvhmupgqeltozftlmfjjde\"\n",
    "\"yjgpzbezspnnpszebzmhvp\""
   ]
  },
  {
   "cell_type": "code",
   "execution_count": 439,
   "id": "2a8d9854",
   "metadata": {},
   "outputs": [],
   "source": [
    "# 神解法\n",
    "class Solution:\n",
    "    def checkPalindromeFormation(self, a: str, b: str) -> bool:\n",
    "        \n",
    "        def check(str_1, str_r, left):\n",
    "            right = len(str_1) - 1 - left\n",
    "            while left >= 0 and right < len(str_1):\n",
    "                if str_1[left] != str_r[right]: break\n",
    "                left -= 1\n",
    "                right += 1\n",
    "            return left\n",
    "        \n",
    "        left = len(a)//2 - 1\n",
    "        left = min(check(a, a, left), check(b, b, left))\n",
    "        left = min(check(a, b, left), check(b, a, left))\n",
    "        \n",
    "        return left == -1            "
   ]
  },
  {
   "cell_type": "code",
   "execution_count": 440,
   "id": "05753c85",
   "metadata": {},
   "outputs": [],
   "source": [
    "a = \"pvhmupgqeltozftlmfjjde\"\n",
    "b = \"yjgpzbezspnnpszebzmhvp\""
   ]
  },
  {
   "cell_type": "code",
   "execution_count": 441,
   "id": "5eb8031c",
   "metadata": {},
   "outputs": [],
   "source": [
    "a = 'ulacfd'\n",
    "b = 'jizalu'"
   ]
  },
  {
   "cell_type": "code",
   "execution_count": 442,
   "id": "28959eaf",
   "metadata": {},
   "outputs": [
    {
     "data": {
      "text/plain": [
       "True"
      ]
     },
     "execution_count": 442,
     "metadata": {},
     "output_type": "execute_result"
    }
   ],
   "source": [
    "s = Solution()\n",
    "s.checkPalindromeFormation(a,b)"
   ]
  },
  {
   "cell_type": "markdown",
   "id": "f9d3d798",
   "metadata": {},
   "source": [
    "## 1450. 在既定时间做作业的学生人数"
   ]
  },
  {
   "cell_type": "code",
   "execution_count": 347,
   "id": "a876aead",
   "metadata": {},
   "outputs": [],
   "source": [
    "# 枚举\n",
    "class Solution:\n",
    "    def busyStudent(self, startTime, endTime, queryTime: int) -> int:\n",
    "        ans = 0\n",
    "        for i in range(len(startTime)):\n",
    "            if startTime[i] <= queryTime and endTime[i] >= queryTime:\n",
    "                ans += 1\n",
    "        return ans"
   ]
  },
  {
   "cell_type": "code",
   "execution_count": 348,
   "id": "b3b25a86",
   "metadata": {},
   "outputs": [],
   "source": [
    "startTime = [9,8,7,6,5,4,3,2,1]\n",
    "endTime = [10,10,10,10,10,10,10,10,10]\n",
    "queryTime = 5"
   ]
  },
  {
   "cell_type": "code",
   "execution_count": 349,
   "id": "baff542f",
   "metadata": {},
   "outputs": [
    {
     "data": {
      "text/plain": [
       "5"
      ]
     },
     "execution_count": 349,
     "metadata": {},
     "output_type": "execute_result"
    }
   ],
   "source": [
    "s = Solution()\n",
    "s.busyStudent(startTime,endTime,queryTime)"
   ]
  },
  {
   "cell_type": "code",
   "execution_count": 375,
   "id": "a6db5b6b",
   "metadata": {},
   "outputs": [],
   "source": [
    "# 差分数组\n",
    "class Solution:\n",
    "    def busyStudent(self, startTime, endTime: List[int], queryTime: int) -> int:\n",
    "        maxEndTime = max(endTime)\n",
    "        if queryTime > maxEndTime:\n",
    "            return 0\n",
    "        cnt = [0] * (maxEndTime + 2)  # 空间复杂度有点大\n",
    "        for s, e in zip(startTime, endTime):\n",
    "            cnt[s] += 1\n",
    "            cnt[e + 1] -= 1\n",
    "        print(cnt)\n",
    "        return sum(cnt[:queryTime + 1])  # o(n) + querytime"
   ]
  },
  {
   "cell_type": "code",
   "execution_count": 416,
   "id": "9c3f631a",
   "metadata": {},
   "outputs": [],
   "source": [
    "startTime = [1,2,3]\n",
    "endTime = [3,2,7]\n",
    "queryTime = 4"
   ]
  },
  {
   "cell_type": "code",
   "execution_count": 417,
   "id": "1915d3a2",
   "metadata": {},
   "outputs": [
    {
     "data": {
      "text/plain": [
       "1"
      ]
     },
     "execution_count": 417,
     "metadata": {},
     "output_type": "execute_result"
    }
   ],
   "source": [
    "s = Solution()\n",
    "s.busyStudent(startTime,endTime,queryTime)"
   ]
  },
  {
   "cell_type": "code",
   "execution_count": 418,
   "id": "9e458c2a",
   "metadata": {},
   "outputs": [],
   "source": [
    "# 二分\n",
    "from bisect import bisect_left,bisect_right\n",
    "class Solution:\n",
    "    def busyStudent(self, startTime, endTime: List[int], queryTime: int) -> int:\n",
    "        startTime.sort()\n",
    "        endTime.sort()\n",
    "        return bisect_right(startTime, queryTime) - bisect_left(endTime, queryTime)"
   ]
  },
  {
   "cell_type": "code",
   "execution_count": 420,
   "id": "66ee7eb3",
   "metadata": {},
   "outputs": [
    {
     "data": {
      "text/plain": [
       "2"
      ]
     },
     "execution_count": 420,
     "metadata": {},
     "output_type": "execute_result"
    }
   ],
   "source": [
    "bisect_left(endTime, queryTime) # 返回插入位置，默认左边"
   ]
  },
  {
   "cell_type": "markdown",
   "id": "f5b7d8c2",
   "metadata": {},
   "source": [
    "## 397. 整数替换"
   ]
  },
  {
   "cell_type": "code",
   "execution_count": 16,
   "id": "398f6e48",
   "metadata": {},
   "outputs": [],
   "source": [
    "# 感觉这个思路像贪心但不知道为什么\n",
    "class Solution:\n",
    "    def integerReplacement(self, n: int) -> int:\n",
    "        def find(n, step):\n",
    "            print(n)\n",
    "            if n == 1:\n",
    "                return step\n",
    "            if n == 3:\n",
    "                return find(2, step+1)\n",
    "            if n % 2 == 0:\n",
    "                return find(n//2, step+1)\n",
    "            else:\n",
    "                if (n + 1)%4 == 0:\n",
    "                    return find((n + 1), step+1)\n",
    "                else:\n",
    "                    return find((n - 1), step+1)\n",
    "            \n",
    "        return find(n, 0)"
   ]
  },
  {
   "cell_type": "code",
   "execution_count": 15,
   "id": "35d41870",
   "metadata": {},
   "outputs": [
    {
     "name": "stdout",
     "output_type": "stream",
     "text": [
      "2035\n",
      "2036\n",
      "1018\n",
      "509\n",
      "508\n",
      "254\n",
      "127\n",
      "128\n",
      "64\n",
      "32\n",
      "16\n",
      "8\n",
      "4\n",
      "2\n",
      "1\n"
     ]
    },
    {
     "data": {
      "text/plain": [
       "14"
      ]
     },
     "execution_count": 15,
     "metadata": {},
     "output_type": "execute_result"
    }
   ],
   "source": [
    "s = Solution()\n",
    "s.integerReplacement(2035)"
   ]
  },
  {
   "cell_type": "markdown",
   "id": "23f55691",
   "metadata": {},
   "source": [
    "## 1315. 祖父节点值为偶数的节点和"
   ]
  },
  {
   "cell_type": "code",
   "execution_count": 28,
   "id": "1e245640",
   "metadata": {},
   "outputs": [],
   "source": [
    "class Solution:\n",
    "    def sumEvenGrandparent(self, root: TreeNode) -> int:\n",
    "        res = []\n",
    "        def Traversal(subroot):\n",
    "            if not subroot:\n",
    "                return\n",
    "            if subroot.val % 2 == 0:\n",
    "                if subroot.left:\n",
    "                    res.append(subroot.left)\n",
    "                if subroot.right:\n",
    "                    res.append(subroot.right)\n",
    "            Traversal(subroot.left)\n",
    "            Traversal(subroot.right)\n",
    "        \n",
    "        Traversal(root)\n",
    "        ans = 0\n",
    "        for node in res:\n",
    "            if node.left:\n",
    "                ans += node.left.val\n",
    "            if node.right:\n",
    "                ans += node.right.val\n",
    "        \n",
    "        return ans"
   ]
  },
  {
   "cell_type": "code",
   "execution_count": 29,
   "id": "41e586fa",
   "metadata": {},
   "outputs": [],
   "source": [
    "null = None\n",
    "root = [6,7,8,2,7,1,3,9,null,1,4,null,null,null,5]\n",
    "a = constructTree(root)"
   ]
  },
  {
   "cell_type": "code",
   "execution_count": 30,
   "id": "d6010f75",
   "metadata": {},
   "outputs": [
    {
     "data": {
      "text/plain": [
       "[9, 2, 7, 1, 7, 4, 6, 1, 8, 3, 5]"
      ]
     },
     "execution_count": 30,
     "metadata": {},
     "output_type": "execute_result"
    }
   ],
   "source": [
    "inorderTraversal(a)"
   ]
  },
  {
   "cell_type": "code",
   "execution_count": 31,
   "id": "c56bffe5",
   "metadata": {},
   "outputs": [
    {
     "data": {
      "text/plain": [
       "18"
      ]
     },
     "execution_count": 31,
     "metadata": {},
     "output_type": "execute_result"
    }
   ],
   "source": [
    "s = Solution()\n",
    "s.sumEvenGrandparent(a)"
   ]
  },
  {
   "cell_type": "markdown",
   "id": "7fe877a1",
   "metadata": {},
   "source": [
    "上述解法本质上来说还是BFS，即先找到所有的偶数节点再去遍历它们的孙子"
   ]
  },
  {
   "cell_type": "code",
   "execution_count": 33,
   "id": "4acb802b",
   "metadata": {},
   "outputs": [],
   "source": [
    "class Solution:\n",
    "    def sumEvenGrandparent(self, root: TreeNode) -> int:\n",
    "        ans = 0\n",
    "\n",
    "        def dfs(gp_val, p_val, node):  # 三元组的思想要掌握\n",
    "            if not node:\n",
    "                return\n",
    "            if gp_val % 2 == 0:\n",
    "                nonlocal ans\n",
    "                ans += node.val\n",
    "            dfs(p_val, node.val, node.left)\n",
    "            dfs(p_val, node.val, node.right)\n",
    "        \n",
    "        dfs(1, 1, root)\n",
    "        return ans"
   ]
  },
  {
   "cell_type": "markdown",
   "id": "cb1412df",
   "metadata": {},
   "source": [
    "这种解法相当于DFS即遇到一个偶数就计算孙子节点的和"
   ]
  },
  {
   "cell_type": "code",
   "execution_count": null,
   "id": "9beafe86",
   "metadata": {},
   "outputs": [],
   "source": []
  },
  {
   "cell_type": "code",
   "execution_count": null,
   "id": "5bfc542f",
   "metadata": {},
   "outputs": [],
   "source": []
  },
  {
   "cell_type": "code",
   "execution_count": null,
   "id": "4efa7d49",
   "metadata": {},
   "outputs": [],
   "source": []
  },
  {
   "cell_type": "code",
   "execution_count": null,
   "id": "3f654254",
   "metadata": {},
   "outputs": [],
   "source": []
  },
  {
   "cell_type": "code",
   "execution_count": null,
   "id": "3c2503aa",
   "metadata": {},
   "outputs": [],
   "source": []
  },
  {
   "cell_type": "code",
   "execution_count": null,
   "id": "83db6b16",
   "metadata": {},
   "outputs": [],
   "source": []
  },
  {
   "cell_type": "code",
   "execution_count": null,
   "id": "aa6f05d1",
   "metadata": {},
   "outputs": [],
   "source": []
  },
  {
   "cell_type": "code",
   "execution_count": null,
   "id": "e2ee68c0",
   "metadata": {},
   "outputs": [],
   "source": []
  },
  {
   "cell_type": "code",
   "execution_count": null,
   "id": "5685d9fa",
   "metadata": {},
   "outputs": [],
   "source": []
  },
  {
   "cell_type": "code",
   "execution_count": null,
   "id": "72d7aa66",
   "metadata": {},
   "outputs": [],
   "source": []
  },
  {
   "cell_type": "code",
   "execution_count": null,
   "id": "80386c8c",
   "metadata": {},
   "outputs": [],
   "source": []
  },
  {
   "cell_type": "code",
   "execution_count": null,
   "id": "50635464",
   "metadata": {},
   "outputs": [],
   "source": []
  },
  {
   "cell_type": "code",
   "execution_count": null,
   "id": "82056205",
   "metadata": {},
   "outputs": [],
   "source": []
  },
  {
   "cell_type": "code",
   "execution_count": null,
   "id": "e2c5893b",
   "metadata": {},
   "outputs": [],
   "source": []
  },
  {
   "cell_type": "code",
   "execution_count": null,
   "id": "1721e68a",
   "metadata": {},
   "outputs": [],
   "source": []
  },
  {
   "cell_type": "code",
   "execution_count": null,
   "id": "955bdc06",
   "metadata": {},
   "outputs": [],
   "source": []
  },
  {
   "cell_type": "code",
   "execution_count": null,
   "id": "be56c915",
   "metadata": {},
   "outputs": [],
   "source": []
  },
  {
   "cell_type": "code",
   "execution_count": null,
   "id": "0235cf5c",
   "metadata": {},
   "outputs": [],
   "source": []
  },
  {
   "cell_type": "code",
   "execution_count": null,
   "id": "07db64dd",
   "metadata": {},
   "outputs": [],
   "source": []
  },
  {
   "cell_type": "code",
   "execution_count": null,
   "id": "663c73e9",
   "metadata": {},
   "outputs": [],
   "source": []
  },
  {
   "cell_type": "code",
   "execution_count": null,
   "id": "39366c0b",
   "metadata": {},
   "outputs": [],
   "source": []
  },
  {
   "cell_type": "code",
   "execution_count": null,
   "id": "4d884657",
   "metadata": {},
   "outputs": [],
   "source": []
  },
  {
   "cell_type": "code",
   "execution_count": null,
   "id": "5d87c4ae",
   "metadata": {},
   "outputs": [],
   "source": []
  },
  {
   "cell_type": "code",
   "execution_count": null,
   "id": "8603978f",
   "metadata": {},
   "outputs": [],
   "source": []
  },
  {
   "cell_type": "code",
   "execution_count": null,
   "id": "e4afee12",
   "metadata": {},
   "outputs": [],
   "source": []
  },
  {
   "cell_type": "code",
   "execution_count": null,
   "id": "aa43db37",
   "metadata": {},
   "outputs": [],
   "source": []
  },
  {
   "cell_type": "code",
   "execution_count": null,
   "id": "dca3dae3",
   "metadata": {},
   "outputs": [],
   "source": []
  },
  {
   "cell_type": "code",
   "execution_count": null,
   "id": "ad5da267",
   "metadata": {},
   "outputs": [],
   "source": []
  },
  {
   "cell_type": "code",
   "execution_count": null,
   "id": "8f97b162",
   "metadata": {},
   "outputs": [],
   "source": []
  },
  {
   "cell_type": "code",
   "execution_count": null,
   "id": "d185825f",
   "metadata": {},
   "outputs": [],
   "source": []
  },
  {
   "cell_type": "code",
   "execution_count": null,
   "id": "19a633c2",
   "metadata": {},
   "outputs": [],
   "source": []
  },
  {
   "cell_type": "code",
   "execution_count": null,
   "id": "39404e4b",
   "metadata": {},
   "outputs": [],
   "source": []
  },
  {
   "cell_type": "code",
   "execution_count": null,
   "id": "c054d45b",
   "metadata": {},
   "outputs": [],
   "source": []
  },
  {
   "cell_type": "code",
   "execution_count": null,
   "id": "25a66099",
   "metadata": {},
   "outputs": [],
   "source": []
  },
  {
   "cell_type": "code",
   "execution_count": null,
   "id": "d74396f7",
   "metadata": {},
   "outputs": [],
   "source": []
  },
  {
   "cell_type": "code",
   "execution_count": null,
   "id": "b5212b43",
   "metadata": {},
   "outputs": [],
   "source": []
  },
  {
   "cell_type": "code",
   "execution_count": null,
   "id": "adc2ad9b",
   "metadata": {},
   "outputs": [],
   "source": []
  },
  {
   "cell_type": "code",
   "execution_count": null,
   "id": "5cc92aca",
   "metadata": {},
   "outputs": [],
   "source": []
  },
  {
   "cell_type": "code",
   "execution_count": null,
   "id": "2d022d8f",
   "metadata": {},
   "outputs": [],
   "source": []
  },
  {
   "cell_type": "code",
   "execution_count": null,
   "id": "662d59dc",
   "metadata": {},
   "outputs": [],
   "source": []
  },
  {
   "cell_type": "code",
   "execution_count": null,
   "id": "bc804d38",
   "metadata": {},
   "outputs": [],
   "source": []
  },
  {
   "cell_type": "code",
   "execution_count": null,
   "id": "7b3f850b",
   "metadata": {},
   "outputs": [],
   "source": []
  },
  {
   "cell_type": "code",
   "execution_count": null,
   "id": "b661ead8",
   "metadata": {},
   "outputs": [],
   "source": []
  },
  {
   "cell_type": "code",
   "execution_count": null,
   "id": "79c9d196",
   "metadata": {},
   "outputs": [],
   "source": []
  },
  {
   "cell_type": "code",
   "execution_count": null,
   "id": "b25713a7",
   "metadata": {},
   "outputs": [],
   "source": []
  },
  {
   "cell_type": "code",
   "execution_count": null,
   "id": "895436d8",
   "metadata": {},
   "outputs": [],
   "source": []
  },
  {
   "cell_type": "code",
   "execution_count": null,
   "id": "893402b7",
   "metadata": {},
   "outputs": [],
   "source": []
  },
  {
   "cell_type": "code",
   "execution_count": null,
   "id": "38e15fc7",
   "metadata": {},
   "outputs": [],
   "source": []
  },
  {
   "cell_type": "code",
   "execution_count": null,
   "id": "d15fa824",
   "metadata": {},
   "outputs": [],
   "source": []
  },
  {
   "cell_type": "code",
   "execution_count": null,
   "id": "4665dd8c",
   "metadata": {},
   "outputs": [],
   "source": []
  },
  {
   "cell_type": "code",
   "execution_count": null,
   "id": "57610892",
   "metadata": {},
   "outputs": [],
   "source": []
  },
  {
   "cell_type": "code",
   "execution_count": null,
   "id": "f392aaa8",
   "metadata": {},
   "outputs": [],
   "source": []
  },
  {
   "cell_type": "code",
   "execution_count": null,
   "id": "9b1e344b",
   "metadata": {},
   "outputs": [],
   "source": []
  },
  {
   "cell_type": "code",
   "execution_count": null,
   "id": "807073fd",
   "metadata": {},
   "outputs": [],
   "source": []
  },
  {
   "cell_type": "code",
   "execution_count": null,
   "id": "40f6bc35",
   "metadata": {},
   "outputs": [],
   "source": []
  },
  {
   "cell_type": "code",
   "execution_count": null,
   "id": "066eef67",
   "metadata": {},
   "outputs": [],
   "source": []
  },
  {
   "cell_type": "code",
   "execution_count": null,
   "id": "63d3e06b",
   "metadata": {},
   "outputs": [],
   "source": []
  },
  {
   "cell_type": "code",
   "execution_count": null,
   "id": "977aaff3",
   "metadata": {},
   "outputs": [],
   "source": []
  }
 ],
 "metadata": {
  "kernelspec": {
   "display_name": "Python 3 (ipykernel)",
   "language": "python",
   "name": "python3"
  },
  "language_info": {
   "codemirror_mode": {
    "name": "ipython",
    "version": 3
   },
   "file_extension": ".py",
   "mimetype": "text/x-python",
   "name": "python",
   "nbconvert_exporter": "python",
   "pygments_lexer": "ipython3",
   "version": "3.6.3"
  }
 },
 "nbformat": 4,
 "nbformat_minor": 5
}
