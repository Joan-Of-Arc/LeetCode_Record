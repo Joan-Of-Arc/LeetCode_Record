{
 "cells": [
  {
   "cell_type": "markdown",
   "id": "b8b64279-96d3-4ea3-83ef-d8e7e01bc1d0",
   "metadata": {},
   "source": [
    "# 数组和字符串"
   ]
  },
  {
   "cell_type": "markdown",
   "id": "4c5f8a5c-a83e-4d54-b58c-d65ab378398f",
   "metadata": {},
   "source": [
    "## 1. 三数之和  "
   ]
  },
  {
   "cell_type": "markdown",
   "id": "a0ce8f37-b21d-4bd2-9242-a73c7c4d0969",
   "metadata": {},
   "source": [
    "想到之前做过的一道类似的题 （1395），貌似比这题难一些，思路也分为枚举第一个第二个以及第三个数字。分别有不同的时间复杂度。"
   ]
  },
  {
   "cell_type": "code",
   "execution_count": 4,
   "id": "15deebbb-8782-49f6-93e6-11183eeaa5e9",
   "metadata": {},
   "outputs": [],
   "source": [
    "from typing import List\n",
    "class Solution:\n",
    "    def threeSum(self, nums: List[int]) -> List[List[int]]:\n",
    "        nums.sort()\n",
    "        leng = len(nums)\n",
    "        res = set()\n",
    "        for i in range(0, leng - 2):\n",
    "            for j in range(i + 1, leng):\n",
    "                target = - (nums[i] + nums[j])\n",
    "                if target in nums[j+1:]:\n",
    "                    res.add((nums[i], nums[j], target))\n",
    "        return list(list(n) for n in res)"
   ]
  },
  {
   "cell_type": "markdown",
   "id": "31cf997d-073a-47a5-ad34-0f1044edba7c",
   "metadata": {},
   "source": [
    "O(n^3)复杂度超时"
   ]
  },
  {
   "cell_type": "markdown",
   "id": "cd81e6e6-b1cd-44ef-8dfd-a943b73165cf",
   "metadata": {},
   "source": [
    "问题；\n",
    "1. 即使进行了排序依然可能出现重复的情况，因此需要在枚举时判断是否与上一个枚举的数字相同。\n",
    "2. 要合理利用排序的信息，第三层枚举可以归到第二层里，因为枚举的第二个数越来越大，因此枚举的第三个数只会越来越小，可以在枚举第二个数的同时用一个指针从数组末端向前枚举第三个数，就不用额外一层循环了。问题优化为 O(n^2)"
   ]
  },
  {
   "cell_type": "code",
   "execution_count": null,
   "id": "952eca5e-46c9-4bb3-a692-99a9d8460482",
   "metadata": {},
   "outputs": [],
   "source": [
    "class Solution:\n",
    "    def threeSum(self, nums: List[int]) -> List[List[int]]:\n",
    "        n = len(nums)\n",
    "        nums.sort()\n",
    "        ans = list()\n",
    "        \n",
    "        # 枚举 a\n",
    "        for first in range(n):\n",
    "            # 需要和上一次枚举的数不相同\n",
    "            if first > 0 and nums[first] == nums[first - 1]:\n",
    "                continue\n",
    "            # c 对应的指针初始指向数组的最右端\n",
    "            third = n - 1\n",
    "            target = -nums[first]\n",
    "            # 枚举 b\n",
    "            for second in range(first + 1, n):\n",
    "                # 需要和上一次枚举的数不相同\n",
    "                if second > first + 1 and nums[second] == nums[second - 1]:\n",
    "                    continue\n",
    "                # 需要保证 b 的指针在 c 的指针的左侧\n",
    "                while second < third and nums[second] + nums[third] > target:\n",
    "                    third -= 1\n",
    "                # 如果指针重合，随着 b 后续的增加\n",
    "                # 就不会有满足 a+b+c=0 并且 b<c 的 c 了，可以退出循环\n",
    "                if second == third:\n",
    "                    break\n",
    "                if nums[second] + nums[third] == target:\n",
    "                    ans.append([nums[first], nums[second], nums[third]])\n",
    "        \n",
    "        return ans\n",
    "\n",
    "# 作者：LeetCode-Solution\n",
    "# 链接：https://leetcode.cn/problems/3sum/solution/san-shu-zhi-he-by-leetcode-solution/\n",
    "# 来源：力扣（LeetCode）\n",
    "# 著作权归作者所有。商业转载请联系作者获得授权，非商业转载请注明出处。"
   ]
  },
  {
   "cell_type": "code",
   "execution_count": 12,
   "id": "166da6c7-6e9f-4df0-92ea-0d5d5ea27903",
   "metadata": {},
   "outputs": [],
   "source": [
    "class Solution:\n",
    "    def threeSum(self, nums: List[int]) -> List[List[int]]:\n",
    "        n = len(nums)\n",
    "        nums.sort()\n",
    "        res = []\n",
    "        for first in range(n):\n",
    "            if first > 0 and nums[first] == nums[first - 1]: continue\n",
    "            third = n - 1\n",
    "            target = - nums[first]\n",
    "            for second in range(first + 1, n):\n",
    "                if second > first + 1 and nums[second] == nums[second - 1]: continue\n",
    "                while second < third and nums[second] + nums[third] > target: third -= 1\n",
    "                if second == third: break\n",
    "                if nums[second] + nums[third] == target: \n",
    "                    res.append([nums[first], nums[second], nums[third]])\n",
    "        return res"
   ]
  },
  {
   "cell_type": "markdown",
   "id": "de877c33-37e5-4273-a5d3-4923c2824081",
   "metadata": {},
   "source": [
    "- 时间复杂度： O(n ^ 2)\n",
    "- 空间复杂度： O(log n), 排序所需空间。"
   ]
  },
  {
   "cell_type": "markdown",
   "id": "745150c2-1baf-4229-90d8-6ef84fec7f37",
   "metadata": {},
   "source": [
    "## 2. 矩阵置零"
   ]
  },
  {
   "cell_type": "code",
   "execution_count": 14,
   "id": "a26950e0-7445-40ac-991d-7d10fbc5b1b6",
   "metadata": {},
   "outputs": [],
   "source": [
    "class Solution:\n",
    "    def setZeroes(self, matrix: List[List[int]]) -> None:\n",
    "        \"\"\"\n",
    "        Do not return anything, modify matrix in-place instead.\n",
    "        \"\"\"\n",
    "        row, col = [], []\n",
    "        for i, r in enumerate(matrix):\n",
    "            for j, c in enumerate(r):\n",
    "                if c == 0:\n",
    "                    row.append(i)\n",
    "                    col.append(j)\n",
    "        for r in row:\n",
    "            for n in range(len(matrix[0])): matrix[r][n] = 0\n",
    "        for c in col:\n",
    "            for n in range(len(matrix)): matrix[n][c] = 0\n",
    "        "
   ]
  },
  {
   "cell_type": "markdown",
   "id": "6f176664-1fa4-40e1-ad58-0812ab594258",
   "metadata": {},
   "source": [
    "- 时间复杂度： O(mn)\n",
    "- 空间复杂度： O(m + n)"
   ]
  },
  {
   "cell_type": "markdown",
   "id": "d1a2c870-13a7-4484-8193-6ca1c5259365",
   "metadata": {},
   "source": [
    "使用两个标记变量：\n",
    "\n",
    "我们可以用矩阵的第一行和第一列代替方法一中的两个标记数组，以达到 O(1) 的额外空间。但这样会导致原数组的第一行和第一列被修改，无法记录它们是否原本包含 0。因此我们需要额外使用两个标记变量分别记录第一行和第一列是否原本包含 0。"
   ]
  },
  {
   "cell_type": "code",
   "execution_count": 27,
   "id": "60fef4c5-dfcb-411a-9afd-8a79d8bcbf60",
   "metadata": {},
   "outputs": [],
   "source": [
    "class Solution:\n",
    "    def setZeroes(self, matrix: List[List[int]]) -> None:\n",
    "        m, n = len(matrix), len(matrix[0])\n",
    "        flag_col0 = any(matrix[i][0] == 0 for i in range(m))\n",
    "        flag_row0 = any(matrix[0][j] == 0 for j in range(n))\n",
    "        \n",
    "        for i in range(1, m):\n",
    "            for j in range(1, n):\n",
    "                if matrix[i][j] == 0:\n",
    "                    matrix[i][0] = matrix[0][j] = 0\n",
    "        \n",
    "        for i in range(1, m):\n",
    "            for j in range(1, n):\n",
    "                if matrix[i][0] == 0 or matrix[0][j] == 0:\n",
    "                    matrix[i][j] = 0\n",
    "        \n",
    "        if flag_col0:\n",
    "            for i in range(m):\n",
    "                matrix[i][0] = 0\n",
    "        \n",
    "        if flag_row0:\n",
    "            for j in range(n):\n",
    "                matrix[0][j] = 0\n",
    "\n",
    "# 作者：LeetCode-Solution\n",
    "# 链接：https://leetcode.cn/problems/set-matrix-zeroes/solution/ju-zhen-zhi-ling-by-leetcode-solution-9ll7/\n",
    "# 来源：力扣（LeetCode）\n",
    "# 著作权归作者所有。商业转载请联系作者获得授权，非商业转载请注明出处。"
   ]
  },
  {
   "cell_type": "markdown",
   "id": "ab1c3398-59d2-402b-9629-e87e416580db",
   "metadata": {},
   "source": [
    "### python any:\n",
    "\n",
    "any() 函数用于判断给定的可迭代参数 iterable 是否全部为 False，则返回 False，如果有一个为 True，则返回 True。\n",
    "\n",
    "元素除了是 0、空、FALSE 外都算 TRUE。"
   ]
  },
  {
   "cell_type": "markdown",
   "id": "fc03c786-1b77-4b45-9056-4de584625858",
   "metadata": {},
   "source": [
    "使用一个标记变量：\n",
    "\n",
    "我们可以对方法二进一步优化，只使用一个标记变量记录第一列是否原本存在 0。这样，第一列的第一个元素即可以标记第一行是否出现 0。但为了防止每一列的第一个元素被提前更新，我们需要从最后一行开始，倒序地处理矩阵元素。"
   ]
  },
  {
   "cell_type": "code",
   "execution_count": 28,
   "id": "76ef47aa-2a20-445c-87b9-bd3b46719986",
   "metadata": {},
   "outputs": [],
   "source": [
    "class Solution:\n",
    "    def setZeroes(self, matrix: List[List[int]]) -> None:\n",
    "        m, n = len(matrix), len(matrix[0])\n",
    "        flag_col0 = False\n",
    "        \n",
    "        for i in range(m):\n",
    "            if matrix[i][0] == 0:\n",
    "                flag_col0 = True\n",
    "            for j in range(1, n):\n",
    "                if matrix[i][j] == 0:\n",
    "                    matrix[i][0] = matrix[0][j] = 0\n",
    "        \n",
    "        for i in range(m - 1, -1, -1):\n",
    "            for j in range(1, n):\n",
    "                if matrix[i][0] == 0 or matrix[0][j] == 0:\n",
    "                    matrix[i][j] = 0\n",
    "            if flag_col0:\n",
    "                matrix[i][0] = 0\n",
    "\n",
    "# 作者：LeetCode-Solution\n",
    "# 链接：https://leetcode.cn/problems/set-matrix-zeroes/solution/ju-zhen-zhi-ling-by-leetcode-solution-9ll7/\n",
    "# 来源：力扣（LeetCode）\n",
    "# 著作权归作者所有。商业转载请联系作者获得授权，非商业转载请注明出处。"
   ]
  },
  {
   "cell_type": "markdown",
   "id": "c936da79-936e-4dba-9ca2-3f2e9b27513c",
   "metadata": {},
   "source": [
    "## 3. 字母异位词分组"
   ]
  },
  {
   "cell_type": "markdown",
   "id": "b2f8dbd4-c30a-4b68-a3fb-bd8c78a1e072",
   "metadata": {},
   "source": [
    "由于字符串只包含小写字母，因此可以使用一个26维的元组来标记不同字符串。"
   ]
  },
  {
   "cell_type": "code",
   "execution_count": 35,
   "id": "1cc3ba2c-7337-46db-ab3b-b32f1dcb907c",
   "metadata": {},
   "outputs": [],
   "source": [
    "from collections import defaultdict\n",
    "class Solution:\n",
    "    def groupAnagrams(self, strs: List[str]) -> List[List[str]]:\n",
    "        def getkey(s):\n",
    "            if not s: return \"\"\n",
    "            key = [0] * 26\n",
    "            for ch in s:\n",
    "                key[ord(ch) - 97] += 1\n",
    "            return tuple(key)\n",
    "        cnt = defaultdict(list)\n",
    "        for s in strs:\n",
    "            cnt[getkey(s)].append(s)\n",
    "        res = []\n",
    "        for key in cnt:\n",
    "            res.append(cnt[key])\n",
    "        return res"
   ]
  },
  {
   "cell_type": "markdown",
   "id": "7de1ecbb-520c-4193-b29e-605fd9d2db24",
   "metadata": {},
   "source": [
    "- 时间复杂度：O(n(k + $|\\Sigma|$))\n",
    "- 空间复杂度： O(n(k + $|\\Sigma|$))"
   ]
  },
  {
   "cell_type": "code",
   "execution_count": null,
   "id": "e2fcf98c-bbc7-4ecf-95c9-7e765cf166b1",
   "metadata": {},
   "outputs": [],
   "source": [
    "class Solution:\n",
    "    def groupAnagrams(self, strs: List[str]) -> List[List[str]]:\n",
    "        mp = collections.defaultdict(list)\n",
    "\n",
    "        for st in strs:\n",
    "            key = \"\".join(sorted(st))\n",
    "            mp[key].append(st)\n",
    "        \n",
    "        return list(mp.values())\n",
    "\n",
    "# 作者：LeetCode-Solution\n",
    "# 链接：https://leetcode.cn/problems/group-anagrams/solution/zi-mu-yi-wei-ci-fen-zu-by-leetcode-solut-gyoc/\n",
    "# 来源：力扣（LeetCode）\n",
    "# 著作权归作者所有。商业转载请联系作者获得授权，非商业转载请注明出处。"
   ]
  },
  {
   "cell_type": "markdown",
   "id": "4bfa33fc-218b-4fc7-af4c-19a604b52817",
   "metadata": {},
   "source": [
    "也可以使用排序后的字符串作为键，但是时间复杂度会提高。"
   ]
  },
  {
   "cell_type": "markdown",
   "id": "d689f2f4-ccb8-482c-b875-0e538322360a",
   "metadata": {},
   "source": [
    "- 时间复杂度： O(nklogk)，其中n是strs中的字符串的数量，k是strs中的字符串的最大长度。需要遍历n个字符串，对于每个字符串，需要 O(klogk)的时间进行排序以及 O(1) 的时间更新翰洗标，因此总时间复杂度是 O(nklogk)。\n",
    "- 空间复杂度： O(nk)，其中n 是 strs 中的字符串的数量，k是strs中的字符串的最大长度，需要用哈希表存储全部字符串。"
   ]
  },
  {
   "cell_type": "markdown",
   "id": "4c175df3-1fc0-4cab-8ec3-50eebb9cf4c6",
   "metadata": {},
   "source": [
    "## 4. 无重复字符的最长子串"
   ]
  },
  {
   "cell_type": "markdown",
   "id": "97f900d5-21c4-4964-bb72-90c6589129ae",
   "metadata": {},
   "source": [
    "一眼 silde window"
   ]
  },
  {
   "cell_type": "code",
   "execution_count": 38,
   "id": "f9868fc0-8a25-4302-8920-0672733f1152",
   "metadata": {},
   "outputs": [],
   "source": [
    "from collections import deque\n",
    "class Solution:\n",
    "    def lengthOfLongestSubstring(self, s: str) -> int:\n",
    "        if not s: return 0\n",
    "        left = ans = 0\n",
    "        cnt = deque()\n",
    "        for i, ch in enumerate(s):\n",
    "            while ch in cnt: \n",
    "                ans = max(ans, i - left)\n",
    "                cnt.popleft()\n",
    "                left += 1\n",
    "            cnt.append(ch)\n",
    "        ans = max(ans, len(cnt))\n",
    "        return ans"
   ]
  },
  {
   "cell_type": "code",
   "execution_count": 40,
   "id": "7b812e0d-ea64-47ea-855a-c2b4b2af8a04",
   "metadata": {},
   "outputs": [],
   "source": [
    "class Solution:\n",
    "    def lengthOfLongestSubstring(self, s: str) -> int:\n",
    "        if not s:return 0\n",
    "        left = 0\n",
    "        lookup = set()\n",
    "        n = len(s)\n",
    "        max_len = 0\n",
    "        cur_len = 0\n",
    "        for i in range(n):\n",
    "            cur_len += 1\n",
    "            while s[i] in lookup:\n",
    "                lookup.remove(s[left])\n",
    "                left += 1\n",
    "                cur_len -= 1\n",
    "            if cur_len > max_len:max_len = cur_len\n",
    "            lookup.add(s[i])\n",
    "        return max_len\n",
    "\n",
    "# 作者：powcai\n",
    "# 链接：https://leetcode.cn/problems/longest-substring-without-repeating-characters/solution/hua-dong-chuang-kou-by-powcai/\n",
    "# 来源：力扣（LeetCode）\n",
    "# 著作权归作者所有。商业转载请联系作者获得授权，非商业转载请注明出处。"
   ]
  },
  {
   "cell_type": "markdown",
   "id": "c426597e-7099-42f4-806f-97e620f2ba32",
   "metadata": {},
   "source": [
    "难道popleft很慢吗？"
   ]
  },
  {
   "cell_type": "code",
   "execution_count": 42,
   "id": "7cecab46-b4be-4ccb-9a5f-11d2e23a29a1",
   "metadata": {},
   "outputs": [],
   "source": [
    "from collections import deque\n",
    "class Solution:\n",
    "    def lengthOfLongestSubstring(self, s: str) -> int:\n",
    "        if not s: return 0\n",
    "        left = ans = 0\n",
    "        cnt = set()\n",
    "        for i, ch in enumerate(s):\n",
    "            while ch in cnt: \n",
    "                ans = max(ans, i - left)\n",
    "                cnt.remove(s[left])\n",
    "                left += 1\n",
    "            cnt.add(ch)\n",
    "        ans = max(ans, len(cnt))\n",
    "        return ans"
   ]
  },
  {
   "cell_type": "markdown",
   "id": "da997873-da41-4b0a-b31d-04e2aee24f67",
   "metadata": {},
   "source": [
    "popleft貌似很慢"
   ]
  },
  {
   "cell_type": "markdown",
   "id": "ae8bc68f-cfeb-4ed7-8516-017ac299c725",
   "metadata": {},
   "source": [
    "## 5. 最长回文子串"
   ]
  },
  {
   "cell_type": "markdown",
   "id": "85b3f11f-fb52-47e7-9831-131581f097dd",
   "metadata": {},
   "source": [
    "首先是中心扩散法：\n",
    "对于一个字符串中的字符，寻找回文串：\n",
    "1. 首先往左寻找与当前位置相同的字符，直到遇到不相等的为止。\n",
    "2. 然后往右寻找与当前位置相同的字符，直到遇到不相等的为止。\n",
    "3. 最后左右双向扩散，直到左和右不相等为止。"
   ]
  },
  {
   "cell_type": "code",
   "execution_count": 45,
   "id": "5515d8b3-81f5-4a43-a436-53acf055dfa3",
   "metadata": {},
   "outputs": [],
   "source": [
    "class Solution:\n",
    "    def longestPalindrome(self, s: str) -> str:\n",
    "        n = len(s)\n",
    "        left = right = maxstart = maxlen = 0\n",
    "        leng = 1\n",
    "        for i in range(n):\n",
    "            left, right = i - 1, i + 1\n",
    "            while left >= 0 and s[left] == s[i]: \n",
    "                leng += 1\n",
    "                left -= 1\n",
    "            while right < n and s[right] == s[i]: \n",
    "                leng += 1\n",
    "                right += 1\n",
    "            while left >= 0 and right < n and s[left] == s[right]:\n",
    "                leng += 2\n",
    "                left -= 1\n",
    "                right += 1\n",
    "            if leng > maxlen:\n",
    "                maxlen = leng\n",
    "                maxstart = left\n",
    "            leng = 1\n",
    "        return s[maxstart + 1: maxstart + maxlen + 1]"
   ]
  },
  {
   "cell_type": "markdown",
   "id": "86ad9b5f-4a1e-49d5-85ce-184a8086c859",
   "metadata": {},
   "source": [
    "- 时间复杂度: O(n ^ 2)\n",
    "- 空间复杂度： O(1)"
   ]
  },
  {
   "cell_type": "markdown",
   "id": "71f42f89-caf3-41e2-aa0f-dd163937d655",
   "metadata": {},
   "source": [
    "更好的写法"
   ]
  },
  {
   "cell_type": "code",
   "execution_count": 47,
   "id": "8e5e3936-1a89-4829-8588-87018422a58e",
   "metadata": {},
   "outputs": [],
   "source": [
    "class Solution:\n",
    "    def expandAroundCenter(self, s, left, right):\n",
    "        while left >= 0 and right < len(s) and s[left] == s[right]:\n",
    "            left -= 1\n",
    "            right += 1\n",
    "        return left + 1, right - 1\n",
    "\n",
    "    def longestPalindrome(self, s: str) -> str:\n",
    "        start, end = 0, 0\n",
    "        for i in range(len(s)):\n",
    "            left1, right1 = self.expandAroundCenter(s, i, i)\n",
    "            left2, right2 = self.expandAroundCenter(s, i, i + 1)\n",
    "            # 分别对应扩散的两种情况，即以一个字母为中心或两个相同字母为中心。\n",
    "            if right1 - left1 > end - start:\n",
    "                start, end = left1, right1\n",
    "            if right2 - left2 > end - start:\n",
    "                start, end = left2, right2\n",
    "        return s[start: end + 1]\n",
    "\n",
    "# 作者：LeetCode-Solution\n",
    "# 链接：https://leetcode.cn/problems/longest-palindromic-substring/solution/zui-chang-hui-wen-zi-chuan-by-leetcode-solution/\n",
    "# 来源：力扣（LeetCode）\n",
    "# 著作权归作者所有。商业转载请联系作者获得授权，非商业转载请注明出处。"
   ]
  },
  {
   "cell_type": "code",
   "execution_count": 49,
   "id": "0879a337-6f51-4edf-a5d6-6700526f106d",
   "metadata": {},
   "outputs": [],
   "source": [
    "class Solution:\n",
    "    def longestPalindrome(self, s: str) -> str:\n",
    "        n = len(s)\n",
    "        start = end = 0\n",
    "        def expand(left, right):\n",
    "            while left >= 0 and right < n and s[left] == s[right]:\n",
    "                left -= 1\n",
    "                right += 1\n",
    "            return left + 1, right - 1\n",
    "        \n",
    "        for i in range(n):\n",
    "            left1, right1 = expand(i, i)\n",
    "            left2, right2 = expand(i, i + 1)\n",
    "            if right1 - left1 > end - start:\n",
    "                start, end = left1, right1\n",
    "            if right2 - left2 > end - start:\n",
    "                start, end = left2, right2\n",
    "        return s[start: end + 1]"
   ]
  },
  {
   "cell_type": "markdown",
   "id": "c51b39bd-e47f-43ef-a351-53e192f4e6b8",
   "metadata": {},
   "source": [
    "## 6. 递增的三元子序列"
   ]
  },
  {
   "cell_type": "markdown",
   "id": "bdaeda77-f8b0-491c-9490-8a2385400e50",
   "metadata": {},
   "source": [
    "朴素想法：枚举中间数字"
   ]
  },
  {
   "cell_type": "code",
   "execution_count": 51,
   "id": "37e8b615-74d1-4005-940b-fe8ef23a9bf7",
   "metadata": {},
   "outputs": [],
   "source": [
    "class Solution:\n",
    "    def increasingTriplet(self, nums: List[int]) -> bool:\n",
    "        n = len(nums)\n",
    "        for i in range(1, n - 1):\n",
    "            cur = nums[i]\n",
    "            cnt = 0\n",
    "            for j in range(0, i):\n",
    "                if nums[j] < cur:\n",
    "                    cnt += 1\n",
    "                    break\n",
    "            if not cnt: continue\n",
    "            for k in range(i + 1, n):\n",
    "                if nums[k] > cur:\n",
    "                    return True\n",
    "        return False"
   ]
  },
  {
   "cell_type": "markdown",
   "id": "75dc75f5-41e6-45c0-8280-cfec147d0c67",
   "metadata": {},
   "source": [
    "O(n ^ 2) 复杂度超时，看来只能想 O(n) 复杂度的算法了。"
   ]
  },
  {
   "cell_type": "markdown",
   "id": "fb557912-9ef7-4db1-aa0d-541ad1ac2915",
   "metadata": {},
   "source": [
    "好像有点思路了：\n",
    "\n",
    "遍历过程中记录由小变大的数字关系，如先遍历到 a ，再遍历到 b ， 而 a < b；则后序遍历只要有数字大于 b 即可返回 True ， 同时更新满足条件的最小值。"
   ]
  },
  {
   "cell_type": "code",
   "execution_count": 56,
   "id": "219c2da0-31e3-4fa4-b7eb-d76b43b1044b",
   "metadata": {},
   "outputs": [],
   "source": [
    "class Solution:\n",
    "    def increasingTriplet(self, nums: List[int]) -> bool:\n",
    "        min1, min2 = nums[0], float(\"Inf\")\n",
    "        for num in nums[1:]:\n",
    "            if num > min2: return True\n",
    "            if num < min1: min1 = num\n",
    "            elif min1 < num < min2: min2 = num\n",
    "        return False                    "
   ]
  },
  {
   "cell_type": "markdown",
   "id": "c909265d-b88b-4bfb-b132-153f73ff5433",
   "metadata": {},
   "source": [
    "elif 后不需要判断小于 min2 了，因为大于的话直接 True"
   ]
  },
  {
   "cell_type": "code",
   "execution_count": 57,
   "id": "51c1db01-bd89-45d1-89e3-632a81e46d63",
   "metadata": {},
   "outputs": [],
   "source": [
    "class Solution:\n",
    "    def increasingTriplet(self, nums: List[int]) -> bool:\n",
    "        min1, min2 = nums[0], float(\"Inf\")\n",
    "        for num in nums[1:]:\n",
    "            if num > min2: return True\n",
    "            if num > min1: min2 = num\n",
    "            else: min1 = num\n",
    "        return False                    "
   ]
  },
  {
   "cell_type": "markdown",
   "id": "8ddbaad5-0c2b-422f-889d-a66ea6f64e6a",
   "metadata": {},
   "source": [
    "- 时间复杂度： O(n)\n",
    "- 空间复杂度： O(1)"
   ]
  },
  {
   "cell_type": "markdown",
   "id": "f8fcd10b-064b-44fc-ae13-e31148a8b6ac",
   "metadata": {},
   "source": [
    "# 链表"
   ]
  },
  {
   "cell_type": "code",
   "execution_count": 1,
   "id": "824cbaf2-ec20-4763-872a-68b70ecc3957",
   "metadata": {},
   "outputs": [],
   "source": [
    "# Definition for singly-linked list.\n",
    "class ListNode:\n",
    "    def __init__(self, val=0, next=None):\n",
    "        self.val = val\n",
    "        self.next = next"
   ]
  },
  {
   "cell_type": "code",
   "execution_count": 6,
   "id": "3573cac5-1577-43f6-8b89-6785502d506f",
   "metadata": {},
   "outputs": [],
   "source": [
    "from typing import Optional\n",
    "class Solution:\n",
    "    def addTwoNumbers(self, l1: Optional[ListNode], l2: Optional[ListNode]) -> Optional[ListNode]:\n",
    "        carry = 0\n",
    "        cur1, cur2 = l1, l2\n",
    "        while cur1.next and cur2.next:\n",
    "            carry, cur1.val = divmod(cur1.val + cur2.val + carry, 10)\n",
    "            cur1 = cur1.next\n",
    "            cur2 = cur2.next\n",
    "        carry, cur1.val = divmod(cur1.val + cur2.val + carry, 10)\n",
    "        if cur2.next: cur1.next = cur2.next\n",
    "        while cur1.next:\n",
    "            cur1 = cur1.next\n",
    "            carry, cur1.val = divmod(cur1.val + carry, 10)\n",
    "        if carry:\n",
    "            cur1.next = ListNode(1)\n",
    "        return l1"
   ]
  },
  {
   "cell_type": "markdown",
   "id": "c40892f3-8c1a-4740-81a4-3d6cbe8d83ef",
   "metadata": {},
   "source": [
    "- 时间复杂度：O(max(m,n))\n",
    "- 空间复杂度：O(1)"
   ]
  },
  {
   "cell_type": "markdown",
   "id": "19a22d45-2720-4f99-8cf4-c306514ccca1",
   "metadata": {},
   "source": [
    "## 2. 奇偶链表"
   ]
  },
  {
   "cell_type": "markdown",
   "id": "795053a2-14b8-4e4d-8215-c8d79edf8f2b",
   "metadata": {},
   "source": [
    "问题的关键：\n",
    "\n",
    "如果想想成数字间的交换，那恐怕会非常复杂，但是——这是链表，链表节点的前后关系可以通过next来直接改变，很容易做各种排列组合操作，这是不同于数组的地方。"
   ]
  },
  {
   "cell_type": "code",
   "execution_count": 19,
   "id": "54751e7e-830b-418d-a4f2-f86a8645096a",
   "metadata": {},
   "outputs": [],
   "source": [
    "class Solution:\n",
    "    def oddEvenList(self, head: Optional[ListNode]) -> Optional[ListNode]:\n",
    "        if not head: return \n",
    "        odd, even = head, head.next\n",
    "        nxt = head.next\n",
    "        while odd and even and odd.next.next:\n",
    "            odd.next = odd.next.next\n",
    "            even.next = even.next.next\n",
    "            odd = odd.next\n",
    "            even = even.next\n",
    "        odd.next = nxt\n",
    "        return head"
   ]
  },
  {
   "cell_type": "code",
   "execution_count": 20,
   "id": "482751d3-619f-44ff-b2cd-edba7a404980",
   "metadata": {},
   "outputs": [],
   "source": [
    "class Solution:\n",
    "    def oddEvenList(self, head: ListNode) -> ListNode:\n",
    "        if not head:\n",
    "            return head\n",
    "        \n",
    "        evenHead = head.next\n",
    "        odd, even = head, evenHead\n",
    "        while even and even.next:\n",
    "            odd.next = even.next\n",
    "            odd = odd.next\n",
    "            even.next = odd.next\n",
    "            even = even.next\n",
    "        odd.next = evenHead\n",
    "        return head\n",
    "\n",
    "# 作者：LeetCode-Solution\n",
    "# 链接：https://leetcode.cn/problems/odd-even-linked-list/solution/qi-ou-lian-biao-by-leetcode-solution/\n",
    "# 来源：力扣（LeetCode）\n",
    "# 著作权归作者所有。商业转载请联系作者获得授权，非商业转载请注明出处。"
   ]
  },
  {
   "cell_type": "markdown",
   "id": "7e24d980-ea1d-4f77-b532-95dc1263f1ae",
   "metadata": {},
   "source": [
    "官解的next逻辑比较好"
   ]
  },
  {
   "cell_type": "markdown",
   "id": "2ee3729e-95a0-497e-8493-057415a6869f",
   "metadata": {},
   "source": [
    "## 3. 相交链表"
   ]
  },
  {
   "cell_type": "code",
   "execution_count": 21,
   "id": "d9e5ad3b-4322-4cf3-b413-fd780a730508",
   "metadata": {},
   "outputs": [],
   "source": [
    "class Solution:\n",
    "    def getIntersectionNode(self, headA: ListNode, headB: ListNode) -> Optional[ListNode]:\n",
    "        stk = []\n",
    "        cur1, cur2 = headA, headB\n",
    "        while cur1:\n",
    "            stk.append(cur1)\n",
    "            cur1 = cur1.next\n",
    "        while cur2:\n",
    "            if cur2 in stk: return cur2\n",
    "            cur2 = cur2.next\n",
    "        return"
   ]
  },
  {
   "cell_type": "markdown",
   "id": "babec6de-1c60-4291-ac9c-0b018eacd4ac",
   "metadata": {},
   "source": [
    "- 时间复杂度： O(n) ?\n",
    "- 空间复杂度：O(n)"
   ]
  },
  {
   "cell_type": "markdown",
   "id": "859c3339-039b-4cb3-a7fe-937d3daeef46",
   "metadata": {},
   "source": [
    "双指针可以达到 O(1) 的空间复杂度，不过也比较难想了。"
   ]
  },
  {
   "cell_type": "code",
   "execution_count": 22,
   "id": "33af4f03-48b1-401f-94e6-e84ccbca583c",
   "metadata": {},
   "outputs": [],
   "source": [
    "class Solution:\n",
    "    def getIntersectionNode(self, headA: ListNode, headB: ListNode) -> Optional[ListNode]:\n",
    "        if not headA or not headB: return\n",
    "        p1, p2 = headA, headB\n",
    "        while p1 != p2:\n",
    "            p1 = headB if not p1 else p1.next\n",
    "            p2 = headA if not p2 else p2.next\n",
    "        return p1"
   ]
  },
  {
   "cell_type": "markdown",
   "id": "adfedb9a-4be8-4bf3-80f5-c2eda4a53e4c",
   "metadata": {},
   "source": [
    "每个指针都把两条链表的节点都遍历一遍，最后重合的地方就是交点。"
   ]
  },
  {
   "cell_type": "markdown",
   "id": "2e06fe50-fcf4-4b5d-a7d8-4fe7b89dea82",
   "metadata": {
    "tags": []
   },
   "source": [
    "# 树和图"
   ]
  },
  {
   "cell_type": "markdown",
   "id": "e2a4469a-f5ce-4ef9-b7b7-62a0dbdddfed",
   "metadata": {},
   "source": [
    "## 1. 二叉树的中序遍历"
   ]
  },
  {
   "cell_type": "code",
   "execution_count": 3,
   "id": "45cd16f6-a08b-4179-bdcd-e0adaaa4605d",
   "metadata": {},
   "outputs": [],
   "source": [
    "# Definition for a binary tree node.\n",
    "class TreeNode:\n",
    "    def __init__(self, val=0, left=None, right=None):\n",
    "        self.val = val\n",
    "        self.left = left\n",
    "        self.right = right"
   ]
  },
  {
   "cell_type": "code",
   "execution_count": 26,
   "id": "8f974283-e327-40fc-9c68-d0dcb27981cc",
   "metadata": {},
   "outputs": [],
   "source": [
    "from typing import List\n",
    "class Solution:\n",
    "    def inorderTraversal(self, root: Optional[TreeNode]) -> List[int]:\n",
    "        res = []\n",
    "        def dfs(root):\n",
    "            if not root: return\n",
    "            dfs(root.left)\n",
    "            res.append(root.val)\n",
    "            dfs(root.right)\n",
    "        dfs(root)\n",
    "        return res"
   ]
  },
  {
   "cell_type": "code",
   "execution_count": 27,
   "id": "b4fe40cb-f2dd-4fd8-9b29-82d47545c689",
   "metadata": {},
   "outputs": [],
   "source": [
    "class Solution:\n",
    "    def inorderTraversal(self, root: Optional[TreeNode]) -> List[int]:\n",
    "        stk, cur = [], root\n",
    "        res = []\n",
    "        while stk or cur:\n",
    "            while cur: \n",
    "                stk.append(cur)\n",
    "                cur = cur.left\n",
    "            cur = stk.pop()\n",
    "            res.append(cur.val)\n",
    "            cur = cur.right\n",
    "        return res"
   ]
  },
  {
   "cell_type": "markdown",
   "id": "57770321-d6d5-4198-9e19-5e58d1731c7e",
   "metadata": {},
   "source": [
    "## 2. 二叉树的锯齿形层次遍历"
   ]
  },
  {
   "cell_type": "code",
   "execution_count": 33,
   "id": "63b83dbb-cb5c-42f6-9aeb-a1171e03f172",
   "metadata": {},
   "outputs": [],
   "source": [
    "from collections import deque\n",
    "class Solution:\n",
    "    def zigzagLevelOrder(self, root: Optional[TreeNode]) -> List[List[int]]:\n",
    "        if not root: return []\n",
    "        dq, res, flag = deque(), [], 1\n",
    "        dq.append(root)\n",
    "        while len(dq) != 0:\n",
    "            temp= []\n",
    "            for i in range(len(dq)):\n",
    "                node = dq.popleft()\n",
    "                temp.append(node.val)\n",
    "                if node.left: dq.append(node.left)\n",
    "                if node.right: dq.append(node.right)\n",
    "            if flag == 1:\n",
    "                res.append(temp[:])\n",
    "                flag = 0\n",
    "            else:\n",
    "                res.append(temp[::-1])\n",
    "                flag = 1\n",
    "        return res"
   ]
  },
  {
   "cell_type": "markdown",
   "id": "70562879-e9a8-4d07-8ce3-98a479943b2b",
   "metadata": {},
   "source": [
    "## 3. 从前序与中序遍历序列构造二叉树"
   ]
  },
  {
   "cell_type": "code",
   "execution_count": 4,
   "id": "08262802-408e-4df3-a1fc-b4a41c2006d6",
   "metadata": {},
   "outputs": [],
   "source": [
    "from typing import List\n",
    "class Solution:\n",
    "    def buildTree(self, preorder: List[int], inorder: List[int]) -> TreeNode:\n",
    "        def myBuildTree(preorder_left: int, preorder_right: int, \n",
    "                        inorder_left: int, inorder_right: int):\n",
    "            if preorder_left > preorder_right:\n",
    "                return None\n",
    "            \n",
    "            # 前序遍历中的第一个节点就是根节点\n",
    "            preorder_root = preorder_left\n",
    "            # 在中序遍历中定位根节点\n",
    "            inorder_root = index[preorder[preorder_root]]\n",
    "            \n",
    "            # 先把根节点建立出来\n",
    "            root = TreeNode(preorder[preorder_root])\n",
    "            # 得到左子树中的节点数目\n",
    "            size_left_subtree = inorder_root - inorder_left\n",
    "            # 递归地构造左子树，并连接到根节点\n",
    "            # 先序遍历中「从 左边界+1 开始的 size_left_subtree」\n",
    "            # 个元素就对应了中序遍历中「从 左边界 开始到 根节点定位-1」的元素\n",
    "            root.left = myBuildTree(\n",
    "                preorder_left + 1, \n",
    "                preorder_left + size_left_subtree, \n",
    "                inorder_left, \n",
    "                inorder_root - 1\n",
    "            )\n",
    "            # 递归地构造右子树，并连接到根节点\n",
    "            # 先序遍历中「从 左边界+1+左子树节点数目 开始到 右边界」\n",
    "            # 的元素就对应了中序遍历中「从 根节点定位+1 到 右边界」的元素\n",
    "            root.right = myBuildTree(\n",
    "                preorder_left + size_left_subtree + 1, \n",
    "                preorder_right, \n",
    "                inorder_root + 1, \n",
    "                inorder_right\n",
    "            )\n",
    "            return root\n",
    "        \n",
    "        n = len(preorder)\n",
    "        # 构造哈希映射，帮助我们快速定位根节点\n",
    "        index = {element: i for i, element in enumerate(inorder)}\n",
    "        return myBuildTree(0, n - 1, 0, n - 1)\n",
    "\n",
    "# 作者：LeetCode-Solution\n",
    "# 链接：https://leetcode.cn/problems/construct-binary-tree-from-preorder-and-inorder-traversal/solution/cong-qian-xu-yu-zhong-xu-bian-li-xu-lie-gou-zao-9/\n",
    "# 来源：力扣（LeetCode）\n",
    "# 著作权归作者所有。商业转载请联系作者获得授权，非商业转载请注明出处。"
   ]
  },
  {
   "cell_type": "markdown",
   "id": "b1da66be-78e8-4dfe-8a7e-b716ec925735",
   "metadata": {},
   "source": [
    "对于任意一棵树而言，前序遍历的形式总是：\n",
    "> [根节点, [左子树的前序遍历结果], [右子树的前序遍历结果]]\n",
    "\n",
    "即根节点总是前序遍历中的第一个节点。而中序遍历的形式总是\n",
    "> [[左子树的中序遍历结果], [根节点], [右子树的中序遍历结果]]\n",
    "\n",
    "只要我们在中序遍历中定位到根节点，那么我们就可以分别知道左子树和右子树中的节点数目/由于同一颗字数的前序遍历和中序遍历的长度显然是相同的，因此我们就可以对应到前序遍历的结果中，对上述行驶中的所有左右括号进行定位。\n",
    "\n",
    "这样一来，我们就知道了左子树的前序遍历和中序遍历结果，以及右子树的前序遍历和中序遍历结果，我们就可以递归地构造出左子树和右子树，再将这两棵子树接到根节点的左右位置。\n",
    "\n",
    "细节：\n",
    "\n",
    "在中序遍历中对根节点进行定位时，一种简单的方法时直接扫描整个中序遍历的结果并找出根节点，但这样做的时间复杂度较高。我们可以考虑使用哈希表来帮助我们快速地定位根节点。对于哈希映射中的每个键值对，键表示一个元素（结点的值），值表示其在中序遍历中的出现位置，在构造二叉树的过程之前，我们可以对中序遍历的列表进行一遍扫描，就可以构造出这个哈希映射，在此后构造二叉树的过程中，我们就只需要O(1)的时间对根节点进行定位了。"
   ]
  },
  {
   "cell_type": "code",
   "execution_count": 6,
   "id": "180053ec-c54a-4009-8444-6dcbe75ab346",
   "metadata": {},
   "outputs": [],
   "source": [
    "from typing import Optional\n",
    "class Solution:\n",
    "    def buildTree(self, preorder: List[int], inorder: List[int]) -> Optional[TreeNode]:\n",
    "        def build(preleft, preright, inleft, inright):\n",
    "            if preleft > preright: return\n",
    "            RootVal = preorder[preleft]\n",
    "            curRoot = TreeNode(RootVal)\n",
    "            RootIdx = query[RootVal]\n",
    "            curRoot.left = build(\n",
    "                preleft + 1,\n",
    "                preleft + RootIdx - inleft,\n",
    "                inleft,\n",
    "                RootIdx - 1\n",
    "            )\n",
    "            curRoot.right = build(\n",
    "                preleft + RootIdx - inleft + 1,\n",
    "                preright,\n",
    "                RootIdx + 1,\n",
    "                inright\n",
    "            )\n",
    "            return curRoot\n",
    "        \n",
    "        n = len(inorder)\n",
    "        query = {element: i for i, element in enumerate(inorder)}\n",
    "        return build(0, n - 1, 0, n - 1)"
   ]
  },
  {
   "cell_type": "markdown",
   "id": "523369e6-234b-44de-97f5-bf64f69d0211",
   "metadata": {},
   "source": [
    "- 时间复杂度： O(n)\n",
    "- 空间复杂度： O(n)"
   ]
  },
  {
   "cell_type": "markdown",
   "id": "bdd079df-2265-498a-9fbd-9e77a01fb65d",
   "metadata": {},
   "source": [
    "迭代解法太复杂了，暂时不看了。"
   ]
  },
  {
   "cell_type": "markdown",
   "id": "43d7624f-87c4-4b21-a0ff-a38b3c4e3910",
   "metadata": {},
   "source": [
    "## 4. 填充每个节点的下一个右侧节点指针"
   ]
  },
  {
   "cell_type": "code",
   "execution_count": 10,
   "id": "c3ba1567-591e-486a-8cdf-2c0a994820bd",
   "metadata": {},
   "outputs": [],
   "source": [
    "from collections import deque\n",
    "class Solution:\n",
    "    def connect(self, root: 'Optional[Node]') -> 'Optional[Node]':\n",
    "        stk = deque([root])\n",
    "        while stk:\n",
    "            for _ in range(len(stk)):\n",
    "                cur = stk.popleft()\n",
    "                if stk: cur.next = stk[0]\n",
    "                if cur.left: stk.append(cur.left)\n",
    "                if cur.right: stk.append(cur.right)\n",
    "            cur.next = None\n",
    "        return root"
   ]
  },
  {
   "cell_type": "markdown",
   "id": "f4dbcf2d-a965-4d2c-b3af-9510d7c8ba80",
   "metadata": {},
   "source": [
    "- 时间复杂度：O(n)\n",
    "- 空间复杂度：O(n)"
   ]
  },
  {
   "cell_type": "code",
   "execution_count": null,
   "id": "75aa12a8-addb-4ced-9fb3-9627a8bf91d4",
   "metadata": {},
   "outputs": [],
   "source": [
    "class Solution:\n",
    "    def connect(self, root: 'Node') -> 'Node':\n",
    "        \n",
    "        if not root:\n",
    "            return root\n",
    "        \n",
    "        # 从根节点开始\n",
    "        leftmost = root\n",
    "        \n",
    "        while leftmost.left:\n",
    "            \n",
    "            # 遍历这一层节点组织成的链表，为下一层的节点更新 next 指针\n",
    "            head = leftmost\n",
    "            while head:\n",
    "                \n",
    "                # CONNECTION 1\n",
    "                head.left.next = head.right\n",
    "                \n",
    "                # CONNECTION 2\n",
    "                if head.next:\n",
    "                    head.right.next = head.next.left\n",
    "                \n",
    "                # 指针向后移动\n",
    "                head = head.next\n",
    "            \n",
    "            # 去下一层的最左的节点\n",
    "            leftmost = leftmost.left\n",
    "        \n",
    "        return root \n",
    "\n",
    "# 作者：LeetCode-Solution\n",
    "# 链接：https://leetcode.cn/problems/populating-next-right-pointers-in-each-node/solution/tian-chong-mei-ge-jie-dian-de-xia-yi-ge-you-ce-2-4/\n",
    "# 来源：力扣（LeetCode）\n",
    "# 著作权归作者所有。商业转载请联系作者获得授权，非商业转载请注明出处。"
   ]
  },
  {
   "cell_type": "markdown",
   "id": "c8730fa3-2540-4109-a146-cbfd94a498d0",
   "metadata": {},
   "source": [
    "空间O(1)的方法：利用上一层已经建立好的next信息来辅助建立这一层的next"
   ]
  },
  {
   "cell_type": "code",
   "execution_count": 12,
   "id": "13f54e17-63c0-42f2-85de-4d2e9ff52bfc",
   "metadata": {},
   "outputs": [],
   "source": [
    "class Solution:\n",
    "    def connect(self, root: 'Node') -> 'Node':\n",
    "        if not root: return root\n",
    "        leftmost = root\n",
    "        while leftmost.left:\n",
    "            head = leftmost\n",
    "            while head:\n",
    "                head.left.next = head.right\n",
    "                if head.next: head.right.next = head.next.left\n",
    "                head = head.next\n",
    "            leftmost = leftmost.left\n",
    "        return root "
   ]
  },
  {
   "cell_type": "markdown",
   "id": "8d3ad793-dbeb-4465-90b6-3a5ae03200d1",
   "metadata": {},
   "source": [
    "像一个自动机"
   ]
  },
  {
   "cell_type": "markdown",
   "id": "af1d8968-a4f0-4c27-9a89-578ed8f6855c",
   "metadata": {},
   "source": [
    "## 5. 二叉搜索树中第K小的元素"
   ]
  },
  {
   "cell_type": "code",
   "execution_count": 13,
   "id": "7e87fb08-0f0a-4603-8fba-7d9ba672e243",
   "metadata": {},
   "outputs": [],
   "source": [
    "class Solution:\n",
    "    def kthSmallest(self, root: Optional[TreeNode], k: int) -> int:\n",
    "        res = []\n",
    "        def dfs(root):\n",
    "            if not root: return \n",
    "            dfs(root.left)\n",
    "            res.append(root.val)\n",
    "            dfs(root.right)\n",
    "        dfs(root)\n",
    "        return res[k - 1]"
   ]
  },
  {
   "cell_type": "markdown",
   "id": "e69b3482-5edc-4912-997b-d90373958666",
   "metadata": {},
   "source": [
    "- 时间复杂度： O(n)\n",
    "- 空间复杂度：O(n)"
   ]
  },
  {
   "cell_type": "markdown",
   "id": "b671a81c-7e50-4f05-8514-e076212f7220",
   "metadata": {},
   "source": [
    "中序第K个遍历到的不就是要求的答案吗？"
   ]
  },
  {
   "cell_type": "code",
   "execution_count": 17,
   "id": "03e36b2e-4772-4e00-9c12-2aaed6ede6e1",
   "metadata": {},
   "outputs": [],
   "source": [
    "class Solution:\n",
    "    def kthSmallest(self, root: Optional[TreeNode], k: int) -> int:\n",
    "        stk, cur, cnt = [], root, 0\n",
    "        while stk or cur:\n",
    "            while cur:\n",
    "                stk.append(cur)\n",
    "                cur = cur.left\n",
    "            cur = stk.pop()\n",
    "            cnt += 1\n",
    "            if cnt == k: return cur.val\n",
    "            cur = cur.right"
   ]
  },
  {
   "cell_type": "markdown",
   "id": "77cfac64-ae99-4b03-839b-41f9e9c5e0a1",
   "metadata": {},
   "source": [
    "- 时间复杂度：O(H + k)，其中H是树的高度\n",
    "- 空间复杂度：O(H)"
   ]
  },
  {
   "cell_type": "markdown",
   "id": "0fcfd937-565a-4325-8b22-e4f96edb0e95",
   "metadata": {},
   "source": [
    "### 方法二：记录子树的节点数\n",
    "> 如果你需要频繁地查找第k小的值，你将如何优化算法？"
   ]
  },
  {
   "cell_type": "markdown",
   "id": "3f2bc83a-6c67-47ea-8f0e-6b3751f3636e",
   "metadata": {},
   "source": [
    "在方法一中，我们之所以需要中序遍历前k个元素，是因为我们不知道子树的结点数量，不得不通过遍历子树的方式来获知。\n",
    "\n",
    "因此，我们可以记录下以每个节点为根节点的子树的节点数，并在查找第k小的值时，使用如下方法搜索：\n",
    "- 令node等于根节点，开始搜索。\n",
    "- 对当前节点node进行如下操作：\n",
    "    - 如果node的左子树的结点数left小于k-1，则第k小的元素一定在node的右子树中，令node等于其的右子节点，k等于k - left - 1， 并继续搜索；\n",
    "    - 如果node的左子树结点数left等于k-1，则第k小的元素即为node，结束搜索并返回node即可；\n",
    "    - 如果node的左子树的结点数left大于k-1，则第k小的元素一定在node的左子树中，令node等于其左子结点，并继续搜索。\n",
    "    \n",
    "在实现中，我们既可以将以每个结点为根节点的子树的结点数存储在结点中，也可以将其记录在哈希表中。"
   ]
  },
  {
   "cell_type": "code",
   "execution_count": null,
   "id": "9b086517-6ee6-4fbc-a9fc-394a0a6a0182",
   "metadata": {},
   "outputs": [],
   "source": [
    "class MyBst:\n",
    "    def __init__(self, root: TreeNode):\n",
    "        self.root = root\n",
    "\n",
    "        # 统计以每个结点为根结点的子树的结点数，并存储在哈希表中\n",
    "        self._node_num = {}\n",
    "        self._count_node_num(root)\n",
    "\n",
    "    def kth_smallest(self, k: int):\n",
    "        \"\"\"返回二叉搜索树中第k小的元素\"\"\"\n",
    "        node = self.root\n",
    "        while node:\n",
    "            left = self._get_node_num(node.left)\n",
    "            if left < k - 1:\n",
    "                node = node.right\n",
    "                k -= left + 1\n",
    "            elif left == k - 1:\n",
    "                return node.val\n",
    "            else:\n",
    "                node = node.left\n",
    "\n",
    "    def _count_node_num(self, node) -> int:\n",
    "        \"\"\"统计以node为根结点的子树的结点数\"\"\"\n",
    "        if not node:\n",
    "            return 0\n",
    "        self._node_num[node] = 1 + self._count_node_num(node.left) + self._count_node_num(node.right)\n",
    "        return self._node_num[node]\n",
    "\n",
    "    def _get_node_num(self, node) -> int:\n",
    "        \"\"\"获取以node为根结点的子树的结点数\"\"\"\n",
    "        return self._node_num[node] if node is not None else 0\n",
    "\n",
    "\n",
    "class Solution:\n",
    "    def kthSmallest(self, root: TreeNode, k: int) -> int:\n",
    "        bst = MyBst(root)\n",
    "        return bst.kth_smallest(k)\n",
    "\n",
    "# 作者：LeetCode-Solution\n",
    "# 链接：https://leetcode.cn/problems/kth-smallest-element-in-a-bst/solution/er-cha-sou-suo-shu-zhong-di-kxiao-de-yua-8o07/\n",
    "# 来源：力扣（LeetCode）\n",
    "# 著作权归作者所有。商业转载请联系作者获得授权，非商业转载请注明出处。"
   ]
  },
  {
   "cell_type": "markdown",
   "id": "7a7f2081-40f6-4b00-bc02-ce03c65e40ff",
   "metadata": {},
   "source": [
    "### 方法三：平衡二叉搜索树\n",
    "> 如果二叉搜索树经常被修改（插入/删除操作）并且你需要频繁地查找第k小的值，你将如何优化算法？"
   ]
  },
  {
   "cell_type": "markdown",
   "id": "34160c7a-b8e6-43f1-9509-21ef29bb6392",
   "metadata": {},
   "source": [
    "**预备知识**\n",
    "\n",
    "方法三需要先掌握 **平衡二叉搜索树（AVL树）** 的知识。平衡二叉搜索树具有如下性质：\n",
    "- 平衡二叉搜索树中每个结点的左子树和右子树的高度最多相差1；\n",
    "- 平衡二叉搜索树的子树也是平衡二叉搜索树；\n",
    "- 一颗存有n个节点的平衡二叉搜索树的高度是O(logn)。\n",
    "\n",
    "**思路和算法**\n",
    "\n",
    "问注意到在方法二中搜索二叉搜索树的时间复杂度为O(H)，其中H是树的高度；当树是平衡树时，时间复杂度取得最小值O(logN)。因此，我们在记录子树的结点数的基础上，将二叉搜索树转换为平衡二叉搜索树，并在插入和删除操作中维护它的平衡状态。"
   ]
  },
  {
   "cell_type": "code",
   "execution_count": 18,
   "id": "83e78905-7944-45e4-b386-56e48de07e98",
   "metadata": {},
   "outputs": [],
   "source": [
    "class AVL:\n",
    "    \"\"\"平衡二叉搜索树（AVL树）：允许重复值\"\"\"\n",
    "\n",
    "    class Node:\n",
    "        \"\"\"平衡二叉搜索树结点\"\"\"\n",
    "        __slots__ = (\"val\", \"parent\", \"left\", \"right\", \"size\", \"height\")\n",
    "\n",
    "        def __init__(self, val, parent=None, left=None, right=None):\n",
    "            self.val = val\n",
    "            self.parent = parent\n",
    "            self.left = left\n",
    "            self.right = right\n",
    "            self.height = 0  # 结点高度：以node为根节点的子树的高度（高度定义：叶结点的高度是0）\n",
    "            self.size = 1  # 结点元素数：以node为根节点的子树的节点总数\n",
    "\n",
    "    def __init__(self, vals):\n",
    "        self.root = self._build(vals, 0, len(vals) - 1, None) if vals else None\n",
    "\n",
    "    def _build(self, vals, l, r, parent):\n",
    "        \"\"\"根据vals[l:r]构造平衡二叉搜索树 -> 返回根结点\"\"\"\n",
    "        m = (l + r) // 2\n",
    "        node = self.Node(vals[m], parent=parent)\n",
    "        if l <= m - 1:\n",
    "            node.left = self._build(vals, l, m - 1, parent=node)\n",
    "        if m + 1 <= r:\n",
    "            node.right = self._build(vals, m + 1, r, parent=node)\n",
    "        self._recompute(node)\n",
    "        return node\n",
    "\n",
    "    def kth_smallest(self, k: int) -> int:\n",
    "        \"\"\"返回二叉搜索树中第k小的元素\"\"\"\n",
    "        node = self.root\n",
    "        while node:\n",
    "            left = self._get_size(node.left)\n",
    "            if left < k - 1:\n",
    "                node = node.right\n",
    "                k -= left + 1\n",
    "            elif left == k - 1:\n",
    "                return node.val\n",
    "            else:\n",
    "                node = node.left\n",
    "\n",
    "    def insert(self, v):\n",
    "        \"\"\"插入值为v的新结点\"\"\"\n",
    "        if self.root is None:\n",
    "            self.root = self.Node(v)\n",
    "        else:\n",
    "            # 计算新结点的添加位置\n",
    "            node = self._subtree_search(self.root, v)\n",
    "            is_add_left = (v <= node.val)  # 是否将新结点添加到node的左子结点\n",
    "            if node.val == v:  # 如果值为v的结点已存在\n",
    "                if node.left:  # 值为v的结点存在左子结点，则添加到其左子树的最右侧\n",
    "                    node = self._subtree_last(node.left)\n",
    "                    is_add_left = False\n",
    "                else:  # 值为v的结点不存在左子结点，则添加到其左子结点\n",
    "                    is_add_left = True\n",
    "\n",
    "            # 添加新结点\n",
    "            leaf = self.Node(v, parent=node)\n",
    "            if is_add_left:\n",
    "                node.left = leaf\n",
    "            else:\n",
    "                node.right = leaf\n",
    "\n",
    "            self._rebalance(leaf)\n",
    "\n",
    "    def delete(self, v) -> bool:\n",
    "        \"\"\"删除值为v的结点 -> 返回是否成功删除结点\"\"\"\n",
    "        if self.root is None:\n",
    "            return False\n",
    "\n",
    "        node = self._subtree_search(self.root, v)\n",
    "        if node.val != v:  # 没有找到需要删除的结点\n",
    "            return False\n",
    "\n",
    "        # 处理当前结点既有左子树也有右子树的情况\n",
    "        # 若左子树比右子树高度低，则将当前结点替换为右子树最左侧的结点，并移除右子树最左侧的结点\n",
    "        # 若右子树比左子树高度低，则将当前结点替换为左子树最右侧的结点，并移除左子树最右侧的结点\n",
    "        if node.left and node.right:\n",
    "            if node.left.height <= node.right.height:\n",
    "                replacement = self._subtree_first(node.right)\n",
    "            else:\n",
    "                replacement = self._subtree_last(node.left)\n",
    "            node.val = replacement.val\n",
    "            node = replacement\n",
    "\n",
    "        parent = node.parent\n",
    "        self._delete(node)\n",
    "        self._rebalance(parent)\n",
    "        return True\n",
    "\n",
    "    def _delete(self, node):\n",
    "        \"\"\"删除结点p并用它的子结点代替它，结点p至多只能有1个子结点\"\"\"\n",
    "        if node.left and node.right:\n",
    "            raise ValueError('node has two children')\n",
    "        child = node.left if node.left else node.right\n",
    "        if child is not None:\n",
    "            child.parent = node.parent\n",
    "        if node is self.root:\n",
    "            self.root = child\n",
    "        else:\n",
    "            parent = node.parent\n",
    "            if node is parent.left:\n",
    "                parent.left = child\n",
    "            else:\n",
    "                parent.right = child\n",
    "        node.parent = node\n",
    "\n",
    "    def _subtree_search(self, node, v):\n",
    "        \"\"\"在以node为根结点的子树中搜索值为v的结点，如果没有值为v的结点，则返回值为v的结点应该在的位置的父结点\"\"\"\n",
    "        if node.val < v and node.right is not None:\n",
    "            return self._subtree_search(node.right, v)\n",
    "        elif node.val > v and node.left is not None:\n",
    "            return self._subtree_search(node.left, v)\n",
    "        else:\n",
    "            return node\n",
    "\n",
    "    def _recompute(self, node):\n",
    "        \"\"\"重新计算node结点的高度和元素数\"\"\"\n",
    "        node.height = 1 + max(self._get_height(node.left), self._get_height(node.right))\n",
    "        node.size = 1 + self._get_size(node.left) + self._get_size(node.right)\n",
    "\n",
    "    def _rebalance(self, node):\n",
    "        \"\"\"从node结点开始（含node结点）逐个向上重新平衡二叉树，并更新结点高度和元素数\"\"\"\n",
    "        while node is not None:\n",
    "            old_height, old_size = node.height, node.size\n",
    "            if not self._is_balanced(node):\n",
    "                node = self._restructure(self._tall_grandchild(node))\n",
    "                self._recompute(node.left)\n",
    "                self._recompute(node.right)\n",
    "            self._recompute(node)\n",
    "            if node.height == old_height and node.size == old_size:\n",
    "                node = None  # 如果结点高度和元素数都没有变化则不需要再继续向上调整\n",
    "            else:\n",
    "                node = node.parent\n",
    "\n",
    "    def _is_balanced(self, node):\n",
    "        \"\"\"判断node结点是否平衡\"\"\"\n",
    "        return abs(self._get_height(node.left) - self._get_height(node.right)) <= 1\n",
    "\n",
    "    def _tall_child(self, node):\n",
    "        \"\"\"获取node结点更高的子树\"\"\"\n",
    "        if self._get_height(node.left) > self._get_height(node.right):\n",
    "            return node.left\n",
    "        else:\n",
    "            return node.right\n",
    "\n",
    "    def _tall_grandchild(self, node):\n",
    "        \"\"\"获取node结点更高的子树中的更高的子树\"\"\"\n",
    "        child = self._tall_child(node)\n",
    "        return self._tall_child(child)\n",
    "\n",
    "    @staticmethod\n",
    "    def _relink(parent, child, is_left):\n",
    "        \"\"\"重新连接父结点和子结点（子结点允许为空）\"\"\"\n",
    "        if is_left:\n",
    "            parent.left = child\n",
    "        else:\n",
    "            parent.right = child\n",
    "        if child is not None:\n",
    "            child.parent = parent\n",
    "\n",
    "    def _rotate(self, node):\n",
    "        \"\"\"旋转操作\"\"\"\n",
    "        parent = node.parent\n",
    "        grandparent = parent.parent\n",
    "        if grandparent is None:\n",
    "            self.root = node\n",
    "            node.parent = None\n",
    "        else:\n",
    "            self._relink(grandparent, node, parent == grandparent.left)\n",
    "\n",
    "        if node == parent.left:\n",
    "            self._relink(parent, node.right, True)\n",
    "            self._relink(node, parent, False)\n",
    "        else:\n",
    "            self._relink(parent, node.left, False)\n",
    "            self._relink(node, parent, True)\n",
    "\n",
    "    def _restructure(self, node):\n",
    "        \"\"\"trinode操作\"\"\"\n",
    "        parent = node.parent\n",
    "        grandparent = parent.parent\n",
    "\n",
    "        if (node == parent.right) == (parent == grandparent.right):  # 处理需要一次旋转的情况\n",
    "            self._rotate(parent)\n",
    "            return parent\n",
    "        else:  # 处理需要两次旋转的情况：第1次旋转后即成为需要一次旋转的情况\n",
    "            self._rotate(node)\n",
    "            self._rotate(node)\n",
    "            return node\n",
    "\n",
    "    @staticmethod\n",
    "    def _subtree_first(node):\n",
    "        \"\"\"返回以node为根结点的子树的第1个元素\"\"\"\n",
    "        while node.left is not None:\n",
    "            node = node.left\n",
    "        return node\n",
    "\n",
    "    @staticmethod\n",
    "    def _subtree_last(node):\n",
    "        \"\"\"返回以node为根结点的子树的最后1个元素\"\"\"\n",
    "        while node.right is not None:\n",
    "            node = node.right\n",
    "        return node\n",
    "\n",
    "    @staticmethod\n",
    "    def _get_height(node) -> int:\n",
    "        \"\"\"获取以node为根结点的子树的高度\"\"\"\n",
    "        return node.height if node is not None else 0\n",
    "\n",
    "    @staticmethod\n",
    "    def _get_size(node) -> int:\n",
    "        \"\"\"获取以node为根结点的子树的结点数\"\"\"\n",
    "        return node.size if node is not None else 0\n",
    "\n",
    "\n",
    "class Solution:\n",
    "    def kthSmallest(self, root: TreeNode, k: int) -> int:\n",
    "        def inorder(node):\n",
    "            if node.left:\n",
    "                inorder(node.left)\n",
    "            inorder_lst.append(node.val)\n",
    "            if node.right:\n",
    "                inorder(node.right)\n",
    "\n",
    "        # 中序遍历生成数值列表\n",
    "        inorder_lst = []\n",
    "        inorder(root)\n",
    "\n",
    "        # 构造平衡二叉搜索树\n",
    "        avl = AVL(inorder_lst)\n",
    "\n",
    "        # 模拟1000次插入和删除操作\n",
    "        random_nums = [random.randint(0, 10001) for _ in range(1000)]\n",
    "        for num in random_nums:\n",
    "            avl.insert(num)\n",
    "        random.shuffle(random_nums)  # 列表乱序\n",
    "        for num in random_nums:\n",
    "            avl.delete(num)\n",
    "\n",
    "        return avl.kth_smallest(k)\n",
    "\n",
    "# 作者：LeetCode-Solution\n",
    "# 链接：https://leetcode.cn/problems/kth-smallest-element-in-a-bst/solution/er-cha-sou-suo-shu-zhong-di-kxiao-de-yua-8o07/\n",
    "# 来源：力扣（LeetCode）\n",
    "# 著作权归作者所有。商业转载请联系作者获得授权，非商业转载请注明出处。"
   ]
  },
  {
   "cell_type": "code",
   "execution_count": null,
   "id": "7df45d1d-db04-4aa1-8a7b-17aace14f94b",
   "metadata": {},
   "outputs": [],
   "source": []
  },
  {
   "cell_type": "code",
   "execution_count": null,
   "id": "f111666e-0b08-4ae6-afd7-486f87195123",
   "metadata": {},
   "outputs": [],
   "source": []
  },
  {
   "cell_type": "code",
   "execution_count": null,
   "id": "f3ae5c09-0839-4783-aa8e-927f9a39846d",
   "metadata": {},
   "outputs": [],
   "source": []
  },
  {
   "cell_type": "code",
   "execution_count": null,
   "id": "31e32ff5-fa29-4860-8c87-3c423e888526",
   "metadata": {},
   "outputs": [],
   "source": []
  },
  {
   "cell_type": "code",
   "execution_count": null,
   "id": "6e084170-417b-4714-a74d-1a1143596295",
   "metadata": {},
   "outputs": [],
   "source": []
  },
  {
   "cell_type": "code",
   "execution_count": null,
   "id": "4c04eab4-f7d2-4952-8d50-7ecb21545e5c",
   "metadata": {},
   "outputs": [],
   "source": []
  },
  {
   "cell_type": "code",
   "execution_count": null,
   "id": "ac3f250c-3522-44d1-9136-1c484aada533",
   "metadata": {},
   "outputs": [],
   "source": []
  },
  {
   "cell_type": "code",
   "execution_count": null,
   "id": "728e4c1b-4d9d-4228-96c9-29c0de874f29",
   "metadata": {},
   "outputs": [],
   "source": []
  },
  {
   "cell_type": "code",
   "execution_count": null,
   "id": "e226e6ff-586a-4f91-92dc-2aa3f63c2f0b",
   "metadata": {},
   "outputs": [],
   "source": []
  },
  {
   "cell_type": "code",
   "execution_count": null,
   "id": "7c29738a-e9eb-43e8-88da-b0399794120d",
   "metadata": {},
   "outputs": [],
   "source": []
  },
  {
   "cell_type": "code",
   "execution_count": null,
   "id": "b1ea9fab-8d31-420c-b6ab-d179dbb5094c",
   "metadata": {},
   "outputs": [],
   "source": []
  },
  {
   "cell_type": "code",
   "execution_count": null,
   "id": "7e0d1a51-526b-4dc2-92da-95edf00e43fa",
   "metadata": {},
   "outputs": [],
   "source": []
  },
  {
   "cell_type": "code",
   "execution_count": null,
   "id": "9f1580a3-4934-4e2a-b544-ca879d7d2194",
   "metadata": {},
   "outputs": [],
   "source": []
  },
  {
   "cell_type": "code",
   "execution_count": null,
   "id": "e7a8948b-f06d-45fb-a001-a062e59b58db",
   "metadata": {},
   "outputs": [],
   "source": []
  },
  {
   "cell_type": "code",
   "execution_count": null,
   "id": "aa7e1cb2-c153-4167-8bd4-a632fe9b3a1a",
   "metadata": {},
   "outputs": [],
   "source": []
  },
  {
   "cell_type": "code",
   "execution_count": null,
   "id": "2f28bd29-30fe-4643-b008-412519718ac8",
   "metadata": {},
   "outputs": [],
   "source": []
  },
  {
   "cell_type": "code",
   "execution_count": null,
   "id": "3824bcc5-629d-4d07-a876-9c5f5fbc9b14",
   "metadata": {},
   "outputs": [],
   "source": []
  },
  {
   "cell_type": "code",
   "execution_count": null,
   "id": "27fde7db-9840-4f35-9a6c-9fdb7c321351",
   "metadata": {},
   "outputs": [],
   "source": []
  },
  {
   "cell_type": "code",
   "execution_count": null,
   "id": "dc43045b-1825-4cab-9748-a8669135c64b",
   "metadata": {},
   "outputs": [],
   "source": []
  },
  {
   "cell_type": "code",
   "execution_count": null,
   "id": "36806fff-02c5-45ff-aba3-0f087ef40c27",
   "metadata": {},
   "outputs": [],
   "source": []
  },
  {
   "cell_type": "code",
   "execution_count": null,
   "id": "127e08ef-28f5-42cd-8c93-d1193f99aed2",
   "metadata": {},
   "outputs": [],
   "source": []
  },
  {
   "cell_type": "code",
   "execution_count": null,
   "id": "14038be1-66d0-49e1-9a20-2bfae4678eda",
   "metadata": {},
   "outputs": [],
   "source": []
  },
  {
   "cell_type": "code",
   "execution_count": null,
   "id": "bba4f1eb-7c4e-410a-a1a6-47d2fe731bb6",
   "metadata": {},
   "outputs": [],
   "source": []
  },
  {
   "cell_type": "code",
   "execution_count": null,
   "id": "4804b97d-feb0-452d-9ac9-c5fafa387d33",
   "metadata": {},
   "outputs": [],
   "source": []
  },
  {
   "cell_type": "code",
   "execution_count": null,
   "id": "c5f4b0a5-a146-4ecc-b5bb-4d7ebc053a50",
   "metadata": {},
   "outputs": [],
   "source": []
  },
  {
   "cell_type": "code",
   "execution_count": null,
   "id": "1b980394-9a8e-45f5-bd45-c103ea9cff3e",
   "metadata": {},
   "outputs": [],
   "source": []
  },
  {
   "cell_type": "code",
   "execution_count": null,
   "id": "7a0ef91d-cbeb-4a79-a513-7575579cf1bd",
   "metadata": {},
   "outputs": [],
   "source": []
  },
  {
   "cell_type": "code",
   "execution_count": null,
   "id": "3b521f92-282d-487b-949d-955043f18d1d",
   "metadata": {},
   "outputs": [],
   "source": []
  },
  {
   "cell_type": "code",
   "execution_count": null,
   "id": "dbd2236a-30fa-4bfd-8fdb-9bc9f4b59671",
   "metadata": {},
   "outputs": [],
   "source": []
  },
  {
   "cell_type": "code",
   "execution_count": null,
   "id": "02dae8c5-7980-46b1-883f-a93f66516aa2",
   "metadata": {},
   "outputs": [],
   "source": []
  },
  {
   "cell_type": "code",
   "execution_count": null,
   "id": "f8abec5a-c845-41f6-aaaa-832b54cfdb9b",
   "metadata": {},
   "outputs": [],
   "source": []
  },
  {
   "cell_type": "code",
   "execution_count": null,
   "id": "8d3cfb99-d15d-4244-8ae1-61d4e4a5386b",
   "metadata": {},
   "outputs": [],
   "source": []
  },
  {
   "cell_type": "code",
   "execution_count": null,
   "id": "2745b837-216d-4098-a75c-6c64b5d1d532",
   "metadata": {},
   "outputs": [],
   "source": []
  },
  {
   "cell_type": "code",
   "execution_count": null,
   "id": "294630c7-ba01-4179-9e8a-847da1c05384",
   "metadata": {},
   "outputs": [],
   "source": []
  },
  {
   "cell_type": "code",
   "execution_count": null,
   "id": "99a13f1f-d915-4022-aef1-0c397f62a4fe",
   "metadata": {},
   "outputs": [],
   "source": []
  },
  {
   "cell_type": "code",
   "execution_count": null,
   "id": "65a6200f-fd2b-488f-99db-8ed430e508f6",
   "metadata": {},
   "outputs": [],
   "source": []
  },
  {
   "cell_type": "code",
   "execution_count": null,
   "id": "4e83d5e2-7487-4a73-817a-4e3c86407236",
   "metadata": {},
   "outputs": [],
   "source": []
  },
  {
   "cell_type": "code",
   "execution_count": null,
   "id": "e5418a6f-aefa-4504-b7cd-bce75cf5f4c6",
   "metadata": {},
   "outputs": [],
   "source": []
  },
  {
   "cell_type": "code",
   "execution_count": null,
   "id": "ce179b9e-0eda-406b-a560-463c15e0a70b",
   "metadata": {},
   "outputs": [],
   "source": []
  },
  {
   "cell_type": "code",
   "execution_count": null,
   "id": "ab520bb4-7292-42a1-b159-b34c30208370",
   "metadata": {},
   "outputs": [],
   "source": []
  },
  {
   "cell_type": "code",
   "execution_count": null,
   "id": "fced8f01-4386-4f3b-b1eb-afead1f70fa4",
   "metadata": {},
   "outputs": [],
   "source": []
  },
  {
   "cell_type": "code",
   "execution_count": null,
   "id": "97654bef-b08b-49bf-9e14-54c7a37b1794",
   "metadata": {},
   "outputs": [],
   "source": []
  },
  {
   "cell_type": "code",
   "execution_count": null,
   "id": "dadd7c74-9e92-423a-81a2-dfe40c61d18f",
   "metadata": {},
   "outputs": [],
   "source": []
  },
  {
   "cell_type": "code",
   "execution_count": null,
   "id": "adadabad-2c50-438b-9673-89526c71ed79",
   "metadata": {},
   "outputs": [],
   "source": []
  },
  {
   "cell_type": "code",
   "execution_count": null,
   "id": "b7861b95-bb4a-4aba-a632-bfdafceb02ad",
   "metadata": {},
   "outputs": [],
   "source": []
  },
  {
   "cell_type": "code",
   "execution_count": null,
   "id": "f3989a0e-720d-4e0e-8d8a-7a95a5ec2405",
   "metadata": {},
   "outputs": [],
   "source": []
  },
  {
   "cell_type": "code",
   "execution_count": null,
   "id": "1facaa72-4cca-470b-9358-ee2ba1ed855c",
   "metadata": {},
   "outputs": [],
   "source": []
  },
  {
   "cell_type": "code",
   "execution_count": null,
   "id": "de55bc45-af67-4968-8f86-c8e59619c258",
   "metadata": {},
   "outputs": [],
   "source": []
  },
  {
   "cell_type": "code",
   "execution_count": null,
   "id": "13cdad98-53ec-4830-8904-49811e64719e",
   "metadata": {},
   "outputs": [],
   "source": []
  },
  {
   "cell_type": "code",
   "execution_count": null,
   "id": "66a9f7ee-2e53-4e04-a4a2-2b0456b412ba",
   "metadata": {},
   "outputs": [],
   "source": []
  },
  {
   "cell_type": "code",
   "execution_count": null,
   "id": "6c5268f3-8aca-4fd0-ba89-00b701942336",
   "metadata": {},
   "outputs": [],
   "source": []
  },
  {
   "cell_type": "code",
   "execution_count": null,
   "id": "722583f6-b2b9-4bcf-b51a-93cf9f9d5587",
   "metadata": {},
   "outputs": [],
   "source": []
  },
  {
   "cell_type": "code",
   "execution_count": null,
   "id": "d22e079d-d28d-4544-995a-a1696f0b9615",
   "metadata": {},
   "outputs": [],
   "source": []
  },
  {
   "cell_type": "code",
   "execution_count": null,
   "id": "f3a4bb36-170b-4e15-9ff4-85f9cdb02c6d",
   "metadata": {},
   "outputs": [],
   "source": []
  },
  {
   "cell_type": "code",
   "execution_count": null,
   "id": "158fc8a1-6e3a-400a-92f6-9c8eab4d7dfe",
   "metadata": {},
   "outputs": [],
   "source": []
  },
  {
   "cell_type": "code",
   "execution_count": null,
   "id": "83c05991-a3c1-403c-97a5-a8bf2ad2cb5f",
   "metadata": {},
   "outputs": [],
   "source": []
  },
  {
   "cell_type": "code",
   "execution_count": null,
   "id": "602de440-7f3f-4126-921d-306d4a38ccc5",
   "metadata": {},
   "outputs": [],
   "source": []
  },
  {
   "cell_type": "code",
   "execution_count": null,
   "id": "91835a56-ad64-454d-91ed-0593e76225f2",
   "metadata": {},
   "outputs": [],
   "source": []
  },
  {
   "cell_type": "code",
   "execution_count": null,
   "id": "b2a123b7-d63c-4115-84d9-c85e3a857aca",
   "metadata": {},
   "outputs": [],
   "source": []
  },
  {
   "cell_type": "code",
   "execution_count": null,
   "id": "eb3f4eae-fdf8-48a4-b53f-02954b5ebdd0",
   "metadata": {},
   "outputs": [],
   "source": []
  },
  {
   "cell_type": "code",
   "execution_count": null,
   "id": "7b5fe8a3-809f-4795-a67c-f261a83ea45e",
   "metadata": {},
   "outputs": [],
   "source": []
  },
  {
   "cell_type": "code",
   "execution_count": null,
   "id": "d5ddbb5d-4c33-4146-a5a4-8cf3f9fedbcb",
   "metadata": {},
   "outputs": [],
   "source": []
  }
 ],
 "metadata": {
  "kernelspec": {
   "display_name": "Python 3 (ipykernel)",
   "language": "python",
   "name": "python3"
  },
  "language_info": {
   "codemirror_mode": {
    "name": "ipython",
    "version": 3
   },
   "file_extension": ".py",
   "mimetype": "text/x-python",
   "name": "python",
   "nbconvert_exporter": "python",
   "pygments_lexer": "ipython3",
   "version": "3.6.3"
  }
 },
 "nbformat": 4,
 "nbformat_minor": 5
}
