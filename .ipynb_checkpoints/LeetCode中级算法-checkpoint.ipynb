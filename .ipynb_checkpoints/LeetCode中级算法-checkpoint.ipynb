{
 "cells": [
  {
   "cell_type": "markdown",
   "id": "b8b64279-96d3-4ea3-83ef-d8e7e01bc1d0",
   "metadata": {},
   "source": [
    "# 数组和字符串"
   ]
  },
  {
   "cell_type": "markdown",
   "id": "4c5f8a5c-a83e-4d54-b58c-d65ab378398f",
   "metadata": {},
   "source": [
    "## 1. 三数之和  "
   ]
  },
  {
   "cell_type": "markdown",
   "id": "a0ce8f37-b21d-4bd2-9242-a73c7c4d0969",
   "metadata": {},
   "source": [
    "想到之前做过的一道类似的题 （1395），貌似比这题难一些，思路也分为枚举第一个第二个以及第三个数字。分别有不同的时间复杂度。"
   ]
  },
  {
   "cell_type": "code",
   "execution_count": 4,
   "id": "15deebbb-8782-49f6-93e6-11183eeaa5e9",
   "metadata": {},
   "outputs": [],
   "source": [
    "from typing import List\n",
    "class Solution:\n",
    "    def threeSum(self, nums: List[int]) -> List[List[int]]:\n",
    "        nums.sort()\n",
    "        leng = len(nums)\n",
    "        res = set()\n",
    "        for i in range(0, leng - 2):\n",
    "            for j in range(i + 1, leng):\n",
    "                target = - (nums[i] + nums[j])\n",
    "                if target in nums[j+1:]:\n",
    "                    res.add((nums[i], nums[j], target))\n",
    "        return list(list(n) for n in res)"
   ]
  },
  {
   "cell_type": "markdown",
   "id": "31cf997d-073a-47a5-ad34-0f1044edba7c",
   "metadata": {},
   "source": [
    "O(n^3)复杂度超时"
   ]
  },
  {
   "cell_type": "markdown",
   "id": "cd81e6e6-b1cd-44ef-8dfd-a943b73165cf",
   "metadata": {},
   "source": [
    "问题；\n",
    "1. 即使进行了排序依然可能出现重复的情况，因此需要在枚举时判断是否与上一个枚举的数字相同。\n",
    "2. 要合理利用排序的信息，第三层枚举可以归到第二层里，因为枚举的第二个数越来越大，因此枚举的第三个数只会越来越小，可以在枚举第二个数的同时用一个指针从数组末端向前枚举第三个数，就不用额外一层循环了。问题优化为 O(n^2)"
   ]
  },
  {
   "cell_type": "code",
   "execution_count": null,
   "id": "952eca5e-46c9-4bb3-a692-99a9d8460482",
   "metadata": {},
   "outputs": [],
   "source": [
    "class Solution:\n",
    "    def threeSum(self, nums: List[int]) -> List[List[int]]:\n",
    "        n = len(nums)\n",
    "        nums.sort()\n",
    "        ans = list()\n",
    "        \n",
    "        # 枚举 a\n",
    "        for first in range(n):\n",
    "            # 需要和上一次枚举的数不相同\n",
    "            if first > 0 and nums[first] == nums[first - 1]:\n",
    "                continue\n",
    "            # c 对应的指针初始指向数组的最右端\n",
    "            third = n - 1\n",
    "            target = -nums[first]\n",
    "            # 枚举 b\n",
    "            for second in range(first + 1, n):\n",
    "                # 需要和上一次枚举的数不相同\n",
    "                if second > first + 1 and nums[second] == nums[second - 1]:\n",
    "                    continue\n",
    "                # 需要保证 b 的指针在 c 的指针的左侧\n",
    "                while second < third and nums[second] + nums[third] > target:\n",
    "                    third -= 1\n",
    "                # 如果指针重合，随着 b 后续的增加\n",
    "                # 就不会有满足 a+b+c=0 并且 b<c 的 c 了，可以退出循环\n",
    "                if second == third:\n",
    "                    break\n",
    "                if nums[second] + nums[third] == target:\n",
    "                    ans.append([nums[first], nums[second], nums[third]])\n",
    "        \n",
    "        return ans\n",
    "\n",
    "# 作者：LeetCode-Solution\n",
    "# 链接：https://leetcode.cn/problems/3sum/solution/san-shu-zhi-he-by-leetcode-solution/\n",
    "# 来源：力扣（LeetCode）\n",
    "# 著作权归作者所有。商业转载请联系作者获得授权，非商业转载请注明出处。"
   ]
  },
  {
   "cell_type": "code",
   "execution_count": 12,
   "id": "166da6c7-6e9f-4df0-92ea-0d5d5ea27903",
   "metadata": {},
   "outputs": [],
   "source": [
    "class Solution:\n",
    "    def threeSum(self, nums: List[int]) -> List[List[int]]:\n",
    "        n = len(nums)\n",
    "        nums.sort()\n",
    "        res = []\n",
    "        for first in range(n):\n",
    "            if first > 0 and nums[first] == nums[first - 1]: continue\n",
    "            third = n - 1\n",
    "            target = - nums[first]\n",
    "            for second in range(first + 1, n):\n",
    "                if second > first + 1 and nums[second] == nums[second - 1]: continue\n",
    "                while second < third and nums[second] + nums[third] > target: third -= 1\n",
    "                if second == third: break\n",
    "                if nums[second] + nums[third] == target: \n",
    "                    res.append([nums[first], nums[second], nums[third]])\n",
    "        return res"
   ]
  },
  {
   "cell_type": "markdown",
   "id": "de877c33-37e5-4273-a5d3-4923c2824081",
   "metadata": {},
   "source": [
    "- 时间复杂度： O(n ^ 2)\n",
    "- 空间复杂度： O(log n), 排序所需空间。"
   ]
  },
  {
   "cell_type": "markdown",
   "id": "745150c2-1baf-4229-90d8-6ef84fec7f37",
   "metadata": {},
   "source": [
    "## 2. 矩阵置零"
   ]
  },
  {
   "cell_type": "code",
   "execution_count": 14,
   "id": "a26950e0-7445-40ac-991d-7d10fbc5b1b6",
   "metadata": {},
   "outputs": [],
   "source": [
    "class Solution:\n",
    "    def setZeroes(self, matrix: List[List[int]]) -> None:\n",
    "        \"\"\"\n",
    "        Do not return anything, modify matrix in-place instead.\n",
    "        \"\"\"\n",
    "        row, col = [], []\n",
    "        for i, r in enumerate(matrix):\n",
    "            for j, c in enumerate(r):\n",
    "                if c == 0:\n",
    "                    row.append(i)\n",
    "                    col.append(j)\n",
    "        for r in row:\n",
    "            for n in range(len(matrix[0])): matrix[r][n] = 0\n",
    "        for c in col:\n",
    "            for n in range(len(matrix)): matrix[n][c] = 0\n",
    "        "
   ]
  },
  {
   "cell_type": "markdown",
   "id": "6f176664-1fa4-40e1-ad58-0812ab594258",
   "metadata": {},
   "source": [
    "- 时间复杂度： O(mn)\n",
    "- 空间复杂度： O(m + n)"
   ]
  },
  {
   "cell_type": "markdown",
   "id": "d1a2c870-13a7-4484-8193-6ca1c5259365",
   "metadata": {},
   "source": [
    "使用两个标记变量：\n",
    "\n",
    "我们可以用矩阵的第一行和第一列代替方法一中的两个标记数组，以达到 O(1) 的额外空间。但这样会导致原数组的第一行和第一列被修改，无法记录它们是否原本包含 0。因此我们需要额外使用两个标记变量分别记录第一行和第一列是否原本包含 0。"
   ]
  },
  {
   "cell_type": "code",
   "execution_count": 27,
   "id": "60fef4c5-dfcb-411a-9afd-8a79d8bcbf60",
   "metadata": {},
   "outputs": [],
   "source": [
    "class Solution:\n",
    "    def setZeroes(self, matrix: List[List[int]]) -> None:\n",
    "        m, n = len(matrix), len(matrix[0])\n",
    "        flag_col0 = any(matrix[i][0] == 0 for i in range(m))\n",
    "        flag_row0 = any(matrix[0][j] == 0 for j in range(n))\n",
    "        \n",
    "        for i in range(1, m):\n",
    "            for j in range(1, n):\n",
    "                if matrix[i][j] == 0:\n",
    "                    matrix[i][0] = matrix[0][j] = 0\n",
    "        \n",
    "        for i in range(1, m):\n",
    "            for j in range(1, n):\n",
    "                if matrix[i][0] == 0 or matrix[0][j] == 0:\n",
    "                    matrix[i][j] = 0\n",
    "        \n",
    "        if flag_col0:\n",
    "            for i in range(m):\n",
    "                matrix[i][0] = 0\n",
    "        \n",
    "        if flag_row0:\n",
    "            for j in range(n):\n",
    "                matrix[0][j] = 0\n",
    "\n",
    "# 作者：LeetCode-Solution\n",
    "# 链接：https://leetcode.cn/problems/set-matrix-zeroes/solution/ju-zhen-zhi-ling-by-leetcode-solution-9ll7/\n",
    "# 来源：力扣（LeetCode）\n",
    "# 著作权归作者所有。商业转载请联系作者获得授权，非商业转载请注明出处。"
   ]
  },
  {
   "cell_type": "markdown",
   "id": "ab1c3398-59d2-402b-9629-e87e416580db",
   "metadata": {},
   "source": [
    "### python any:\n",
    "\n",
    "any() 函数用于判断给定的可迭代参数 iterable 是否全部为 False，则返回 False，如果有一个为 True，则返回 True。\n",
    "\n",
    "元素除了是 0、空、FALSE 外都算 TRUE。"
   ]
  },
  {
   "cell_type": "markdown",
   "id": "fc03c786-1b77-4b45-9056-4de584625858",
   "metadata": {},
   "source": [
    "使用一个标记变量：\n",
    "\n",
    "我们可以对方法二进一步优化，只使用一个标记变量记录第一列是否原本存在 0。这样，第一列的第一个元素即可以标记第一行是否出现 0。但为了防止每一列的第一个元素被提前更新，我们需要从最后一行开始，倒序地处理矩阵元素。"
   ]
  },
  {
   "cell_type": "code",
   "execution_count": 28,
   "id": "76ef47aa-2a20-445c-87b9-bd3b46719986",
   "metadata": {},
   "outputs": [],
   "source": [
    "class Solution:\n",
    "    def setZeroes(self, matrix: List[List[int]]) -> None:\n",
    "        m, n = len(matrix), len(matrix[0])\n",
    "        flag_col0 = False\n",
    "        \n",
    "        for i in range(m):\n",
    "            if matrix[i][0] == 0:\n",
    "                flag_col0 = True\n",
    "            for j in range(1, n):\n",
    "                if matrix[i][j] == 0:\n",
    "                    matrix[i][0] = matrix[0][j] = 0\n",
    "        \n",
    "        for i in range(m - 1, -1, -1):\n",
    "            for j in range(1, n):\n",
    "                if matrix[i][0] == 0 or matrix[0][j] == 0:\n",
    "                    matrix[i][j] = 0\n",
    "            if flag_col0:\n",
    "                matrix[i][0] = 0\n",
    "\n",
    "# 作者：LeetCode-Solution\n",
    "# 链接：https://leetcode.cn/problems/set-matrix-zeroes/solution/ju-zhen-zhi-ling-by-leetcode-solution-9ll7/\n",
    "# 来源：力扣（LeetCode）\n",
    "# 著作权归作者所有。商业转载请联系作者获得授权，非商业转载请注明出处。"
   ]
  },
  {
   "cell_type": "markdown",
   "id": "c936da79-936e-4dba-9ca2-3f2e9b27513c",
   "metadata": {},
   "source": [
    "## 3. 字母异位词分组"
   ]
  },
  {
   "cell_type": "markdown",
   "id": "b2f8dbd4-c30a-4b68-a3fb-bd8c78a1e072",
   "metadata": {},
   "source": [
    "由于字符串只包含小写字母，因此可以使用一个26维的元组来标记不同字符串。"
   ]
  },
  {
   "cell_type": "code",
   "execution_count": 35,
   "id": "1cc3ba2c-7337-46db-ab3b-b32f1dcb907c",
   "metadata": {},
   "outputs": [],
   "source": [
    "from collections import defaultdict\n",
    "class Solution:\n",
    "    def groupAnagrams(self, strs: List[str]) -> List[List[str]]:\n",
    "        def getkey(s):\n",
    "            if not s: return \"\"\n",
    "            key = [0] * 26\n",
    "            for ch in s:\n",
    "                key[ord(ch) - 97] += 1\n",
    "            return tuple(key)\n",
    "        cnt = defaultdict(list)\n",
    "        for s in strs:\n",
    "            cnt[getkey(s)].append(s)\n",
    "        res = []\n",
    "        for key in cnt:\n",
    "            res.append(cnt[key])\n",
    "        return res"
   ]
  },
  {
   "cell_type": "markdown",
   "id": "7de1ecbb-520c-4193-b29e-605fd9d2db24",
   "metadata": {},
   "source": [
    "- 时间复杂度：O(n(k + $|\\Sigma|$))\n",
    "- 空间复杂度： O(n(k + $|\\Sigma|$))"
   ]
  },
  {
   "cell_type": "code",
   "execution_count": null,
   "id": "e2fcf98c-bbc7-4ecf-95c9-7e765cf166b1",
   "metadata": {},
   "outputs": [],
   "source": [
    "class Solution:\n",
    "    def groupAnagrams(self, strs: List[str]) -> List[List[str]]:\n",
    "        mp = collections.defaultdict(list)\n",
    "\n",
    "        for st in strs:\n",
    "            key = \"\".join(sorted(st))\n",
    "            mp[key].append(st)\n",
    "        \n",
    "        return list(mp.values())\n",
    "\n",
    "# 作者：LeetCode-Solution\n",
    "# 链接：https://leetcode.cn/problems/group-anagrams/solution/zi-mu-yi-wei-ci-fen-zu-by-leetcode-solut-gyoc/\n",
    "# 来源：力扣（LeetCode）\n",
    "# 著作权归作者所有。商业转载请联系作者获得授权，非商业转载请注明出处。"
   ]
  },
  {
   "cell_type": "markdown",
   "id": "4bfa33fc-218b-4fc7-af4c-19a604b52817",
   "metadata": {},
   "source": [
    "也可以使用排序后的字符串作为键，但是时间复杂度会提高。"
   ]
  },
  {
   "cell_type": "markdown",
   "id": "d689f2f4-ccb8-482c-b875-0e538322360a",
   "metadata": {},
   "source": [
    "- 时间复杂度： O(nklogk)，其中n是strs中的字符串的数量，k是strs中的字符串的最大长度。需要遍历n个字符串，对于每个字符串，需要 O(klogk)的时间进行排序以及 O(1) 的时间更新翰洗标，因此总时间复杂度是 O(nklogk)。\n",
    "- 空间复杂度： O(nk)，其中n 是 strs 中的字符串的数量，k是strs中的字符串的最大长度，需要用哈希表存储全部字符串。"
   ]
  },
  {
   "cell_type": "markdown",
   "id": "4c175df3-1fc0-4cab-8ec3-50eebb9cf4c6",
   "metadata": {},
   "source": [
    "## 4. 无重复字符的最长子串"
   ]
  },
  {
   "cell_type": "markdown",
   "id": "97f900d5-21c4-4964-bb72-90c6589129ae",
   "metadata": {},
   "source": [
    "一眼 silde window"
   ]
  },
  {
   "cell_type": "code",
   "execution_count": 38,
   "id": "f9868fc0-8a25-4302-8920-0672733f1152",
   "metadata": {},
   "outputs": [],
   "source": [
    "from collections import deque\n",
    "class Solution:\n",
    "    def lengthOfLongestSubstring(self, s: str) -> int:\n",
    "        if not s: return 0\n",
    "        left = ans = 0\n",
    "        cnt = deque()\n",
    "        for i, ch in enumerate(s):\n",
    "            while ch in cnt: \n",
    "                ans = max(ans, i - left)\n",
    "                cnt.popleft()\n",
    "                left += 1\n",
    "            cnt.append(ch)\n",
    "        ans = max(ans, len(cnt))\n",
    "        return ans"
   ]
  },
  {
   "cell_type": "code",
   "execution_count": 40,
   "id": "7b812e0d-ea64-47ea-855a-c2b4b2af8a04",
   "metadata": {},
   "outputs": [],
   "source": [
    "class Solution:\n",
    "    def lengthOfLongestSubstring(self, s: str) -> int:\n",
    "        if not s:return 0\n",
    "        left = 0\n",
    "        lookup = set()\n",
    "        n = len(s)\n",
    "        max_len = 0\n",
    "        cur_len = 0\n",
    "        for i in range(n):\n",
    "            cur_len += 1\n",
    "            while s[i] in lookup:\n",
    "                lookup.remove(s[left])\n",
    "                left += 1\n",
    "                cur_len -= 1\n",
    "            if cur_len > max_len:max_len = cur_len\n",
    "            lookup.add(s[i])\n",
    "        return max_len\n",
    "\n",
    "# 作者：powcai\n",
    "# 链接：https://leetcode.cn/problems/longest-substring-without-repeating-characters/solution/hua-dong-chuang-kou-by-powcai/\n",
    "# 来源：力扣（LeetCode）\n",
    "# 著作权归作者所有。商业转载请联系作者获得授权，非商业转载请注明出处。"
   ]
  },
  {
   "cell_type": "markdown",
   "id": "c426597e-7099-42f4-806f-97e620f2ba32",
   "metadata": {},
   "source": [
    "难道popleft很慢吗？"
   ]
  },
  {
   "cell_type": "code",
   "execution_count": 42,
   "id": "7cecab46-b4be-4ccb-9a5f-11d2e23a29a1",
   "metadata": {},
   "outputs": [],
   "source": [
    "from collections import deque\n",
    "class Solution:\n",
    "    def lengthOfLongestSubstring(self, s: str) -> int:\n",
    "        if not s: return 0\n",
    "        left = ans = 0\n",
    "        cnt = set()\n",
    "        for i, ch in enumerate(s):\n",
    "            while ch in cnt: \n",
    "                ans = max(ans, i - left)\n",
    "                cnt.remove(s[left])\n",
    "                left += 1\n",
    "            cnt.add(ch)\n",
    "        ans = max(ans, len(cnt))\n",
    "        return ans"
   ]
  },
  {
   "cell_type": "markdown",
   "id": "da997873-da41-4b0a-b31d-04e2aee24f67",
   "metadata": {},
   "source": [
    "popleft貌似很慢"
   ]
  },
  {
   "cell_type": "markdown",
   "id": "ae8bc68f-cfeb-4ed7-8516-017ac299c725",
   "metadata": {},
   "source": [
    "## 5. 最长回文子串"
   ]
  },
  {
   "cell_type": "markdown",
   "id": "85b3f11f-fb52-47e7-9831-131581f097dd",
   "metadata": {},
   "source": [
    "首先是中心扩散法：\n",
    "对于一个字符串中的字符，寻找回文串：\n",
    "1. 首先往左寻找与当前位置相同的字符，直到遇到不相等的为止。\n",
    "2. 然后往右寻找与当前位置相同的字符，直到遇到不相等的为止。\n",
    "3. 最后左右双向扩散，直到左和右不相等为止。"
   ]
  },
  {
   "cell_type": "code",
   "execution_count": 45,
   "id": "5515d8b3-81f5-4a43-a436-53acf055dfa3",
   "metadata": {},
   "outputs": [],
   "source": [
    "class Solution:\n",
    "    def longestPalindrome(self, s: str) -> str:\n",
    "        n = len(s)\n",
    "        left = right = maxstart = maxlen = 0\n",
    "        leng = 1\n",
    "        for i in range(n):\n",
    "            left, right = i - 1, i + 1\n",
    "            while left >= 0 and s[left] == s[i]: \n",
    "                leng += 1\n",
    "                left -= 1\n",
    "            while right < n and s[right] == s[i]: \n",
    "                leng += 1\n",
    "                right += 1\n",
    "            while left >= 0 and right < n and s[left] == s[right]:\n",
    "                leng += 2\n",
    "                left -= 1\n",
    "                right += 1\n",
    "            if leng > maxlen:\n",
    "                maxlen = leng\n",
    "                maxstart = left\n",
    "            leng = 1\n",
    "        return s[maxstart + 1: maxstart + maxlen + 1]"
   ]
  },
  {
   "cell_type": "markdown",
   "id": "86ad9b5f-4a1e-49d5-85ce-184a8086c859",
   "metadata": {},
   "source": [
    "- 时间复杂度: O(n ^ 2)\n",
    "- 空间复杂度： O(1)"
   ]
  },
  {
   "cell_type": "markdown",
   "id": "71f42f89-caf3-41e2-aa0f-dd163937d655",
   "metadata": {},
   "source": [
    "更好的写法"
   ]
  },
  {
   "cell_type": "code",
   "execution_count": 47,
   "id": "8e5e3936-1a89-4829-8588-87018422a58e",
   "metadata": {},
   "outputs": [],
   "source": [
    "class Solution:\n",
    "    def expandAroundCenter(self, s, left, right):\n",
    "        while left >= 0 and right < len(s) and s[left] == s[right]:\n",
    "            left -= 1\n",
    "            right += 1\n",
    "        return left + 1, right - 1\n",
    "\n",
    "    def longestPalindrome(self, s: str) -> str:\n",
    "        start, end = 0, 0\n",
    "        for i in range(len(s)):\n",
    "            left1, right1 = self.expandAroundCenter(s, i, i)\n",
    "            left2, right2 = self.expandAroundCenter(s, i, i + 1)\n",
    "            # 分别对应扩散的两种情况，即以一个字母为中心或两个相同字母为中心。\n",
    "            if right1 - left1 > end - start:\n",
    "                start, end = left1, right1\n",
    "            if right2 - left2 > end - start:\n",
    "                start, end = left2, right2\n",
    "        return s[start: end + 1]\n",
    "\n",
    "# 作者：LeetCode-Solution\n",
    "# 链接：https://leetcode.cn/problems/longest-palindromic-substring/solution/zui-chang-hui-wen-zi-chuan-by-leetcode-solution/\n",
    "# 来源：力扣（LeetCode）\n",
    "# 著作权归作者所有。商业转载请联系作者获得授权，非商业转载请注明出处。"
   ]
  },
  {
   "cell_type": "code",
   "execution_count": 49,
   "id": "0879a337-6f51-4edf-a5d6-6700526f106d",
   "metadata": {},
   "outputs": [],
   "source": [
    "class Solution:\n",
    "    def longestPalindrome(self, s: str) -> str:\n",
    "        n = len(s)\n",
    "        start = end = 0\n",
    "        def expand(left, right):\n",
    "            while left >= 0 and right < n and s[left] == s[right]:\n",
    "                left -= 1\n",
    "                right += 1\n",
    "            return left + 1, right - 1\n",
    "        \n",
    "        for i in range(n):\n",
    "            left1, right1 = expand(i, i)\n",
    "            left2, right2 = expand(i, i + 1)\n",
    "            if right1 - left1 > end - start:\n",
    "                start, end = left1, right1\n",
    "            if right2 - left2 > end - start:\n",
    "                start, end = left2, right2\n",
    "        return s[start: end + 1]"
   ]
  },
  {
   "cell_type": "markdown",
   "id": "c51b39bd-e47f-43ef-a351-53e192f4e6b8",
   "metadata": {},
   "source": [
    "## 6. 递增的三元子序列"
   ]
  },
  {
   "cell_type": "markdown",
   "id": "bdaeda77-f8b0-491c-9490-8a2385400e50",
   "metadata": {},
   "source": [
    "朴素想法：枚举中间数字"
   ]
  },
  {
   "cell_type": "code",
   "execution_count": 51,
   "id": "37e8b615-74d1-4005-940b-fe8ef23a9bf7",
   "metadata": {},
   "outputs": [],
   "source": [
    "class Solution:\n",
    "    def increasingTriplet(self, nums: List[int]) -> bool:\n",
    "        n = len(nums)\n",
    "        for i in range(1, n - 1):\n",
    "            cur = nums[i]\n",
    "            cnt = 0\n",
    "            for j in range(0, i):\n",
    "                if nums[j] < cur:\n",
    "                    cnt += 1\n",
    "                    break\n",
    "            if not cnt: continue\n",
    "            for k in range(i + 1, n):\n",
    "                if nums[k] > cur:\n",
    "                    return True\n",
    "        return False"
   ]
  },
  {
   "cell_type": "markdown",
   "id": "75dc75f5-41e6-45c0-8280-cfec147d0c67",
   "metadata": {},
   "source": [
    "O(n ^ 2) 复杂度超时，看来只能想 O(n) 复杂度的算法了。"
   ]
  },
  {
   "cell_type": "markdown",
   "id": "fb557912-9ef7-4db1-aa0d-541ad1ac2915",
   "metadata": {},
   "source": [
    "好像有点思路了：\n",
    "\n",
    "遍历过程中记录由小变大的数字关系，如先遍历到 a ，再遍历到 b ， 而 a < b；则后序遍历只要有数字大于 b 即可返回 True ， 同时更新满足条件的最小值。"
   ]
  },
  {
   "cell_type": "code",
   "execution_count": 56,
   "id": "219c2da0-31e3-4fa4-b7eb-d76b43b1044b",
   "metadata": {},
   "outputs": [],
   "source": [
    "class Solution:\n",
    "    def increasingTriplet(self, nums: List[int]) -> bool:\n",
    "        min1, min2 = nums[0], float(\"Inf\")\n",
    "        for num in nums[1:]:\n",
    "            if num > min2: return True\n",
    "            if num < min1: min1 = num\n",
    "            elif min1 < num < min2: min2 = num\n",
    "        return False                    "
   ]
  },
  {
   "cell_type": "markdown",
   "id": "c909265d-b88b-4bfb-b132-153f73ff5433",
   "metadata": {},
   "source": [
    "elif 后不需要判断小于 min2 了，因为大于的话直接 True"
   ]
  },
  {
   "cell_type": "code",
   "execution_count": 57,
   "id": "51c1db01-bd89-45d1-89e3-632a81e46d63",
   "metadata": {},
   "outputs": [],
   "source": [
    "class Solution:\n",
    "    def increasingTriplet(self, nums: List[int]) -> bool:\n",
    "        min1, min2 = nums[0], float(\"Inf\")\n",
    "        for num in nums[1:]:\n",
    "            if num > min2: return True\n",
    "            if num > min1: min2 = num\n",
    "            else: min1 = num\n",
    "        return False                    "
   ]
  },
  {
   "cell_type": "markdown",
   "id": "8ddbaad5-0c2b-422f-889d-a66ea6f64e6a",
   "metadata": {},
   "source": [
    "- 时间复杂度： O(n)\n",
    "- 空间复杂度： O(1)"
   ]
  },
  {
   "cell_type": "markdown",
   "id": "f8fcd10b-064b-44fc-ae13-e31148a8b6ac",
   "metadata": {},
   "source": [
    "# 链表"
   ]
  },
  {
   "cell_type": "code",
   "execution_count": null,
   "id": "3573cac5-1577-43f6-8b89-6785502d506f",
   "metadata": {},
   "outputs": [],
   "source": []
  },
  {
   "cell_type": "code",
   "execution_count": null,
   "id": "db8b7aed-950c-4ef5-b9a5-b988e0624585",
   "metadata": {},
   "outputs": [],
   "source": []
  },
  {
   "cell_type": "code",
   "execution_count": null,
   "id": "2c61852e-413a-4b4a-a692-65d71d397b0d",
   "metadata": {},
   "outputs": [],
   "source": []
  },
  {
   "cell_type": "code",
   "execution_count": null,
   "id": "2fce9ec5-8e7e-4a41-804c-ce4a1670f160",
   "metadata": {},
   "outputs": [],
   "source": []
  },
  {
   "cell_type": "code",
   "execution_count": null,
   "id": "dc30b5d2-b48c-48b8-9636-8ecc941002b5",
   "metadata": {},
   "outputs": [],
   "source": []
  },
  {
   "cell_type": "code",
   "execution_count": null,
   "id": "54751e7e-830b-418d-a4f2-f86a8645096a",
   "metadata": {},
   "outputs": [],
   "source": []
  },
  {
   "cell_type": "code",
   "execution_count": null,
   "id": "482751d3-619f-44ff-b2cd-edba7a404980",
   "metadata": {},
   "outputs": [],
   "source": []
  },
  {
   "cell_type": "code",
   "execution_count": null,
   "id": "ec7b6ec1-01ac-4b30-9d91-6a1a7516b14c",
   "metadata": {},
   "outputs": [],
   "source": []
  },
  {
   "cell_type": "code",
   "execution_count": null,
   "id": "17f85227-b0e2-451e-9e2d-98a0dea4bde8",
   "metadata": {},
   "outputs": [],
   "source": []
  },
  {
   "cell_type": "code",
   "execution_count": null,
   "id": "d9e5ad3b-4322-4cf3-b413-fd780a730508",
   "metadata": {},
   "outputs": [],
   "source": []
  },
  {
   "cell_type": "code",
   "execution_count": null,
   "id": "c8129941-f615-405e-9a41-de99077fc15f",
   "metadata": {},
   "outputs": [],
   "source": []
  },
  {
   "cell_type": "code",
   "execution_count": null,
   "id": "b2bf65af-81d2-4edb-b057-e4e34fee76a2",
   "metadata": {},
   "outputs": [],
   "source": []
  },
  {
   "cell_type": "code",
   "execution_count": null,
   "id": "33af4f03-48b1-401f-94e6-e84ccbca583c",
   "metadata": {},
   "outputs": [],
   "source": []
  },
  {
   "cell_type": "code",
   "execution_count": null,
   "id": "7e2e7360-92bd-4a02-b6c0-1e5c5456c22c",
   "metadata": {},
   "outputs": [],
   "source": []
  },
  {
   "cell_type": "code",
   "execution_count": null,
   "id": "c4a51cdd-df7c-4be7-aaa4-b5611b0e8d70",
   "metadata": {},
   "outputs": [],
   "source": []
  },
  {
   "cell_type": "code",
   "execution_count": null,
   "id": "8f974283-e327-40fc-9c68-d0dcb27981cc",
   "metadata": {},
   "outputs": [],
   "source": []
  },
  {
   "cell_type": "code",
   "execution_count": null,
   "id": "b4fe40cb-f2dd-4fd8-9b29-82d47545c689",
   "metadata": {},
   "outputs": [],
   "source": []
  },
  {
   "cell_type": "code",
   "execution_count": null,
   "id": "58d1a2e6-d458-4bd2-894e-babdd37c61d4",
   "metadata": {},
   "outputs": [],
   "source": []
  },
  {
   "cell_type": "code",
   "execution_count": null,
   "id": "63b83dbb-cb5c-42f6-9aeb-a1171e03f172",
   "metadata": {},
   "outputs": [],
   "source": []
  },
  {
   "cell_type": "code",
   "execution_count": null,
   "id": "c0d8f9a7-8cea-436a-aa60-f72b54341b6f",
   "metadata": {},
   "outputs": [],
   "source": []
  },
  {
   "cell_type": "code",
   "execution_count": null,
   "id": "4b304c90-9e94-475b-bd69-338028fdf430",
   "metadata": {},
   "outputs": [],
   "source": []
  },
  {
   "cell_type": "code",
   "execution_count": null,
   "id": "3df1c4ee-003a-41a6-8fa4-5f78a1e48916",
   "metadata": {},
   "outputs": [],
   "source": []
  },
  {
   "cell_type": "code",
   "execution_count": null,
   "id": "08262802-408e-4df3-a1fc-b4a41c2006d6",
   "metadata": {},
   "outputs": [],
   "source": []
  },
  {
   "cell_type": "code",
   "execution_count": null,
   "id": "8aaa9b32-d52d-4111-b56e-979915c55fdb",
   "metadata": {},
   "outputs": [],
   "source": []
  },
  {
   "cell_type": "code",
   "execution_count": null,
   "id": "180053ec-c54a-4009-8444-6dcbe75ab346",
   "metadata": {},
   "outputs": [],
   "source": []
  },
  {
   "cell_type": "code",
   "execution_count": null,
   "id": "f1dfc08d-6eec-46ce-b778-9df1a027eece",
   "metadata": {},
   "outputs": [],
   "source": []
  },
  {
   "cell_type": "code",
   "execution_count": null,
   "id": "ac8357dc-6e58-4466-8985-82c745fe84de",
   "metadata": {},
   "outputs": [],
   "source": []
  },
  {
   "cell_type": "code",
   "execution_count": null,
   "id": "d20d1876-8113-4f82-94e6-a435b38e26d7",
   "metadata": {},
   "outputs": [],
   "source": []
  },
  {
   "cell_type": "code",
   "execution_count": null,
   "id": "c3ba1567-591e-486a-8cdf-2c0a994820bd",
   "metadata": {},
   "outputs": [],
   "source": []
  },
  {
   "cell_type": "code",
   "execution_count": null,
   "id": "0b4a0a1b-5124-4df7-a233-1b94f02cd7ef",
   "metadata": {},
   "outputs": [],
   "source": []
  },
  {
   "cell_type": "code",
   "execution_count": null,
   "id": "75aa12a8-addb-4ced-9fb3-9627a8bf91d4",
   "metadata": {},
   "outputs": [],
   "source": []
  },
  {
   "cell_type": "code",
   "execution_count": null,
   "id": "7e580022-b8cf-4d2a-9948-05a608a17ff5",
   "metadata": {},
   "outputs": [],
   "source": []
  },
  {
   "cell_type": "code",
   "execution_count": null,
   "id": "13f54e17-63c0-42f2-85de-4d2e9ff52bfc",
   "metadata": {},
   "outputs": [],
   "source": []
  },
  {
   "cell_type": "code",
   "execution_count": null,
   "id": "1054fb90-9c09-4cf1-aec1-d9ecbf38d488",
   "metadata": {},
   "outputs": [],
   "source": []
  },
  {
   "cell_type": "code",
   "execution_count": null,
   "id": "22546a0e-e3af-4774-a465-037d32fecd81",
   "metadata": {},
   "outputs": [],
   "source": []
  },
  {
   "cell_type": "code",
   "execution_count": null,
   "id": "7e87fb08-0f0a-4603-8fba-7d9ba672e243",
   "metadata": {},
   "outputs": [],
   "source": []
  },
  {
   "cell_type": "code",
   "execution_count": null,
   "id": "20df53e5-931d-446f-a30e-c84a88b6d505",
   "metadata": {},
   "outputs": [],
   "source": []
  },
  {
   "cell_type": "code",
   "execution_count": null,
   "id": "8e75637f-2941-4783-97b6-a419a29af330",
   "metadata": {},
   "outputs": [],
   "source": []
  },
  {
   "cell_type": "code",
   "execution_count": null,
   "id": "03e36b2e-4772-4e00-9c12-2aaed6ede6e1",
   "metadata": {},
   "outputs": [],
   "source": []
  },
  {
   "cell_type": "code",
   "execution_count": null,
   "id": "d1090124-397d-47e4-ba84-50ccdbb270ad",
   "metadata": {},
   "outputs": [],
   "source": []
  },
  {
   "cell_type": "code",
   "execution_count": null,
   "id": "09da8e49-a6c7-4747-93c2-3b7b3c01ea0f",
   "metadata": {},
   "outputs": [],
   "source": []
  },
  {
   "cell_type": "code",
   "execution_count": null,
   "id": "40c097a4-ab00-4442-ae34-46e2318329f1",
   "metadata": {},
   "outputs": [],
   "source": []
  },
  {
   "cell_type": "code",
   "execution_count": null,
   "id": "9b086517-6ee6-4fbc-a9fc-394a0a6a0182",
   "metadata": {},
   "outputs": [],
   "source": []
  },
  {
   "cell_type": "code",
   "execution_count": null,
   "id": "223dfab3-1101-49e4-a0c0-e46a073a0a2d",
   "metadata": {},
   "outputs": [],
   "source": []
  },
  {
   "cell_type": "code",
   "execution_count": null,
   "id": "c01de8a8-c429-4bbd-b1b7-8613b7468abb",
   "metadata": {},
   "outputs": [],
   "source": []
  },
  {
   "cell_type": "code",
   "execution_count": null,
   "id": "83e78905-7944-45e4-b386-56e48de07e98",
   "metadata": {},
   "outputs": [],
   "source": []
  },
  {
   "cell_type": "code",
   "execution_count": null,
   "id": "7df45d1d-db04-4aa1-8a7b-17aace14f94b",
   "metadata": {},
   "outputs": [],
   "source": []
  },
  {
   "cell_type": "code",
   "execution_count": null,
   "id": "f111666e-0b08-4ae6-afd7-486f87195123",
   "metadata": {},
   "outputs": [],
   "source": []
  },
  {
   "cell_type": "code",
   "execution_count": null,
   "id": "f3ae5c09-0839-4783-aa8e-927f9a39846d",
   "metadata": {},
   "outputs": [],
   "source": []
  },
  {
   "cell_type": "code",
   "execution_count": null,
   "id": "31e32ff5-fa29-4860-8c87-3c423e888526",
   "metadata": {},
   "outputs": [],
   "source": []
  },
  {
   "cell_type": "code",
   "execution_count": null,
   "id": "6e084170-417b-4714-a74d-1a1143596295",
   "metadata": {},
   "outputs": [],
   "source": []
  },
  {
   "cell_type": "code",
   "execution_count": null,
   "id": "4c04eab4-f7d2-4952-8d50-7ecb21545e5c",
   "metadata": {},
   "outputs": [],
   "source": []
  },
  {
   "cell_type": "code",
   "execution_count": null,
   "id": "ac3f250c-3522-44d1-9136-1c484aada533",
   "metadata": {},
   "outputs": [],
   "source": []
  },
  {
   "cell_type": "code",
   "execution_count": null,
   "id": "728e4c1b-4d9d-4228-96c9-29c0de874f29",
   "metadata": {},
   "outputs": [],
   "source": []
  },
  {
   "cell_type": "code",
   "execution_count": null,
   "id": "e226e6ff-586a-4f91-92dc-2aa3f63c2f0b",
   "metadata": {},
   "outputs": [],
   "source": []
  },
  {
   "cell_type": "code",
   "execution_count": null,
   "id": "7c29738a-e9eb-43e8-88da-b0399794120d",
   "metadata": {},
   "outputs": [],
   "source": []
  },
  {
   "cell_type": "code",
   "execution_count": null,
   "id": "b1ea9fab-8d31-420c-b6ab-d179dbb5094c",
   "metadata": {},
   "outputs": [],
   "source": []
  },
  {
   "cell_type": "code",
   "execution_count": null,
   "id": "7e0d1a51-526b-4dc2-92da-95edf00e43fa",
   "metadata": {},
   "outputs": [],
   "source": []
  },
  {
   "cell_type": "code",
   "execution_count": null,
   "id": "9f1580a3-4934-4e2a-b544-ca879d7d2194",
   "metadata": {},
   "outputs": [],
   "source": []
  },
  {
   "cell_type": "code",
   "execution_count": null,
   "id": "e7a8948b-f06d-45fb-a001-a062e59b58db",
   "metadata": {},
   "outputs": [],
   "source": []
  },
  {
   "cell_type": "code",
   "execution_count": null,
   "id": "aa7e1cb2-c153-4167-8bd4-a632fe9b3a1a",
   "metadata": {},
   "outputs": [],
   "source": []
  },
  {
   "cell_type": "code",
   "execution_count": null,
   "id": "2f28bd29-30fe-4643-b008-412519718ac8",
   "metadata": {},
   "outputs": [],
   "source": []
  },
  {
   "cell_type": "code",
   "execution_count": null,
   "id": "3824bcc5-629d-4d07-a876-9c5f5fbc9b14",
   "metadata": {},
   "outputs": [],
   "source": []
  },
  {
   "cell_type": "code",
   "execution_count": null,
   "id": "27fde7db-9840-4f35-9a6c-9fdb7c321351",
   "metadata": {},
   "outputs": [],
   "source": []
  },
  {
   "cell_type": "code",
   "execution_count": null,
   "id": "dc43045b-1825-4cab-9748-a8669135c64b",
   "metadata": {},
   "outputs": [],
   "source": []
  },
  {
   "cell_type": "code",
   "execution_count": null,
   "id": "36806fff-02c5-45ff-aba3-0f087ef40c27",
   "metadata": {},
   "outputs": [],
   "source": []
  },
  {
   "cell_type": "code",
   "execution_count": null,
   "id": "127e08ef-28f5-42cd-8c93-d1193f99aed2",
   "metadata": {},
   "outputs": [],
   "source": []
  },
  {
   "cell_type": "code",
   "execution_count": null,
   "id": "14038be1-66d0-49e1-9a20-2bfae4678eda",
   "metadata": {},
   "outputs": [],
   "source": []
  },
  {
   "cell_type": "code",
   "execution_count": null,
   "id": "bba4f1eb-7c4e-410a-a1a6-47d2fe731bb6",
   "metadata": {},
   "outputs": [],
   "source": []
  },
  {
   "cell_type": "code",
   "execution_count": null,
   "id": "4804b97d-feb0-452d-9ac9-c5fafa387d33",
   "metadata": {},
   "outputs": [],
   "source": []
  },
  {
   "cell_type": "code",
   "execution_count": null,
   "id": "c5f4b0a5-a146-4ecc-b5bb-4d7ebc053a50",
   "metadata": {},
   "outputs": [],
   "source": []
  },
  {
   "cell_type": "code",
   "execution_count": null,
   "id": "1b980394-9a8e-45f5-bd45-c103ea9cff3e",
   "metadata": {},
   "outputs": [],
   "source": []
  },
  {
   "cell_type": "code",
   "execution_count": null,
   "id": "7a0ef91d-cbeb-4a79-a513-7575579cf1bd",
   "metadata": {},
   "outputs": [],
   "source": []
  },
  {
   "cell_type": "code",
   "execution_count": null,
   "id": "3b521f92-282d-487b-949d-955043f18d1d",
   "metadata": {},
   "outputs": [],
   "source": []
  },
  {
   "cell_type": "code",
   "execution_count": null,
   "id": "dbd2236a-30fa-4bfd-8fdb-9bc9f4b59671",
   "metadata": {},
   "outputs": [],
   "source": []
  },
  {
   "cell_type": "code",
   "execution_count": null,
   "id": "02dae8c5-7980-46b1-883f-a93f66516aa2",
   "metadata": {},
   "outputs": [],
   "source": []
  },
  {
   "cell_type": "code",
   "execution_count": null,
   "id": "f8abec5a-c845-41f6-aaaa-832b54cfdb9b",
   "metadata": {},
   "outputs": [],
   "source": []
  },
  {
   "cell_type": "code",
   "execution_count": null,
   "id": "8d3cfb99-d15d-4244-8ae1-61d4e4a5386b",
   "metadata": {},
   "outputs": [],
   "source": []
  },
  {
   "cell_type": "code",
   "execution_count": null,
   "id": "2745b837-216d-4098-a75c-6c64b5d1d532",
   "metadata": {},
   "outputs": [],
   "source": []
  },
  {
   "cell_type": "code",
   "execution_count": null,
   "id": "294630c7-ba01-4179-9e8a-847da1c05384",
   "metadata": {},
   "outputs": [],
   "source": []
  },
  {
   "cell_type": "code",
   "execution_count": null,
   "id": "99a13f1f-d915-4022-aef1-0c397f62a4fe",
   "metadata": {},
   "outputs": [],
   "source": []
  },
  {
   "cell_type": "code",
   "execution_count": null,
   "id": "65a6200f-fd2b-488f-99db-8ed430e508f6",
   "metadata": {},
   "outputs": [],
   "source": []
  },
  {
   "cell_type": "code",
   "execution_count": null,
   "id": "4e83d5e2-7487-4a73-817a-4e3c86407236",
   "metadata": {},
   "outputs": [],
   "source": []
  },
  {
   "cell_type": "code",
   "execution_count": null,
   "id": "e5418a6f-aefa-4504-b7cd-bce75cf5f4c6",
   "metadata": {},
   "outputs": [],
   "source": []
  },
  {
   "cell_type": "code",
   "execution_count": null,
   "id": "ce179b9e-0eda-406b-a560-463c15e0a70b",
   "metadata": {},
   "outputs": [],
   "source": []
  },
  {
   "cell_type": "code",
   "execution_count": null,
   "id": "ab520bb4-7292-42a1-b159-b34c30208370",
   "metadata": {},
   "outputs": [],
   "source": []
  },
  {
   "cell_type": "code",
   "execution_count": null,
   "id": "fced8f01-4386-4f3b-b1eb-afead1f70fa4",
   "metadata": {},
   "outputs": [],
   "source": []
  },
  {
   "cell_type": "code",
   "execution_count": null,
   "id": "97654bef-b08b-49bf-9e14-54c7a37b1794",
   "metadata": {},
   "outputs": [],
   "source": []
  },
  {
   "cell_type": "code",
   "execution_count": null,
   "id": "dadd7c74-9e92-423a-81a2-dfe40c61d18f",
   "metadata": {},
   "outputs": [],
   "source": []
  },
  {
   "cell_type": "code",
   "execution_count": null,
   "id": "adadabad-2c50-438b-9673-89526c71ed79",
   "metadata": {},
   "outputs": [],
   "source": []
  },
  {
   "cell_type": "code",
   "execution_count": null,
   "id": "b7861b95-bb4a-4aba-a632-bfdafceb02ad",
   "metadata": {},
   "outputs": [],
   "source": []
  },
  {
   "cell_type": "code",
   "execution_count": null,
   "id": "f3989a0e-720d-4e0e-8d8a-7a95a5ec2405",
   "metadata": {},
   "outputs": [],
   "source": []
  },
  {
   "cell_type": "code",
   "execution_count": null,
   "id": "1facaa72-4cca-470b-9358-ee2ba1ed855c",
   "metadata": {},
   "outputs": [],
   "source": []
  },
  {
   "cell_type": "code",
   "execution_count": null,
   "id": "de55bc45-af67-4968-8f86-c8e59619c258",
   "metadata": {},
   "outputs": [],
   "source": []
  },
  {
   "cell_type": "code",
   "execution_count": null,
   "id": "13cdad98-53ec-4830-8904-49811e64719e",
   "metadata": {},
   "outputs": [],
   "source": []
  },
  {
   "cell_type": "code",
   "execution_count": null,
   "id": "66a9f7ee-2e53-4e04-a4a2-2b0456b412ba",
   "metadata": {},
   "outputs": [],
   "source": []
  },
  {
   "cell_type": "code",
   "execution_count": null,
   "id": "6c5268f3-8aca-4fd0-ba89-00b701942336",
   "metadata": {},
   "outputs": [],
   "source": []
  },
  {
   "cell_type": "code",
   "execution_count": null,
   "id": "722583f6-b2b9-4bcf-b51a-93cf9f9d5587",
   "metadata": {},
   "outputs": [],
   "source": []
  },
  {
   "cell_type": "code",
   "execution_count": null,
   "id": "d22e079d-d28d-4544-995a-a1696f0b9615",
   "metadata": {},
   "outputs": [],
   "source": []
  },
  {
   "cell_type": "code",
   "execution_count": null,
   "id": "f3a4bb36-170b-4e15-9ff4-85f9cdb02c6d",
   "metadata": {},
   "outputs": [],
   "source": []
  },
  {
   "cell_type": "code",
   "execution_count": null,
   "id": "158fc8a1-6e3a-400a-92f6-9c8eab4d7dfe",
   "metadata": {},
   "outputs": [],
   "source": []
  },
  {
   "cell_type": "code",
   "execution_count": null,
   "id": "83c05991-a3c1-403c-97a5-a8bf2ad2cb5f",
   "metadata": {},
   "outputs": [],
   "source": []
  },
  {
   "cell_type": "code",
   "execution_count": null,
   "id": "602de440-7f3f-4126-921d-306d4a38ccc5",
   "metadata": {},
   "outputs": [],
   "source": []
  },
  {
   "cell_type": "code",
   "execution_count": null,
   "id": "91835a56-ad64-454d-91ed-0593e76225f2",
   "metadata": {},
   "outputs": [],
   "source": []
  },
  {
   "cell_type": "code",
   "execution_count": null,
   "id": "b2a123b7-d63c-4115-84d9-c85e3a857aca",
   "metadata": {},
   "outputs": [],
   "source": []
  },
  {
   "cell_type": "code",
   "execution_count": null,
   "id": "eb3f4eae-fdf8-48a4-b53f-02954b5ebdd0",
   "metadata": {},
   "outputs": [],
   "source": []
  },
  {
   "cell_type": "code",
   "execution_count": null,
   "id": "7b5fe8a3-809f-4795-a67c-f261a83ea45e",
   "metadata": {},
   "outputs": [],
   "source": []
  },
  {
   "cell_type": "code",
   "execution_count": null,
   "id": "d5ddbb5d-4c33-4146-a5a4-8cf3f9fedbcb",
   "metadata": {},
   "outputs": [],
   "source": []
  }
 ],
 "metadata": {
  "kernelspec": {
   "display_name": "Python 3 (ipykernel)",
   "language": "python",
   "name": "python3"
  },
  "language_info": {
   "codemirror_mode": {
    "name": "ipython",
    "version": 3
   },
   "file_extension": ".py",
   "mimetype": "text/x-python",
   "name": "python",
   "nbconvert_exporter": "python",
   "pygments_lexer": "ipython3",
   "version": "3.6.3"
  }
 },
 "nbformat": 4,
 "nbformat_minor": 5
}
