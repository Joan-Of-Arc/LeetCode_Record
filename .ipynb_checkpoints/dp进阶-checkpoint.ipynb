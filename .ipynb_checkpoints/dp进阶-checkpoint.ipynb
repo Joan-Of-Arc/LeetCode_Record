{
 "cells": [
  {
   "cell_type": "markdown",
   "id": "090694f2-0b03-4c43-b70a-17b1096f9f9e",
   "metadata": {},
   "source": [
    "## 45. 跳跃游戏 Ⅱ"
   ]
  },
  {
   "cell_type": "code",
   "execution_count": 3,
   "id": "f9fba49d-d150-44a3-a3f2-34aca6504d26",
   "metadata": {},
   "outputs": [],
   "source": [
    "from typing import List, Optional\n",
    "from collections import deque, defaultdict, Counter"
   ]
  },
  {
   "cell_type": "code",
   "execution_count": 3,
   "id": "984f8559-bb8f-47d5-a94f-76bf1c7d0265",
   "metadata": {},
   "outputs": [],
   "source": [
    "class Solution:\n",
    "    def jump(self, nums: List[int]) -> int:\n",
    "        n = len(nums)\n",
    "        dp = [(0, nums[0])]\n",
    "        for i in range(1, n):\n",
    "            step = float(\"inf\")\n",
    "            for x, y in dp:\n",
    "                if y >= i: step = min(step, x + 1)\n",
    "            dp.append((step, i + nums[i]))\n",
    "        return dp[-1][0]"
   ]
  },
  {
   "cell_type": "code",
   "execution_count": 6,
   "id": "744a0c37-13c3-46c1-84a9-eac072d47b98",
   "metadata": {},
   "outputs": [],
   "source": [
    "nums = [2,3,0,1,4]"
   ]
  },
  {
   "cell_type": "code",
   "execution_count": 7,
   "id": "a64a730a-9815-4cdc-a099-801a7e56425f",
   "metadata": {},
   "outputs": [
    {
     "data": {
      "text/plain": [
       "2"
      ]
     },
     "execution_count": 7,
     "metadata": {},
     "output_type": "execute_result"
    }
   ],
   "source": [
    "s = Solution()\n",
    "s.jump(nums)"
   ]
  },
  {
   "cell_type": "markdown",
   "id": "63055a20-73cd-4a2b-a3fd-2ed0b4c55877",
   "metadata": {},
   "source": [
    "### $O(n ^ 2)$ 超时"
   ]
  },
  {
   "cell_type": "markdown",
   "id": "6111d187-dc6f-4898-9052-22f6fd7223c0",
   "metadata": {},
   "source": [
    "总感觉可以很轻易优化"
   ]
  },
  {
   "cell_type": "code",
   "execution_count": 23,
   "id": "e447bfa6-bd72-40ed-b979-aa9381929286",
   "metadata": {},
   "outputs": [],
   "source": [
    "class Solution:\n",
    "    def jump(self, nums: List[int]) -> int:\n",
    "        n = len(nums)\n",
    "        dp = [float(\"inf\")] * n\n",
    "        dp[0] = 0\n",
    "        for i in range(n):\n",
    "            print(dp)\n",
    "            up = min(n, i + nums[i] + 1)\n",
    "            for j in range(i + 1, up):\n",
    "                dp[j] = min(dp[j], dp[i] + 1)\n",
    "        return dp[-1]"
   ]
  },
  {
   "cell_type": "code",
   "execution_count": 24,
   "id": "98d4bb7b-a49c-4566-a9ac-d9cdeb060588",
   "metadata": {},
   "outputs": [],
   "source": [
    "nums = [2,3,0,1,4]"
   ]
  },
  {
   "cell_type": "code",
   "execution_count": 25,
   "id": "1298324d-15a4-4c61-a433-f5ca02547346",
   "metadata": {},
   "outputs": [
    {
     "name": "stdout",
     "output_type": "stream",
     "text": [
      "[0, inf, inf, inf, inf]\n",
      "[0, 1, 1, inf, inf]\n",
      "[0, 1, 1, 2, 2]\n",
      "[0, 1, 1, 2, 2]\n",
      "[0, 1, 1, 2, 2]\n"
     ]
    },
    {
     "data": {
      "text/plain": [
       "2"
      ]
     },
     "execution_count": 25,
     "metadata": {},
     "output_type": "execute_result"
    }
   ],
   "source": [
    "s = Solution()\n",
    "s.jump(nums)"
   ]
  },
  {
   "cell_type": "markdown",
   "id": "f1a1a619-cf3e-41cb-9237-0fdd533646d0",
   "metadata": {},
   "source": [
    "这种最坏情况下也是 $O(n ^ 2)$"
   ]
  },
  {
   "cell_type": "code",
   "execution_count": 4,
   "id": "f43e2235-a163-4923-9d9d-940e9796e4f6",
   "metadata": {},
   "outputs": [],
   "source": [
    "class Solution:\n",
    "    def jump(self, nums: List[int]) -> int:\n",
    "        far = step = end = 0\n",
    "        for i in range(len(nums) - 1):\n",
    "            far = max(far, i + nums[i])\n",
    "            if i == end: end, step = far, step + 1\n",
    "        return step"
   ]
  },
  {
   "cell_type": "markdown",
   "id": "269bd9ae-f4ec-42a3-9eea-ecc8cee6f1f2",
   "metadata": {},
   "source": [
    "## 96. 不同的二叉搜索树"
   ]
  },
  {
   "cell_type": "code",
   "execution_count": null,
   "id": "1ea6e866-7ffa-4675-8646-76f37bfb108a",
   "metadata": {},
   "outputs": [],
   "source": [
    "class Solution:\n",
    "    def numTrees(self, n: int) -> int:\n",
    "        "
   ]
  },
  {
   "cell_type": "code",
   "execution_count": null,
   "id": "3e82bda0-3039-4b9f-8309-88868d8c7075",
   "metadata": {},
   "outputs": [],
   "source": []
  },
  {
   "cell_type": "code",
   "execution_count": null,
   "id": "ce47e309-ab74-4488-9e3a-6980125cc5b5",
   "metadata": {},
   "outputs": [],
   "source": []
  },
  {
   "cell_type": "code",
   "execution_count": null,
   "id": "acd6fef1-5b14-408e-af28-f3546a01a623",
   "metadata": {},
   "outputs": [],
   "source": []
  },
  {
   "cell_type": "code",
   "execution_count": null,
   "id": "fadff477-6f01-4a53-8ca6-c48e6dc38905",
   "metadata": {},
   "outputs": [],
   "source": []
  },
  {
   "cell_type": "code",
   "execution_count": null,
   "id": "c5d284ac-57d1-41d0-8b62-c15b7e9a7e5b",
   "metadata": {},
   "outputs": [],
   "source": []
  },
  {
   "cell_type": "code",
   "execution_count": null,
   "id": "0b97904d-96c9-4e29-9ee0-5f2e106f5a2f",
   "metadata": {},
   "outputs": [],
   "source": []
  },
  {
   "cell_type": "code",
   "execution_count": null,
   "id": "d6827745-ea56-46a7-a14c-23e535e642da",
   "metadata": {},
   "outputs": [],
   "source": []
  },
  {
   "cell_type": "code",
   "execution_count": null,
   "id": "572af695-7364-4b94-812b-2b095fbc5e0f",
   "metadata": {},
   "outputs": [],
   "source": []
  },
  {
   "cell_type": "code",
   "execution_count": null,
   "id": "d02d4d73-1c79-448d-8761-c24e4e25f189",
   "metadata": {},
   "outputs": [],
   "source": []
  },
  {
   "cell_type": "code",
   "execution_count": null,
   "id": "cf175919-b5ef-484e-9dcf-158854cde5e4",
   "metadata": {},
   "outputs": [],
   "source": []
  },
  {
   "cell_type": "code",
   "execution_count": null,
   "id": "9afcf2a7-4b77-4dfb-a3ab-5f575068eb30",
   "metadata": {},
   "outputs": [],
   "source": []
  },
  {
   "cell_type": "code",
   "execution_count": null,
   "id": "4eac2782-1eec-4320-b633-b282922f6a52",
   "metadata": {},
   "outputs": [],
   "source": []
  },
  {
   "cell_type": "code",
   "execution_count": null,
   "id": "a4ae6305-b222-4f67-a19e-e1f1df445f43",
   "metadata": {},
   "outputs": [],
   "source": []
  },
  {
   "cell_type": "code",
   "execution_count": null,
   "id": "014f4284-8934-4801-aae4-ae3a40647382",
   "metadata": {},
   "outputs": [],
   "source": []
  },
  {
   "cell_type": "code",
   "execution_count": null,
   "id": "29946735-ceff-479a-8a8b-cd1f2f31b6b8",
   "metadata": {},
   "outputs": [],
   "source": []
  },
  {
   "cell_type": "code",
   "execution_count": null,
   "id": "1dbf5ee5-5fb6-49c3-b1f9-4d643313efe0",
   "metadata": {},
   "outputs": [],
   "source": []
  },
  {
   "cell_type": "code",
   "execution_count": null,
   "id": "618af55e-f383-4e66-8c90-99c3a4759cd5",
   "metadata": {},
   "outputs": [],
   "source": []
  },
  {
   "cell_type": "code",
   "execution_count": null,
   "id": "ccd8f549-a421-402a-be7f-2b44766f9de4",
   "metadata": {},
   "outputs": [],
   "source": []
  },
  {
   "cell_type": "code",
   "execution_count": null,
   "id": "88542372-e406-4bd6-9f96-c84a1811d177",
   "metadata": {},
   "outputs": [],
   "source": []
  },
  {
   "cell_type": "code",
   "execution_count": null,
   "id": "035c613e-281c-408e-874b-094bead7e56c",
   "metadata": {},
   "outputs": [],
   "source": []
  },
  {
   "cell_type": "code",
   "execution_count": null,
   "id": "55a65a52-9785-467c-a0a2-3e5f77033097",
   "metadata": {},
   "outputs": [],
   "source": []
  },
  {
   "cell_type": "code",
   "execution_count": null,
   "id": "9bed7e8a-2064-471e-a49a-f897735d1372",
   "metadata": {},
   "outputs": [],
   "source": []
  },
  {
   "cell_type": "code",
   "execution_count": null,
   "id": "9bca249e-51c1-4c38-a12c-afc67aeb4c39",
   "metadata": {},
   "outputs": [],
   "source": []
  },
  {
   "cell_type": "code",
   "execution_count": null,
   "id": "108569de-56d1-4eeb-8daf-9f829e86baf4",
   "metadata": {},
   "outputs": [],
   "source": []
  },
  {
   "cell_type": "code",
   "execution_count": null,
   "id": "70e78751-c3ec-48ca-ac64-1af8ebf04468",
   "metadata": {},
   "outputs": [],
   "source": []
  },
  {
   "cell_type": "code",
   "execution_count": null,
   "id": "634b3857-d91f-4140-9f2c-5236034caead",
   "metadata": {},
   "outputs": [],
   "source": []
  },
  {
   "cell_type": "code",
   "execution_count": null,
   "id": "9e469f31-2bdf-4a49-b16c-8fd828d80e04",
   "metadata": {},
   "outputs": [],
   "source": []
  },
  {
   "cell_type": "code",
   "execution_count": null,
   "id": "794e1963-54aa-4665-b9c3-ea47f7302bcd",
   "metadata": {},
   "outputs": [],
   "source": []
  },
  {
   "cell_type": "code",
   "execution_count": null,
   "id": "e29908eb-9cb5-4f7e-a55f-38b6da2d09ee",
   "metadata": {},
   "outputs": [],
   "source": []
  },
  {
   "cell_type": "code",
   "execution_count": null,
   "id": "cd185c95-3b2a-4670-9fc1-55b2d00a618f",
   "metadata": {},
   "outputs": [],
   "source": []
  },
  {
   "cell_type": "code",
   "execution_count": null,
   "id": "f5f251f4-75c5-49c2-8e22-f9e4516dbd5c",
   "metadata": {},
   "outputs": [],
   "source": []
  },
  {
   "cell_type": "code",
   "execution_count": null,
   "id": "203ba1a6-5111-446a-aef6-24d58ed9ec02",
   "metadata": {},
   "outputs": [],
   "source": []
  },
  {
   "cell_type": "code",
   "execution_count": null,
   "id": "29273867-c136-4ea0-b90c-35e7c30f620c",
   "metadata": {},
   "outputs": [],
   "source": []
  },
  {
   "cell_type": "code",
   "execution_count": null,
   "id": "a9746ca7-f301-4692-af9d-c55b44026f3e",
   "metadata": {},
   "outputs": [],
   "source": []
  },
  {
   "cell_type": "code",
   "execution_count": null,
   "id": "55c78c99-f19a-4642-a72b-9789f70269af",
   "metadata": {},
   "outputs": [],
   "source": []
  },
  {
   "cell_type": "code",
   "execution_count": null,
   "id": "dfde3d8c-6117-4118-a2fe-9933044f2e50",
   "metadata": {},
   "outputs": [],
   "source": []
  },
  {
   "cell_type": "code",
   "execution_count": null,
   "id": "2bb96944-c873-4bf7-a2f7-4771116d5d98",
   "metadata": {},
   "outputs": [],
   "source": []
  },
  {
   "cell_type": "code",
   "execution_count": null,
   "id": "d79d4d8a-3198-447a-a666-530801b2e2a0",
   "metadata": {},
   "outputs": [],
   "source": []
  },
  {
   "cell_type": "code",
   "execution_count": null,
   "id": "eec66e81-d942-4da9-85ca-8be1082c058d",
   "metadata": {},
   "outputs": [],
   "source": []
  },
  {
   "cell_type": "code",
   "execution_count": null,
   "id": "15b081c1-6608-4e3f-b236-552c1a5ade78",
   "metadata": {},
   "outputs": [],
   "source": []
  },
  {
   "cell_type": "code",
   "execution_count": null,
   "id": "54e29a67-a330-40e6-b313-36557b0fa4c0",
   "metadata": {},
   "outputs": [],
   "source": []
  },
  {
   "cell_type": "code",
   "execution_count": null,
   "id": "73561c16-7a5d-4095-9be2-3a18374529bf",
   "metadata": {},
   "outputs": [],
   "source": []
  },
  {
   "cell_type": "code",
   "execution_count": null,
   "id": "2564bf9d-0eca-4910-bd2c-50060b61bb6a",
   "metadata": {},
   "outputs": [],
   "source": []
  },
  {
   "cell_type": "code",
   "execution_count": null,
   "id": "a35b3bb4-4ab6-45ce-a43b-fbf890a5379d",
   "metadata": {},
   "outputs": [],
   "source": []
  },
  {
   "cell_type": "code",
   "execution_count": null,
   "id": "dd6360b1-50f3-448a-bb78-b5d0b3b46c2a",
   "metadata": {},
   "outputs": [],
   "source": []
  },
  {
   "cell_type": "code",
   "execution_count": null,
   "id": "14f62b13-b1ef-4eeb-b791-5528f0bb606b",
   "metadata": {},
   "outputs": [],
   "source": []
  },
  {
   "cell_type": "code",
   "execution_count": null,
   "id": "d01f504e-ffc3-4c49-a3ed-0cc47ba30390",
   "metadata": {},
   "outputs": [],
   "source": []
  },
  {
   "cell_type": "code",
   "execution_count": null,
   "id": "cef61312-b424-429e-a317-a7b49eb2e48d",
   "metadata": {},
   "outputs": [],
   "source": []
  },
  {
   "cell_type": "code",
   "execution_count": null,
   "id": "34e94f56-6a84-4ebd-8f28-c8441c3d9128",
   "metadata": {},
   "outputs": [],
   "source": []
  },
  {
   "cell_type": "code",
   "execution_count": null,
   "id": "8b43a5bb-f0b0-4d4a-a1f2-d15dc595d7e9",
   "metadata": {},
   "outputs": [],
   "source": []
  },
  {
   "cell_type": "code",
   "execution_count": null,
   "id": "0633b9bf-7e9d-4614-b172-3beb58299c18",
   "metadata": {},
   "outputs": [],
   "source": []
  },
  {
   "cell_type": "code",
   "execution_count": null,
   "id": "ee3aed2b-cc90-4838-bbb7-1cc0698877b8",
   "metadata": {},
   "outputs": [],
   "source": []
  },
  {
   "cell_type": "code",
   "execution_count": null,
   "id": "ca4aced2-7127-4bf2-90b8-ead0beb2c79d",
   "metadata": {},
   "outputs": [],
   "source": []
  },
  {
   "cell_type": "code",
   "execution_count": null,
   "id": "b2fd8b00-df4b-4b3a-a23a-ed1a08247326",
   "metadata": {},
   "outputs": [],
   "source": []
  },
  {
   "cell_type": "code",
   "execution_count": null,
   "id": "0ccb53ed-0208-4f41-8a2a-3689d0306a1d",
   "metadata": {},
   "outputs": [],
   "source": []
  },
  {
   "cell_type": "code",
   "execution_count": null,
   "id": "194d4e7f-02d3-4c03-86a5-428e807a34af",
   "metadata": {},
   "outputs": [],
   "source": []
  },
  {
   "cell_type": "code",
   "execution_count": null,
   "id": "ff3eea36-2471-4ee7-83cb-272314ce6d49",
   "metadata": {},
   "outputs": [],
   "source": []
  },
  {
   "cell_type": "code",
   "execution_count": null,
   "id": "dfbe2187-bd9c-41e7-9193-b1b317527a99",
   "metadata": {},
   "outputs": [],
   "source": []
  },
  {
   "cell_type": "code",
   "execution_count": null,
   "id": "e98d445f-ec2f-4755-9497-72bacdec56c7",
   "metadata": {},
   "outputs": [],
   "source": []
  },
  {
   "cell_type": "code",
   "execution_count": null,
   "id": "911eb815-c8f7-48d5-8cd3-675f645634e1",
   "metadata": {},
   "outputs": [],
   "source": []
  },
  {
   "cell_type": "code",
   "execution_count": null,
   "id": "88ce67b7-babd-4449-b65f-07ff944c8b0f",
   "metadata": {},
   "outputs": [],
   "source": []
  },
  {
   "cell_type": "code",
   "execution_count": null,
   "id": "97c7118e-e3a4-4b38-abf8-0d6e49e47b07",
   "metadata": {},
   "outputs": [],
   "source": []
  },
  {
   "cell_type": "code",
   "execution_count": null,
   "id": "d91b46a6-ccb7-4ac7-9fca-18e267516a72",
   "metadata": {},
   "outputs": [],
   "source": []
  },
  {
   "cell_type": "code",
   "execution_count": null,
   "id": "760f8fe6-bd4a-423c-b60d-cf113673decb",
   "metadata": {},
   "outputs": [],
   "source": []
  },
  {
   "cell_type": "code",
   "execution_count": null,
   "id": "a9629559-c56b-4a60-ac0d-f1171b903083",
   "metadata": {},
   "outputs": [],
   "source": []
  },
  {
   "cell_type": "code",
   "execution_count": null,
   "id": "e1557a98-6587-499b-b486-1fdb16e96096",
   "metadata": {},
   "outputs": [],
   "source": []
  },
  {
   "cell_type": "code",
   "execution_count": null,
   "id": "1b7f4b22-9799-4e68-9023-462a639207e9",
   "metadata": {},
   "outputs": [],
   "source": []
  },
  {
   "cell_type": "code",
   "execution_count": null,
   "id": "1261bc25-db80-4fb2-adf8-1072686c92b8",
   "metadata": {},
   "outputs": [],
   "source": []
  },
  {
   "cell_type": "code",
   "execution_count": null,
   "id": "6dd0834f-1139-45c1-8ca8-e53f7011b141",
   "metadata": {},
   "outputs": [],
   "source": []
  },
  {
   "cell_type": "code",
   "execution_count": null,
   "id": "e16f77e5-6c77-4e9f-b9c7-e2f29d8c4086",
   "metadata": {},
   "outputs": [],
   "source": []
  },
  {
   "cell_type": "code",
   "execution_count": null,
   "id": "1aaca820-f44b-4569-bca3-8166b0d9e003",
   "metadata": {},
   "outputs": [],
   "source": []
  },
  {
   "cell_type": "code",
   "execution_count": null,
   "id": "fa015e07-17f6-4c31-8600-1a41f2e1aa8c",
   "metadata": {},
   "outputs": [],
   "source": []
  },
  {
   "cell_type": "code",
   "execution_count": null,
   "id": "eb52b5f2-4b61-427d-9e12-616458429669",
   "metadata": {},
   "outputs": [],
   "source": []
  },
  {
   "cell_type": "code",
   "execution_count": null,
   "id": "9cd22864-9872-41da-b23c-6a7e2612cdfa",
   "metadata": {},
   "outputs": [],
   "source": []
  },
  {
   "cell_type": "code",
   "execution_count": null,
   "id": "b0e7719f-8d00-4639-9679-bba5c0e6eef8",
   "metadata": {},
   "outputs": [],
   "source": []
  },
  {
   "cell_type": "code",
   "execution_count": null,
   "id": "9ac3af0d-ec1f-42f4-a3d6-c113efb85012",
   "metadata": {},
   "outputs": [],
   "source": []
  },
  {
   "cell_type": "code",
   "execution_count": null,
   "id": "6d3c7f5a-9c0a-470e-864d-4e5f40b4fcc5",
   "metadata": {},
   "outputs": [],
   "source": []
  },
  {
   "cell_type": "code",
   "execution_count": null,
   "id": "2b4d2b5c-b1fc-45e5-a5c8-8f1a0f9138bc",
   "metadata": {},
   "outputs": [],
   "source": []
  },
  {
   "cell_type": "code",
   "execution_count": null,
   "id": "c7be02e2-66a5-4368-9753-6415772bffd4",
   "metadata": {},
   "outputs": [],
   "source": []
  },
  {
   "cell_type": "code",
   "execution_count": null,
   "id": "80188f8e-86a9-4f06-9f26-75abbda4884c",
   "metadata": {},
   "outputs": [],
   "source": []
  },
  {
   "cell_type": "code",
   "execution_count": null,
   "id": "5acb6586-1d5e-4b0b-b98b-5abb1152c0af",
   "metadata": {},
   "outputs": [],
   "source": []
  },
  {
   "cell_type": "code",
   "execution_count": null,
   "id": "707babf0-5b41-4de7-9cd9-8206997b067f",
   "metadata": {},
   "outputs": [],
   "source": []
  }
 ],
 "metadata": {
  "kernelspec": {
   "display_name": "Python 3 (ipykernel)",
   "language": "python",
   "name": "python3"
  },
  "language_info": {
   "codemirror_mode": {
    "name": "ipython",
    "version": 3
   },
   "file_extension": ".py",
   "mimetype": "text/x-python",
   "name": "python",
   "nbconvert_exporter": "python",
   "pygments_lexer": "ipython3",
   "version": "3.6.3"
  }
 },
 "nbformat": 4,
 "nbformat_minor": 5
}
