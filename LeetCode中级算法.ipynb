{
 "cells": [
  {
   "cell_type": "markdown",
   "id": "b8b64279-96d3-4ea3-83ef-d8e7e01bc1d0",
   "metadata": {},
   "source": [
    "# 数组和字符串"
   ]
  },
  {
   "cell_type": "markdown",
   "id": "4c5f8a5c-a83e-4d54-b58c-d65ab378398f",
   "metadata": {},
   "source": [
    "## 1. 三数之和  "
   ]
  },
  {
   "cell_type": "markdown",
   "id": "a0ce8f37-b21d-4bd2-9242-a73c7c4d0969",
   "metadata": {},
   "source": [
    "想到之前做过的一道类似的题 （1395），貌似比这题难一些，思路也分为枚举第一个第二个以及第三个数字。分别有不同的时间复杂度。"
   ]
  },
  {
   "cell_type": "code",
   "execution_count": 4,
   "id": "15deebbb-8782-49f6-93e6-11183eeaa5e9",
   "metadata": {},
   "outputs": [],
   "source": [
    "from typing import List\n",
    "class Solution:\n",
    "    def threeSum(self, nums: List[int]) -> List[List[int]]:\n",
    "        nums.sort()\n",
    "        leng = len(nums)\n",
    "        res = set()\n",
    "        for i in range(0, leng - 2):\n",
    "            for j in range(i + 1, leng):\n",
    "                target = - (nums[i] + nums[j])\n",
    "                if target in nums[j+1:]:\n",
    "                    res.add((nums[i], nums[j], target))\n",
    "        return list(list(n) for n in res)"
   ]
  },
  {
   "cell_type": "markdown",
   "id": "31cf997d-073a-47a5-ad34-0f1044edba7c",
   "metadata": {},
   "source": [
    "O(n^3)复杂度超时"
   ]
  },
  {
   "cell_type": "markdown",
   "id": "cd81e6e6-b1cd-44ef-8dfd-a943b73165cf",
   "metadata": {},
   "source": [
    "问题；\n",
    "1. 即使进行了排序依然可能出现重复的情况，因此需要在枚举时判断是否与上一个枚举的数字相同。\n",
    "2. 要合理利用排序的信息，第三层枚举可以归到第二层里，因为枚举的第二个数越来越大，因此枚举的第三个数只会越来越小，可以在枚举第二个数的同时用一个指针从数组末端向前枚举第三个数，就不用额外一层循环了。问题优化为 O(n^2)"
   ]
  },
  {
   "cell_type": "code",
   "execution_count": null,
   "id": "952eca5e-46c9-4bb3-a692-99a9d8460482",
   "metadata": {},
   "outputs": [],
   "source": [
    "class Solution:\n",
    "    def threeSum(self, nums: List[int]) -> List[List[int]]:\n",
    "        n = len(nums)\n",
    "        nums.sort()\n",
    "        ans = list()\n",
    "        \n",
    "        # 枚举 a\n",
    "        for first in range(n):\n",
    "            # 需要和上一次枚举的数不相同\n",
    "            if first > 0 and nums[first] == nums[first - 1]:\n",
    "                continue\n",
    "            # c 对应的指针初始指向数组的最右端\n",
    "            third = n - 1\n",
    "            target = -nums[first]\n",
    "            # 枚举 b\n",
    "            for second in range(first + 1, n):\n",
    "                # 需要和上一次枚举的数不相同\n",
    "                if second > first + 1 and nums[second] == nums[second - 1]:\n",
    "                    continue\n",
    "                # 需要保证 b 的指针在 c 的指针的左侧\n",
    "                while second < third and nums[second] + nums[third] > target:\n",
    "                    third -= 1\n",
    "                # 如果指针重合，随着 b 后续的增加\n",
    "                # 就不会有满足 a+b+c=0 并且 b<c 的 c 了，可以退出循环\n",
    "                if second == third:\n",
    "                    break\n",
    "                if nums[second] + nums[third] == target:\n",
    "                    ans.append([nums[first], nums[second], nums[third]])\n",
    "        \n",
    "        return ans\n",
    "\n",
    "# 作者：LeetCode-Solution\n",
    "# 链接：https://leetcode.cn/problems/3sum/solution/san-shu-zhi-he-by-leetcode-solution/\n",
    "# 来源：力扣（LeetCode）\n",
    "# 著作权归作者所有。商业转载请联系作者获得授权，非商业转载请注明出处。"
   ]
  },
  {
   "cell_type": "code",
   "execution_count": 12,
   "id": "166da6c7-6e9f-4df0-92ea-0d5d5ea27903",
   "metadata": {},
   "outputs": [],
   "source": [
    "class Solution:\n",
    "    def threeSum(self, nums: List[int]) -> List[List[int]]:\n",
    "        n = len(nums)\n",
    "        nums.sort()\n",
    "        res = []\n",
    "        for first in range(n):\n",
    "            if first > 0 and nums[first] == nums[first - 1]: continue\n",
    "            third = n - 1\n",
    "            target = - nums[first]\n",
    "            for second in range(first + 1, n):\n",
    "                if second > first + 1 and nums[second] == nums[second - 1]: continue\n",
    "                while second < third and nums[second] + nums[third] > target: third -= 1\n",
    "                if second == third: break\n",
    "                if nums[second] + nums[third] == target: \n",
    "                    res.append([nums[first], nums[second], nums[third]])\n",
    "        return res"
   ]
  },
  {
   "cell_type": "markdown",
   "id": "de877c33-37e5-4273-a5d3-4923c2824081",
   "metadata": {},
   "source": [
    "- 时间复杂度： O(n ^ 2)\n",
    "- 空间复杂度： O(log n), 排序所需空间。"
   ]
  },
  {
   "cell_type": "markdown",
   "id": "745150c2-1baf-4229-90d8-6ef84fec7f37",
   "metadata": {},
   "source": [
    "## 2. 矩阵置零"
   ]
  },
  {
   "cell_type": "code",
   "execution_count": 14,
   "id": "a26950e0-7445-40ac-991d-7d10fbc5b1b6",
   "metadata": {},
   "outputs": [],
   "source": [
    "class Solution:\n",
    "    def setZeroes(self, matrix: List[List[int]]) -> None:\n",
    "        \"\"\"\n",
    "        Do not return anything, modify matrix in-place instead.\n",
    "        \"\"\"\n",
    "        row, col = [], []\n",
    "        for i, r in enumerate(matrix):\n",
    "            for j, c in enumerate(r):\n",
    "                if c == 0:\n",
    "                    row.append(i)\n",
    "                    col.append(j)\n",
    "        for r in row:\n",
    "            for n in range(len(matrix[0])): matrix[r][n] = 0\n",
    "        for c in col:\n",
    "            for n in range(len(matrix)): matrix[n][c] = 0\n",
    "        "
   ]
  },
  {
   "cell_type": "markdown",
   "id": "6f176664-1fa4-40e1-ad58-0812ab594258",
   "metadata": {},
   "source": [
    "- 时间复杂度： O(mn)\n",
    "- 空间复杂度： O(m + n)"
   ]
  },
  {
   "cell_type": "markdown",
   "id": "d1a2c870-13a7-4484-8193-6ca1c5259365",
   "metadata": {},
   "source": [
    "使用两个标记变量：\n",
    "\n",
    "我们可以用矩阵的第一行和第一列代替方法一中的两个标记数组，以达到 O(1) 的额外空间。但这样会导致原数组的第一行和第一列被修改，无法记录它们是否原本包含 0。因此我们需要额外使用两个标记变量分别记录第一行和第一列是否原本包含 0。"
   ]
  },
  {
   "cell_type": "code",
   "execution_count": 27,
   "id": "60fef4c5-dfcb-411a-9afd-8a79d8bcbf60",
   "metadata": {},
   "outputs": [],
   "source": [
    "class Solution:\n",
    "    def setZeroes(self, matrix: List[List[int]]) -> None:\n",
    "        m, n = len(matrix), len(matrix[0])\n",
    "        flag_col0 = any(matrix[i][0] == 0 for i in range(m))\n",
    "        flag_row0 = any(matrix[0][j] == 0 for j in range(n))\n",
    "        \n",
    "        for i in range(1, m):\n",
    "            for j in range(1, n):\n",
    "                if matrix[i][j] == 0:\n",
    "                    matrix[i][0] = matrix[0][j] = 0\n",
    "        \n",
    "        for i in range(1, m):\n",
    "            for j in range(1, n):\n",
    "                if matrix[i][0] == 0 or matrix[0][j] == 0:\n",
    "                    matrix[i][j] = 0\n",
    "        \n",
    "        if flag_col0:\n",
    "            for i in range(m):\n",
    "                matrix[i][0] = 0\n",
    "        \n",
    "        if flag_row0:\n",
    "            for j in range(n):\n",
    "                matrix[0][j] = 0\n",
    "\n",
    "# 作者：LeetCode-Solution\n",
    "# 链接：https://leetcode.cn/problems/set-matrix-zeroes/solution/ju-zhen-zhi-ling-by-leetcode-solution-9ll7/\n",
    "# 来源：力扣（LeetCode）\n",
    "# 著作权归作者所有。商业转载请联系作者获得授权，非商业转载请注明出处。"
   ]
  },
  {
   "cell_type": "markdown",
   "id": "ab1c3398-59d2-402b-9629-e87e416580db",
   "metadata": {},
   "source": [
    "### python any:\n",
    "\n",
    "any() 函数用于判断给定的可迭代参数 iterable 是否全部为 False，则返回 False，如果有一个为 True，则返回 True。\n",
    "\n",
    "元素除了是 0、空、FALSE 外都算 TRUE。"
   ]
  },
  {
   "cell_type": "markdown",
   "id": "fc03c786-1b77-4b45-9056-4de584625858",
   "metadata": {},
   "source": [
    "使用一个标记变量：\n",
    "\n",
    "我们可以对方法二进一步优化，只使用一个标记变量记录第一列是否原本存在 0。这样，第一列的第一个元素即可以标记第一行是否出现 0。但为了防止每一列的第一个元素被提前更新，我们需要从最后一行开始，倒序地处理矩阵元素。"
   ]
  },
  {
   "cell_type": "code",
   "execution_count": 28,
   "id": "76ef47aa-2a20-445c-87b9-bd3b46719986",
   "metadata": {},
   "outputs": [],
   "source": [
    "class Solution:\n",
    "    def setZeroes(self, matrix: List[List[int]]) -> None:\n",
    "        m, n = len(matrix), len(matrix[0])\n",
    "        flag_col0 = False\n",
    "        \n",
    "        for i in range(m):\n",
    "            if matrix[i][0] == 0:\n",
    "                flag_col0 = True\n",
    "            for j in range(1, n):\n",
    "                if matrix[i][j] == 0:\n",
    "                    matrix[i][0] = matrix[0][j] = 0\n",
    "        \n",
    "        for i in range(m - 1, -1, -1):\n",
    "            for j in range(1, n):\n",
    "                if matrix[i][0] == 0 or matrix[0][j] == 0:\n",
    "                    matrix[i][j] = 0\n",
    "            if flag_col0:\n",
    "                matrix[i][0] = 0\n",
    "\n",
    "# 作者：LeetCode-Solution\n",
    "# 链接：https://leetcode.cn/problems/set-matrix-zeroes/solution/ju-zhen-zhi-ling-by-leetcode-solution-9ll7/\n",
    "# 来源：力扣（LeetCode）\n",
    "# 著作权归作者所有。商业转载请联系作者获得授权，非商业转载请注明出处。"
   ]
  },
  {
   "cell_type": "markdown",
   "id": "c936da79-936e-4dba-9ca2-3f2e9b27513c",
   "metadata": {},
   "source": [
    "## 3. 字母异位词分组"
   ]
  },
  {
   "cell_type": "markdown",
   "id": "b2f8dbd4-c30a-4b68-a3fb-bd8c78a1e072",
   "metadata": {},
   "source": [
    "由于字符串只包含小写字母，因此可以使用一个26维的元组来标记不同字符串。"
   ]
  },
  {
   "cell_type": "code",
   "execution_count": 35,
   "id": "1cc3ba2c-7337-46db-ab3b-b32f1dcb907c",
   "metadata": {},
   "outputs": [],
   "source": [
    "from collections import defaultdict\n",
    "class Solution:\n",
    "    def groupAnagrams(self, strs: List[str]) -> List[List[str]]:\n",
    "        def getkey(s):\n",
    "            if not s: return \"\"\n",
    "            key = [0] * 26\n",
    "            for ch in s:\n",
    "                key[ord(ch) - 97] += 1\n",
    "            return tuple(key)\n",
    "        cnt = defaultdict(list)\n",
    "        for s in strs:\n",
    "            cnt[getkey(s)].append(s)\n",
    "        res = []\n",
    "        for key in cnt:\n",
    "            res.append(cnt[key])\n",
    "        return res"
   ]
  },
  {
   "cell_type": "markdown",
   "id": "7de1ecbb-520c-4193-b29e-605fd9d2db24",
   "metadata": {},
   "source": [
    "- 时间复杂度：O(n(k + $|\\Sigma|$))\n",
    "- 空间复杂度： O(n(k + $|\\Sigma|$))"
   ]
  },
  {
   "cell_type": "code",
   "execution_count": null,
   "id": "e2fcf98c-bbc7-4ecf-95c9-7e765cf166b1",
   "metadata": {},
   "outputs": [],
   "source": [
    "class Solution:\n",
    "    def groupAnagrams(self, strs: List[str]) -> List[List[str]]:\n",
    "        mp = collections.defaultdict(list)\n",
    "\n",
    "        for st in strs:\n",
    "            key = \"\".join(sorted(st))\n",
    "            mp[key].append(st)\n",
    "        \n",
    "        return list(mp.values())\n",
    "\n",
    "# 作者：LeetCode-Solution\n",
    "# 链接：https://leetcode.cn/problems/group-anagrams/solution/zi-mu-yi-wei-ci-fen-zu-by-leetcode-solut-gyoc/\n",
    "# 来源：力扣（LeetCode）\n",
    "# 著作权归作者所有。商业转载请联系作者获得授权，非商业转载请注明出处。"
   ]
  },
  {
   "cell_type": "markdown",
   "id": "4bfa33fc-218b-4fc7-af4c-19a604b52817",
   "metadata": {},
   "source": [
    "也可以使用排序后的字符串作为键，但是时间复杂度会提高。"
   ]
  },
  {
   "cell_type": "markdown",
   "id": "d689f2f4-ccb8-482c-b875-0e538322360a",
   "metadata": {},
   "source": [
    "- 时间复杂度： O(nklogk)，其中n是strs中的字符串的数量，k是strs中的字符串的最大长度。需要遍历n个字符串，对于每个字符串，需要 O(klogk)的时间进行排序以及 O(1) 的时间更新翰洗标，因此总时间复杂度是 O(nklogk)。\n",
    "- 空间复杂度： O(nk)，其中n 是 strs 中的字符串的数量，k是strs中的字符串的最大长度，需要用哈希表存储全部字符串。"
   ]
  },
  {
   "cell_type": "markdown",
   "id": "4c175df3-1fc0-4cab-8ec3-50eebb9cf4c6",
   "metadata": {},
   "source": [
    "## 4. 无重复字符的最长子串"
   ]
  },
  {
   "cell_type": "markdown",
   "id": "97f900d5-21c4-4964-bb72-90c6589129ae",
   "metadata": {},
   "source": [
    "一眼 silde window"
   ]
  },
  {
   "cell_type": "code",
   "execution_count": 38,
   "id": "f9868fc0-8a25-4302-8920-0672733f1152",
   "metadata": {},
   "outputs": [],
   "source": [
    "from collections import deque\n",
    "class Solution:\n",
    "    def lengthOfLongestSubstring(self, s: str) -> int:\n",
    "        if not s: return 0\n",
    "        left = ans = 0\n",
    "        cnt = deque()\n",
    "        for i, ch in enumerate(s):\n",
    "            while ch in cnt: \n",
    "                ans = max(ans, i - left)\n",
    "                cnt.popleft()\n",
    "                left += 1\n",
    "            cnt.append(ch)\n",
    "        ans = max(ans, len(cnt))\n",
    "        return ans"
   ]
  },
  {
   "cell_type": "code",
   "execution_count": 40,
   "id": "7b812e0d-ea64-47ea-855a-c2b4b2af8a04",
   "metadata": {},
   "outputs": [],
   "source": [
    "class Solution:\n",
    "    def lengthOfLongestSubstring(self, s: str) -> int:\n",
    "        if not s:return 0\n",
    "        left = 0\n",
    "        lookup = set()\n",
    "        n = len(s)\n",
    "        max_len = 0\n",
    "        cur_len = 0\n",
    "        for i in range(n):\n",
    "            cur_len += 1\n",
    "            while s[i] in lookup:\n",
    "                lookup.remove(s[left])\n",
    "                left += 1\n",
    "                cur_len -= 1\n",
    "            if cur_len > max_len:max_len = cur_len\n",
    "            lookup.add(s[i])\n",
    "        return max_len\n",
    "\n",
    "# 作者：powcai\n",
    "# 链接：https://leetcode.cn/problems/longest-substring-without-repeating-characters/solution/hua-dong-chuang-kou-by-powcai/\n",
    "# 来源：力扣（LeetCode）\n",
    "# 著作权归作者所有。商业转载请联系作者获得授权，非商业转载请注明出处。"
   ]
  },
  {
   "cell_type": "markdown",
   "id": "c426597e-7099-42f4-806f-97e620f2ba32",
   "metadata": {},
   "source": [
    "难道popleft很慢吗？"
   ]
  },
  {
   "cell_type": "code",
   "execution_count": 42,
   "id": "7cecab46-b4be-4ccb-9a5f-11d2e23a29a1",
   "metadata": {},
   "outputs": [],
   "source": [
    "from collections import deque\n",
    "class Solution:\n",
    "    def lengthOfLongestSubstring(self, s: str) -> int:\n",
    "        if not s: return 0\n",
    "        left = ans = 0\n",
    "        cnt = set()\n",
    "        for i, ch in enumerate(s):\n",
    "            while ch in cnt: \n",
    "                ans = max(ans, i - left)\n",
    "                cnt.remove(s[left])\n",
    "                left += 1\n",
    "            cnt.add(ch)\n",
    "        ans = max(ans, len(cnt))\n",
    "        return ans"
   ]
  },
  {
   "cell_type": "markdown",
   "id": "da997873-da41-4b0a-b31d-04e2aee24f67",
   "metadata": {},
   "source": [
    "popleft貌似很慢"
   ]
  },
  {
   "cell_type": "markdown",
   "id": "ae8bc68f-cfeb-4ed7-8516-017ac299c725",
   "metadata": {},
   "source": [
    "## 5. 最长回文子串"
   ]
  },
  {
   "cell_type": "markdown",
   "id": "85b3f11f-fb52-47e7-9831-131581f097dd",
   "metadata": {},
   "source": [
    "首先是中心扩散法：\n",
    "对于一个字符串中的字符，寻找回文串：\n",
    "1. 首先往左寻找与当前位置相同的字符，直到遇到不相等的为止。\n",
    "2. 然后往右寻找与当前位置相同的字符，直到遇到不相等的为止。\n",
    "3. 最后左右双向扩散，直到左和右不相等为止。"
   ]
  },
  {
   "cell_type": "code",
   "execution_count": 45,
   "id": "5515d8b3-81f5-4a43-a436-53acf055dfa3",
   "metadata": {},
   "outputs": [],
   "source": [
    "class Solution:\n",
    "    def longestPalindrome(self, s: str) -> str:\n",
    "        n = len(s)\n",
    "        left = right = maxstart = maxlen = 0\n",
    "        leng = 1\n",
    "        for i in range(n):\n",
    "            left, right = i - 1, i + 1\n",
    "            while left >= 0 and s[left] == s[i]: \n",
    "                leng += 1\n",
    "                left -= 1\n",
    "            while right < n and s[right] == s[i]: \n",
    "                leng += 1\n",
    "                right += 1\n",
    "            while left >= 0 and right < n and s[left] == s[right]:\n",
    "                leng += 2\n",
    "                left -= 1\n",
    "                right += 1\n",
    "            if leng > maxlen:\n",
    "                maxlen = leng\n",
    "                maxstart = left\n",
    "            leng = 1\n",
    "        return s[maxstart + 1: maxstart + maxlen + 1]"
   ]
  },
  {
   "cell_type": "markdown",
   "id": "86ad9b5f-4a1e-49d5-85ce-184a8086c859",
   "metadata": {},
   "source": [
    "- 时间复杂度: O(n ^ 2)\n",
    "- 空间复杂度： O(1)"
   ]
  },
  {
   "cell_type": "markdown",
   "id": "71f42f89-caf3-41e2-aa0f-dd163937d655",
   "metadata": {},
   "source": [
    "更好的写法"
   ]
  },
  {
   "cell_type": "code",
   "execution_count": 47,
   "id": "8e5e3936-1a89-4829-8588-87018422a58e",
   "metadata": {},
   "outputs": [],
   "source": [
    "class Solution:\n",
    "    def expandAroundCenter(self, s, left, right):\n",
    "        while left >= 0 and right < len(s) and s[left] == s[right]:\n",
    "            left -= 1\n",
    "            right += 1\n",
    "        return left + 1, right - 1\n",
    "\n",
    "    def longestPalindrome(self, s: str) -> str:\n",
    "        start, end = 0, 0\n",
    "        for i in range(len(s)):\n",
    "            left1, right1 = self.expandAroundCenter(s, i, i)\n",
    "            left2, right2 = self.expandAroundCenter(s, i, i + 1)\n",
    "            # 分别对应扩散的两种情况，即以一个字母为中心或两个相同字母为中心。\n",
    "            if right1 - left1 > end - start:\n",
    "                start, end = left1, right1\n",
    "            if right2 - left2 > end - start:\n",
    "                start, end = left2, right2\n",
    "        return s[start: end + 1]\n",
    "\n",
    "# 作者：LeetCode-Solution\n",
    "# 链接：https://leetcode.cn/problems/longest-palindromic-substring/solution/zui-chang-hui-wen-zi-chuan-by-leetcode-solution/\n",
    "# 来源：力扣（LeetCode）\n",
    "# 著作权归作者所有。商业转载请联系作者获得授权，非商业转载请注明出处。"
   ]
  },
  {
   "cell_type": "code",
   "execution_count": 49,
   "id": "0879a337-6f51-4edf-a5d6-6700526f106d",
   "metadata": {},
   "outputs": [],
   "source": [
    "class Solution:\n",
    "    def longestPalindrome(self, s: str) -> str:\n",
    "        n = len(s)\n",
    "        start = end = 0\n",
    "        def expand(left, right):\n",
    "            while left >= 0 and right < n and s[left] == s[right]:\n",
    "                left -= 1\n",
    "                right += 1\n",
    "            return left + 1, right - 1\n",
    "        \n",
    "        for i in range(n):\n",
    "            left1, right1 = expand(i, i)\n",
    "            left2, right2 = expand(i, i + 1)\n",
    "            if right1 - left1 > end - start:\n",
    "                start, end = left1, right1\n",
    "            if right2 - left2 > end - start:\n",
    "                start, end = left2, right2\n",
    "        return s[start: end + 1]"
   ]
  },
  {
   "cell_type": "markdown",
   "id": "c51b39bd-e47f-43ef-a351-53e192f4e6b8",
   "metadata": {},
   "source": [
    "## 6. 递增的三元子序列"
   ]
  },
  {
   "cell_type": "markdown",
   "id": "bdaeda77-f8b0-491c-9490-8a2385400e50",
   "metadata": {},
   "source": [
    "朴素想法：枚举中间数字"
   ]
  },
  {
   "cell_type": "code",
   "execution_count": 51,
   "id": "37e8b615-74d1-4005-940b-fe8ef23a9bf7",
   "metadata": {},
   "outputs": [],
   "source": [
    "class Solution:\n",
    "    def increasingTriplet(self, nums: List[int]) -> bool:\n",
    "        n = len(nums)\n",
    "        for i in range(1, n - 1):\n",
    "            cur = nums[i]\n",
    "            cnt = 0\n",
    "            for j in range(0, i):\n",
    "                if nums[j] < cur:\n",
    "                    cnt += 1\n",
    "                    break\n",
    "            if not cnt: continue\n",
    "            for k in range(i + 1, n):\n",
    "                if nums[k] > cur:\n",
    "                    return True\n",
    "        return False"
   ]
  },
  {
   "cell_type": "markdown",
   "id": "75dc75f5-41e6-45c0-8280-cfec147d0c67",
   "metadata": {},
   "source": [
    "O(n ^ 2) 复杂度超时，看来只能想 O(n) 复杂度的算法了。"
   ]
  },
  {
   "cell_type": "markdown",
   "id": "fb557912-9ef7-4db1-aa0d-541ad1ac2915",
   "metadata": {},
   "source": [
    "好像有点思路了：\n",
    "\n",
    "遍历过程中记录由小变大的数字关系，如先遍历到 a ，再遍历到 b ， 而 a < b；则后序遍历只要有数字大于 b 即可返回 True ， 同时更新满足条件的最小值。"
   ]
  },
  {
   "cell_type": "code",
   "execution_count": 56,
   "id": "219c2da0-31e3-4fa4-b7eb-d76b43b1044b",
   "metadata": {},
   "outputs": [],
   "source": [
    "class Solution:\n",
    "    def increasingTriplet(self, nums: List[int]) -> bool:\n",
    "        min1, min2 = nums[0], float(\"Inf\")\n",
    "        for num in nums[1:]:\n",
    "            if num > min2: return True\n",
    "            if num < min1: min1 = num\n",
    "            elif min1 < num < min2: min2 = num\n",
    "        return False                    "
   ]
  },
  {
   "cell_type": "markdown",
   "id": "c909265d-b88b-4bfb-b132-153f73ff5433",
   "metadata": {},
   "source": [
    "elif 后不需要判断小于 min2 了，因为大于的话直接 True"
   ]
  },
  {
   "cell_type": "code",
   "execution_count": 57,
   "id": "51c1db01-bd89-45d1-89e3-632a81e46d63",
   "metadata": {},
   "outputs": [],
   "source": [
    "class Solution:\n",
    "    def increasingTriplet(self, nums: List[int]) -> bool:\n",
    "        min1, min2 = nums[0], float(\"Inf\")\n",
    "        for num in nums[1:]:\n",
    "            if num > min2: return True\n",
    "            if num > min1: min2 = num\n",
    "            else: min1 = num\n",
    "        return False                    "
   ]
  },
  {
   "cell_type": "markdown",
   "id": "8ddbaad5-0c2b-422f-889d-a66ea6f64e6a",
   "metadata": {},
   "source": [
    "- 时间复杂度： O(n)\n",
    "- 空间复杂度： O(1)"
   ]
  },
  {
   "cell_type": "markdown",
   "id": "f8fcd10b-064b-44fc-ae13-e31148a8b6ac",
   "metadata": {
    "tags": []
   },
   "source": [
    "# 链表"
   ]
  },
  {
   "cell_type": "markdown",
   "id": "1bbd7570-7c2b-40e4-9a29-81bc4d479cf3",
   "metadata": {},
   "source": [
    "## 1. 两数相加"
   ]
  },
  {
   "cell_type": "code",
   "execution_count": 1,
   "id": "824cbaf2-ec20-4763-872a-68b70ecc3957",
   "metadata": {},
   "outputs": [],
   "source": [
    "# Definition for singly-linked list.\n",
    "class ListNode:\n",
    "    def __init__(self, val=0, next=None):\n",
    "        self.val = val\n",
    "        self.next = next"
   ]
  },
  {
   "cell_type": "code",
   "execution_count": 6,
   "id": "3573cac5-1577-43f6-8b89-6785502d506f",
   "metadata": {},
   "outputs": [],
   "source": [
    "from typing import Optional\n",
    "class Solution:\n",
    "    def addTwoNumbers(self, l1: Optional[ListNode], l2: Optional[ListNode]) -> Optional[ListNode]:\n",
    "        carry = 0\n",
    "        cur1, cur2 = l1, l2\n",
    "        while cur1.next and cur2.next:\n",
    "            carry, cur1.val = divmod(cur1.val + cur2.val + carry, 10)\n",
    "            cur1 = cur1.next\n",
    "            cur2 = cur2.next\n",
    "        carry, cur1.val = divmod(cur1.val + cur2.val + carry, 10)\n",
    "        if cur2.next: cur1.next = cur2.next\n",
    "        while cur1.next:\n",
    "            cur1 = cur1.next\n",
    "            carry, cur1.val = divmod(cur1.val + carry, 10)\n",
    "        if carry:\n",
    "            cur1.next = ListNode(1)\n",
    "        return l1"
   ]
  },
  {
   "cell_type": "markdown",
   "id": "c40892f3-8c1a-4740-81a4-3d6cbe8d83ef",
   "metadata": {},
   "source": [
    "- 时间复杂度：O(max(m,n))\n",
    "- 空间复杂度：O(1)"
   ]
  },
  {
   "cell_type": "markdown",
   "id": "19a22d45-2720-4f99-8cf4-c306514ccca1",
   "metadata": {},
   "source": [
    "## 2. 奇偶链表"
   ]
  },
  {
   "cell_type": "markdown",
   "id": "795053a2-14b8-4e4d-8215-c8d79edf8f2b",
   "metadata": {},
   "source": [
    "问题的关键：\n",
    "\n",
    "如果想想成数字间的交换，那恐怕会非常复杂，但是——这是链表，链表节点的前后关系可以通过next来直接改变，很容易做各种排列组合操作，这是不同于数组的地方。"
   ]
  },
  {
   "cell_type": "code",
   "execution_count": 19,
   "id": "54751e7e-830b-418d-a4f2-f86a8645096a",
   "metadata": {},
   "outputs": [],
   "source": [
    "class Solution:\n",
    "    def oddEvenList(self, head: Optional[ListNode]) -> Optional[ListNode]:\n",
    "        if not head: return \n",
    "        odd, even = head, head.next\n",
    "        nxt = head.next\n",
    "        while odd and even and odd.next.next:\n",
    "            odd.next = odd.next.next\n",
    "            even.next = even.next.next\n",
    "            odd = odd.next\n",
    "            even = even.next\n",
    "        odd.next = nxt\n",
    "        return head"
   ]
  },
  {
   "cell_type": "code",
   "execution_count": 20,
   "id": "482751d3-619f-44ff-b2cd-edba7a404980",
   "metadata": {},
   "outputs": [],
   "source": [
    "class Solution:\n",
    "    def oddEvenList(self, head: ListNode) -> ListNode:\n",
    "        if not head:\n",
    "            return head\n",
    "        \n",
    "        evenHead = head.next\n",
    "        odd, even = head, evenHead\n",
    "        while even and even.next:\n",
    "            odd.next = even.next\n",
    "            odd = odd.next\n",
    "            even.next = odd.next\n",
    "            even = even.next\n",
    "        odd.next = evenHead\n",
    "        return head\n",
    "\n",
    "# 作者：LeetCode-Solution\n",
    "# 链接：https://leetcode.cn/problems/odd-even-linked-list/solution/qi-ou-lian-biao-by-leetcode-solution/\n",
    "# 来源：力扣（LeetCode）\n",
    "# 著作权归作者所有。商业转载请联系作者获得授权，非商业转载请注明出处。"
   ]
  },
  {
   "cell_type": "markdown",
   "id": "7e24d980-ea1d-4f77-b532-95dc1263f1ae",
   "metadata": {},
   "source": [
    "官解的next逻辑比较好"
   ]
  },
  {
   "cell_type": "markdown",
   "id": "2ee3729e-95a0-497e-8493-057415a6869f",
   "metadata": {},
   "source": [
    "## 3. 相交链表"
   ]
  },
  {
   "cell_type": "code",
   "execution_count": 21,
   "id": "d9e5ad3b-4322-4cf3-b413-fd780a730508",
   "metadata": {},
   "outputs": [],
   "source": [
    "class Solution:\n",
    "    def getIntersectionNode(self, headA: ListNode, headB: ListNode) -> Optional[ListNode]:\n",
    "        stk = []\n",
    "        cur1, cur2 = headA, headB\n",
    "        while cur1:\n",
    "            stk.append(cur1)\n",
    "            cur1 = cur1.next\n",
    "        while cur2:\n",
    "            if cur2 in stk: return cur2\n",
    "            cur2 = cur2.next\n",
    "        return"
   ]
  },
  {
   "cell_type": "markdown",
   "id": "babec6de-1c60-4291-ac9c-0b018eacd4ac",
   "metadata": {},
   "source": [
    "- 时间复杂度： O(n) ?\n",
    "- 空间复杂度：O(n)"
   ]
  },
  {
   "cell_type": "markdown",
   "id": "859c3339-039b-4cb3-a7fe-937d3daeef46",
   "metadata": {},
   "source": [
    "双指针可以达到 O(1) 的空间复杂度，不过也比较难想了。"
   ]
  },
  {
   "cell_type": "code",
   "execution_count": 22,
   "id": "33af4f03-48b1-401f-94e6-e84ccbca583c",
   "metadata": {},
   "outputs": [],
   "source": [
    "class Solution:\n",
    "    def getIntersectionNode(self, headA: ListNode, headB: ListNode) -> Optional[ListNode]:\n",
    "        if not headA or not headB: return\n",
    "        p1, p2 = headA, headB\n",
    "        while p1 != p2:\n",
    "            p1 = headB if not p1 else p1.next\n",
    "            p2 = headA if not p2 else p2.next\n",
    "        return p1"
   ]
  },
  {
   "cell_type": "markdown",
   "id": "adfedb9a-4be8-4bf3-80f5-c2eda4a53e4c",
   "metadata": {},
   "source": [
    "每个指针都把两条链表的节点都遍历一遍，最后重合的地方就是交点。"
   ]
  },
  {
   "cell_type": "markdown",
   "id": "2e06fe50-fcf4-4b5d-a7d8-4fe7b89dea82",
   "metadata": {
    "tags": []
   },
   "source": [
    "# 树和图"
   ]
  },
  {
   "cell_type": "markdown",
   "id": "e2a4469a-f5ce-4ef9-b7b7-62a0dbdddfed",
   "metadata": {},
   "source": [
    "## 1. 二叉树的中序遍历"
   ]
  },
  {
   "cell_type": "code",
   "execution_count": 3,
   "id": "45cd16f6-a08b-4179-bdcd-e0adaaa4605d",
   "metadata": {},
   "outputs": [],
   "source": [
    "# Definition for a binary tree node.\n",
    "class TreeNode:\n",
    "    def __init__(self, val=0, left=None, right=None):\n",
    "        self.val = val\n",
    "        self.left = left\n",
    "        self.right = right"
   ]
  },
  {
   "cell_type": "code",
   "execution_count": 26,
   "id": "8f974283-e327-40fc-9c68-d0dcb27981cc",
   "metadata": {},
   "outputs": [],
   "source": [
    "from typing import List\n",
    "class Solution:\n",
    "    def inorderTraversal(self, root: Optional[TreeNode]) -> List[int]:\n",
    "        res = []\n",
    "        def dfs(root):\n",
    "            if not root: return\n",
    "            dfs(root.left)\n",
    "            res.append(root.val)\n",
    "            dfs(root.right)\n",
    "        dfs(root)\n",
    "        return res"
   ]
  },
  {
   "cell_type": "code",
   "execution_count": 27,
   "id": "b4fe40cb-f2dd-4fd8-9b29-82d47545c689",
   "metadata": {},
   "outputs": [],
   "source": [
    "class Solution:\n",
    "    def inorderTraversal(self, root: Optional[TreeNode]) -> List[int]:\n",
    "        stk, cur = [], root\n",
    "        res = []\n",
    "        while stk or cur:\n",
    "            while cur: \n",
    "                stk.append(cur)\n",
    "                cur = cur.left\n",
    "            cur = stk.pop()\n",
    "            res.append(cur.val)\n",
    "            cur = cur.right\n",
    "        return res"
   ]
  },
  {
   "cell_type": "markdown",
   "id": "57770321-d6d5-4198-9e19-5e58d1731c7e",
   "metadata": {},
   "source": [
    "## 2. 二叉树的锯齿形层次遍历"
   ]
  },
  {
   "cell_type": "code",
   "execution_count": 33,
   "id": "63b83dbb-cb5c-42f6-9aeb-a1171e03f172",
   "metadata": {},
   "outputs": [],
   "source": [
    "from collections import deque\n",
    "class Solution:\n",
    "    def zigzagLevelOrder(self, root: Optional[TreeNode]) -> List[List[int]]:\n",
    "        if not root: return []\n",
    "        dq, res, flag = deque(), [], 1\n",
    "        dq.append(root)\n",
    "        while len(dq) != 0:\n",
    "            temp= []\n",
    "            for i in range(len(dq)):\n",
    "                node = dq.popleft()\n",
    "                temp.append(node.val)\n",
    "                if node.left: dq.append(node.left)\n",
    "                if node.right: dq.append(node.right)\n",
    "            if flag == 1:\n",
    "                res.append(temp[:])\n",
    "                flag = 0\n",
    "            else:\n",
    "                res.append(temp[::-1])\n",
    "                flag = 1\n",
    "        return res"
   ]
  },
  {
   "cell_type": "markdown",
   "id": "70562879-e9a8-4d07-8ce3-98a479943b2b",
   "metadata": {},
   "source": [
    "## 3. 从前序与中序遍历序列构造二叉树"
   ]
  },
  {
   "cell_type": "code",
   "execution_count": 4,
   "id": "08262802-408e-4df3-a1fc-b4a41c2006d6",
   "metadata": {},
   "outputs": [],
   "source": [
    "from typing import List\n",
    "class Solution:\n",
    "    def buildTree(self, preorder: List[int], inorder: List[int]) -> TreeNode:\n",
    "        def myBuildTree(preorder_left: int, preorder_right: int, \n",
    "                        inorder_left: int, inorder_right: int):\n",
    "            if preorder_left > preorder_right:\n",
    "                return None\n",
    "            \n",
    "            # 前序遍历中的第一个节点就是根节点\n",
    "            preorder_root = preorder_left\n",
    "            # 在中序遍历中定位根节点\n",
    "            inorder_root = index[preorder[preorder_root]]\n",
    "            \n",
    "            # 先把根节点建立出来\n",
    "            root = TreeNode(preorder[preorder_root])\n",
    "            # 得到左子树中的节点数目\n",
    "            size_left_subtree = inorder_root - inorder_left\n",
    "            # 递归地构造左子树，并连接到根节点\n",
    "            # 先序遍历中「从 左边界+1 开始的 size_left_subtree」\n",
    "            # 个元素就对应了中序遍历中「从 左边界 开始到 根节点定位-1」的元素\n",
    "            root.left = myBuildTree(\n",
    "                preorder_left + 1, \n",
    "                preorder_left + size_left_subtree, \n",
    "                inorder_left, \n",
    "                inorder_root - 1\n",
    "            )\n",
    "            # 递归地构造右子树，并连接到根节点\n",
    "            # 先序遍历中「从 左边界+1+左子树节点数目 开始到 右边界」\n",
    "            # 的元素就对应了中序遍历中「从 根节点定位+1 到 右边界」的元素\n",
    "            root.right = myBuildTree(\n",
    "                preorder_left + size_left_subtree + 1, \n",
    "                preorder_right, \n",
    "                inorder_root + 1, \n",
    "                inorder_right\n",
    "            )\n",
    "            return root\n",
    "        \n",
    "        n = len(preorder)\n",
    "        # 构造哈希映射，帮助我们快速定位根节点\n",
    "        index = {element: i for i, element in enumerate(inorder)}\n",
    "        return myBuildTree(0, n - 1, 0, n - 1)\n",
    "\n",
    "# 作者：LeetCode-Solution\n",
    "# 链接：https://leetcode.cn/problems/construct-binary-tree-from-preorder-and-inorder-traversal/solution/cong-qian-xu-yu-zhong-xu-bian-li-xu-lie-gou-zao-9/\n",
    "# 来源：力扣（LeetCode）\n",
    "# 著作权归作者所有。商业转载请联系作者获得授权，非商业转载请注明出处。"
   ]
  },
  {
   "cell_type": "markdown",
   "id": "b1da66be-78e8-4dfe-8a7e-b716ec925735",
   "metadata": {},
   "source": [
    "对于任意一棵树而言，前序遍历的形式总是：\n",
    "> [根节点, [左子树的前序遍历结果], [右子树的前序遍历结果]]\n",
    "\n",
    "即根节点总是前序遍历中的第一个节点。而中序遍历的形式总是\n",
    "> [[左子树的中序遍历结果], [根节点], [右子树的中序遍历结果]]\n",
    "\n",
    "只要我们在中序遍历中定位到根节点，那么我们就可以分别知道左子树和右子树中的节点数目/由于同一颗字数的前序遍历和中序遍历的长度显然是相同的，因此我们就可以对应到前序遍历的结果中，对上述行驶中的所有左右括号进行定位。\n",
    "\n",
    "这样一来，我们就知道了左子树的前序遍历和中序遍历结果，以及右子树的前序遍历和中序遍历结果，我们就可以递归地构造出左子树和右子树，再将这两棵子树接到根节点的左右位置。\n",
    "\n",
    "细节：\n",
    "\n",
    "在中序遍历中对根节点进行定位时，一种简单的方法时直接扫描整个中序遍历的结果并找出根节点，但这样做的时间复杂度较高。我们可以考虑使用哈希表来帮助我们快速地定位根节点。对于哈希映射中的每个键值对，键表示一个元素（结点的值），值表示其在中序遍历中的出现位置，在构造二叉树的过程之前，我们可以对中序遍历的列表进行一遍扫描，就可以构造出这个哈希映射，在此后构造二叉树的过程中，我们就只需要O(1)的时间对根节点进行定位了。"
   ]
  },
  {
   "cell_type": "code",
   "execution_count": 6,
   "id": "180053ec-c54a-4009-8444-6dcbe75ab346",
   "metadata": {},
   "outputs": [],
   "source": [
    "from typing import Optional\n",
    "class Solution:\n",
    "    def buildTree(self, preorder: List[int], inorder: List[int]) -> Optional[TreeNode]:\n",
    "        def build(preleft, preright, inleft, inright):\n",
    "            if preleft > preright: return\n",
    "            RootVal = preorder[preleft]\n",
    "            curRoot = TreeNode(RootVal)\n",
    "            RootIdx = query[RootVal]\n",
    "            curRoot.left = build(\n",
    "                preleft + 1,\n",
    "                preleft + RootIdx - inleft,\n",
    "                inleft,\n",
    "                RootIdx - 1\n",
    "            )\n",
    "            curRoot.right = build(\n",
    "                preleft + RootIdx - inleft + 1,\n",
    "                preright,\n",
    "                RootIdx + 1,\n",
    "                inright\n",
    "            )\n",
    "            return curRoot\n",
    "        \n",
    "        n = len(inorder)\n",
    "        query = {element: i for i, element in enumerate(inorder)}\n",
    "        return build(0, n - 1, 0, n - 1)"
   ]
  },
  {
   "cell_type": "markdown",
   "id": "523369e6-234b-44de-97f5-bf64f69d0211",
   "metadata": {},
   "source": [
    "- 时间复杂度： O(n)\n",
    "- 空间复杂度： O(n)"
   ]
  },
  {
   "cell_type": "markdown",
   "id": "bdd079df-2265-498a-9fbd-9e77a01fb65d",
   "metadata": {},
   "source": [
    "迭代解法太复杂了，暂时不看了。"
   ]
  },
  {
   "cell_type": "markdown",
   "id": "43d7624f-87c4-4b21-a0ff-a38b3c4e3910",
   "metadata": {},
   "source": [
    "## 4. 填充每个节点的下一个右侧节点指针"
   ]
  },
  {
   "cell_type": "code",
   "execution_count": 10,
   "id": "c3ba1567-591e-486a-8cdf-2c0a994820bd",
   "metadata": {},
   "outputs": [],
   "source": [
    "from collections import deque\n",
    "class Solution:\n",
    "    def connect(self, root: 'Optional[Node]') -> 'Optional[Node]':\n",
    "        stk = deque([root])\n",
    "        while stk:\n",
    "            for _ in range(len(stk)):\n",
    "                cur = stk.popleft()\n",
    "                if stk: cur.next = stk[0]\n",
    "                if cur.left: stk.append(cur.left)\n",
    "                if cur.right: stk.append(cur.right)\n",
    "            cur.next = None\n",
    "        return root"
   ]
  },
  {
   "cell_type": "markdown",
   "id": "f4dbcf2d-a965-4d2c-b3af-9510d7c8ba80",
   "metadata": {},
   "source": [
    "- 时间复杂度：O(n)\n",
    "- 空间复杂度：O(n)"
   ]
  },
  {
   "cell_type": "code",
   "execution_count": null,
   "id": "75aa12a8-addb-4ced-9fb3-9627a8bf91d4",
   "metadata": {},
   "outputs": [],
   "source": [
    "class Solution:\n",
    "    def connect(self, root: 'Node') -> 'Node':\n",
    "        \n",
    "        if not root:\n",
    "            return root\n",
    "        \n",
    "        # 从根节点开始\n",
    "        leftmost = root\n",
    "        \n",
    "        while leftmost.left:\n",
    "            \n",
    "            # 遍历这一层节点组织成的链表，为下一层的节点更新 next 指针\n",
    "            head = leftmost\n",
    "            while head:\n",
    "                \n",
    "                # CONNECTION 1\n",
    "                head.left.next = head.right\n",
    "                \n",
    "                # CONNECTION 2\n",
    "                if head.next:\n",
    "                    head.right.next = head.next.left\n",
    "                \n",
    "                # 指针向后移动\n",
    "                head = head.next\n",
    "            \n",
    "            # 去下一层的最左的节点\n",
    "            leftmost = leftmost.left\n",
    "        \n",
    "        return root \n",
    "\n",
    "# 作者：LeetCode-Solution\n",
    "# 链接：https://leetcode.cn/problems/populating-next-right-pointers-in-each-node/solution/tian-chong-mei-ge-jie-dian-de-xia-yi-ge-you-ce-2-4/\n",
    "# 来源：力扣（LeetCode）\n",
    "# 著作权归作者所有。商业转载请联系作者获得授权，非商业转载请注明出处。"
   ]
  },
  {
   "cell_type": "markdown",
   "id": "c8730fa3-2540-4109-a146-cbfd94a498d0",
   "metadata": {},
   "source": [
    "空间O(1)的方法：利用上一层已经建立好的next信息来辅助建立这一层的next"
   ]
  },
  {
   "cell_type": "code",
   "execution_count": 12,
   "id": "13f54e17-63c0-42f2-85de-4d2e9ff52bfc",
   "metadata": {},
   "outputs": [],
   "source": [
    "class Solution:\n",
    "    def connect(self, root: 'Node') -> 'Node':\n",
    "        if not root: return root\n",
    "        leftmost = root\n",
    "        while leftmost.left:\n",
    "            head = leftmost\n",
    "            while head:\n",
    "                head.left.next = head.right\n",
    "                if head.next: head.right.next = head.next.left\n",
    "                head = head.next\n",
    "            leftmost = leftmost.left\n",
    "        return root "
   ]
  },
  {
   "cell_type": "markdown",
   "id": "8d3ad793-dbeb-4465-90b6-3a5ae03200d1",
   "metadata": {},
   "source": [
    "像一个自动机"
   ]
  },
  {
   "cell_type": "markdown",
   "id": "af1d8968-a4f0-4c27-9a89-578ed8f6855c",
   "metadata": {},
   "source": [
    "## 5. 二叉搜索树中第K小的元素"
   ]
  },
  {
   "cell_type": "code",
   "execution_count": 13,
   "id": "7e87fb08-0f0a-4603-8fba-7d9ba672e243",
   "metadata": {},
   "outputs": [],
   "source": [
    "class Solution:\n",
    "    def kthSmallest(self, root: Optional[TreeNode], k: int) -> int:\n",
    "        res = []\n",
    "        def dfs(root):\n",
    "            if not root: return \n",
    "            dfs(root.left)\n",
    "            res.append(root.val)\n",
    "            dfs(root.right)\n",
    "        dfs(root)\n",
    "        return res[k - 1]"
   ]
  },
  {
   "cell_type": "markdown",
   "id": "e69b3482-5edc-4912-997b-d90373958666",
   "metadata": {},
   "source": [
    "- 时间复杂度： O(n)\n",
    "- 空间复杂度：O(n)"
   ]
  },
  {
   "cell_type": "markdown",
   "id": "b671a81c-7e50-4f05-8514-e076212f7220",
   "metadata": {},
   "source": [
    "中序第K个遍历到的不就是要求的答案吗？"
   ]
  },
  {
   "cell_type": "code",
   "execution_count": 17,
   "id": "03e36b2e-4772-4e00-9c12-2aaed6ede6e1",
   "metadata": {},
   "outputs": [],
   "source": [
    "class Solution:\n",
    "    def kthSmallest(self, root: Optional[TreeNode], k: int) -> int:\n",
    "        stk, cur, cnt = [], root, 0\n",
    "        while stk or cur:\n",
    "            while cur:\n",
    "                stk.append(cur)\n",
    "                cur = cur.left\n",
    "            cur = stk.pop()\n",
    "            cnt += 1\n",
    "            if cnt == k: return cur.val\n",
    "            cur = cur.right"
   ]
  },
  {
   "cell_type": "markdown",
   "id": "77cfac64-ae99-4b03-839b-41f9e9c5e0a1",
   "metadata": {},
   "source": [
    "- 时间复杂度：O(H + k)，其中H是树的高度\n",
    "- 空间复杂度：O(H)"
   ]
  },
  {
   "cell_type": "markdown",
   "id": "0fcfd937-565a-4325-8b22-e4f96edb0e95",
   "metadata": {},
   "source": [
    "### 方法二：记录子树的节点数\n",
    "> 如果你需要频繁地查找第k小的值，你将如何优化算法？"
   ]
  },
  {
   "cell_type": "markdown",
   "id": "3f2bc83a-6c67-47ea-8f0e-6b3751f3636e",
   "metadata": {},
   "source": [
    "在方法一中，我们之所以需要中序遍历前k个元素，是因为我们不知道子树的结点数量，不得不通过遍历子树的方式来获知。\n",
    "\n",
    "因此，我们可以记录下以每个节点为根节点的子树的节点数，并在查找第k小的值时，使用如下方法搜索：\n",
    "- 令node等于根节点，开始搜索。\n",
    "- 对当前节点node进行如下操作：\n",
    "    - 如果node的左子树的结点数left小于k-1，则第k小的元素一定在node的右子树中，令node等于其的右子节点，k等于k - left - 1， 并继续搜索；\n",
    "    - 如果node的左子树结点数left等于k-1，则第k小的元素即为node，结束搜索并返回node即可；\n",
    "    - 如果node的左子树的结点数left大于k-1，则第k小的元素一定在node的左子树中，令node等于其左子结点，并继续搜索。\n",
    "    \n",
    "在实现中，我们既可以将以每个结点为根节点的子树的结点数存储在结点中，也可以将其记录在哈希表中。"
   ]
  },
  {
   "cell_type": "code",
   "execution_count": null,
   "id": "9b086517-6ee6-4fbc-a9fc-394a0a6a0182",
   "metadata": {},
   "outputs": [],
   "source": [
    "class MyBst:\n",
    "    def __init__(self, root: TreeNode):\n",
    "        self.root = root\n",
    "\n",
    "        # 统计以每个结点为根结点的子树的结点数，并存储在哈希表中\n",
    "        self._node_num = {}\n",
    "        self._count_node_num(root)\n",
    "\n",
    "    def kth_smallest(self, k: int):\n",
    "        \"\"\"返回二叉搜索树中第k小的元素\"\"\"\n",
    "        node = self.root\n",
    "        while node:\n",
    "            left = self._get_node_num(node.left)\n",
    "            if left < k - 1:\n",
    "                node = node.right\n",
    "                k -= left + 1\n",
    "            elif left == k - 1:\n",
    "                return node.val\n",
    "            else:\n",
    "                node = node.left\n",
    "\n",
    "    def _count_node_num(self, node) -> int:\n",
    "        \"\"\"统计以node为根结点的子树的结点数\"\"\"\n",
    "        if not node:\n",
    "            return 0\n",
    "        self._node_num[node] = 1 + self._count_node_num(node.left) + self._count_node_num(node.right)\n",
    "        return self._node_num[node]\n",
    "\n",
    "    def _get_node_num(self, node) -> int:\n",
    "        \"\"\"获取以node为根结点的子树的结点数\"\"\"\n",
    "        return self._node_num[node] if node is not None else 0\n",
    "\n",
    "\n",
    "class Solution:\n",
    "    def kthSmallest(self, root: TreeNode, k: int) -> int:\n",
    "        bst = MyBst(root)\n",
    "        return bst.kth_smallest(k)\n",
    "\n",
    "# 作者：LeetCode-Solution\n",
    "# 链接：https://leetcode.cn/problems/kth-smallest-element-in-a-bst/solution/er-cha-sou-suo-shu-zhong-di-kxiao-de-yua-8o07/\n",
    "# 来源：力扣（LeetCode）\n",
    "# 著作权归作者所有。商业转载请联系作者获得授权，非商业转载请注明出处。"
   ]
  },
  {
   "cell_type": "markdown",
   "id": "7a7f2081-40f6-4b00-bc02-ce03c65e40ff",
   "metadata": {},
   "source": [
    "### 方法三：平衡二叉搜索树\n",
    "> 如果二叉搜索树经常被修改（插入/删除操作）并且你需要频繁地查找第k小的值，你将如何优化算法？"
   ]
  },
  {
   "cell_type": "markdown",
   "id": "34160c7a-b8e6-43f1-9509-21ef29bb6392",
   "metadata": {},
   "source": [
    "**预备知识**\n",
    "\n",
    "方法三需要先掌握 **平衡二叉搜索树（AVL树）** 的知识。平衡二叉搜索树具有如下性质：\n",
    "- 平衡二叉搜索树中每个结点的左子树和右子树的高度最多相差1；\n",
    "- 平衡二叉搜索树的子树也是平衡二叉搜索树；\n",
    "- 一颗存有n个节点的平衡二叉搜索树的高度是O(logn)。\n",
    "\n",
    "**思路和算法**\n",
    "\n",
    "问注意到在方法二中搜索二叉搜索树的时间复杂度为O(H)，其中H是树的高度；当树是平衡树时，时间复杂度取得最小值O(logN)。因此，我们在记录子树的结点数的基础上，将二叉搜索树转换为平衡二叉搜索树，并在插入和删除操作中维护它的平衡状态。"
   ]
  },
  {
   "cell_type": "code",
   "execution_count": 18,
   "id": "83e78905-7944-45e4-b386-56e48de07e98",
   "metadata": {},
   "outputs": [],
   "source": [
    "class AVL:\n",
    "    \"\"\"平衡二叉搜索树（AVL树）：允许重复值\"\"\"\n",
    "\n",
    "    class Node:\n",
    "        \"\"\"平衡二叉搜索树结点\"\"\"\n",
    "        __slots__ = (\"val\", \"parent\", \"left\", \"right\", \"size\", \"height\")\n",
    "\n",
    "        def __init__(self, val, parent=None, left=None, right=None):\n",
    "            self.val = val\n",
    "            self.parent = parent\n",
    "            self.left = left\n",
    "            self.right = right\n",
    "            self.height = 0  # 结点高度：以node为根节点的子树的高度（高度定义：叶结点的高度是0）\n",
    "            self.size = 1  # 结点元素数：以node为根节点的子树的节点总数\n",
    "\n",
    "    def __init__(self, vals):\n",
    "        self.root = self._build(vals, 0, len(vals) - 1, None) if vals else None\n",
    "\n",
    "    def _build(self, vals, l, r, parent):\n",
    "        \"\"\"根据vals[l:r]构造平衡二叉搜索树 -> 返回根结点\"\"\"\n",
    "        m = (l + r) // 2\n",
    "        node = self.Node(vals[m], parent=parent)\n",
    "        if l <= m - 1:\n",
    "            node.left = self._build(vals, l, m - 1, parent=node)\n",
    "        if m + 1 <= r:\n",
    "            node.right = self._build(vals, m + 1, r, parent=node)\n",
    "        self._recompute(node)\n",
    "        return node\n",
    "\n",
    "    def kth_smallest(self, k: int) -> int:\n",
    "        \"\"\"返回二叉搜索树中第k小的元素\"\"\"\n",
    "        node = self.root\n",
    "        while node:\n",
    "            left = self._get_size(node.left)\n",
    "            if left < k - 1:\n",
    "                node = node.right\n",
    "                k -= left + 1\n",
    "            elif left == k - 1:\n",
    "                return node.val\n",
    "            else:\n",
    "                node = node.left\n",
    "\n",
    "    def insert(self, v):\n",
    "        \"\"\"插入值为v的新结点\"\"\"\n",
    "        if self.root is None:\n",
    "            self.root = self.Node(v)\n",
    "        else:\n",
    "            # 计算新结点的添加位置\n",
    "            node = self._subtree_search(self.root, v)\n",
    "            is_add_left = (v <= node.val)  # 是否将新结点添加到node的左子结点\n",
    "            if node.val == v:  # 如果值为v的结点已存在\n",
    "                if node.left:  # 值为v的结点存在左子结点，则添加到其左子树的最右侧\n",
    "                    node = self._subtree_last(node.left)\n",
    "                    is_add_left = False\n",
    "                else:  # 值为v的结点不存在左子结点，则添加到其左子结点\n",
    "                    is_add_left = True\n",
    "\n",
    "            # 添加新结点\n",
    "            leaf = self.Node(v, parent=node)\n",
    "            if is_add_left:\n",
    "                node.left = leaf\n",
    "            else:\n",
    "                node.right = leaf\n",
    "\n",
    "            self._rebalance(leaf)\n",
    "\n",
    "    def delete(self, v) -> bool:\n",
    "        \"\"\"删除值为v的结点 -> 返回是否成功删除结点\"\"\"\n",
    "        if self.root is None:\n",
    "            return False\n",
    "\n",
    "        node = self._subtree_search(self.root, v)\n",
    "        if node.val != v:  # 没有找到需要删除的结点\n",
    "            return False\n",
    "\n",
    "        # 处理当前结点既有左子树也有右子树的情况\n",
    "        # 若左子树比右子树高度低，则将当前结点替换为右子树最左侧的结点，并移除右子树最左侧的结点\n",
    "        # 若右子树比左子树高度低，则将当前结点替换为左子树最右侧的结点，并移除左子树最右侧的结点\n",
    "        if node.left and node.right:\n",
    "            if node.left.height <= node.right.height:\n",
    "                replacement = self._subtree_first(node.right)\n",
    "            else:\n",
    "                replacement = self._subtree_last(node.left)\n",
    "            node.val = replacement.val\n",
    "            node = replacement\n",
    "\n",
    "        parent = node.parent\n",
    "        self._delete(node)\n",
    "        self._rebalance(parent)\n",
    "        return True\n",
    "\n",
    "    def _delete(self, node):\n",
    "        \"\"\"删除结点p并用它的子结点代替它，结点p至多只能有1个子结点\"\"\"\n",
    "        if node.left and node.right:\n",
    "            raise ValueError('node has two children')\n",
    "        child = node.left if node.left else node.right\n",
    "        if child is not None:\n",
    "            child.parent = node.parent\n",
    "        if node is self.root:\n",
    "            self.root = child\n",
    "        else:\n",
    "            parent = node.parent\n",
    "            if node is parent.left:\n",
    "                parent.left = child\n",
    "            else:\n",
    "                parent.right = child\n",
    "        node.parent = node\n",
    "\n",
    "    def _subtree_search(self, node, v):\n",
    "        \"\"\"在以node为根结点的子树中搜索值为v的结点，如果没有值为v的结点，则返回值为v的结点应该在的位置的父结点\"\"\"\n",
    "        if node.val < v and node.right is not None:\n",
    "            return self._subtree_search(node.right, v)\n",
    "        elif node.val > v and node.left is not None:\n",
    "            return self._subtree_search(node.left, v)\n",
    "        else:\n",
    "            return node\n",
    "\n",
    "    def _recompute(self, node):\n",
    "        \"\"\"重新计算node结点的高度和元素数\"\"\"\n",
    "        node.height = 1 + max(self._get_height(node.left), self._get_height(node.right))\n",
    "        node.size = 1 + self._get_size(node.left) + self._get_size(node.right)\n",
    "\n",
    "    def _rebalance(self, node):\n",
    "        \"\"\"从node结点开始（含node结点）逐个向上重新平衡二叉树，并更新结点高度和元素数\"\"\"\n",
    "        while node is not None:\n",
    "            old_height, old_size = node.height, node.size\n",
    "            if not self._is_balanced(node):\n",
    "                node = self._restructure(self._tall_grandchild(node))\n",
    "                self._recompute(node.left)\n",
    "                self._recompute(node.right)\n",
    "            self._recompute(node)\n",
    "            if node.height == old_height and node.size == old_size:\n",
    "                node = None  # 如果结点高度和元素数都没有变化则不需要再继续向上调整\n",
    "            else:\n",
    "                node = node.parent\n",
    "\n",
    "    def _is_balanced(self, node):\n",
    "        \"\"\"判断node结点是否平衡\"\"\"\n",
    "        return abs(self._get_height(node.left) - self._get_height(node.right)) <= 1\n",
    "\n",
    "    def _tall_child(self, node):\n",
    "        \"\"\"获取node结点更高的子树\"\"\"\n",
    "        if self._get_height(node.left) > self._get_height(node.right):\n",
    "            return node.left\n",
    "        else:\n",
    "            return node.right\n",
    "\n",
    "    def _tall_grandchild(self, node):\n",
    "        \"\"\"获取node结点更高的子树中的更高的子树\"\"\"\n",
    "        child = self._tall_child(node)\n",
    "        return self._tall_child(child)\n",
    "\n",
    "    @staticmethod\n",
    "    def _relink(parent, child, is_left):\n",
    "        \"\"\"重新连接父结点和子结点（子结点允许为空）\"\"\"\n",
    "        if is_left:\n",
    "            parent.left = child\n",
    "        else:\n",
    "            parent.right = child\n",
    "        if child is not None:\n",
    "            child.parent = parent\n",
    "\n",
    "    def _rotate(self, node):\n",
    "        \"\"\"旋转操作\"\"\"\n",
    "        parent = node.parent\n",
    "        grandparent = parent.parent\n",
    "        if grandparent is None:\n",
    "            self.root = node\n",
    "            node.parent = None\n",
    "        else:\n",
    "            self._relink(grandparent, node, parent == grandparent.left)\n",
    "\n",
    "        if node == parent.left:\n",
    "            self._relink(parent, node.right, True)\n",
    "            self._relink(node, parent, False)\n",
    "        else:\n",
    "            self._relink(parent, node.left, False)\n",
    "            self._relink(node, parent, True)\n",
    "\n",
    "    def _restructure(self, node):\n",
    "        \"\"\"trinode操作\"\"\"\n",
    "        parent = node.parent\n",
    "        grandparent = parent.parent\n",
    "\n",
    "        if (node == parent.right) == (parent == grandparent.right):  # 处理需要一次旋转的情况\n",
    "            self._rotate(parent)\n",
    "            return parent\n",
    "        else:  # 处理需要两次旋转的情况：第1次旋转后即成为需要一次旋转的情况\n",
    "            self._rotate(node)\n",
    "            self._rotate(node)\n",
    "            return node\n",
    "\n",
    "    @staticmethod\n",
    "    def _subtree_first(node):\n",
    "        \"\"\"返回以node为根结点的子树的第1个元素\"\"\"\n",
    "        while node.left is not None:\n",
    "            node = node.left\n",
    "        return node\n",
    "\n",
    "    @staticmethod\n",
    "    def _subtree_last(node):\n",
    "        \"\"\"返回以node为根结点的子树的最后1个元素\"\"\"\n",
    "        while node.right is not None:\n",
    "            node = node.right\n",
    "        return node\n",
    "\n",
    "    @staticmethod\n",
    "    def _get_height(node) -> int:\n",
    "        \"\"\"获取以node为根结点的子树的高度\"\"\"\n",
    "        return node.height if node is not None else 0\n",
    "\n",
    "    @staticmethod\n",
    "    def _get_size(node) -> int:\n",
    "        \"\"\"获取以node为根结点的子树的结点数\"\"\"\n",
    "        return node.size if node is not None else 0\n",
    "\n",
    "\n",
    "class Solution:\n",
    "    def kthSmallest(self, root: TreeNode, k: int) -> int:\n",
    "        def inorder(node):\n",
    "            if node.left:\n",
    "                inorder(node.left)\n",
    "            inorder_lst.append(node.val)\n",
    "            if node.right:\n",
    "                inorder(node.right)\n",
    "\n",
    "        # 中序遍历生成数值列表\n",
    "        inorder_lst = []\n",
    "        inorder(root)\n",
    "\n",
    "        # 构造平衡二叉搜索树\n",
    "        avl = AVL(inorder_lst)\n",
    "\n",
    "        # 模拟1000次插入和删除操作\n",
    "        random_nums = [random.randint(0, 10001) for _ in range(1000)]\n",
    "        for num in random_nums:\n",
    "            avl.insert(num)\n",
    "        random.shuffle(random_nums)  # 列表乱序\n",
    "        for num in random_nums:\n",
    "            avl.delete(num)\n",
    "\n",
    "        return avl.kth_smallest(k)\n",
    "\n",
    "# 作者：LeetCode-Solution\n",
    "# 链接：https://leetcode.cn/problems/kth-smallest-element-in-a-bst/solution/er-cha-sou-suo-shu-zhong-di-kxiao-de-yua-8o07/\n",
    "# 来源：力扣（LeetCode）\n",
    "# 著作权归作者所有。商业转载请联系作者获得授权，非商业转载请注明出处。"
   ]
  },
  {
   "cell_type": "markdown",
   "id": "93003f66-7019-4231-b774-fb4b79ed40a7",
   "metadata": {},
   "source": [
    "## 6. 岛屿数量"
   ]
  },
  {
   "cell_type": "markdown",
   "id": "26f406e1-281b-4983-84ec-f6480fddf474",
   "metadata": {},
   "source": [
    "### 方法一：深度优先搜索"
   ]
  },
  {
   "cell_type": "markdown",
   "id": "c65475a1-dbd5-40df-9fc6-5000ee807ece",
   "metadata": {},
   "source": [
    "我们可以将二维网格看成一个无向图，竖直或水平相邻的1之间有边相连。\n",
    "\n",
    "为了求出岛屿的数量，我们可以扫描整个二维网格。如果一个位置为1，则以其为起始节点开始进行深度优先搜索。在深度优先搜索的过程中，每个搜索到的1都会被重新标记为0。\n",
    "\n",
    "最终岛屿的数量就是我们进行深度优先搜索的次数。"
   ]
  },
  {
   "cell_type": "code",
   "execution_count": 8,
   "id": "a8290c65-4366-4ab2-8af9-4374d58cb136",
   "metadata": {},
   "outputs": [],
   "source": [
    "from typing import List\n",
    "class Solution:\n",
    "    def numIslands(self, grid: List[List[str]]) -> int:\n",
    "        \n",
    "        def island(r, c):\n",
    "            grid[r][c] = 0\n",
    "            left, right, up, down = max(c-1, 0), min(c+1, n-1), max(r-1, 0), min(r+1, m-1)\n",
    "            if grid[r][left]: island(r, left)\n",
    "            if grid[r][right]: island(r, right)\n",
    "            if grid[up][c]: island(up, c)\n",
    "            if grid[down][c]: island(down, c)\n",
    "        \n",
    "        m, n = len(grid), len(grid[0])\n",
    "        ans = 0\n",
    "        while any(\"1\" in row for row in grid):\n",
    "            flag = 0\n",
    "            ans += 1\n",
    "            for i in range(m):\n",
    "                for j in range(n):\n",
    "                    if grid[i][j] == \"1\":\n",
    "                        x, y = i, j\n",
    "                        flag = 1\n",
    "                        break\n",
    "                if flag: break\n",
    "            flag = 0\n",
    "            island(x, y)\n",
    "        \n",
    "        return ans      "
   ]
  },
  {
   "cell_type": "markdown",
   "id": "08022ac9-85ab-4818-8ca7-5e9709aa79e5",
   "metadata": {},
   "source": [
    "逻辑好混乱，而且也不对。"
   ]
  },
  {
   "cell_type": "code",
   "execution_count": 9,
   "id": "4c04eab4-f7d2-4952-8d50-7ecb21545e5c",
   "metadata": {},
   "outputs": [],
   "source": [
    "class Solution:\n",
    "    def dfs(self, grid, r, c):\n",
    "        grid[r][c] = 0\n",
    "        nr, nc = len(grid), len(grid[0])\n",
    "        for x, y in [(r - 1, c), (r + 1, c), (r, c - 1), (r, c + 1)]:\n",
    "            if 0 <= x < nr and 0 <= y < nc and grid[x][y] == \"1\":\n",
    "                self.dfs(grid, x, y)\n",
    "\n",
    "    def numIslands(self, grid: List[List[str]]) -> int:\n",
    "        nr = len(grid)\n",
    "        if nr == 0:\n",
    "            return 0\n",
    "        nc = len(grid[0])\n",
    "\n",
    "        num_islands = 0\n",
    "        for r in range(nr):\n",
    "            for c in range(nc):\n",
    "                if grid[r][c] == \"1\":\n",
    "                    num_islands += 1\n",
    "                    self.dfs(grid, r, c)\n",
    "        \n",
    "        return num_islands"
   ]
  },
  {
   "cell_type": "code",
   "execution_count": 10,
   "id": "ac3f250c-3522-44d1-9136-1c484aada533",
   "metadata": {},
   "outputs": [],
   "source": [
    "class Solution:\n",
    "    def numIslands(self, grid: List[List[str]]) -> int:\n",
    "        def dfs(r, c):\n",
    "            grid[r][c] = 0\n",
    "            for x, y in ((r, c - 1), (r, c + 1), (r - 1, c), (r + 1, c)):\n",
    "                if  0 <= x < m and 0 <= y < n and grid[x][y] == \"1\":\n",
    "                    dfs(x, y)\n",
    "                    \n",
    "        m, n = len(grid), len(grid[0])\n",
    "        ans = 0\n",
    "        for i in range(m):\n",
    "            for j in range(n):\n",
    "                 if grid[i][j] == \"1\":\n",
    "                        ans += 1\n",
    "                        dfs(i, j)\n",
    "        return ans"
   ]
  },
  {
   "cell_type": "markdown",
   "id": "006141d9-e244-4303-a9e9-724f66ffe082",
   "metadata": {},
   "source": [
    "- 时间复杂度：O(MN)\n",
    "- 空间复杂度：O(MN) 递归栈最坏情况使用空间。"
   ]
  },
  {
   "cell_type": "markdown",
   "id": "26fa476d-e463-41bf-956a-66598c0357ee",
   "metadata": {},
   "source": [
    "### 方法二：广度优先搜索"
   ]
  },
  {
   "cell_type": "markdown",
   "id": "7effefd7-655a-405f-9262-7bc011a9d9d9",
   "metadata": {},
   "source": [
    "同样地，我们也可以使用广度优先搜索代替深度优先搜索。\n",
    "\n",
    "为了求出岛屿的数量，我们可以扫描整个二维网格。如果一个位置为1，则将其加入队列，开始进行广度优先搜索。在广度优先搜索的过程中，每个搜索到的1都会被重新标记为0.知道队列为空，搜索结束。\n",
    "\n",
    "最终岛屿的数量就是我们进行广度优先搜索的次数。"
   ]
  },
  {
   "cell_type": "code",
   "execution_count": 15,
   "id": "b1ea9fab-8d31-420c-b6ab-d179dbb5094c",
   "metadata": {},
   "outputs": [],
   "source": [
    "class Solution:\n",
    "    def numIslands(self, grid: List[List[str]]) -> int:\n",
    "        m, n = len(grid), len(grid[0])\n",
    "        stk = []\n",
    "        ans = 0\n",
    "        for i in range(m):\n",
    "            for j in range(n):\n",
    "                if grid[i][j] == \"1\": \n",
    "                    stk.append((i, j))\n",
    "                    ans += 1\n",
    "                while stk:\n",
    "                    x, y = stk.pop()\n",
    "                    grid[x][y] = \"0\"\n",
    "                    for r, c in ((x, y - 1), (x, y + 1), (x - 1, y), (x + 1, y)):\n",
    "                        if 0 <= r < m and 0 <= c < n and grid[r][c] == \"1\":\n",
    "                            stk.append((r, c))\n",
    "        return ans"
   ]
  },
  {
   "cell_type": "markdown",
   "id": "415b17cf-080c-4aad-ad9c-6ace748a907c",
   "metadata": {},
   "source": [
    "- 时间复杂度：O(MN)\n",
    "- 空间复杂度：O(min(M, N))"
   ]
  },
  {
   "cell_type": "markdown",
   "id": "c95eec5a-0fab-458d-a821-54990c638907",
   "metadata": {},
   "source": [
    "### 方法三：并查集"
   ]
  },
  {
   "cell_type": "markdown",
   "id": "46fc8599-769c-4f91-ad41-838125807272",
   "metadata": {},
   "source": [
    "同样地，我们也可以使用并查集代替搜索。\n",
    "\n",
    "为了求出岛屿的数量，我们可以扫描整个二维网格。如果一个位置为1，则将其与相邻四个方向上的1再并查集中进行合并。\n",
    "\n",
    "最终岛屿的数量就是并查集中连通分量的数目。"
   ]
  },
  {
   "cell_type": "code",
   "execution_count": null,
   "id": "aa7e1cb2-c153-4167-8bd4-a632fe9b3a1a",
   "metadata": {},
   "outputs": [],
   "source": [
    "class UnionFind:\n",
    "    def __init__(self, grid):\n",
    "        m, n = len(grid), len(grid[0])\n",
    "        self.count = 0\n",
    "        self.parent = [-1] * (m * n)\n",
    "        self.rank = [0] * (m * n)\n",
    "        for i in range(m):\n",
    "            for j in range(n):\n",
    "                if grid[i][j] == \"1\":\n",
    "                    self.parent[i * n + j] = i * n + j\n",
    "                    self.count += 1\n",
    "    \n",
    "    def find(self, i):\n",
    "        if self.parent[i] != i:\n",
    "            self.parent[i] = self.find(self.parent[i])\n",
    "        return self.parent[i]\n",
    "    \n",
    "    def union(self, x, y):\n",
    "        rootx = self.find(x)\n",
    "        rooty = self.find(y)\n",
    "        if rootx != rooty:\n",
    "            if self.rank[rootx] < self.rank[rooty]:\n",
    "                rootx, rooty = rooty, rootx\n",
    "            self.parent[rooty] = rootx\n",
    "            if self.rank[rootx] == self.rank[rooty]:\n",
    "                self.rank[rootx] += 1\n",
    "            self.count -= 1\n",
    "    \n",
    "    def getCount(self):\n",
    "        return self.count\n",
    "\n",
    "class Solution:\n",
    "    def numIslands(self, grid: List[List[str]]) -> int:\n",
    "        nr = len(grid)\n",
    "        if nr == 0:\n",
    "            return 0\n",
    "        nc = len(grid[0])\n",
    "\n",
    "        uf = UnionFind(grid)\n",
    "        num_islands = 0\n",
    "        for r in range(nr):\n",
    "            for c in range(nc):\n",
    "                if grid[r][c] == \"1\":\n",
    "                    grid[r][c] = \"0\"\n",
    "                    for x, y in [(r - 1, c), (r + 1, c), (r, c - 1), (r, c + 1)]:\n",
    "                        if 0 <= x < nr and 0 <= y < nc and grid[x][y] == \"1\":\n",
    "                            uf.union(r * nc + c, x * nc + y)\n",
    "        \n",
    "        return uf.getCount()\n",
    "\n",
    "# 作者：LeetCode\n",
    "# 链接：https://leetcode.cn/problems/number-of-islands/solution/dao-yu-shu-liang-by-leetcode/\n",
    "# 来源：力扣（LeetCode）\n",
    "# 著作权归作者所有。商业转载请联系作者获得授权，非商业转载请注明出处。"
   ]
  },
  {
   "cell_type": "markdown",
   "id": "cf4066d7-91d7-4fd1-a96a-874ce40c0770",
   "metadata": {},
   "source": [
    "并查集再议"
   ]
  },
  {
   "cell_type": "markdown",
   "id": "8b96a656-2a8d-4976-817e-5df16afa4cc7",
   "metadata": {},
   "source": [
    "# 回溯算法"
   ]
  },
  {
   "cell_type": "markdown",
   "id": "28dcc0e7-e998-48c7-aefa-6f67fed048a2",
   "metadata": {},
   "source": [
    "回溯法：一种通过探索所有可能的候选解来找出所有的解的算法。如果候选解被确认不是一个解（或者至少不是最后一个解），回溯算法会通过在上一步进行一些变化抛弃该解，即回溯并且再次尝试。"
   ]
  },
  {
   "cell_type": "markdown",
   "id": "f8d51c6c-e58f-4391-b687-4acf81d374be",
   "metadata": {},
   "source": [
    "## 1. 电话号码的字母组合"
   ]
  },
  {
   "cell_type": "code",
   "execution_count": 16,
   "id": "14038be1-66d0-49e1-9a20-2bfae4678eda",
   "metadata": {},
   "outputs": [],
   "source": [
    "num2alpha = {}\n",
    "code = 97\n",
    "for i in range(8):\n",
    "    num2alpha[str(i + 2)] = []\n",
    "    up = 4 if i == 5 or i == 7 else 3\n",
    "    for j in range(up):\n",
    "        num2alpha[str(i + 2)].append(chr(code + j))\n",
    "    code += up"
   ]
  },
  {
   "cell_type": "code",
   "execution_count": 17,
   "id": "bba4f1eb-7c4e-410a-a1a6-47d2fe731bb6",
   "metadata": {},
   "outputs": [
    {
     "data": {
      "text/plain": [
       "{'2': ['a', 'b', 'c'],\n",
       " '3': ['d', 'e', 'f'],\n",
       " '4': ['g', 'h', 'i'],\n",
       " '5': ['j', 'k', 'l'],\n",
       " '6': ['m', 'n', 'o'],\n",
       " '7': ['p', 'q', 'r', 's'],\n",
       " '8': ['t', 'u', 'v'],\n",
       " '9': ['w', 'x', 'y', 'z']}"
      ]
     },
     "execution_count": 17,
     "metadata": {},
     "output_type": "execute_result"
    }
   ],
   "source": [
    "num2alpha"
   ]
  },
  {
   "cell_type": "code",
   "execution_count": 40,
   "id": "dc43045b-1825-4cab-9748-a8669135c64b",
   "metadata": {},
   "outputs": [],
   "source": [
    "from typing import List\n",
    "class Solution:\n",
    "    def letterCombinations(self, digits: str) -> List[str]:\n",
    "        if not digits: return []\n",
    "        num2alpha = {'2': ['a', 'b', 'c'],\n",
    "                     '3': ['d', 'e', 'f'],\n",
    "                     '4': ['g', 'h', 'i'],\n",
    "                     '5': ['j', 'k', 'l'],\n",
    "                     '6': ['m', 'n', 'o'],\n",
    "                     '7': ['p', 'q', 'r', 's'],\n",
    "                     '8': ['t', 'u', 'v'],\n",
    "                     '9': ['w', 'x', 'y', 'z']}\n",
    "        # path = []\n",
    "        # for key in num2alpha:\n",
    "        #     path.append([1] * len(num2alpha[key]))\n",
    "        res = []\n",
    "        \n",
    "        def dfs(idx, cur):\n",
    "            nonlocal res\n",
    "            if idx == len(digits): \n",
    "                res.append(cur)\n",
    "                return\n",
    "            num = digits[idx]\n",
    "            for i, c in enumerate(num2alpha[num]):\n",
    "                dfs(idx + 1, cur + c)\n",
    "        \n",
    "        dfs(0, \"\")\n",
    "        return res  "
   ]
  },
  {
   "cell_type": "code",
   "execution_count": 41,
   "id": "c5f4b0a5-a146-4ecc-b5bb-4d7ebc053a50",
   "metadata": {},
   "outputs": [],
   "source": [
    "digits = \"22\""
   ]
  },
  {
   "cell_type": "code",
   "execution_count": 42,
   "id": "1b980394-9a8e-45f5-bd45-c103ea9cff3e",
   "metadata": {},
   "outputs": [
    {
     "data": {
      "text/plain": [
       "['aa', 'ab', 'ac', 'ba', 'bb', 'bc', 'ca', 'cb', 'cc']"
      ]
     },
     "execution_count": 42,
     "metadata": {},
     "output_type": "execute_result"
    }
   ],
   "source": [
    "s = Solution()\n",
    "s.letterCombinations(digits)"
   ]
  },
  {
   "cell_type": "markdown",
   "id": "8e6e7bb1-24b1-457b-96f8-398ab518dc7d",
   "metadata": {},
   "source": [
    "这也没回溯啊"
   ]
  },
  {
   "cell_type": "markdown",
   "id": "e8120d9a-7824-4c7f-8fdc-167be70e2410",
   "metadata": {},
   "source": [
    "## 2. 括号生成"
   ]
  },
  {
   "cell_type": "code",
   "execution_count": 43,
   "id": "dbd2236a-30fa-4bfd-8fdb-9bc9f4b59671",
   "metadata": {},
   "outputs": [],
   "source": [
    "class Solution:\n",
    "    def generateParenthesis(self, n: int) -> List[str]:\n",
    "        res = [\"()\"]\n",
    "        for _ in range(n - 1):\n",
    "            cur = set()\n",
    "            for r in res:\n",
    "                for i in range(len(r)):\n",
    "                    cur.add(r[:i] + \"()\" + r[i:])\n",
    "            res = list(cur)\n",
    "        return res"
   ]
  },
  {
   "cell_type": "code",
   "execution_count": 47,
   "id": "02dae8c5-7980-46b1-883f-a93f66516aa2",
   "metadata": {},
   "outputs": [
    {
     "data": {
      "text/plain": [
       "['(()())', '(())()', '()(())', '((()))', '()()()']"
      ]
     },
     "execution_count": 47,
     "metadata": {},
     "output_type": "execute_result"
    }
   ],
   "source": [
    "s = Solution()\n",
    "s.generateParenthesis(3)"
   ]
  },
  {
   "cell_type": "markdown",
   "id": "db4360ec-9099-4b30-ada4-76bc2536bcbb",
   "metadata": {},
   "source": [
    "## 3. 全排列"
   ]
  },
  {
   "cell_type": "code",
   "execution_count": 116,
   "id": "8d3cfb99-d15d-4244-8ae1-61d4e4a5386b",
   "metadata": {},
   "outputs": [],
   "source": [
    "class Solution:\n",
    "    def permute(self, nums: List[int]) -> List[List[int]]:\n",
    "        n = len(nums)\n",
    "        path = [1] * n\n",
    "        res = []\n",
    "        def dfs(idx, cur):\n",
    "            if idx == n: \n",
    "                res.append(cur)\n",
    "                return\n",
    "            for i in range(n):\n",
    "                nxt = nums[i]\n",
    "                if nxt in cur: continue\n",
    "                if path[i]: \n",
    "                    path[i] = 0\n",
    "                    dfs(idx + 1, cur + [nums[i]])\n",
    "                path[i] = 1\n",
    "        dfs(0, [])\n",
    "        return res"
   ]
  },
  {
   "cell_type": "code",
   "execution_count": 123,
   "id": "95961241-e9eb-4654-aa61-d34026c1b534",
   "metadata": {},
   "outputs": [],
   "source": [
    "nums = [1,2,3]"
   ]
  },
  {
   "cell_type": "code",
   "execution_count": 124,
   "id": "2745b837-216d-4098-a75c-6c64b5d1d532",
   "metadata": {},
   "outputs": [
    {
     "name": "stdout",
     "output_type": "stream",
     "text": [
      "0 []\n",
      "1 [1]\n",
      "2 [1, 2]\n",
      "3 [1, 2, 3]\n",
      "************\n",
      "2 [1, 3]\n",
      "3 [1, 3, 2]\n",
      "************\n",
      "1 [2]\n",
      "2 [2, 1]\n",
      "3 [2, 1, 3]\n",
      "************\n",
      "2 [2, 3]\n",
      "3 [2, 3, 1]\n",
      "************\n",
      "1 [3]\n",
      "2 [3, 1]\n",
      "3 [3, 1, 2]\n",
      "************\n",
      "2 [3, 2]\n",
      "3 [3, 2, 1]\n",
      "************\n"
     ]
    },
    {
     "data": {
      "text/plain": [
       "[[], [], [], [], [], []]"
      ]
     },
     "execution_count": 124,
     "metadata": {},
     "output_type": "execute_result"
    }
   ],
   "source": [
    "s = Solution()\n",
    "s.permute(nums)"
   ]
  },
  {
   "cell_type": "markdown",
   "id": "9efefad3-f088-493a-9c1f-f64cbd207ea1",
   "metadata": {},
   "source": [
    "占内存太多，可能是列表没有用append的原因，创建了太多新的对象。"
   ]
  },
  {
   "cell_type": "markdown",
   "id": "d5b07c99-99ce-4c8e-9e09-d6c0ca3dfa96",
   "metadata": {},
   "source": [
    "注意，上面的写法里path根本就没有用，因为是if的外面才回溯并不是dfs结束后就回溯，并且 in 的判断已经涵盖了path的范围，下面的写法才是传统回溯，利用path而不需要用in来判断。"
   ]
  },
  {
   "cell_type": "code",
   "execution_count": 143,
   "id": "4e83d5e2-7487-4a73-817a-4e3c86407236",
   "metadata": {},
   "outputs": [],
   "source": [
    "class Solution:\n",
    "    def permute(self, nums: List[int]) -> List[List[int]]:\n",
    "        n = len(nums)\n",
    "        path = [1] * n\n",
    "        res = []\n",
    "        def dfs(idx, pre):\n",
    "            if idx == n: \n",
    "                res.append(pre[:])\n",
    "                # 此处需要注意，由于python和java在传参的时候传递的是地址，append方法全程没有\n",
    "                # 对pre的地址进行改变，因此最后会统一返回[], 故应使用[:]表示append上pre中的\n",
    "                # 所有元素。\n",
    "                return\n",
    "            for i in range(n):\n",
    "                if path[i]:\n",
    "                    path[i] = 0\n",
    "                    pre.append(nums[i])\n",
    "                    dfs(idx + 1, pre)\n",
    "                    pre.pop()\n",
    "                    path[i] = 1\n",
    "        dfs(0, [])\n",
    "        return res"
   ]
  },
  {
   "cell_type": "markdown",
   "id": "1e8b6200-26a3-4669-8685-2f2ba7c03ec4",
   "metadata": {},
   "source": [
    "- 时间复杂度：O(n! * n)，可以简单理解为n!种排列，每次复制结果需要O(n)时间。\n",
    "- 空间复杂度：O(n)，为堆栈空间及path空间。"
   ]
  },
  {
   "cell_type": "code",
   "execution_count": 141,
   "id": "e5418a6f-aefa-4504-b7cd-bce75cf5f4c6",
   "metadata": {},
   "outputs": [],
   "source": [
    "nums = [1,2,3]"
   ]
  },
  {
   "cell_type": "code",
   "execution_count": 142,
   "id": "ce179b9e-0eda-406b-a560-463c15e0a70b",
   "metadata": {},
   "outputs": [
    {
     "data": {
      "text/plain": [
       "[[1, 2, 3], [1, 3, 2], [2, 1, 3], [2, 3, 1], [3, 1, 2], [3, 2, 1]]"
      ]
     },
     "execution_count": 142,
     "metadata": {},
     "output_type": "execute_result"
    }
   ],
   "source": [
    "s = Solution()\n",
    "s.permute(nums)"
   ]
  },
  {
   "cell_type": "markdown",
   "id": "ab480b51-a628-474f-8777-68571cc1877d",
   "metadata": {},
   "source": [
    "官解："
   ]
  },
  {
   "cell_type": "code",
   "execution_count": 144,
   "id": "fced8f01-4386-4f3b-b1eb-afead1f70fa4",
   "metadata": {},
   "outputs": [],
   "source": [
    "class Solution:\n",
    "    def permute(self, nums):\n",
    "        \"\"\"\n",
    "        :type nums: List[int]\n",
    "        :rtype: List[List[int]]\n",
    "        \"\"\"\n",
    "        def backtrack(first = 0):\n",
    "            # 所有数都填完了\n",
    "            if first == n:  \n",
    "                res.append(nums[:])\n",
    "            for i in range(first, n):\n",
    "                # 动态维护数组\n",
    "                nums[first], nums[i] = nums[i], nums[first]\n",
    "                # 继续递归填下一个数\n",
    "                backtrack(first + 1)\n",
    "                # 撤销操作\n",
    "                nums[first], nums[i] = nums[i], nums[first]\n",
    "        \n",
    "        n = len(nums)\n",
    "        res = []\n",
    "        backtrack()\n",
    "        return res\n",
    "\n",
    "# 作者：LeetCode-Solution\n",
    "# 链接：https://leetcode.cn/problems/permutations/solution/quan-pai-lie-by-leetcode-solution-2/\n",
    "# 来源：力扣（LeetCode）\n",
    "# 著作权归作者所有。商业转载请联系作者获得授权，非商业转载请注明出处。"
   ]
  },
  {
   "cell_type": "markdown",
   "id": "32f6bbc1-0b77-4cc9-9913-25d49385113d",
   "metadata": {},
   "source": [
    "## 4. 子集"
   ]
  },
  {
   "cell_type": "markdown",
   "id": "77f5d3bf-ba0d-4a50-b21c-390ccbc9e1e6",
   "metadata": {},
   "source": [
    "总的来说就是对每个元素进行选或不选的判断， tabunn"
   ]
  },
  {
   "cell_type": "code",
   "execution_count": 3,
   "id": "adadabad-2c50-438b-9673-89526c71ed79",
   "metadata": {},
   "outputs": [],
   "source": [
    "from typing import List\n",
    "class Solution:\n",
    "    def subsets(self, nums: List[int]) -> List[List[int]]:\n",
    "        res = []\n",
    "        n = len(nums)\n",
    "        def dfs(idx, pre):\n",
    "            if idx == n: \n",
    "                res.append(pre[:])\n",
    "                return\n",
    "            dfs(idx + 1, pre)\n",
    "            pre.append(nums[idx])\n",
    "            dfs(idx + 1, pre)\n",
    "            pre.pop()\n",
    "        dfs(0, [])\n",
    "        return res"
   ]
  },
  {
   "cell_type": "markdown",
   "id": "f6b67756-605d-4792-8931-fcdd021fa2fa",
   "metadata": {},
   "source": [
    "- 时间复杂度：O(n * 2 ^ n)， 和上题类似，对应状态数与复制时间。\n",
    "- 空间复杂度：O(n)，堆栈。"
   ]
  },
  {
   "cell_type": "code",
   "execution_count": 8,
   "id": "b7861b95-bb4a-4aba-a632-bfdafceb02ad",
   "metadata": {},
   "outputs": [],
   "source": [
    "nums = []"
   ]
  },
  {
   "cell_type": "code",
   "execution_count": 9,
   "id": "f3989a0e-720d-4e0e-8d8a-7a95a5ec2405",
   "metadata": {},
   "outputs": [
    {
     "data": {
      "text/plain": [
       "[[]]"
      ]
     },
     "execution_count": 9,
     "metadata": {},
     "output_type": "execute_result"
    }
   ],
   "source": [
    "s = Solution()\n",
    "s.subsets(nums)"
   ]
  },
  {
   "cell_type": "markdown",
   "id": "766b6aed-7a6d-4ed3-8f21-51e3cfe9406f",
   "metadata": {},
   "source": [
    "## 5. 单词搜索"
   ]
  },
  {
   "cell_type": "markdown",
   "id": "8b0388b6-d24c-4572-acb2-4f90910a3753",
   "metadata": {},
   "source": [
    "二维回溯还没做过"
   ]
  },
  {
   "cell_type": "code",
   "execution_count": 120,
   "id": "13cdad98-53ec-4830-8904-49811e64719e",
   "metadata": {},
   "outputs": [],
   "source": [
    "class Solution:\n",
    "    def exist(self, board: List[List[str]], word: str) -> bool:\n",
    "        def dfs(idx, r, c):\n",
    "            # print(idx, r, c)\n",
    "            # if idx == len(word): return True\n",
    "            for x, y in ((r, c - 1), (r, c + 1), (r - 1, c), (r + 1, c)):\n",
    "                print(path, x, y, idx)\n",
    "                flag = 0\n",
    "                if 0 <= x < m and 0 <= y < n and board[x][y] == word[idx] and path[x][y]:\n",
    "                    print(x, y, \"**\")\n",
    "                    if idx == len(word) - 1: \n",
    "                        flag = 1\n",
    "                        break\n",
    "                    path[x][y] = 0\n",
    "                    dfs(idx + 1, x, y)\n",
    "                    path[x][y] = 1\n",
    "            return True if flag else False\n",
    "                    \n",
    "        m, n = len(board), len(board[0])\n",
    "        # print(m, n)\n",
    "        path = [[1]*n for _ in range(m)] \n",
    "        # print(path)\n",
    "        for i in range(m):\n",
    "            for j in range(n):\n",
    "                if board[i][j] == word[0]:\n",
    "                    # print(i, j, board[i][j], word[0])\n",
    "                    path[i][j] = 0\n",
    "                    if dfs(1, i, j): return True\n",
    "                    # print(path)\n",
    "                    path[i][j] = 1\n",
    "        return False"
   ]
  },
  {
   "cell_type": "code",
   "execution_count": 121,
   "id": "6c5268f3-8aca-4fd0-ba89-00b701942336",
   "metadata": {},
   "outputs": [],
   "source": [
    "board = [[\"A\",\"B\",\"C\",\"E\"],\n",
    "         [\"S\",\"F\",\"C\",\"S\"],\n",
    "         [\"A\",\"D\",\"E\",\"E\"]]\n",
    "word = \"ABCCED\""
   ]
  },
  {
   "cell_type": "code",
   "execution_count": 122,
   "id": "722583f6-b2b9-4bcf-b51a-93cf9f9d5587",
   "metadata": {},
   "outputs": [
    {
     "name": "stdout",
     "output_type": "stream",
     "text": [
      "[[0, 1, 1, 1], [1, 1, 1, 1], [1, 1, 1, 1]] 0 -1 1\n",
      "[[0, 1, 1, 1], [1, 1, 1, 1], [1, 1, 1, 1]] 0 1 1\n",
      "0 1 **\n",
      "[[0, 0, 1, 1], [1, 1, 1, 1], [1, 1, 1, 1]] 0 0 2\n",
      "[[0, 0, 1, 1], [1, 1, 1, 1], [1, 1, 1, 1]] 0 2 2\n",
      "0 2 **\n",
      "[[0, 0, 0, 1], [1, 1, 1, 1], [1, 1, 1, 1]] 0 1 3\n",
      "[[0, 0, 0, 1], [1, 1, 1, 1], [1, 1, 1, 1]] 0 3 3\n",
      "[[0, 0, 0, 1], [1, 1, 1, 1], [1, 1, 1, 1]] -1 2 3\n",
      "[[0, 0, 0, 1], [1, 1, 1, 1], [1, 1, 1, 1]] 1 2 3\n",
      "1 2 **\n",
      "[[0, 0, 0, 1], [1, 1, 0, 1], [1, 1, 1, 1]] 1 1 4\n",
      "[[0, 0, 0, 1], [1, 1, 0, 1], [1, 1, 1, 1]] 1 3 4\n",
      "[[0, 0, 0, 1], [1, 1, 0, 1], [1, 1, 1, 1]] 0 2 4\n",
      "[[0, 0, 0, 1], [1, 1, 0, 1], [1, 1, 1, 1]] 2 2 4\n",
      "2 2 **\n",
      "[[0, 0, 0, 1], [1, 1, 0, 1], [1, 1, 0, 1]] 2 1 5\n",
      "2 1 **\n",
      "[[0, 0, 1, 1], [1, 1, 1, 1], [1, 1, 1, 1]] -1 1 2\n",
      "[[0, 0, 1, 1], [1, 1, 1, 1], [1, 1, 1, 1]] 1 1 2\n",
      "[[0, 1, 1, 1], [1, 1, 1, 1], [1, 1, 1, 1]] -1 0 1\n",
      "[[0, 1, 1, 1], [1, 1, 1, 1], [1, 1, 1, 1]] 1 0 1\n",
      "[[1, 1, 1, 1], [1, 1, 1, 1], [0, 1, 1, 1]] 2 -1 1\n",
      "[[1, 1, 1, 1], [1, 1, 1, 1], [0, 1, 1, 1]] 2 1 1\n",
      "[[1, 1, 1, 1], [1, 1, 1, 1], [0, 1, 1, 1]] 1 0 1\n",
      "[[1, 1, 1, 1], [1, 1, 1, 1], [0, 1, 1, 1]] 3 0 1\n"
     ]
    },
    {
     "data": {
      "text/plain": [
       "False"
      ]
     },
     "execution_count": 122,
     "metadata": {},
     "output_type": "execute_result"
    }
   ],
   "source": [
    "s = Solution()\n",
    "s.exist(board, word)"
   ]
  },
  {
   "cell_type": "markdown",
   "id": "fe8aa995-db6e-4076-b292-151951871da0",
   "metadata": {},
   "source": [
    "### Notice：\n",
    "\n",
    "注意 [[1] * n] * m 的写法生成矩阵也会有问题，这会导致m行都是同一个对象。"
   ]
  },
  {
   "cell_type": "code",
   "execution_count": null,
   "id": "eaa7e6d6-3870-441b-aa7a-f907e86234b2",
   "metadata": {},
   "outputs": [],
   "source": [
    "class Solution:\n",
    "    def exist(self, board: List[List[str]], word: str) -> bool:\n",
    "        directions = [(0, 1), (0, -1), (1, 0), (-1, 0)]\n",
    "\n",
    "        def check(i: int, j: int, k: int) -> bool:\n",
    "            if board[i][j] != word[k]:\n",
    "                return False\n",
    "            if k == len(word) - 1:\n",
    "                return True\n",
    "            \n",
    "            visited.add((i, j))\n",
    "            result = False\n",
    "            for di, dj in directions:\n",
    "                newi, newj = i + di, j + dj\n",
    "                if 0 <= newi < len(board) and 0 <= newj < len(board[0]):\n",
    "                    if (newi, newj) not in visited:\n",
    "                        if check(newi, newj, k + 1):\n",
    "                            result = True\n",
    "                            break\n",
    "            \n",
    "            visited.remove((i, j))\n",
    "            return result\n",
    "\n",
    "        h, w = len(board), len(board[0])\n",
    "        visited = set()\n",
    "        for i in range(h):\n",
    "            for j in range(w):\n",
    "                if check(i, j, 0):\n",
    "                    return True\n",
    "        \n",
    "        return False\n",
    "\n",
    "# 作者：LeetCode-Solution\n",
    "# 链接：https://leetcode.cn/problems/word-search/solution/dan-ci-sou-suo-by-leetcode-solution/\n",
    "# 来源：力扣（LeetCode）\n",
    "# 著作权归作者所有。商业转载请联系作者获得授权，非商业转载请注明出处。"
   ]
  },
  {
   "cell_type": "markdown",
   "id": "9d16744e-b152-4890-ba3a-c54237e9ea25",
   "metadata": {},
   "source": [
    "再议，脑子不够了"
   ]
  },
  {
   "cell_type": "markdown",
   "id": "54d0babe-7e80-4b94-9890-2580a6ba6262",
   "metadata": {},
   "source": [
    "# 排序和搜索"
   ]
  },
  {
   "cell_type": "markdown",
   "id": "2779c659-3d7b-4833-bca0-45f12c8b6592",
   "metadata": {},
   "source": [
    "## 1. 颜色分类"
   ]
  },
  {
   "cell_type": "markdown",
   "id": "53c64a7e-c9ed-4950-9586-c9b94d2e2220",
   "metadata": {},
   "source": [
    "### 朴素占用额外空间的做法：\n",
    "排序返回或统计一遍每种数字出现的个数，返回新的列表。"
   ]
  },
  {
   "cell_type": "markdown",
   "id": "d1dd92f9-9582-42f7-b499-8b9980c4c767",
   "metadata": {},
   "source": [
    "### 方法一： 单指针"
   ]
  },
  {
   "cell_type": "markdown",
   "id": "b02bc71b-8712-4d06-8d22-dcbc60deaadc",
   "metadata": {},
   "source": [
    "我们可以考虑对数组进行两次遍历。在第一次遍历中，我们将数组中所有的0交换到数组的头部。在第二次遍历中，我们将数组中所有的1交换到头部的0之后。此时，所有的2都出现在数组的尾部，这样我们就完成了排序。"
   ]
  },
  {
   "cell_type": "code",
   "execution_count": 2,
   "id": "044ffe5b-ef1d-4c24-ba53-c8c19fef7b5d",
   "metadata": {},
   "outputs": [],
   "source": [
    "from typing import List\n",
    "class Solution:\n",
    "    def sortColors(self, nums: List[int]) -> None:\n",
    "        n = len(nums)\n",
    "        ptr = 0\n",
    "        for i in range(n):\n",
    "            if nums[i] == 0:\n",
    "                nums[i], nums[ptr] = nums[ptr], nums[i]\n",
    "                ptr += 1\n",
    "        for i in range(ptr, n):\n",
    "            if nums[i] == 1:\n",
    "                nums[i], nums[ptr] = nums[ptr], nums[i]\n",
    "                ptr += 1\n",
    "\n",
    "# 作者：LeetCode-Solution\n",
    "# 链接：https://leetcode.cn/problems/sort-colors/solution/yan-se-fen-lei-by-leetcode-solution/\n",
    "# 来源：力扣（LeetCode）\n",
    "# 著作权归作者所有。商业转载请联系作者获得授权，非商业转载请注明出处。"
   ]
  },
  {
   "cell_type": "markdown",
   "id": "853f442a-b036-48a6-b2cc-e1c2ee95e676",
   "metadata": {},
   "source": [
    "### 方法二： 双指针"
   ]
  },
  {
   "cell_type": "code",
   "execution_count": 3,
   "id": "590715e1-c4d9-4f22-8e1d-eaec9deef5fd",
   "metadata": {},
   "outputs": [],
   "source": [
    "class Solution:\n",
    "    def sortColors(self, nums: List[int]) -> None:\n",
    "        n = len(nums)\n",
    "        p0 = p1 = 0\n",
    "        for i in range(n):\n",
    "            if nums[i] == 1:\n",
    "                nums[i], nums[p1] = nums[p1], nums[i]\n",
    "                p1 += 1\n",
    "            elif nums[i] == 0:\n",
    "                nums[i], nums[p0] = nums[p0], nums[i]\n",
    "                if p0 < p1:\n",
    "                    nums[i], nums[p1] = nums[p1], nums[i]\n",
    "                p0 += 1\n",
    "                p1 += 1\n",
    "\n",
    "# 作者：LeetCode-Solution\n",
    "# 链接：https://leetcode.cn/problems/sort-colors/solution/yan-se-fen-lei-by-leetcode-solution/\n",
    "# 来源：力扣（LeetCode）\n",
    "# 著作权归作者所有。商业转载请联系作者获得授权，非商业转载请注明出处。"
   ]
  },
  {
   "cell_type": "code",
   "execution_count": 4,
   "id": "66e75be3-62b1-48d4-b773-b6624ca06893",
   "metadata": {},
   "outputs": [],
   "source": [
    "class Solution:\n",
    "    def sortColors(self, nums: List[int]) -> None:\n",
    "        n = len(nums)\n",
    "        p0, p2 = 0, n - 1\n",
    "        i = 0\n",
    "        while i <= p2:\n",
    "            while i <= p2 and nums[i] == 2:\n",
    "                nums[i], nums[p2] = nums[p2], nums[i]\n",
    "                p2 -= 1\n",
    "            if nums[i] == 0:\n",
    "                nums[i], nums[p0] = nums[p0], nums[i]\n",
    "                p0 += 1\n",
    "            i += 1\n",
    "\n",
    "# 作者：LeetCode-Solution\n",
    "# 链接：https://leetcode.cn/problems/sort-colors/solution/yan-se-fen-lei-by-leetcode-solution/\n",
    "# 来源：力扣（LeetCode）\n",
    "# 著作权归作者所有。商业转载请联系作者获得授权，非商业转载请注明出处。"
   ]
  },
  {
   "cell_type": "markdown",
   "id": "50b429ad-8055-4e61-b5e4-7295b4d543ed",
   "metadata": {},
   "source": [
    "## 2. 前k个高频元素"
   ]
  },
  {
   "cell_type": "markdown",
   "id": "f94a8007-9945-4b59-96ca-bb33bac25a5e",
   "metadata": {},
   "source": [
    "### 方法一：堆"
   ]
  },
  {
   "cell_type": "markdown",
   "id": "e46c8dac-5cdc-4783-b345-899571c74f5b",
   "metadata": {},
   "source": [
    "首先遍历整个数组，并使用哈希表记录每个数字出现的次数，并形成一个「出现次数数组」。找出原数组的前k个高频元素，就相当于找出「出现次数数组」的前k大的值。\n",
    "\n",
    "最简单的做法是给「出现次数数组」排序。但由于可能有O(n)个不同的出现次数，故总的算法复杂度会达到O(nlogn)，不满足题目的要求。\n",
    "\n",
    "在这里，我们可以利用堆的思想：建立一个小顶堆，然后遍历「出现次数数组」：\n",
    " - 如果堆的元素个数小于k，就可以直接插入堆中。\n",
    " - 如果堆的元素个数等于k，则检查堆顶与当前出现次数的大小。如果堆顶更大，说明至少有k个数字的出现次数比当前值大，故舍弃当前值；否则，就弹出堆顶，并将当前值插入堆中。\n",
    " \n",
    " 遍历完成后，堆中的元素就代表了「出现次数数组」中前k大的值。"
   ]
  },
  {
   "cell_type": "code",
   "execution_count": null,
   "id": "5abe4ec1-6249-414e-8548-8afd6e72107c",
   "metadata": {},
   "outputs": [],
   "source": [
    "#时间复杂度：O(nlogk)\n",
    "#空间复杂度：O(n)\n",
    "import heapq\n",
    "class Solution:\n",
    "    def topKFrequent(self, nums: List[int], k: int) -> List[int]:\n",
    "        #要统计元素出现频率\n",
    "        map_ = {} #nums[i]:对应出现的次数\n",
    "        for i in range(len(nums)):\n",
    "            map_[nums[i]] = map_.get(nums[i], 0) + 1\n",
    "        \n",
    "        #对频率排序\n",
    "        #定义一个小顶堆，大小为k\n",
    "        pri_que = [] #小顶堆\n",
    "        \n",
    "        #用固定大小为k的小顶堆，扫面所有频率的数值\n",
    "        for key, freq in map_.items():\n",
    "            heapq.heappush(pri_que, (freq, key))\n",
    "            if len(pri_que) > k: #如果堆的大小大于了K，则队列弹出，保证堆的大小一直为k\n",
    "                heapq.heappop(pri_que)\n",
    "        \n",
    "        #找出前K个高频元素，因为小顶堆先弹出的是最小的，所以倒序来输出到数组\n",
    "        result = [0] * k\n",
    "        for i in range(k-1, -1, -1):\n",
    "            result[i] = heapq.heappop(pri_que)[1]\n",
    "        return result\n",
    "\n",
    "# 作者：carlsun-2\n",
    "# 链接：https://leetcode.cn/problems/top-k-frequent-elements/solution/by-carlsun-2-hybi/\n",
    "# 来源：力扣（LeetCode）\n",
    "# 著作权归作者所有。商业转载请联系作者获得授权，非商业转载请注明出处。"
   ]
  },
  {
   "cell_type": "markdown",
   "id": "ff7023ff-6593-4c55-b42a-f4c236b11b91",
   "metadata": {},
   "source": [
    "### python heapq"
   ]
  },
  {
   "cell_type": "markdown",
   "id": "4392b351-982e-402e-a37e-be7fed154683",
   "metadata": {},
   "source": [
    "这个模块提供了堆队列算法的实现，也称为优先队列算法。\n",
    "\n",
    "堆是一个二叉树，它的每个父结点的值都只会小于或等于所有孩子节点的值（最小堆），它使用了数组来实现：$heap[k] \\leq heap[2 * k + 1] \\quad and \\quad heap[k] \\leq heap[2 * k + 2]$。$heap[0]$表示最小的元素，同时 $heap.sort()$ 维护了堆的不变性。\n",
    "\n",
    "堆元素可以为元素，这适用于将比较值与跟踪的主记录进行赋值的场合。\n",
    "\n",
    "要创建一个堆，可以使用list来初始化为[]。或者可以通过 heapify()，来把一个list转换成堆。\n",
    "\n",
    "定义了以下函数：\n",
    "\n",
    "- $heapq.headpush(heap, item)$：  \n",
    "    将item的值加入heap中，保持堆的不变性。\n",
    "- $heapq.headpop(heap)$：  \n",
    "    弹出并返回heap的最小的元素，保持堆的不变性。如果堆为空返回异常，使用heap[0]，可以只访问最小的元素而不弹出它。\n",
    "- $heapq.heappushpop(head, item)$：  \n",
    "    将item放入堆中，然后弹出并返回heap的最小元素。\n",
    "- $heapq.heapify(x)$：  \n",
    "    将list x转换成堆，原地，线性时间内。\n",
    "- $heapq.heapreplace(heap, item)$：  \n",
    "    弹出并返回heap中最小的一项，同时推入新的item。堆的大小不变。如果堆为空则报错。\n",
    "    \n",
    "该模块还提供了三个基于堆的通用功能函数。\n",
    "\n",
    "- heaoq.merge(*iterables, key = None, reverse = False)：  \n",
    "     将多个已排序的输入合并为一个已排序的输出。\n",
    "- heapq.nlargest(n, iterable, key = None)：  \n",
    "    从iterable所定义的数据集中返回前n个最小元素组成的列表。如果提供了key则其应指定一个单参数的函数，用于从iterable的每个元素中提取比较键。\n",
    "- heapq.nsmallest(n, iterable, key = None)：  \n",
    "    从iterable所定义的数据集中返回前n个最小元素组成的列表。\n",
    "\n",
    "后两个函数在n值较小时性能最好。对于更大的值，使用sorted()函数会更有效率。此外，当n = 1时，使用内置的min()和max()函数会更有效率。如果需要重复使用这些函数，请考虑将可迭代对象转为真正的堆。\n"
   ]
  },
  {
   "cell_type": "code",
   "execution_count": 16,
   "id": "1ac0eb97-6f8a-4f83-a29f-f83e5662f78d",
   "metadata": {},
   "outputs": [],
   "source": [
    "from collections import Counter\n",
    "import heapq\n",
    "from typing import List\n",
    "class Solution:\n",
    "    def topKFrequent(self, nums: List[int], k: int) -> List[int]:\n",
    "        cnt = Counter(nums)\n",
    "        heap = []\n",
    "        heapq.heapify(heap)\n",
    "        for key, val in cnt.items():\n",
    "            if len(heap) < k: heapq.heappush(heap, (val, key))\n",
    "            elif len(heap) == k and val > heap[0][0]: heapq.heapreplace(heap, (val, key))\n",
    "        return [n[1] for n in heap]"
   ]
  },
  {
   "cell_type": "code",
   "execution_count": 17,
   "id": "204fbf27-aae2-47bf-aad6-33c09ee1730c",
   "metadata": {},
   "outputs": [],
   "source": [
    "nums = [1]\n",
    "k = 2"
   ]
  },
  {
   "cell_type": "code",
   "execution_count": 18,
   "id": "7de37f3b-09d4-409f-b535-503b48f97c9f",
   "metadata": {},
   "outputs": [
    {
     "data": {
      "text/plain": [
       "[1]"
      ]
     },
     "execution_count": 18,
     "metadata": {},
     "output_type": "execute_result"
    }
   ],
   "source": [
    "s = Solution()\n",
    "s.topKFrequent(nums, k)"
   ]
  },
  {
   "cell_type": "markdown",
   "id": "cebdb5ff-d3dc-4d96-a2c8-e9240aa0dc38",
   "metadata": {},
   "source": [
    "- 时间复杂度：O(nlogk) logk为每次维护最小堆的时间\n",
    "- 空间复杂度：O(n)"
   ]
  },
  {
   "cell_type": "markdown",
   "id": "48c3963d-aea5-4a6d-aaf3-2e89808f767a",
   "metadata": {},
   "source": [
    "### 方法二： 快排"
   ]
  },
  {
   "cell_type": "markdown",
   "id": "31fe1b04-662a-4858-8638-7dd97a8c4b41",
   "metadata": {},
   "source": [
    "## 3. 数组中的第k个最大元素"
   ]
  },
  {
   "cell_type": "markdown",
   "id": "235ca96e-19b7-4432-aad4-1364512a7ce7",
   "metadata": {},
   "source": [
    "- 假设这里数组的长度为 n\n",
    "- 本题希望我们返回数组排序之后的倒数第k个位置。"
   ]
  },
  {
   "cell_type": "markdown",
   "id": "40435197-785d-41d1-ab9d-9f5411ec30e8",
   "metadata": {},
   "source": [
    "### 方法一：基于快速排序的选择方法\n",
    "\n",
    "我们可以用快速排序来解决这个问题，先对原数组排序，再返回倒数第k个位置，这样平均时间复杂度是$O(n\\log n)$，但其实我们可以做的更快。\n",
    "\n",
    "首先我们来回顾一下快速排序，这是一个典型的分治算法。我们对数组 $a[l \\cdots r]$ 做快速排序的过程是：\n",
    "- 分解：将数组 $a[l \\cdots r]$ 「划分」成两个子数组 $a[l \\cdots q-1], a[q+1 \\cdots r]$，使得$a[l \\cdots q-1]$ 中的每个元素小于等于 $a[q]$ ，且 $a[q]$ 小于等于 $a[q+1 \\cdots r]$中的每个元素。其中，计算下标 $q$ 也是「划分」过程的一部分。\n",
    "\n",
    "- 解决：通过递归调用快速排序，对子数组 $a[l \\cdots q-1]$ 和 $a[q+1 \\cdots r]$ 进行排序。\n",
    "\n",
    "- 合并：因为子数组都是原址排序的，所以不需要进行合并操作，$a[l \\cdots r]$ 已经有序。\n",
    "\n",
    "- 上文中提到的「划分」过程是：从子数组 $a[l \\cdots r]$ 中选择任意一个元素 $x$ 作为主元。调整子数组的元素使得左边的元素都小于等于它，右边的元素都大于等于它， $x$ 的最终位置就是 $q$。\n",
    "\n",
    "由此可以发现每次经过「划分」的操作后，我们一定可以确定一个元素的最终位置，即 $x$ 的最终位置为 $q$，并且保证 $a[l \\cdots q-1]$ 中的每个元素小于等于 $a[q]$，且 $a[q]$ 小于等于 $a[q+1 \\cdots r]$ 中的每个元素。所以只要某次划分的 $q$ 为倒数第 $k$ 个下标的时候，我们就已经找到了答案。我们只关心这一点，至于 $a[l \\cdots q-1]$ 和 $a[q+1 \\cdots r]$ 是否是有序的，我们不关心。\n",
    "\n",
    "因此我们可以改进快速排序算法来解决这个问题：在分解的过程当中，我们会对子数组进行划分，如果划分得到的 $q$ 正好就是我们需要的下标，就直接返回 $a[q]$；否则，如果 $q$ 比目标下标小，就递归右子区间，否则递归左子区间。这样就可以把原来递归两个区间变成只递归一个区间，提高了时间效率。这就是「快速选择」算法。\n",
    "\n",
    "我们直到快速排序的性能和「划分」出的子数组的长度穆怯相关。直观地理解如果每次规模为 $n$ 的问题我们都划分成 $1$ 和 $n-1$，每次递归的时候又向 $n-1$ 的集合中递归，这种情况是最坏的，时间代价是 $O(n^2)$。我们可以引入随机化来加速这个过程，它的时间代价期望是 $O(n)$。"
   ]
  },
  {
   "cell_type": "code",
   "execution_count": 18,
   "id": "25e22800-9d67-499a-a2b9-73cd41730a37",
   "metadata": {},
   "outputs": [],
   "source": [
    "import random\n",
    "from typing import List\n",
    "class Solution:\n",
    "    def findKthLargest(self, nums: List[int], k: int) -> int:\n",
    "        def partition(a, l, r):\n",
    "            cur = random.randint(l, r)\n",
    "            a[r], a[cur] = a[cur], a[r]\n",
    "            x, i = a[r], l - 1\n",
    "            for j in range(l, r):\n",
    "                if a[j] <= x: \n",
    "                    i += 1\n",
    "                    a[i], a[j] = a[j], a[i]\n",
    "            a[i + 1], a[r] = a[r], a[i + 1]\n",
    "            return i + 1\n",
    "        \n",
    "        def quickselect(a, l, r, idx):\n",
    "            res = partition(a, l, r)\n",
    "            if res == idx: return a[res]\n",
    "            return quickselect(a, l, res - 1, idx) if res > idx \\\n",
    "            else quickselect(a, res + 1, r, idx)\n",
    "        \n",
    "        return quickselect(nums, 0, len(nums) - 1, len(nums) - k)"
   ]
  },
  {
   "cell_type": "code",
   "execution_count": 21,
   "id": "08e8aa9e-b36b-4d6f-a705-4d83c3d320dc",
   "metadata": {},
   "outputs": [],
   "source": [
    "nums = [3,2,3,1,2,4,5,5,6]\n",
    "k = 4"
   ]
  },
  {
   "cell_type": "code",
   "execution_count": 22,
   "id": "5a8130ba-298e-44b9-9ad7-c020e004e99c",
   "metadata": {},
   "outputs": [
    {
     "data": {
      "text/plain": [
       "4"
      ]
     },
     "execution_count": 22,
     "metadata": {},
     "output_type": "execute_result"
    }
   ],
   "source": [
    "s = Solution()\n",
    "s.findKthLargest(nums, k)"
   ]
  },
  {
   "cell_type": "markdown",
   "id": "9cadd0e2-6aac-47c5-bcd6-3d0e81b7116e",
   "metadata": {},
   "source": [
    "- 时间复杂度：O(n)\n",
    "- 空间复杂度：O(logn)"
   ]
  },
  {
   "cell_type": "markdown",
   "id": "138a6fc8-2360-44dd-b4c8-f203dc654168",
   "metadata": {},
   "source": [
    "**附快排**"
   ]
  },
  {
   "cell_type": "code",
   "execution_count": 4,
   "id": "b8123e0c-74e3-42d4-b02b-2bfb7f257314",
   "metadata": {},
   "outputs": [],
   "source": [
    "# 无随机化\n",
    "def quicksort(nums):\n",
    "    def partition(l, r):\n",
    "        if l < r:\n",
    "            x, i = nums[r], l - 1\n",
    "            for j in range(l, r):\n",
    "                if nums[j] <= x:\n",
    "                    i += 1\n",
    "                    nums[i], nums[j] = nums[j], nums[i]\n",
    "            nums[i + 1], nums[r] = nums[r], nums[i + 1]\n",
    "            partition(l, i)\n",
    "            partition(i + 2, r)\n",
    "        \n",
    "    n = len(nums)\n",
    "    partition(0, n - 1)\n",
    "    return nums"
   ]
  },
  {
   "cell_type": "code",
   "execution_count": 5,
   "id": "5d0035f0-ef03-4591-86cc-942804e105dd",
   "metadata": {},
   "outputs": [
    {
     "data": {
      "text/plain": [
       "[1, 2, 3, 4, 5]"
      ]
     },
     "execution_count": 5,
     "metadata": {},
     "output_type": "execute_result"
    }
   ],
   "source": [
    "nums = [5,4,3,2,1]\n",
    "quicksort(nums)"
   ]
  },
  {
   "cell_type": "markdown",
   "id": "4d2ca7f6-fb87-457f-a20f-c621287ad761",
   "metadata": {},
   "source": [
    "### 方法二：小根堆"
   ]
  },
  {
   "cell_type": "code",
   "execution_count": 10,
   "id": "ada8e4a4-fe81-4c2c-83dd-772325e76b80",
   "metadata": {},
   "outputs": [],
   "source": [
    "import heapq\n",
    "from typing import List\n",
    "class Solution:\n",
    "    def findKthLargest(self, nums: List[int], k: int) -> int:\n",
    "        heap = []\n",
    "        for n in nums:\n",
    "            if len(heap) == k: heapq.heappushpop(heap, n)\n",
    "            else: heapq.heappush(heap, n)\n",
    "        return heap[0]"
   ]
  },
  {
   "cell_type": "markdown",
   "id": "b250927a-e760-48e5-9a2e-5bb5b8e024a1",
   "metadata": {},
   "source": [
    "- 时间复杂度：O(nlogk)，其中k为堆的长度\n",
    "- 空间复杂度：O(k)"
   ]
  },
  {
   "cell_type": "code",
   "execution_count": null,
   "id": "96ce5f2c-7b7a-4942-addf-6415ed5bed80",
   "metadata": {},
   "outputs": [],
   "source": []
  },
  {
   "cell_type": "code",
   "execution_count": null,
   "id": "b36b8e66-c458-4ce6-ab5b-351268906807",
   "metadata": {},
   "outputs": [],
   "source": []
  },
  {
   "cell_type": "code",
   "execution_count": null,
   "id": "1e63eb1c-a082-4736-908c-b07d43344403",
   "metadata": {},
   "outputs": [],
   "source": []
  },
  {
   "cell_type": "code",
   "execution_count": null,
   "id": "3e261fe4-4a30-48f3-8a14-32ffc1dd216d",
   "metadata": {},
   "outputs": [],
   "source": []
  },
  {
   "cell_type": "code",
   "execution_count": null,
   "id": "00fca367-8fae-47c0-863a-b155dbc8301d",
   "metadata": {},
   "outputs": [],
   "source": []
  },
  {
   "cell_type": "code",
   "execution_count": null,
   "id": "44711bca-2f8a-4b56-a491-705dd6de102a",
   "metadata": {},
   "outputs": [],
   "source": []
  },
  {
   "cell_type": "code",
   "execution_count": null,
   "id": "22030f39-b9f7-4565-9abf-a6e52d47d5f1",
   "metadata": {},
   "outputs": [],
   "source": []
  },
  {
   "cell_type": "code",
   "execution_count": null,
   "id": "56912f20-314c-47d6-b0db-2773e40d88f2",
   "metadata": {},
   "outputs": [],
   "source": []
  },
  {
   "cell_type": "code",
   "execution_count": null,
   "id": "6fd2dfe3-e7c1-45eb-b138-188db675dfb1",
   "metadata": {},
   "outputs": [],
   "source": []
  },
  {
   "cell_type": "code",
   "execution_count": null,
   "id": "c0d64a43-89c5-4465-8746-a71f5064e036",
   "metadata": {},
   "outputs": [],
   "source": []
  },
  {
   "cell_type": "code",
   "execution_count": null,
   "id": "7da33817-bcb9-43c9-81a6-86e2a1e2148e",
   "metadata": {},
   "outputs": [],
   "source": []
  },
  {
   "cell_type": "code",
   "execution_count": null,
   "id": "752dfa2d-db22-4360-9549-b0d350e5988e",
   "metadata": {},
   "outputs": [],
   "source": []
  },
  {
   "cell_type": "code",
   "execution_count": null,
   "id": "4a9f485e-2ecc-40ff-8a98-aeabc5109b58",
   "metadata": {},
   "outputs": [],
   "source": []
  },
  {
   "cell_type": "code",
   "execution_count": null,
   "id": "69445611-fe5d-4f50-9392-b1f251b1ea97",
   "metadata": {},
   "outputs": [],
   "source": []
  },
  {
   "cell_type": "code",
   "execution_count": null,
   "id": "c9a6fe12-7388-4d7a-9263-2724172c9316",
   "metadata": {},
   "outputs": [],
   "source": []
  },
  {
   "cell_type": "code",
   "execution_count": null,
   "id": "d79722a5-7ea2-4e04-afc2-58301aeb0a0d",
   "metadata": {},
   "outputs": [],
   "source": []
  },
  {
   "cell_type": "code",
   "execution_count": null,
   "id": "b63b6e2f-8748-4ef8-910e-722b87006270",
   "metadata": {},
   "outputs": [],
   "source": []
  },
  {
   "cell_type": "code",
   "execution_count": null,
   "id": "dda38c09-b444-4af4-b8f5-ee9b6469e2c4",
   "metadata": {},
   "outputs": [],
   "source": []
  },
  {
   "cell_type": "code",
   "execution_count": null,
   "id": "b8ee0fad-983a-4261-b9d4-ce925296182c",
   "metadata": {},
   "outputs": [],
   "source": []
  },
  {
   "cell_type": "code",
   "execution_count": null,
   "id": "395a3edc-a00d-40f0-8a54-564f3cc54791",
   "metadata": {},
   "outputs": [],
   "source": []
  },
  {
   "cell_type": "code",
   "execution_count": null,
   "id": "bb0b9a12-d9e2-47bd-a094-d6ef9b7a3de7",
   "metadata": {},
   "outputs": [],
   "source": []
  },
  {
   "cell_type": "code",
   "execution_count": null,
   "id": "1460a9e6-9023-4101-bbb3-14dc55cdc5a0",
   "metadata": {},
   "outputs": [],
   "source": []
  },
  {
   "cell_type": "code",
   "execution_count": null,
   "id": "a2817074-ae80-4feb-ad8f-b3c1a0dca4a4",
   "metadata": {},
   "outputs": [],
   "source": []
  },
  {
   "cell_type": "code",
   "execution_count": null,
   "id": "deae644c-9022-4bef-956f-a667e497eb81",
   "metadata": {},
   "outputs": [],
   "source": []
  },
  {
   "cell_type": "code",
   "execution_count": null,
   "id": "5df2902b-d75d-44b8-ba2a-a72284dfd519",
   "metadata": {},
   "outputs": [],
   "source": []
  },
  {
   "cell_type": "code",
   "execution_count": null,
   "id": "3fb33436-c51d-4191-a168-3b909afcd6c4",
   "metadata": {},
   "outputs": [],
   "source": []
  },
  {
   "cell_type": "code",
   "execution_count": null,
   "id": "09e1f5f3-110b-4b19-8c0e-69f6723b233a",
   "metadata": {},
   "outputs": [],
   "source": []
  },
  {
   "cell_type": "code",
   "execution_count": null,
   "id": "ebd83996-02d2-4214-8b85-2ee599fde361",
   "metadata": {},
   "outputs": [],
   "source": []
  },
  {
   "cell_type": "code",
   "execution_count": null,
   "id": "6d562cd7-e438-4fab-8065-9e84aad061b3",
   "metadata": {},
   "outputs": [],
   "source": []
  },
  {
   "cell_type": "code",
   "execution_count": null,
   "id": "28591ebd-503f-4c02-8e4d-66c575c1670c",
   "metadata": {},
   "outputs": [],
   "source": []
  },
  {
   "cell_type": "code",
   "execution_count": null,
   "id": "923c397b-bc5c-4530-a277-ad707e18e1ce",
   "metadata": {},
   "outputs": [],
   "source": []
  },
  {
   "cell_type": "code",
   "execution_count": null,
   "id": "1d608f3b-7c23-4602-b876-b9047a5e0d5b",
   "metadata": {},
   "outputs": [],
   "source": []
  },
  {
   "cell_type": "code",
   "execution_count": null,
   "id": "55ebb8e2-7d2e-49f0-94e7-83b842b8a790",
   "metadata": {},
   "outputs": [],
   "source": []
  },
  {
   "cell_type": "code",
   "execution_count": null,
   "id": "94ca45f3-e362-45f5-8f0c-aff8545e8100",
   "metadata": {},
   "outputs": [],
   "source": []
  },
  {
   "cell_type": "code",
   "execution_count": null,
   "id": "4f47a000-0300-4ff1-9211-7480cf3916fd",
   "metadata": {},
   "outputs": [],
   "source": []
  },
  {
   "cell_type": "code",
   "execution_count": null,
   "id": "e5380e2c-bce9-4766-a115-10b66265f654",
   "metadata": {},
   "outputs": [],
   "source": []
  },
  {
   "cell_type": "code",
   "execution_count": null,
   "id": "d37ad1ab-c32a-4cf7-a344-2a48b6a8c77f",
   "metadata": {},
   "outputs": [],
   "source": []
  },
  {
   "cell_type": "code",
   "execution_count": null,
   "id": "9a44a582-e9d6-457d-b72f-012cee77750f",
   "metadata": {},
   "outputs": [],
   "source": []
  },
  {
   "cell_type": "code",
   "execution_count": null,
   "id": "983b44e3-ee74-4ed2-bd23-6ceec26c07fe",
   "metadata": {},
   "outputs": [],
   "source": []
  },
  {
   "cell_type": "code",
   "execution_count": null,
   "id": "26d0a783-cdce-4814-bb34-5064d4c07186",
   "metadata": {},
   "outputs": [],
   "source": []
  },
  {
   "cell_type": "code",
   "execution_count": null,
   "id": "ebc7ebfd-c9fd-4b17-838a-eaf799b60edd",
   "metadata": {},
   "outputs": [],
   "source": []
  },
  {
   "cell_type": "code",
   "execution_count": null,
   "id": "46d03918-1027-41ad-9057-4463d3aff7dc",
   "metadata": {},
   "outputs": [],
   "source": []
  },
  {
   "cell_type": "code",
   "execution_count": null,
   "id": "0a7c25a6-90d9-4a48-91d5-b173bdb41db3",
   "metadata": {},
   "outputs": [],
   "source": []
  },
  {
   "cell_type": "code",
   "execution_count": null,
   "id": "c2326d75-59ae-4ac0-8fa9-4e94add2b904",
   "metadata": {},
   "outputs": [],
   "source": []
  },
  {
   "cell_type": "code",
   "execution_count": null,
   "id": "03405a5a-dba5-4e4b-bb6b-d405ef367a0f",
   "metadata": {},
   "outputs": [],
   "source": []
  },
  {
   "cell_type": "code",
   "execution_count": null,
   "id": "6fda8592-2ed4-41a8-9eaa-2fcef8bf705e",
   "metadata": {},
   "outputs": [],
   "source": []
  },
  {
   "cell_type": "code",
   "execution_count": null,
   "id": "a184f0a0-690a-4f06-a886-35d6290027d0",
   "metadata": {},
   "outputs": [],
   "source": []
  },
  {
   "cell_type": "code",
   "execution_count": null,
   "id": "b8ffb387-e2cd-4f93-8414-dda3a20298bb",
   "metadata": {},
   "outputs": [],
   "source": []
  },
  {
   "cell_type": "code",
   "execution_count": null,
   "id": "4d34ae9c-c7e2-4fc6-9fc7-36989aa784fd",
   "metadata": {},
   "outputs": [],
   "source": []
  },
  {
   "cell_type": "code",
   "execution_count": null,
   "id": "6cad6f73-951f-4486-9af1-f78c0d61465a",
   "metadata": {},
   "outputs": [],
   "source": []
  },
  {
   "cell_type": "code",
   "execution_count": null,
   "id": "127bbcac-61d4-4751-be37-cd9d811d8800",
   "metadata": {},
   "outputs": [],
   "source": []
  },
  {
   "cell_type": "code",
   "execution_count": null,
   "id": "fc83b754-16d1-4a6d-a4c5-74f9d34ca18d",
   "metadata": {},
   "outputs": [],
   "source": []
  },
  {
   "cell_type": "code",
   "execution_count": null,
   "id": "88b91f55-11c7-42f0-bb61-0e49faa20a55",
   "metadata": {},
   "outputs": [],
   "source": []
  },
  {
   "cell_type": "code",
   "execution_count": null,
   "id": "ea582e91-6f70-498f-9d9d-6c891243c6a3",
   "metadata": {},
   "outputs": [],
   "source": []
  },
  {
   "cell_type": "code",
   "execution_count": null,
   "id": "acfd8c14-2fac-4a89-b0ca-6039ce391f21",
   "metadata": {},
   "outputs": [],
   "source": []
  },
  {
   "cell_type": "code",
   "execution_count": null,
   "id": "1f9be965-8b54-4fa5-8120-5515688f0190",
   "metadata": {},
   "outputs": [],
   "source": []
  },
  {
   "cell_type": "code",
   "execution_count": null,
   "id": "e692c6dc-0735-4e3d-b608-520395830c49",
   "metadata": {},
   "outputs": [],
   "source": []
  },
  {
   "cell_type": "code",
   "execution_count": null,
   "id": "669f3a91-9f48-4819-81f3-cf4d1f2990de",
   "metadata": {},
   "outputs": [],
   "source": []
  },
  {
   "cell_type": "code",
   "execution_count": null,
   "id": "1b0986ab-d3a8-4c31-8937-742d5a873088",
   "metadata": {},
   "outputs": [],
   "source": []
  },
  {
   "cell_type": "code",
   "execution_count": null,
   "id": "71bd611d-b3b9-4aa4-8ffc-0cc160b12b9e",
   "metadata": {},
   "outputs": [],
   "source": []
  },
  {
   "cell_type": "code",
   "execution_count": null,
   "id": "068099b6-7410-41d8-af7f-7d49c62b1d0e",
   "metadata": {},
   "outputs": [],
   "source": []
  },
  {
   "cell_type": "code",
   "execution_count": null,
   "id": "834923fa-e8fb-4906-a11a-40df79ec646e",
   "metadata": {},
   "outputs": [],
   "source": []
  },
  {
   "cell_type": "code",
   "execution_count": null,
   "id": "6b2efd71-3ece-4bf4-b93f-fb1083b8af00",
   "metadata": {},
   "outputs": [],
   "source": []
  },
  {
   "cell_type": "code",
   "execution_count": null,
   "id": "d2fd3ae0-6023-456e-865a-df4097c103ac",
   "metadata": {},
   "outputs": [],
   "source": []
  },
  {
   "cell_type": "code",
   "execution_count": null,
   "id": "bdcc5630-ee68-4256-a57e-5345ab19620f",
   "metadata": {},
   "outputs": [],
   "source": []
  },
  {
   "cell_type": "code",
   "execution_count": null,
   "id": "5bddf3f2-f578-4a62-8e1b-c8b4408395de",
   "metadata": {},
   "outputs": [],
   "source": []
  },
  {
   "cell_type": "code",
   "execution_count": null,
   "id": "1abd0655-301d-45c6-ba6c-78f598708ed2",
   "metadata": {},
   "outputs": [],
   "source": []
  },
  {
   "cell_type": "code",
   "execution_count": null,
   "id": "9f6463b3-cc23-4992-b852-5de21b90839b",
   "metadata": {},
   "outputs": [],
   "source": []
  },
  {
   "cell_type": "code",
   "execution_count": null,
   "id": "0a9435b6-b1f8-40a1-baee-1c4d52df6044",
   "metadata": {},
   "outputs": [],
   "source": []
  },
  {
   "cell_type": "code",
   "execution_count": null,
   "id": "9bc74c63-0f48-49bd-854e-e960e74a7508",
   "metadata": {},
   "outputs": [],
   "source": []
  },
  {
   "cell_type": "code",
   "execution_count": null,
   "id": "61b1eba0-df58-4de5-803e-9fb9866fd3d7",
   "metadata": {},
   "outputs": [],
   "source": []
  },
  {
   "cell_type": "code",
   "execution_count": null,
   "id": "06382c99-86a8-4d1c-a42d-dc15bbe9b20b",
   "metadata": {},
   "outputs": [],
   "source": []
  },
  {
   "cell_type": "code",
   "execution_count": null,
   "id": "741e133b-f91d-4957-aed1-d328cdf72516",
   "metadata": {},
   "outputs": [],
   "source": []
  },
  {
   "cell_type": "code",
   "execution_count": null,
   "id": "3c161d72-00ec-4d18-9f0a-c1ea70c24fab",
   "metadata": {},
   "outputs": [],
   "source": []
  },
  {
   "cell_type": "code",
   "execution_count": null,
   "id": "99e786c5-0f92-41ec-ba09-b8f17c51373d",
   "metadata": {},
   "outputs": [],
   "source": []
  },
  {
   "cell_type": "code",
   "execution_count": null,
   "id": "ed78e99a-cb77-41a3-8202-a9891c59ecd6",
   "metadata": {},
   "outputs": [],
   "source": []
  },
  {
   "cell_type": "code",
   "execution_count": null,
   "id": "43751974-5aa8-46c9-b160-c09363f99a1a",
   "metadata": {},
   "outputs": [],
   "source": []
  },
  {
   "cell_type": "code",
   "execution_count": null,
   "id": "4c777338-4253-4006-a9b7-100dbb33574d",
   "metadata": {},
   "outputs": [],
   "source": []
  },
  {
   "cell_type": "code",
   "execution_count": null,
   "id": "e2fcdf4f-6b62-4b86-824e-61ce8b0fd74a",
   "metadata": {},
   "outputs": [],
   "source": []
  },
  {
   "cell_type": "code",
   "execution_count": null,
   "id": "16ef97fd-4044-4d17-bb5a-ff32e6f012ac",
   "metadata": {},
   "outputs": [],
   "source": []
  },
  {
   "cell_type": "code",
   "execution_count": null,
   "id": "435dbb5c-797a-45b7-b108-eee6a240a581",
   "metadata": {},
   "outputs": [],
   "source": []
  },
  {
   "cell_type": "code",
   "execution_count": null,
   "id": "bbe95846-0b6f-45a1-b00f-5e7521766f33",
   "metadata": {},
   "outputs": [],
   "source": []
  },
  {
   "cell_type": "code",
   "execution_count": null,
   "id": "54f54db1-f1f9-4d82-9b1c-8c0f3a43bbd5",
   "metadata": {},
   "outputs": [],
   "source": []
  },
  {
   "cell_type": "code",
   "execution_count": null,
   "id": "50fd70d2-3e43-45a0-baae-7dbaa0297688",
   "metadata": {},
   "outputs": [],
   "source": []
  },
  {
   "cell_type": "code",
   "execution_count": null,
   "id": "eff22855-18b2-4ed4-bc3d-785bade1a0ae",
   "metadata": {},
   "outputs": [],
   "source": []
  },
  {
   "cell_type": "code",
   "execution_count": null,
   "id": "f7d3afb4-687c-4d01-a3aa-e8c09789db4c",
   "metadata": {},
   "outputs": [],
   "source": []
  },
  {
   "cell_type": "code",
   "execution_count": null,
   "id": "da9ced9b-1928-4771-84d8-bb300eea3266",
   "metadata": {},
   "outputs": [],
   "source": []
  },
  {
   "cell_type": "code",
   "execution_count": null,
   "id": "2bbcea70-e2cb-4255-9ae3-2a3ee4891f66",
   "metadata": {},
   "outputs": [],
   "source": []
  },
  {
   "cell_type": "code",
   "execution_count": null,
   "id": "55920d19-85eb-4709-a93b-4fadf383c370",
   "metadata": {},
   "outputs": [],
   "source": []
  },
  {
   "cell_type": "code",
   "execution_count": null,
   "id": "7c6aa997-08a4-42a4-808e-1f4422f417ad",
   "metadata": {},
   "outputs": [],
   "source": []
  },
  {
   "cell_type": "code",
   "execution_count": null,
   "id": "1c6bf05d-97ff-44df-be70-bb93049cc9ca",
   "metadata": {},
   "outputs": [],
   "source": []
  },
  {
   "cell_type": "code",
   "execution_count": null,
   "id": "da575f9e-25dd-40b9-b3c2-d7337beec897",
   "metadata": {},
   "outputs": [],
   "source": []
  },
  {
   "cell_type": "code",
   "execution_count": null,
   "id": "6d9bfa87-0f7c-4da3-a75c-e5ef0d15ef8e",
   "metadata": {},
   "outputs": [],
   "source": []
  },
  {
   "cell_type": "code",
   "execution_count": null,
   "id": "c3ed14e6-78a5-4197-b677-bea69e511d56",
   "metadata": {},
   "outputs": [],
   "source": []
  },
  {
   "cell_type": "code",
   "execution_count": null,
   "id": "fde429d6-4c68-4d8d-9dea-f730cf892f26",
   "metadata": {},
   "outputs": [],
   "source": []
  },
  {
   "cell_type": "code",
   "execution_count": null,
   "id": "7b190a7b-566f-488f-964c-4269eeb56624",
   "metadata": {},
   "outputs": [],
   "source": []
  },
  {
   "cell_type": "code",
   "execution_count": null,
   "id": "706c6e09-13b4-428b-94a3-652780d630c3",
   "metadata": {},
   "outputs": [],
   "source": []
  },
  {
   "cell_type": "code",
   "execution_count": null,
   "id": "3c557a2c-6382-4e74-b707-884d6b082339",
   "metadata": {},
   "outputs": [],
   "source": []
  },
  {
   "cell_type": "code",
   "execution_count": null,
   "id": "7ae167d8-8202-4a55-861c-689574c26776",
   "metadata": {},
   "outputs": [],
   "source": []
  },
  {
   "cell_type": "code",
   "execution_count": null,
   "id": "0911788a-0cc4-491a-b0b2-1046a8d575e8",
   "metadata": {},
   "outputs": [],
   "source": []
  },
  {
   "cell_type": "code",
   "execution_count": null,
   "id": "a6c898c8-631c-4f4c-9862-7e2142fb13d0",
   "metadata": {},
   "outputs": [],
   "source": []
  },
  {
   "cell_type": "code",
   "execution_count": null,
   "id": "25ee6388-a7b0-4f40-8812-794128401bc2",
   "metadata": {},
   "outputs": [],
   "source": []
  },
  {
   "cell_type": "code",
   "execution_count": null,
   "id": "c382a802-b7f3-4fdc-88e3-14ce1f6240fc",
   "metadata": {},
   "outputs": [],
   "source": []
  },
  {
   "cell_type": "code",
   "execution_count": null,
   "id": "d84e08ad-b25b-44c9-a7a4-99ab26531858",
   "metadata": {},
   "outputs": [],
   "source": []
  },
  {
   "cell_type": "code",
   "execution_count": null,
   "id": "cf0851a3-4f1a-4943-b97f-fd12a271cdd7",
   "metadata": {},
   "outputs": [],
   "source": []
  },
  {
   "cell_type": "code",
   "execution_count": null,
   "id": "6e674074-6260-43e4-8f47-a8927d477e93",
   "metadata": {},
   "outputs": [],
   "source": []
  },
  {
   "cell_type": "code",
   "execution_count": null,
   "id": "84b6b17f-d3fe-408c-b972-ca4f6428c414",
   "metadata": {},
   "outputs": [],
   "source": []
  },
  {
   "cell_type": "code",
   "execution_count": null,
   "id": "bd84f0ac-9e8f-4899-829a-a360118be533",
   "metadata": {},
   "outputs": [],
   "source": []
  },
  {
   "cell_type": "code",
   "execution_count": null,
   "id": "3c144d43-fdd4-49f7-af95-854c6ce29764",
   "metadata": {},
   "outputs": [],
   "source": []
  },
  {
   "cell_type": "code",
   "execution_count": null,
   "id": "1a2dc4e4-0f1b-4fe5-b293-f0bb4e9f91e7",
   "metadata": {},
   "outputs": [],
   "source": []
  },
  {
   "cell_type": "code",
   "execution_count": null,
   "id": "921babfb-2fe3-4e64-a274-79e37b320af6",
   "metadata": {},
   "outputs": [],
   "source": []
  },
  {
   "cell_type": "code",
   "execution_count": null,
   "id": "58fd8c8e-2282-4ac5-a7c7-50d4e173d282",
   "metadata": {},
   "outputs": [],
   "source": []
  },
  {
   "cell_type": "code",
   "execution_count": null,
   "id": "80fb3807-c64c-4a94-ab18-eb41227d2a90",
   "metadata": {},
   "outputs": [],
   "source": []
  },
  {
   "cell_type": "code",
   "execution_count": null,
   "id": "1b402977-3638-49cb-9003-8989dda8f49e",
   "metadata": {},
   "outputs": [],
   "source": []
  },
  {
   "cell_type": "code",
   "execution_count": null,
   "id": "9c746103-eaac-42c5-908e-4b23f0923b08",
   "metadata": {},
   "outputs": [],
   "source": []
  },
  {
   "cell_type": "code",
   "execution_count": null,
   "id": "3dec6a46-6ae2-489d-b6dd-a07b4b7c4849",
   "metadata": {},
   "outputs": [],
   "source": []
  },
  {
   "cell_type": "code",
   "execution_count": null,
   "id": "b562a598-3425-4715-b9dd-e6c3144dfc3c",
   "metadata": {},
   "outputs": [],
   "source": []
  },
  {
   "cell_type": "code",
   "execution_count": null,
   "id": "bab790be-3883-4d8d-ae47-35c6409aaa22",
   "metadata": {},
   "outputs": [],
   "source": []
  },
  {
   "cell_type": "code",
   "execution_count": null,
   "id": "fb5699ee-e1c5-4cfe-8e88-cc7671c8da15",
   "metadata": {},
   "outputs": [],
   "source": []
  },
  {
   "cell_type": "code",
   "execution_count": null,
   "id": "494e2f0e-b077-49e7-ac06-8c50e013e0e6",
   "metadata": {},
   "outputs": [],
   "source": []
  },
  {
   "cell_type": "code",
   "execution_count": null,
   "id": "6aa2ee77-5f7e-4dc0-878a-fb76539c3ebf",
   "metadata": {},
   "outputs": [],
   "source": []
  },
  {
   "cell_type": "code",
   "execution_count": null,
   "id": "dc221f52-7321-4597-b85f-6b95bfefe830",
   "metadata": {},
   "outputs": [],
   "source": []
  },
  {
   "cell_type": "code",
   "execution_count": null,
   "id": "c178c957-6372-4d1c-8945-9443d14174a9",
   "metadata": {},
   "outputs": [],
   "source": []
  },
  {
   "cell_type": "code",
   "execution_count": null,
   "id": "e05a96ae-98a3-48f2-b84a-4bfbf5450c5f",
   "metadata": {},
   "outputs": [],
   "source": []
  },
  {
   "cell_type": "code",
   "execution_count": null,
   "id": "b0047660-e5a6-48ba-987d-e9f8cbdaaca4",
   "metadata": {},
   "outputs": [],
   "source": []
  },
  {
   "cell_type": "code",
   "execution_count": null,
   "id": "7e19031a-b12b-48ff-9a58-3d48709e57a1",
   "metadata": {},
   "outputs": [],
   "source": []
  },
  {
   "cell_type": "code",
   "execution_count": null,
   "id": "b4a5eff1-0926-4657-a174-0bb45644ee09",
   "metadata": {},
   "outputs": [],
   "source": []
  }
 ],
 "metadata": {
  "kernelspec": {
   "display_name": "Python 3 (ipykernel)",
   "language": "python",
   "name": "python3"
  },
  "language_info": {
   "codemirror_mode": {
    "name": "ipython",
    "version": 3
   },
   "file_extension": ".py",
   "mimetype": "text/x-python",
   "name": "python",
   "nbconvert_exporter": "python",
   "pygments_lexer": "ipython3",
   "version": "3.6.3"
  }
 },
 "nbformat": 4,
 "nbformat_minor": 5
}
