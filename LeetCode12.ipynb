{
 "cells": [
  {
   "cell_type": "markdown",
   "id": "a719eb91-d7cd-4a60-886e-3916918dd3a3",
   "metadata": {},
   "source": [
    "## 784. 字母大小写全排列"
   ]
  },
  {
   "cell_type": "markdown",
   "id": "b28330d0-e83a-400a-8522-d7ddb0a840cd",
   "metadata": {},
   "source": [
    "回溯"
   ]
  },
  {
   "cell_type": "code",
   "execution_count": 24,
   "id": "37292e0c-038a-45a9-b8b5-578425c64af2",
   "metadata": {},
   "outputs": [],
   "source": [
    "class Solution:\n",
    "    def letterCasePermutation(self, s: str) -> List[str]:\n",
    "        n, ans = len(s), []\n",
    "        alphapos = [i for i in range(n) if s[i].isalpha()]\n",
    "        alphalen = len(alphapos)\n",
    "        def dfs(idx, s):\n",
    "            if idx == alphalen: \n",
    "                ans.append(s)\n",
    "                return\n",
    "            pos = alphapos[idx]\n",
    "            s = s[:pos] + s[pos].lower() + s[pos + 1:]\n",
    "            dfs(idx + 1, s)\n",
    "            s = s[:pos] + s[pos].upper() + s[pos + 1:]\n",
    "            dfs(idx + 1, s)\n",
    "            return\n",
    "        dfs(0, s)\n",
    "        return ans"
   ]
  },
  {
   "cell_type": "code",
   "execution_count": 50,
   "id": "b8259196-f22f-4d6f-a94c-92536a720800",
   "metadata": {},
   "outputs": [],
   "source": [
    "s = \"1a\""
   ]
  },
  {
   "cell_type": "code",
   "execution_count": 51,
   "id": "027c77bc-0260-421d-b85d-a16c11a41dbe",
   "metadata": {},
   "outputs": [
    {
     "data": {
      "text/plain": [
       "['1a', '1A']"
      ]
     },
     "execution_count": 51,
     "metadata": {},
     "output_type": "execute_result"
    }
   ],
   "source": [
    "So = Solution()\n",
    "So.letterCasePermutation(s)"
   ]
  },
  {
   "cell_type": "markdown",
   "id": "dbdf147e-fb52-4775-a208-54d0d653c9fd",
   "metadata": {},
   "source": [
    "### python swapcase(): 进行大小写转换"
   ]
  },
  {
   "cell_type": "code",
   "execution_count": 32,
   "id": "ce5ce6c8-796e-46b5-bcb1-900d16f9bb0f",
   "metadata": {},
   "outputs": [],
   "source": [
    "class Solution:\n",
    "    def letterCasePermutation(self, s: str) -> List[str]:\n",
    "        ans = []\n",
    "        def dfs(s: List[str], pos: int) -> None:\n",
    "            while pos < len(s) and s[pos].isdigit():\n",
    "                pos += 1\n",
    "            if pos == len(s):\n",
    "                ans.append(''.join(s))\n",
    "                return\n",
    "            dfs(s, pos + 1)\n",
    "            s[pos] = s[pos].swapcase()\n",
    "            dfs(s, pos + 1)\n",
    "            s[pos] = s[pos].swapcase()\n",
    "        dfs(list(s), 0)\n",
    "        return ans\n",
    "\n",
    "# 作者：LeetCode-Solution\n",
    "# 链接：https://leetcode.cn/problems/letter-case-permutation/solution/zi-mu-da-xiao-xie-quan-pai-lie-by-leetco-cwpx/\n",
    "# 来源：力扣（LeetCode）\n",
    "# 著作权归作者所有。商业转载请联系作者获得授权，非商业转载请注明出处。"
   ]
  },
  {
   "cell_type": "markdown",
   "id": "381259d2-e43e-4877-9472-6cd8e016549b",
   "metadata": {},
   "source": [
    "秀啊，变成list确实好处理一点，最方便的是可以进行元素替换，最后再进行一次join，即可。"
   ]
  },
  {
   "cell_type": "code",
   "execution_count": 53,
   "id": "5bc3ee8b-c220-47cd-8cd2-742b3037642a",
   "metadata": {},
   "outputs": [],
   "source": [
    "class Solution:\n",
    "    def letterCasePermutation(self, s: str) -> List[str]:\n",
    "        ans, n = [], len(s)\n",
    "        def dfs(pos, s):\n",
    "            # 注意这里要使用while，否则还是会有很多个重复的输出\n",
    "            while pos < n and s[pos].isdigit(): pos += 1\n",
    "            if pos == n: \n",
    "                ans.append(\"\".join(s))\n",
    "                return\n",
    "            dfs(pos + 1, s)\n",
    "            s[pos] = s[pos].swapcase()\n",
    "            dfs(pos + 1, s)\n",
    "            s[pos] = s[pos].swapcase()\n",
    "            # dfs(pos + 1, s)\n",
    "        dfs(0, list(s))\n",
    "        return ans"
   ]
  },
  {
   "cell_type": "markdown",
   "id": "92a97cee-7fe8-4440-a002-1cf4cce18b35",
   "metadata": {},
   "source": [
    "- 时间复杂度：O(n * 2 ^ n)\n",
    "- 空间复杂夫：O(n * 2 ^ n) 递归所用"
   ]
  },
  {
   "cell_type": "markdown",
   "id": "9f7dbc95-9ebc-494e-80d4-9ee09ca87455",
   "metadata": {},
   "source": [
    "## 481. 神奇字符串 (10.31)"
   ]
  },
  {
   "cell_type": "markdown",
   "id": "359a0ba1-d309-4331-8c65-dd12cc90bb66",
   "metadata": {},
   "source": [
    "双指针"
   ]
  },
  {
   "cell_type": "code",
   "execution_count": 73,
   "id": "b18dfa1f-b8b7-43c3-b4bc-c641579666b8",
   "metadata": {},
   "outputs": [],
   "source": [
    "class Solution:\n",
    "    def magicalString(self, n: int) -> int:\n",
    "        s = \"122\"\n",
    "        def dfs(left, pre):\n",
    "            nonlocal s\n",
    "            if len(s) >= n: return s[:n].count(\"1\")\n",
    "            s += str(3 - pre) * int(s[left])\n",
    "            return dfs(left + 1, 3 - pre)\n",
    "        return dfs(2, 2)"
   ]
  },
  {
   "cell_type": "code",
   "execution_count": 76,
   "id": "47c17415-99a3-40d6-b42a-9eab8168f471",
   "metadata": {},
   "outputs": [
    {
     "data": {
      "text/plain": [
       "10"
      ]
     },
     "execution_count": 76,
     "metadata": {},
     "output_type": "execute_result"
    }
   ],
   "source": [
    "s = Solution()\n",
    "s.magicalString(20)"
   ]
  },
  {
   "cell_type": "markdown",
   "id": "b4ae0312-6dd7-4b41-8d4a-f3fcc59329a9",
   "metadata": {},
   "source": [
    "递归用的空间和时间都太多了"
   ]
  },
  {
   "cell_type": "code",
   "execution_count": 75,
   "id": "730f5d80-6cab-4def-bc05-7352e8282d8f",
   "metadata": {},
   "outputs": [],
   "source": [
    "class Solution:\n",
    "    def magicalString(self, n: int) -> int:\n",
    "        s = [1, 2, 2]\n",
    "        left, pre = 2, 2\n",
    "        while len(s) < n:\n",
    "            for i in range(s[left]):\n",
    "                s.append(3 - pre)\n",
    "            left += 1\n",
    "            pre = 3 - pre\n",
    "        return s[:n].count(1)"
   ]
  },
  {
   "cell_type": "markdown",
   "id": "356c1f90-c686-4863-aca6-bc2326a8d480",
   "metadata": {},
   "source": [
    "- 时间复杂度：O(n)\n",
    "- 空间复杂度：O(n)"
   ]
  },
  {
   "cell_type": "markdown",
   "id": "1c541bfa-1bb6-4fc3-82d4-940dd6a17df9",
   "metadata": {},
   "source": [
    "## 862. 和至少为k的最短子数组"
   ]
  },
  {
   "cell_type": "markdown",
   "id": "ce8ef79f-34be-4f05-9a54-8fa40cab6450",
   "metadata": {},
   "source": [
    "先试试prefix暴搜"
   ]
  },
  {
   "cell_type": "markdown",
   "id": "bc51848a-d2e7-4031-8661-4a7631758565",
   "metadata": {},
   "source": [
    "好饿啊，明天再做"
   ]
  },
  {
   "cell_type": "markdown",
   "id": "4c1ead8c-273e-4589-ae71-1032d0d92f58",
   "metadata": {},
   "source": [
    "## 907. 子数组的最小值之和"
   ]
  },
  {
   "cell_type": "markdown",
   "id": "35bb5883-5d3b-4be8-b847-0b5d710e64e3",
   "metadata": {},
   "source": [
    "## 1668. 最大重复子字符串 (11.3)"
   ]
  },
  {
   "cell_type": "markdown",
   "id": "f090d9d8-7b45-49c7-a9bc-104c23a5fbb4",
   "metadata": {},
   "source": [
    "KMP + DP"
   ]
  },
  {
   "cell_type": "code",
   "execution_count": 4,
   "id": "40971f18-7f8d-4379-85ab-c50e67cb4df9",
   "metadata": {},
   "outputs": [],
   "source": [
    "class Solution:\n",
    "    def maxRepeating(self, sequence: str, word: str) -> int:\n",
    "        n, m = len(sequence), len(word)\n",
    "        if n < m:\n",
    "            return 0\n",
    "\n",
    "        fail = [-1] * m\n",
    "        for i in range(1, m):\n",
    "            j = fail[i - 1]\n",
    "            while j != -1 and word[j + 1] != word[i]:\n",
    "                j = fail[j]\n",
    "            if word[j + 1] == word[i]:\n",
    "                fail[i] = j + 1\n",
    "        \n",
    "        f = [0] * n\n",
    "        j = -1\n",
    "        for i in range(n):\n",
    "            while j != -1 and word[j + 1] != sequence[i]:\n",
    "                j = fail[j]\n",
    "            if word[j + 1] == sequence[i]:\n",
    "                j += 1\n",
    "                if j == m - 1:\n",
    "                    f[i] = (0 if i == m - 1 else f[i - m]) + 1\n",
    "                    j = fail[j]\n",
    "        \n",
    "        return max(f)\n",
    "\n",
    "# 作者：LeetCode-Solution\n",
    "# 链接：https://leetcode.cn/problems/maximum-repeating-substring/solution/zui-da-zhong-fu-zi-zi-fu-chuan-by-leetco-r4cp/\n",
    "# 来源：力扣（LeetCode）\n",
    "# 著作权归作者所有。商业转载请联系作者获得授权，非商业转载请注明出处。"
   ]
  },
  {
   "cell_type": "code",
   "execution_count": 5,
   "id": "3833584c-29bf-4726-bd28-14cc5b1927ff",
   "metadata": {},
   "outputs": [],
   "source": [
    "sequence = \"aaabaaaabaaabaaaabaaaabaaaabaaaaba\"\n",
    "word = \"aaaba\""
   ]
  },
  {
   "cell_type": "markdown",
   "id": "d7d250f1-7dce-453c-9b8b-8c64aca2861b",
   "metadata": {},
   "source": [
    "### 暴力"
   ]
  },
  {
   "cell_type": "code",
   "execution_count": 7,
   "id": "313d3c86-999a-4ee9-b712-6903cb91d143",
   "metadata": {},
   "outputs": [],
   "source": [
    "class Solution:\n",
    "    def maxRepeating(self, sequence: str, word: str) -> int:\n",
    "        ans = 0\n",
    "        for i in range(len(sequence) // len(word)):\n",
    "            if word * (i + 1) in sequence: ans = i + 1\n",
    "        return ans"
   ]
  },
  {
   "cell_type": "markdown",
   "id": "caaaacc2-6f7c-4fbc-b161-563f1531bacd",
   "metadata": {},
   "source": [
    "## 754. 到达终点数字 (11.4)"
   ]
  },
  {
   "cell_type": "code",
   "execution_count": 21,
   "id": "f8cbe5de-362c-477a-a666-492f5fb1ed51",
   "metadata": {},
   "outputs": [],
   "source": [
    "class Solution:\n",
    "    def reachNumber(self, target: int) -> int:\n",
    "        target = abs(target)\n",
    "        left, right = 0, target\n",
    "        while left <= right:\n",
    "            mid = (left + right) // 2\n",
    "            sum_ = (mid * (mid + 1)) // 2\n",
    "            if sum_ == target: return mid\n",
    "            if sum_ > target: right = mid - 1\n",
    "            else: left = mid + 1\n",
    "        sum_ = (left * (left + 1)) // 2\n",
    "        if not (sum_ - target) & 1: return left\n",
    "        else: return left + 1 if not (sum_ - target + left + 1) & 1 else left + 2"
   ]
  },
  {
   "cell_type": "code",
   "execution_count": 22,
   "id": "4389fe81-77a9-49e2-83ba-821ef54a17fc",
   "metadata": {},
   "outputs": [
    {
     "data": {
      "text/plain": [
       "5"
      ]
     },
     "execution_count": 22,
     "metadata": {},
     "output_type": "execute_result"
    }
   ],
   "source": [
    "s = Solution()\n",
    "s.reachNumber(11)"
   ]
  },
  {
   "cell_type": "markdown",
   "id": "ed7662c7-d526-4feb-a50b-33f925216f20",
   "metadata": {},
   "source": [
    "- 时间复杂度：O(log  target)\n",
    "- 空间复杂度：O(1)"
   ]
  },
  {
   "cell_type": "markdown",
   "id": "8d0ef1a3-08ca-4d76-9f01-b1296d3affe6",
   "metadata": {},
   "source": [
    "不用二分试试"
   ]
  },
  {
   "cell_type": "code",
   "execution_count": 18,
   "id": "60f1574c-9f8e-4239-943d-897917a70b90",
   "metadata": {},
   "outputs": [],
   "source": [
    "class Solution:\n",
    "    def reachNumber(self, target: int) -> int:\n",
    "        sum_, i = 0, 0\n",
    "        target = abs(target)\n",
    "        while sum_ < target or (sum_ - target) % 2:\n",
    "            i += 1\n",
    "            sum_ += i\n",
    "        return i"
   ]
  },
  {
   "cell_type": "markdown",
   "id": "1c95fe3b-9dd1-410d-ac0d-ee245a495de2",
   "metadata": {},
   "source": [
    "- 时间复杂度：O($\\sqrt{|target|}$)\n",
    "- 空间复杂度：O(1)"
   ]
  },
  {
   "cell_type": "code",
   "execution_count": 20,
   "id": "7ad361d0-5651-4d43-85dd-75bf420d37bc",
   "metadata": {},
   "outputs": [],
   "source": [
    "class Solution:\n",
    "    def reachNumber(self, target: int) -> int:\n",
    "        target = abs(target)\n",
    "        n = ceil((-1 + (8 * target + 1) ** 0.5) / 2)\n",
    "        return n if (n * (n + 1) // 2 - target) % 2 == 0 else n + 1 + n % 2\n",
    "\n",
    "# 作者：endlesscheng\n",
    "# 链接：https://leetcode.cn/problems/reach-a-number/solution/fen-lei-tao-lun-xiang-xi-zheng-ming-jian-sqj2/\n",
    "# 来源：力扣（LeetCode）\n",
    "# 著作权归作者所有。商业转载请联系作者获得授权，非商业转载请注明出处。"
   ]
  },
  {
   "cell_type": "markdown",
   "id": "a330c9a8-7128-436c-9a6b-371478013b83",
   "metadata": {},
   "source": [
    "O(1), O(1)"
   ]
  },
  {
   "cell_type": "code",
   "execution_count": null,
   "id": "6d92029b-b020-4b4d-a3c9-f62b8be839ba",
   "metadata": {},
   "outputs": [],
   "source": []
  },
  {
   "cell_type": "code",
   "execution_count": null,
   "id": "49840605-e1da-46ba-b882-43cc4eb20c42",
   "metadata": {},
   "outputs": [],
   "source": []
  },
  {
   "cell_type": "code",
   "execution_count": null,
   "id": "43dcb73b-6b38-41cd-8cb6-0fd0f4ece8e5",
   "metadata": {},
   "outputs": [],
   "source": []
  },
  {
   "cell_type": "code",
   "execution_count": null,
   "id": "5f93c668-9d25-4d82-aa83-3864748b9708",
   "metadata": {},
   "outputs": [],
   "source": []
  },
  {
   "cell_type": "code",
   "execution_count": null,
   "id": "1c4ce46f-1009-42b6-96e0-65f27af09ba8",
   "metadata": {},
   "outputs": [],
   "source": []
  },
  {
   "cell_type": "code",
   "execution_count": null,
   "id": "d1b547f4-2c4d-47c3-8a28-187422ae3fc6",
   "metadata": {},
   "outputs": [],
   "source": []
  },
  {
   "cell_type": "code",
   "execution_count": null,
   "id": "658f9df9-717e-4732-8178-1ca255c4a0b9",
   "metadata": {},
   "outputs": [],
   "source": []
  },
  {
   "cell_type": "code",
   "execution_count": null,
   "id": "a442135f-2411-4df9-929e-8cf274e1fedc",
   "metadata": {},
   "outputs": [],
   "source": []
  },
  {
   "cell_type": "code",
   "execution_count": null,
   "id": "57969dea-5f08-47c1-afb0-f963df0f43b7",
   "metadata": {},
   "outputs": [],
   "source": []
  },
  {
   "cell_type": "code",
   "execution_count": null,
   "id": "5d0cd020-25b0-4dee-a41b-884f51d8b8c2",
   "metadata": {},
   "outputs": [],
   "source": []
  },
  {
   "cell_type": "code",
   "execution_count": null,
   "id": "0a05fc1d-48e8-4db9-9a30-f08b6e06c9e8",
   "metadata": {},
   "outputs": [],
   "source": []
  },
  {
   "cell_type": "code",
   "execution_count": null,
   "id": "59b4c3da-63d3-4ea8-aa56-2016edea3709",
   "metadata": {},
   "outputs": [],
   "source": []
  },
  {
   "cell_type": "code",
   "execution_count": null,
   "id": "94ea29fb-981b-460a-93d9-29b33d5959cf",
   "metadata": {},
   "outputs": [],
   "source": []
  },
  {
   "cell_type": "code",
   "execution_count": null,
   "id": "bc66695c-ccb1-44ab-aefa-faaed17e0510",
   "metadata": {},
   "outputs": [],
   "source": []
  },
  {
   "cell_type": "code",
   "execution_count": null,
   "id": "36a9e412-bbc6-4caf-9b44-6ea461a981cf",
   "metadata": {},
   "outputs": [],
   "source": []
  },
  {
   "cell_type": "code",
   "execution_count": null,
   "id": "f465f2de-4808-40f1-af08-ac33dd89c65c",
   "metadata": {},
   "outputs": [],
   "source": []
  },
  {
   "cell_type": "code",
   "execution_count": null,
   "id": "fe5514e1-f532-4bf2-b127-ab7f870709b4",
   "metadata": {},
   "outputs": [],
   "source": []
  },
  {
   "cell_type": "code",
   "execution_count": null,
   "id": "b307d910-828a-4179-987e-762727541280",
   "metadata": {},
   "outputs": [],
   "source": []
  },
  {
   "cell_type": "code",
   "execution_count": null,
   "id": "e54f7755-e4b8-4e55-b9ec-11bee2fe15ef",
   "metadata": {},
   "outputs": [],
   "source": []
  },
  {
   "cell_type": "code",
   "execution_count": null,
   "id": "165c5edf-faaf-42f8-9ee8-93eb0378f3fa",
   "metadata": {},
   "outputs": [],
   "source": []
  },
  {
   "cell_type": "code",
   "execution_count": null,
   "id": "5ff7cd70-49a5-448b-957d-e4860062d9bc",
   "metadata": {},
   "outputs": [],
   "source": []
  },
  {
   "cell_type": "code",
   "execution_count": null,
   "id": "a2004e0a-047b-49ca-a8a3-600233625ab9",
   "metadata": {},
   "outputs": [],
   "source": []
  },
  {
   "cell_type": "code",
   "execution_count": null,
   "id": "788e5232-b552-457d-a69f-0986515a4496",
   "metadata": {},
   "outputs": [],
   "source": []
  },
  {
   "cell_type": "code",
   "execution_count": null,
   "id": "731450f2-35fc-473e-9d40-54bcb592c00e",
   "metadata": {},
   "outputs": [],
   "source": []
  },
  {
   "cell_type": "code",
   "execution_count": null,
   "id": "55752776-205b-4589-9a3f-17f8e7cce1f6",
   "metadata": {},
   "outputs": [],
   "source": []
  },
  {
   "cell_type": "code",
   "execution_count": null,
   "id": "6f04003f-e0d4-4ea5-a070-6c1f8e73b88a",
   "metadata": {},
   "outputs": [],
   "source": []
  },
  {
   "cell_type": "code",
   "execution_count": null,
   "id": "8f4cc7fa-77a1-46f9-8ea7-650ebac95113",
   "metadata": {},
   "outputs": [],
   "source": []
  },
  {
   "cell_type": "code",
   "execution_count": null,
   "id": "ec66a915-2d6e-4f4b-a38f-3cd2779b7313",
   "metadata": {},
   "outputs": [],
   "source": []
  },
  {
   "cell_type": "code",
   "execution_count": null,
   "id": "2e8f597d-c8ea-4751-8edb-ba75ffb235be",
   "metadata": {},
   "outputs": [],
   "source": []
  },
  {
   "cell_type": "code",
   "execution_count": null,
   "id": "c572bc62-187e-4639-8cf0-a0c5f5f9e32a",
   "metadata": {},
   "outputs": [],
   "source": []
  },
  {
   "cell_type": "code",
   "execution_count": null,
   "id": "3889e7da-cd93-40a8-8ff8-b270b547abb4",
   "metadata": {},
   "outputs": [],
   "source": []
  },
  {
   "cell_type": "code",
   "execution_count": null,
   "id": "5d2c323d-ae5c-4e7f-82b2-57532b66d565",
   "metadata": {},
   "outputs": [],
   "source": []
  },
  {
   "cell_type": "code",
   "execution_count": null,
   "id": "f454b0f1-f8c8-4651-9290-f912e5b6f28d",
   "metadata": {},
   "outputs": [],
   "source": []
  },
  {
   "cell_type": "code",
   "execution_count": null,
   "id": "c9cca478-9730-4b89-9f39-bc4c97bf7fe3",
   "metadata": {},
   "outputs": [],
   "source": []
  },
  {
   "cell_type": "code",
   "execution_count": null,
   "id": "5f67fe4d-2891-45be-b8dd-46ef8682267a",
   "metadata": {},
   "outputs": [],
   "source": []
  },
  {
   "cell_type": "code",
   "execution_count": null,
   "id": "8708f237-a205-4856-9d88-18438e350998",
   "metadata": {},
   "outputs": [],
   "source": []
  },
  {
   "cell_type": "code",
   "execution_count": null,
   "id": "c8f7ce78-7392-47ea-819e-d748cc0ab7d0",
   "metadata": {},
   "outputs": [],
   "source": []
  },
  {
   "cell_type": "code",
   "execution_count": null,
   "id": "34825cd1-94ac-4081-9824-129d6c4de36a",
   "metadata": {},
   "outputs": [],
   "source": []
  },
  {
   "cell_type": "code",
   "execution_count": null,
   "id": "cd448e59-a578-49fd-adef-2bd5a26df055",
   "metadata": {},
   "outputs": [],
   "source": []
  },
  {
   "cell_type": "code",
   "execution_count": null,
   "id": "3d94fc0b-bf52-435f-84e0-af79a825ebe3",
   "metadata": {},
   "outputs": [],
   "source": []
  },
  {
   "cell_type": "code",
   "execution_count": null,
   "id": "f916448e-407b-44c6-b05a-b955bd1f6965",
   "metadata": {},
   "outputs": [],
   "source": []
  },
  {
   "cell_type": "code",
   "execution_count": null,
   "id": "5936e595-48d1-4a98-90e8-713d383db5f5",
   "metadata": {},
   "outputs": [],
   "source": []
  },
  {
   "cell_type": "code",
   "execution_count": null,
   "id": "bab89281-fc25-440d-986d-1c516f97c124",
   "metadata": {},
   "outputs": [],
   "source": []
  },
  {
   "cell_type": "code",
   "execution_count": null,
   "id": "f0c5799d-3a80-41c3-8a74-c537023ea297",
   "metadata": {},
   "outputs": [],
   "source": []
  },
  {
   "cell_type": "code",
   "execution_count": null,
   "id": "82577bd7-cdee-4962-bc49-0c74ba669b68",
   "metadata": {},
   "outputs": [],
   "source": []
  },
  {
   "cell_type": "code",
   "execution_count": null,
   "id": "7a6c872c-734a-4b5a-8363-3221da69669d",
   "metadata": {},
   "outputs": [],
   "source": []
  },
  {
   "cell_type": "code",
   "execution_count": null,
   "id": "143ae2e2-d5be-4a5b-9e62-a4cea8fe11fc",
   "metadata": {},
   "outputs": [],
   "source": []
  },
  {
   "cell_type": "code",
   "execution_count": null,
   "id": "1567f53a-3250-4916-9581-ea3ba7682e53",
   "metadata": {},
   "outputs": [],
   "source": []
  },
  {
   "cell_type": "code",
   "execution_count": null,
   "id": "23457f21-8fa2-475a-9053-14dddb974480",
   "metadata": {},
   "outputs": [],
   "source": []
  },
  {
   "cell_type": "code",
   "execution_count": null,
   "id": "af04293d-dc3f-4ce2-96e3-dec83e4c9ca2",
   "metadata": {},
   "outputs": [],
   "source": []
  },
  {
   "cell_type": "code",
   "execution_count": null,
   "id": "50f7dac8-b1ed-4527-90a7-de5643afe55c",
   "metadata": {},
   "outputs": [],
   "source": []
  },
  {
   "cell_type": "code",
   "execution_count": null,
   "id": "52e456bd-4a90-4635-a36b-bd61934e5f86",
   "metadata": {},
   "outputs": [],
   "source": []
  },
  {
   "cell_type": "code",
   "execution_count": null,
   "id": "d6ce9571-4669-4736-802b-ff286e48f885",
   "metadata": {},
   "outputs": [],
   "source": []
  },
  {
   "cell_type": "code",
   "execution_count": null,
   "id": "8bf5d92d-9c63-46cf-a6d0-b299dbed96ed",
   "metadata": {},
   "outputs": [],
   "source": []
  },
  {
   "cell_type": "code",
   "execution_count": null,
   "id": "05dc8c0c-ed3b-4558-ac93-01ab8df7012a",
   "metadata": {},
   "outputs": [],
   "source": []
  },
  {
   "cell_type": "code",
   "execution_count": null,
   "id": "6e6a3039-d5bf-4b48-bb54-39cf1e7c41d2",
   "metadata": {},
   "outputs": [],
   "source": []
  },
  {
   "cell_type": "code",
   "execution_count": null,
   "id": "d0ba26ee-1e08-4e1a-85ff-8fdb91bec52d",
   "metadata": {},
   "outputs": [],
   "source": []
  },
  {
   "cell_type": "code",
   "execution_count": null,
   "id": "e42832df-1679-43fa-a070-0576415596bd",
   "metadata": {},
   "outputs": [],
   "source": []
  },
  {
   "cell_type": "code",
   "execution_count": null,
   "id": "053f4400-41eb-48b8-a46f-f65a556cde28",
   "metadata": {},
   "outputs": [],
   "source": []
  },
  {
   "cell_type": "code",
   "execution_count": null,
   "id": "06c85b9c-3251-45c0-96c4-f9c4bde63e90",
   "metadata": {},
   "outputs": [],
   "source": []
  },
  {
   "cell_type": "code",
   "execution_count": null,
   "id": "e4d0f2b0-ee2c-42a6-9897-8e48bdc56b95",
   "metadata": {},
   "outputs": [],
   "source": []
  },
  {
   "cell_type": "code",
   "execution_count": null,
   "id": "f60df0aa-2a1a-439c-9080-cd6ba8309b41",
   "metadata": {},
   "outputs": [],
   "source": []
  },
  {
   "cell_type": "code",
   "execution_count": null,
   "id": "c6655d04-8929-46d6-9ae1-97104329465a",
   "metadata": {},
   "outputs": [],
   "source": []
  },
  {
   "cell_type": "code",
   "execution_count": null,
   "id": "9d1e460a-e7d9-4224-9475-01884ad57196",
   "metadata": {},
   "outputs": [],
   "source": []
  },
  {
   "cell_type": "code",
   "execution_count": null,
   "id": "38d9bc6f-6007-45b6-983f-9e1ac8eadbf9",
   "metadata": {},
   "outputs": [],
   "source": []
  },
  {
   "cell_type": "code",
   "execution_count": null,
   "id": "95c6aebc-1b9f-4a64-9287-e455c0e5fe85",
   "metadata": {},
   "outputs": [],
   "source": []
  },
  {
   "cell_type": "code",
   "execution_count": null,
   "id": "998442b6-cac3-4e44-be1e-0a5ea03bd75b",
   "metadata": {},
   "outputs": [],
   "source": []
  },
  {
   "cell_type": "code",
   "execution_count": null,
   "id": "822fa94f-5179-4c5c-b5b7-c6440a94ca2c",
   "metadata": {},
   "outputs": [],
   "source": []
  },
  {
   "cell_type": "code",
   "execution_count": null,
   "id": "557e09cb-4742-49ef-a600-acb67c5d86a0",
   "metadata": {},
   "outputs": [],
   "source": []
  },
  {
   "cell_type": "code",
   "execution_count": null,
   "id": "2c025fe9-dd69-4852-9268-74b83abc5d6d",
   "metadata": {},
   "outputs": [],
   "source": []
  },
  {
   "cell_type": "code",
   "execution_count": null,
   "id": "7eb35b73-5323-49e7-b30c-90b2a947127f",
   "metadata": {},
   "outputs": [],
   "source": []
  },
  {
   "cell_type": "code",
   "execution_count": null,
   "id": "d22e61a3-4ffe-46ea-859e-340c413e68c4",
   "metadata": {},
   "outputs": [],
   "source": []
  },
  {
   "cell_type": "code",
   "execution_count": null,
   "id": "2cf4e57f-7f2a-4d38-a161-76976fa83ec2",
   "metadata": {},
   "outputs": [],
   "source": []
  },
  {
   "cell_type": "code",
   "execution_count": null,
   "id": "d125e1ee-de9c-4210-8121-32e764f7424e",
   "metadata": {},
   "outputs": [],
   "source": []
  },
  {
   "cell_type": "code",
   "execution_count": null,
   "id": "fac0daf7-9503-4f5a-8700-2209ff576a85",
   "metadata": {},
   "outputs": [],
   "source": []
  },
  {
   "cell_type": "code",
   "execution_count": null,
   "id": "168f5d09-eff3-46b8-9ffb-9ea6e799c6d5",
   "metadata": {},
   "outputs": [],
   "source": []
  },
  {
   "cell_type": "code",
   "execution_count": null,
   "id": "7b47d9e7-ceee-4076-8c4f-42947513316c",
   "metadata": {},
   "outputs": [],
   "source": []
  },
  {
   "cell_type": "code",
   "execution_count": null,
   "id": "052beaa5-beae-4242-8ec9-4c48234aed7a",
   "metadata": {},
   "outputs": [],
   "source": []
  },
  {
   "cell_type": "code",
   "execution_count": null,
   "id": "2be9a9b6-ebca-40f3-8c7f-a005c8328d81",
   "metadata": {},
   "outputs": [],
   "source": []
  },
  {
   "cell_type": "code",
   "execution_count": null,
   "id": "0f4c8ea5-982d-46a5-8b4a-ec0059df9f37",
   "metadata": {},
   "outputs": [],
   "source": []
  },
  {
   "cell_type": "code",
   "execution_count": null,
   "id": "840e3d1f-c4bf-4613-9629-305b949ff55e",
   "metadata": {},
   "outputs": [],
   "source": []
  },
  {
   "cell_type": "code",
   "execution_count": null,
   "id": "8fdf0b50-616b-4c0e-a26f-654467c7cfbe",
   "metadata": {},
   "outputs": [],
   "source": []
  },
  {
   "cell_type": "code",
   "execution_count": null,
   "id": "9c69bf1d-0825-4148-9eed-4a39b806570f",
   "metadata": {},
   "outputs": [],
   "source": []
  },
  {
   "cell_type": "code",
   "execution_count": null,
   "id": "50ff4755-30cf-4ae5-8b0b-9c9cea78c959",
   "metadata": {},
   "outputs": [],
   "source": []
  },
  {
   "cell_type": "code",
   "execution_count": null,
   "id": "2a0ac1fd-85f0-46f9-96ef-6bb144264a2f",
   "metadata": {},
   "outputs": [],
   "source": []
  },
  {
   "cell_type": "code",
   "execution_count": null,
   "id": "45f59a6b-723f-4f5f-9f0f-0aacb646bfc4",
   "metadata": {},
   "outputs": [],
   "source": []
  },
  {
   "cell_type": "code",
   "execution_count": null,
   "id": "ca2217b0-93c4-476b-83ee-ecce6d30babf",
   "metadata": {},
   "outputs": [],
   "source": []
  },
  {
   "cell_type": "code",
   "execution_count": null,
   "id": "2bf9fc25-2ce9-47ad-8061-4e3e89523ff4",
   "metadata": {},
   "outputs": [],
   "source": []
  },
  {
   "cell_type": "code",
   "execution_count": null,
   "id": "5645e137-05ab-4ef3-b82e-2efec2d3321a",
   "metadata": {},
   "outputs": [],
   "source": []
  },
  {
   "cell_type": "code",
   "execution_count": null,
   "id": "53f07e83-7c88-494d-9b13-6bd2a2397173",
   "metadata": {},
   "outputs": [],
   "source": []
  },
  {
   "cell_type": "code",
   "execution_count": null,
   "id": "9735dea1-0361-4f17-ba0c-b70752c06bfa",
   "metadata": {},
   "outputs": [],
   "source": []
  },
  {
   "cell_type": "code",
   "execution_count": null,
   "id": "84d8d9e5-0633-4870-9853-c8f547072e56",
   "metadata": {},
   "outputs": [],
   "source": []
  },
  {
   "cell_type": "code",
   "execution_count": null,
   "id": "20b4ac6e-d103-4b70-975d-7a2c15210fdc",
   "metadata": {},
   "outputs": [],
   "source": []
  },
  {
   "cell_type": "code",
   "execution_count": null,
   "id": "68a4a588-3a8c-453b-ba9c-bea76f448431",
   "metadata": {},
   "outputs": [],
   "source": []
  },
  {
   "cell_type": "code",
   "execution_count": null,
   "id": "bd35694e-4367-440d-8d94-6ff88280ca06",
   "metadata": {},
   "outputs": [],
   "source": []
  },
  {
   "cell_type": "code",
   "execution_count": null,
   "id": "8887fde4-c792-4c62-a122-5f10e475c574",
   "metadata": {},
   "outputs": [],
   "source": []
  },
  {
   "cell_type": "code",
   "execution_count": null,
   "id": "e1e5d2ee-266b-4b1c-8968-e289c2c6cebf",
   "metadata": {},
   "outputs": [],
   "source": []
  },
  {
   "cell_type": "code",
   "execution_count": null,
   "id": "92c24d6e-6e7b-4781-b910-bf34d17ebd34",
   "metadata": {},
   "outputs": [],
   "source": []
  },
  {
   "cell_type": "code",
   "execution_count": null,
   "id": "e7bc97bb-025b-4f9a-9413-485fa6d3d589",
   "metadata": {},
   "outputs": [],
   "source": []
  },
  {
   "cell_type": "code",
   "execution_count": null,
   "id": "b37aa21e-d1a1-48b2-b30e-4e3a7007160a",
   "metadata": {},
   "outputs": [],
   "source": []
  },
  {
   "cell_type": "code",
   "execution_count": null,
   "id": "3ad37d40-7efb-45c4-8bfb-6eabf867b256",
   "metadata": {},
   "outputs": [],
   "source": []
  },
  {
   "cell_type": "code",
   "execution_count": null,
   "id": "01746914-c42b-49a8-941f-b800145e7ae1",
   "metadata": {},
   "outputs": [],
   "source": []
  },
  {
   "cell_type": "code",
   "execution_count": null,
   "id": "b3dd1671-1792-46d5-b7ef-95c50dbcbd7f",
   "metadata": {},
   "outputs": [],
   "source": []
  },
  {
   "cell_type": "code",
   "execution_count": null,
   "id": "3e694ef4-8c0a-45b9-90a2-89f7a0a288b0",
   "metadata": {},
   "outputs": [],
   "source": []
  },
  {
   "cell_type": "code",
   "execution_count": null,
   "id": "bf967f57-a364-4a32-96c9-7cd36c104c24",
   "metadata": {},
   "outputs": [],
   "source": []
  },
  {
   "cell_type": "code",
   "execution_count": null,
   "id": "107f24e7-2d8c-4cad-9498-b1bec1a2625f",
   "metadata": {},
   "outputs": [],
   "source": []
  },
  {
   "cell_type": "code",
   "execution_count": null,
   "id": "c70ce07d-7b4e-4aa1-b88f-c926c75ea610",
   "metadata": {},
   "outputs": [],
   "source": []
  },
  {
   "cell_type": "code",
   "execution_count": null,
   "id": "8ad4876d-a24b-48c6-b2c2-b716c3605912",
   "metadata": {},
   "outputs": [],
   "source": []
  },
  {
   "cell_type": "code",
   "execution_count": null,
   "id": "a8d082c7-098f-48cd-aad4-21d447c01b82",
   "metadata": {},
   "outputs": [],
   "source": []
  },
  {
   "cell_type": "code",
   "execution_count": null,
   "id": "327ad1c9-daff-4d1c-b0ed-50304bc3676b",
   "metadata": {},
   "outputs": [],
   "source": []
  },
  {
   "cell_type": "code",
   "execution_count": null,
   "id": "09eacce4-ea39-4ca9-b226-f56b463af5fd",
   "metadata": {},
   "outputs": [],
   "source": []
  },
  {
   "cell_type": "code",
   "execution_count": null,
   "id": "4ce8cac0-443b-4089-95bd-d46d77a98f6b",
   "metadata": {},
   "outputs": [],
   "source": []
  },
  {
   "cell_type": "code",
   "execution_count": null,
   "id": "bac0812b-7dbb-4aad-b648-bf604af36a8c",
   "metadata": {},
   "outputs": [],
   "source": []
  },
  {
   "cell_type": "code",
   "execution_count": null,
   "id": "a03fd2ee-bca4-4449-9ecf-1b74b4eeab12",
   "metadata": {},
   "outputs": [],
   "source": []
  },
  {
   "cell_type": "code",
   "execution_count": null,
   "id": "aedece3c-350d-4f3f-9ef5-184f4101af0a",
   "metadata": {},
   "outputs": [],
   "source": []
  },
  {
   "cell_type": "code",
   "execution_count": null,
   "id": "0a7e8897-56e1-4e39-92dc-33a64b956309",
   "metadata": {},
   "outputs": [],
   "source": []
  },
  {
   "cell_type": "code",
   "execution_count": null,
   "id": "dc9bab2a-d35a-4efe-81c3-d0507614cc4d",
   "metadata": {},
   "outputs": [],
   "source": []
  },
  {
   "cell_type": "code",
   "execution_count": null,
   "id": "93a829c3-a8c6-4333-893f-1c5fecf76ebb",
   "metadata": {},
   "outputs": [],
   "source": []
  },
  {
   "cell_type": "code",
   "execution_count": null,
   "id": "96b23d22-dba6-4cc4-b0c9-995535adba93",
   "metadata": {},
   "outputs": [],
   "source": []
  },
  {
   "cell_type": "code",
   "execution_count": null,
   "id": "07632746-0a95-48be-9e5f-d12ad74e810c",
   "metadata": {},
   "outputs": [],
   "source": []
  },
  {
   "cell_type": "code",
   "execution_count": null,
   "id": "8760d16f-641c-4b03-8603-1f41b942f5c3",
   "metadata": {},
   "outputs": [],
   "source": []
  },
  {
   "cell_type": "code",
   "execution_count": null,
   "id": "5bab4133-9076-4ec0-8aa8-94fbb6a782d6",
   "metadata": {},
   "outputs": [],
   "source": []
  },
  {
   "cell_type": "code",
   "execution_count": null,
   "id": "de4e5ae5-11c9-4deb-8c18-e287bafa204b",
   "metadata": {},
   "outputs": [],
   "source": []
  },
  {
   "cell_type": "code",
   "execution_count": null,
   "id": "68e39eb5-5078-421a-b967-254277e841a4",
   "metadata": {},
   "outputs": [],
   "source": []
  },
  {
   "cell_type": "code",
   "execution_count": null,
   "id": "f6b1120c-ea7d-4b4a-9677-f58cf8c3317e",
   "metadata": {},
   "outputs": [],
   "source": []
  },
  {
   "cell_type": "code",
   "execution_count": null,
   "id": "9661eda4-c9ab-4783-934b-ef843dcc5300",
   "metadata": {},
   "outputs": [],
   "source": []
  },
  {
   "cell_type": "code",
   "execution_count": null,
   "id": "95eb21b4-897a-403f-9a07-fcfb09f9fdc6",
   "metadata": {},
   "outputs": [],
   "source": []
  },
  {
   "cell_type": "code",
   "execution_count": null,
   "id": "2d6b92a7-afcc-45ab-84e8-2fba8715f558",
   "metadata": {},
   "outputs": [],
   "source": []
  },
  {
   "cell_type": "code",
   "execution_count": null,
   "id": "8d48eecc-67f6-4833-b25d-e29c21f66cd0",
   "metadata": {},
   "outputs": [],
   "source": []
  },
  {
   "cell_type": "code",
   "execution_count": null,
   "id": "204ad66f-1a35-41c7-a348-f5ec51decd32",
   "metadata": {},
   "outputs": [],
   "source": []
  },
  {
   "cell_type": "code",
   "execution_count": null,
   "id": "32eb637d-9c33-412c-9cee-e693a2aac3f2",
   "metadata": {},
   "outputs": [],
   "source": []
  },
  {
   "cell_type": "code",
   "execution_count": null,
   "id": "19cd6a40-ef88-43b2-9d03-ef38ce735f76",
   "metadata": {},
   "outputs": [],
   "source": []
  },
  {
   "cell_type": "code",
   "execution_count": null,
   "id": "0479d006-1bb6-44e1-8801-eb0707524781",
   "metadata": {},
   "outputs": [],
   "source": []
  },
  {
   "cell_type": "code",
   "execution_count": null,
   "id": "713e7ee0-05a8-481c-af30-3dac63874502",
   "metadata": {},
   "outputs": [],
   "source": []
  },
  {
   "cell_type": "code",
   "execution_count": null,
   "id": "004824f9-b9cb-4ed7-a74c-08fb25e8d8d9",
   "metadata": {},
   "outputs": [],
   "source": []
  },
  {
   "cell_type": "code",
   "execution_count": null,
   "id": "1c59447d-cef2-4fb7-9ac4-937f2d6fe809",
   "metadata": {},
   "outputs": [],
   "source": []
  },
  {
   "cell_type": "code",
   "execution_count": null,
   "id": "125f5aab-f8a6-454c-a0ac-671513f4eff9",
   "metadata": {},
   "outputs": [],
   "source": []
  },
  {
   "cell_type": "code",
   "execution_count": null,
   "id": "c53d6b31-917d-4ac0-91e4-2235442c1de7",
   "metadata": {},
   "outputs": [],
   "source": []
  },
  {
   "cell_type": "code",
   "execution_count": null,
   "id": "0b3ecadd-ec19-43cb-af4b-4ff300a94938",
   "metadata": {},
   "outputs": [],
   "source": []
  },
  {
   "cell_type": "code",
   "execution_count": null,
   "id": "d2c5f664-21f5-4acc-80a5-7c4682b7ceb0",
   "metadata": {},
   "outputs": [],
   "source": []
  },
  {
   "cell_type": "code",
   "execution_count": null,
   "id": "4802214a-b101-48ca-985d-6aecbcb17186",
   "metadata": {},
   "outputs": [],
   "source": []
  },
  {
   "cell_type": "code",
   "execution_count": null,
   "id": "0d802267-9c99-466c-b6e5-98fb0a769f8b",
   "metadata": {},
   "outputs": [],
   "source": []
  },
  {
   "cell_type": "code",
   "execution_count": null,
   "id": "b7f35849-aaa5-40c2-8cfa-2f795b066abc",
   "metadata": {},
   "outputs": [],
   "source": []
  },
  {
   "cell_type": "code",
   "execution_count": null,
   "id": "4a916d38-872d-4c09-99d4-ac8de84effe7",
   "metadata": {},
   "outputs": [],
   "source": []
  },
  {
   "cell_type": "code",
   "execution_count": null,
   "id": "f8da9c92-3e2d-4ce3-9d56-b19de79948de",
   "metadata": {},
   "outputs": [],
   "source": []
  },
  {
   "cell_type": "code",
   "execution_count": null,
   "id": "85a22e92-b162-4509-a589-4e67b62ba6c4",
   "metadata": {},
   "outputs": [],
   "source": []
  },
  {
   "cell_type": "code",
   "execution_count": null,
   "id": "5514eb9d-b09f-47d2-84db-2e15de067b8f",
   "metadata": {},
   "outputs": [],
   "source": []
  },
  {
   "cell_type": "code",
   "execution_count": null,
   "id": "90bd7dd8-bc51-48ac-9c71-4de2cab370cb",
   "metadata": {},
   "outputs": [],
   "source": []
  },
  {
   "cell_type": "code",
   "execution_count": null,
   "id": "5eaa5d64-8c2f-49c8-be5d-05584910ff2d",
   "metadata": {},
   "outputs": [],
   "source": []
  },
  {
   "cell_type": "code",
   "execution_count": null,
   "id": "c7370a9c-ed1b-4d1b-b740-09090cc79d73",
   "metadata": {},
   "outputs": [],
   "source": []
  },
  {
   "cell_type": "code",
   "execution_count": null,
   "id": "1f2c1682-9f81-4f4c-8503-80672ec98e69",
   "metadata": {},
   "outputs": [],
   "source": []
  },
  {
   "cell_type": "code",
   "execution_count": null,
   "id": "c227e9fb-955a-44c0-b4a2-8eed9c31e6a3",
   "metadata": {},
   "outputs": [],
   "source": []
  },
  {
   "cell_type": "code",
   "execution_count": null,
   "id": "c604ebea-29b1-46bd-9084-c8d6f8d8349b",
   "metadata": {},
   "outputs": [],
   "source": []
  },
  {
   "cell_type": "code",
   "execution_count": null,
   "id": "e9e64156-781d-46fc-b76a-9ab36948a5d7",
   "metadata": {},
   "outputs": [],
   "source": []
  },
  {
   "cell_type": "code",
   "execution_count": null,
   "id": "ff2fccf9-77ea-41b2-a478-64c52a9d7302",
   "metadata": {},
   "outputs": [],
   "source": []
  },
  {
   "cell_type": "code",
   "execution_count": null,
   "id": "2e93ba7e-eaa8-4b1e-a3ba-c5851fda586f",
   "metadata": {},
   "outputs": [],
   "source": []
  },
  {
   "cell_type": "code",
   "execution_count": null,
   "id": "909e9d88-f0ef-48b2-a115-229469b8f2b3",
   "metadata": {},
   "outputs": [],
   "source": []
  },
  {
   "cell_type": "code",
   "execution_count": null,
   "id": "db60b767-eb13-4c3e-92ed-95bdcd946d1d",
   "metadata": {},
   "outputs": [],
   "source": []
  },
  {
   "cell_type": "code",
   "execution_count": null,
   "id": "8540082f-7802-4658-879c-55e6626abfd1",
   "metadata": {},
   "outputs": [],
   "source": []
  },
  {
   "cell_type": "code",
   "execution_count": null,
   "id": "b26ca1b6-2f0d-4f2d-8567-a1997b6c5be5",
   "metadata": {},
   "outputs": [],
   "source": []
  },
  {
   "cell_type": "code",
   "execution_count": null,
   "id": "c487776d-21ff-42bd-a8d3-b7b4002fe8b6",
   "metadata": {},
   "outputs": [],
   "source": []
  },
  {
   "cell_type": "code",
   "execution_count": null,
   "id": "96f0ef64-0681-4d8e-a754-7e0a9a4b391a",
   "metadata": {},
   "outputs": [],
   "source": []
  },
  {
   "cell_type": "code",
   "execution_count": null,
   "id": "fe3656ad-5d29-4202-b0f2-bdeb90f815ad",
   "metadata": {},
   "outputs": [],
   "source": []
  },
  {
   "cell_type": "code",
   "execution_count": null,
   "id": "4f6d8b8f-5dfc-4e76-98af-7e0a08053a86",
   "metadata": {},
   "outputs": [],
   "source": []
  },
  {
   "cell_type": "code",
   "execution_count": null,
   "id": "ddffc630-ce7c-41fd-9604-8adde9e8e09b",
   "metadata": {},
   "outputs": [],
   "source": []
  },
  {
   "cell_type": "code",
   "execution_count": null,
   "id": "3d45b76e-687d-4c12-a80f-c0c2570d3f02",
   "metadata": {},
   "outputs": [],
   "source": []
  },
  {
   "cell_type": "code",
   "execution_count": null,
   "id": "ef6eec90-ff9a-4860-910d-eca35fc3a5c3",
   "metadata": {},
   "outputs": [],
   "source": []
  },
  {
   "cell_type": "code",
   "execution_count": null,
   "id": "e6ccec5d-fe24-4c7e-a493-d6c55b6f6f72",
   "metadata": {},
   "outputs": [],
   "source": []
  },
  {
   "cell_type": "code",
   "execution_count": null,
   "id": "f079f7b6-95c4-4dd9-812c-2fbaa528a2b7",
   "metadata": {},
   "outputs": [],
   "source": []
  },
  {
   "cell_type": "code",
   "execution_count": null,
   "id": "0ef1af6f-d7bd-4a70-80bf-c80f65e13431",
   "metadata": {},
   "outputs": [],
   "source": []
  },
  {
   "cell_type": "code",
   "execution_count": null,
   "id": "33926828-8598-498d-8aff-915bbe6dc9e9",
   "metadata": {},
   "outputs": [],
   "source": []
  },
  {
   "cell_type": "code",
   "execution_count": null,
   "id": "4d712b88-f264-4a2f-9853-e4f8145f78af",
   "metadata": {},
   "outputs": [],
   "source": []
  },
  {
   "cell_type": "code",
   "execution_count": null,
   "id": "c4532261-f9fb-48f1-aa68-d470b044e254",
   "metadata": {},
   "outputs": [],
   "source": []
  },
  {
   "cell_type": "code",
   "execution_count": null,
   "id": "7c7fd2ac-45fe-4144-ba4c-bc9107af6c7f",
   "metadata": {},
   "outputs": [],
   "source": []
  },
  {
   "cell_type": "code",
   "execution_count": null,
   "id": "d9349609-28fc-4a82-ba84-7bf8bb9b6b11",
   "metadata": {},
   "outputs": [],
   "source": []
  },
  {
   "cell_type": "code",
   "execution_count": null,
   "id": "042a3f5e-d2d2-49b9-80f9-867412eaee58",
   "metadata": {},
   "outputs": [],
   "source": []
  },
  {
   "cell_type": "code",
   "execution_count": null,
   "id": "85b39a96-1168-4863-b635-1453449cb776",
   "metadata": {},
   "outputs": [],
   "source": []
  },
  {
   "cell_type": "code",
   "execution_count": null,
   "id": "5627633f-ff7b-49ed-a85a-bdcb0b92f3d7",
   "metadata": {},
   "outputs": [],
   "source": []
  },
  {
   "cell_type": "code",
   "execution_count": null,
   "id": "1c275b70-eb7d-4d47-992a-93e9ea98a88b",
   "metadata": {},
   "outputs": [],
   "source": []
  },
  {
   "cell_type": "code",
   "execution_count": null,
   "id": "643add6e-8d61-4809-af05-6ebcc255c923",
   "metadata": {},
   "outputs": [],
   "source": []
  },
  {
   "cell_type": "code",
   "execution_count": null,
   "id": "baf6677b-21fa-4c45-91ac-bf430db8e9ff",
   "metadata": {},
   "outputs": [],
   "source": []
  },
  {
   "cell_type": "code",
   "execution_count": null,
   "id": "92908172-c71e-4630-9cc8-5d0e8c1d2706",
   "metadata": {},
   "outputs": [],
   "source": []
  },
  {
   "cell_type": "code",
   "execution_count": null,
   "id": "cc6e37b6-37c6-4492-8a8c-d842940882d2",
   "metadata": {},
   "outputs": [],
   "source": []
  },
  {
   "cell_type": "code",
   "execution_count": null,
   "id": "1a950721-e49b-4c21-b061-01267acfd2f7",
   "metadata": {},
   "outputs": [],
   "source": []
  },
  {
   "cell_type": "code",
   "execution_count": null,
   "id": "8b44eb18-f7b2-4ea4-b1a5-676427d0ebb4",
   "metadata": {},
   "outputs": [],
   "source": []
  },
  {
   "cell_type": "code",
   "execution_count": null,
   "id": "a8955985-69e8-405f-8500-77e2eb6b5060",
   "metadata": {},
   "outputs": [],
   "source": []
  },
  {
   "cell_type": "code",
   "execution_count": null,
   "id": "b30cae55-a825-49b6-a6ef-c1df493240b5",
   "metadata": {},
   "outputs": [],
   "source": []
  },
  {
   "cell_type": "code",
   "execution_count": null,
   "id": "b6036039-ece7-452a-a738-5e882b19c825",
   "metadata": {},
   "outputs": [],
   "source": []
  }
 ],
 "metadata": {
  "kernelspec": {
   "display_name": "Python 3 (ipykernel)",
   "language": "python",
   "name": "python3"
  },
  "language_info": {
   "codemirror_mode": {
    "name": "ipython",
    "version": 3
   },
   "file_extension": ".py",
   "mimetype": "text/x-python",
   "name": "python",
   "nbconvert_exporter": "python",
   "pygments_lexer": "ipython3",
   "version": "3.6.3"
  }
 },
 "nbformat": 4,
 "nbformat_minor": 5
}
