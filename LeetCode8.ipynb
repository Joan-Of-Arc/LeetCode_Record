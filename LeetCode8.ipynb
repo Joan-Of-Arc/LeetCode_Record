{
 "cells": [
  {
   "cell_type": "markdown",
   "id": "df79f817",
   "metadata": {},
   "source": [
    "## 687. 最长同值路径"
   ]
  },
  {
   "cell_type": "code",
   "execution_count": 1,
   "id": "426e8229",
   "metadata": {},
   "outputs": [],
   "source": [
    "from modules import constructList,constructTree,inorderTraversal"
   ]
  },
  {
   "cell_type": "code",
   "execution_count": 2,
   "id": "9eaa070e",
   "metadata": {},
   "outputs": [],
   "source": [
    "# Definition for a binary tree node.\n",
    "class TreeNode:\n",
    "    def __init__(self, val=0, left=None, right=None):\n",
    "        self.val = val\n",
    "        self.left = left\n",
    "        self.right = right"
   ]
  },
  {
   "cell_type": "code",
   "execution_count": 3,
   "id": "f6fddf68",
   "metadata": {},
   "outputs": [],
   "source": [
    "from collections import deque, defaultdict\n",
    "from typing import Optional\n",
    "class Solution:\n",
    "    def longestUnivaluePath(self, root: Optional[TreeNode]) -> int:\n",
    "        stk = deque([root])\n",
    "        memo = defaultdict(int)\n",
    "        while stk:\n",
    "            for _ in range(len(stk)):\n",
    "                cur = stk.popleft()\n",
    "                if cur:\n",
    "                    if cur.left:\n",
    "                        stk.append(cur.left)\n",
    "                        if cur.left.val == cur.val:\n",
    "                            memo[cur.val] += 1\n",
    "                    if cur.right:\n",
    "                        stk.append(cur.right)\n",
    "                        if cur.right.val == cur.val:\n",
    "                            memo[cur.val] += 1\n",
    "        return memo[max(memo, key = memo.get)] if memo else 0"
   ]
  },
  {
   "cell_type": "code",
   "execution_count": 33,
   "id": "e570dc47",
   "metadata": {},
   "outputs": [],
   "source": [
    "root = [1,2,2,2,2,2]\n",
    "head = constructTree(root)"
   ]
  },
  {
   "cell_type": "code",
   "execution_count": 34,
   "id": "8dc0f0c4",
   "metadata": {},
   "outputs": [
    {
     "data": {
      "text/plain": [
       "3"
      ]
     },
     "execution_count": 34,
     "metadata": {},
     "output_type": "execute_result"
    }
   ],
   "source": [
    "s = Solution()\n",
    "s.longestUnivaluePath(head)"
   ]
  },
  {
   "cell_type": "markdown",
   "id": "38658319",
   "metadata": {},
   "source": [
    "思路错误，没有区分相同数字不同集合的情况"
   ]
  },
  {
   "cell_type": "code",
   "execution_count": 62,
   "id": "40822ac6",
   "metadata": {},
   "outputs": [],
   "source": [
    "from collections import deque, defaultdict\n",
    "class Solution:\n",
    "    def longestUnivaluePath(self, root: Optional[TreeNode]) -> int:\n",
    "        if not root: return 0\n",
    "        stk = deque([(root, 0, -1)])\n",
    "        memo = defaultdict(int)\n",
    "        while stk:\n",
    "            for _ in range(len(stk)):\n",
    "                cur, th, path = stk.popleft()\n",
    "                if cur.left:\n",
    "                    if cur.left.val == cur.val:\n",
    "                        if path == -1:\n",
    "                            lpath = path = th\n",
    "                            memo[th] += 2\n",
    "                        else:\n",
    "                            lpath = path\n",
    "                            memo[path] += 1\n",
    "                        stk.append((cur.left, 2*th+1, lpath))\n",
    "                    else: stk.append((cur.left, 2*th+1, -1))\n",
    "\n",
    "                if cur.right:\n",
    "                    if cur.right.val == cur.val:\n",
    "                        if path == -1:\n",
    "                            rpath = path = th\n",
    "                            memo[th] += 2\n",
    "                        else:\n",
    "                            rpath = path\n",
    "                            memo[path] += 1\n",
    "                        stk.append((cur.right, 2*th+2, rpath))\n",
    "                    else: stk.append((cur.right, 2*th+2, -1))\n",
    "#         return memo[max(memo, key = memo.get)] - 1 if memo else 0\n",
    "        return memo"
   ]
  },
  {
   "cell_type": "code",
   "execution_count": 64,
   "id": "7cc45c28",
   "metadata": {},
   "outputs": [
    {
     "data": {
      "text/plain": [
       "defaultdict(int, {0: 7})"
      ]
     },
     "execution_count": 64,
     "metadata": {},
     "output_type": "execute_result"
    }
   ],
   "source": [
    "null = None\n",
    "root = [1,null,1,1,1,1,1,1]\n",
    "head = constructTree(root)\n",
    "s = Solution()\n",
    "s.longestUnivaluePath(head)"
   ]
  },
  {
   "cell_type": "markdown",
   "id": "bf590ff6",
   "metadata": {},
   "source": [
    "找到的是连通集合并不符合路径的定义"
   ]
  },
  {
   "cell_type": "markdown",
   "id": "4e3878b9",
   "metadata": {},
   "source": [
    "我们将二叉树看成一个有向图（从父结点指向子结点的边），定义同值有向路径为从某一结点出发，到达它的某一后代节点的路径，且经过的结点的值相同。最长同值路径长度必定为某一节点的左最长同值有向路径长度与右最长同值有向路径长度之和。"
   ]
  },
  {
   "cell_type": "code",
   "execution_count": 65,
   "id": "71f65bd2",
   "metadata": {},
   "outputs": [],
   "source": [
    "# official\n",
    "class Solution:\n",
    "    def longestUnivaluePath(self, root: Optional[TreeNode]) -> int:\n",
    "        ans = 0\n",
    "        def dfs(node: Optional[TreeNode]) -> int:\n",
    "            if node is None:\n",
    "                return 0\n",
    "            left = dfs(node.left)\n",
    "            right = dfs(node.right)\n",
    "            left1 = left + 1 if node.left and node.left.val == node.val else 0\n",
    "            right1 = right + 1 if node.right and node.right.val == node.val else 0\n",
    "            nonlocal ans\n",
    "            ans = max(ans, left1 + right1)\n",
    "            return max(left1, right1)\n",
    "        dfs(root)\n",
    "        return ans"
   ]
  },
  {
   "cell_type": "code",
   "execution_count": 66,
   "id": "d8700820",
   "metadata": {},
   "outputs": [],
   "source": [
    "class Solution:\n",
    "    def longestUnivaluePath(self, root: Optional[TreeNode]) -> int:\n",
    "        ans = 0\n",
    "        def dfs(node):\n",
    "            nonlocal ans\n",
    "            if not node: return 0\n",
    "            left = dfs(node.left)\n",
    "            right = dfs(node.right)\n",
    "            leftl = left + 1 if node.left and node.val == node.left.val else 0\n",
    "            rightl = right + 1 if node.right and node.val == node.right.val else 0\n",
    "            ans = max(ans, leftl + rightl)\n",
    "            return max(leftl, rightl)\n",
    "        dfs(root)\n",
    "        return ans"
   ]
  },
  {
   "cell_type": "markdown",
   "id": "e52d899f",
   "metadata": {},
   "source": [
    "# 自顶向下的二叉树路径问题专题"
   ]
  },
  {
   "cell_type": "markdown",
   "id": "34795bc4",
   "metadata": {},
   "source": [
    "## 257. 二叉树的所有路径"
   ]
  },
  {
   "cell_type": "code",
   "execution_count": 114,
   "id": "c6f1cd46",
   "metadata": {},
   "outputs": [],
   "source": [
    "# BFS\n",
    "from collections import deque\n",
    "class Solution:\n",
    "    def binaryTreePaths(self, root: Optional[TreeNode]) -> List[str]:\n",
    "        arrow = \"->\"\n",
    "        res = []\n",
    "        stk = deque([(root, str(root.val))])\n",
    "        while stk:\n",
    "            for _ in range(len(stk)):\n",
    "                cur, path = stk.popleft()\n",
    "                if cur.left or cur.right:\n",
    "                    if cur.left: \n",
    "                        lpath = path + arrow + str(cur.left.val)\n",
    "                        stk.append((cur.left, lpath))\n",
    "                    if cur.right: \n",
    "                        rpath = path + arrow + str(cur.right.val)\n",
    "                        stk.append((cur.right, rpath))\n",
    "                else: res.append(path)\n",
    "        return res"
   ]
  },
  {
   "cell_type": "code",
   "execution_count": 116,
   "id": "cf15d051",
   "metadata": {},
   "outputs": [
    {
     "data": {
      "text/plain": [
       "['1->2->5', '1->3->6', '1->3->7', '1->2->4->8']"
      ]
     },
     "execution_count": 116,
     "metadata": {},
     "output_type": "execute_result"
    }
   ],
   "source": [
    "head = constructTree([1,2,3,4,5,6,7,8])\n",
    "s = Solution()\n",
    "s.binaryTreePaths(head)"
   ]
  },
  {
   "cell_type": "markdown",
   "id": "254f9471",
   "metadata": {},
   "source": [
    "时间复杂度为on2而不是on，原因在于每次对于path的拷贝与赋值也需要消耗on的时间"
   ]
  },
  {
   "cell_type": "code",
   "execution_count": null,
   "id": "e45ccb97",
   "metadata": {},
   "outputs": [],
   "source": [
    "# DFS\n",
    "class Solution:\n",
    "    def binaryTreePaths(self, root):\n",
    "        def construct_paths(root, path):\n",
    "            if root:\n",
    "                path += str(root.val)\n",
    "                if not root.left and not root.right:  # 当前节点是叶子节点\n",
    "                    paths.append(path)  # 把路径加入到答案中\n",
    "                else:\n",
    "                    path += '->'  # 当前节点不是叶子节点，继续递归遍历\n",
    "                    construct_paths(root.left, path)\n",
    "                    construct_paths(root.right, path)\n",
    "\n",
    "        paths = []\n",
    "        construct_paths(root, '')\n",
    "        return paths"
   ]
  },
  {
   "cell_type": "markdown",
   "id": "a8da7ca8",
   "metadata": {},
   "source": [
    "## 面试题 04.12. 求和路径 (不会做)"
   ]
  },
  {
   "cell_type": "code",
   "execution_count": 122,
   "id": "a514f06a",
   "metadata": {},
   "outputs": [],
   "source": [
    "class Solution:\n",
    "    def pathSum(self, root: TreeNode, sum: int) -> int:\n",
    "        res = []\n",
    "        stk = deque([(root, [root.val])])\n",
    "        while stk:\n",
    "            for _ in range(len(stk)):\n",
    "                cur, path = stk.popleft()\n",
    "                if cur.left or cur.right:\n",
    "                    if cur.left: \n",
    "                        lpath = path + [cur.left.val]\n",
    "                        stk.append((cur.left, lpath))\n",
    "                    if cur.right: \n",
    "                        rpath = path + [cur.right.val]\n",
    "                        stk.append((cur.right, rpath))\n",
    "                else: res.append(path)\n",
    "        return res"
   ]
  },
  {
   "cell_type": "code",
   "execution_count": 123,
   "id": "92fe4a86",
   "metadata": {},
   "outputs": [
    {
     "data": {
      "text/plain": [
       "[[1, 2, 4], [1, 2, 5], [1, 3, 6], [1, 3, 7]]"
      ]
     },
     "execution_count": 123,
     "metadata": {},
     "output_type": "execute_result"
    }
   ],
   "source": [
    "head = constructTree([1,2,3,4,5,6,7])\n",
    "s = Solution()\n",
    "s.pathSum(head,1)"
   ]
  },
  {
   "cell_type": "code",
   "execution_count": 136,
   "id": "74ad182e",
   "metadata": {},
   "outputs": [],
   "source": [
    "class Solution:\n",
    "    def pathSum(self, root: TreeNode, sum: int) -> int:\n",
    "        if not root: return 0\n",
    "        res = []\n",
    "        stk = deque([(root, [root.val])])\n",
    "        while stk:\n",
    "            for _ in range(len(stk)):\n",
    "                cur, path = stk.popleft()\n",
    "                if cur.left or cur.right:\n",
    "                    if cur.left: \n",
    "                        lpath = path + [cur.left.val]\n",
    "                        stk.append((cur.left, lpath))\n",
    "                    if cur.right: \n",
    "                        rpath = path + [cur.right.val]\n",
    "                        stk.append((cur.right, rpath))\n",
    "                else: res.append(path)\n",
    "        \n",
    "        ans = 0\n",
    "        for path in res:\n",
    "            left = right = arrsum = 0\n",
    "            while right < len(path):\n",
    "                arrsum += path[right]\n",
    "                right += 1\n",
    "                if arrsum < sum: continue\n",
    "                while arrsum > sum:\n",
    "                    arrsum -= path[left]\n",
    "                    left += 1\n",
    "                if arrsum == sum:\n",
    "                    ans += 1\n",
    "        return ans"
   ]
  },
  {
   "cell_type": "code",
   "execution_count": 137,
   "id": "e0a94755",
   "metadata": {},
   "outputs": [
    {
     "data": {
      "text/plain": [
       "2"
      ]
     },
     "execution_count": 137,
     "metadata": {},
     "output_type": "execute_result"
    }
   ],
   "source": [
    "head = constructTree([1,2,3,4,5,6,7])\n",
    "s = Solution()\n",
    "s.pathSum(head,10)"
   ]
  },
  {
   "cell_type": "markdown",
   "id": "9278af81",
   "metadata": {},
   "source": [
    "值有可能是正或者负，难顶"
   ]
  },
  {
   "cell_type": "code",
   "execution_count": 138,
   "id": "cb09b00b",
   "metadata": {},
   "outputs": [],
   "source": [
    "class Solution:\n",
    "    def pathSum(self, root: TreeNode, sum: int) -> int:\n",
    "        if not root: return 0\n",
    "        res = []\n",
    "        stk = deque([(root, root.val,  [root.val])])\n",
    "        while stk:\n",
    "            for _ in range(len(stk)):\n",
    "                cur, presum, path = stk.popleft()\n",
    "                if cur.left or cur.right:\n",
    "                    if cur.left: \n",
    "                        lpresum = presum + cur.left.val\n",
    "                        lpath = path + [lpresum]\n",
    "                        stk.append((cur.left, lpresum, lpath))\n",
    "                    if cur.right: \n",
    "                        rpresum = presum + cur.right.val\n",
    "                        rpath = path + [rpresum]\n",
    "                        stk.append((cur.right, rpresum, rpath))\n",
    "                else: res.append(path)\n",
    "        \n",
    "#         ans = 0\n",
    "#         for path in res:\n",
    "#             left = right = arrsum = 0\n",
    "#             while right < len(path):\n",
    "#                 arrsum += path[right]\n",
    "#                 right += 1\n",
    "#                 if arrsum < sum: continue\n",
    "#                 while arrsum > sum:\n",
    "#                     arrsum -= path[left]\n",
    "#                     left += 1\n",
    "#                 if arrsum == sum:\n",
    "#                     ans += 1\n",
    "#         return ans\n",
    "        return res"
   ]
  },
  {
   "cell_type": "code",
   "execution_count": 139,
   "id": "7e931eb9",
   "metadata": {},
   "outputs": [
    {
     "data": {
      "text/plain": [
       "[[1, 3, 7], [1, 3, 8], [1, 4, 10], [1, 4, 11]]"
      ]
     },
     "execution_count": 139,
     "metadata": {},
     "output_type": "execute_result"
    }
   ],
   "source": [
    "head = constructTree([1,2,3,4,5,6,7])\n",
    "s = Solution()\n",
    "s.pathSum(head,10)"
   ]
  },
  {
   "cell_type": "code",
   "execution_count": 151,
   "id": "3131a46a",
   "metadata": {},
   "outputs": [],
   "source": [
    "class Solution:\n",
    "    def pathSum(self, root: TreeNode, sum: int) -> int:\n",
    "        if not root: return 0\n",
    "        res = []\n",
    "        stk = deque([(root, root.val,  [root.val])])\n",
    "        while stk:\n",
    "            for _ in range(len(stk)):\n",
    "                cur, presum, path = stk.popleft()\n",
    "                if cur.left or cur.right:\n",
    "                    if cur.left: \n",
    "                        lpresum = presum + cur.left.val\n",
    "                        lpath = path + [lpresum]\n",
    "                        stk.append((cur.left, lpresum, lpath))\n",
    "                    if cur.right: \n",
    "                        rpresum = presum + cur.right.val\n",
    "                        rpath = path + [rpresum]\n",
    "                        stk.append((cur.right, rpresum, rpath))\n",
    "                else: res.append(path)\n",
    "        ans = 0\n",
    "        for path in res:\n",
    "            if path[-1] == sum: ans += 1\n",
    "            for i in range(len(path)-1):\n",
    "                if path[i] == sum: ans += 1\n",
    "                for j in range(i+1, len(path)):\n",
    "                    if path[j] - path[i] == sum:\n",
    "                        ans += 1\n",
    "        \n",
    "            \n",
    "            \n",
    "        return ans,res\n",
    "#         return res"
   ]
  },
  {
   "cell_type": "code",
   "execution_count": 153,
   "id": "32736505",
   "metadata": {},
   "outputs": [
    {
     "data": {
      "text/plain": [
       "(2, [[1, -1], [1, 4]])"
      ]
     },
     "execution_count": 153,
     "metadata": {},
     "output_type": "execute_result"
    }
   ],
   "source": [
    "head = constructTree([1,-2,3])\n",
    "s = Solution()\n",
    "s.pathSum(head,1)"
   ]
  },
  {
   "cell_type": "markdown",
   "id": "5d9e5aa8",
   "metadata": {},
   "source": [
    "算重复了"
   ]
  },
  {
   "cell_type": "markdown",
   "id": "b5d64b28",
   "metadata": {},
   "source": [
    "看答案了"
   ]
  },
  {
   "cell_type": "code",
   "execution_count": 148,
   "id": "6447990b",
   "metadata": {},
   "outputs": [],
   "source": [
    "class Solution:\n",
    "    def pathSum(self, root: TreeNode, sum: int) -> int:\n",
    "        def rootSum(root, sum):\n",
    "            if root is None:\n",
    "                return 0\n",
    "\n",
    "            ret = 0\n",
    "            if root.val == sum:\n",
    "                ret += 1\n",
    "\n",
    "            ret += rootSum(root.left, sum - root.val)\n",
    "            ret += rootSum(root.right, sum - root.val)\n",
    "            return ret\n",
    "        \n",
    "        if root is None:\n",
    "            return 0\n",
    "            \n",
    "        ret = rootSum(root, sum)\n",
    "        ret += self.pathSum(root.left, sum)\n",
    "        ret += self.pathSum(root.right, sum)\n",
    "        return ret"
   ]
  },
  {
   "cell_type": "markdown",
   "id": "886e1d04",
   "metadata": {},
   "source": [
    "双递归，on2，即穷举从当前节点开始的所有路径，看之和是否等于sum"
   ]
  },
  {
   "cell_type": "markdown",
   "id": "f0e49e63",
   "metadata": {},
   "source": [
    "仿写一下"
   ]
  },
  {
   "cell_type": "code",
   "execution_count": null,
   "id": "8986db63",
   "metadata": {},
   "outputs": [],
   "source": [
    "class Solution:\n",
    "    def pathSum(self, root: TreeNode, sum: int) -> int:\n",
    "        def dfs(node, sum):\n",
    "            if not node:\n",
    "                return 0\n",
    "            ret = 0\n",
    "            if node.val == sum:\n",
    "                ret += 1\n",
    "            ret += dfs(node.left, sum - node.val) + dfs(node.right, sum - node.val)\n",
    "            return ret\n",
    "        if not root: return 0\n",
    "        ret = dfs(root, sum)\n",
    "        ret += pathSum(root.left, sum) + pathSum(root.right, sum)\n",
    "        return ret"
   ]
  },
  {
   "cell_type": "markdown",
   "id": "df31ae77",
   "metadata": {},
   "source": [
    "前缀和做法"
   ]
  },
  {
   "cell_type": "code",
   "execution_count": 154,
   "id": "eb3b45fe",
   "metadata": {},
   "outputs": [],
   "source": [
    "class Solution:\n",
    "    def pathSum(self, root: TreeNode, sum: int) -> int:\n",
    "        prefix = collections.defaultdict(int)\n",
    "        prefix[0] = 1\n",
    "\n",
    "        def dfs(root, curr):\n",
    "            if not root:\n",
    "                return 0\n",
    "            \n",
    "            ret = 0\n",
    "            curr += root.val\n",
    "            ret += prefix[curr - sum]\n",
    "            prefix[curr] += 1\n",
    "            ret += dfs(root.left, curr)\n",
    "            ret += dfs(root.right, curr)\n",
    "            prefix[curr] -= 1\n",
    "\n",
    "            return ret\n",
    "\n",
    "        return dfs(root, 0)"
   ]
  },
  {
   "cell_type": "markdown",
   "id": "00710ead",
   "metadata": {},
   "source": [
    "看不懂"
   ]
  },
  {
   "cell_type": "code",
   "execution_count": 158,
   "id": "e5ce92a1",
   "metadata": {},
   "outputs": [],
   "source": [
    "class Solution:\n",
    "    def pathSum(self, root: TreeNode, sum: int) -> int:\n",
    "        def f(r, s):\n",
    "            if r:\n",
    "                print(r.val, s)\n",
    "                s = [i + r.val for i in s] + [r.val]\n",
    "                return s.count(sum) + f(r.left, s) + f(r.right, s)\n",
    "            return 0\n",
    "        return f(root, []) "
   ]
  },
  {
   "cell_type": "code",
   "execution_count": 159,
   "id": "77699767",
   "metadata": {},
   "outputs": [
    {
     "name": "stdout",
     "output_type": "stream",
     "text": [
      "1 []\n",
      "2 [1]\n",
      "4 [3, 2]\n",
      "5 [3, 2]\n",
      "3 [1]\n",
      "6 [4, 3]\n",
      "7 [4, 3]\n"
     ]
    },
    {
     "data": {
      "text/plain": [
       "2"
      ]
     },
     "execution_count": 159,
     "metadata": {},
     "output_type": "execute_result"
    }
   ],
   "source": [
    "head = constructTree([1,2,3,4,5,6,7])\n",
    "s = Solution()\n",
    "s.pathSum(head, 10)"
   ]
  },
  {
   "cell_type": "markdown",
   "id": "ba4f56d8",
   "metadata": {},
   "source": [
    "## 112. 路径总和"
   ]
  },
  {
   "cell_type": "code",
   "execution_count": 175,
   "id": "cf292cc9",
   "metadata": {},
   "outputs": [],
   "source": [
    "from collections import deque\n",
    "class Solution:\n",
    "    def hasPathSum(self, root: Optional[TreeNode], targetSum: int) -> bool:\n",
    "        if not root: return False\n",
    "        stk = deque([(root, root.val)])\n",
    "        while stk:\n",
    "            for _ in range(len(stk)):\n",
    "                cur, presum = stk.popleft()\n",
    "                if not cur.left and not cur.right:\n",
    "                    if presum == targetSum: return True\n",
    "                if cur.left: stk.append((cur.left, presum + cur.left.val))\n",
    "                if cur.right: stk.append((cur.right, presum + cur.right.val))\n",
    "        return False"
   ]
  },
  {
   "cell_type": "code",
   "execution_count": 178,
   "id": "3d984830",
   "metadata": {},
   "outputs": [
    {
     "data": {
      "text/plain": [
       "True"
      ]
     },
     "execution_count": 178,
     "metadata": {},
     "output_type": "execute_result"
    }
   ],
   "source": [
    "root = [5,4,8,11,null,13,4,7,2,null,null,null,1]\n",
    "head = constructTree(root)\n",
    "s = Solution()\n",
    "s.hasPathSum(head, 26)"
   ]
  },
  {
   "cell_type": "code",
   "execution_count": 184,
   "id": "fa0f9a2d",
   "metadata": {},
   "outputs": [],
   "source": [
    "class Solution:\n",
    "    def hasPathSum(self, root: Optional[TreeNode], targetSum: int) -> bool:\n",
    "        ans = 0\n",
    "        def dfs(node, presum):\n",
    "            nonlocal ans\n",
    "            if not node: return\n",
    "            presum += node.val\n",
    "            if not node.left and not node.right:\n",
    "                if presum == targetSum: ans += 1\n",
    "            dfs(node.left, presum)\n",
    "            dfs(node.right, presum)\n",
    "        dfs(root, 0)\n",
    "        return True if ans else False"
   ]
  },
  {
   "cell_type": "code",
   "execution_count": 187,
   "id": "02dca202",
   "metadata": {},
   "outputs": [
    {
     "data": {
      "text/plain": [
       "False"
      ]
     },
     "execution_count": 187,
     "metadata": {},
     "output_type": "execute_result"
    }
   ],
   "source": [
    "root = [5,4,8,11,null,13,4,7,2,null,null,null,1]\n",
    "head = constructTree(root)\n",
    "s = Solution()\n",
    "s.hasPathSum(head, 28)"
   ]
  },
  {
   "cell_type": "markdown",
   "id": "d52f4bb3",
   "metadata": {},
   "source": [
    "上面的递归不能在发现符合条件的路径时就跳出，可以用逻辑或来修改流程"
   ]
  },
  {
   "cell_type": "code",
   "execution_count": null,
   "id": "d20dac30",
   "metadata": {},
   "outputs": [],
   "source": [
    "class Solution:\n",
    "    def hasPathSum(self, root: TreeNode, sum: int) -> bool:\n",
    "        if not root:\n",
    "            return False\n",
    "        if not root.left and not root.right:\n",
    "            return sum == root.val\n",
    "        return self.hasPathSum(root.left, sum - root.val) or \\\n",
    "        self.hasPathSum(root.right, sum - root.val)"
   ]
  },
  {
   "cell_type": "markdown",
   "id": "ee5599c5",
   "metadata": {},
   "source": [
    "可以携带sum - node.val的参数，可能会更方便"
   ]
  },
  {
   "cell_type": "markdown",
   "id": "dc506a69",
   "metadata": {},
   "source": [
    "## 113. 路径总和 Ⅱ"
   ]
  },
  {
   "cell_type": "code",
   "execution_count": 193,
   "id": "b92c16ce",
   "metadata": {},
   "outputs": [],
   "source": [
    "from collections import deque\n",
    "class Solution:\n",
    "    def pathSum(self, root: Optional[TreeNode], targetSum: int) -> List[List[int]]:\n",
    "        if not root: return []\n",
    "        res = []\n",
    "        stk = deque([(root, 0, [])])\n",
    "        while stk:\n",
    "            for _ in range(len(stk)):\n",
    "                cur, presum, path = stk.popleft()\n",
    "                presum += cur.val\n",
    "                npath = path + [cur.val]\n",
    "                if not cur.left and not cur.right:\n",
    "                    if presum == targetSum: res.append(npath)\n",
    "                if cur.left: stk.append((cur.left, presum, npath))\n",
    "                if cur.right: stk.append((cur.right, presum, npath))\n",
    "        return res"
   ]
  },
  {
   "cell_type": "code",
   "execution_count": 202,
   "id": "33bff4e7",
   "metadata": {},
   "outputs": [
    {
     "data": {
      "text/plain": [
       "[]"
      ]
     },
     "execution_count": 202,
     "metadata": {},
     "output_type": "execute_result"
    }
   ],
   "source": [
    "root = [1]\n",
    "head = constructTree(root)\n",
    "s = Solution()\n",
    "s.pathSum(head, 5)"
   ]
  },
  {
   "cell_type": "markdown",
   "id": "46aba3d9",
   "metadata": {},
   "source": [
    "时间略长，但是是on啊"
   ]
  },
  {
   "cell_type": "markdown",
   "id": "ac64455f",
   "metadata": {},
   "source": [
    "不对，还有数组的拷贝，应该是on2"
   ]
  },
  {
   "cell_type": "code",
   "execution_count": 204,
   "id": "7ac61f12",
   "metadata": {},
   "outputs": [],
   "source": [
    "class Solution:\n",
    "    def pathSum(self, root: Optional[TreeNode], targetSum: int) -> List[List[int]]:\n",
    "        res, path = [], []\n",
    "        def dfs(node, targetSum):\n",
    "            if not node: return\n",
    "            path.append(node.val)\n",
    "            targetSum -= node.val\n",
    "            if not node.left and not node.right and not targetSum:\n",
    "                res.append(path[:])  # [:]表示path的全部内容\n",
    "            dfs(node.left, targetSum)\n",
    "            dfs(node.right, targetSum)\n",
    "            path.pop()  # pop 是因为递归完毕回到了上一步，故要将访问到的最后一个数据pop\n",
    "        dfs(root, targetSum)\n",
    "        return res"
   ]
  },
  {
   "cell_type": "markdown",
   "id": "e9ac8d7a",
   "metadata": {},
   "source": [
    "可以用pop的方法改进上面的迭代程序，就不用新创建这么多list对象, 函数也不用携带path的参数"
   ]
  },
  {
   "cell_type": "markdown",
   "id": "3cc69d96",
   "metadata": {},
   "source": [
    "不可以"
   ]
  },
  {
   "cell_type": "markdown",
   "id": "9ccb51a4",
   "metadata": {},
   "source": [
    "## 437. 路径总和 Ⅲ"
   ]
  },
  {
   "cell_type": "markdown",
   "id": "4c599d9c",
   "metadata": {},
   "source": [
    "暴力思想：记录从当前节点开始的和为targetSum的路径数目，再遍历一遍所有节点，路径数目累加"
   ]
  },
  {
   "cell_type": "code",
   "execution_count": 220,
   "id": "1614a1ae",
   "metadata": {},
   "outputs": [],
   "source": [
    "class Solution:\n",
    "    def pathSum(self, root: Optional[TreeNode], targetSum: int) -> int:\n",
    "        \n",
    "        # 从当前节点开始的路径和为targetSum的数量\n",
    "        def dfs(node, targetSum):\n",
    "            if not node: return 0\n",
    "            print(node.val, targetSum)\n",
    "            ret = 0\n",
    "            if node.val == targetSum: ret += 1 \n",
    "            targetSum -= node.val\n",
    "            # ret代表以当前节点为结束，路径之和满足条件，需要收集所有满足条件的路径\n",
    "            # 故应返回 ret 与左右节点的路径数量之和\n",
    "            return ret + dfs(node.left, targetSum) + dfs(node.right, targetSum)\n",
    "        \n",
    "        return dfs(root, targetSum)"
   ]
  },
  {
   "cell_type": "code",
   "execution_count": 224,
   "id": "8e24f043",
   "metadata": {},
   "outputs": [
    {
     "name": "stdout",
     "output_type": "stream",
     "text": [
      "1 4\n",
      "-1 3\n",
      "4 4\n",
      "4 4\n",
      "3 3\n"
     ]
    },
    {
     "data": {
      "text/plain": [
       "3"
      ]
     },
     "execution_count": 224,
     "metadata": {},
     "output_type": "execute_result"
    }
   ],
   "source": [
    "root = [1,-1,3,4,4]\n",
    "head = constructTree(root)\n",
    "s = Solution()\n",
    "s.pathSum(head, 4)"
   ]
  },
  {
   "cell_type": "markdown",
   "id": "c173fffe",
   "metadata": {},
   "source": [
    "以上为遍历一个节点，下考虑遍历所有节点"
   ]
  },
  {
   "cell_type": "code",
   "execution_count": 231,
   "id": "22cbef2a",
   "metadata": {},
   "outputs": [],
   "source": [
    "class Solution:\n",
    "    def pathSum(self, root: Optional[TreeNode], targetSum: int) -> int:\n",
    "        # 从当前节点开始的路径和为targetSum的数量\n",
    "        def dfs(node, targetSum):\n",
    "            if not node: return 0\n",
    "#             print(node.val, targetSum)\n",
    "            ret = 0\n",
    "            if node.val == targetSum: ret += 1 \n",
    "            targetSum -= node.val\n",
    "            # ret代表以当前节点为结束，路径之和满足条件，需要收集所有满足条件的路径\n",
    "            # 故应返回 ret 与左右节点的路径数量之和\n",
    "            return ret + dfs(node.left, targetSum) + dfs(node.right, targetSum)\n",
    "        \n",
    "        if not root: return 0\n",
    "        ans = dfs(root, targetSum)\n",
    "        # 递归调用，遍历完所有节点\n",
    "        ans += self.pathSum(root.left, targetSum) + self.pathSum(root.right, targetSum)\n",
    "        return ans"
   ]
  },
  {
   "cell_type": "code",
   "execution_count": 232,
   "id": "bf8c9675",
   "metadata": {},
   "outputs": [
    {
     "data": {
      "text/plain": [
       "3"
      ]
     },
     "execution_count": 232,
     "metadata": {},
     "output_type": "execute_result"
    }
   ],
   "source": [
    "root = [10,5,-3,3,2,null,11,3,-2,null,1]\n",
    "head = constructTree(root)\n",
    "s = Solution()\n",
    "s.pathSum(head, 8)"
   ]
  },
  {
   "cell_type": "markdown",
   "id": "e605ff8f",
   "metadata": {},
   "source": [
    "以上过程存在大量的重复计算，可考虑用前缀和简化计算过程"
   ]
  },
  {
   "cell_type": "markdown",
   "id": "2f9c51b8",
   "metadata": {},
   "source": [
    "                             1\n",
    "                            / \\\n",
    "                           2    3\n",
    "                          / \\   / \\             targetSum = 7\n",
    "                         4  -5  1   3"
   ]
  },
  {
   "cell_type": "markdown",
   "id": "e9105906",
   "metadata": {},
   "source": [
    "如上所示的二叉树，我们使用一个哈希表memo来存记录遍历到当前节点的所有前缀和presum，在访问该节点node时，遍历memo中的前缀和，若发现有presum - target的键, 则表示找到了一条路径。\n",
    "\n",
    "例如上图二叉树访问到4的过程： 1 -> 2 -> 4，memo：0,1 -> 0,1,3 -> 0,1,3,7 在访问4节点时，发现7 - 7 = 0 在字典里。说明有一条路径的和为targetSum，即找到了一个答案。\n",
    "\n",
    "另外需要注意两点： \n",
    "1. 可能存在多个前缀和相等的情况，故memo里应记录前缀和的数量。\n",
    "2. 在访问完叶节点开始回溯时，必须将根节点至当前叶节点的前缀和数目减一，否则会引起错误。因为路径只能为从上至下而不能历经多个同级节点。如上述二叉树，在访问完-5节点后memo中 memo[-2] = 1，-5为叶子节点，访问完开始回溯，若在回溯时不将memo[-2] -= 1,则在访问叶子节点1时会发现 presum - target = 5 - 7 = -2，也会认为是正确答案。"
   ]
  },
  {
   "cell_type": "code",
   "execution_count": 252,
   "id": "47a53bde",
   "metadata": {},
   "outputs": [],
   "source": [
    "from collections import defaultdict\n",
    "class Solution:\n",
    "    def pathSum(self, root: Optional[TreeNode], targetSum: int) -> int:\n",
    "        if not root: return 0\n",
    "        memo = defaultdict(int)\n",
    "        memo[0] = 1\n",
    "        ans = 0\n",
    "        def dp(node, curPreSum):\n",
    "            nonlocal ans\n",
    "            if not node: return\n",
    "            curPreSum += node.val\n",
    "#             if memo[curPreSum - targetSum] > 0:\n",
    "#                 print(node.val, memo)\n",
    "            ans += memo[curPreSum - targetSum]\n",
    "            memo[curPreSum] += 1\n",
    "            dp(node.left, curPreSum)\n",
    "            dp(node.right, curPreSum)\n",
    "            memo[curPreSum] -= 1\n",
    "            \n",
    "        dp(root, 0)\n",
    "        return ans"
   ]
  },
  {
   "cell_type": "code",
   "execution_count": 253,
   "id": "a8d83710",
   "metadata": {},
   "outputs": [
    {
     "data": {
      "text/plain": [
       "3"
      ]
     },
     "execution_count": 253,
     "metadata": {},
     "output_type": "execute_result"
    }
   ],
   "source": [
    "root = [10,5,-3,3,2,null,11,3,-2,null,1]\n",
    "head = constructTree(root)\n",
    "s = Solution()\n",
    "s.pathSum(head, 8)"
   ]
  },
  {
   "cell_type": "code",
   "execution_count": 260,
   "id": "2448e92b",
   "metadata": {},
   "outputs": [],
   "source": [
    "from collections import defaultdict\n",
    "class Solution:\n",
    "    def pathSum(self, root: Optional[TreeNode], targetSum: int) -> int:\n",
    "        memo = defaultdict(int)\n",
    "        memo[0] = 1\n",
    "        def dp(node, curPreSum):\n",
    "            if not node: return 0\n",
    "            ans = 0\n",
    "            curPreSum += node.val\n",
    "#             if memo[curPreSum - targetSum] > 0:\n",
    "#                 print(node.val, memo)\n",
    "            ans += memo[curPreSum - targetSum]\n",
    "            memo[curPreSum] += 1\n",
    "            ans += dp(node.left, curPreSum)\n",
    "            ans += dp(node.right, curPreSum)\n",
    "            memo[curPreSum] -= 1\n",
    "            return ans\n",
    "        return dp(root, 0)"
   ]
  },
  {
   "cell_type": "code",
   "execution_count": 261,
   "id": "c63c5b0a",
   "metadata": {},
   "outputs": [
    {
     "data": {
      "text/plain": [
       "3"
      ]
     },
     "execution_count": 261,
     "metadata": {},
     "output_type": "execute_result"
    }
   ],
   "source": [
    "root = [10,5,-3,3,2,null,11,3,-2,null,1]\n",
    "head = constructTree(root)\n",
    "s = Solution()\n",
    "s.pathSum(head, 8)"
   ]
  },
  {
   "cell_type": "markdown",
   "id": "88727558",
   "metadata": {},
   "source": [
    "不成熟的总结一下，双递归的方法是自上而下，每次都从当前节点遍历完所有能到达的子节点，故而会有大量的重复计算，因为没有利用好之前的信息。\n",
    "\n",
    "而dp + 前缀和的方式是自下而上，利用memo保存到当前节点为止得到的所有前缀和，能用利用上之前的信息，只需遍历一次二叉树，复杂度由O(n^2)降低到了O(n)。"
   ]
  },
  {
   "cell_type": "markdown",
   "id": "95fa991f",
   "metadata": {},
   "source": [
    "隐约觉得这两种方法有更深层次的区别与联系，但就我目前的水平总结不出，再议"
   ]
  },
  {
   "cell_type": "markdown",
   "id": "96eca72d",
   "metadata": {},
   "source": [
    "## 988. 从叶节点开始的最小字符串"
   ]
  },
  {
   "cell_type": "code",
   "execution_count": 12,
   "id": "5fb5c90a",
   "metadata": {},
   "outputs": [],
   "source": [
    "from typing import Optional\n",
    "class Solution:\n",
    "    def smallestFromLeaf(self, root: Optional[TreeNode]) -> str:\n",
    "        ans = 'zz'\n",
    "        def dfs(node, prestr):\n",
    "            if not node: return\n",
    "#             print(node.val, prestr)\n",
    "            nonlocal ans\n",
    "            prestr += chr(97+node.val)\n",
    "            if not node.left and not node.right:\n",
    "#                 print(node.val)\n",
    "                ans = min(ans, prestr[::-1])\n",
    "            dfs(node.left, prestr)\n",
    "            dfs(node.right, prestr)\n",
    "            \n",
    "        dfs(root,'')\n",
    "        return ans"
   ]
  },
  {
   "cell_type": "code",
   "execution_count": 13,
   "id": "98c8c27c",
   "metadata": {},
   "outputs": [
    {
     "name": "stdout",
     "output_type": "stream",
     "text": [
      "[2, 0, 1, 2, 0, 1]\n"
     ]
    },
    {
     "data": {
      "text/plain": [
       "'abc'"
      ]
     },
     "execution_count": 13,
     "metadata": {},
     "output_type": "execute_result"
    }
   ],
   "source": [
    "null = None\n",
    "root = [2,2,1,null,1,0,null,0]\n",
    "head = constructTree(root)\n",
    "print(inorderTraversal(head))\n",
    "s = Solution()\n",
    "s.smallestFromLeaf(head)"
   ]
  },
  {
   "cell_type": "markdown",
   "id": "16d5aa54",
   "metadata": {},
   "source": [
    "这也能pass，看来用例不够严密"
   ]
  },
  {
   "cell_type": "markdown",
   "id": "48b5c49d",
   "metadata": {},
   "source": [
    "## 124. 二叉树中的最大路径和"
   ]
  },
  {
   "cell_type": "markdown",
   "id": "c98b87af",
   "metadata": {},
   "source": [
    "路径 被定义为一条从树中任意节点出发，沿父节点-子节点连接，达到任意节点的序列。同一个节点在一条路径序列中 至多出现一次 。该路径 至少包含一个 节点，且不一定经过根节点。\n",
    "\n",
    "我们将一个节点的路径定义为以当前节点为父节点，向两侧延伸的路径(也可以不延伸，此时即为单个节点的情况)。\n",
    "则一个节点的最大路径和即为左节点的最大路径和加右节点的最大路径和加自身值，其中左右最大路径和均做max(0, leftsum)处理，以应对左节点或右节点最大路径和为负的情况，此时路径不连接左侧或右侧节点。\n",
    "\n",
    "遍历一遍二叉树，对每个节点计算其最大路径和，用ans保存遍历到当前的最大路径和，使用memo进行剪枝，避免重复计算，遍历完的ans即为二叉树中的最大路径和。"
   ]
  },
  {
   "cell_type": "code",
   "execution_count": 14,
   "id": "19fb3577",
   "metadata": {},
   "outputs": [],
   "source": [
    "from collections import defaultdict\n",
    "class Solution:\n",
    "    def maxPathSum(self, root: Optional[TreeNode]) -> int:\n",
    "        memo = defaultdict(int)\n",
    "        ans = root.val  # 题目保证至少有一个node\n",
    "        \n",
    "        def dfs(node, nodeID):\n",
    "            if not node: return 0\n",
    "            if nodeID in memo: return memo[nodeID]\n",
    "            lpSum = dfs(node.left, 2 * nodeID + 1)\n",
    "            rpSum = dfs(node.right, 2 * nodeID + 2)\n",
    "            pathSum = node.val + max(0, lpSum) + max(0, rpSum)\n",
    "            memo[nodeID] = pathSum\n",
    "            return node.val + max(max(0, lpSum), max(0, rpSum))\n",
    "        \n",
    "        dfs(root, 0)\n",
    "        return memo"
   ]
  },
  {
   "cell_type": "code",
   "execution_count": 20,
   "id": "10938a36",
   "metadata": {},
   "outputs": [
    {
     "data": {
      "text/plain": [
       "42"
      ]
     },
     "execution_count": 20,
     "metadata": {},
     "output_type": "execute_result"
    }
   ],
   "source": [
    "root = [-10,9,20,null,null,15,7]\n",
    "head = constructTree(root)\n",
    "s = Solution()\n",
    "s.maxPathSum(head)"
   ]
  },
  {
   "cell_type": "markdown",
   "id": "3e6f1c90",
   "metadata": {},
   "source": [
    "                        -10\n",
    "                        /  \\\n",
    "                       9   20\n",
    "                         /   \\\n",
    "                        15    7 "
   ]
  },
  {
   "cell_type": "markdown",
   "id": "e7dab485",
   "metadata": {},
   "source": [
    "目前看来是对的, 下面用ans记录目前为止的最大值就行"
   ]
  },
  {
   "cell_type": "code",
   "execution_count": 25,
   "id": "796917b1",
   "metadata": {},
   "outputs": [],
   "source": [
    "from collections import defaultdict\n",
    "class Solution:\n",
    "    def maxPathSum(self, root: Optional[TreeNode]) -> int:\n",
    "        memo = defaultdict(int)\n",
    "        ans = root.val  # 题目保证至少有一个node\n",
    "        \n",
    "        def dfs(node, nodeID):\n",
    "            nonlocal ans\n",
    "            if not node: return 0\n",
    "            if nodeID in memo: return memo[nodeID]\n",
    "            lpSum = dfs(node.left, 2 * nodeID + 1)\n",
    "            rpSum = dfs(node.right, 2 * nodeID + 2)\n",
    "            pathSum = node.val + max(0, lpSum) + max(0, rpSum)\n",
    "            memo[nodeID] = pathSum\n",
    "            ans = max(ans, pathSum)\n",
    "            return node.val + max(max(0, lpSum), max(0, rpSum))\n",
    "        \n",
    "        dfs(root, 0)\n",
    "        return ans"
   ]
  },
  {
   "cell_type": "code",
   "execution_count": 26,
   "id": "23bb365d",
   "metadata": {},
   "outputs": [
    {
     "data": {
      "text/plain": [
       "6"
      ]
     },
     "execution_count": 26,
     "metadata": {},
     "output_type": "execute_result"
    }
   ],
   "source": [
    "root = [1,2,3]\n",
    "head = constructTree(root)\n",
    "s = Solution()\n",
    "s.maxPathSum(head)"
   ]
  },
  {
   "cell_type": "markdown",
   "id": "ea25cd26",
   "metadata": {},
   "source": [
    "过啦！！！！第一次独立做出了一个困难，略激动，但还需要优化"
   ]
  },
  {
   "cell_type": "code",
   "execution_count": 33,
   "id": "79af2460",
   "metadata": {},
   "outputs": [],
   "source": [
    "from collections import defaultdict\n",
    "class Solution:\n",
    "    def maxPathSum(self, root: Optional[TreeNode]) -> int:\n",
    "        memo = defaultdict(int)\n",
    "        ans = root.val  # 题目保证至少有一个node\n",
    "        \n",
    "        def dfs(node, nodeID):\n",
    "            nonlocal ans\n",
    "            if not node: return 0\n",
    "            if nodeID in memo: \n",
    "                print('**************', nodeID)\n",
    "                return memo[nodeID]\n",
    "            lpSum = dfs(node.left, 2 * nodeID + 1)\n",
    "            rpSum = dfs(node.right, 2 * nodeID + 2)\n",
    "            pathSum = node.val + max(0, lpSum) + max(0, rpSum)\n",
    "            memo[nodeID] = pathSum\n",
    "            ans = max(ans, pathSum)\n",
    "            return node.val + max(max(0, lpSum), max(0, rpSum))\n",
    "        \n",
    "        dfs(root, 0)\n",
    "        return ans, memo"
   ]
  },
  {
   "cell_type": "code",
   "execution_count": 34,
   "id": "ab2b8830",
   "metadata": {},
   "outputs": [
    {
     "data": {
      "text/plain": [
       "(19, defaultdict(int, {7: 7, 3: 10, 4: 4, 1: 15, 5: 5, 6: 6, 2: 13, 0: 19}))"
      ]
     },
     "execution_count": 34,
     "metadata": {},
     "output_type": "execute_result"
    }
   ],
   "source": [
    "root = [0,1,2,3,4,5,6,7]\n",
    "head = constructTree(root)\n",
    "s = Solution()\n",
    "s.maxPathSum(head)"
   ]
  },
  {
   "cell_type": "markdown",
   "id": "43cb9403",
   "metadata": {},
   "source": [
    "其实上述算法根本没有用到memo，不算dp，存粹的暴力解，但这题要优化应该还是需要dp"
   ]
  },
  {
   "cell_type": "markdown",
   "id": "846871e9",
   "metadata": {},
   "source": [
    "不用memo写一版暴力"
   ]
  },
  {
   "cell_type": "code",
   "execution_count": 39,
   "id": "77107b7b",
   "metadata": {},
   "outputs": [],
   "source": [
    "class Solution:\n",
    "    def maxPathSum(self, root: Optional[TreeNode]) -> int:\n",
    "        ans = root.val  # 题目保证至少有一个node\n",
    "        def dfs(node):\n",
    "            nonlocal ans\n",
    "            if not node: return 0\n",
    "            lpSum = max(dfs(node.left), 0)\n",
    "            rpSum = max(dfs(node.right), 0)\n",
    "            pathSum = node.val + lpSum + rpSum\n",
    "            ans = max(ans, pathSum)\n",
    "            return node.val + max(lpSum, rpSum)\n",
    "        \n",
    "        dfs(root)\n",
    "        return ans"
   ]
  },
  {
   "cell_type": "code",
   "execution_count": 40,
   "id": "0f4a2e16",
   "metadata": {},
   "outputs": [
    {
     "data": {
      "text/plain": [
       "19"
      ]
     },
     "execution_count": 40,
     "metadata": {},
     "output_type": "execute_result"
    }
   ],
   "source": [
    "root = [0,1,2,3,4,5,6,7]\n",
    "head = constructTree(root)\n",
    "s = Solution()\n",
    "s.maxPathSum(head)"
   ]
  },
  {
   "cell_type": "markdown",
   "id": "d2a67297",
   "metadata": {},
   "source": [
    "没有了memo的操作暴搜反而更快了，接下来考虑如何dp"
   ]
  },
  {
   "cell_type": "markdown",
   "id": "36887989",
   "metadata": {},
   "source": [
    "貌似无法dp，这个递归复杂度on，很接近最优解了"
   ]
  },
  {
   "cell_type": "markdown",
   "id": "96657403",
   "metadata": {},
   "source": [
    "看来是这题较简单"
   ]
  },
  {
   "cell_type": "markdown",
   "id": "32f2012a",
   "metadata": {},
   "source": [
    "## 543. 二叉树的直径"
   ]
  },
  {
   "cell_type": "markdown",
   "id": "78ae3ac2",
   "metadata": {},
   "source": [
    "和124一模一样"
   ]
  },
  {
   "cell_type": "code",
   "execution_count": 44,
   "id": "79154c92",
   "metadata": {},
   "outputs": [],
   "source": [
    "class Solution:\n",
    "    def diameterOfBinaryTree(self, root: Optional[TreeNode]) -> int:\n",
    "        ans = 0\n",
    "        def dfs(node):\n",
    "            nonlocal ans\n",
    "            if not node: return 0\n",
    "            left = dfs(node.left)\n",
    "            right = dfs(node.right)\n",
    "            ans = max(ans, left + right)\n",
    "            return max(left, right) + 1\n",
    "        dfs(root)\n",
    "        return ans"
   ]
  },
  {
   "cell_type": "code",
   "execution_count": 45,
   "id": "ebef3d9b",
   "metadata": {},
   "outputs": [
    {
     "data": {
      "text/plain": [
       "5"
      ]
     },
     "execution_count": 45,
     "metadata": {},
     "output_type": "execute_result"
    }
   ],
   "source": [
    "root = [0,1,2,3,4,5,6,7]\n",
    "head = constructTree(root)\n",
    "s = Solution()\n",
    "s.diameterOfBinaryTree(head)"
   ]
  },
  {
   "cell_type": "markdown",
   "id": "f9c011ad",
   "metadata": {},
   "source": [
    "# End"
   ]
  },
  {
   "cell_type": "markdown",
   "id": "2d44e0a9",
   "metadata": {},
   "source": [
    "## 646. 最长数对链(9.3)     $\\quad$       二周目"
   ]
  },
  {
   "cell_type": "markdown",
   "id": "bee01df1",
   "metadata": {},
   "source": [
    "首先，题中所定义的跟随关系仅与数对中的数字大小有关，与顺序无关，因此在计算之前先排序是很合理的想法"
   ]
  },
  {
   "cell_type": "markdown",
   "id": "810cf051",
   "metadata": {},
   "source": [
    "1. dp: 先将数对按pairs[i][0]排序， 遍历到 pairs[i] 时，对i前面所有pairs[j][1] < pairs[i][0]的数对进行遍历，则pairs[i]的最长链长度为 lenpairs[i] = max(lenpairs[i], lenpairs[j] + 1),将所有的数对最长链长度初始化为1，遍历一遍pairs后返回最后一个数对的最长链长度即为所求"
   ]
  },
  {
   "cell_type": "code",
   "execution_count": 46,
   "id": "d3531f02",
   "metadata": {},
   "outputs": [],
   "source": [
    "# dp\n",
    "class Solution(object):\n",
    "    def findLongestChain(self, pairs):\n",
    "        pairs.sort()\n",
    "        dp = [1] * len(pairs)\n",
    "        for i in range(len(pairs)):\n",
    "            for j in range(i):\n",
    "                if pairs[j][1] < pairs[i][0]: dp[i] = max(dp[i], dp[j]+1)\n",
    "        return dp[-1]"
   ]
  },
  {
   "cell_type": "markdown",
   "id": "f29482ac",
   "metadata": {},
   "source": [
    "由于本题所给的数对均满足pairs[0] < pairs[1]，故对pairs[1]进行排序后，pairs[1]较小的必然pairs[0]也较小."
   ]
  },
  {
   "cell_type": "markdown",
   "id": "1436b740",
   "metadata": {},
   "source": [
    "要挑选最长数对链的第一个数对时，最优的选择是挑选第二个数字最小的，这样能给挑选后续的数对留下更多的空间。挑完第一个数对后，要挑第二个数对时，也是按照相同的思路，是在剩下的数对中，第一个数字满足题意的条件下，挑选第二个数字最小的。按照这样的思路，可以先将输入按照第二个数字排序，然后不停地判断第一个数字是否能满足大于前一个数对的第二个数字即可。"
   ]
  },
  {
   "cell_type": "code",
   "execution_count": 63,
   "id": "e1d59689",
   "metadata": {},
   "outputs": [],
   "source": [
    "class Solution(object):\n",
    "    def findLongestChain(self, pairs: List[List[int]]) -> int:\n",
    "        cur, res = -inf, 0\n",
    "        for x, y in sorted(pairs, key=lambda p: p[1]):\n",
    "            if cur < x:\n",
    "                cur = y\n",
    "                res += 1\n",
    "        return res"
   ]
  },
  {
   "cell_type": "markdown",
   "id": "098c60fe",
   "metadata": {},
   "source": [
    "时间复杂度nlogn，为排序复杂度"
   ]
  },
  {
   "cell_type": "markdown",
   "id": "854da25e",
   "metadata": {},
   "source": [
    "## 1582. 二进制矩阵中的特殊位置(9.4)"
   ]
  },
  {
   "cell_type": "code",
   "execution_count": 60,
   "id": "5962d769",
   "metadata": {},
   "outputs": [],
   "source": [
    "from collections import defaultdict\n",
    "from typing import List\n",
    "class Solution:\n",
    "    def numSpecial(self, mat: List[List[int]]) -> int:\n",
    "        rowcnt, colcnt = defaultdict(int), defaultdict(int)\n",
    "        for i, row in enumerate(mat):\n",
    "            if row.count(1) == 1:\n",
    "                rowcnt[i] += 1\n",
    "        for j, col in enumerate(zip(*mat)):\n",
    "            if col.count(1) == 1:\n",
    "                colcnt[j] += 1\n",
    "        \n",
    "        ans = 0\n",
    "        for i in range(len(mat)):\n",
    "            for j in range(len(mat[0])):\n",
    "                if mat[i][j] and rowcnt[i] and colcnt[j]:\n",
    "                    ans += 1\n",
    "#         print(rowcnt, colcnt)\n",
    "        return ans"
   ]
  },
  {
   "cell_type": "code",
   "execution_count": 61,
   "id": "860b1092",
   "metadata": {},
   "outputs": [
    {
     "name": "stdout",
     "output_type": "stream",
     "text": [
      "defaultdict(<class 'int'>, {1: 1, 2: 1, 3: 1, 4: 0}) defaultdict(<class 'int'>, {0: 1, 1: 1, 2: 1, 3: 1, 4: 1})\n"
     ]
    },
    {
     "data": {
      "text/plain": [
       "3"
      ]
     },
     "execution_count": 61,
     "metadata": {},
     "output_type": "execute_result"
    }
   ],
   "source": [
    "mat = [[0,0,0,0,0],\n",
    "       [1,0,0,0,0],\n",
    "       [0,1,0,0,0],\n",
    "       [0,0,1,0,0],\n",
    "       [0,0,0,1,1]]\n",
    "s = Solution()\n",
    "s.numSpecial(mat)"
   ]
  },
  {
   "cell_type": "code",
   "execution_count": 49,
   "id": "de141610",
   "metadata": {},
   "outputs": [
    {
     "data": {
      "text/plain": [
       "2"
      ]
     },
     "execution_count": 49,
     "metadata": {},
     "output_type": "execute_result"
    }
   ],
   "source": [
    "a = [1,2,1]\n",
    "a.count(1)"
   ]
  },
  {
   "cell_type": "code",
   "execution_count": 52,
   "id": "53a99b14",
   "metadata": {},
   "outputs": [
    {
     "name": "stdout",
     "output_type": "stream",
     "text": [
      "0 (1, 0, 1) 2\n",
      "1 (0, 0, 0) 0\n",
      "2 (0, 1, 0) 1\n"
     ]
    }
   ],
   "source": [
    "mat = [[1,0,0],[0,0,1],[1,0,0]]\n",
    "for i, col in enumerate(zip(*mat)):\n",
    "    print(i,col, col.count(1))"
   ]
  },
  {
   "cell_type": "code",
   "execution_count": 62,
   "id": "22110b2f",
   "metadata": {},
   "outputs": [],
   "source": [
    "# 简洁写法\n",
    "class Solution:\n",
    "    def numSpecial(self, mat: List[List[int]]) -> int:\n",
    "        rows_sum = [sum(row) for row in mat]\n",
    "        cols_sum = [sum(col) for col in zip(*mat)]\n",
    "        res = 0\n",
    "        for i, row in enumerate(mat):\n",
    "            for j, x in enumerate(row):\n",
    "                if x == 1 and rows_sum[i] == 1 and cols_sum[j] == 1:\n",
    "                    res += 1\n",
    "        return res"
   ]
  },
  {
   "cell_type": "markdown",
   "id": "321249d7-0044-4162-99e5-01a277a3c810",
   "metadata": {},
   "source": [
    "## 1592. 重新排列单词间的空格(9.7)"
   ]
  },
  {
   "cell_type": "code",
   "execution_count": 8,
   "id": "885c5f75",
   "metadata": {},
   "outputs": [],
   "source": [
    "class Solution:\n",
    "    def reorderSpaces(self, text: str) -> str:\n",
    "        words = text.split()\n",
    "        space = text.count(' ')\n",
    "        if len(words) == 1:\n",
    "            return words[0] + ' ' * space\n",
    "        per_space, rest_space = divmod(space, len(words) - 1)\n",
    "        return (' ' * per_space).join(words) + ' ' * rest_space"
   ]
  },
  {
   "cell_type": "markdown",
   "id": "7eae04d8-1cb8-4617-9dd2-7540855ac03b",
   "metadata": {},
   "source": [
    "## 1598. 文件夹操作日志搜集器"
   ]
  },
  {
   "cell_type": "code",
   "execution_count": 7,
   "id": "f06b1bfa",
   "metadata": {},
   "outputs": [],
   "source": [
    "from typing import List\n",
    "class Solution:\n",
    "    def minOperations(self, logs: List[str]) -> int:\n",
    "        stk = []\n",
    "        for log in logs:\n",
    "            if log[-2] != \".\": stk.append(1)\n",
    "            elif len(log) > 2 and stk: stk.pop() \n",
    "        return len(stk)"
   ]
  },
  {
   "cell_type": "code",
   "execution_count": 9,
   "id": "fadd3ab0",
   "metadata": {},
   "outputs": [
    {
     "data": {
      "text/plain": [
       "3"
      ]
     },
     "execution_count": 9,
     "metadata": {},
     "output_type": "execute_result"
    }
   ],
   "source": [
    "logs = [\"d1/\",\"d2/\",\"./\",\"d3/\",\"../\",\"d31/\"]\n",
    "s = Solution()\n",
    "s.minOperations(logs)"
   ]
  },
  {
   "cell_type": "markdown",
   "id": "45c5488b-67ae-4449-9c48-bf2ee097760d",
   "metadata": {},
   "source": [
    "## 704. 二分查找"
   ]
  },
  {
   "cell_type": "code",
   "execution_count": 26,
   "id": "451af1c4",
   "metadata": {},
   "outputs": [],
   "source": [
    "from typing import List\n",
    "class Solution:\n",
    "    def search(self, nums: List[int], target: int) -> int:\n",
    "        left, right = 0, len(nums) - 1\n",
    "        while left <= right:\n",
    "            mid = (left + right) // 2\n",
    "            print(mid)\n",
    "            if nums[mid] == target: return mid\n",
    "            elif nums[mid] < target: left = mid + 1\n",
    "            else: right = mid - 1\n",
    "        return -1        "
   ]
  },
  {
   "cell_type": "code",
   "execution_count": 27,
   "id": "98ac42b6",
   "metadata": {},
   "outputs": [],
   "source": [
    "nums = [5]\n",
    "target = 5"
   ]
  },
  {
   "cell_type": "code",
   "execution_count": 28,
   "id": "4e1fee86",
   "metadata": {},
   "outputs": [
    {
     "name": "stdout",
     "output_type": "stream",
     "text": [
      "0\n"
     ]
    },
    {
     "data": {
      "text/plain": [
       "0"
      ]
     },
     "execution_count": 28,
     "metadata": {},
     "output_type": "execute_result"
    }
   ],
   "source": [
    "s = Solution()\n",
    "s.search(nums, target)"
   ]
  },
  {
   "cell_type": "markdown",
   "id": "3234e4fd-c46d-496c-b611-a12f6c280beb",
   "metadata": {},
   "source": [
    "## 1608. 特殊数组的特征值"
   ]
  },
  {
   "cell_type": "code",
   "execution_count": 20,
   "id": "7a384dad",
   "metadata": {},
   "outputs": [],
   "source": [
    "from typing import List\n",
    "from bisect import bisect_left\n",
    "class Solution:\n",
    "    def specialArray(self, nums: List[int]) -> int:\n",
    "        nums.sort()\n",
    "        for i in range(len(nums)+1):\n",
    "            # print(bisect_left(nums, i))\n",
    "            if len(nums) - bisect_left(nums, i) == i: return i\n",
    "        return -1"
   ]
  },
  {
   "cell_type": "code",
   "execution_count": 21,
   "id": "e0649e42",
   "metadata": {},
   "outputs": [],
   "source": [
    "nums = [3,6,7,7,0]"
   ]
  },
  {
   "cell_type": "code",
   "execution_count": 22,
   "id": "c3cda189",
   "metadata": {},
   "outputs": [
    {
     "data": {
      "text/plain": [
       "-1"
      ]
     },
     "execution_count": 22,
     "metadata": {},
     "output_type": "execute_result"
    }
   ],
   "source": [
    "s = Solution()\n",
    "s.specialArray(nums)"
   ]
  },
  {
   "cell_type": "markdown",
   "id": "869c80c0-98a4-45a8-b109-5fa0eaf394ca",
   "metadata": {},
   "source": [
    "## 670. 最大交换"
   ]
  },
  {
   "cell_type": "code",
   "execution_count": 25,
   "id": "abf57d51",
   "metadata": {},
   "outputs": [
    {
     "data": {
      "text/plain": [
       "14325"
      ]
     },
     "execution_count": 25,
     "metadata": {},
     "output_type": "execute_result"
    }
   ],
   "source": [
    "nums = '12345'\n",
    "i = 1\n",
    "j = 3\n",
    "int(nums[0:i] + nums[j] + nums[i+1:j] + nums[i] + nums[j+1:])"
   ]
  },
  {
   "cell_type": "code",
   "execution_count": 36,
   "id": "ef857ea1",
   "metadata": {},
   "outputs": [],
   "source": [
    "# 暴力\n",
    "class Solution:\n",
    "    def maximumSwap(self, num: int) -> int:\n",
    "        num = str(num)\n",
    "        ans = int(num)\n",
    "        for i in range(len(num)):\n",
    "            for j in range(len(num)):\n",
    "                if int(j) > int(i):\n",
    "                    cur = int(num[0:i] + num[j] + num[i+1:j] + num[i] + num[j+1:])\n",
    "                    # print(cur)\n",
    "                    ans = max(ans, cur)\n",
    "        return ans"
   ]
  },
  {
   "cell_type": "code",
   "execution_count": 38,
   "id": "04d529ad",
   "metadata": {},
   "outputs": [
    {
     "name": "stdout",
     "output_type": "stream",
     "text": [
      "9973\n",
      "7993\n",
      "3979\n",
      "9793\n",
      "9379\n",
      "9937\n"
     ]
    },
    {
     "data": {
      "text/plain": [
       "9973"
      ]
     },
     "execution_count": 38,
     "metadata": {},
     "output_type": "execute_result"
    }
   ],
   "source": [
    "s = Solution()\n",
    "s.maximumSwap(9973)"
   ]
  },
  {
   "cell_type": "markdown",
   "id": "3723b99e-724a-48fb-ac0c-2ff97523a8a3",
   "metadata": {},
   "source": [
    "感觉是单调栈"
   ]
  },
  {
   "cell_type": "code",
   "execution_count": null,
   "id": "ac26beb9",
   "metadata": {},
   "outputs": [],
   "source": [
    "class Solution:\n",
    "    def maximumSwap(self, num: int) -> int:\n",
    "        stk = []\n",
    "        a = 0\n",
    "        for i, n in enumerate(str(num)):\n",
    "            if not stk or stk[-1] >= int(n): stk.append(i)\n",
    "            else:\n",
    "                for j, m in enumerate(str(num[i:])):"
   ]
  },
  {
   "cell_type": "code",
   "execution_count": 42,
   "id": "11c2d9f3",
   "metadata": {},
   "outputs": [
    {
     "data": {
      "text/plain": [
       "3"
      ]
     },
     "execution_count": 42,
     "metadata": {},
     "output_type": "execute_result"
    }
   ],
   "source": [
    "a = '12341'\n",
    "a.index(max(a))"
   ]
  },
  {
   "cell_type": "code",
   "execution_count": null,
   "id": "83491897",
   "metadata": {},
   "outputs": [],
   "source": []
  },
  {
   "cell_type": "code",
   "execution_count": null,
   "id": "3e3590b1",
   "metadata": {},
   "outputs": [],
   "source": []
  },
  {
   "cell_type": "code",
   "execution_count": null,
   "id": "05c33d26",
   "metadata": {},
   "outputs": [],
   "source": []
  },
  {
   "cell_type": "code",
   "execution_count": null,
   "id": "50cf23a8",
   "metadata": {},
   "outputs": [],
   "source": []
  },
  {
   "cell_type": "code",
   "execution_count": null,
   "id": "9f7a30da",
   "metadata": {},
   "outputs": [],
   "source": []
  },
  {
   "cell_type": "code",
   "execution_count": null,
   "id": "844b7831",
   "metadata": {},
   "outputs": [],
   "source": []
  },
  {
   "cell_type": "code",
   "execution_count": null,
   "id": "90528342",
   "metadata": {},
   "outputs": [],
   "source": []
  },
  {
   "cell_type": "code",
   "execution_count": null,
   "id": "e351b772",
   "metadata": {},
   "outputs": [],
   "source": []
  },
  {
   "cell_type": "code",
   "execution_count": null,
   "id": "d855a620",
   "metadata": {},
   "outputs": [],
   "source": []
  },
  {
   "cell_type": "code",
   "execution_count": null,
   "id": "7ffc9365",
   "metadata": {},
   "outputs": [],
   "source": []
  },
  {
   "cell_type": "code",
   "execution_count": null,
   "id": "c4bc6b49",
   "metadata": {},
   "outputs": [],
   "source": []
  },
  {
   "cell_type": "code",
   "execution_count": null,
   "id": "e8cf7f65",
   "metadata": {},
   "outputs": [],
   "source": []
  },
  {
   "cell_type": "code",
   "execution_count": null,
   "id": "65374b54",
   "metadata": {},
   "outputs": [],
   "source": []
  },
  {
   "cell_type": "code",
   "execution_count": null,
   "id": "0d370756",
   "metadata": {},
   "outputs": [],
   "source": []
  },
  {
   "cell_type": "code",
   "execution_count": null,
   "id": "f97722f4",
   "metadata": {},
   "outputs": [],
   "source": []
  },
  {
   "cell_type": "code",
   "execution_count": null,
   "id": "20c20f2d",
   "metadata": {},
   "outputs": [],
   "source": []
  },
  {
   "cell_type": "code",
   "execution_count": null,
   "id": "aa3ce0ad",
   "metadata": {},
   "outputs": [],
   "source": []
  },
  {
   "cell_type": "code",
   "execution_count": null,
   "id": "ff575811",
   "metadata": {},
   "outputs": [],
   "source": []
  },
  {
   "cell_type": "code",
   "execution_count": null,
   "id": "f08d9f93",
   "metadata": {},
   "outputs": [],
   "source": []
  },
  {
   "cell_type": "code",
   "execution_count": null,
   "id": "c652efba",
   "metadata": {},
   "outputs": [],
   "source": []
  },
  {
   "cell_type": "code",
   "execution_count": null,
   "id": "4ec8e627",
   "metadata": {},
   "outputs": [],
   "source": []
  },
  {
   "cell_type": "code",
   "execution_count": null,
   "id": "83654358",
   "metadata": {},
   "outputs": [],
   "source": []
  },
  {
   "cell_type": "code",
   "execution_count": null,
   "id": "dc7e7ad1",
   "metadata": {},
   "outputs": [],
   "source": []
  },
  {
   "cell_type": "code",
   "execution_count": null,
   "id": "911dcea4",
   "metadata": {},
   "outputs": [],
   "source": []
  },
  {
   "cell_type": "code",
   "execution_count": null,
   "id": "0ef3ad21",
   "metadata": {},
   "outputs": [],
   "source": []
  },
  {
   "cell_type": "code",
   "execution_count": null,
   "id": "7dda880a",
   "metadata": {},
   "outputs": [],
   "source": []
  },
  {
   "cell_type": "code",
   "execution_count": null,
   "id": "47504d86",
   "metadata": {},
   "outputs": [],
   "source": []
  }
 ],
 "metadata": {
  "kernelspec": {
   "display_name": "Python 3 (ipykernel)",
   "language": "python",
   "name": "python3"
  },
  "language_info": {
   "codemirror_mode": {
    "name": "ipython",
    "version": 3
   },
   "file_extension": ".py",
   "mimetype": "text/x-python",
   "name": "python",
   "nbconvert_exporter": "python",
   "pygments_lexer": "ipython3",
   "version": "3.6.3"
  }
 },
 "nbformat": 4,
 "nbformat_minor": 5
}
