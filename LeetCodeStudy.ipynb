{
 "cells": [
  {
   "cell_type": "markdown",
   "id": "6c007d06",
   "metadata": {},
   "source": [
    "### target：\n",
    "1. 几种排序\n",
    "2. 递归与分治\n",
    "3. 动态规划\n",
    "4. 贪心算法"
   ]
  },
  {
   "cell_type": "markdown",
   "id": "97af3e9f",
   "metadata": {},
   "source": [
    "## 1. 动态规划(Dynamic Programming)"
   ]
  },
  {
   "cell_type": "markdown",
   "id": "82928681",
   "metadata": {},
   "source": [
    "动态规划最核心的思想，就在于**拆分子问题**，记住过往，**减少重复计算。**"
   ]
  },
  {
   "cell_type": "markdown",
   "id": "246cdf19",
   "metadata": {},
   "source": [
    "递归问题一般思路：\n",
    "1. 穷举法/暴力搜索 -> 列出递归树\n",
    "2. 用递归函数求解\n",
    "3. 用哈希表memo缓存重复的计算，再次遍历到就查表\n",
    "4. 递归改写为迭代"
   ]
  },
  {
   "cell_type": "markdown",
   "id": "8cbe1bbd",
   "metadata": {},
   "source": [
    "Q1: 找出最长的递增的子序列"
   ]
  },
  {
   "cell_type": "code",
   "execution_count": 3,
   "id": "c95bcd2c",
   "metadata": {},
   "outputs": [],
   "source": [
    "nums = [1,5,2,4,3]"
   ]
  },
  {
   "cell_type": "code",
   "execution_count": 3,
   "id": "b9ca31e9",
   "metadata": {},
   "outputs": [],
   "source": [
    "def L(nums, idx) -> int:\n",
    "    if idx == len(nums) - 1:\n",
    "        return 1\n",
    "    max_len = 1\n",
    "    for i in range(idx+1, len(nums)):\n",
    "        if nums[i] >= nums[idx]:\n",
    "            max_len = max(max_len, L(nums,i)+1)\n",
    "    return max_len"
   ]
  },
  {
   "cell_type": "code",
   "execution_count": 4,
   "id": "2e6c2dad",
   "metadata": {},
   "outputs": [
    {
     "data": {
      "text/plain": [
       "[3, 1, 2, 1, 1]"
      ]
     },
     "execution_count": 4,
     "metadata": {},
     "output_type": "execute_result"
    }
   ],
   "source": [
    "res = []\n",
    "for j in range(len(nums)):\n",
    "    res.append(L(nums,j))\n",
    "res"
   ]
  },
  {
   "cell_type": "code",
   "execution_count": 6,
   "id": "8a58f2bb",
   "metadata": {},
   "outputs": [],
   "source": [
    "# 加memo\n",
    "\n",
    "def find_max(nums):\n",
    "    memo = {}\n",
    "    res = []\n",
    "    nlen = len(nums)\n",
    "    def L(nums, idx):\n",
    "        if idx in memo:\n",
    "            return memo[idx]\n",
    "        if idx == nlen - 1:\n",
    "            return 1\n",
    "        max_len = 1\n",
    "        for j in range(idx+1,nlen):\n",
    "            if nums[j] >= nums[idx]:\n",
    "                max_len = max(max_len, L(nums, j)+1)\n",
    "        memo[idx] = max_len\n",
    "        return max_len\n",
    "        \n",
    "    for i in range(nlen):\n",
    "        res.append(L(nums, i))\n",
    "    print(memo)\n",
    "    return res"
   ]
  },
  {
   "cell_type": "code",
   "execution_count": 7,
   "id": "8a1e4099",
   "metadata": {},
   "outputs": [
    {
     "name": "stdout",
     "output_type": "stream",
     "text": [
      "{1: 1, 3: 1, 2: 2, 0: 3}\n"
     ]
    },
    {
     "data": {
      "text/plain": [
       "[3, 1, 2, 1, 1]"
      ]
     },
     "execution_count": 7,
     "metadata": {},
     "output_type": "execute_result"
    }
   ],
   "source": [
    "find_max(nums)"
   ]
  },
  {
   "cell_type": "markdown",
   "id": "d7ee88f0",
   "metadata": {},
   "source": [
    "改为迭代"
   ]
  },
  {
   "cell_type": "code",
   "execution_count": 2,
   "id": "79ab7812",
   "metadata": {},
   "outputs": [],
   "source": [
    "def length_of_LTS(nums):\n",
    "    n = len(nums)\n",
    "    L = [1] * n\n",
    "    \n",
    "    for i in reversed(range(n)):\n",
    "        for j in range(i+1, n):\n",
    "            if nums[j] > nums[i]:\n",
    "                L[i] = max(L[i], L[j] + 1)\n",
    "    return L"
   ]
  },
  {
   "cell_type": "code",
   "execution_count": 4,
   "id": "05c3395e",
   "metadata": {},
   "outputs": [
    {
     "data": {
      "text/plain": [
       "[3, 1, 2, 1, 1]"
      ]
     },
     "execution_count": 4,
     "metadata": {},
     "output_type": "execute_result"
    }
   ],
   "source": [
    "length_of_LTS(nums)"
   ]
  },
  {
   "cell_type": "markdown",
   "id": "cabe9514-5a37-4734-967b-bf497cacd7b5",
   "metadata": {},
   "source": [
    "# 排序"
   ]
  },
  {
   "cell_type": "markdown",
   "id": "cc8d23c9-2a56-4e48-b3c6-9c7fef7532f6",
   "metadata": {},
   "source": [
    "## 算法复杂度"
   ]
  },
  {
   "cell_type": "markdown",
   "id": "0974f30f-ea1f-4281-9831-44e72c438457",
   "metadata": {},
   "source": [
    "| 排序方法 | 时间复杂度（平均）  | 时间复杂度（最坏） | 时间复杂度（最好） | 空间复杂度 | 稳定性 |\n",
    "|:--------| :---------:|:--------:|:------------:|:-----------:|:-----------:|\n",
    "|插入排序|$O(n^2)$|$O(n^2)$|$O(n)$|$O(1)$|稳定|\n",
    "|希尔排序|$O(n^{1.3})$|$O(n^2)$|$O(n)$|$O(1)$|不稳定|\n",
    "|选择排序|$O(n^2)$|$O(n^2)$|$O(n^2)$|$O(1)$|不稳定|\n",
    "|堆排序|$O(n\\log_2n)$|$O(n\\log_2n)$|$O(n\\log_2n)$|$O(1)$|不稳定|\n",
    "|冒泡排序|$O(n^2)$|$O(n^2)$|$O(n)$|$O(1)$|稳定|\n",
    "|快速排序|$O(n\\log_2n)$|$O(n^2)$|$O(n\\log_2n)$ | O(n\\log_2n)|不稳定|\n",
    "|归并排序|$O(n\\log_2n)$|$O(n\\log_2n)$|$O(n\\log_2n)$|$O(n)$|稳定|\n",
    "|计数排序|$O(n+k)$|$O(n+k)$|$O(n+k)$|$O(n+k)$|稳定|\n",
    "|桶排序|$O(n+k)$|$O(n^2)$|$O(n)$|$O(n+k)$|稳定|\n",
    "|基数排序|$O(n*k)$|$O(n*k)$|$O(n*k)$|$O(n*k)$|稳定|\n",
    "\n",
    "稳定： 若a原本在b前面，而a = b， 排序后a任然在b前面则排序稳定，否则不稳定"
   ]
  },
  {
   "cell_type": "markdown",
   "id": "bff59a65-e110-4e17-ac9e-67e57d5282a0",
   "metadata": {},
   "source": [
    "### 冒泡排序"
   ]
  },
  {
   "cell_type": "markdown",
   "id": "a95b11cd-27d8-4666-83d3-01192d0a2649",
   "metadata": {},
   "source": [
    "比较相邻元素，若第一个比第二个大，就交换他们两个；这样每一次都能确定一个最大的数。重复以上步骤n-1次。"
   ]
  },
  {
   "cell_type": "code",
   "execution_count": 5,
   "id": "59e12df5",
   "metadata": {},
   "outputs": [],
   "source": [
    "from typing import List\n",
    "def bubblesort(nums: List[int]) -> List[int]:\n",
    "    n = len(nums)\n",
    "    for i in range(n-1):\n",
    "        for j in range(n-i-1):\n",
    "            if nums[j] > nums[j+1]: \n",
    "                nums[j], nums[j+1] = nums[j+1], nums[j]\n",
    "    return nums"
   ]
  },
  {
   "cell_type": "code",
   "execution_count": 6,
   "id": "c441a162",
   "metadata": {},
   "outputs": [],
   "source": [
    "nums = [4,6,5,3,1,2]"
   ]
  },
  {
   "cell_type": "code",
   "execution_count": 7,
   "id": "a80d9c27",
   "metadata": {},
   "outputs": [
    {
     "data": {
      "text/plain": [
       "[1, 2, 3, 4, 5, 6]"
      ]
     },
     "execution_count": 7,
     "metadata": {},
     "output_type": "execute_result"
    }
   ],
   "source": [
    "bubblesort(nums)"
   ]
  },
  {
   "cell_type": "markdown",
   "id": "eeb8cb42-6e8f-40ca-b99a-09f8d3043e9b",
   "metadata": {},
   "source": [
    "### 选择排序"
   ]
  },
  {
   "cell_type": "markdown",
   "id": "7dcf17cf-5a78-4098-8b48-49f1f8b05b67",
   "metadata": {},
   "source": [
    "首先在未排序序列中找到最小元素，存放到排序序列的起始位置。然后，再从剩余未排序元素中继续寻找最小元素，然后放到已排序序列的末尾。以此类推，直到所有元素均排序完毕。"
   ]
  },
  {
   "cell_type": "code",
   "execution_count": 9,
   "id": "e93d60a9",
   "metadata": {},
   "outputs": [],
   "source": [
    "def selectsort(nums: List[int]) -> List[int]:\n",
    "    n = len(nums)\n",
    "    for i in range(n-1):\n",
    "        cur = i\n",
    "        for j in range(i, n):\n",
    "            if nums[j] < nums[cur]: nums[j], nums[cur] = nums[cur], nums[j]\n",
    "    return nums"
   ]
  },
  {
   "cell_type": "code",
   "execution_count": 10,
   "id": "0445bf0b",
   "metadata": {},
   "outputs": [
    {
     "data": {
      "text/plain": [
       "[1, 2, 3, 4, 5, 6]"
      ]
     },
     "execution_count": 10,
     "metadata": {},
     "output_type": "execute_result"
    }
   ],
   "source": [
    "selectsort(nums)"
   ]
  },
  {
   "cell_type": "markdown",
   "id": "aeaab60c-94e5-4d36-ab8e-4e638d51f59c",
   "metadata": {},
   "source": []
  },
  {
   "cell_type": "code",
   "execution_count": null,
   "id": "1adf69c7",
   "metadata": {},
   "outputs": [],
   "source": []
  },
  {
   "cell_type": "code",
   "execution_count": null,
   "id": "e7d31591",
   "metadata": {},
   "outputs": [],
   "source": []
  },
  {
   "cell_type": "code",
   "execution_count": null,
   "id": "e69c47dd",
   "metadata": {},
   "outputs": [],
   "source": []
  },
  {
   "cell_type": "code",
   "execution_count": null,
   "id": "acddc99d",
   "metadata": {},
   "outputs": [],
   "source": []
  },
  {
   "cell_type": "code",
   "execution_count": null,
   "id": "e09a75d8",
   "metadata": {},
   "outputs": [],
   "source": []
  },
  {
   "cell_type": "code",
   "execution_count": null,
   "id": "1efaf545",
   "metadata": {},
   "outputs": [],
   "source": []
  },
  {
   "cell_type": "code",
   "execution_count": null,
   "id": "03509af4",
   "metadata": {},
   "outputs": [],
   "source": []
  },
  {
   "cell_type": "code",
   "execution_count": null,
   "id": "5ff8d527",
   "metadata": {},
   "outputs": [],
   "source": []
  },
  {
   "cell_type": "code",
   "execution_count": null,
   "id": "73455cbc",
   "metadata": {},
   "outputs": [],
   "source": []
  },
  {
   "cell_type": "code",
   "execution_count": null,
   "id": "65acecaa",
   "metadata": {},
   "outputs": [],
   "source": []
  },
  {
   "cell_type": "code",
   "execution_count": null,
   "id": "ce7131e9",
   "metadata": {},
   "outputs": [],
   "source": []
  },
  {
   "cell_type": "code",
   "execution_count": null,
   "id": "fa1e6f25",
   "metadata": {},
   "outputs": [],
   "source": []
  },
  {
   "cell_type": "code",
   "execution_count": null,
   "id": "52ed373e",
   "metadata": {},
   "outputs": [],
   "source": []
  },
  {
   "cell_type": "code",
   "execution_count": null,
   "id": "a603e8d9",
   "metadata": {},
   "outputs": [],
   "source": []
  },
  {
   "cell_type": "code",
   "execution_count": null,
   "id": "cd9b81ab",
   "metadata": {},
   "outputs": [],
   "source": []
  },
  {
   "cell_type": "code",
   "execution_count": null,
   "id": "88a544ef",
   "metadata": {},
   "outputs": [],
   "source": []
  },
  {
   "cell_type": "code",
   "execution_count": null,
   "id": "3cd68c46",
   "metadata": {},
   "outputs": [],
   "source": []
  },
  {
   "cell_type": "code",
   "execution_count": null,
   "id": "fd545c9a",
   "metadata": {},
   "outputs": [],
   "source": []
  },
  {
   "cell_type": "code",
   "execution_count": null,
   "id": "62c48caa",
   "metadata": {},
   "outputs": [],
   "source": []
  },
  {
   "cell_type": "code",
   "execution_count": null,
   "id": "288cd1f7",
   "metadata": {},
   "outputs": [],
   "source": []
  },
  {
   "cell_type": "code",
   "execution_count": null,
   "id": "16429ae1",
   "metadata": {},
   "outputs": [],
   "source": []
  },
  {
   "cell_type": "code",
   "execution_count": null,
   "id": "3e029058",
   "metadata": {},
   "outputs": [],
   "source": []
  },
  {
   "cell_type": "code",
   "execution_count": null,
   "id": "8e66be2e",
   "metadata": {},
   "outputs": [],
   "source": []
  },
  {
   "cell_type": "code",
   "execution_count": null,
   "id": "d089fffd",
   "metadata": {},
   "outputs": [],
   "source": []
  },
  {
   "cell_type": "code",
   "execution_count": null,
   "id": "9100b110",
   "metadata": {},
   "outputs": [],
   "source": []
  },
  {
   "cell_type": "code",
   "execution_count": null,
   "id": "96084d18",
   "metadata": {},
   "outputs": [],
   "source": []
  },
  {
   "cell_type": "code",
   "execution_count": null,
   "id": "c4f52b39",
   "metadata": {},
   "outputs": [],
   "source": []
  },
  {
   "cell_type": "code",
   "execution_count": null,
   "id": "0a67d6a0",
   "metadata": {},
   "outputs": [],
   "source": []
  },
  {
   "cell_type": "code",
   "execution_count": null,
   "id": "19283aa9",
   "metadata": {},
   "outputs": [],
   "source": []
  },
  {
   "cell_type": "code",
   "execution_count": null,
   "id": "7fd39936",
   "metadata": {},
   "outputs": [],
   "source": []
  },
  {
   "cell_type": "code",
   "execution_count": null,
   "id": "e7cf4621",
   "metadata": {},
   "outputs": [],
   "source": []
  },
  {
   "cell_type": "code",
   "execution_count": null,
   "id": "2b1b9547",
   "metadata": {},
   "outputs": [],
   "source": []
  },
  {
   "cell_type": "code",
   "execution_count": null,
   "id": "288159a4",
   "metadata": {},
   "outputs": [],
   "source": []
  },
  {
   "cell_type": "code",
   "execution_count": null,
   "id": "b77c6c4d",
   "metadata": {},
   "outputs": [],
   "source": []
  },
  {
   "cell_type": "code",
   "execution_count": null,
   "id": "b2bba4ac",
   "metadata": {},
   "outputs": [],
   "source": []
  },
  {
   "cell_type": "code",
   "execution_count": null,
   "id": "b3eb31db",
   "metadata": {},
   "outputs": [],
   "source": []
  },
  {
   "cell_type": "code",
   "execution_count": null,
   "id": "16a7218d",
   "metadata": {},
   "outputs": [],
   "source": []
  },
  {
   "cell_type": "code",
   "execution_count": null,
   "id": "0ba08049",
   "metadata": {},
   "outputs": [],
   "source": []
  },
  {
   "cell_type": "code",
   "execution_count": null,
   "id": "f5ce24d1",
   "metadata": {},
   "outputs": [],
   "source": []
  },
  {
   "cell_type": "code",
   "execution_count": null,
   "id": "1b35a633",
   "metadata": {},
   "outputs": [],
   "source": []
  },
  {
   "cell_type": "code",
   "execution_count": null,
   "id": "730c39ed",
   "metadata": {},
   "outputs": [],
   "source": []
  },
  {
   "cell_type": "code",
   "execution_count": null,
   "id": "b75dce49",
   "metadata": {},
   "outputs": [],
   "source": []
  },
  {
   "cell_type": "code",
   "execution_count": null,
   "id": "006cbc67",
   "metadata": {},
   "outputs": [],
   "source": []
  },
  {
   "cell_type": "code",
   "execution_count": null,
   "id": "f46cd025",
   "metadata": {},
   "outputs": [],
   "source": []
  }
 ],
 "metadata": {
  "kernelspec": {
   "display_name": "Python 3 (ipykernel)",
   "language": "python",
   "name": "python3"
  },
  "language_info": {
   "codemirror_mode": {
    "name": "ipython",
    "version": 3
   },
   "file_extension": ".py",
   "mimetype": "text/x-python",
   "name": "python",
   "nbconvert_exporter": "python",
   "pygments_lexer": "ipython3",
   "version": "3.6.3"
  },
  "vscode": {
   "interpreter": {
    "hash": "a04f5d07b0747026a8fbcdf50b9443318e69b1b8bd6247d88bfadb4789282972"
   }
  }
 },
 "nbformat": 4,
 "nbformat_minor": 5
}
