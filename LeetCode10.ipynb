{
 "cells": [
  {
   "cell_type": "markdown",
   "id": "9e2fe10e-d81f-4c22-99f5-02c6132ab21e",
   "metadata": {},
   "source": [
    "## 1352. 最后k个数的乘积 "
   ]
  },
  {
   "cell_type": "code",
   "execution_count": 6,
   "id": "3ad5f4ab-d052-403e-b7e0-e9838b8813f0",
   "metadata": {},
   "outputs": [],
   "source": [
    "class ProductOfNumbers:\n",
    "\n",
    "    def __init__(self):\n",
    "        self.numlist = list()\n",
    "\n",
    "    def add(self, num: int) -> None:\n",
    "        for i in range(len(self.numlist)): self.numlist[i] *= num\n",
    "        self.numlist.append(num)\n",
    "\n",
    "    def getProduct(self, k: int) -> int:\n",
    "        return self.numlist[-k]"
   ]
  },
  {
   "cell_type": "code",
   "execution_count": 12,
   "id": "2073e71f-391f-4728-8191-c55d53965149",
   "metadata": {},
   "outputs": [
    {
     "data": {
      "text/plain": [
       "[0, 0, 320, 160, 32, 8]"
      ]
     },
     "execution_count": 12,
     "metadata": {},
     "output_type": "execute_result"
    }
   ],
   "source": [
    "p = ProductOfNumbers()\n",
    "p.add(3)\n",
    "p.add(0)\n",
    "p.add(2)\n",
    "p.add(5)\n",
    "p.add(4)\n",
    "p.getProduct(2)\n",
    "p.getProduct(3)\n",
    "p.getProduct(4)\n",
    "p.add(8)\n",
    "p.getProduct(2)\n",
    "p.numlist"
   ]
  },
  {
   "cell_type": "markdown",
   "id": "373e8513-72ad-44f9-a928-5cd8f79cab7e",
   "metadata": {},
   "source": [
    "超时，遇到0就应该特殊处理"
   ]
  },
  {
   "cell_type": "markdown",
   "id": "c84c7c42-46fd-41bb-9efb-ec558961f2c3",
   "metadata": {},
   "source": [
    "还是得用前缀和，并且add的时候不用改变所有此前元素，那样会很耗时。后缀就是一个sb"
   ]
  },
  {
   "cell_type": "code",
   "execution_count": 29,
   "id": "90a82ec3-354c-428e-8b19-1ca5818e972e",
   "metadata": {},
   "outputs": [],
   "source": [
    "class ProductOfNumbers:\n",
    "\n",
    "    def __init__(self):\n",
    "        self.pre = [1]\n",
    "\n",
    "    def add(self, num: int) -> None:\n",
    "        if num == 0:\n",
    "            self.pre = [1]\n",
    "        else:\n",
    "            self.pre.append(self.pre[-1] * num)\n",
    "        return\n",
    "\n",
    "    def getProduct(self, k: int) -> int:\n",
    "        if len(self.pre) < k + 1:\n",
    "            return 0\n",
    "        return self.pre[-1] // self.pre[- k - 1]"
   ]
  },
  {
   "cell_type": "markdown",
   "id": "2d712d8b-88ac-4ad1-b5e1-98d534f64380",
   "metadata": {
    "tags": []
   },
   "source": [
    "## 141. 环形链表"
   ]
  },
  {
   "cell_type": "code",
   "execution_count": 32,
   "id": "ba0a1b4d-b762-4a18-89a5-d9731182a2dc",
   "metadata": {},
   "outputs": [],
   "source": [
    "# Definition for singly-linked list.\n",
    "class ListNode:\n",
    "    def __init__(self, x):\n",
    "        self.val = x\n",
    "        self.next = None"
   ]
  },
  {
   "cell_type": "code",
   "execution_count": 33,
   "id": "d7eca4d4-b4f2-43fe-841a-249e7ebbd1b2",
   "metadata": {},
   "outputs": [],
   "source": [
    "from typing import Optional\n",
    "class Solution:\n",
    "    def hasCycle(self, head: Optional[ListNode]) -> bool:\n",
    "        nodes = []\n",
    "        cur = head\n",
    "        while cur:\n",
    "            if cur in nodes: return True\n",
    "            nodes.append(cur)\n",
    "            cur = cur.next\n",
    "        return False"
   ]
  },
  {
   "cell_type": "code",
   "execution_count": 35,
   "id": "f5df14ec-b06c-483e-a8eb-21cd04bc9831",
   "metadata": {},
   "outputs": [],
   "source": [
    "# 龟兔赛跑算法\n",
    "class Solution:\n",
    "    def hasCycle(self, head: ListNode) -> bool:\n",
    "        if not head or not head.next:\n",
    "            return False\n",
    "        \n",
    "        slow = head\n",
    "        fast = head.next\n",
    "\n",
    "        while slow != fast:\n",
    "            if not fast or not fast.next:\n",
    "                return False\n",
    "            slow = slow.next\n",
    "            fast = fast.next.next\n",
    "        \n",
    "        return True"
   ]
  },
  {
   "cell_type": "markdown",
   "id": "08ac39b3-0e05-4be8-984f-a8645ad4e1e1",
   "metadata": {},
   "source": [
    "## 1694. 重新格式化电话号码"
   ]
  },
  {
   "cell_type": "code",
   "execution_count": 41,
   "id": "84909743-c9cd-4a9e-8cf1-f2d0b9901b3a",
   "metadata": {},
   "outputs": [],
   "source": [
    "class Solution:\n",
    "    def reformatNumber(self, number: str) -> str:\n",
    "        res = []\n",
    "        cur = \"\"\n",
    "        for n in number:\n",
    "            if n.isdigit():\n",
    "                if len(cur) == 3:\n",
    "                    res.append(cur)\n",
    "                    cur = \"\"\n",
    "                cur += n\n",
    "        res.append(cur)\n",
    "        print(res)\n",
    "        if len(res[-1]) == 1: \n",
    "            res[-1] = res[-2][-1] + res[-1]\n",
    "            res[-2] = res[-2][0:-1]\n",
    "        return '-'.join(res)\n",
    "        # return res"
   ]
  },
  {
   "cell_type": "code",
   "execution_count": 42,
   "id": "a50501cf-419f-4d1c-b15a-a33b8fbcb6c7",
   "metadata": {},
   "outputs": [],
   "source": [
    "number = \"123 4-567\""
   ]
  },
  {
   "cell_type": "code",
   "execution_count": 43,
   "id": "d07872cb-3b96-45ad-8064-43abad3d99aa",
   "metadata": {},
   "outputs": [
    {
     "name": "stdout",
     "output_type": "stream",
     "text": [
      "['123', '456', '7']\n"
     ]
    },
    {
     "data": {
      "text/plain": [
       "'123-45-67'"
      ]
     },
     "execution_count": 43,
     "metadata": {},
     "output_type": "execute_result"
    }
   ],
   "source": [
    "s = Solution()\n",
    "s.reformatNumber(number)"
   ]
  },
  {
   "cell_type": "markdown",
   "id": "d23c8edc-b44d-49e4-ae07-308fcbeeb75d",
   "metadata": {},
   "source": [
    "## 777. 在LR字符串中交换相邻字符"
   ]
  },
  {
   "cell_type": "markdown",
   "id": "96ff4cab-c60a-4d50-9bfb-77297ec0d7f1",
   "metadata": {},
   "source": [
    "问题转换：由于变换不会改变LR的相对位置，因此只需要比较两个字符串中L或R出现时的位置即可。"
   ]
  },
  {
   "cell_type": "code",
   "execution_count": null,
   "id": "7071a81b-7343-4a04-af5b-cdc5994c432f",
   "metadata": {},
   "outputs": [],
   "source": [
    "class Solution:\n",
    "    def canTransform(self, start: str, end: str) -> bool:\n",
    "        n = len(start)\n",
    "        i = j = 0\n",
    "        while i < n and j < n:\n",
    "            while i < n and start[i] == 'X':\n",
    "                i += 1\n",
    "            while j < n and end[j] == 'X':\n",
    "                j += 1\n",
    "            if i < n and j < n:\n",
    "                if start[i] != end[j]:\n",
    "                    return False\n",
    "                c = start[i]\n",
    "                if c == 'L' and i < j or c == 'R' and i > j:\n",
    "                    return False\n",
    "                i += 1\n",
    "                j += 1\n",
    "        while i < n:\n",
    "            if start[i] != 'X':\n",
    "                return False\n",
    "            i += 1\n",
    "        while j < n:\n",
    "            if end[j] != 'X':\n",
    "                return False\n",
    "            j += 1\n",
    "        return True"
   ]
  },
  {
   "cell_type": "markdown",
   "id": "9534782e-b21d-483e-8403-f2146f72776f",
   "metadata": {},
   "source": [
    "## 921. 使括号有效的最少添加"
   ]
  },
  {
   "cell_type": "code",
   "execution_count": 11,
   "id": "5533050b-0186-41d3-afea-2fd4f88712e1",
   "metadata": {},
   "outputs": [],
   "source": [
    "class Solution:\n",
    "    def minAddToMakeValid(self, s: str) -> int:\n",
    "        left = right = 0\n",
    "        for ch in s:\n",
    "            if ch == \")\":\n",
    "                if left: left -= 1\n",
    "                else: right += 1\n",
    "            if ch == \"(\":\n",
    "                left += 1\n",
    "        return left + right"
   ]
  },
  {
   "cell_type": "code",
   "execution_count": 16,
   "id": "83d0c538-ec6c-4648-83c4-3f19a1225cc2",
   "metadata": {},
   "outputs": [],
   "source": [
    "s = \")()(\""
   ]
  },
  {
   "cell_type": "code",
   "execution_count": 17,
   "id": "b29e2fc4-6be8-4d20-a63d-36602ea848b2",
   "metadata": {},
   "outputs": [
    {
     "data": {
      "text/plain": [
       "2"
      ]
     },
     "execution_count": 17,
     "metadata": {},
     "output_type": "execute_result"
    }
   ],
   "source": [
    "so = Solution()\n",
    "so.minAddToMakeValid(s)"
   ]
  },
  {
   "cell_type": "markdown",
   "id": "34a3ea46-6e0d-49cf-b5f9-d12c6df7c2d3",
   "metadata": {},
   "source": [
    "## 811. 子域名访问计数"
   ]
  },
  {
   "cell_type": "code",
   "execution_count": 38,
   "id": "c5537b22-5029-432e-b981-a1262eb00e0f",
   "metadata": {},
   "outputs": [],
   "source": [
    "from collections import defaultdict\n",
    "from typing import List\n",
    "class Solution:\n",
    "    def subdomainVisits(self, cpdomains: List[str]) -> List[str]:\n",
    "        dic = defaultdict(int)\n",
    "        for ch in cpdomains:\n",
    "            cnt, domain = int(ch.split(\" \")[0]), ch.split(\" \")[1]\n",
    "            dic[domain] += cnt\n",
    "            for i in range(len(domain)-1, -1, -1):\n",
    "                if domain[i] == \".\":\n",
    "                    dic[domain[i+1:]] += cnt\n",
    "        return [str(dic[key]) + \" \" + key for key in dic]"
   ]
  },
  {
   "cell_type": "code",
   "execution_count": 39,
   "id": "3cd9755a-34ad-45ea-88e0-b2f51e6ce98b",
   "metadata": {},
   "outputs": [],
   "source": [
    "cpdomains = [\"900 google.mail.com\", \"50 yahoo.com\", \n",
    "             \"1 intel.mail.com\", \"5 wiki.org\"]"
   ]
  },
  {
   "cell_type": "code",
   "execution_count": 40,
   "id": "d640c3ce-e3ca-409d-9cb6-5f3962fd1886",
   "metadata": {},
   "outputs": [
    {
     "data": {
      "text/plain": [
       "['900 google.mail.com',\n",
       " '951 com',\n",
       " '901 mail.com',\n",
       " '50 yahoo.com',\n",
       " '1 intel.mail.com',\n",
       " '5 wiki.org',\n",
       " '5 org']"
      ]
     },
     "execution_count": 40,
     "metadata": {},
     "output_type": "execute_result"
    }
   ],
   "source": [
    "s = Solution()\n",
    "s.subdomainVisits(cpdomains)"
   ]
  },
  {
   "cell_type": "markdown",
   "id": "6288a748-6751-4d9c-9d3d-518af25ce43f",
   "metadata": {},
   "source": [
    "## 433. 最小基因变化"
   ]
  },
  {
   "cell_type": "code",
   "execution_count": 41,
   "id": "0b859da5-ef03-4e05-95ce-c969baf3c39d",
   "metadata": {},
   "outputs": [],
   "source": [
    "# BFS暴力\n",
    "class Solution:\n",
    "    def minMutation(self, start: str, end: str, bank: List[str]) -> int:\n",
    "        bfs = collections.deque()\n",
    "        bfs.append((start, 0))\n",
    "        # bankset = set(bank)\n",
    "        while bfs:\n",
    "            gene, step = bfs.popleft()\n",
    "            if gene == end:\n",
    "                return step\n",
    "            for i in range(len(gene)):\n",
    "                for x in \"ACGT\":\n",
    "                    newGene = gene[:i] + x + gene[i+1:]\n",
    "                    if newGene in bank and newGene != gene:\n",
    "                        bfs.append((newGene, step + 1))\n",
    "                        bank.remove(newGene)\n",
    "        return -1"
   ]
  },
  {
   "cell_type": "code",
   "execution_count": null,
   "id": "e0684eb6-0eb3-4999-b5b0-d870c8988ad9",
   "metadata": {},
   "outputs": [],
   "source": []
  },
  {
   "cell_type": "code",
   "execution_count": null,
   "id": "06ff5ddc-3bcd-40e1-a4a9-048ed4f1a48a",
   "metadata": {},
   "outputs": [],
   "source": []
  },
  {
   "cell_type": "code",
   "execution_count": null,
   "id": "910cc700-25aa-48b9-9f2c-0cea25cb3b59",
   "metadata": {},
   "outputs": [],
   "source": []
  },
  {
   "cell_type": "code",
   "execution_count": null,
   "id": "bf5b0dc5-eccb-4c49-b9e0-47b66719c10e",
   "metadata": {},
   "outputs": [],
   "source": []
  },
  {
   "cell_type": "code",
   "execution_count": null,
   "id": "3c1952e2-afb7-4048-a755-5e97516f98ca",
   "metadata": {},
   "outputs": [],
   "source": []
  },
  {
   "cell_type": "code",
   "execution_count": null,
   "id": "468dc3bf-9817-46ce-bbd8-f4d0cce78cb1",
   "metadata": {},
   "outputs": [],
   "source": []
  },
  {
   "cell_type": "code",
   "execution_count": null,
   "id": "ce19c833-6f96-408b-873d-02d0c965ee37",
   "metadata": {},
   "outputs": [],
   "source": []
  },
  {
   "cell_type": "code",
   "execution_count": null,
   "id": "29227d52-4cb7-4980-986f-5d2e189db629",
   "metadata": {},
   "outputs": [],
   "source": []
  },
  {
   "cell_type": "code",
   "execution_count": null,
   "id": "8ce280c8-91f5-4fd2-8b96-dff54d51e77e",
   "metadata": {},
   "outputs": [],
   "source": []
  },
  {
   "cell_type": "code",
   "execution_count": null,
   "id": "45b3276f-d1f9-4c16-b6a5-fd995c5604cc",
   "metadata": {},
   "outputs": [],
   "source": []
  },
  {
   "cell_type": "code",
   "execution_count": null,
   "id": "dd98f494-2e1d-4df5-b7a5-6733b604e6ab",
   "metadata": {},
   "outputs": [],
   "source": []
  },
  {
   "cell_type": "code",
   "execution_count": null,
   "id": "ab4e1c0c-af77-4b62-85af-21e93b173e3f",
   "metadata": {},
   "outputs": [],
   "source": []
  },
  {
   "cell_type": "code",
   "execution_count": null,
   "id": "1ac7f8a8-390d-428c-b01e-d402a23d08a9",
   "metadata": {},
   "outputs": [],
   "source": []
  },
  {
   "cell_type": "code",
   "execution_count": null,
   "id": "2d2a0b55-aae0-40f2-b097-d7dfc664b422",
   "metadata": {},
   "outputs": [],
   "source": []
  },
  {
   "cell_type": "code",
   "execution_count": null,
   "id": "a3ef905c-93c4-4d65-9c17-eaf44844e30b",
   "metadata": {},
   "outputs": [],
   "source": []
  },
  {
   "cell_type": "code",
   "execution_count": null,
   "id": "af5758c6-eb14-4f24-aee3-819e581a8b8c",
   "metadata": {},
   "outputs": [],
   "source": []
  },
  {
   "cell_type": "code",
   "execution_count": null,
   "id": "aa8744f5-e94e-4e24-b125-98b31925285a",
   "metadata": {},
   "outputs": [],
   "source": []
  },
  {
   "cell_type": "code",
   "execution_count": null,
   "id": "40837bc5-a2dc-41ae-ae22-5e86c416a76f",
   "metadata": {},
   "outputs": [],
   "source": []
  },
  {
   "cell_type": "code",
   "execution_count": null,
   "id": "68f52e62-1669-44a9-81c8-2b5d971ea754",
   "metadata": {},
   "outputs": [],
   "source": []
  },
  {
   "cell_type": "code",
   "execution_count": null,
   "id": "a2faad82-f9f4-42b8-8c24-7718e48235dc",
   "metadata": {},
   "outputs": [],
   "source": []
  },
  {
   "cell_type": "code",
   "execution_count": null,
   "id": "d3e6d4d2-3972-4750-ad04-aa16b3747254",
   "metadata": {},
   "outputs": [],
   "source": []
  },
  {
   "cell_type": "code",
   "execution_count": null,
   "id": "9223218a-b4b6-4c9f-a264-6359bae2a04f",
   "metadata": {},
   "outputs": [],
   "source": []
  },
  {
   "cell_type": "code",
   "execution_count": null,
   "id": "ac99fc56-c4b2-4a85-8150-faa394a46d65",
   "metadata": {},
   "outputs": [],
   "source": []
  },
  {
   "cell_type": "code",
   "execution_count": null,
   "id": "d9042da5-074c-4f39-a408-9e80dbc6afa9",
   "metadata": {},
   "outputs": [],
   "source": []
  },
  {
   "cell_type": "code",
   "execution_count": null,
   "id": "f0fc8f92-f438-4109-ae62-7f4a677ec571",
   "metadata": {},
   "outputs": [],
   "source": []
  },
  {
   "cell_type": "code",
   "execution_count": null,
   "id": "50b98a17-2bab-4b80-aead-9049a38858f9",
   "metadata": {},
   "outputs": [],
   "source": []
  },
  {
   "cell_type": "code",
   "execution_count": null,
   "id": "b66054c1-be2c-4476-af52-f8a738081a75",
   "metadata": {},
   "outputs": [],
   "source": []
  },
  {
   "cell_type": "code",
   "execution_count": null,
   "id": "9a632ba0-e986-42ea-ae5b-6bb59503bddb",
   "metadata": {},
   "outputs": [],
   "source": []
  },
  {
   "cell_type": "code",
   "execution_count": null,
   "id": "d7c8028f-db82-436f-b3e7-6e78d05ed58f",
   "metadata": {},
   "outputs": [],
   "source": []
  },
  {
   "cell_type": "code",
   "execution_count": null,
   "id": "0d63298f-f37d-4442-b704-7e97833e13eb",
   "metadata": {},
   "outputs": [],
   "source": []
  },
  {
   "cell_type": "code",
   "execution_count": null,
   "id": "5a68d10d-e096-436d-9daf-60937d80c967",
   "metadata": {},
   "outputs": [],
   "source": []
  },
  {
   "cell_type": "code",
   "execution_count": null,
   "id": "898373ca-0601-47be-9f2d-89a2ec6078f0",
   "metadata": {},
   "outputs": [],
   "source": []
  },
  {
   "cell_type": "code",
   "execution_count": null,
   "id": "71835cc3-f07b-4031-8f15-5f3a7a1c0a95",
   "metadata": {},
   "outputs": [],
   "source": []
  },
  {
   "cell_type": "code",
   "execution_count": null,
   "id": "b4d41b48-66f1-45d7-8f14-c0e3c27ae55b",
   "metadata": {},
   "outputs": [],
   "source": []
  },
  {
   "cell_type": "code",
   "execution_count": null,
   "id": "486312c7-4964-4d80-8880-47f4121b3c1f",
   "metadata": {},
   "outputs": [],
   "source": []
  },
  {
   "cell_type": "code",
   "execution_count": null,
   "id": "d9e1831a-5e3b-4a82-a694-51489be6e02b",
   "metadata": {},
   "outputs": [],
   "source": []
  },
  {
   "cell_type": "code",
   "execution_count": null,
   "id": "0bd4aabc-6885-4f62-be47-a7e3e77cf8bf",
   "metadata": {},
   "outputs": [],
   "source": []
  },
  {
   "cell_type": "code",
   "execution_count": null,
   "id": "ccb0f19a-136b-44e2-81ac-f1eb880f7d0a",
   "metadata": {},
   "outputs": [],
   "source": []
  },
  {
   "cell_type": "code",
   "execution_count": null,
   "id": "64e70592-e82d-49c7-98e7-f7eeba2461b3",
   "metadata": {},
   "outputs": [],
   "source": []
  },
  {
   "cell_type": "code",
   "execution_count": null,
   "id": "0b26aba4-a6ee-47e5-957d-232c84157a3f",
   "metadata": {},
   "outputs": [],
   "source": []
  },
  {
   "cell_type": "code",
   "execution_count": null,
   "id": "690cb1ac-ddd7-4ca8-b359-4d44162c36f0",
   "metadata": {},
   "outputs": [],
   "source": []
  },
  {
   "cell_type": "code",
   "execution_count": null,
   "id": "9857fbfe-518b-4c2b-9549-a45a2b4f1d7a",
   "metadata": {},
   "outputs": [],
   "source": []
  },
  {
   "cell_type": "code",
   "execution_count": null,
   "id": "66c1d072-41c4-463f-902e-8474b9ecfd69",
   "metadata": {},
   "outputs": [],
   "source": []
  },
  {
   "cell_type": "code",
   "execution_count": null,
   "id": "f0c9808c-f776-44fd-8889-22b77ff8952f",
   "metadata": {},
   "outputs": [],
   "source": []
  },
  {
   "cell_type": "code",
   "execution_count": null,
   "id": "8289ca1e-a82e-49ba-ac41-63ef2a157742",
   "metadata": {},
   "outputs": [],
   "source": []
  },
  {
   "cell_type": "code",
   "execution_count": null,
   "id": "a9fe43d0-677d-4ccb-a9d6-ac25545536e2",
   "metadata": {},
   "outputs": [],
   "source": []
  },
  {
   "cell_type": "code",
   "execution_count": null,
   "id": "06b2be6f-3f1c-4700-bcfc-c5f305e66cd7",
   "metadata": {},
   "outputs": [],
   "source": []
  },
  {
   "cell_type": "code",
   "execution_count": null,
   "id": "fc90e75b-39bc-4214-ac18-ff4c07a27837",
   "metadata": {},
   "outputs": [],
   "source": []
  },
  {
   "cell_type": "code",
   "execution_count": null,
   "id": "b6be9dc9-04d1-4c75-b61e-edf666c2a5fb",
   "metadata": {},
   "outputs": [],
   "source": []
  },
  {
   "cell_type": "code",
   "execution_count": null,
   "id": "2e557525-6f69-4616-ba20-8aba56ce5997",
   "metadata": {},
   "outputs": [],
   "source": []
  },
  {
   "cell_type": "code",
   "execution_count": null,
   "id": "39424f3e-f1a4-4c6b-80a0-5f9ae6dc4ea8",
   "metadata": {},
   "outputs": [],
   "source": []
  },
  {
   "cell_type": "code",
   "execution_count": null,
   "id": "0decebba-9939-4898-b8d1-7c9151e6422f",
   "metadata": {},
   "outputs": [],
   "source": []
  },
  {
   "cell_type": "code",
   "execution_count": null,
   "id": "f830a51b-bdb0-4712-9141-12069abf998d",
   "metadata": {},
   "outputs": [],
   "source": []
  },
  {
   "cell_type": "code",
   "execution_count": null,
   "id": "9c6b248f-c4c6-42d4-8bf5-dde0b5c473a6",
   "metadata": {},
   "outputs": [],
   "source": []
  },
  {
   "cell_type": "code",
   "execution_count": null,
   "id": "30caedf5-ef5d-4885-b3b9-6ebc97016afc",
   "metadata": {},
   "outputs": [],
   "source": []
  },
  {
   "cell_type": "code",
   "execution_count": null,
   "id": "c273c9ad-a5d8-46a7-bf90-39dd840132af",
   "metadata": {},
   "outputs": [],
   "source": []
  },
  {
   "cell_type": "code",
   "execution_count": null,
   "id": "12c1f278-af71-4efc-adce-a6d73e5b9dde",
   "metadata": {},
   "outputs": [],
   "source": []
  },
  {
   "cell_type": "code",
   "execution_count": null,
   "id": "b68723c8-90c4-4028-9a3f-2a01c4ed7d08",
   "metadata": {},
   "outputs": [],
   "source": []
  },
  {
   "cell_type": "code",
   "execution_count": null,
   "id": "7641b12b-5ef0-46b1-b37a-4c252c209728",
   "metadata": {},
   "outputs": [],
   "source": []
  },
  {
   "cell_type": "code",
   "execution_count": null,
   "id": "42bf5ec1-4a10-452e-938d-34e3aeb46da4",
   "metadata": {},
   "outputs": [],
   "source": []
  },
  {
   "cell_type": "code",
   "execution_count": null,
   "id": "e0b3ab02-c262-4651-b7b0-9faa353a7ee6",
   "metadata": {},
   "outputs": [],
   "source": []
  },
  {
   "cell_type": "code",
   "execution_count": null,
   "id": "10d506ff-6a3a-4916-9135-fdff9365b066",
   "metadata": {},
   "outputs": [],
   "source": []
  },
  {
   "cell_type": "code",
   "execution_count": null,
   "id": "2a7e4669-30e2-437d-9983-e068a5e4f05c",
   "metadata": {},
   "outputs": [],
   "source": []
  },
  {
   "cell_type": "code",
   "execution_count": null,
   "id": "6f27abe0-56a0-4efb-8d28-f38307335c0f",
   "metadata": {},
   "outputs": [],
   "source": []
  },
  {
   "cell_type": "code",
   "execution_count": null,
   "id": "5d1f0dc8-91d7-4616-b996-3258cc837f46",
   "metadata": {},
   "outputs": [],
   "source": []
  },
  {
   "cell_type": "code",
   "execution_count": null,
   "id": "6cee63c8-1679-4c86-89a8-1f4e3ed2fb86",
   "metadata": {},
   "outputs": [],
   "source": []
  },
  {
   "cell_type": "code",
   "execution_count": null,
   "id": "5610d8a8-8a09-40cb-906b-1258c6718463",
   "metadata": {},
   "outputs": [],
   "source": []
  },
  {
   "cell_type": "code",
   "execution_count": null,
   "id": "f670fb6e-9f20-4e10-b035-21285a5887e7",
   "metadata": {},
   "outputs": [],
   "source": []
  },
  {
   "cell_type": "code",
   "execution_count": null,
   "id": "09f52ca1-5dc5-4dc6-8cf4-dc16f717fb2f",
   "metadata": {},
   "outputs": [],
   "source": []
  },
  {
   "cell_type": "code",
   "execution_count": null,
   "id": "6ba7fd68-1731-47f9-86c8-b2c80ad97dda",
   "metadata": {},
   "outputs": [],
   "source": []
  },
  {
   "cell_type": "code",
   "execution_count": null,
   "id": "a6bf55e1-95e8-4756-b52e-a59f7aee0300",
   "metadata": {},
   "outputs": [],
   "source": []
  },
  {
   "cell_type": "code",
   "execution_count": null,
   "id": "e3a44abf-dbf1-4fa5-b304-88ca8675aa06",
   "metadata": {},
   "outputs": [],
   "source": []
  },
  {
   "cell_type": "code",
   "execution_count": null,
   "id": "999da42d-e848-4493-a68f-a1b1c6c7ec4b",
   "metadata": {},
   "outputs": [],
   "source": []
  },
  {
   "cell_type": "code",
   "execution_count": null,
   "id": "da57e28c-2961-4470-bcf2-067fdc013a68",
   "metadata": {},
   "outputs": [],
   "source": []
  },
  {
   "cell_type": "code",
   "execution_count": null,
   "id": "a64ae7c1-9932-43d2-b5b7-420becae6e27",
   "metadata": {},
   "outputs": [],
   "source": []
  },
  {
   "cell_type": "code",
   "execution_count": null,
   "id": "e9b8d63f-e0bf-4147-878f-4be1824db7ac",
   "metadata": {},
   "outputs": [],
   "source": []
  },
  {
   "cell_type": "code",
   "execution_count": null,
   "id": "b90caad0-c51e-45d3-8da3-e5ad43f9894a",
   "metadata": {},
   "outputs": [],
   "source": []
  },
  {
   "cell_type": "code",
   "execution_count": null,
   "id": "fb384551-9f8a-4eaa-8220-338520886f1f",
   "metadata": {},
   "outputs": [],
   "source": []
  },
  {
   "cell_type": "code",
   "execution_count": null,
   "id": "01e80a76-21a3-4654-8171-b32f90564586",
   "metadata": {},
   "outputs": [],
   "source": []
  },
  {
   "cell_type": "code",
   "execution_count": null,
   "id": "f4a1712a-3aeb-4b63-b183-4f5d00da8e86",
   "metadata": {},
   "outputs": [],
   "source": []
  },
  {
   "cell_type": "code",
   "execution_count": null,
   "id": "21317f7c-d851-47b8-a977-3d8b15596d00",
   "metadata": {},
   "outputs": [],
   "source": []
  },
  {
   "cell_type": "code",
   "execution_count": null,
   "id": "a13b6e0d-9343-4c81-9331-8003444621df",
   "metadata": {},
   "outputs": [],
   "source": []
  },
  {
   "cell_type": "code",
   "execution_count": null,
   "id": "7b950237-fefd-48d4-a08c-a6b592d776d6",
   "metadata": {},
   "outputs": [],
   "source": []
  },
  {
   "cell_type": "code",
   "execution_count": null,
   "id": "53dc53aa-e1f1-4083-a732-cc46968a1522",
   "metadata": {},
   "outputs": [],
   "source": []
  },
  {
   "cell_type": "code",
   "execution_count": null,
   "id": "a56ad606-63a2-4c7c-a6b2-315bb25ca9af",
   "metadata": {},
   "outputs": [],
   "source": []
  },
  {
   "cell_type": "code",
   "execution_count": null,
   "id": "3e21f46f-29e7-44c1-ba28-47db96b3dd74",
   "metadata": {},
   "outputs": [],
   "source": []
  },
  {
   "cell_type": "code",
   "execution_count": null,
   "id": "7fa41068-312c-4b66-b49a-a131321f1459",
   "metadata": {},
   "outputs": [],
   "source": []
  },
  {
   "cell_type": "code",
   "execution_count": null,
   "id": "fbb8556c-1d8d-4fe5-a615-336a020b5123",
   "metadata": {},
   "outputs": [],
   "source": []
  },
  {
   "cell_type": "code",
   "execution_count": null,
   "id": "84047492-5655-4caa-b177-6c0e95303593",
   "metadata": {},
   "outputs": [],
   "source": []
  },
  {
   "cell_type": "code",
   "execution_count": null,
   "id": "2e5243bf-2123-461c-905e-9b5539763246",
   "metadata": {},
   "outputs": [],
   "source": []
  },
  {
   "cell_type": "code",
   "execution_count": null,
   "id": "caecee8a-34ba-4787-9807-103318889ce1",
   "metadata": {},
   "outputs": [],
   "source": []
  },
  {
   "cell_type": "code",
   "execution_count": null,
   "id": "8bc9e68c-00f2-44eb-aa15-3a6cb9a4085d",
   "metadata": {},
   "outputs": [],
   "source": []
  },
  {
   "cell_type": "code",
   "execution_count": null,
   "id": "e0703831-b172-4acd-8767-bcc0a02eb33f",
   "metadata": {},
   "outputs": [],
   "source": []
  },
  {
   "cell_type": "code",
   "execution_count": null,
   "id": "9da3519b-6d12-4055-a2d3-ea852abcb1c0",
   "metadata": {},
   "outputs": [],
   "source": []
  },
  {
   "cell_type": "code",
   "execution_count": null,
   "id": "0fdcf5b8-7efa-42d8-a3a8-ac77fd5b9ef8",
   "metadata": {},
   "outputs": [],
   "source": []
  },
  {
   "cell_type": "code",
   "execution_count": null,
   "id": "16da8bb7-ef7c-4a21-9ed9-eb4ad0a8fd54",
   "metadata": {},
   "outputs": [],
   "source": []
  },
  {
   "cell_type": "code",
   "execution_count": null,
   "id": "3aec5c76-8f55-40c9-8d32-28470e718d43",
   "metadata": {},
   "outputs": [],
   "source": []
  },
  {
   "cell_type": "code",
   "execution_count": null,
   "id": "9e8b67e1-d044-4128-96ee-3afa051882c0",
   "metadata": {},
   "outputs": [],
   "source": []
  },
  {
   "cell_type": "code",
   "execution_count": null,
   "id": "fa8ee7c1-0a51-4cd5-9c76-ce6936ca1e1f",
   "metadata": {},
   "outputs": [],
   "source": []
  },
  {
   "cell_type": "code",
   "execution_count": null,
   "id": "4d54e97f-deff-4f8c-86d5-a5f4461f9f70",
   "metadata": {},
   "outputs": [],
   "source": []
  },
  {
   "cell_type": "code",
   "execution_count": null,
   "id": "34ce6056-0ce9-4499-b657-5d77fc491ec6",
   "metadata": {},
   "outputs": [],
   "source": []
  },
  {
   "cell_type": "code",
   "execution_count": null,
   "id": "e9767a27-321a-4520-b41b-3441432f584c",
   "metadata": {},
   "outputs": [],
   "source": []
  },
  {
   "cell_type": "code",
   "execution_count": null,
   "id": "c75e634d-d9c0-4c80-baee-8044800f6fa4",
   "metadata": {},
   "outputs": [],
   "source": []
  },
  {
   "cell_type": "code",
   "execution_count": null,
   "id": "dfba9d20-fb65-42b7-b047-f87132b48f22",
   "metadata": {},
   "outputs": [],
   "source": []
  },
  {
   "cell_type": "code",
   "execution_count": null,
   "id": "441f78ac-b3c7-4dfc-8dfd-69a73d789272",
   "metadata": {},
   "outputs": [],
   "source": []
  },
  {
   "cell_type": "code",
   "execution_count": null,
   "id": "57bf1092-8f4f-4d37-a4d5-4d6240bab6af",
   "metadata": {},
   "outputs": [],
   "source": []
  },
  {
   "cell_type": "code",
   "execution_count": null,
   "id": "5e8e26b0-a77f-47bd-a425-3defbe80dc1f",
   "metadata": {},
   "outputs": [],
   "source": []
  },
  {
   "cell_type": "code",
   "execution_count": null,
   "id": "14cc0d9f-2c67-4bd0-8699-81e44a70405b",
   "metadata": {},
   "outputs": [],
   "source": []
  },
  {
   "cell_type": "code",
   "execution_count": null,
   "id": "37601109-6129-4d04-ad16-877dcdad2af4",
   "metadata": {},
   "outputs": [],
   "source": []
  },
  {
   "cell_type": "code",
   "execution_count": null,
   "id": "b0622a3a-8e04-4b5a-9475-7e77826d6bf0",
   "metadata": {},
   "outputs": [],
   "source": []
  },
  {
   "cell_type": "code",
   "execution_count": null,
   "id": "9933659a-b7c3-495f-a90b-cc05d15d3b90",
   "metadata": {},
   "outputs": [],
   "source": []
  },
  {
   "cell_type": "code",
   "execution_count": null,
   "id": "916f6ce2-8a62-4a3f-9edf-2be62b5f5185",
   "metadata": {},
   "outputs": [],
   "source": []
  },
  {
   "cell_type": "code",
   "execution_count": null,
   "id": "bf366686-8106-4c56-a3ef-073856d2d129",
   "metadata": {},
   "outputs": [],
   "source": []
  },
  {
   "cell_type": "code",
   "execution_count": null,
   "id": "38e5749a-fb1d-4de8-8a04-322d5bbe8aa7",
   "metadata": {},
   "outputs": [],
   "source": []
  },
  {
   "cell_type": "code",
   "execution_count": null,
   "id": "1967e23e-dd0c-4020-b814-a085e387f5c8",
   "metadata": {},
   "outputs": [],
   "source": []
  },
  {
   "cell_type": "code",
   "execution_count": null,
   "id": "053f4348-7e75-4a45-963e-9b14ffca976f",
   "metadata": {},
   "outputs": [],
   "source": []
  },
  {
   "cell_type": "code",
   "execution_count": null,
   "id": "2873e4d5-208e-49b6-ad48-623135a97c18",
   "metadata": {},
   "outputs": [],
   "source": []
  },
  {
   "cell_type": "code",
   "execution_count": null,
   "id": "ac2ce787-4a53-42cb-a6d9-8241bfd56ffa",
   "metadata": {},
   "outputs": [],
   "source": []
  },
  {
   "cell_type": "code",
   "execution_count": null,
   "id": "911f8926-f9d6-45d2-9d8d-7819828fa2b5",
   "metadata": {},
   "outputs": [],
   "source": []
  },
  {
   "cell_type": "code",
   "execution_count": null,
   "id": "a092c5f2-bbd9-4499-8e2b-f170644f507a",
   "metadata": {},
   "outputs": [],
   "source": []
  },
  {
   "cell_type": "code",
   "execution_count": null,
   "id": "d2819e81-6669-4b2e-aa83-3b7397ccb41e",
   "metadata": {},
   "outputs": [],
   "source": []
  },
  {
   "cell_type": "code",
   "execution_count": null,
   "id": "fffcf97f-ba60-4cda-8291-946bcc45ddca",
   "metadata": {},
   "outputs": [],
   "source": []
  },
  {
   "cell_type": "code",
   "execution_count": null,
   "id": "58b44ae5-e0ec-412d-a4c8-cfa32b3cca92",
   "metadata": {},
   "outputs": [],
   "source": []
  },
  {
   "cell_type": "code",
   "execution_count": null,
   "id": "e7138b75-2a20-4e29-a463-f1a6a6cc3a14",
   "metadata": {},
   "outputs": [],
   "source": []
  },
  {
   "cell_type": "code",
   "execution_count": null,
   "id": "f104fb08-eb59-4ab2-b435-0a2e589ef456",
   "metadata": {},
   "outputs": [],
   "source": []
  },
  {
   "cell_type": "code",
   "execution_count": null,
   "id": "daf92a38-93b5-476a-8e63-0192fbf0ec19",
   "metadata": {},
   "outputs": [],
   "source": []
  },
  {
   "cell_type": "code",
   "execution_count": null,
   "id": "7b7d6bfb-e1c7-44c7-9b28-18c77265c611",
   "metadata": {},
   "outputs": [],
   "source": []
  },
  {
   "cell_type": "code",
   "execution_count": null,
   "id": "e2dcd134-68e7-4b10-a280-6e9796976cce",
   "metadata": {},
   "outputs": [],
   "source": []
  },
  {
   "cell_type": "code",
   "execution_count": null,
   "id": "f49ea1ae-a763-4c68-85f4-223ca7af7869",
   "metadata": {},
   "outputs": [],
   "source": []
  },
  {
   "cell_type": "code",
   "execution_count": null,
   "id": "3971944b-99eb-49a7-ad9c-521a41d7de7a",
   "metadata": {},
   "outputs": [],
   "source": []
  },
  {
   "cell_type": "code",
   "execution_count": null,
   "id": "c4ba12a3-2300-457a-9d0e-8cccaa107a6c",
   "metadata": {},
   "outputs": [],
   "source": []
  },
  {
   "cell_type": "code",
   "execution_count": null,
   "id": "84b2e0fd-6071-4f21-9304-ae4511a6b776",
   "metadata": {},
   "outputs": [],
   "source": []
  },
  {
   "cell_type": "code",
   "execution_count": null,
   "id": "df02a3e2-0e3f-4afb-a4e7-bcfb18ddc3c4",
   "metadata": {},
   "outputs": [],
   "source": []
  },
  {
   "cell_type": "code",
   "execution_count": null,
   "id": "34b8b6a7-ba80-4a87-a248-bd271b5e1cb3",
   "metadata": {},
   "outputs": [],
   "source": []
  },
  {
   "cell_type": "code",
   "execution_count": null,
   "id": "e8b21baa-ffa4-436f-89d7-9013500c8ad2",
   "metadata": {},
   "outputs": [],
   "source": []
  },
  {
   "cell_type": "code",
   "execution_count": null,
   "id": "14c5a12b-efbe-4bf5-959a-55510fd7547f",
   "metadata": {},
   "outputs": [],
   "source": []
  },
  {
   "cell_type": "code",
   "execution_count": null,
   "id": "7ed96952-6789-4a77-af31-37eaab3a047f",
   "metadata": {},
   "outputs": [],
   "source": []
  },
  {
   "cell_type": "code",
   "execution_count": null,
   "id": "6089a694-9690-49a2-a767-d5b6a70d5c0c",
   "metadata": {},
   "outputs": [],
   "source": []
  },
  {
   "cell_type": "code",
   "execution_count": null,
   "id": "f7048fd2-6b4e-42df-9551-9a3647691ba6",
   "metadata": {},
   "outputs": [],
   "source": []
  },
  {
   "cell_type": "code",
   "execution_count": null,
   "id": "6b5a8a39-1540-45ed-bd74-a952efa16f2b",
   "metadata": {},
   "outputs": [],
   "source": []
  },
  {
   "cell_type": "code",
   "execution_count": null,
   "id": "c22a6b91-3849-4546-8311-8a018f88b9a2",
   "metadata": {},
   "outputs": [],
   "source": []
  },
  {
   "cell_type": "code",
   "execution_count": null,
   "id": "596024a6-aa8f-4d03-907d-ee286bfb6b1c",
   "metadata": {},
   "outputs": [],
   "source": []
  },
  {
   "cell_type": "code",
   "execution_count": null,
   "id": "2b8f40b0-03e0-4b29-9c73-679f14470e8b",
   "metadata": {},
   "outputs": [],
   "source": []
  },
  {
   "cell_type": "code",
   "execution_count": null,
   "id": "9109796c-eab4-49bb-af18-8babd8318f97",
   "metadata": {},
   "outputs": [],
   "source": []
  },
  {
   "cell_type": "code",
   "execution_count": null,
   "id": "e32de58a-b2d4-43ab-9abe-74e80ec9f06b",
   "metadata": {},
   "outputs": [],
   "source": []
  },
  {
   "cell_type": "code",
   "execution_count": null,
   "id": "babf48a4-7fec-454a-bec0-2521bd8f9463",
   "metadata": {},
   "outputs": [],
   "source": []
  },
  {
   "cell_type": "code",
   "execution_count": null,
   "id": "068be93d-9250-4bb6-b128-06d08f241d07",
   "metadata": {},
   "outputs": [],
   "source": []
  },
  {
   "cell_type": "code",
   "execution_count": null,
   "id": "1d47b316-f9c0-4f15-b4a4-44c10b621f92",
   "metadata": {},
   "outputs": [],
   "source": []
  },
  {
   "cell_type": "code",
   "execution_count": null,
   "id": "cd3bac54-b575-4279-af32-66904b777a3e",
   "metadata": {},
   "outputs": [],
   "source": []
  },
  {
   "cell_type": "code",
   "execution_count": null,
   "id": "886da05c-dca1-4423-b8b7-659658e85fee",
   "metadata": {},
   "outputs": [],
   "source": []
  },
  {
   "cell_type": "code",
   "execution_count": null,
   "id": "4844b5c7-c01e-41b0-a2b0-c3e2ded16d54",
   "metadata": {},
   "outputs": [],
   "source": []
  },
  {
   "cell_type": "code",
   "execution_count": null,
   "id": "f3b92adb-ef82-4f9f-9fb8-ed1debbaa240",
   "metadata": {},
   "outputs": [],
   "source": []
  },
  {
   "cell_type": "code",
   "execution_count": null,
   "id": "2907ee39-8f7d-40a3-bc91-c77895135621",
   "metadata": {},
   "outputs": [],
   "source": []
  },
  {
   "cell_type": "code",
   "execution_count": null,
   "id": "7d02330d-2c5a-47a0-8d4f-7b30da502128",
   "metadata": {},
   "outputs": [],
   "source": []
  },
  {
   "cell_type": "code",
   "execution_count": null,
   "id": "19d4a466-6f9f-4a45-8c4a-821a8509334c",
   "metadata": {},
   "outputs": [],
   "source": []
  },
  {
   "cell_type": "code",
   "execution_count": null,
   "id": "3a76308b-4bc0-4c3e-bd9e-49c1eb5e0c61",
   "metadata": {},
   "outputs": [],
   "source": []
  },
  {
   "cell_type": "code",
   "execution_count": null,
   "id": "b0b227cb-09b4-435f-9710-f45a4350d629",
   "metadata": {},
   "outputs": [],
   "source": []
  },
  {
   "cell_type": "code",
   "execution_count": null,
   "id": "c40f9b82-7f67-4b90-8b17-0e73c01554a8",
   "metadata": {},
   "outputs": [],
   "source": []
  },
  {
   "cell_type": "code",
   "execution_count": null,
   "id": "e1a5c2f6-4f43-40a2-ba4d-e22fc36aa9e1",
   "metadata": {},
   "outputs": [],
   "source": []
  },
  {
   "cell_type": "code",
   "execution_count": null,
   "id": "4f93299b-55ce-4a7e-9da9-84ab6c8138d4",
   "metadata": {},
   "outputs": [],
   "source": []
  },
  {
   "cell_type": "code",
   "execution_count": null,
   "id": "2af95f86-82e6-4436-9dc0-05266fe25d01",
   "metadata": {},
   "outputs": [],
   "source": []
  },
  {
   "cell_type": "code",
   "execution_count": null,
   "id": "a7fa1296-8588-4cb9-8709-a59acb4375cd",
   "metadata": {},
   "outputs": [],
   "source": []
  },
  {
   "cell_type": "code",
   "execution_count": null,
   "id": "3b59ddf2-b209-409f-9fa5-dd482e427292",
   "metadata": {},
   "outputs": [],
   "source": []
  },
  {
   "cell_type": "code",
   "execution_count": null,
   "id": "8425ae41-43b5-42d9-b522-2d4276ae289e",
   "metadata": {},
   "outputs": [],
   "source": []
  },
  {
   "cell_type": "code",
   "execution_count": null,
   "id": "f91a00de-1ffc-4318-abc2-c643e27d8c43",
   "metadata": {},
   "outputs": [],
   "source": []
  },
  {
   "cell_type": "code",
   "execution_count": null,
   "id": "32d4efa1-fea1-4c76-80ae-f3b584145456",
   "metadata": {},
   "outputs": [],
   "source": []
  },
  {
   "cell_type": "code",
   "execution_count": null,
   "id": "f6ea0d11-04f3-4465-814f-73da75fd6e55",
   "metadata": {},
   "outputs": [],
   "source": []
  },
  {
   "cell_type": "code",
   "execution_count": null,
   "id": "c7c2f30b-40a2-47dd-9928-b37b38249695",
   "metadata": {},
   "outputs": [],
   "source": []
  },
  {
   "cell_type": "code",
   "execution_count": null,
   "id": "5ac2399e-d3c4-410f-a44b-28a3f683405f",
   "metadata": {},
   "outputs": [],
   "source": []
  },
  {
   "cell_type": "code",
   "execution_count": null,
   "id": "167c58ae-2476-482b-962a-d017a6557799",
   "metadata": {},
   "outputs": [],
   "source": []
  },
  {
   "cell_type": "code",
   "execution_count": null,
   "id": "8030063a-b819-4ebd-b4ae-dca80865b377",
   "metadata": {},
   "outputs": [],
   "source": []
  },
  {
   "cell_type": "code",
   "execution_count": null,
   "id": "706bbf39-86f0-4532-a101-880f1408c538",
   "metadata": {},
   "outputs": [],
   "source": []
  },
  {
   "cell_type": "code",
   "execution_count": null,
   "id": "eff2555a-58ee-4ad9-9336-5cdb0989c182",
   "metadata": {},
   "outputs": [],
   "source": []
  },
  {
   "cell_type": "code",
   "execution_count": null,
   "id": "4a1aef9e-ebc2-4cde-82f2-f8bdcaeec50d",
   "metadata": {},
   "outputs": [],
   "source": []
  },
  {
   "cell_type": "code",
   "execution_count": null,
   "id": "487c284c-84d1-493e-aae6-f0efcdf94656",
   "metadata": {},
   "outputs": [],
   "source": []
  },
  {
   "cell_type": "code",
   "execution_count": null,
   "id": "575ecabe-8cb0-4284-99ef-9c33ffa0b9d5",
   "metadata": {},
   "outputs": [],
   "source": []
  },
  {
   "cell_type": "code",
   "execution_count": null,
   "id": "8de83330-27b3-48fb-8787-61fd52bb58a2",
   "metadata": {},
   "outputs": [],
   "source": []
  },
  {
   "cell_type": "code",
   "execution_count": null,
   "id": "301a5b16-b603-43e2-beff-fdf39c8850a5",
   "metadata": {},
   "outputs": [],
   "source": []
  },
  {
   "cell_type": "code",
   "execution_count": null,
   "id": "eb42dc78-3ebe-4408-b8eb-399693d1b846",
   "metadata": {},
   "outputs": [],
   "source": []
  },
  {
   "cell_type": "code",
   "execution_count": null,
   "id": "e60ccef4-7247-4cf5-a174-8f289422fc1d",
   "metadata": {},
   "outputs": [],
   "source": []
  },
  {
   "cell_type": "code",
   "execution_count": null,
   "id": "2ec15846-1857-40c7-a70b-4f3087e63658",
   "metadata": {},
   "outputs": [],
   "source": []
  },
  {
   "cell_type": "code",
   "execution_count": null,
   "id": "5c60118c-0dbc-4f72-9330-300e96a79322",
   "metadata": {},
   "outputs": [],
   "source": []
  },
  {
   "cell_type": "code",
   "execution_count": null,
   "id": "3e24b738-9fb4-4169-8263-755d3933e99e",
   "metadata": {},
   "outputs": [],
   "source": []
  },
  {
   "cell_type": "code",
   "execution_count": null,
   "id": "989b47b4-1636-421a-a92b-fbed32e14c0c",
   "metadata": {},
   "outputs": [],
   "source": []
  },
  {
   "cell_type": "code",
   "execution_count": null,
   "id": "f72cbe9e-f813-4525-a896-83303b05b22f",
   "metadata": {},
   "outputs": [],
   "source": []
  },
  {
   "cell_type": "code",
   "execution_count": null,
   "id": "73a4eee1-8310-4e79-a500-d2b5c769e4a5",
   "metadata": {},
   "outputs": [],
   "source": []
  },
  {
   "cell_type": "code",
   "execution_count": null,
   "id": "e1671fdf-3676-4653-a017-8b2de60ae04d",
   "metadata": {},
   "outputs": [],
   "source": []
  },
  {
   "cell_type": "code",
   "execution_count": null,
   "id": "d8240f21-5e3f-478d-89c0-08f643cc4312",
   "metadata": {},
   "outputs": [],
   "source": []
  },
  {
   "cell_type": "code",
   "execution_count": null,
   "id": "120f29cf-094a-4c18-89a4-78590c0260e4",
   "metadata": {},
   "outputs": [],
   "source": []
  },
  {
   "cell_type": "code",
   "execution_count": null,
   "id": "cb06788b-d0c8-4a59-a749-29cd403873d6",
   "metadata": {},
   "outputs": [],
   "source": []
  },
  {
   "cell_type": "code",
   "execution_count": null,
   "id": "56c2ad34-7ea7-430e-87e2-76bd11565426",
   "metadata": {},
   "outputs": [],
   "source": []
  },
  {
   "cell_type": "code",
   "execution_count": null,
   "id": "0a92cd3a-5200-4759-9d1f-2ea12fdfe702",
   "metadata": {},
   "outputs": [],
   "source": []
  },
  {
   "cell_type": "code",
   "execution_count": null,
   "id": "91dd2a3c-1e48-470c-a52a-1ef393969bce",
   "metadata": {},
   "outputs": [],
   "source": []
  },
  {
   "cell_type": "code",
   "execution_count": null,
   "id": "f4bd5e72-bdaa-4252-a66e-ad643d1a360a",
   "metadata": {},
   "outputs": [],
   "source": []
  },
  {
   "cell_type": "code",
   "execution_count": null,
   "id": "004dd0bf-3145-40b0-a2d7-13f7b0808f17",
   "metadata": {},
   "outputs": [],
   "source": []
  },
  {
   "cell_type": "code",
   "execution_count": null,
   "id": "e6171791-5d64-418d-9b9e-be42758ec272",
   "metadata": {},
   "outputs": [],
   "source": []
  },
  {
   "cell_type": "code",
   "execution_count": null,
   "id": "de938267-3ccc-4f58-b8e3-94896e270d68",
   "metadata": {},
   "outputs": [],
   "source": []
  },
  {
   "cell_type": "code",
   "execution_count": null,
   "id": "6d41e445-1b99-4135-be46-ba91f8b5cd1c",
   "metadata": {},
   "outputs": [],
   "source": []
  },
  {
   "cell_type": "code",
   "execution_count": null,
   "id": "19ad2517-e558-46bf-b4e0-b37cba31aba9",
   "metadata": {},
   "outputs": [],
   "source": []
  },
  {
   "cell_type": "code",
   "execution_count": null,
   "id": "b03f4439-b433-4037-a888-6495a41fa2a6",
   "metadata": {},
   "outputs": [],
   "source": []
  },
  {
   "cell_type": "code",
   "execution_count": null,
   "id": "e89ed093-0b82-42a9-a199-2a4b2f2fb06d",
   "metadata": {},
   "outputs": [],
   "source": []
  },
  {
   "cell_type": "code",
   "execution_count": null,
   "id": "622055f3-9c54-4672-9b39-c767beff9c61",
   "metadata": {},
   "outputs": [],
   "source": []
  },
  {
   "cell_type": "code",
   "execution_count": null,
   "id": "3073daca-4f7a-4432-b43a-562a4ce21ec4",
   "metadata": {},
   "outputs": [],
   "source": []
  },
  {
   "cell_type": "code",
   "execution_count": null,
   "id": "00395893-4f85-4f68-a60b-24b6190e9647",
   "metadata": {},
   "outputs": [],
   "source": []
  },
  {
   "cell_type": "code",
   "execution_count": null,
   "id": "86cb0efe-da25-4da5-9a07-a322182ea719",
   "metadata": {},
   "outputs": [],
   "source": []
  },
  {
   "cell_type": "code",
   "execution_count": null,
   "id": "daf7862d-0271-4622-b36c-18c9f961f91a",
   "metadata": {},
   "outputs": [],
   "source": []
  },
  {
   "cell_type": "code",
   "execution_count": null,
   "id": "4b026602-00d9-41f4-a16e-df4b8f63471a",
   "metadata": {},
   "outputs": [],
   "source": []
  },
  {
   "cell_type": "code",
   "execution_count": null,
   "id": "7581c481-909e-4961-ad87-47dcffb14d1c",
   "metadata": {},
   "outputs": [],
   "source": []
  },
  {
   "cell_type": "code",
   "execution_count": null,
   "id": "28b874d1-d775-4876-b73f-94df8faf8ab0",
   "metadata": {},
   "outputs": [],
   "source": []
  },
  {
   "cell_type": "code",
   "execution_count": null,
   "id": "dc8593c9-31e9-4869-aad8-9de7f42071aa",
   "metadata": {},
   "outputs": [],
   "source": []
  },
  {
   "cell_type": "code",
   "execution_count": null,
   "id": "064d8674-7c7e-456b-8682-9299953575c2",
   "metadata": {},
   "outputs": [],
   "source": []
  },
  {
   "cell_type": "code",
   "execution_count": null,
   "id": "6cfa274b-d5ee-46a9-86d6-ee92c318ef75",
   "metadata": {},
   "outputs": [],
   "source": []
  },
  {
   "cell_type": "code",
   "execution_count": null,
   "id": "eb8e600d-d298-49ef-ae11-6db66de75a4a",
   "metadata": {},
   "outputs": [],
   "source": []
  },
  {
   "cell_type": "code",
   "execution_count": null,
   "id": "f3610a54-89b8-49a7-b14a-621d52091808",
   "metadata": {},
   "outputs": [],
   "source": []
  },
  {
   "cell_type": "code",
   "execution_count": null,
   "id": "408c0534-8e6d-42c2-8ac5-2f9c936d1d1c",
   "metadata": {},
   "outputs": [],
   "source": []
  },
  {
   "cell_type": "code",
   "execution_count": null,
   "id": "63d44c2f-1d92-4bf6-b199-0acaf0c7430f",
   "metadata": {},
   "outputs": [],
   "source": []
  },
  {
   "cell_type": "code",
   "execution_count": null,
   "id": "b9ac87ec-08d2-49eb-b092-2053dd9e08ca",
   "metadata": {},
   "outputs": [],
   "source": []
  },
  {
   "cell_type": "code",
   "execution_count": null,
   "id": "42762ab9-ae7b-4858-beb1-23accd320fbd",
   "metadata": {},
   "outputs": [],
   "source": []
  },
  {
   "cell_type": "code",
   "execution_count": null,
   "id": "d581eee4-2153-49c5-9c35-e50460bbc931",
   "metadata": {},
   "outputs": [],
   "source": []
  },
  {
   "cell_type": "code",
   "execution_count": null,
   "id": "ed70b108-c486-4668-b04b-569d3b0517ad",
   "metadata": {},
   "outputs": [],
   "source": []
  },
  {
   "cell_type": "code",
   "execution_count": null,
   "id": "67fdecb0-c98a-45f3-bffc-1ae0e50d21b5",
   "metadata": {},
   "outputs": [],
   "source": []
  },
  {
   "cell_type": "code",
   "execution_count": null,
   "id": "526548e2-ef9a-4e75-b096-00dae4866644",
   "metadata": {},
   "outputs": [],
   "source": []
  },
  {
   "cell_type": "code",
   "execution_count": null,
   "id": "e83e02f9-9a71-4cd1-b6d0-58dc8bad6e90",
   "metadata": {},
   "outputs": [],
   "source": []
  },
  {
   "cell_type": "code",
   "execution_count": null,
   "id": "a4f7b285-555c-489a-bb64-cc1d01d30f4a",
   "metadata": {},
   "outputs": [],
   "source": []
  },
  {
   "cell_type": "code",
   "execution_count": null,
   "id": "37d5a4f5-736b-416e-883e-86e9ff07deba",
   "metadata": {},
   "outputs": [],
   "source": []
  },
  {
   "cell_type": "code",
   "execution_count": null,
   "id": "feb62533-4db0-47d6-8cc8-beed091cfd29",
   "metadata": {},
   "outputs": [],
   "source": []
  },
  {
   "cell_type": "code",
   "execution_count": null,
   "id": "6b6f8585-2175-465b-b1d4-965f1056f2ce",
   "metadata": {},
   "outputs": [],
   "source": []
  },
  {
   "cell_type": "code",
   "execution_count": null,
   "id": "59e231e0-5ef5-496e-945c-8a5776e85ce9",
   "metadata": {},
   "outputs": [],
   "source": []
  },
  {
   "cell_type": "code",
   "execution_count": null,
   "id": "f39bd1f7-b743-4901-91fb-f303c5745d20",
   "metadata": {},
   "outputs": [],
   "source": []
  },
  {
   "cell_type": "code",
   "execution_count": null,
   "id": "1cd5e6c2-6097-4d20-8c97-5011cd75d7ea",
   "metadata": {},
   "outputs": [],
   "source": []
  },
  {
   "cell_type": "code",
   "execution_count": null,
   "id": "3bf6ba39-b37c-4050-82d7-48e8fe7639c8",
   "metadata": {},
   "outputs": [],
   "source": []
  },
  {
   "cell_type": "code",
   "execution_count": null,
   "id": "7d2c6c8d-fe80-4360-9628-88b27a950eb4",
   "metadata": {},
   "outputs": [],
   "source": []
  },
  {
   "cell_type": "code",
   "execution_count": null,
   "id": "5cd00879-512a-4e5f-848c-7a9055483a18",
   "metadata": {},
   "outputs": [],
   "source": []
  },
  {
   "cell_type": "code",
   "execution_count": null,
   "id": "4977b604-ce4a-4449-8014-c02cfc291531",
   "metadata": {},
   "outputs": [],
   "source": []
  },
  {
   "cell_type": "code",
   "execution_count": null,
   "id": "d6ab9dda-a3cc-4314-b97c-ab9e05a323b3",
   "metadata": {},
   "outputs": [],
   "source": []
  },
  {
   "cell_type": "code",
   "execution_count": null,
   "id": "ec1641a5-2766-40ce-9b2b-2eb84d2894f4",
   "metadata": {},
   "outputs": [],
   "source": []
  },
  {
   "cell_type": "code",
   "execution_count": null,
   "id": "7b160900-5eb5-4b32-987e-ee9ba65893c9",
   "metadata": {},
   "outputs": [],
   "source": []
  },
  {
   "cell_type": "code",
   "execution_count": null,
   "id": "dda7bf07-71d0-4737-bee4-9da0bae91691",
   "metadata": {},
   "outputs": [],
   "source": []
  },
  {
   "cell_type": "code",
   "execution_count": null,
   "id": "7da264a2-53bf-4e6d-bf41-ad4d28ece964",
   "metadata": {},
   "outputs": [],
   "source": []
  },
  {
   "cell_type": "code",
   "execution_count": null,
   "id": "4fcd4ca2-dd35-4ea8-b09c-9a357a85378a",
   "metadata": {},
   "outputs": [],
   "source": []
  },
  {
   "cell_type": "code",
   "execution_count": null,
   "id": "52e4a3cc-76d8-439c-9ac7-2c432a5f735a",
   "metadata": {},
   "outputs": [],
   "source": []
  },
  {
   "cell_type": "code",
   "execution_count": null,
   "id": "3ed03267-3d57-4166-b18d-e6a84bdcae07",
   "metadata": {},
   "outputs": [],
   "source": []
  },
  {
   "cell_type": "code",
   "execution_count": null,
   "id": "1e491a23-6141-4e94-a677-4ceafd81e002",
   "metadata": {},
   "outputs": [],
   "source": []
  },
  {
   "cell_type": "code",
   "execution_count": null,
   "id": "c2b87c80-8f93-4226-9afd-acf6d7cf93a6",
   "metadata": {},
   "outputs": [],
   "source": []
  },
  {
   "cell_type": "code",
   "execution_count": null,
   "id": "98a24fcc-e925-4d37-a470-488fe21c8913",
   "metadata": {},
   "outputs": [],
   "source": []
  },
  {
   "cell_type": "code",
   "execution_count": null,
   "id": "760c4e03-2c05-4651-899a-3ae4822b3cbd",
   "metadata": {},
   "outputs": [],
   "source": []
  },
  {
   "cell_type": "code",
   "execution_count": null,
   "id": "fe0e8f20-8d2e-41e2-b2d0-919ce4a0d09a",
   "metadata": {},
   "outputs": [],
   "source": []
  },
  {
   "cell_type": "code",
   "execution_count": null,
   "id": "f77cc771-2a24-4f99-9736-d251cd4bf326",
   "metadata": {},
   "outputs": [],
   "source": []
  },
  {
   "cell_type": "code",
   "execution_count": null,
   "id": "3adace38-5bf0-4bfd-ac5f-31ed79f07814",
   "metadata": {},
   "outputs": [],
   "source": []
  },
  {
   "cell_type": "code",
   "execution_count": null,
   "id": "302ecb3f-8a3c-4965-aa7e-3f0fbda74b91",
   "metadata": {},
   "outputs": [],
   "source": []
  },
  {
   "cell_type": "code",
   "execution_count": null,
   "id": "6dbd34a1-7f71-437e-a456-e143c94b7383",
   "metadata": {},
   "outputs": [],
   "source": []
  },
  {
   "cell_type": "code",
   "execution_count": null,
   "id": "4a252d95-1b53-4fb4-91c3-fb471e150d93",
   "metadata": {},
   "outputs": [],
   "source": []
  },
  {
   "cell_type": "code",
   "execution_count": null,
   "id": "3bf58380-7690-462e-b7bf-c1c529bfa144",
   "metadata": {},
   "outputs": [],
   "source": []
  },
  {
   "cell_type": "code",
   "execution_count": null,
   "id": "b40c4ca3-da29-4e4b-a9ee-af34a7919dcd",
   "metadata": {},
   "outputs": [],
   "source": []
  },
  {
   "cell_type": "code",
   "execution_count": null,
   "id": "401412cd-96de-4054-b69c-64692b85a272",
   "metadata": {},
   "outputs": [],
   "source": []
  },
  {
   "cell_type": "code",
   "execution_count": null,
   "id": "58c739d3-a2fc-4841-812c-0ab37b01c90d",
   "metadata": {},
   "outputs": [],
   "source": []
  },
  {
   "cell_type": "code",
   "execution_count": null,
   "id": "d400210a-a67c-4b5b-b75e-a1c80007dcd3",
   "metadata": {},
   "outputs": [],
   "source": []
  },
  {
   "cell_type": "code",
   "execution_count": null,
   "id": "f7c483f8-c431-4074-af41-b4dcaf743468",
   "metadata": {},
   "outputs": [],
   "source": []
  },
  {
   "cell_type": "code",
   "execution_count": null,
   "id": "951631ce-fce5-4015-9071-e0fe9184ad78",
   "metadata": {},
   "outputs": [],
   "source": []
  },
  {
   "cell_type": "code",
   "execution_count": null,
   "id": "4d3d3fc6-0f5a-4797-98db-316965add31b",
   "metadata": {},
   "outputs": [],
   "source": []
  },
  {
   "cell_type": "code",
   "execution_count": null,
   "id": "7a155f39-4c9c-41cf-93c6-d4067a1f6083",
   "metadata": {},
   "outputs": [],
   "source": []
  },
  {
   "cell_type": "code",
   "execution_count": null,
   "id": "b6aea0c9-9d08-4895-b09e-8f7aef09243a",
   "metadata": {},
   "outputs": [],
   "source": []
  }
 ],
 "metadata": {
  "kernelspec": {
   "display_name": "Python 3 (ipykernel)",
   "language": "python",
   "name": "python3"
  },
  "language_info": {
   "codemirror_mode": {
    "name": "ipython",
    "version": 3
   },
   "file_extension": ".py",
   "mimetype": "text/x-python",
   "name": "python",
   "nbconvert_exporter": "python",
   "pygments_lexer": "ipython3",
   "version": "3.6.3"
  }
 },
 "nbformat": 4,
 "nbformat_minor": 5
}
